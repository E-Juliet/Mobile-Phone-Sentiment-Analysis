{
  "nbformat": 4,
  "nbformat_minor": 0,
  "metadata": {
    "colab": {
      "provenance": [],
      "collapsed_sections": [],
      "toc_visible": true,
      "include_colab_link": true
    },
    "kernelspec": {
      "name": "python3",
      "display_name": "Python 3"
    },
    "language_info": {
      "name": "python"
    },
    "gpuClass": "standard",
    "widgets": {
      "application/vnd.jupyter.widget-state+json": {
        "8da5ecccc374444795eefaaaeb32454f": {
          "model_module": "@jupyter-widgets/controls",
          "model_name": "HBoxModel",
          "model_module_version": "1.5.0",
          "state": {
            "_dom_classes": [],
            "_model_module": "@jupyter-widgets/controls",
            "_model_module_version": "1.5.0",
            "_model_name": "HBoxModel",
            "_view_count": null,
            "_view_module": "@jupyter-widgets/controls",
            "_view_module_version": "1.5.0",
            "_view_name": "HBoxView",
            "box_style": "",
            "children": [
              "IPY_MODEL_eba75100a960478dab2efff6f046da3d",
              "IPY_MODEL_a1a8d0dab5264b00be0fff59f33243c5",
              "IPY_MODEL_331f5354dfef497185f1947db129edf9"
            ],
            "layout": "IPY_MODEL_240c39bc67a24d8a9e9159a8fb534ad7"
          }
        },
        "eba75100a960478dab2efff6f046da3d": {
          "model_module": "@jupyter-widgets/controls",
          "model_name": "HTMLModel",
          "model_module_version": "1.5.0",
          "state": {
            "_dom_classes": [],
            "_model_module": "@jupyter-widgets/controls",
            "_model_module_version": "1.5.0",
            "_model_name": "HTMLModel",
            "_view_count": null,
            "_view_module": "@jupyter-widgets/controls",
            "_view_module_version": "1.5.0",
            "_view_name": "HTMLView",
            "description": "",
            "description_tooltip": null,
            "layout": "IPY_MODEL_0c2eed056c2b4d3c9ecef4f9e8638e07",
            "placeholder": "​",
            "style": "IPY_MODEL_89488efeebfb4a5aa9adef4e7dc570be",
            "value": " 20%"
          }
        },
        "a1a8d0dab5264b00be0fff59f33243c5": {
          "model_module": "@jupyter-widgets/controls",
          "model_name": "FloatProgressModel",
          "model_module_version": "1.5.0",
          "state": {
            "_dom_classes": [],
            "_model_module": "@jupyter-widgets/controls",
            "_model_module_version": "1.5.0",
            "_model_name": "FloatProgressModel",
            "_view_count": null,
            "_view_module": "@jupyter-widgets/controls",
            "_view_module_version": "1.5.0",
            "_view_name": "ProgressView",
            "bar_style": "danger",
            "description": "",
            "description_tooltip": null,
            "layout": "IPY_MODEL_35f659efb70f446c8ed53c9553dedaf2",
            "max": 9156,
            "min": 0,
            "orientation": "horizontal",
            "style": "IPY_MODEL_cf0f68951acf44a2b481e74ad35a638e",
            "value": 1825
          }
        },
        "331f5354dfef497185f1947db129edf9": {
          "model_module": "@jupyter-widgets/controls",
          "model_name": "HTMLModel",
          "model_module_version": "1.5.0",
          "state": {
            "_dom_classes": [],
            "_model_module": "@jupyter-widgets/controls",
            "_model_module_version": "1.5.0",
            "_model_name": "HTMLModel",
            "_view_count": null,
            "_view_module": "@jupyter-widgets/controls",
            "_view_module_version": "1.5.0",
            "_view_name": "HTMLView",
            "description": "",
            "description_tooltip": null,
            "layout": "IPY_MODEL_88bd36d6fcb64de4be2489243b0b6cbe",
            "placeholder": "​",
            "style": "IPY_MODEL_dbb27b92a6d84c68b29c0f0bbb9d7aec",
            "value": " 1825/9156 [07:43&lt;24:04,  5.08it/s]"
          }
        },
        "240c39bc67a24d8a9e9159a8fb534ad7": {
          "model_module": "@jupyter-widgets/base",
          "model_name": "LayoutModel",
          "model_module_version": "1.2.0",
          "state": {
            "_model_module": "@jupyter-widgets/base",
            "_model_module_version": "1.2.0",
            "_model_name": "LayoutModel",
            "_view_count": null,
            "_view_module": "@jupyter-widgets/base",
            "_view_module_version": "1.2.0",
            "_view_name": "LayoutView",
            "align_content": null,
            "align_items": null,
            "align_self": null,
            "border": null,
            "bottom": null,
            "display": null,
            "flex": null,
            "flex_flow": null,
            "grid_area": null,
            "grid_auto_columns": null,
            "grid_auto_flow": null,
            "grid_auto_rows": null,
            "grid_column": null,
            "grid_gap": null,
            "grid_row": null,
            "grid_template_areas": null,
            "grid_template_columns": null,
            "grid_template_rows": null,
            "height": null,
            "justify_content": null,
            "justify_items": null,
            "left": null,
            "margin": null,
            "max_height": null,
            "max_width": null,
            "min_height": null,
            "min_width": null,
            "object_fit": null,
            "object_position": null,
            "order": null,
            "overflow": null,
            "overflow_x": null,
            "overflow_y": null,
            "padding": null,
            "right": null,
            "top": null,
            "visibility": null,
            "width": null
          }
        },
        "0c2eed056c2b4d3c9ecef4f9e8638e07": {
          "model_module": "@jupyter-widgets/base",
          "model_name": "LayoutModel",
          "model_module_version": "1.2.0",
          "state": {
            "_model_module": "@jupyter-widgets/base",
            "_model_module_version": "1.2.0",
            "_model_name": "LayoutModel",
            "_view_count": null,
            "_view_module": "@jupyter-widgets/base",
            "_view_module_version": "1.2.0",
            "_view_name": "LayoutView",
            "align_content": null,
            "align_items": null,
            "align_self": null,
            "border": null,
            "bottom": null,
            "display": null,
            "flex": null,
            "flex_flow": null,
            "grid_area": null,
            "grid_auto_columns": null,
            "grid_auto_flow": null,
            "grid_auto_rows": null,
            "grid_column": null,
            "grid_gap": null,
            "grid_row": null,
            "grid_template_areas": null,
            "grid_template_columns": null,
            "grid_template_rows": null,
            "height": null,
            "justify_content": null,
            "justify_items": null,
            "left": null,
            "margin": null,
            "max_height": null,
            "max_width": null,
            "min_height": null,
            "min_width": null,
            "object_fit": null,
            "object_position": null,
            "order": null,
            "overflow": null,
            "overflow_x": null,
            "overflow_y": null,
            "padding": null,
            "right": null,
            "top": null,
            "visibility": null,
            "width": null
          }
        },
        "89488efeebfb4a5aa9adef4e7dc570be": {
          "model_module": "@jupyter-widgets/controls",
          "model_name": "DescriptionStyleModel",
          "model_module_version": "1.5.0",
          "state": {
            "_model_module": "@jupyter-widgets/controls",
            "_model_module_version": "1.5.0",
            "_model_name": "DescriptionStyleModel",
            "_view_count": null,
            "_view_module": "@jupyter-widgets/base",
            "_view_module_version": "1.2.0",
            "_view_name": "StyleView",
            "description_width": ""
          }
        },
        "35f659efb70f446c8ed53c9553dedaf2": {
          "model_module": "@jupyter-widgets/base",
          "model_name": "LayoutModel",
          "model_module_version": "1.2.0",
          "state": {
            "_model_module": "@jupyter-widgets/base",
            "_model_module_version": "1.2.0",
            "_model_name": "LayoutModel",
            "_view_count": null,
            "_view_module": "@jupyter-widgets/base",
            "_view_module_version": "1.2.0",
            "_view_name": "LayoutView",
            "align_content": null,
            "align_items": null,
            "align_self": null,
            "border": null,
            "bottom": null,
            "display": null,
            "flex": null,
            "flex_flow": null,
            "grid_area": null,
            "grid_auto_columns": null,
            "grid_auto_flow": null,
            "grid_auto_rows": null,
            "grid_column": null,
            "grid_gap": null,
            "grid_row": null,
            "grid_template_areas": null,
            "grid_template_columns": null,
            "grid_template_rows": null,
            "height": null,
            "justify_content": null,
            "justify_items": null,
            "left": null,
            "margin": null,
            "max_height": null,
            "max_width": null,
            "min_height": null,
            "min_width": null,
            "object_fit": null,
            "object_position": null,
            "order": null,
            "overflow": null,
            "overflow_x": null,
            "overflow_y": null,
            "padding": null,
            "right": null,
            "top": null,
            "visibility": null,
            "width": null
          }
        },
        "cf0f68951acf44a2b481e74ad35a638e": {
          "model_module": "@jupyter-widgets/controls",
          "model_name": "ProgressStyleModel",
          "model_module_version": "1.5.0",
          "state": {
            "_model_module": "@jupyter-widgets/controls",
            "_model_module_version": "1.5.0",
            "_model_name": "ProgressStyleModel",
            "_view_count": null,
            "_view_module": "@jupyter-widgets/base",
            "_view_module_version": "1.2.0",
            "_view_name": "StyleView",
            "bar_color": null,
            "description_width": ""
          }
        },
        "88bd36d6fcb64de4be2489243b0b6cbe": {
          "model_module": "@jupyter-widgets/base",
          "model_name": "LayoutModel",
          "model_module_version": "1.2.0",
          "state": {
            "_model_module": "@jupyter-widgets/base",
            "_model_module_version": "1.2.0",
            "_model_name": "LayoutModel",
            "_view_count": null,
            "_view_module": "@jupyter-widgets/base",
            "_view_module_version": "1.2.0",
            "_view_name": "LayoutView",
            "align_content": null,
            "align_items": null,
            "align_self": null,
            "border": null,
            "bottom": null,
            "display": null,
            "flex": null,
            "flex_flow": null,
            "grid_area": null,
            "grid_auto_columns": null,
            "grid_auto_flow": null,
            "grid_auto_rows": null,
            "grid_column": null,
            "grid_gap": null,
            "grid_row": null,
            "grid_template_areas": null,
            "grid_template_columns": null,
            "grid_template_rows": null,
            "height": null,
            "justify_content": null,
            "justify_items": null,
            "left": null,
            "margin": null,
            "max_height": null,
            "max_width": null,
            "min_height": null,
            "min_width": null,
            "object_fit": null,
            "object_position": null,
            "order": null,
            "overflow": null,
            "overflow_x": null,
            "overflow_y": null,
            "padding": null,
            "right": null,
            "top": null,
            "visibility": null,
            "width": null
          }
        },
        "dbb27b92a6d84c68b29c0f0bbb9d7aec": {
          "model_module": "@jupyter-widgets/controls",
          "model_name": "DescriptionStyleModel",
          "model_module_version": "1.5.0",
          "state": {
            "_model_module": "@jupyter-widgets/controls",
            "_model_module_version": "1.5.0",
            "_model_name": "DescriptionStyleModel",
            "_view_count": null,
            "_view_module": "@jupyter-widgets/base",
            "_view_module_version": "1.2.0",
            "_view_name": "StyleView",
            "description_width": ""
          }
        },
        "62e17d0a6ebe418cb1cd96590c92e5ea": {
          "model_module": "@jupyter-widgets/controls",
          "model_name": "HBoxModel",
          "model_module_version": "1.5.0",
          "state": {
            "_dom_classes": [],
            "_model_module": "@jupyter-widgets/controls",
            "_model_module_version": "1.5.0",
            "_model_name": "HBoxModel",
            "_view_count": null,
            "_view_module": "@jupyter-widgets/controls",
            "_view_module_version": "1.5.0",
            "_view_name": "HBoxView",
            "box_style": "",
            "children": [
              "IPY_MODEL_a1ee257ec9004093bf95bbe09e18b902",
              "IPY_MODEL_1e755049546b44de82294c44443902a5",
              "IPY_MODEL_52b65175e1104a00bc717650ecea81a8"
            ],
            "layout": "IPY_MODEL_5d1f2da9182b45c6891cd8e2377f84d0"
          }
        },
        "a1ee257ec9004093bf95bbe09e18b902": {
          "model_module": "@jupyter-widgets/controls",
          "model_name": "HTMLModel",
          "model_module_version": "1.5.0",
          "state": {
            "_dom_classes": [],
            "_model_module": "@jupyter-widgets/controls",
            "_model_module_version": "1.5.0",
            "_model_name": "HTMLModel",
            "_view_count": null,
            "_view_module": "@jupyter-widgets/controls",
            "_view_module_version": "1.5.0",
            "_view_name": "HTMLView",
            "description": "",
            "description_tooltip": null,
            "layout": "IPY_MODEL_88c8bb15db774be6b386825e759b2325",
            "placeholder": "​",
            "style": "IPY_MODEL_f5c6b055af584364a08052b4012e75df",
            "value": "Downloading: 100%"
          }
        },
        "1e755049546b44de82294c44443902a5": {
          "model_module": "@jupyter-widgets/controls",
          "model_name": "FloatProgressModel",
          "model_module_version": "1.5.0",
          "state": {
            "_dom_classes": [],
            "_model_module": "@jupyter-widgets/controls",
            "_model_module_version": "1.5.0",
            "_model_name": "FloatProgressModel",
            "_view_count": null,
            "_view_module": "@jupyter-widgets/controls",
            "_view_module_version": "1.5.0",
            "_view_name": "ProgressView",
            "bar_style": "success",
            "description": "",
            "description_tooltip": null,
            "layout": "IPY_MODEL_b80a9041e59643df9d961f650287fa0b",
            "max": 747,
            "min": 0,
            "orientation": "horizontal",
            "style": "IPY_MODEL_ee67df830b5c4ea5b54c4a3606f470a0",
            "value": 747
          }
        },
        "52b65175e1104a00bc717650ecea81a8": {
          "model_module": "@jupyter-widgets/controls",
          "model_name": "HTMLModel",
          "model_module_version": "1.5.0",
          "state": {
            "_dom_classes": [],
            "_model_module": "@jupyter-widgets/controls",
            "_model_module_version": "1.5.0",
            "_model_name": "HTMLModel",
            "_view_count": null,
            "_view_module": "@jupyter-widgets/controls",
            "_view_module_version": "1.5.0",
            "_view_name": "HTMLView",
            "description": "",
            "description_tooltip": null,
            "layout": "IPY_MODEL_2ee46afb21f04b06b3b0d8191ef6eafe",
            "placeholder": "​",
            "style": "IPY_MODEL_4eba1e0895d24beebf6913ab5b5e6673",
            "value": " 747/747 [00:00&lt;00:00, 12.1kB/s]"
          }
        },
        "5d1f2da9182b45c6891cd8e2377f84d0": {
          "model_module": "@jupyter-widgets/base",
          "model_name": "LayoutModel",
          "model_module_version": "1.2.0",
          "state": {
            "_model_module": "@jupyter-widgets/base",
            "_model_module_version": "1.2.0",
            "_model_name": "LayoutModel",
            "_view_count": null,
            "_view_module": "@jupyter-widgets/base",
            "_view_module_version": "1.2.0",
            "_view_name": "LayoutView",
            "align_content": null,
            "align_items": null,
            "align_self": null,
            "border": null,
            "bottom": null,
            "display": null,
            "flex": null,
            "flex_flow": null,
            "grid_area": null,
            "grid_auto_columns": null,
            "grid_auto_flow": null,
            "grid_auto_rows": null,
            "grid_column": null,
            "grid_gap": null,
            "grid_row": null,
            "grid_template_areas": null,
            "grid_template_columns": null,
            "grid_template_rows": null,
            "height": null,
            "justify_content": null,
            "justify_items": null,
            "left": null,
            "margin": null,
            "max_height": null,
            "max_width": null,
            "min_height": null,
            "min_width": null,
            "object_fit": null,
            "object_position": null,
            "order": null,
            "overflow": null,
            "overflow_x": null,
            "overflow_y": null,
            "padding": null,
            "right": null,
            "top": null,
            "visibility": null,
            "width": null
          }
        },
        "88c8bb15db774be6b386825e759b2325": {
          "model_module": "@jupyter-widgets/base",
          "model_name": "LayoutModel",
          "model_module_version": "1.2.0",
          "state": {
            "_model_module": "@jupyter-widgets/base",
            "_model_module_version": "1.2.0",
            "_model_name": "LayoutModel",
            "_view_count": null,
            "_view_module": "@jupyter-widgets/base",
            "_view_module_version": "1.2.0",
            "_view_name": "LayoutView",
            "align_content": null,
            "align_items": null,
            "align_self": null,
            "border": null,
            "bottom": null,
            "display": null,
            "flex": null,
            "flex_flow": null,
            "grid_area": null,
            "grid_auto_columns": null,
            "grid_auto_flow": null,
            "grid_auto_rows": null,
            "grid_column": null,
            "grid_gap": null,
            "grid_row": null,
            "grid_template_areas": null,
            "grid_template_columns": null,
            "grid_template_rows": null,
            "height": null,
            "justify_content": null,
            "justify_items": null,
            "left": null,
            "margin": null,
            "max_height": null,
            "max_width": null,
            "min_height": null,
            "min_width": null,
            "object_fit": null,
            "object_position": null,
            "order": null,
            "overflow": null,
            "overflow_x": null,
            "overflow_y": null,
            "padding": null,
            "right": null,
            "top": null,
            "visibility": null,
            "width": null
          }
        },
        "f5c6b055af584364a08052b4012e75df": {
          "model_module": "@jupyter-widgets/controls",
          "model_name": "DescriptionStyleModel",
          "model_module_version": "1.5.0",
          "state": {
            "_model_module": "@jupyter-widgets/controls",
            "_model_module_version": "1.5.0",
            "_model_name": "DescriptionStyleModel",
            "_view_count": null,
            "_view_module": "@jupyter-widgets/base",
            "_view_module_version": "1.2.0",
            "_view_name": "StyleView",
            "description_width": ""
          }
        },
        "b80a9041e59643df9d961f650287fa0b": {
          "model_module": "@jupyter-widgets/base",
          "model_name": "LayoutModel",
          "model_module_version": "1.2.0",
          "state": {
            "_model_module": "@jupyter-widgets/base",
            "_model_module_version": "1.2.0",
            "_model_name": "LayoutModel",
            "_view_count": null,
            "_view_module": "@jupyter-widgets/base",
            "_view_module_version": "1.2.0",
            "_view_name": "LayoutView",
            "align_content": null,
            "align_items": null,
            "align_self": null,
            "border": null,
            "bottom": null,
            "display": null,
            "flex": null,
            "flex_flow": null,
            "grid_area": null,
            "grid_auto_columns": null,
            "grid_auto_flow": null,
            "grid_auto_rows": null,
            "grid_column": null,
            "grid_gap": null,
            "grid_row": null,
            "grid_template_areas": null,
            "grid_template_columns": null,
            "grid_template_rows": null,
            "height": null,
            "justify_content": null,
            "justify_items": null,
            "left": null,
            "margin": null,
            "max_height": null,
            "max_width": null,
            "min_height": null,
            "min_width": null,
            "object_fit": null,
            "object_position": null,
            "order": null,
            "overflow": null,
            "overflow_x": null,
            "overflow_y": null,
            "padding": null,
            "right": null,
            "top": null,
            "visibility": null,
            "width": null
          }
        },
        "ee67df830b5c4ea5b54c4a3606f470a0": {
          "model_module": "@jupyter-widgets/controls",
          "model_name": "ProgressStyleModel",
          "model_module_version": "1.5.0",
          "state": {
            "_model_module": "@jupyter-widgets/controls",
            "_model_module_version": "1.5.0",
            "_model_name": "ProgressStyleModel",
            "_view_count": null,
            "_view_module": "@jupyter-widgets/base",
            "_view_module_version": "1.2.0",
            "_view_name": "StyleView",
            "bar_color": null,
            "description_width": ""
          }
        },
        "2ee46afb21f04b06b3b0d8191ef6eafe": {
          "model_module": "@jupyter-widgets/base",
          "model_name": "LayoutModel",
          "model_module_version": "1.2.0",
          "state": {
            "_model_module": "@jupyter-widgets/base",
            "_model_module_version": "1.2.0",
            "_model_name": "LayoutModel",
            "_view_count": null,
            "_view_module": "@jupyter-widgets/base",
            "_view_module_version": "1.2.0",
            "_view_name": "LayoutView",
            "align_content": null,
            "align_items": null,
            "align_self": null,
            "border": null,
            "bottom": null,
            "display": null,
            "flex": null,
            "flex_flow": null,
            "grid_area": null,
            "grid_auto_columns": null,
            "grid_auto_flow": null,
            "grid_auto_rows": null,
            "grid_column": null,
            "grid_gap": null,
            "grid_row": null,
            "grid_template_areas": null,
            "grid_template_columns": null,
            "grid_template_rows": null,
            "height": null,
            "justify_content": null,
            "justify_items": null,
            "left": null,
            "margin": null,
            "max_height": null,
            "max_width": null,
            "min_height": null,
            "min_width": null,
            "object_fit": null,
            "object_position": null,
            "order": null,
            "overflow": null,
            "overflow_x": null,
            "overflow_y": null,
            "padding": null,
            "right": null,
            "top": null,
            "visibility": null,
            "width": null
          }
        },
        "4eba1e0895d24beebf6913ab5b5e6673": {
          "model_module": "@jupyter-widgets/controls",
          "model_name": "DescriptionStyleModel",
          "model_module_version": "1.5.0",
          "state": {
            "_model_module": "@jupyter-widgets/controls",
            "_model_module_version": "1.5.0",
            "_model_name": "DescriptionStyleModel",
            "_view_count": null,
            "_view_module": "@jupyter-widgets/base",
            "_view_module_version": "1.2.0",
            "_view_name": "StyleView",
            "description_width": ""
          }
        },
        "9aab07f770af410abeb16448c42ac751": {
          "model_module": "@jupyter-widgets/controls",
          "model_name": "HBoxModel",
          "model_module_version": "1.5.0",
          "state": {
            "_dom_classes": [],
            "_model_module": "@jupyter-widgets/controls",
            "_model_module_version": "1.5.0",
            "_model_name": "HBoxModel",
            "_view_count": null,
            "_view_module": "@jupyter-widgets/controls",
            "_view_module_version": "1.5.0",
            "_view_name": "HBoxView",
            "box_style": "",
            "children": [
              "IPY_MODEL_d05439d62c294287a960b62c04af0866",
              "IPY_MODEL_5f988c4333e744e39ba449ad397efc61",
              "IPY_MODEL_7abc8962392945bbb1c423bb5fc7d093"
            ],
            "layout": "IPY_MODEL_3606b4a14de241f48b71072eb128863f"
          }
        },
        "d05439d62c294287a960b62c04af0866": {
          "model_module": "@jupyter-widgets/controls",
          "model_name": "HTMLModel",
          "model_module_version": "1.5.0",
          "state": {
            "_dom_classes": [],
            "_model_module": "@jupyter-widgets/controls",
            "_model_module_version": "1.5.0",
            "_model_name": "HTMLModel",
            "_view_count": null,
            "_view_module": "@jupyter-widgets/controls",
            "_view_module_version": "1.5.0",
            "_view_name": "HTMLView",
            "description": "",
            "description_tooltip": null,
            "layout": "IPY_MODEL_4f79ad6d8fe44a1cbb5218ff5ca69bc3",
            "placeholder": "​",
            "style": "IPY_MODEL_0fdd35e16f9a4e1caeee99f8f463def0",
            "value": "Downloading: 100%"
          }
        },
        "5f988c4333e744e39ba449ad397efc61": {
          "model_module": "@jupyter-widgets/controls",
          "model_name": "FloatProgressModel",
          "model_module_version": "1.5.0",
          "state": {
            "_dom_classes": [],
            "_model_module": "@jupyter-widgets/controls",
            "_model_module_version": "1.5.0",
            "_model_name": "FloatProgressModel",
            "_view_count": null,
            "_view_module": "@jupyter-widgets/controls",
            "_view_module_version": "1.5.0",
            "_view_name": "ProgressView",
            "bar_style": "success",
            "description": "",
            "description_tooltip": null,
            "layout": "IPY_MODEL_06b1b0b33fb04d16aeaf04a3eff29dd7",
            "max": 898822,
            "min": 0,
            "orientation": "horizontal",
            "style": "IPY_MODEL_70cb0253f7d5482f9e754c3e5ef19b31",
            "value": 898822
          }
        },
        "7abc8962392945bbb1c423bb5fc7d093": {
          "model_module": "@jupyter-widgets/controls",
          "model_name": "HTMLModel",
          "model_module_version": "1.5.0",
          "state": {
            "_dom_classes": [],
            "_model_module": "@jupyter-widgets/controls",
            "_model_module_version": "1.5.0",
            "_model_name": "HTMLModel",
            "_view_count": null,
            "_view_module": "@jupyter-widgets/controls",
            "_view_module_version": "1.5.0",
            "_view_name": "HTMLView",
            "description": "",
            "description_tooltip": null,
            "layout": "IPY_MODEL_01a68a2bd79e4704bad0e629bb30e0a1",
            "placeholder": "​",
            "style": "IPY_MODEL_77163fcfec1642a1b4ad3df36259aa58",
            "value": " 899k/899k [00:00&lt;00:00, 1.27MB/s]"
          }
        },
        "3606b4a14de241f48b71072eb128863f": {
          "model_module": "@jupyter-widgets/base",
          "model_name": "LayoutModel",
          "model_module_version": "1.2.0",
          "state": {
            "_model_module": "@jupyter-widgets/base",
            "_model_module_version": "1.2.0",
            "_model_name": "LayoutModel",
            "_view_count": null,
            "_view_module": "@jupyter-widgets/base",
            "_view_module_version": "1.2.0",
            "_view_name": "LayoutView",
            "align_content": null,
            "align_items": null,
            "align_self": null,
            "border": null,
            "bottom": null,
            "display": null,
            "flex": null,
            "flex_flow": null,
            "grid_area": null,
            "grid_auto_columns": null,
            "grid_auto_flow": null,
            "grid_auto_rows": null,
            "grid_column": null,
            "grid_gap": null,
            "grid_row": null,
            "grid_template_areas": null,
            "grid_template_columns": null,
            "grid_template_rows": null,
            "height": null,
            "justify_content": null,
            "justify_items": null,
            "left": null,
            "margin": null,
            "max_height": null,
            "max_width": null,
            "min_height": null,
            "min_width": null,
            "object_fit": null,
            "object_position": null,
            "order": null,
            "overflow": null,
            "overflow_x": null,
            "overflow_y": null,
            "padding": null,
            "right": null,
            "top": null,
            "visibility": null,
            "width": null
          }
        },
        "4f79ad6d8fe44a1cbb5218ff5ca69bc3": {
          "model_module": "@jupyter-widgets/base",
          "model_name": "LayoutModel",
          "model_module_version": "1.2.0",
          "state": {
            "_model_module": "@jupyter-widgets/base",
            "_model_module_version": "1.2.0",
            "_model_name": "LayoutModel",
            "_view_count": null,
            "_view_module": "@jupyter-widgets/base",
            "_view_module_version": "1.2.0",
            "_view_name": "LayoutView",
            "align_content": null,
            "align_items": null,
            "align_self": null,
            "border": null,
            "bottom": null,
            "display": null,
            "flex": null,
            "flex_flow": null,
            "grid_area": null,
            "grid_auto_columns": null,
            "grid_auto_flow": null,
            "grid_auto_rows": null,
            "grid_column": null,
            "grid_gap": null,
            "grid_row": null,
            "grid_template_areas": null,
            "grid_template_columns": null,
            "grid_template_rows": null,
            "height": null,
            "justify_content": null,
            "justify_items": null,
            "left": null,
            "margin": null,
            "max_height": null,
            "max_width": null,
            "min_height": null,
            "min_width": null,
            "object_fit": null,
            "object_position": null,
            "order": null,
            "overflow": null,
            "overflow_x": null,
            "overflow_y": null,
            "padding": null,
            "right": null,
            "top": null,
            "visibility": null,
            "width": null
          }
        },
        "0fdd35e16f9a4e1caeee99f8f463def0": {
          "model_module": "@jupyter-widgets/controls",
          "model_name": "DescriptionStyleModel",
          "model_module_version": "1.5.0",
          "state": {
            "_model_module": "@jupyter-widgets/controls",
            "_model_module_version": "1.5.0",
            "_model_name": "DescriptionStyleModel",
            "_view_count": null,
            "_view_module": "@jupyter-widgets/base",
            "_view_module_version": "1.2.0",
            "_view_name": "StyleView",
            "description_width": ""
          }
        },
        "06b1b0b33fb04d16aeaf04a3eff29dd7": {
          "model_module": "@jupyter-widgets/base",
          "model_name": "LayoutModel",
          "model_module_version": "1.2.0",
          "state": {
            "_model_module": "@jupyter-widgets/base",
            "_model_module_version": "1.2.0",
            "_model_name": "LayoutModel",
            "_view_count": null,
            "_view_module": "@jupyter-widgets/base",
            "_view_module_version": "1.2.0",
            "_view_name": "LayoutView",
            "align_content": null,
            "align_items": null,
            "align_self": null,
            "border": null,
            "bottom": null,
            "display": null,
            "flex": null,
            "flex_flow": null,
            "grid_area": null,
            "grid_auto_columns": null,
            "grid_auto_flow": null,
            "grid_auto_rows": null,
            "grid_column": null,
            "grid_gap": null,
            "grid_row": null,
            "grid_template_areas": null,
            "grid_template_columns": null,
            "grid_template_rows": null,
            "height": null,
            "justify_content": null,
            "justify_items": null,
            "left": null,
            "margin": null,
            "max_height": null,
            "max_width": null,
            "min_height": null,
            "min_width": null,
            "object_fit": null,
            "object_position": null,
            "order": null,
            "overflow": null,
            "overflow_x": null,
            "overflow_y": null,
            "padding": null,
            "right": null,
            "top": null,
            "visibility": null,
            "width": null
          }
        },
        "70cb0253f7d5482f9e754c3e5ef19b31": {
          "model_module": "@jupyter-widgets/controls",
          "model_name": "ProgressStyleModel",
          "model_module_version": "1.5.0",
          "state": {
            "_model_module": "@jupyter-widgets/controls",
            "_model_module_version": "1.5.0",
            "_model_name": "ProgressStyleModel",
            "_view_count": null,
            "_view_module": "@jupyter-widgets/base",
            "_view_module_version": "1.2.0",
            "_view_name": "StyleView",
            "bar_color": null,
            "description_width": ""
          }
        },
        "01a68a2bd79e4704bad0e629bb30e0a1": {
          "model_module": "@jupyter-widgets/base",
          "model_name": "LayoutModel",
          "model_module_version": "1.2.0",
          "state": {
            "_model_module": "@jupyter-widgets/base",
            "_model_module_version": "1.2.0",
            "_model_name": "LayoutModel",
            "_view_count": null,
            "_view_module": "@jupyter-widgets/base",
            "_view_module_version": "1.2.0",
            "_view_name": "LayoutView",
            "align_content": null,
            "align_items": null,
            "align_self": null,
            "border": null,
            "bottom": null,
            "display": null,
            "flex": null,
            "flex_flow": null,
            "grid_area": null,
            "grid_auto_columns": null,
            "grid_auto_flow": null,
            "grid_auto_rows": null,
            "grid_column": null,
            "grid_gap": null,
            "grid_row": null,
            "grid_template_areas": null,
            "grid_template_columns": null,
            "grid_template_rows": null,
            "height": null,
            "justify_content": null,
            "justify_items": null,
            "left": null,
            "margin": null,
            "max_height": null,
            "max_width": null,
            "min_height": null,
            "min_width": null,
            "object_fit": null,
            "object_position": null,
            "order": null,
            "overflow": null,
            "overflow_x": null,
            "overflow_y": null,
            "padding": null,
            "right": null,
            "top": null,
            "visibility": null,
            "width": null
          }
        },
        "77163fcfec1642a1b4ad3df36259aa58": {
          "model_module": "@jupyter-widgets/controls",
          "model_name": "DescriptionStyleModel",
          "model_module_version": "1.5.0",
          "state": {
            "_model_module": "@jupyter-widgets/controls",
            "_model_module_version": "1.5.0",
            "_model_name": "DescriptionStyleModel",
            "_view_count": null,
            "_view_module": "@jupyter-widgets/base",
            "_view_module_version": "1.2.0",
            "_view_name": "StyleView",
            "description_width": ""
          }
        },
        "ea9d3098630a4c939184e3a9e42f9d05": {
          "model_module": "@jupyter-widgets/controls",
          "model_name": "HBoxModel",
          "model_module_version": "1.5.0",
          "state": {
            "_dom_classes": [],
            "_model_module": "@jupyter-widgets/controls",
            "_model_module_version": "1.5.0",
            "_model_name": "HBoxModel",
            "_view_count": null,
            "_view_module": "@jupyter-widgets/controls",
            "_view_module_version": "1.5.0",
            "_view_name": "HBoxView",
            "box_style": "",
            "children": [
              "IPY_MODEL_1b58a1bb30aa434bbd41dfde662d2b5e",
              "IPY_MODEL_1153c3afbe284c3a9e3450daf85a25fa",
              "IPY_MODEL_c671fe29c0bb4f45b7a4260c52e5dc3d"
            ],
            "layout": "IPY_MODEL_30ae0fa2f80d4e978a87621abb4fba30"
          }
        },
        "1b58a1bb30aa434bbd41dfde662d2b5e": {
          "model_module": "@jupyter-widgets/controls",
          "model_name": "HTMLModel",
          "model_module_version": "1.5.0",
          "state": {
            "_dom_classes": [],
            "_model_module": "@jupyter-widgets/controls",
            "_model_module_version": "1.5.0",
            "_model_name": "HTMLModel",
            "_view_count": null,
            "_view_module": "@jupyter-widgets/controls",
            "_view_module_version": "1.5.0",
            "_view_name": "HTMLView",
            "description": "",
            "description_tooltip": null,
            "layout": "IPY_MODEL_a6f02562c7244c34b6d0757116e0e469",
            "placeholder": "​",
            "style": "IPY_MODEL_a79774b8ce6c4b28aee971b5b6b45d3a",
            "value": "Downloading: 100%"
          }
        },
        "1153c3afbe284c3a9e3450daf85a25fa": {
          "model_module": "@jupyter-widgets/controls",
          "model_name": "FloatProgressModel",
          "model_module_version": "1.5.0",
          "state": {
            "_dom_classes": [],
            "_model_module": "@jupyter-widgets/controls",
            "_model_module_version": "1.5.0",
            "_model_name": "FloatProgressModel",
            "_view_count": null,
            "_view_module": "@jupyter-widgets/controls",
            "_view_module_version": "1.5.0",
            "_view_name": "ProgressView",
            "bar_style": "success",
            "description": "",
            "description_tooltip": null,
            "layout": "IPY_MODEL_4766fff6475c48f88607fbb4a63ba975",
            "max": 456318,
            "min": 0,
            "orientation": "horizontal",
            "style": "IPY_MODEL_58e1737013fa44d0a9cc89eba27f91c0",
            "value": 456318
          }
        },
        "c671fe29c0bb4f45b7a4260c52e5dc3d": {
          "model_module": "@jupyter-widgets/controls",
          "model_name": "HTMLModel",
          "model_module_version": "1.5.0",
          "state": {
            "_dom_classes": [],
            "_model_module": "@jupyter-widgets/controls",
            "_model_module_version": "1.5.0",
            "_model_name": "HTMLModel",
            "_view_count": null,
            "_view_module": "@jupyter-widgets/controls",
            "_view_module_version": "1.5.0",
            "_view_name": "HTMLView",
            "description": "",
            "description_tooltip": null,
            "layout": "IPY_MODEL_095f3e7139a742778099788ecb7b3252",
            "placeholder": "​",
            "style": "IPY_MODEL_f40c8c1f5b694d3a858121b83edd3ae7",
            "value": " 456k/456k [00:00&lt;00:00, 1.06MB/s]"
          }
        },
        "30ae0fa2f80d4e978a87621abb4fba30": {
          "model_module": "@jupyter-widgets/base",
          "model_name": "LayoutModel",
          "model_module_version": "1.2.0",
          "state": {
            "_model_module": "@jupyter-widgets/base",
            "_model_module_version": "1.2.0",
            "_model_name": "LayoutModel",
            "_view_count": null,
            "_view_module": "@jupyter-widgets/base",
            "_view_module_version": "1.2.0",
            "_view_name": "LayoutView",
            "align_content": null,
            "align_items": null,
            "align_self": null,
            "border": null,
            "bottom": null,
            "display": null,
            "flex": null,
            "flex_flow": null,
            "grid_area": null,
            "grid_auto_columns": null,
            "grid_auto_flow": null,
            "grid_auto_rows": null,
            "grid_column": null,
            "grid_gap": null,
            "grid_row": null,
            "grid_template_areas": null,
            "grid_template_columns": null,
            "grid_template_rows": null,
            "height": null,
            "justify_content": null,
            "justify_items": null,
            "left": null,
            "margin": null,
            "max_height": null,
            "max_width": null,
            "min_height": null,
            "min_width": null,
            "object_fit": null,
            "object_position": null,
            "order": null,
            "overflow": null,
            "overflow_x": null,
            "overflow_y": null,
            "padding": null,
            "right": null,
            "top": null,
            "visibility": null,
            "width": null
          }
        },
        "a6f02562c7244c34b6d0757116e0e469": {
          "model_module": "@jupyter-widgets/base",
          "model_name": "LayoutModel",
          "model_module_version": "1.2.0",
          "state": {
            "_model_module": "@jupyter-widgets/base",
            "_model_module_version": "1.2.0",
            "_model_name": "LayoutModel",
            "_view_count": null,
            "_view_module": "@jupyter-widgets/base",
            "_view_module_version": "1.2.0",
            "_view_name": "LayoutView",
            "align_content": null,
            "align_items": null,
            "align_self": null,
            "border": null,
            "bottom": null,
            "display": null,
            "flex": null,
            "flex_flow": null,
            "grid_area": null,
            "grid_auto_columns": null,
            "grid_auto_flow": null,
            "grid_auto_rows": null,
            "grid_column": null,
            "grid_gap": null,
            "grid_row": null,
            "grid_template_areas": null,
            "grid_template_columns": null,
            "grid_template_rows": null,
            "height": null,
            "justify_content": null,
            "justify_items": null,
            "left": null,
            "margin": null,
            "max_height": null,
            "max_width": null,
            "min_height": null,
            "min_width": null,
            "object_fit": null,
            "object_position": null,
            "order": null,
            "overflow": null,
            "overflow_x": null,
            "overflow_y": null,
            "padding": null,
            "right": null,
            "top": null,
            "visibility": null,
            "width": null
          }
        },
        "a79774b8ce6c4b28aee971b5b6b45d3a": {
          "model_module": "@jupyter-widgets/controls",
          "model_name": "DescriptionStyleModel",
          "model_module_version": "1.5.0",
          "state": {
            "_model_module": "@jupyter-widgets/controls",
            "_model_module_version": "1.5.0",
            "_model_name": "DescriptionStyleModel",
            "_view_count": null,
            "_view_module": "@jupyter-widgets/base",
            "_view_module_version": "1.2.0",
            "_view_name": "StyleView",
            "description_width": ""
          }
        },
        "4766fff6475c48f88607fbb4a63ba975": {
          "model_module": "@jupyter-widgets/base",
          "model_name": "LayoutModel",
          "model_module_version": "1.2.0",
          "state": {
            "_model_module": "@jupyter-widgets/base",
            "_model_module_version": "1.2.0",
            "_model_name": "LayoutModel",
            "_view_count": null,
            "_view_module": "@jupyter-widgets/base",
            "_view_module_version": "1.2.0",
            "_view_name": "LayoutView",
            "align_content": null,
            "align_items": null,
            "align_self": null,
            "border": null,
            "bottom": null,
            "display": null,
            "flex": null,
            "flex_flow": null,
            "grid_area": null,
            "grid_auto_columns": null,
            "grid_auto_flow": null,
            "grid_auto_rows": null,
            "grid_column": null,
            "grid_gap": null,
            "grid_row": null,
            "grid_template_areas": null,
            "grid_template_columns": null,
            "grid_template_rows": null,
            "height": null,
            "justify_content": null,
            "justify_items": null,
            "left": null,
            "margin": null,
            "max_height": null,
            "max_width": null,
            "min_height": null,
            "min_width": null,
            "object_fit": null,
            "object_position": null,
            "order": null,
            "overflow": null,
            "overflow_x": null,
            "overflow_y": null,
            "padding": null,
            "right": null,
            "top": null,
            "visibility": null,
            "width": null
          }
        },
        "58e1737013fa44d0a9cc89eba27f91c0": {
          "model_module": "@jupyter-widgets/controls",
          "model_name": "ProgressStyleModel",
          "model_module_version": "1.5.0",
          "state": {
            "_model_module": "@jupyter-widgets/controls",
            "_model_module_version": "1.5.0",
            "_model_name": "ProgressStyleModel",
            "_view_count": null,
            "_view_module": "@jupyter-widgets/base",
            "_view_module_version": "1.2.0",
            "_view_name": "StyleView",
            "bar_color": null,
            "description_width": ""
          }
        },
        "095f3e7139a742778099788ecb7b3252": {
          "model_module": "@jupyter-widgets/base",
          "model_name": "LayoutModel",
          "model_module_version": "1.2.0",
          "state": {
            "_model_module": "@jupyter-widgets/base",
            "_model_module_version": "1.2.0",
            "_model_name": "LayoutModel",
            "_view_count": null,
            "_view_module": "@jupyter-widgets/base",
            "_view_module_version": "1.2.0",
            "_view_name": "LayoutView",
            "align_content": null,
            "align_items": null,
            "align_self": null,
            "border": null,
            "bottom": null,
            "display": null,
            "flex": null,
            "flex_flow": null,
            "grid_area": null,
            "grid_auto_columns": null,
            "grid_auto_flow": null,
            "grid_auto_rows": null,
            "grid_column": null,
            "grid_gap": null,
            "grid_row": null,
            "grid_template_areas": null,
            "grid_template_columns": null,
            "grid_template_rows": null,
            "height": null,
            "justify_content": null,
            "justify_items": null,
            "left": null,
            "margin": null,
            "max_height": null,
            "max_width": null,
            "min_height": null,
            "min_width": null,
            "object_fit": null,
            "object_position": null,
            "order": null,
            "overflow": null,
            "overflow_x": null,
            "overflow_y": null,
            "padding": null,
            "right": null,
            "top": null,
            "visibility": null,
            "width": null
          }
        },
        "f40c8c1f5b694d3a858121b83edd3ae7": {
          "model_module": "@jupyter-widgets/controls",
          "model_name": "DescriptionStyleModel",
          "model_module_version": "1.5.0",
          "state": {
            "_model_module": "@jupyter-widgets/controls",
            "_model_module_version": "1.5.0",
            "_model_name": "DescriptionStyleModel",
            "_view_count": null,
            "_view_module": "@jupyter-widgets/base",
            "_view_module_version": "1.2.0",
            "_view_name": "StyleView",
            "description_width": ""
          }
        },
        "d541f5c3e1bf4776b36c9329abf43d3e": {
          "model_module": "@jupyter-widgets/controls",
          "model_name": "HBoxModel",
          "model_module_version": "1.5.0",
          "state": {
            "_dom_classes": [],
            "_model_module": "@jupyter-widgets/controls",
            "_model_module_version": "1.5.0",
            "_model_name": "HBoxModel",
            "_view_count": null,
            "_view_module": "@jupyter-widgets/controls",
            "_view_module_version": "1.5.0",
            "_view_name": "HBoxView",
            "box_style": "",
            "children": [
              "IPY_MODEL_e13368665a2d4329a61b17c57e68c829",
              "IPY_MODEL_15f0a63e717f44afaa0f5cdf03b9c6ad",
              "IPY_MODEL_61fd36c255624cfab8fc352dc70b9c92"
            ],
            "layout": "IPY_MODEL_0f521c86e21f4cfb9b4cd3a3ae15be91"
          }
        },
        "e13368665a2d4329a61b17c57e68c829": {
          "model_module": "@jupyter-widgets/controls",
          "model_name": "HTMLModel",
          "model_module_version": "1.5.0",
          "state": {
            "_dom_classes": [],
            "_model_module": "@jupyter-widgets/controls",
            "_model_module_version": "1.5.0",
            "_model_name": "HTMLModel",
            "_view_count": null,
            "_view_module": "@jupyter-widgets/controls",
            "_view_module_version": "1.5.0",
            "_view_name": "HTMLView",
            "description": "",
            "description_tooltip": null,
            "layout": "IPY_MODEL_4cbf165037824824a9159f45c758fbb1",
            "placeholder": "​",
            "style": "IPY_MODEL_ebd48db7ed2045d9a3fa1293b8804aca",
            "value": "Downloading: 100%"
          }
        },
        "15f0a63e717f44afaa0f5cdf03b9c6ad": {
          "model_module": "@jupyter-widgets/controls",
          "model_name": "FloatProgressModel",
          "model_module_version": "1.5.0",
          "state": {
            "_dom_classes": [],
            "_model_module": "@jupyter-widgets/controls",
            "_model_module_version": "1.5.0",
            "_model_name": "FloatProgressModel",
            "_view_count": null,
            "_view_module": "@jupyter-widgets/controls",
            "_view_module_version": "1.5.0",
            "_view_name": "ProgressView",
            "bar_style": "success",
            "description": "",
            "description_tooltip": null,
            "layout": "IPY_MODEL_2d8c5b85504541c1954ff2ceea3de3f4",
            "max": 150,
            "min": 0,
            "orientation": "horizontal",
            "style": "IPY_MODEL_be4c8a0d8b39412f84c4952cc9e5ea58",
            "value": 150
          }
        },
        "61fd36c255624cfab8fc352dc70b9c92": {
          "model_module": "@jupyter-widgets/controls",
          "model_name": "HTMLModel",
          "model_module_version": "1.5.0",
          "state": {
            "_dom_classes": [],
            "_model_module": "@jupyter-widgets/controls",
            "_model_module_version": "1.5.0",
            "_model_name": "HTMLModel",
            "_view_count": null,
            "_view_module": "@jupyter-widgets/controls",
            "_view_module_version": "1.5.0",
            "_view_name": "HTMLView",
            "description": "",
            "description_tooltip": null,
            "layout": "IPY_MODEL_02120b111b35463cb1c5c238ffb9564c",
            "placeholder": "​",
            "style": "IPY_MODEL_14f38cc0c8824aeca50ab6056eb58bfd",
            "value": " 150/150 [00:00&lt;00:00, 3.46kB/s]"
          }
        },
        "0f521c86e21f4cfb9b4cd3a3ae15be91": {
          "model_module": "@jupyter-widgets/base",
          "model_name": "LayoutModel",
          "model_module_version": "1.2.0",
          "state": {
            "_model_module": "@jupyter-widgets/base",
            "_model_module_version": "1.2.0",
            "_model_name": "LayoutModel",
            "_view_count": null,
            "_view_module": "@jupyter-widgets/base",
            "_view_module_version": "1.2.0",
            "_view_name": "LayoutView",
            "align_content": null,
            "align_items": null,
            "align_self": null,
            "border": null,
            "bottom": null,
            "display": null,
            "flex": null,
            "flex_flow": null,
            "grid_area": null,
            "grid_auto_columns": null,
            "grid_auto_flow": null,
            "grid_auto_rows": null,
            "grid_column": null,
            "grid_gap": null,
            "grid_row": null,
            "grid_template_areas": null,
            "grid_template_columns": null,
            "grid_template_rows": null,
            "height": null,
            "justify_content": null,
            "justify_items": null,
            "left": null,
            "margin": null,
            "max_height": null,
            "max_width": null,
            "min_height": null,
            "min_width": null,
            "object_fit": null,
            "object_position": null,
            "order": null,
            "overflow": null,
            "overflow_x": null,
            "overflow_y": null,
            "padding": null,
            "right": null,
            "top": null,
            "visibility": null,
            "width": null
          }
        },
        "4cbf165037824824a9159f45c758fbb1": {
          "model_module": "@jupyter-widgets/base",
          "model_name": "LayoutModel",
          "model_module_version": "1.2.0",
          "state": {
            "_model_module": "@jupyter-widgets/base",
            "_model_module_version": "1.2.0",
            "_model_name": "LayoutModel",
            "_view_count": null,
            "_view_module": "@jupyter-widgets/base",
            "_view_module_version": "1.2.0",
            "_view_name": "LayoutView",
            "align_content": null,
            "align_items": null,
            "align_self": null,
            "border": null,
            "bottom": null,
            "display": null,
            "flex": null,
            "flex_flow": null,
            "grid_area": null,
            "grid_auto_columns": null,
            "grid_auto_flow": null,
            "grid_auto_rows": null,
            "grid_column": null,
            "grid_gap": null,
            "grid_row": null,
            "grid_template_areas": null,
            "grid_template_columns": null,
            "grid_template_rows": null,
            "height": null,
            "justify_content": null,
            "justify_items": null,
            "left": null,
            "margin": null,
            "max_height": null,
            "max_width": null,
            "min_height": null,
            "min_width": null,
            "object_fit": null,
            "object_position": null,
            "order": null,
            "overflow": null,
            "overflow_x": null,
            "overflow_y": null,
            "padding": null,
            "right": null,
            "top": null,
            "visibility": null,
            "width": null
          }
        },
        "ebd48db7ed2045d9a3fa1293b8804aca": {
          "model_module": "@jupyter-widgets/controls",
          "model_name": "DescriptionStyleModel",
          "model_module_version": "1.5.0",
          "state": {
            "_model_module": "@jupyter-widgets/controls",
            "_model_module_version": "1.5.0",
            "_model_name": "DescriptionStyleModel",
            "_view_count": null,
            "_view_module": "@jupyter-widgets/base",
            "_view_module_version": "1.2.0",
            "_view_name": "StyleView",
            "description_width": ""
          }
        },
        "2d8c5b85504541c1954ff2ceea3de3f4": {
          "model_module": "@jupyter-widgets/base",
          "model_name": "LayoutModel",
          "model_module_version": "1.2.0",
          "state": {
            "_model_module": "@jupyter-widgets/base",
            "_model_module_version": "1.2.0",
            "_model_name": "LayoutModel",
            "_view_count": null,
            "_view_module": "@jupyter-widgets/base",
            "_view_module_version": "1.2.0",
            "_view_name": "LayoutView",
            "align_content": null,
            "align_items": null,
            "align_self": null,
            "border": null,
            "bottom": null,
            "display": null,
            "flex": null,
            "flex_flow": null,
            "grid_area": null,
            "grid_auto_columns": null,
            "grid_auto_flow": null,
            "grid_auto_rows": null,
            "grid_column": null,
            "grid_gap": null,
            "grid_row": null,
            "grid_template_areas": null,
            "grid_template_columns": null,
            "grid_template_rows": null,
            "height": null,
            "justify_content": null,
            "justify_items": null,
            "left": null,
            "margin": null,
            "max_height": null,
            "max_width": null,
            "min_height": null,
            "min_width": null,
            "object_fit": null,
            "object_position": null,
            "order": null,
            "overflow": null,
            "overflow_x": null,
            "overflow_y": null,
            "padding": null,
            "right": null,
            "top": null,
            "visibility": null,
            "width": null
          }
        },
        "be4c8a0d8b39412f84c4952cc9e5ea58": {
          "model_module": "@jupyter-widgets/controls",
          "model_name": "ProgressStyleModel",
          "model_module_version": "1.5.0",
          "state": {
            "_model_module": "@jupyter-widgets/controls",
            "_model_module_version": "1.5.0",
            "_model_name": "ProgressStyleModel",
            "_view_count": null,
            "_view_module": "@jupyter-widgets/base",
            "_view_module_version": "1.2.0",
            "_view_name": "StyleView",
            "bar_color": null,
            "description_width": ""
          }
        },
        "02120b111b35463cb1c5c238ffb9564c": {
          "model_module": "@jupyter-widgets/base",
          "model_name": "LayoutModel",
          "model_module_version": "1.2.0",
          "state": {
            "_model_module": "@jupyter-widgets/base",
            "_model_module_version": "1.2.0",
            "_model_name": "LayoutModel",
            "_view_count": null,
            "_view_module": "@jupyter-widgets/base",
            "_view_module_version": "1.2.0",
            "_view_name": "LayoutView",
            "align_content": null,
            "align_items": null,
            "align_self": null,
            "border": null,
            "bottom": null,
            "display": null,
            "flex": null,
            "flex_flow": null,
            "grid_area": null,
            "grid_auto_columns": null,
            "grid_auto_flow": null,
            "grid_auto_rows": null,
            "grid_column": null,
            "grid_gap": null,
            "grid_row": null,
            "grid_template_areas": null,
            "grid_template_columns": null,
            "grid_template_rows": null,
            "height": null,
            "justify_content": null,
            "justify_items": null,
            "left": null,
            "margin": null,
            "max_height": null,
            "max_width": null,
            "min_height": null,
            "min_width": null,
            "object_fit": null,
            "object_position": null,
            "order": null,
            "overflow": null,
            "overflow_x": null,
            "overflow_y": null,
            "padding": null,
            "right": null,
            "top": null,
            "visibility": null,
            "width": null
          }
        },
        "14f38cc0c8824aeca50ab6056eb58bfd": {
          "model_module": "@jupyter-widgets/controls",
          "model_name": "DescriptionStyleModel",
          "model_module_version": "1.5.0",
          "state": {
            "_model_module": "@jupyter-widgets/controls",
            "_model_module_version": "1.5.0",
            "_model_name": "DescriptionStyleModel",
            "_view_count": null,
            "_view_module": "@jupyter-widgets/base",
            "_view_module_version": "1.2.0",
            "_view_name": "StyleView",
            "description_width": ""
          }
        },
        "7c987370be1445bab4a1ca70dd49a13e": {
          "model_module": "@jupyter-widgets/controls",
          "model_name": "HBoxModel",
          "model_module_version": "1.5.0",
          "state": {
            "_dom_classes": [],
            "_model_module": "@jupyter-widgets/controls",
            "_model_module_version": "1.5.0",
            "_model_name": "HBoxModel",
            "_view_count": null,
            "_view_module": "@jupyter-widgets/controls",
            "_view_module_version": "1.5.0",
            "_view_name": "HBoxView",
            "box_style": "",
            "children": [
              "IPY_MODEL_787f1058da80432ba38179e2334384d1",
              "IPY_MODEL_4a2a9e89e5d64d4aa00ba400968366cc",
              "IPY_MODEL_315d795814704b4abba5702339387c89"
            ],
            "layout": "IPY_MODEL_b73eab65239e430ea8efc18b2d424f31"
          }
        },
        "787f1058da80432ba38179e2334384d1": {
          "model_module": "@jupyter-widgets/controls",
          "model_name": "HTMLModel",
          "model_module_version": "1.5.0",
          "state": {
            "_dom_classes": [],
            "_model_module": "@jupyter-widgets/controls",
            "_model_module_version": "1.5.0",
            "_model_name": "HTMLModel",
            "_view_count": null,
            "_view_module": "@jupyter-widgets/controls",
            "_view_module_version": "1.5.0",
            "_view_name": "HTMLView",
            "description": "",
            "description_tooltip": null,
            "layout": "IPY_MODEL_d7f83b620f1840b0ada3f7dd8e4c4426",
            "placeholder": "​",
            "style": "IPY_MODEL_32cde0a4c4bf4103b2a4b76fb44d1a58",
            "value": "Downloading: 100%"
          }
        },
        "4a2a9e89e5d64d4aa00ba400968366cc": {
          "model_module": "@jupyter-widgets/controls",
          "model_name": "FloatProgressModel",
          "model_module_version": "1.5.0",
          "state": {
            "_dom_classes": [],
            "_model_module": "@jupyter-widgets/controls",
            "_model_module_version": "1.5.0",
            "_model_name": "FloatProgressModel",
            "_view_count": null,
            "_view_module": "@jupyter-widgets/controls",
            "_view_module_version": "1.5.0",
            "_view_name": "ProgressView",
            "bar_style": "success",
            "description": "",
            "description_tooltip": null,
            "layout": "IPY_MODEL_686e95324ad54a27b8e7ba343bac17fe",
            "max": 498679497,
            "min": 0,
            "orientation": "horizontal",
            "style": "IPY_MODEL_e2d8823c260a45b9b57129bbd42db0b2",
            "value": 498679497
          }
        },
        "315d795814704b4abba5702339387c89": {
          "model_module": "@jupyter-widgets/controls",
          "model_name": "HTMLModel",
          "model_module_version": "1.5.0",
          "state": {
            "_dom_classes": [],
            "_model_module": "@jupyter-widgets/controls",
            "_model_module_version": "1.5.0",
            "_model_name": "HTMLModel",
            "_view_count": null,
            "_view_module": "@jupyter-widgets/controls",
            "_view_module_version": "1.5.0",
            "_view_name": "HTMLView",
            "description": "",
            "description_tooltip": null,
            "layout": "IPY_MODEL_4964f49fa8a64e5d9a0afaf3932e0ec7",
            "placeholder": "​",
            "style": "IPY_MODEL_5be16b6df9934eb799c22a2723d98628",
            "value": " 499M/499M [00:12&lt;00:00, 41.2MB/s]"
          }
        },
        "b73eab65239e430ea8efc18b2d424f31": {
          "model_module": "@jupyter-widgets/base",
          "model_name": "LayoutModel",
          "model_module_version": "1.2.0",
          "state": {
            "_model_module": "@jupyter-widgets/base",
            "_model_module_version": "1.2.0",
            "_model_name": "LayoutModel",
            "_view_count": null,
            "_view_module": "@jupyter-widgets/base",
            "_view_module_version": "1.2.0",
            "_view_name": "LayoutView",
            "align_content": null,
            "align_items": null,
            "align_self": null,
            "border": null,
            "bottom": null,
            "display": null,
            "flex": null,
            "flex_flow": null,
            "grid_area": null,
            "grid_auto_columns": null,
            "grid_auto_flow": null,
            "grid_auto_rows": null,
            "grid_column": null,
            "grid_gap": null,
            "grid_row": null,
            "grid_template_areas": null,
            "grid_template_columns": null,
            "grid_template_rows": null,
            "height": null,
            "justify_content": null,
            "justify_items": null,
            "left": null,
            "margin": null,
            "max_height": null,
            "max_width": null,
            "min_height": null,
            "min_width": null,
            "object_fit": null,
            "object_position": null,
            "order": null,
            "overflow": null,
            "overflow_x": null,
            "overflow_y": null,
            "padding": null,
            "right": null,
            "top": null,
            "visibility": null,
            "width": null
          }
        },
        "d7f83b620f1840b0ada3f7dd8e4c4426": {
          "model_module": "@jupyter-widgets/base",
          "model_name": "LayoutModel",
          "model_module_version": "1.2.0",
          "state": {
            "_model_module": "@jupyter-widgets/base",
            "_model_module_version": "1.2.0",
            "_model_name": "LayoutModel",
            "_view_count": null,
            "_view_module": "@jupyter-widgets/base",
            "_view_module_version": "1.2.0",
            "_view_name": "LayoutView",
            "align_content": null,
            "align_items": null,
            "align_self": null,
            "border": null,
            "bottom": null,
            "display": null,
            "flex": null,
            "flex_flow": null,
            "grid_area": null,
            "grid_auto_columns": null,
            "grid_auto_flow": null,
            "grid_auto_rows": null,
            "grid_column": null,
            "grid_gap": null,
            "grid_row": null,
            "grid_template_areas": null,
            "grid_template_columns": null,
            "grid_template_rows": null,
            "height": null,
            "justify_content": null,
            "justify_items": null,
            "left": null,
            "margin": null,
            "max_height": null,
            "max_width": null,
            "min_height": null,
            "min_width": null,
            "object_fit": null,
            "object_position": null,
            "order": null,
            "overflow": null,
            "overflow_x": null,
            "overflow_y": null,
            "padding": null,
            "right": null,
            "top": null,
            "visibility": null,
            "width": null
          }
        },
        "32cde0a4c4bf4103b2a4b76fb44d1a58": {
          "model_module": "@jupyter-widgets/controls",
          "model_name": "DescriptionStyleModel",
          "model_module_version": "1.5.0",
          "state": {
            "_model_module": "@jupyter-widgets/controls",
            "_model_module_version": "1.5.0",
            "_model_name": "DescriptionStyleModel",
            "_view_count": null,
            "_view_module": "@jupyter-widgets/base",
            "_view_module_version": "1.2.0",
            "_view_name": "StyleView",
            "description_width": ""
          }
        },
        "686e95324ad54a27b8e7ba343bac17fe": {
          "model_module": "@jupyter-widgets/base",
          "model_name": "LayoutModel",
          "model_module_version": "1.2.0",
          "state": {
            "_model_module": "@jupyter-widgets/base",
            "_model_module_version": "1.2.0",
            "_model_name": "LayoutModel",
            "_view_count": null,
            "_view_module": "@jupyter-widgets/base",
            "_view_module_version": "1.2.0",
            "_view_name": "LayoutView",
            "align_content": null,
            "align_items": null,
            "align_self": null,
            "border": null,
            "bottom": null,
            "display": null,
            "flex": null,
            "flex_flow": null,
            "grid_area": null,
            "grid_auto_columns": null,
            "grid_auto_flow": null,
            "grid_auto_rows": null,
            "grid_column": null,
            "grid_gap": null,
            "grid_row": null,
            "grid_template_areas": null,
            "grid_template_columns": null,
            "grid_template_rows": null,
            "height": null,
            "justify_content": null,
            "justify_items": null,
            "left": null,
            "margin": null,
            "max_height": null,
            "max_width": null,
            "min_height": null,
            "min_width": null,
            "object_fit": null,
            "object_position": null,
            "order": null,
            "overflow": null,
            "overflow_x": null,
            "overflow_y": null,
            "padding": null,
            "right": null,
            "top": null,
            "visibility": null,
            "width": null
          }
        },
        "e2d8823c260a45b9b57129bbd42db0b2": {
          "model_module": "@jupyter-widgets/controls",
          "model_name": "ProgressStyleModel",
          "model_module_version": "1.5.0",
          "state": {
            "_model_module": "@jupyter-widgets/controls",
            "_model_module_version": "1.5.0",
            "_model_name": "ProgressStyleModel",
            "_view_count": null,
            "_view_module": "@jupyter-widgets/base",
            "_view_module_version": "1.2.0",
            "_view_name": "StyleView",
            "bar_color": null,
            "description_width": ""
          }
        },
        "4964f49fa8a64e5d9a0afaf3932e0ec7": {
          "model_module": "@jupyter-widgets/base",
          "model_name": "LayoutModel",
          "model_module_version": "1.2.0",
          "state": {
            "_model_module": "@jupyter-widgets/base",
            "_model_module_version": "1.2.0",
            "_model_name": "LayoutModel",
            "_view_count": null,
            "_view_module": "@jupyter-widgets/base",
            "_view_module_version": "1.2.0",
            "_view_name": "LayoutView",
            "align_content": null,
            "align_items": null,
            "align_self": null,
            "border": null,
            "bottom": null,
            "display": null,
            "flex": null,
            "flex_flow": null,
            "grid_area": null,
            "grid_auto_columns": null,
            "grid_auto_flow": null,
            "grid_auto_rows": null,
            "grid_column": null,
            "grid_gap": null,
            "grid_row": null,
            "grid_template_areas": null,
            "grid_template_columns": null,
            "grid_template_rows": null,
            "height": null,
            "justify_content": null,
            "justify_items": null,
            "left": null,
            "margin": null,
            "max_height": null,
            "max_width": null,
            "min_height": null,
            "min_width": null,
            "object_fit": null,
            "object_position": null,
            "order": null,
            "overflow": null,
            "overflow_x": null,
            "overflow_y": null,
            "padding": null,
            "right": null,
            "top": null,
            "visibility": null,
            "width": null
          }
        },
        "5be16b6df9934eb799c22a2723d98628": {
          "model_module": "@jupyter-widgets/controls",
          "model_name": "DescriptionStyleModel",
          "model_module_version": "1.5.0",
          "state": {
            "_model_module": "@jupyter-widgets/controls",
            "_model_module_version": "1.5.0",
            "_model_name": "DescriptionStyleModel",
            "_view_count": null,
            "_view_module": "@jupyter-widgets/base",
            "_view_module_version": "1.2.0",
            "_view_name": "StyleView",
            "description_width": ""
          }
        }
      }
    }
  },
  "cells": [
    {
      "cell_type": "markdown",
      "metadata": {
        "id": "view-in-github",
        "colab_type": "text"
      },
      "source": [
        "<a href=\"https://colab.research.google.com/github/MercyNgila/Mobile-Phone-Sentiment-Analysis/blob/main/Mobile_Phone_Sentiment_Analysis.ipynb\" target=\"_parent\"><img src=\"https://colab.research.google.com/assets/colab-badge.svg\" alt=\"Open In Colab\"/></a>"
      ]
    },
    {
      "cell_type": "markdown",
      "source": [
        "# 1. Business Understanding"
      ],
      "metadata": {
        "id": "9q3BAMW7E1DW"
      }
    },
    {
      "cell_type": "markdown",
      "source": [
        "## 1.1. Problem Statement"
      ],
      "metadata": {
        "id": "Zsdsj6xeFLkh"
      }
    },
    {
      "cell_type": "markdown",
      "source": [
        "Purchasing a product is an interaction between two entities, consumers and business owners. Consumers often use reviews to make decisions about what products to buy, while businesses, on the other hand, not only want to sell their products but also want to receive feedback in terms of consumer reviews. Consumer reviews about purchased products shared on the internet have a great impact. Human nature is generally structured to make decisions based on analyzing and getting the benefit of other consumer experience and opinions because others often have a great influence on our beliefs, behaviors, perception of reality, and the choices we make. Hence, we ask others for their feedback whenever we are deciding on doing something. Additionally, this fact applies not only to consumers but also to organizations and institutions.\n",
        "\n",
        "As social media networks have evolved, so have the ways that consumers express their opinions and feelings. With the vast amount of data now available online, it has become a challenge to extract useful information from it all. Sentiment analysis has emerged as a way to predict the polarity (positive, negative, or neutral) of consumer opinion, which can help consumers better understand the textual data.\n",
        "\n",
        "E-commerce websites have increased in popularity to the point where consumers rely on them for buying and selling. These websites give consumers the ability to write comments about different products and services, which has resulted in a huge amount of reviews becoming available. Consequently, the need to analyze these reviews to understand consumers’ feedback has increased for both vendors and consumers. However, it is difficult to read all the feedback for a particular item, especially for popular items with many comments. \n",
        "\n",
        "In this research, we attempt to build a predictor for consumers’ satisfaction on mobile phone products based on the reviews. We will also attempt to understand the factors that contribute to classifying reviews as positive, negative or neutral (based on important or most frequent words). This is believed to help companies improve their products and also help potential buyers make better decisions when buying products.\n"
      ],
      "metadata": {
        "id": "xMX51AmQgzWE"
      }
    },
    {
      "cell_type": "markdown",
      "source": [
        "### 1.1.1. Main objective"
      ],
      "metadata": {
        "id": "LRL_nT4hQHE1"
      }
    },
    {
      "cell_type": "markdown",
      "source": [
        "- To perform a sentiment analysis of mobile phone reviews from Amazon website to determine how these reviews help consumers to have conﬁdence that they have made the right decision about their purchases."
      ],
      "metadata": {
        "id": "wVjUguQEQOde"
      }
    },
    {
      "cell_type": "markdown",
      "source": [
        "### 1.1.2. Specific Objectives"
      ],
      "metadata": {
        "id": "UzJnQ9GpQSbZ"
      }
    },
    {
      "cell_type": "markdown",
      "source": [
        "- To help companies understand their consumers’ feedback to maintain their products/services or enhance them.\n",
        "- To provide insights to companies in curating offers on speciﬁc products to increase their proﬁts and customer satisfaction.\n",
        "- To understand the factors that contribute to classifying reviews as positive, negative or neutral (based on important or most frequent words).\n",
        "- To determine mobile phones key features that influence smartphone purchases.\n",
        "- To perform a market segmentation of consumers based on their reviews\n",
        "- To advise the advertisement department in companies on these key features to use as selling points and to specific customer segments  in upcoming advertisements."
      ],
      "metadata": {
        "id": "KgSNh4vhQWmT"
      }
    },
    {
      "cell_type": "markdown",
      "source": [
        "### 1.1.3. Metrics of Success"
      ],
      "metadata": {
        "id": "gaUJXyyLFUTK"
      }
    },
    {
      "cell_type": "markdown",
      "source": [
        "The best performing model will be selected based on:\n",
        "- An accuracy score > 80%\n",
        "- An F1 score > 0.85 \n"
      ],
      "metadata": {
        "id": "Q9Oc9eMoiCEc"
      }
    },
    {
      "cell_type": "markdown",
      "source": [
        "# 2. Data Understanding"
      ],
      "metadata": {
        "id": "nV7OCr-jE684"
      }
    },
    {
      "cell_type": "markdown",
      "source": [
        "The data used for this project was scraped from [amazon.com](https://www.amazon.com/), an ecommerce platform that sells different products. It contains more than 17 thousand reviews  of unlocked mobile phones sold on between the period 2014 to August 2022. The data has 7 features:\n",
        "\n",
        "- Rating  -  Contains the rating awarded to a product.                   \n",
        "- Review Title  - The title of review of a product.\n",
        "- Review - Contains the review of a product.\n",
        "- Location and Date of Review - The date and location from where a review was done.\n",
        "- Affiliated Company  -  Company affiliated with the mobile phone.\n",
        "- Brand and Features  - The brand of the product and its relevant features.\n",
        "- Price - The price of the product.\n",
        "\n",
        "\n"
      ],
      "metadata": {
        "id": "sqSbCw7_jZSZ"
      }
    },
    {
      "cell_type": "markdown",
      "source": [
        "# 3. Loading Relevant Libraries & Data"
      ],
      "metadata": {
        "id": "4i1eLmRKGPl4"
      }
    },
    {
      "cell_type": "markdown",
      "source": [
        "## 3.1. Loading Libraries"
      ],
      "metadata": {
        "id": "CbMOWZeZGm-N"
      }
    },
    {
      "cell_type": "code",
      "source": [
        "from google.colab import drive\n",
        "drive.mount('/content/drive')"
      ],
      "metadata": {
        "colab": {
          "base_uri": "https://localhost:8080/"
        },
        "id": "BxDfprYEzRXr",
        "outputId": "44a89cc2-0390-47a1-c0da-4facdbd907ed"
      },
      "execution_count": 309,
      "outputs": [
        {
          "output_type": "stream",
          "name": "stdout",
          "text": [
            "Drive already mounted at /content/drive; to attempt to forcibly remount, call drive.mount(\"/content/drive\", force_remount=True).\n"
          ]
        }
      ]
    },
    {
      "cell_type": "code",
      "source": [
        "# #All the relevant downloads and pip installs\n",
        "\n",
        "\n",
        "# ! pip install contractions\n",
        "# ! pip install transformers\n",
        "# !pip install nltk\n",
        "# !pip install torch torchvision torchaudio --extra-index-url https://download.pytorch.org/whl/cu116\n",
        "\n",
        "# import nltk\n",
        "\n",
        "# nltk.download('vader_lexicon')\n",
        "# nltk.download('all', quiet=True)\n",
        "# nltk.download('wordnet', quiet=True)\n",
        "# nltk.download('punkt', quiet=True)\n",
        "# nltk.download('omw-1.4')\n",
        "# nltk.download('stopwords', quiet=True)\n",
        "# nltk.download('tagsets', quiet=True)\n",
        "# nltk.download('averaged_perceptron_tagger', quiet=True)\n"
      ],
      "metadata": {
        "id": "L8Ay6ItyYooW"
      },
      "execution_count": 310,
      "outputs": []
    },
    {
      "cell_type": "code",
      "source": [
        "# Importing relevant libraries\n",
        "\n",
        "import pandas as pd\n",
        "from pandas_profiling import ProfileReport\n",
        "import numpy as np\n",
        "\n",
        "import seaborn as sns\n",
        "import matplotlib.pyplot as plt\n",
        "%matplotlib inline\n",
        "from scipy.special import softmax\n",
        "\n",
        "import torch\n",
        "import contractions\n",
        "from wordcloud import WordCloud, STOPWORDS\n",
        "\n",
        "\n",
        "import re\n",
        "import nltk\n",
        "import string\n",
        "import xgboost as xgb\n",
        "from nltk import pos_tag\n",
        "from textblob import TextBlob\n",
        "from tqdm.notebook import tqdm\n",
        "from nltk.corpus import stopwords\n",
        "from nltk.probability import FreqDist\n",
        "from nltk.stem import WordNetLemmatizer\n",
        "from nltk.corpus import wordnet\n",
        "from nltk.sentiment import SentimentIntensityAnalyzer\n",
        "from nltk.tokenize import RegexpTokenizer, word_tokenize\n",
        "\n",
        "\n",
        "\n",
        "from transformers import AutoTokenizer\n",
        "from transformers import AutoModelForSequenceClassification\n",
        "\n",
        "\n",
        "\n",
        "from sklearn.model_selection import train_test_split\n",
        "from imblearn.over_sampling import SMOTE\n",
        "from sklearn.metrics import classification_report, confusion_matrix, roc_auc_score, roc_curve,accuracy_score\n",
        "from sklearn.feature_extraction.text import CountVectorizer, TfidfVectorizer\n",
        "from sklearn.naive_bayes import MultinomialNB\n",
        "from sklearn.svm import SVC"
      ],
      "metadata": {
        "id": "LxndseO0G2LM"
      },
      "execution_count": 311,
      "outputs": []
    },
    {
      "cell_type": "markdown",
      "source": [
        "## 3.2. Loading Data"
      ],
      "metadata": {
        "id": "Bix9U25iG3d6"
      }
    },
    {
      "cell_type": "code",
      "source": [
        "# loading the data\n",
        "\n",
        "df = pd.read_csv('/content/drive/Shareddrives/Alpha/Data/Amazon Combined Data.csv')\n",
        "\n",
        "# previewing the data\n",
        "\n",
        "df.head()"
      ],
      "metadata": {
        "id": "7QRfpgb3G6YA",
        "outputId": "c86ae97a-f438-4253-ca3f-776b6f8472d6",
        "colab": {
          "base_uri": "https://localhost:8080/",
          "height": 354
        }
      },
      "execution_count": 312,
      "outputs": [
        {
          "output_type": "execute_result",
          "data": {
            "text/plain": [
              "               Rating                                       Review Title  \\\n",
              "0  4.0 out of 5 stars  \\n.. not what ordered, not New... but it works...   \n",
              "1  3.0 out of 5 stars  \\nNot for Cricket Wireless and this two review...   \n",
              "2  3.0 out of 5 stars               \\nWill not work on T-Mobile sysem!\\n   \n",
              "3  3.0 out of 5 stars                          \\nA burner or for a kid\\n   \n",
              "4  4.0 out of 5 stars                                  \\nIt works okay\\n   \n",
              "\n",
              "                                              Review  \\\n",
              "0  \\nSo first off...it's not what I ordered, but ...   \n",
              "1  \\nThe phone itself is a okay android device, b...   \n",
              "2  \\nNew phone write up indicates T-Mobile system...   \n",
              "3  \\nI use this as a burner w/o a sim card in it....   \n",
              "4                                  \\nIt works fine\\n   \n",
              "\n",
              "                         Location and Date of Review   Affiliated Company  \\\n",
              "0  Reviewed in the United States on February 11, ...  Visit the RCA Store   \n",
              "1  Reviewed in the United States on February 4, 2021  Visit the RCA Store   \n",
              "2      Reviewed in the United States on June 7, 2022  Visit the RCA Store   \n",
              "3    Reviewed in the United States on April 14, 2022  Visit the RCA Store   \n",
              "4   Reviewed in the United States on August 13, 2022  Visit the RCA Store   \n",
              "\n",
              "                                  Brand and Features   Price  \n",
              "0          RCA Reno Smartphone, 4G LTE, 16GB, And...  $69.99  \n",
              "1          RCA Reno Smartphone, 4G LTE, 16GB, And...  $69.99  \n",
              "2          RCA Reno Smartphone, 4G LTE, 16GB, And...  $69.99  \n",
              "3          RCA Reno Smartphone, 4G LTE, 16GB, And...  $69.99  \n",
              "4          RCA Reno Smartphone, 4G LTE, 16GB, And...  $69.99  "
            ],
            "text/html": [
              "\n",
              "  <div id=\"df-ca7b9e0a-cc4a-4884-9b96-f8a9ccddf51b\">\n",
              "    <div class=\"colab-df-container\">\n",
              "      <div>\n",
              "<style scoped>\n",
              "    .dataframe tbody tr th:only-of-type {\n",
              "        vertical-align: middle;\n",
              "    }\n",
              "\n",
              "    .dataframe tbody tr th {\n",
              "        vertical-align: top;\n",
              "    }\n",
              "\n",
              "    .dataframe thead th {\n",
              "        text-align: right;\n",
              "    }\n",
              "</style>\n",
              "<table border=\"1\" class=\"dataframe\">\n",
              "  <thead>\n",
              "    <tr style=\"text-align: right;\">\n",
              "      <th></th>\n",
              "      <th>Rating</th>\n",
              "      <th>Review Title</th>\n",
              "      <th>Review</th>\n",
              "      <th>Location and Date of Review</th>\n",
              "      <th>Affiliated Company</th>\n",
              "      <th>Brand and Features</th>\n",
              "      <th>Price</th>\n",
              "    </tr>\n",
              "  </thead>\n",
              "  <tbody>\n",
              "    <tr>\n",
              "      <th>0</th>\n",
              "      <td>4.0 out of 5 stars</td>\n",
              "      <td>\\n.. not what ordered, not New... but it works...</td>\n",
              "      <td>\\nSo first off...it's not what I ordered, but ...</td>\n",
              "      <td>Reviewed in the United States on February 11, ...</td>\n",
              "      <td>Visit the RCA Store</td>\n",
              "      <td>RCA Reno Smartphone, 4G LTE, 16GB, And...</td>\n",
              "      <td>$69.99</td>\n",
              "    </tr>\n",
              "    <tr>\n",
              "      <th>1</th>\n",
              "      <td>3.0 out of 5 stars</td>\n",
              "      <td>\\nNot for Cricket Wireless and this two review...</td>\n",
              "      <td>\\nThe phone itself is a okay android device, b...</td>\n",
              "      <td>Reviewed in the United States on February 4, 2021</td>\n",
              "      <td>Visit the RCA Store</td>\n",
              "      <td>RCA Reno Smartphone, 4G LTE, 16GB, And...</td>\n",
              "      <td>$69.99</td>\n",
              "    </tr>\n",
              "    <tr>\n",
              "      <th>2</th>\n",
              "      <td>3.0 out of 5 stars</td>\n",
              "      <td>\\nWill not work on T-Mobile sysem!\\n</td>\n",
              "      <td>\\nNew phone write up indicates T-Mobile system...</td>\n",
              "      <td>Reviewed in the United States on June 7, 2022</td>\n",
              "      <td>Visit the RCA Store</td>\n",
              "      <td>RCA Reno Smartphone, 4G LTE, 16GB, And...</td>\n",
              "      <td>$69.99</td>\n",
              "    </tr>\n",
              "    <tr>\n",
              "      <th>3</th>\n",
              "      <td>3.0 out of 5 stars</td>\n",
              "      <td>\\nA burner or for a kid\\n</td>\n",
              "      <td>\\nI use this as a burner w/o a sim card in it....</td>\n",
              "      <td>Reviewed in the United States on April 14, 2022</td>\n",
              "      <td>Visit the RCA Store</td>\n",
              "      <td>RCA Reno Smartphone, 4G LTE, 16GB, And...</td>\n",
              "      <td>$69.99</td>\n",
              "    </tr>\n",
              "    <tr>\n",
              "      <th>4</th>\n",
              "      <td>4.0 out of 5 stars</td>\n",
              "      <td>\\nIt works okay\\n</td>\n",
              "      <td>\\nIt works fine\\n</td>\n",
              "      <td>Reviewed in the United States on August 13, 2022</td>\n",
              "      <td>Visit the RCA Store</td>\n",
              "      <td>RCA Reno Smartphone, 4G LTE, 16GB, And...</td>\n",
              "      <td>$69.99</td>\n",
              "    </tr>\n",
              "  </tbody>\n",
              "</table>\n",
              "</div>\n",
              "      <button class=\"colab-df-convert\" onclick=\"convertToInteractive('df-ca7b9e0a-cc4a-4884-9b96-f8a9ccddf51b')\"\n",
              "              title=\"Convert this dataframe to an interactive table.\"\n",
              "              style=\"display:none;\">\n",
              "        \n",
              "  <svg xmlns=\"http://www.w3.org/2000/svg\" height=\"24px\"viewBox=\"0 0 24 24\"\n",
              "       width=\"24px\">\n",
              "    <path d=\"M0 0h24v24H0V0z\" fill=\"none\"/>\n",
              "    <path d=\"M18.56 5.44l.94 2.06.94-2.06 2.06-.94-2.06-.94-.94-2.06-.94 2.06-2.06.94zm-11 1L8.5 8.5l.94-2.06 2.06-.94-2.06-.94L8.5 2.5l-.94 2.06-2.06.94zm10 10l.94 2.06.94-2.06 2.06-.94-2.06-.94-.94-2.06-.94 2.06-2.06.94z\"/><path d=\"M17.41 7.96l-1.37-1.37c-.4-.4-.92-.59-1.43-.59-.52 0-1.04.2-1.43.59L10.3 9.45l-7.72 7.72c-.78.78-.78 2.05 0 2.83L4 21.41c.39.39.9.59 1.41.59.51 0 1.02-.2 1.41-.59l7.78-7.78 2.81-2.81c.8-.78.8-2.07 0-2.86zM5.41 20L4 18.59l7.72-7.72 1.47 1.35L5.41 20z\"/>\n",
              "  </svg>\n",
              "      </button>\n",
              "      \n",
              "  <style>\n",
              "    .colab-df-container {\n",
              "      display:flex;\n",
              "      flex-wrap:wrap;\n",
              "      gap: 12px;\n",
              "    }\n",
              "\n",
              "    .colab-df-convert {\n",
              "      background-color: #E8F0FE;\n",
              "      border: none;\n",
              "      border-radius: 50%;\n",
              "      cursor: pointer;\n",
              "      display: none;\n",
              "      fill: #1967D2;\n",
              "      height: 32px;\n",
              "      padding: 0 0 0 0;\n",
              "      width: 32px;\n",
              "    }\n",
              "\n",
              "    .colab-df-convert:hover {\n",
              "      background-color: #E2EBFA;\n",
              "      box-shadow: 0px 1px 2px rgba(60, 64, 67, 0.3), 0px 1px 3px 1px rgba(60, 64, 67, 0.15);\n",
              "      fill: #174EA6;\n",
              "    }\n",
              "\n",
              "    [theme=dark] .colab-df-convert {\n",
              "      background-color: #3B4455;\n",
              "      fill: #D2E3FC;\n",
              "    }\n",
              "\n",
              "    [theme=dark] .colab-df-convert:hover {\n",
              "      background-color: #434B5C;\n",
              "      box-shadow: 0px 1px 3px 1px rgba(0, 0, 0, 0.15);\n",
              "      filter: drop-shadow(0px 1px 2px rgba(0, 0, 0, 0.3));\n",
              "      fill: #FFFFFF;\n",
              "    }\n",
              "  </style>\n",
              "\n",
              "      <script>\n",
              "        const buttonEl =\n",
              "          document.querySelector('#df-ca7b9e0a-cc4a-4884-9b96-f8a9ccddf51b button.colab-df-convert');\n",
              "        buttonEl.style.display =\n",
              "          google.colab.kernel.accessAllowed ? 'block' : 'none';\n",
              "\n",
              "        async function convertToInteractive(key) {\n",
              "          const element = document.querySelector('#df-ca7b9e0a-cc4a-4884-9b96-f8a9ccddf51b');\n",
              "          const dataTable =\n",
              "            await google.colab.kernel.invokeFunction('convertToInteractive',\n",
              "                                                     [key], {});\n",
              "          if (!dataTable) return;\n",
              "\n",
              "          const docLinkHtml = 'Like what you see? Visit the ' +\n",
              "            '<a target=\"_blank\" href=https://colab.research.google.com/notebooks/data_table.ipynb>data table notebook</a>'\n",
              "            + ' to learn more about interactive tables.';\n",
              "          element.innerHTML = '';\n",
              "          dataTable['output_type'] = 'display_data';\n",
              "          await google.colab.output.renderOutput(dataTable, element);\n",
              "          const docLink = document.createElement('div');\n",
              "          docLink.innerHTML = docLinkHtml;\n",
              "          element.appendChild(docLink);\n",
              "        }\n",
              "      </script>\n",
              "    </div>\n",
              "  </div>\n",
              "  "
            ]
          },
          "metadata": {},
          "execution_count": 312
        }
      ]
    },
    {
      "cell_type": "markdown",
      "source": [
        "## 3.3. Previewing Data"
      ],
      "metadata": {
        "id": "wwvKhb51G67A"
      }
    },
    {
      "cell_type": "code",
      "source": [
        "# checking the shape of the data\n",
        "\n",
        "print(f'The data has {df.shape[0]} rows and {df.shape[1]} columns')"
      ],
      "metadata": {
        "colab": {
          "base_uri": "https://localhost:8080/"
        },
        "id": "t6dRxB8kHASI",
        "outputId": "db0a0fd5-7495-4774-c70b-d9471958afad"
      },
      "execution_count": 313,
      "outputs": [
        {
          "output_type": "stream",
          "name": "stdout",
          "text": [
            "The data has 17198 rows and 7 columns\n"
          ]
        }
      ]
    },
    {
      "cell_type": "code",
      "source": [
        "# checking the data types of the data\n",
        "\n",
        "df.info()"
      ],
      "metadata": {
        "colab": {
          "base_uri": "https://localhost:8080/"
        },
        "id": "ssrPqcJPmSUr",
        "outputId": "f98ed0b3-bf92-447d-ae44-90e257e809dc"
      },
      "execution_count": 314,
      "outputs": [
        {
          "output_type": "stream",
          "name": "stdout",
          "text": [
            "<class 'pandas.core.frame.DataFrame'>\n",
            "RangeIndex: 17198 entries, 0 to 17197\n",
            "Data columns (total 7 columns):\n",
            " #   Column                       Non-Null Count  Dtype \n",
            "---  ------                       --------------  ----- \n",
            " 0   Rating                       17198 non-null  object\n",
            " 1   Review Title                 17198 non-null  object\n",
            " 2   Review                       17168 non-null  object\n",
            " 3   Location and Date of Review  17198 non-null  object\n",
            " 4   Affiliated Company           17198 non-null  object\n",
            " 5   Brand and Features           17198 non-null  object\n",
            " 6   Price                        17198 non-null  object\n",
            "dtypes: object(7)\n",
            "memory usage: 940.6+ KB\n"
          ]
        }
      ]
    },
    {
      "cell_type": "markdown",
      "source": [
        "# 4. Data Cleaning"
      ],
      "metadata": {
        "id": "ogkfBk-EHXkH"
      }
    },
    {
      "cell_type": "markdown",
      "source": [
        "## 4.1. Missing values\n",
        "- Checking for missing values\n"
      ],
      "metadata": {
        "id": "16LBkvdQ0c69"
      }
    },
    {
      "cell_type": "code",
      "source": [
        "# Define a function to get missing data\n",
        "\n",
        "def missing_data(data: pd.DataFrame) -> pd.DataFrame:\n",
        "    \"\"\"\n",
        "    The function finds columns that have missing values, and returns the column,\n",
        "    and the number of rows with missing data\n",
        "    \"\"\"\n",
        "    missing_data = data.isna().sum()\n",
        "\n",
        "    missing_data = missing_data[missing_data>0]\n",
        "\n",
        "    return missing_data"
      ],
      "metadata": {
        "id": "QKadLx5PUkN0"
      },
      "execution_count": 315,
      "outputs": []
    },
    {
      "cell_type": "code",
      "source": [
        "# Getting the sum of missing values per column\n",
        "\n",
        "missing_data(df).to_frame()"
      ],
      "metadata": {
        "id": "luUR9GWFHolO",
        "colab": {
          "base_uri": "https://localhost:8080/",
          "height": 81
        },
        "outputId": "bd031441-880f-40d3-eb3f-445c05122c2e"
      },
      "execution_count": 316,
      "outputs": [
        {
          "output_type": "execute_result",
          "data": {
            "text/plain": [
              "         0\n",
              "Review  30"
            ],
            "text/html": [
              "\n",
              "  <div id=\"df-8799f649-6272-48d4-b0a0-7368f917dec9\">\n",
              "    <div class=\"colab-df-container\">\n",
              "      <div>\n",
              "<style scoped>\n",
              "    .dataframe tbody tr th:only-of-type {\n",
              "        vertical-align: middle;\n",
              "    }\n",
              "\n",
              "    .dataframe tbody tr th {\n",
              "        vertical-align: top;\n",
              "    }\n",
              "\n",
              "    .dataframe thead th {\n",
              "        text-align: right;\n",
              "    }\n",
              "</style>\n",
              "<table border=\"1\" class=\"dataframe\">\n",
              "  <thead>\n",
              "    <tr style=\"text-align: right;\">\n",
              "      <th></th>\n",
              "      <th>0</th>\n",
              "    </tr>\n",
              "  </thead>\n",
              "  <tbody>\n",
              "    <tr>\n",
              "      <th>Review</th>\n",
              "      <td>30</td>\n",
              "    </tr>\n",
              "  </tbody>\n",
              "</table>\n",
              "</div>\n",
              "      <button class=\"colab-df-convert\" onclick=\"convertToInteractive('df-8799f649-6272-48d4-b0a0-7368f917dec9')\"\n",
              "              title=\"Convert this dataframe to an interactive table.\"\n",
              "              style=\"display:none;\">\n",
              "        \n",
              "  <svg xmlns=\"http://www.w3.org/2000/svg\" height=\"24px\"viewBox=\"0 0 24 24\"\n",
              "       width=\"24px\">\n",
              "    <path d=\"M0 0h24v24H0V0z\" fill=\"none\"/>\n",
              "    <path d=\"M18.56 5.44l.94 2.06.94-2.06 2.06-.94-2.06-.94-.94-2.06-.94 2.06-2.06.94zm-11 1L8.5 8.5l.94-2.06 2.06-.94-2.06-.94L8.5 2.5l-.94 2.06-2.06.94zm10 10l.94 2.06.94-2.06 2.06-.94-2.06-.94-.94-2.06-.94 2.06-2.06.94z\"/><path d=\"M17.41 7.96l-1.37-1.37c-.4-.4-.92-.59-1.43-.59-.52 0-1.04.2-1.43.59L10.3 9.45l-7.72 7.72c-.78.78-.78 2.05 0 2.83L4 21.41c.39.39.9.59 1.41.59.51 0 1.02-.2 1.41-.59l7.78-7.78 2.81-2.81c.8-.78.8-2.07 0-2.86zM5.41 20L4 18.59l7.72-7.72 1.47 1.35L5.41 20z\"/>\n",
              "  </svg>\n",
              "      </button>\n",
              "      \n",
              "  <style>\n",
              "    .colab-df-container {\n",
              "      display:flex;\n",
              "      flex-wrap:wrap;\n",
              "      gap: 12px;\n",
              "    }\n",
              "\n",
              "    .colab-df-convert {\n",
              "      background-color: #E8F0FE;\n",
              "      border: none;\n",
              "      border-radius: 50%;\n",
              "      cursor: pointer;\n",
              "      display: none;\n",
              "      fill: #1967D2;\n",
              "      height: 32px;\n",
              "      padding: 0 0 0 0;\n",
              "      width: 32px;\n",
              "    }\n",
              "\n",
              "    .colab-df-convert:hover {\n",
              "      background-color: #E2EBFA;\n",
              "      box-shadow: 0px 1px 2px rgba(60, 64, 67, 0.3), 0px 1px 3px 1px rgba(60, 64, 67, 0.15);\n",
              "      fill: #174EA6;\n",
              "    }\n",
              "\n",
              "    [theme=dark] .colab-df-convert {\n",
              "      background-color: #3B4455;\n",
              "      fill: #D2E3FC;\n",
              "    }\n",
              "\n",
              "    [theme=dark] .colab-df-convert:hover {\n",
              "      background-color: #434B5C;\n",
              "      box-shadow: 0px 1px 3px 1px rgba(0, 0, 0, 0.15);\n",
              "      filter: drop-shadow(0px 1px 2px rgba(0, 0, 0, 0.3));\n",
              "      fill: #FFFFFF;\n",
              "    }\n",
              "  </style>\n",
              "\n",
              "      <script>\n",
              "        const buttonEl =\n",
              "          document.querySelector('#df-8799f649-6272-48d4-b0a0-7368f917dec9 button.colab-df-convert');\n",
              "        buttonEl.style.display =\n",
              "          google.colab.kernel.accessAllowed ? 'block' : 'none';\n",
              "\n",
              "        async function convertToInteractive(key) {\n",
              "          const element = document.querySelector('#df-8799f649-6272-48d4-b0a0-7368f917dec9');\n",
              "          const dataTable =\n",
              "            await google.colab.kernel.invokeFunction('convertToInteractive',\n",
              "                                                     [key], {});\n",
              "          if (!dataTable) return;\n",
              "\n",
              "          const docLinkHtml = 'Like what you see? Visit the ' +\n",
              "            '<a target=\"_blank\" href=https://colab.research.google.com/notebooks/data_table.ipynb>data table notebook</a>'\n",
              "            + ' to learn more about interactive tables.';\n",
              "          element.innerHTML = '';\n",
              "          dataTable['output_type'] = 'display_data';\n",
              "          await google.colab.output.renderOutput(dataTable, element);\n",
              "          const docLink = document.createElement('div');\n",
              "          docLink.innerHTML = docLinkHtml;\n",
              "          element.appendChild(docLink);\n",
              "        }\n",
              "      </script>\n",
              "    </div>\n",
              "  </div>\n",
              "  "
            ]
          },
          "metadata": {},
          "execution_count": 316
        }
      ]
    },
    {
      "cell_type": "markdown",
      "source": [
        "Out of the 7 columns, only the review's column has missing values.\n",
        "\n",
        "Since the dataset is large, the missing values can be dropped and still retain relevant information."
      ],
      "metadata": {
        "id": "vQ8xJbnW2sVI"
      }
    },
    {
      "cell_type": "code",
      "source": [
        "# Dropping the missing values\n",
        "\n",
        "df.dropna(inplace = True)\n",
        "\n",
        "# Confirming there are no missing values \n",
        "\n",
        "print('The data has {} missing values'.format(df['Review'].isna().sum()))"
      ],
      "metadata": {
        "id": "8PJzGXBT4V5r",
        "colab": {
          "base_uri": "https://localhost:8080/"
        },
        "outputId": "d0ff54f9-26ca-4d45-e742-c7fb2d900b1a"
      },
      "execution_count": 317,
      "outputs": [
        {
          "output_type": "stream",
          "name": "stdout",
          "text": [
            "The data has 0 missing values\n"
          ]
        }
      ]
    },
    {
      "cell_type": "markdown",
      "source": [
        "## 4.2. Duplicates"
      ],
      "metadata": {
        "id": "lZxUy1zi5b2I"
      }
    },
    {
      "cell_type": "code",
      "source": [
        "# Checking for duplicates\n",
        "\n",
        "print(f\"The data has {df.duplicated().sum()} duplicated rows\")"
      ],
      "metadata": {
        "id": "m2BfEKC35j8d",
        "outputId": "3cc44237-82f1-402f-a404-5668299e6590",
        "colab": {
          "base_uri": "https://localhost:8080/"
        }
      },
      "execution_count": 318,
      "outputs": [
        {
          "output_type": "stream",
          "name": "stdout",
          "text": [
            "The data has 6595 duplicated rows\n"
          ]
        }
      ]
    },
    {
      "cell_type": "code",
      "source": [
        "# Exploring the duplicates\n",
        "\n",
        "duplicates = df[df.duplicated()]\n",
        "\n",
        "duplicates.head(4)"
      ],
      "metadata": {
        "id": "rnivPaa451b1",
        "outputId": "f112c99b-a76a-4b30-9c40-7db49a7dfab4",
        "colab": {
          "base_uri": "https://localhost:8080/",
          "height": 306
        }
      },
      "execution_count": 319,
      "outputs": [
        {
          "output_type": "execute_result",
          "data": {
            "text/plain": [
              "                Rating                                       Review Title  \\\n",
              "30  4.0 out of 5 stars  \\n.. not what ordered, not New... but it works...   \n",
              "31  3.0 out of 5 stars  \\nNot for Cricket Wireless and this two review...   \n",
              "32  3.0 out of 5 stars               \\nWill not work on T-Mobile sysem!\\n   \n",
              "33  3.0 out of 5 stars                          \\nA burner or for a kid\\n   \n",
              "\n",
              "                                               Review  \\\n",
              "30  \\nSo first off...it's not what I ordered, but ...   \n",
              "31  \\nThe phone itself is a okay android device, b...   \n",
              "32  \\nNew phone write up indicates T-Mobile system...   \n",
              "33  \\nI use this as a burner w/o a sim card in it....   \n",
              "\n",
              "                          Location and Date of Review   Affiliated Company  \\\n",
              "30  Reviewed in the United States on February 11, ...  Visit the RCA Store   \n",
              "31  Reviewed in the United States on February 4, 2021  Visit the RCA Store   \n",
              "32      Reviewed in the United States on June 7, 2022  Visit the RCA Store   \n",
              "33    Reviewed in the United States on April 14, 2022  Visit the RCA Store   \n",
              "\n",
              "                                   Brand and Features   Price  \n",
              "30          RCA Reno Smartphone, 4G LTE, 16GB, And...  $69.99  \n",
              "31          RCA Reno Smartphone, 4G LTE, 16GB, And...  $69.99  \n",
              "32          RCA Reno Smartphone, 4G LTE, 16GB, And...  $69.99  \n",
              "33          RCA Reno Smartphone, 4G LTE, 16GB, And...  $69.99  "
            ],
            "text/html": [
              "\n",
              "  <div id=\"df-9952c842-61a5-4727-9575-1925dc2685d7\">\n",
              "    <div class=\"colab-df-container\">\n",
              "      <div>\n",
              "<style scoped>\n",
              "    .dataframe tbody tr th:only-of-type {\n",
              "        vertical-align: middle;\n",
              "    }\n",
              "\n",
              "    .dataframe tbody tr th {\n",
              "        vertical-align: top;\n",
              "    }\n",
              "\n",
              "    .dataframe thead th {\n",
              "        text-align: right;\n",
              "    }\n",
              "</style>\n",
              "<table border=\"1\" class=\"dataframe\">\n",
              "  <thead>\n",
              "    <tr style=\"text-align: right;\">\n",
              "      <th></th>\n",
              "      <th>Rating</th>\n",
              "      <th>Review Title</th>\n",
              "      <th>Review</th>\n",
              "      <th>Location and Date of Review</th>\n",
              "      <th>Affiliated Company</th>\n",
              "      <th>Brand and Features</th>\n",
              "      <th>Price</th>\n",
              "    </tr>\n",
              "  </thead>\n",
              "  <tbody>\n",
              "    <tr>\n",
              "      <th>30</th>\n",
              "      <td>4.0 out of 5 stars</td>\n",
              "      <td>\\n.. not what ordered, not New... but it works...</td>\n",
              "      <td>\\nSo first off...it's not what I ordered, but ...</td>\n",
              "      <td>Reviewed in the United States on February 11, ...</td>\n",
              "      <td>Visit the RCA Store</td>\n",
              "      <td>RCA Reno Smartphone, 4G LTE, 16GB, And...</td>\n",
              "      <td>$69.99</td>\n",
              "    </tr>\n",
              "    <tr>\n",
              "      <th>31</th>\n",
              "      <td>3.0 out of 5 stars</td>\n",
              "      <td>\\nNot for Cricket Wireless and this two review...</td>\n",
              "      <td>\\nThe phone itself is a okay android device, b...</td>\n",
              "      <td>Reviewed in the United States on February 4, 2021</td>\n",
              "      <td>Visit the RCA Store</td>\n",
              "      <td>RCA Reno Smartphone, 4G LTE, 16GB, And...</td>\n",
              "      <td>$69.99</td>\n",
              "    </tr>\n",
              "    <tr>\n",
              "      <th>32</th>\n",
              "      <td>3.0 out of 5 stars</td>\n",
              "      <td>\\nWill not work on T-Mobile sysem!\\n</td>\n",
              "      <td>\\nNew phone write up indicates T-Mobile system...</td>\n",
              "      <td>Reviewed in the United States on June 7, 2022</td>\n",
              "      <td>Visit the RCA Store</td>\n",
              "      <td>RCA Reno Smartphone, 4G LTE, 16GB, And...</td>\n",
              "      <td>$69.99</td>\n",
              "    </tr>\n",
              "    <tr>\n",
              "      <th>33</th>\n",
              "      <td>3.0 out of 5 stars</td>\n",
              "      <td>\\nA burner or for a kid\\n</td>\n",
              "      <td>\\nI use this as a burner w/o a sim card in it....</td>\n",
              "      <td>Reviewed in the United States on April 14, 2022</td>\n",
              "      <td>Visit the RCA Store</td>\n",
              "      <td>RCA Reno Smartphone, 4G LTE, 16GB, And...</td>\n",
              "      <td>$69.99</td>\n",
              "    </tr>\n",
              "  </tbody>\n",
              "</table>\n",
              "</div>\n",
              "      <button class=\"colab-df-convert\" onclick=\"convertToInteractive('df-9952c842-61a5-4727-9575-1925dc2685d7')\"\n",
              "              title=\"Convert this dataframe to an interactive table.\"\n",
              "              style=\"display:none;\">\n",
              "        \n",
              "  <svg xmlns=\"http://www.w3.org/2000/svg\" height=\"24px\"viewBox=\"0 0 24 24\"\n",
              "       width=\"24px\">\n",
              "    <path d=\"M0 0h24v24H0V0z\" fill=\"none\"/>\n",
              "    <path d=\"M18.56 5.44l.94 2.06.94-2.06 2.06-.94-2.06-.94-.94-2.06-.94 2.06-2.06.94zm-11 1L8.5 8.5l.94-2.06 2.06-.94-2.06-.94L8.5 2.5l-.94 2.06-2.06.94zm10 10l.94 2.06.94-2.06 2.06-.94-2.06-.94-.94-2.06-.94 2.06-2.06.94z\"/><path d=\"M17.41 7.96l-1.37-1.37c-.4-.4-.92-.59-1.43-.59-.52 0-1.04.2-1.43.59L10.3 9.45l-7.72 7.72c-.78.78-.78 2.05 0 2.83L4 21.41c.39.39.9.59 1.41.59.51 0 1.02-.2 1.41-.59l7.78-7.78 2.81-2.81c.8-.78.8-2.07 0-2.86zM5.41 20L4 18.59l7.72-7.72 1.47 1.35L5.41 20z\"/>\n",
              "  </svg>\n",
              "      </button>\n",
              "      \n",
              "  <style>\n",
              "    .colab-df-container {\n",
              "      display:flex;\n",
              "      flex-wrap:wrap;\n",
              "      gap: 12px;\n",
              "    }\n",
              "\n",
              "    .colab-df-convert {\n",
              "      background-color: #E8F0FE;\n",
              "      border: none;\n",
              "      border-radius: 50%;\n",
              "      cursor: pointer;\n",
              "      display: none;\n",
              "      fill: #1967D2;\n",
              "      height: 32px;\n",
              "      padding: 0 0 0 0;\n",
              "      width: 32px;\n",
              "    }\n",
              "\n",
              "    .colab-df-convert:hover {\n",
              "      background-color: #E2EBFA;\n",
              "      box-shadow: 0px 1px 2px rgba(60, 64, 67, 0.3), 0px 1px 3px 1px rgba(60, 64, 67, 0.15);\n",
              "      fill: #174EA6;\n",
              "    }\n",
              "\n",
              "    [theme=dark] .colab-df-convert {\n",
              "      background-color: #3B4455;\n",
              "      fill: #D2E3FC;\n",
              "    }\n",
              "\n",
              "    [theme=dark] .colab-df-convert:hover {\n",
              "      background-color: #434B5C;\n",
              "      box-shadow: 0px 1px 3px 1px rgba(0, 0, 0, 0.15);\n",
              "      filter: drop-shadow(0px 1px 2px rgba(0, 0, 0, 0.3));\n",
              "      fill: #FFFFFF;\n",
              "    }\n",
              "  </style>\n",
              "\n",
              "      <script>\n",
              "        const buttonEl =\n",
              "          document.querySelector('#df-9952c842-61a5-4727-9575-1925dc2685d7 button.colab-df-convert');\n",
              "        buttonEl.style.display =\n",
              "          google.colab.kernel.accessAllowed ? 'block' : 'none';\n",
              "\n",
              "        async function convertToInteractive(key) {\n",
              "          const element = document.querySelector('#df-9952c842-61a5-4727-9575-1925dc2685d7');\n",
              "          const dataTable =\n",
              "            await google.colab.kernel.invokeFunction('convertToInteractive',\n",
              "                                                     [key], {});\n",
              "          if (!dataTable) return;\n",
              "\n",
              "          const docLinkHtml = 'Like what you see? Visit the ' +\n",
              "            '<a target=\"_blank\" href=https://colab.research.google.com/notebooks/data_table.ipynb>data table notebook</a>'\n",
              "            + ' to learn more about interactive tables.';\n",
              "          element.innerHTML = '';\n",
              "          dataTable['output_type'] = 'display_data';\n",
              "          await google.colab.output.renderOutput(dataTable, element);\n",
              "          const docLink = document.createElement('div');\n",
              "          docLink.innerHTML = docLinkHtml;\n",
              "          element.appendChild(docLink);\n",
              "        }\n",
              "      </script>\n",
              "    </div>\n",
              "  </div>\n",
              "  "
            ]
          },
          "metadata": {},
          "execution_count": 319
        }
      ]
    },
    {
      "cell_type": "markdown",
      "source": [
        "Duplicated columns will be dropped to avoid it misguiding our analysis and prediction process."
      ],
      "metadata": {
        "id": "W2HufKDdSIgp"
      }
    },
    {
      "cell_type": "code",
      "source": [
        "# Dropping the duplicates\n",
        "\n",
        "df.drop_duplicates(inplace = True)\n"
      ],
      "metadata": {
        "id": "YzMVbiSgA8cn"
      },
      "execution_count": 320,
      "outputs": []
    },
    {
      "cell_type": "code",
      "source": [
        "# Confirming if there are duplicates\n",
        "\n",
        "print(f\"The data has {df.duplicated().sum()} duplicated rows\")"
      ],
      "metadata": {
        "id": "O-ugEsrTDdVP",
        "outputId": "ce8b10ce-800d-4cac-fbc9-0f19c32ae87e",
        "colab": {
          "base_uri": "https://localhost:8080/"
        }
      },
      "execution_count": 321,
      "outputs": [
        {
          "output_type": "stream",
          "name": "stdout",
          "text": [
            "The data has 0 duplicated rows\n"
          ]
        }
      ]
    },
    {
      "cell_type": "markdown",
      "source": [
        "## 4.3. Cleaning Specific Columns"
      ],
      "metadata": {
        "id": "L4t22FzFCstP"
      }
    },
    {
      "cell_type": "markdown",
      "source": [
        "### 4.3.1. Rating Column\n",
        "\n",
        "For better analysis the rating value needs to be extracted and in cast as an integer."
      ],
      "metadata": {
        "id": "Ou1yvsXOC9hO"
      }
    },
    {
      "cell_type": "code",
      "source": [
        "#Extracting the digits in the Rating column and converting it to an interger type\n",
        "\n",
        "df[\"Rating\"] = df[\"Rating\"].str.extract('(\\d+)').astype(int)\n",
        "\n",
        "# previewing the data\n",
        "\n",
        "df[\"Rating\"].head(3).to_frame()"
      ],
      "metadata": {
        "colab": {
          "base_uri": "https://localhost:8080/",
          "height": 143
        },
        "id": "YwysQhyfC8HO",
        "outputId": "b1995388-1cf0-4111-8b16-7e4d881608b5"
      },
      "execution_count": 322,
      "outputs": [
        {
          "output_type": "execute_result",
          "data": {
            "text/plain": [
              "   Rating\n",
              "0       4\n",
              "1       3\n",
              "2       3"
            ],
            "text/html": [
              "\n",
              "  <div id=\"df-205dcd9c-cf45-4bfb-8dc5-d02f44f97d9d\">\n",
              "    <div class=\"colab-df-container\">\n",
              "      <div>\n",
              "<style scoped>\n",
              "    .dataframe tbody tr th:only-of-type {\n",
              "        vertical-align: middle;\n",
              "    }\n",
              "\n",
              "    .dataframe tbody tr th {\n",
              "        vertical-align: top;\n",
              "    }\n",
              "\n",
              "    .dataframe thead th {\n",
              "        text-align: right;\n",
              "    }\n",
              "</style>\n",
              "<table border=\"1\" class=\"dataframe\">\n",
              "  <thead>\n",
              "    <tr style=\"text-align: right;\">\n",
              "      <th></th>\n",
              "      <th>Rating</th>\n",
              "    </tr>\n",
              "  </thead>\n",
              "  <tbody>\n",
              "    <tr>\n",
              "      <th>0</th>\n",
              "      <td>4</td>\n",
              "    </tr>\n",
              "    <tr>\n",
              "      <th>1</th>\n",
              "      <td>3</td>\n",
              "    </tr>\n",
              "    <tr>\n",
              "      <th>2</th>\n",
              "      <td>3</td>\n",
              "    </tr>\n",
              "  </tbody>\n",
              "</table>\n",
              "</div>\n",
              "      <button class=\"colab-df-convert\" onclick=\"convertToInteractive('df-205dcd9c-cf45-4bfb-8dc5-d02f44f97d9d')\"\n",
              "              title=\"Convert this dataframe to an interactive table.\"\n",
              "              style=\"display:none;\">\n",
              "        \n",
              "  <svg xmlns=\"http://www.w3.org/2000/svg\" height=\"24px\"viewBox=\"0 0 24 24\"\n",
              "       width=\"24px\">\n",
              "    <path d=\"M0 0h24v24H0V0z\" fill=\"none\"/>\n",
              "    <path d=\"M18.56 5.44l.94 2.06.94-2.06 2.06-.94-2.06-.94-.94-2.06-.94 2.06-2.06.94zm-11 1L8.5 8.5l.94-2.06 2.06-.94-2.06-.94L8.5 2.5l-.94 2.06-2.06.94zm10 10l.94 2.06.94-2.06 2.06-.94-2.06-.94-.94-2.06-.94 2.06-2.06.94z\"/><path d=\"M17.41 7.96l-1.37-1.37c-.4-.4-.92-.59-1.43-.59-.52 0-1.04.2-1.43.59L10.3 9.45l-7.72 7.72c-.78.78-.78 2.05 0 2.83L4 21.41c.39.39.9.59 1.41.59.51 0 1.02-.2 1.41-.59l7.78-7.78 2.81-2.81c.8-.78.8-2.07 0-2.86zM5.41 20L4 18.59l7.72-7.72 1.47 1.35L5.41 20z\"/>\n",
              "  </svg>\n",
              "      </button>\n",
              "      \n",
              "  <style>\n",
              "    .colab-df-container {\n",
              "      display:flex;\n",
              "      flex-wrap:wrap;\n",
              "      gap: 12px;\n",
              "    }\n",
              "\n",
              "    .colab-df-convert {\n",
              "      background-color: #E8F0FE;\n",
              "      border: none;\n",
              "      border-radius: 50%;\n",
              "      cursor: pointer;\n",
              "      display: none;\n",
              "      fill: #1967D2;\n",
              "      height: 32px;\n",
              "      padding: 0 0 0 0;\n",
              "      width: 32px;\n",
              "    }\n",
              "\n",
              "    .colab-df-convert:hover {\n",
              "      background-color: #E2EBFA;\n",
              "      box-shadow: 0px 1px 2px rgba(60, 64, 67, 0.3), 0px 1px 3px 1px rgba(60, 64, 67, 0.15);\n",
              "      fill: #174EA6;\n",
              "    }\n",
              "\n",
              "    [theme=dark] .colab-df-convert {\n",
              "      background-color: #3B4455;\n",
              "      fill: #D2E3FC;\n",
              "    }\n",
              "\n",
              "    [theme=dark] .colab-df-convert:hover {\n",
              "      background-color: #434B5C;\n",
              "      box-shadow: 0px 1px 3px 1px rgba(0, 0, 0, 0.15);\n",
              "      filter: drop-shadow(0px 1px 2px rgba(0, 0, 0, 0.3));\n",
              "      fill: #FFFFFF;\n",
              "    }\n",
              "  </style>\n",
              "\n",
              "      <script>\n",
              "        const buttonEl =\n",
              "          document.querySelector('#df-205dcd9c-cf45-4bfb-8dc5-d02f44f97d9d button.colab-df-convert');\n",
              "        buttonEl.style.display =\n",
              "          google.colab.kernel.accessAllowed ? 'block' : 'none';\n",
              "\n",
              "        async function convertToInteractive(key) {\n",
              "          const element = document.querySelector('#df-205dcd9c-cf45-4bfb-8dc5-d02f44f97d9d');\n",
              "          const dataTable =\n",
              "            await google.colab.kernel.invokeFunction('convertToInteractive',\n",
              "                                                     [key], {});\n",
              "          if (!dataTable) return;\n",
              "\n",
              "          const docLinkHtml = 'Like what you see? Visit the ' +\n",
              "            '<a target=\"_blank\" href=https://colab.research.google.com/notebooks/data_table.ipynb>data table notebook</a>'\n",
              "            + ' to learn more about interactive tables.';\n",
              "          element.innerHTML = '';\n",
              "          dataTable['output_type'] = 'display_data';\n",
              "          await google.colab.output.renderOutput(dataTable, element);\n",
              "          const docLink = document.createElement('div');\n",
              "          docLink.innerHTML = docLinkHtml;\n",
              "          element.appendChild(docLink);\n",
              "        }\n",
              "      </script>\n",
              "    </div>\n",
              "  </div>\n",
              "  "
            ]
          },
          "metadata": {},
          "execution_count": 322
        }
      ]
    },
    {
      "cell_type": "markdown",
      "source": [
        "### 4.3.2. Price Column\n",
        "\n",
        "The price columns seems has a dollar sign which could affect analysis. It needs stripping and conversion to int/float"
      ],
      "metadata": {
        "id": "yWvsCrj8EWvN"
      }
    },
    {
      "cell_type": "code",
      "source": [
        "#Extracting the digits in the price column and converting it to integer\n",
        "\n",
        "df[\"Price\"] = df[\"Price\"].str.extract('(\\d+)').astype(int)\n",
        "\n",
        "df[\"Price\"].head(3).to_frame()"
      ],
      "metadata": {
        "colab": {
          "base_uri": "https://localhost:8080/",
          "height": 143
        },
        "id": "TN1oSnW8EdyW",
        "outputId": "23f2fc5a-4bda-4164-ee52-be7aaad84203"
      },
      "execution_count": 323,
      "outputs": [
        {
          "output_type": "execute_result",
          "data": {
            "text/plain": [
              "   Price\n",
              "0     69\n",
              "1     69\n",
              "2     69"
            ],
            "text/html": [
              "\n",
              "  <div id=\"df-5002b090-ccec-4557-b357-9bb1aa546a9c\">\n",
              "    <div class=\"colab-df-container\">\n",
              "      <div>\n",
              "<style scoped>\n",
              "    .dataframe tbody tr th:only-of-type {\n",
              "        vertical-align: middle;\n",
              "    }\n",
              "\n",
              "    .dataframe tbody tr th {\n",
              "        vertical-align: top;\n",
              "    }\n",
              "\n",
              "    .dataframe thead th {\n",
              "        text-align: right;\n",
              "    }\n",
              "</style>\n",
              "<table border=\"1\" class=\"dataframe\">\n",
              "  <thead>\n",
              "    <tr style=\"text-align: right;\">\n",
              "      <th></th>\n",
              "      <th>Price</th>\n",
              "    </tr>\n",
              "  </thead>\n",
              "  <tbody>\n",
              "    <tr>\n",
              "      <th>0</th>\n",
              "      <td>69</td>\n",
              "    </tr>\n",
              "    <tr>\n",
              "      <th>1</th>\n",
              "      <td>69</td>\n",
              "    </tr>\n",
              "    <tr>\n",
              "      <th>2</th>\n",
              "      <td>69</td>\n",
              "    </tr>\n",
              "  </tbody>\n",
              "</table>\n",
              "</div>\n",
              "      <button class=\"colab-df-convert\" onclick=\"convertToInteractive('df-5002b090-ccec-4557-b357-9bb1aa546a9c')\"\n",
              "              title=\"Convert this dataframe to an interactive table.\"\n",
              "              style=\"display:none;\">\n",
              "        \n",
              "  <svg xmlns=\"http://www.w3.org/2000/svg\" height=\"24px\"viewBox=\"0 0 24 24\"\n",
              "       width=\"24px\">\n",
              "    <path d=\"M0 0h24v24H0V0z\" fill=\"none\"/>\n",
              "    <path d=\"M18.56 5.44l.94 2.06.94-2.06 2.06-.94-2.06-.94-.94-2.06-.94 2.06-2.06.94zm-11 1L8.5 8.5l.94-2.06 2.06-.94-2.06-.94L8.5 2.5l-.94 2.06-2.06.94zm10 10l.94 2.06.94-2.06 2.06-.94-2.06-.94-.94-2.06-.94 2.06-2.06.94z\"/><path d=\"M17.41 7.96l-1.37-1.37c-.4-.4-.92-.59-1.43-.59-.52 0-1.04.2-1.43.59L10.3 9.45l-7.72 7.72c-.78.78-.78 2.05 0 2.83L4 21.41c.39.39.9.59 1.41.59.51 0 1.02-.2 1.41-.59l7.78-7.78 2.81-2.81c.8-.78.8-2.07 0-2.86zM5.41 20L4 18.59l7.72-7.72 1.47 1.35L5.41 20z\"/>\n",
              "  </svg>\n",
              "      </button>\n",
              "      \n",
              "  <style>\n",
              "    .colab-df-container {\n",
              "      display:flex;\n",
              "      flex-wrap:wrap;\n",
              "      gap: 12px;\n",
              "    }\n",
              "\n",
              "    .colab-df-convert {\n",
              "      background-color: #E8F0FE;\n",
              "      border: none;\n",
              "      border-radius: 50%;\n",
              "      cursor: pointer;\n",
              "      display: none;\n",
              "      fill: #1967D2;\n",
              "      height: 32px;\n",
              "      padding: 0 0 0 0;\n",
              "      width: 32px;\n",
              "    }\n",
              "\n",
              "    .colab-df-convert:hover {\n",
              "      background-color: #E2EBFA;\n",
              "      box-shadow: 0px 1px 2px rgba(60, 64, 67, 0.3), 0px 1px 3px 1px rgba(60, 64, 67, 0.15);\n",
              "      fill: #174EA6;\n",
              "    }\n",
              "\n",
              "    [theme=dark] .colab-df-convert {\n",
              "      background-color: #3B4455;\n",
              "      fill: #D2E3FC;\n",
              "    }\n",
              "\n",
              "    [theme=dark] .colab-df-convert:hover {\n",
              "      background-color: #434B5C;\n",
              "      box-shadow: 0px 1px 3px 1px rgba(0, 0, 0, 0.15);\n",
              "      filter: drop-shadow(0px 1px 2px rgba(0, 0, 0, 0.3));\n",
              "      fill: #FFFFFF;\n",
              "    }\n",
              "  </style>\n",
              "\n",
              "      <script>\n",
              "        const buttonEl =\n",
              "          document.querySelector('#df-5002b090-ccec-4557-b357-9bb1aa546a9c button.colab-df-convert');\n",
              "        buttonEl.style.display =\n",
              "          google.colab.kernel.accessAllowed ? 'block' : 'none';\n",
              "\n",
              "        async function convertToInteractive(key) {\n",
              "          const element = document.querySelector('#df-5002b090-ccec-4557-b357-9bb1aa546a9c');\n",
              "          const dataTable =\n",
              "            await google.colab.kernel.invokeFunction('convertToInteractive',\n",
              "                                                     [key], {});\n",
              "          if (!dataTable) return;\n",
              "\n",
              "          const docLinkHtml = 'Like what you see? Visit the ' +\n",
              "            '<a target=\"_blank\" href=https://colab.research.google.com/notebooks/data_table.ipynb>data table notebook</a>'\n",
              "            + ' to learn more about interactive tables.';\n",
              "          element.innerHTML = '';\n",
              "          dataTable['output_type'] = 'display_data';\n",
              "          await google.colab.output.renderOutput(dataTable, element);\n",
              "          const docLink = document.createElement('div');\n",
              "          docLink.innerHTML = docLinkHtml;\n",
              "          element.appendChild(docLink);\n",
              "        }\n",
              "      </script>\n",
              "    </div>\n",
              "  </div>\n",
              "  "
            ]
          },
          "metadata": {},
          "execution_count": 323
        }
      ]
    },
    {
      "cell_type": "markdown",
      "source": [
        "### 4.3.3. Affiliated company column"
      ],
      "metadata": {
        "id": "F-3HvtR_FsQh"
      }
    },
    {
      "cell_type": "code",
      "source": [
        "# Rename the column to brand name\n",
        "\n",
        "df.rename(columns = {\"Affiliated Company\":\"Brand\",\"Brand and Features\":\"Product_name\"},inplace = True)\n",
        "\n",
        "df.head(3)"
      ],
      "metadata": {
        "colab": {
          "base_uri": "https://localhost:8080/",
          "height": 239
        },
        "id": "ejerzM3MF6Yo",
        "outputId": "54ce8f86-734c-454a-a05e-c24467bd71f3"
      },
      "execution_count": 324,
      "outputs": [
        {
          "output_type": "execute_result",
          "data": {
            "text/plain": [
              "   Rating                                       Review Title  \\\n",
              "0       4  \\n.. not what ordered, not New... but it works...   \n",
              "1       3  \\nNot for Cricket Wireless and this two review...   \n",
              "2       3               \\nWill not work on T-Mobile sysem!\\n   \n",
              "\n",
              "                                              Review  \\\n",
              "0  \\nSo first off...it's not what I ordered, but ...   \n",
              "1  \\nThe phone itself is a okay android device, b...   \n",
              "2  \\nNew phone write up indicates T-Mobile system...   \n",
              "\n",
              "                         Location and Date of Review                Brand  \\\n",
              "0  Reviewed in the United States on February 11, ...  Visit the RCA Store   \n",
              "1  Reviewed in the United States on February 4, 2021  Visit the RCA Store   \n",
              "2      Reviewed in the United States on June 7, 2022  Visit the RCA Store   \n",
              "\n",
              "                                        Product_name  Price  \n",
              "0          RCA Reno Smartphone, 4G LTE, 16GB, And...     69  \n",
              "1          RCA Reno Smartphone, 4G LTE, 16GB, And...     69  \n",
              "2          RCA Reno Smartphone, 4G LTE, 16GB, And...     69  "
            ],
            "text/html": [
              "\n",
              "  <div id=\"df-a6c47ded-3cd6-4c00-82b9-3e896e4e2f9e\">\n",
              "    <div class=\"colab-df-container\">\n",
              "      <div>\n",
              "<style scoped>\n",
              "    .dataframe tbody tr th:only-of-type {\n",
              "        vertical-align: middle;\n",
              "    }\n",
              "\n",
              "    .dataframe tbody tr th {\n",
              "        vertical-align: top;\n",
              "    }\n",
              "\n",
              "    .dataframe thead th {\n",
              "        text-align: right;\n",
              "    }\n",
              "</style>\n",
              "<table border=\"1\" class=\"dataframe\">\n",
              "  <thead>\n",
              "    <tr style=\"text-align: right;\">\n",
              "      <th></th>\n",
              "      <th>Rating</th>\n",
              "      <th>Review Title</th>\n",
              "      <th>Review</th>\n",
              "      <th>Location and Date of Review</th>\n",
              "      <th>Brand</th>\n",
              "      <th>Product_name</th>\n",
              "      <th>Price</th>\n",
              "    </tr>\n",
              "  </thead>\n",
              "  <tbody>\n",
              "    <tr>\n",
              "      <th>0</th>\n",
              "      <td>4</td>\n",
              "      <td>\\n.. not what ordered, not New... but it works...</td>\n",
              "      <td>\\nSo first off...it's not what I ordered, but ...</td>\n",
              "      <td>Reviewed in the United States on February 11, ...</td>\n",
              "      <td>Visit the RCA Store</td>\n",
              "      <td>RCA Reno Smartphone, 4G LTE, 16GB, And...</td>\n",
              "      <td>69</td>\n",
              "    </tr>\n",
              "    <tr>\n",
              "      <th>1</th>\n",
              "      <td>3</td>\n",
              "      <td>\\nNot for Cricket Wireless and this two review...</td>\n",
              "      <td>\\nThe phone itself is a okay android device, b...</td>\n",
              "      <td>Reviewed in the United States on February 4, 2021</td>\n",
              "      <td>Visit the RCA Store</td>\n",
              "      <td>RCA Reno Smartphone, 4G LTE, 16GB, And...</td>\n",
              "      <td>69</td>\n",
              "    </tr>\n",
              "    <tr>\n",
              "      <th>2</th>\n",
              "      <td>3</td>\n",
              "      <td>\\nWill not work on T-Mobile sysem!\\n</td>\n",
              "      <td>\\nNew phone write up indicates T-Mobile system...</td>\n",
              "      <td>Reviewed in the United States on June 7, 2022</td>\n",
              "      <td>Visit the RCA Store</td>\n",
              "      <td>RCA Reno Smartphone, 4G LTE, 16GB, And...</td>\n",
              "      <td>69</td>\n",
              "    </tr>\n",
              "  </tbody>\n",
              "</table>\n",
              "</div>\n",
              "      <button class=\"colab-df-convert\" onclick=\"convertToInteractive('df-a6c47ded-3cd6-4c00-82b9-3e896e4e2f9e')\"\n",
              "              title=\"Convert this dataframe to an interactive table.\"\n",
              "              style=\"display:none;\">\n",
              "        \n",
              "  <svg xmlns=\"http://www.w3.org/2000/svg\" height=\"24px\"viewBox=\"0 0 24 24\"\n",
              "       width=\"24px\">\n",
              "    <path d=\"M0 0h24v24H0V0z\" fill=\"none\"/>\n",
              "    <path d=\"M18.56 5.44l.94 2.06.94-2.06 2.06-.94-2.06-.94-.94-2.06-.94 2.06-2.06.94zm-11 1L8.5 8.5l.94-2.06 2.06-.94-2.06-.94L8.5 2.5l-.94 2.06-2.06.94zm10 10l.94 2.06.94-2.06 2.06-.94-2.06-.94-.94-2.06-.94 2.06-2.06.94z\"/><path d=\"M17.41 7.96l-1.37-1.37c-.4-.4-.92-.59-1.43-.59-.52 0-1.04.2-1.43.59L10.3 9.45l-7.72 7.72c-.78.78-.78 2.05 0 2.83L4 21.41c.39.39.9.59 1.41.59.51 0 1.02-.2 1.41-.59l7.78-7.78 2.81-2.81c.8-.78.8-2.07 0-2.86zM5.41 20L4 18.59l7.72-7.72 1.47 1.35L5.41 20z\"/>\n",
              "  </svg>\n",
              "      </button>\n",
              "      \n",
              "  <style>\n",
              "    .colab-df-container {\n",
              "      display:flex;\n",
              "      flex-wrap:wrap;\n",
              "      gap: 12px;\n",
              "    }\n",
              "\n",
              "    .colab-df-convert {\n",
              "      background-color: #E8F0FE;\n",
              "      border: none;\n",
              "      border-radius: 50%;\n",
              "      cursor: pointer;\n",
              "      display: none;\n",
              "      fill: #1967D2;\n",
              "      height: 32px;\n",
              "      padding: 0 0 0 0;\n",
              "      width: 32px;\n",
              "    }\n",
              "\n",
              "    .colab-df-convert:hover {\n",
              "      background-color: #E2EBFA;\n",
              "      box-shadow: 0px 1px 2px rgba(60, 64, 67, 0.3), 0px 1px 3px 1px rgba(60, 64, 67, 0.15);\n",
              "      fill: #174EA6;\n",
              "    }\n",
              "\n",
              "    [theme=dark] .colab-df-convert {\n",
              "      background-color: #3B4455;\n",
              "      fill: #D2E3FC;\n",
              "    }\n",
              "\n",
              "    [theme=dark] .colab-df-convert:hover {\n",
              "      background-color: #434B5C;\n",
              "      box-shadow: 0px 1px 3px 1px rgba(0, 0, 0, 0.15);\n",
              "      filter: drop-shadow(0px 1px 2px rgba(0, 0, 0, 0.3));\n",
              "      fill: #FFFFFF;\n",
              "    }\n",
              "  </style>\n",
              "\n",
              "      <script>\n",
              "        const buttonEl =\n",
              "          document.querySelector('#df-a6c47ded-3cd6-4c00-82b9-3e896e4e2f9e button.colab-df-convert');\n",
              "        buttonEl.style.display =\n",
              "          google.colab.kernel.accessAllowed ? 'block' : 'none';\n",
              "\n",
              "        async function convertToInteractive(key) {\n",
              "          const element = document.querySelector('#df-a6c47ded-3cd6-4c00-82b9-3e896e4e2f9e');\n",
              "          const dataTable =\n",
              "            await google.colab.kernel.invokeFunction('convertToInteractive',\n",
              "                                                     [key], {});\n",
              "          if (!dataTable) return;\n",
              "\n",
              "          const docLinkHtml = 'Like what you see? Visit the ' +\n",
              "            '<a target=\"_blank\" href=https://colab.research.google.com/notebooks/data_table.ipynb>data table notebook</a>'\n",
              "            + ' to learn more about interactive tables.';\n",
              "          element.innerHTML = '';\n",
              "          dataTable['output_type'] = 'display_data';\n",
              "          await google.colab.output.renderOutput(dataTable, element);\n",
              "          const docLink = document.createElement('div');\n",
              "          docLink.innerHTML = docLinkHtml;\n",
              "          element.appendChild(docLink);\n",
              "        }\n",
              "      </script>\n",
              "    </div>\n",
              "  </div>\n",
              "  "
            ]
          },
          "metadata": {},
          "execution_count": 324
        }
      ]
    },
    {
      "cell_type": "markdown",
      "source": [
        "The columns affiliated company and brand&features was renamed to brand and product name respectively."
      ],
      "metadata": {
        "id": "85jvINy1H3Wt"
      }
    },
    {
      "cell_type": "code",
      "source": [
        "#Getting the value counts for the brand column\n",
        "\n",
        "df['Brand'].value_counts().to_frame()"
      ],
      "metadata": {
        "colab": {
          "base_uri": "https://localhost:8080/",
          "height": 802
        },
        "id": "0xeHNfk_IKQn",
        "outputId": "7b079b49-7c3e-45b8-b9b9-24a553a1551b"
      },
      "execution_count": 325,
      "outputs": [
        {
          "output_type": "execute_result",
          "data": {
            "text/plain": [
              "                                Brand\n",
              "Visit the Amazon Renewed Store   1747\n",
              "Brand: Motorola                  1578\n",
              "Visit the BLU Store              1544\n",
              "Visit the TCL Store              1448\n",
              "Brand: Amazon Renewed             989\n",
              "Visit the OnePlus Store           684\n",
              "Visit the SAMSUNG Store           522\n",
              "Visit the Nokia Store             492\n",
              "Visit the Google Store            389\n",
              "Visit the JTEMAN Store            263\n",
              "Visit the RCA Store               252\n",
              "Visit the TracFone Store          140\n",
              "Visit the NUU Store                93\n",
              "Brand: Nokia                       84\n",
              "Visit the Dilwe Store              62\n",
              "Visit the Black Shark Store        55\n",
              "Visit the Ulefone Store            51\n",
              "Visit the OUKITEL Store            46\n",
              "Visit the UMIDIGI Store            40\n",
              "Visit the Easyfone Store           30\n",
              "Visit the Punkt. Store             23\n",
              "Visit the CUBOT Store              14\n",
              "Brand: Hipipooo                    14\n",
              "Visit the total wireless Store     13"
            ],
            "text/html": [
              "\n",
              "  <div id=\"df-4a5228ae-f09b-4c60-b1e1-8eb032b933ae\">\n",
              "    <div class=\"colab-df-container\">\n",
              "      <div>\n",
              "<style scoped>\n",
              "    .dataframe tbody tr th:only-of-type {\n",
              "        vertical-align: middle;\n",
              "    }\n",
              "\n",
              "    .dataframe tbody tr th {\n",
              "        vertical-align: top;\n",
              "    }\n",
              "\n",
              "    .dataframe thead th {\n",
              "        text-align: right;\n",
              "    }\n",
              "</style>\n",
              "<table border=\"1\" class=\"dataframe\">\n",
              "  <thead>\n",
              "    <tr style=\"text-align: right;\">\n",
              "      <th></th>\n",
              "      <th>Brand</th>\n",
              "    </tr>\n",
              "  </thead>\n",
              "  <tbody>\n",
              "    <tr>\n",
              "      <th>Visit the Amazon Renewed Store</th>\n",
              "      <td>1747</td>\n",
              "    </tr>\n",
              "    <tr>\n",
              "      <th>Brand: Motorola</th>\n",
              "      <td>1578</td>\n",
              "    </tr>\n",
              "    <tr>\n",
              "      <th>Visit the BLU Store</th>\n",
              "      <td>1544</td>\n",
              "    </tr>\n",
              "    <tr>\n",
              "      <th>Visit the TCL Store</th>\n",
              "      <td>1448</td>\n",
              "    </tr>\n",
              "    <tr>\n",
              "      <th>Brand: Amazon Renewed</th>\n",
              "      <td>989</td>\n",
              "    </tr>\n",
              "    <tr>\n",
              "      <th>Visit the OnePlus Store</th>\n",
              "      <td>684</td>\n",
              "    </tr>\n",
              "    <tr>\n",
              "      <th>Visit the SAMSUNG Store</th>\n",
              "      <td>522</td>\n",
              "    </tr>\n",
              "    <tr>\n",
              "      <th>Visit the Nokia Store</th>\n",
              "      <td>492</td>\n",
              "    </tr>\n",
              "    <tr>\n",
              "      <th>Visit the Google Store</th>\n",
              "      <td>389</td>\n",
              "    </tr>\n",
              "    <tr>\n",
              "      <th>Visit the JTEMAN Store</th>\n",
              "      <td>263</td>\n",
              "    </tr>\n",
              "    <tr>\n",
              "      <th>Visit the RCA Store</th>\n",
              "      <td>252</td>\n",
              "    </tr>\n",
              "    <tr>\n",
              "      <th>Visit the TracFone Store</th>\n",
              "      <td>140</td>\n",
              "    </tr>\n",
              "    <tr>\n",
              "      <th>Visit the NUU Store</th>\n",
              "      <td>93</td>\n",
              "    </tr>\n",
              "    <tr>\n",
              "      <th>Brand: Nokia</th>\n",
              "      <td>84</td>\n",
              "    </tr>\n",
              "    <tr>\n",
              "      <th>Visit the Dilwe Store</th>\n",
              "      <td>62</td>\n",
              "    </tr>\n",
              "    <tr>\n",
              "      <th>Visit the Black Shark Store</th>\n",
              "      <td>55</td>\n",
              "    </tr>\n",
              "    <tr>\n",
              "      <th>Visit the Ulefone Store</th>\n",
              "      <td>51</td>\n",
              "    </tr>\n",
              "    <tr>\n",
              "      <th>Visit the OUKITEL Store</th>\n",
              "      <td>46</td>\n",
              "    </tr>\n",
              "    <tr>\n",
              "      <th>Visit the UMIDIGI Store</th>\n",
              "      <td>40</td>\n",
              "    </tr>\n",
              "    <tr>\n",
              "      <th>Visit the Easyfone Store</th>\n",
              "      <td>30</td>\n",
              "    </tr>\n",
              "    <tr>\n",
              "      <th>Visit the Punkt. Store</th>\n",
              "      <td>23</td>\n",
              "    </tr>\n",
              "    <tr>\n",
              "      <th>Visit the CUBOT Store</th>\n",
              "      <td>14</td>\n",
              "    </tr>\n",
              "    <tr>\n",
              "      <th>Brand: Hipipooo</th>\n",
              "      <td>14</td>\n",
              "    </tr>\n",
              "    <tr>\n",
              "      <th>Visit the total wireless Store</th>\n",
              "      <td>13</td>\n",
              "    </tr>\n",
              "  </tbody>\n",
              "</table>\n",
              "</div>\n",
              "      <button class=\"colab-df-convert\" onclick=\"convertToInteractive('df-4a5228ae-f09b-4c60-b1e1-8eb032b933ae')\"\n",
              "              title=\"Convert this dataframe to an interactive table.\"\n",
              "              style=\"display:none;\">\n",
              "        \n",
              "  <svg xmlns=\"http://www.w3.org/2000/svg\" height=\"24px\"viewBox=\"0 0 24 24\"\n",
              "       width=\"24px\">\n",
              "    <path d=\"M0 0h24v24H0V0z\" fill=\"none\"/>\n",
              "    <path d=\"M18.56 5.44l.94 2.06.94-2.06 2.06-.94-2.06-.94-.94-2.06-.94 2.06-2.06.94zm-11 1L8.5 8.5l.94-2.06 2.06-.94-2.06-.94L8.5 2.5l-.94 2.06-2.06.94zm10 10l.94 2.06.94-2.06 2.06-.94-2.06-.94-.94-2.06-.94 2.06-2.06.94z\"/><path d=\"M17.41 7.96l-1.37-1.37c-.4-.4-.92-.59-1.43-.59-.52 0-1.04.2-1.43.59L10.3 9.45l-7.72 7.72c-.78.78-.78 2.05 0 2.83L4 21.41c.39.39.9.59 1.41.59.51 0 1.02-.2 1.41-.59l7.78-7.78 2.81-2.81c.8-.78.8-2.07 0-2.86zM5.41 20L4 18.59l7.72-7.72 1.47 1.35L5.41 20z\"/>\n",
              "  </svg>\n",
              "      </button>\n",
              "      \n",
              "  <style>\n",
              "    .colab-df-container {\n",
              "      display:flex;\n",
              "      flex-wrap:wrap;\n",
              "      gap: 12px;\n",
              "    }\n",
              "\n",
              "    .colab-df-convert {\n",
              "      background-color: #E8F0FE;\n",
              "      border: none;\n",
              "      border-radius: 50%;\n",
              "      cursor: pointer;\n",
              "      display: none;\n",
              "      fill: #1967D2;\n",
              "      height: 32px;\n",
              "      padding: 0 0 0 0;\n",
              "      width: 32px;\n",
              "    }\n",
              "\n",
              "    .colab-df-convert:hover {\n",
              "      background-color: #E2EBFA;\n",
              "      box-shadow: 0px 1px 2px rgba(60, 64, 67, 0.3), 0px 1px 3px 1px rgba(60, 64, 67, 0.15);\n",
              "      fill: #174EA6;\n",
              "    }\n",
              "\n",
              "    [theme=dark] .colab-df-convert {\n",
              "      background-color: #3B4455;\n",
              "      fill: #D2E3FC;\n",
              "    }\n",
              "\n",
              "    [theme=dark] .colab-df-convert:hover {\n",
              "      background-color: #434B5C;\n",
              "      box-shadow: 0px 1px 3px 1px rgba(0, 0, 0, 0.15);\n",
              "      filter: drop-shadow(0px 1px 2px rgba(0, 0, 0, 0.3));\n",
              "      fill: #FFFFFF;\n",
              "    }\n",
              "  </style>\n",
              "\n",
              "      <script>\n",
              "        const buttonEl =\n",
              "          document.querySelector('#df-4a5228ae-f09b-4c60-b1e1-8eb032b933ae button.colab-df-convert');\n",
              "        buttonEl.style.display =\n",
              "          google.colab.kernel.accessAllowed ? 'block' : 'none';\n",
              "\n",
              "        async function convertToInteractive(key) {\n",
              "          const element = document.querySelector('#df-4a5228ae-f09b-4c60-b1e1-8eb032b933ae');\n",
              "          const dataTable =\n",
              "            await google.colab.kernel.invokeFunction('convertToInteractive',\n",
              "                                                     [key], {});\n",
              "          if (!dataTable) return;\n",
              "\n",
              "          const docLinkHtml = 'Like what you see? Visit the ' +\n",
              "            '<a target=\"_blank\" href=https://colab.research.google.com/notebooks/data_table.ipynb>data table notebook</a>'\n",
              "            + ' to learn more about interactive tables.';\n",
              "          element.innerHTML = '';\n",
              "          dataTable['output_type'] = 'display_data';\n",
              "          await google.colab.output.renderOutput(dataTable, element);\n",
              "          const docLink = document.createElement('div');\n",
              "          docLink.innerHTML = docLinkHtml;\n",
              "          element.appendChild(docLink);\n",
              "        }\n",
              "      </script>\n",
              "    </div>\n",
              "  </div>\n",
              "  "
            ]
          },
          "metadata": {},
          "execution_count": 325
        }
      ]
    },
    {
      "cell_type": "markdown",
      "source": [
        "- The brand name will be extracted.\n",
        "- White space will be stripped.\n",
        "- Refurbished phones will be renamed into one name"
      ],
      "metadata": {
        "id": "S_HcTlrDV5RC"
      }
    },
    {
      "cell_type": "code",
      "source": [
        "# Removing unnecessary words from the column to get the brand name\n",
        "\n",
        "word_vocabulary = ['Visit', 'the', 'store', 'Brand:', 'Store']\n",
        "\n",
        "for word in word_vocabulary:\n",
        "    df['Brand'] = df['Brand'].str.replace(word, '')\n",
        "\n",
        "# Removing all the white spaces\n",
        "\n",
        "df['Brand'] = df['Brand'].str.strip()\n",
        "\n",
        "# Renaming the amazon renewed with refurbished\n",
        "\n",
        "df['Brand'] = df['Brand'].str.replace('Amazon Renewed','Amazon Refurbished')  "
      ],
      "metadata": {
        "id": "eLKgj4vJMDZZ"
      },
      "execution_count": 326,
      "outputs": []
    },
    {
      "cell_type": "code",
      "source": [
        "df['Brand'].value_counts().to_frame(name='Count')"
      ],
      "metadata": {
        "colab": {
          "base_uri": "https://localhost:8080/",
          "height": 739
        },
        "id": "5rNWQ8jy5trb",
        "outputId": "9fe7ee0b-c1c3-4ea8-cc5b-ce183c1a051a"
      },
      "execution_count": 327,
      "outputs": [
        {
          "output_type": "execute_result",
          "data": {
            "text/plain": [
              "                    Count\n",
              "Amazon Refurbished   2736\n",
              "Motorola             1578\n",
              "BLU                  1544\n",
              "TCL                  1448\n",
              "OnePlus               684\n",
              "Nokia                 576\n",
              "SAMSUNG               522\n",
              "Google                389\n",
              "JTEMAN                263\n",
              "RCA                   252\n",
              "TracFone              140\n",
              "NUU                    93\n",
              "Dilwe                  62\n",
              "Black Shark            55\n",
              "Ulefone                51\n",
              "OUKITEL                46\n",
              "UMIDIGI                40\n",
              "Easyfone               30\n",
              "Punkt.                 23\n",
              "CUBOT                  14\n",
              "Hipipooo               14\n",
              "total wireless         13"
            ],
            "text/html": [
              "\n",
              "  <div id=\"df-12b3e89b-a393-485b-a8e4-baf73f5338b2\">\n",
              "    <div class=\"colab-df-container\">\n",
              "      <div>\n",
              "<style scoped>\n",
              "    .dataframe tbody tr th:only-of-type {\n",
              "        vertical-align: middle;\n",
              "    }\n",
              "\n",
              "    .dataframe tbody tr th {\n",
              "        vertical-align: top;\n",
              "    }\n",
              "\n",
              "    .dataframe thead th {\n",
              "        text-align: right;\n",
              "    }\n",
              "</style>\n",
              "<table border=\"1\" class=\"dataframe\">\n",
              "  <thead>\n",
              "    <tr style=\"text-align: right;\">\n",
              "      <th></th>\n",
              "      <th>Count</th>\n",
              "    </tr>\n",
              "  </thead>\n",
              "  <tbody>\n",
              "    <tr>\n",
              "      <th>Amazon Refurbished</th>\n",
              "      <td>2736</td>\n",
              "    </tr>\n",
              "    <tr>\n",
              "      <th>Motorola</th>\n",
              "      <td>1578</td>\n",
              "    </tr>\n",
              "    <tr>\n",
              "      <th>BLU</th>\n",
              "      <td>1544</td>\n",
              "    </tr>\n",
              "    <tr>\n",
              "      <th>TCL</th>\n",
              "      <td>1448</td>\n",
              "    </tr>\n",
              "    <tr>\n",
              "      <th>OnePlus</th>\n",
              "      <td>684</td>\n",
              "    </tr>\n",
              "    <tr>\n",
              "      <th>Nokia</th>\n",
              "      <td>576</td>\n",
              "    </tr>\n",
              "    <tr>\n",
              "      <th>SAMSUNG</th>\n",
              "      <td>522</td>\n",
              "    </tr>\n",
              "    <tr>\n",
              "      <th>Google</th>\n",
              "      <td>389</td>\n",
              "    </tr>\n",
              "    <tr>\n",
              "      <th>JTEMAN</th>\n",
              "      <td>263</td>\n",
              "    </tr>\n",
              "    <tr>\n",
              "      <th>RCA</th>\n",
              "      <td>252</td>\n",
              "    </tr>\n",
              "    <tr>\n",
              "      <th>TracFone</th>\n",
              "      <td>140</td>\n",
              "    </tr>\n",
              "    <tr>\n",
              "      <th>NUU</th>\n",
              "      <td>93</td>\n",
              "    </tr>\n",
              "    <tr>\n",
              "      <th>Dilwe</th>\n",
              "      <td>62</td>\n",
              "    </tr>\n",
              "    <tr>\n",
              "      <th>Black Shark</th>\n",
              "      <td>55</td>\n",
              "    </tr>\n",
              "    <tr>\n",
              "      <th>Ulefone</th>\n",
              "      <td>51</td>\n",
              "    </tr>\n",
              "    <tr>\n",
              "      <th>OUKITEL</th>\n",
              "      <td>46</td>\n",
              "    </tr>\n",
              "    <tr>\n",
              "      <th>UMIDIGI</th>\n",
              "      <td>40</td>\n",
              "    </tr>\n",
              "    <tr>\n",
              "      <th>Easyfone</th>\n",
              "      <td>30</td>\n",
              "    </tr>\n",
              "    <tr>\n",
              "      <th>Punkt.</th>\n",
              "      <td>23</td>\n",
              "    </tr>\n",
              "    <tr>\n",
              "      <th>CUBOT</th>\n",
              "      <td>14</td>\n",
              "    </tr>\n",
              "    <tr>\n",
              "      <th>Hipipooo</th>\n",
              "      <td>14</td>\n",
              "    </tr>\n",
              "    <tr>\n",
              "      <th>total wireless</th>\n",
              "      <td>13</td>\n",
              "    </tr>\n",
              "  </tbody>\n",
              "</table>\n",
              "</div>\n",
              "      <button class=\"colab-df-convert\" onclick=\"convertToInteractive('df-12b3e89b-a393-485b-a8e4-baf73f5338b2')\"\n",
              "              title=\"Convert this dataframe to an interactive table.\"\n",
              "              style=\"display:none;\">\n",
              "        \n",
              "  <svg xmlns=\"http://www.w3.org/2000/svg\" height=\"24px\"viewBox=\"0 0 24 24\"\n",
              "       width=\"24px\">\n",
              "    <path d=\"M0 0h24v24H0V0z\" fill=\"none\"/>\n",
              "    <path d=\"M18.56 5.44l.94 2.06.94-2.06 2.06-.94-2.06-.94-.94-2.06-.94 2.06-2.06.94zm-11 1L8.5 8.5l.94-2.06 2.06-.94-2.06-.94L8.5 2.5l-.94 2.06-2.06.94zm10 10l.94 2.06.94-2.06 2.06-.94-2.06-.94-.94-2.06-.94 2.06-2.06.94z\"/><path d=\"M17.41 7.96l-1.37-1.37c-.4-.4-.92-.59-1.43-.59-.52 0-1.04.2-1.43.59L10.3 9.45l-7.72 7.72c-.78.78-.78 2.05 0 2.83L4 21.41c.39.39.9.59 1.41.59.51 0 1.02-.2 1.41-.59l7.78-7.78 2.81-2.81c.8-.78.8-2.07 0-2.86zM5.41 20L4 18.59l7.72-7.72 1.47 1.35L5.41 20z\"/>\n",
              "  </svg>\n",
              "      </button>\n",
              "      \n",
              "  <style>\n",
              "    .colab-df-container {\n",
              "      display:flex;\n",
              "      flex-wrap:wrap;\n",
              "      gap: 12px;\n",
              "    }\n",
              "\n",
              "    .colab-df-convert {\n",
              "      background-color: #E8F0FE;\n",
              "      border: none;\n",
              "      border-radius: 50%;\n",
              "      cursor: pointer;\n",
              "      display: none;\n",
              "      fill: #1967D2;\n",
              "      height: 32px;\n",
              "      padding: 0 0 0 0;\n",
              "      width: 32px;\n",
              "    }\n",
              "\n",
              "    .colab-df-convert:hover {\n",
              "      background-color: #E2EBFA;\n",
              "      box-shadow: 0px 1px 2px rgba(60, 64, 67, 0.3), 0px 1px 3px 1px rgba(60, 64, 67, 0.15);\n",
              "      fill: #174EA6;\n",
              "    }\n",
              "\n",
              "    [theme=dark] .colab-df-convert {\n",
              "      background-color: #3B4455;\n",
              "      fill: #D2E3FC;\n",
              "    }\n",
              "\n",
              "    [theme=dark] .colab-df-convert:hover {\n",
              "      background-color: #434B5C;\n",
              "      box-shadow: 0px 1px 3px 1px rgba(0, 0, 0, 0.15);\n",
              "      filter: drop-shadow(0px 1px 2px rgba(0, 0, 0, 0.3));\n",
              "      fill: #FFFFFF;\n",
              "    }\n",
              "  </style>\n",
              "\n",
              "      <script>\n",
              "        const buttonEl =\n",
              "          document.querySelector('#df-12b3e89b-a393-485b-a8e4-baf73f5338b2 button.colab-df-convert');\n",
              "        buttonEl.style.display =\n",
              "          google.colab.kernel.accessAllowed ? 'block' : 'none';\n",
              "\n",
              "        async function convertToInteractive(key) {\n",
              "          const element = document.querySelector('#df-12b3e89b-a393-485b-a8e4-baf73f5338b2');\n",
              "          const dataTable =\n",
              "            await google.colab.kernel.invokeFunction('convertToInteractive',\n",
              "                                                     [key], {});\n",
              "          if (!dataTable) return;\n",
              "\n",
              "          const docLinkHtml = 'Like what you see? Visit the ' +\n",
              "            '<a target=\"_blank\" href=https://colab.research.google.com/notebooks/data_table.ipynb>data table notebook</a>'\n",
              "            + ' to learn more about interactive tables.';\n",
              "          element.innerHTML = '';\n",
              "          dataTable['output_type'] = 'display_data';\n",
              "          await google.colab.output.renderOutput(dataTable, element);\n",
              "          const docLink = document.createElement('div');\n",
              "          docLink.innerHTML = docLinkHtml;\n",
              "          element.appendChild(docLink);\n",
              "        }\n",
              "      </script>\n",
              "    </div>\n",
              "  </div>\n",
              "  "
            ]
          },
          "metadata": {},
          "execution_count": 327
        }
      ]
    },
    {
      "cell_type": "markdown",
      "source": [
        "# 5. Feature Engineering"
      ],
      "metadata": {
        "id": "WvpSCizjHv74"
      }
    },
    {
      "cell_type": "markdown",
      "source": [
        "### 5.1. Product_name column\n",
        "\n",
        "product name column model name in it. It will be stripped into a new column. \n",
        "Some of the model names have the word smartphone that will be stripped as well."
      ],
      "metadata": {
        "id": "tcCCJ2E9Puwo"
      }
    },
    {
      "cell_type": "code",
      "source": [
        "#removing punctuations from the column\n",
        "\n",
        "df['Product_name'] = df['Product_name'].str.replace(r\"\\(.*\\)\",\"\", regex=True)\n",
        "df['Product_name'] = df['Product_name'].str.replace('-',\"\", regex=True)\n",
        "df['Product_name'] = df['Product_name'].str.replace(',',\"\", regex=True)\n",
        "df['Product_name'] = df['Product_name'].str.replace('|',\"\", regex=True)\n",
        "\n",
        "#Splitting the strings in this column into different columns\n",
        "\n",
        "string_cols = df[\"Product_name\"].str.split(\" \", n = -1, expand = True)\n",
        "\n",
        "#selecting on the first three words of the string that will form the phone type\n",
        "\n",
        "df[\"first_word\"] = string_cols[8]\n",
        "df[\"middle_word\"] = string_cols[9]\n",
        "df[\"last_word\"] = string_cols[10]\n",
        "\n",
        "#copying the two other columns so as to allow concactination\n",
        "\n",
        "new1 = df[\"middle_word\"].copy()\n",
        "new2 = df[\"last_word\"].copy()\n",
        " \n",
        "# concatenating team with name column and overwriting name column\n",
        "\n",
        "df[\"Model_Type\"]= df[\"first_word\"].str.cat(new1, sep =\" \")\n",
        "df[\"Model_Type\"]= df[\"Model_Type\"].str.cat(new2, sep =\" \")\n",
        "df.drop([\"first_word\", \"middle_word\", \"last_word\"], axis=1, inplace=True)\n",
        "\n",
        "# Removing unnecessary words from the model type column\n",
        "\n",
        "word_vocabulary = ['Smartphone']\n",
        "for word in word_vocabulary:\n",
        "    df['Model_Type'] = df['Model_Type'].str.replace(word, '')\n"
      ],
      "metadata": {
        "id": "Q-odwaTDPuRf"
      },
      "execution_count": 328,
      "outputs": []
    },
    {
      "cell_type": "markdown",
      "source": [
        "### 5.2. Location and Date of Review\n",
        "\n",
        "This data was all collected from the United States. This will will be stripped and the dates for reviews will be left"
      ],
      "metadata": {
        "id": "Ln0mazubrGPi"
      }
    },
    {
      "cell_type": "code",
      "source": [
        "# previewing the column\n",
        "\n",
        "df['Location and Date of Review'].head(3)"
      ],
      "metadata": {
        "colab": {
          "base_uri": "https://localhost:8080/"
        },
        "id": "3QvptQDU7DIC",
        "outputId": "fd17b84a-1f17-4d94-e56f-6977a3ccf9a1"
      },
      "execution_count": 329,
      "outputs": [
        {
          "output_type": "execute_result",
          "data": {
            "text/plain": [
              "0    Reviewed in the United States on February 11, ...\n",
              "1    Reviewed in the United States on February 4, 2021\n",
              "2        Reviewed in the United States on June 7, 2022\n",
              "Name: Location and Date of Review, dtype: object"
            ]
          },
          "metadata": {},
          "execution_count": 329
        }
      ]
    },
    {
      "cell_type": "code",
      "source": [
        "# Extract the review dates from the Location and Date of Review Column\n",
        "\n",
        "df['Location and Date of Review'] = df['Location and Date of Review']\\\n",
        ".str.replace('Reviewed in the United States on ', '')\n",
        "\n",
        "\n",
        "# Rename the column to Review Date\n",
        "\n",
        "df.rename(columns = {'Location and Date of Review': 'Review Date'}, inplace = True)\n",
        "\n",
        "# Convert the column into datetime format\n",
        "\n",
        "df['Review Date'] = pd.to_datetime(df['Review Date'], errors = 'coerce')"
      ],
      "metadata": {
        "id": "6TaTVKxwodgn"
      },
      "execution_count": 330,
      "outputs": []
    },
    {
      "cell_type": "markdown",
      "source": [
        "### 5.3. Review Title and Review \n",
        "\n",
        "Review and Review Title have some rows that are not in Egnlish. \n",
        "These rows will be dropped.\n"
      ],
      "metadata": {
        "id": "_kVybmDXc_ZO"
      }
    },
    {
      "cell_type": "code",
      "source": [
        "# Explore review title rows not in English\n",
        "df['Review Title'].iloc[7:10].to_frame()"
      ],
      "metadata": {
        "id": "GyNtS3sfaJch",
        "outputId": "66bd4353-be5e-43c1-982e-972fddad9f1b",
        "colab": {
          "base_uri": "https://localhost:8080/",
          "height": 143
        }
      },
      "execution_count": 331,
      "outputs": [
        {
          "output_type": "execute_result",
          "data": {
            "text/plain": [
              "                                        Review Title\n",
              "7                                   \\nBuena Compra\\n\n",
              "8                                \\nEso no me gustó\\n\n",
              "9  \\nDemasiado básico y lento, bajo costo pero no..."
            ],
            "text/html": [
              "\n",
              "  <div id=\"df-d9b8139c-3921-419f-bc97-7235dffee723\">\n",
              "    <div class=\"colab-df-container\">\n",
              "      <div>\n",
              "<style scoped>\n",
              "    .dataframe tbody tr th:only-of-type {\n",
              "        vertical-align: middle;\n",
              "    }\n",
              "\n",
              "    .dataframe tbody tr th {\n",
              "        vertical-align: top;\n",
              "    }\n",
              "\n",
              "    .dataframe thead th {\n",
              "        text-align: right;\n",
              "    }\n",
              "</style>\n",
              "<table border=\"1\" class=\"dataframe\">\n",
              "  <thead>\n",
              "    <tr style=\"text-align: right;\">\n",
              "      <th></th>\n",
              "      <th>Review Title</th>\n",
              "    </tr>\n",
              "  </thead>\n",
              "  <tbody>\n",
              "    <tr>\n",
              "      <th>7</th>\n",
              "      <td>\\nBuena Compra\\n</td>\n",
              "    </tr>\n",
              "    <tr>\n",
              "      <th>8</th>\n",
              "      <td>\\nEso no me gustó\\n</td>\n",
              "    </tr>\n",
              "    <tr>\n",
              "      <th>9</th>\n",
              "      <td>\\nDemasiado básico y lento, bajo costo pero no...</td>\n",
              "    </tr>\n",
              "  </tbody>\n",
              "</table>\n",
              "</div>\n",
              "      <button class=\"colab-df-convert\" onclick=\"convertToInteractive('df-d9b8139c-3921-419f-bc97-7235dffee723')\"\n",
              "              title=\"Convert this dataframe to an interactive table.\"\n",
              "              style=\"display:none;\">\n",
              "        \n",
              "  <svg xmlns=\"http://www.w3.org/2000/svg\" height=\"24px\"viewBox=\"0 0 24 24\"\n",
              "       width=\"24px\">\n",
              "    <path d=\"M0 0h24v24H0V0z\" fill=\"none\"/>\n",
              "    <path d=\"M18.56 5.44l.94 2.06.94-2.06 2.06-.94-2.06-.94-.94-2.06-.94 2.06-2.06.94zm-11 1L8.5 8.5l.94-2.06 2.06-.94-2.06-.94L8.5 2.5l-.94 2.06-2.06.94zm10 10l.94 2.06.94-2.06 2.06-.94-2.06-.94-.94-2.06-.94 2.06-2.06.94z\"/><path d=\"M17.41 7.96l-1.37-1.37c-.4-.4-.92-.59-1.43-.59-.52 0-1.04.2-1.43.59L10.3 9.45l-7.72 7.72c-.78.78-.78 2.05 0 2.83L4 21.41c.39.39.9.59 1.41.59.51 0 1.02-.2 1.41-.59l7.78-7.78 2.81-2.81c.8-.78.8-2.07 0-2.86zM5.41 20L4 18.59l7.72-7.72 1.47 1.35L5.41 20z\"/>\n",
              "  </svg>\n",
              "      </button>\n",
              "      \n",
              "  <style>\n",
              "    .colab-df-container {\n",
              "      display:flex;\n",
              "      flex-wrap:wrap;\n",
              "      gap: 12px;\n",
              "    }\n",
              "\n",
              "    .colab-df-convert {\n",
              "      background-color: #E8F0FE;\n",
              "      border: none;\n",
              "      border-radius: 50%;\n",
              "      cursor: pointer;\n",
              "      display: none;\n",
              "      fill: #1967D2;\n",
              "      height: 32px;\n",
              "      padding: 0 0 0 0;\n",
              "      width: 32px;\n",
              "    }\n",
              "\n",
              "    .colab-df-convert:hover {\n",
              "      background-color: #E2EBFA;\n",
              "      box-shadow: 0px 1px 2px rgba(60, 64, 67, 0.3), 0px 1px 3px 1px rgba(60, 64, 67, 0.15);\n",
              "      fill: #174EA6;\n",
              "    }\n",
              "\n",
              "    [theme=dark] .colab-df-convert {\n",
              "      background-color: #3B4455;\n",
              "      fill: #D2E3FC;\n",
              "    }\n",
              "\n",
              "    [theme=dark] .colab-df-convert:hover {\n",
              "      background-color: #434B5C;\n",
              "      box-shadow: 0px 1px 3px 1px rgba(0, 0, 0, 0.15);\n",
              "      filter: drop-shadow(0px 1px 2px rgba(0, 0, 0, 0.3));\n",
              "      fill: #FFFFFF;\n",
              "    }\n",
              "  </style>\n",
              "\n",
              "      <script>\n",
              "        const buttonEl =\n",
              "          document.querySelector('#df-d9b8139c-3921-419f-bc97-7235dffee723 button.colab-df-convert');\n",
              "        buttonEl.style.display =\n",
              "          google.colab.kernel.accessAllowed ? 'block' : 'none';\n",
              "\n",
              "        async function convertToInteractive(key) {\n",
              "          const element = document.querySelector('#df-d9b8139c-3921-419f-bc97-7235dffee723');\n",
              "          const dataTable =\n",
              "            await google.colab.kernel.invokeFunction('convertToInteractive',\n",
              "                                                     [key], {});\n",
              "          if (!dataTable) return;\n",
              "\n",
              "          const docLinkHtml = 'Like what you see? Visit the ' +\n",
              "            '<a target=\"_blank\" href=https://colab.research.google.com/notebooks/data_table.ipynb>data table notebook</a>'\n",
              "            + ' to learn more about interactive tables.';\n",
              "          element.innerHTML = '';\n",
              "          dataTable['output_type'] = 'display_data';\n",
              "          await google.colab.output.renderOutput(dataTable, element);\n",
              "          const docLink = document.createElement('div');\n",
              "          docLink.innerHTML = docLinkHtml;\n",
              "          element.appendChild(docLink);\n",
              "        }\n",
              "      </script>\n",
              "    </div>\n",
              "  </div>\n",
              "  "
            ]
          },
          "metadata": {},
          "execution_count": 331
        }
      ]
    },
    {
      "cell_type": "code",
      "source": [
        "# Explore review rows not in English\n",
        "df['Review'].iloc[7:10].to_frame()"
      ],
      "metadata": {
        "id": "4ya8K_x5bgRh",
        "outputId": "21f0e161-15ab-4636-ed4c-af0483938c93",
        "colab": {
          "base_uri": "https://localhost:8080/",
          "height": 143
        }
      },
      "execution_count": 332,
      "outputs": [
        {
          "output_type": "execute_result",
          "data": {
            "text/plain": [
              "                                              Review\n",
              "7  \\nTal. Como està descrito….Todo lo necesario a...\n",
              "8           \\nNo vale la pena gastar dinero en el.\\n\n",
              "9  \\nDemasiado básico y lento, bajo costo pero no..."
            ],
            "text/html": [
              "\n",
              "  <div id=\"df-68719f6a-305c-426a-a830-8fac94215c70\">\n",
              "    <div class=\"colab-df-container\">\n",
              "      <div>\n",
              "<style scoped>\n",
              "    .dataframe tbody tr th:only-of-type {\n",
              "        vertical-align: middle;\n",
              "    }\n",
              "\n",
              "    .dataframe tbody tr th {\n",
              "        vertical-align: top;\n",
              "    }\n",
              "\n",
              "    .dataframe thead th {\n",
              "        text-align: right;\n",
              "    }\n",
              "</style>\n",
              "<table border=\"1\" class=\"dataframe\">\n",
              "  <thead>\n",
              "    <tr style=\"text-align: right;\">\n",
              "      <th></th>\n",
              "      <th>Review</th>\n",
              "    </tr>\n",
              "  </thead>\n",
              "  <tbody>\n",
              "    <tr>\n",
              "      <th>7</th>\n",
              "      <td>\\nTal. Como està descrito….Todo lo necesario a...</td>\n",
              "    </tr>\n",
              "    <tr>\n",
              "      <th>8</th>\n",
              "      <td>\\nNo vale la pena gastar dinero en el.\\n</td>\n",
              "    </tr>\n",
              "    <tr>\n",
              "      <th>9</th>\n",
              "      <td>\\nDemasiado básico y lento, bajo costo pero no...</td>\n",
              "    </tr>\n",
              "  </tbody>\n",
              "</table>\n",
              "</div>\n",
              "      <button class=\"colab-df-convert\" onclick=\"convertToInteractive('df-68719f6a-305c-426a-a830-8fac94215c70')\"\n",
              "              title=\"Convert this dataframe to an interactive table.\"\n",
              "              style=\"display:none;\">\n",
              "        \n",
              "  <svg xmlns=\"http://www.w3.org/2000/svg\" height=\"24px\"viewBox=\"0 0 24 24\"\n",
              "       width=\"24px\">\n",
              "    <path d=\"M0 0h24v24H0V0z\" fill=\"none\"/>\n",
              "    <path d=\"M18.56 5.44l.94 2.06.94-2.06 2.06-.94-2.06-.94-.94-2.06-.94 2.06-2.06.94zm-11 1L8.5 8.5l.94-2.06 2.06-.94-2.06-.94L8.5 2.5l-.94 2.06-2.06.94zm10 10l.94 2.06.94-2.06 2.06-.94-2.06-.94-.94-2.06-.94 2.06-2.06.94z\"/><path d=\"M17.41 7.96l-1.37-1.37c-.4-.4-.92-.59-1.43-.59-.52 0-1.04.2-1.43.59L10.3 9.45l-7.72 7.72c-.78.78-.78 2.05 0 2.83L4 21.41c.39.39.9.59 1.41.59.51 0 1.02-.2 1.41-.59l7.78-7.78 2.81-2.81c.8-.78.8-2.07 0-2.86zM5.41 20L4 18.59l7.72-7.72 1.47 1.35L5.41 20z\"/>\n",
              "  </svg>\n",
              "      </button>\n",
              "      \n",
              "  <style>\n",
              "    .colab-df-container {\n",
              "      display:flex;\n",
              "      flex-wrap:wrap;\n",
              "      gap: 12px;\n",
              "    }\n",
              "\n",
              "    .colab-df-convert {\n",
              "      background-color: #E8F0FE;\n",
              "      border: none;\n",
              "      border-radius: 50%;\n",
              "      cursor: pointer;\n",
              "      display: none;\n",
              "      fill: #1967D2;\n",
              "      height: 32px;\n",
              "      padding: 0 0 0 0;\n",
              "      width: 32px;\n",
              "    }\n",
              "\n",
              "    .colab-df-convert:hover {\n",
              "      background-color: #E2EBFA;\n",
              "      box-shadow: 0px 1px 2px rgba(60, 64, 67, 0.3), 0px 1px 3px 1px rgba(60, 64, 67, 0.15);\n",
              "      fill: #174EA6;\n",
              "    }\n",
              "\n",
              "    [theme=dark] .colab-df-convert {\n",
              "      background-color: #3B4455;\n",
              "      fill: #D2E3FC;\n",
              "    }\n",
              "\n",
              "    [theme=dark] .colab-df-convert:hover {\n",
              "      background-color: #434B5C;\n",
              "      box-shadow: 0px 1px 3px 1px rgba(0, 0, 0, 0.15);\n",
              "      filter: drop-shadow(0px 1px 2px rgba(0, 0, 0, 0.3));\n",
              "      fill: #FFFFFF;\n",
              "    }\n",
              "  </style>\n",
              "\n",
              "      <script>\n",
              "        const buttonEl =\n",
              "          document.querySelector('#df-68719f6a-305c-426a-a830-8fac94215c70 button.colab-df-convert');\n",
              "        buttonEl.style.display =\n",
              "          google.colab.kernel.accessAllowed ? 'block' : 'none';\n",
              "\n",
              "        async function convertToInteractive(key) {\n",
              "          const element = document.querySelector('#df-68719f6a-305c-426a-a830-8fac94215c70');\n",
              "          const dataTable =\n",
              "            await google.colab.kernel.invokeFunction('convertToInteractive',\n",
              "                                                     [key], {});\n",
              "          if (!dataTable) return;\n",
              "\n",
              "          const docLinkHtml = 'Like what you see? Visit the ' +\n",
              "            '<a target=\"_blank\" href=https://colab.research.google.com/notebooks/data_table.ipynb>data table notebook</a>'\n",
              "            + ' to learn more about interactive tables.';\n",
              "          element.innerHTML = '';\n",
              "          dataTable['output_type'] = 'display_data';\n",
              "          await google.colab.output.renderOutput(dataTable, element);\n",
              "          const docLink = document.createElement('div');\n",
              "          docLink.innerHTML = docLinkHtml;\n",
              "          element.appendChild(docLink);\n",
              "        }\n",
              "      </script>\n",
              "    </div>\n",
              "  </div>\n",
              "  "
            ]
          },
          "metadata": {},
          "execution_count": 332
        }
      ]
    },
    {
      "cell_type": "code",
      "source": [
        "# Drop rows not in English\n",
        "df = df[df['Review Title'].map(lambda x: x.isascii())]\n",
        "df = df[df['Review'].map(lambda x: x.isascii())]"
      ],
      "metadata": {
        "id": "yxQJoskRLnQJ"
      },
      "execution_count": 333,
      "outputs": []
    },
    {
      "cell_type": "markdown",
      "source": [
        "### 5.4. Reorder columns in dataframe.\n",
        "the columns will be reordered to have reviews as the last column"
      ],
      "metadata": {
        "id": "2dNp_J-df6zD"
      }
    },
    {
      "cell_type": "code",
      "source": [
        "df = df.reindex(columns=['Product_name', 'Model_Type', 'Brand', 'Price', 'Review Date', \n",
        "                         'Rating', 'Review Title', 'Review'])"
      ],
      "metadata": {
        "id": "MBKVXbDNe7DK"
      },
      "execution_count": 334,
      "outputs": []
    },
    {
      "cell_type": "markdown",
      "source": [
        "It can be noted that the review and review title columns have \\n . This needs to be removed."
      ],
      "metadata": {
        "id": "vG5PE_vXDrRd"
      }
    },
    {
      "cell_type": "code",
      "source": [
        "# removing /n from the texts\n",
        "\n",
        "df['Review Title'] = df['Review Title'].str.strip()\n",
        "df['Review'] = df['Review'].str.strip()"
      ],
      "metadata": {
        "id": "GHU1BYj4bza0"
      },
      "execution_count": 335,
      "outputs": []
    },
    {
      "cell_type": "code",
      "source": [
        "# Dropping  unnecessary columns\n",
        "\n",
        "df.drop('Product_name', axis=1, inplace=True)"
      ],
      "metadata": {
        "id": "MepPP8ljQPQN"
      },
      "execution_count": 336,
      "outputs": []
    },
    {
      "cell_type": "markdown",
      "source": [
        "### 5.5. Creating The Labels Based on the  Ratings"
      ],
      "metadata": {
        "id": "jz4J8z3Jy0rn"
      }
    },
    {
      "cell_type": "code",
      "source": [
        "def to_sentiment(rating):\n",
        "\n",
        "    if rating <= 2:\n",
        "      return 'Negative'\n",
        "    elif rating == 3:\n",
        "      return 'Neutral'\n",
        "    else: \n",
        "      return 'Positive'\n",
        "\n",
        "df['ratings_sentiment'] = df['Rating'].apply(to_sentiment)"
      ],
      "metadata": {
        "id": "qll8mCmGzQfM"
      },
      "execution_count": 337,
      "outputs": []
    },
    {
      "cell_type": "code",
      "source": [
        "# Confirming new changes have created new missing values and if yes drop them\n",
        "print(missing_data(df))\n",
        "df.dropna(inplace = True)"
      ],
      "metadata": {
        "colab": {
          "base_uri": "https://localhost:8080/"
        },
        "id": "gxWPfEHUBy1U",
        "outputId": "274829f5-1c20-4cf5-c9f1-10d501ca11cc"
      },
      "execution_count": 338,
      "outputs": [
        {
          "output_type": "stream",
          "name": "stdout",
          "text": [
            "Series([], dtype: int64)\n"
          ]
        }
      ]
    },
    {
      "cell_type": "code",
      "source": [
        "# Explore cleaned dataframe\n",
        "df.head()"
      ],
      "metadata": {
        "id": "_kT1T_B005Vu",
        "outputId": "4e6a9502-2136-4a36-f172-1de21b8569b3",
        "colab": {
          "base_uri": "https://localhost:8080/",
          "height": 302
        }
      },
      "execution_count": 339,
      "outputs": [
        {
          "output_type": "execute_result",
          "data": {
            "text/plain": [
              "  Model_Type Brand  Price Review Date  Rating  \\\n",
              "0  RCA Reno    RCA     69  2022-02-11       4   \n",
              "2  RCA Reno    RCA     69  2022-06-07       3   \n",
              "3  RCA Reno    RCA     69  2022-04-14       3   \n",
              "4  RCA Reno    RCA     69  2022-08-13       4   \n",
              "5  RCA Reno    RCA     69  2022-05-10       3   \n",
              "\n",
              "                                        Review Title  \\\n",
              "0  .. not what ordered, not New... but it works s...   \n",
              "2                   Will not work on T-Mobile sysem!   \n",
              "3                              A burner or for a kid   \n",
              "4                                      It works okay   \n",
              "5                                              Phone   \n",
              "\n",
              "                                              Review ratings_sentiment  \n",
              "0  So first off...it's not what I ordered, but I ...          Positive  \n",
              "2  New phone write up indicates T-Mobile system c...           Neutral  \n",
              "3  I use this as a burner w/o a sim card in it. J...           Neutral  \n",
              "4                                      It works fine          Positive  \n",
              "5  So far I don't like this phone at all, I threw...           Neutral  "
            ],
            "text/html": [
              "\n",
              "  <div id=\"df-fe8ef70f-5eee-4636-a889-b92982669d20\">\n",
              "    <div class=\"colab-df-container\">\n",
              "      <div>\n",
              "<style scoped>\n",
              "    .dataframe tbody tr th:only-of-type {\n",
              "        vertical-align: middle;\n",
              "    }\n",
              "\n",
              "    .dataframe tbody tr th {\n",
              "        vertical-align: top;\n",
              "    }\n",
              "\n",
              "    .dataframe thead th {\n",
              "        text-align: right;\n",
              "    }\n",
              "</style>\n",
              "<table border=\"1\" class=\"dataframe\">\n",
              "  <thead>\n",
              "    <tr style=\"text-align: right;\">\n",
              "      <th></th>\n",
              "      <th>Model_Type</th>\n",
              "      <th>Brand</th>\n",
              "      <th>Price</th>\n",
              "      <th>Review Date</th>\n",
              "      <th>Rating</th>\n",
              "      <th>Review Title</th>\n",
              "      <th>Review</th>\n",
              "      <th>ratings_sentiment</th>\n",
              "    </tr>\n",
              "  </thead>\n",
              "  <tbody>\n",
              "    <tr>\n",
              "      <th>0</th>\n",
              "      <td>RCA Reno</td>\n",
              "      <td>RCA</td>\n",
              "      <td>69</td>\n",
              "      <td>2022-02-11</td>\n",
              "      <td>4</td>\n",
              "      <td>.. not what ordered, not New... but it works s...</td>\n",
              "      <td>So first off...it's not what I ordered, but I ...</td>\n",
              "      <td>Positive</td>\n",
              "    </tr>\n",
              "    <tr>\n",
              "      <th>2</th>\n",
              "      <td>RCA Reno</td>\n",
              "      <td>RCA</td>\n",
              "      <td>69</td>\n",
              "      <td>2022-06-07</td>\n",
              "      <td>3</td>\n",
              "      <td>Will not work on T-Mobile sysem!</td>\n",
              "      <td>New phone write up indicates T-Mobile system c...</td>\n",
              "      <td>Neutral</td>\n",
              "    </tr>\n",
              "    <tr>\n",
              "      <th>3</th>\n",
              "      <td>RCA Reno</td>\n",
              "      <td>RCA</td>\n",
              "      <td>69</td>\n",
              "      <td>2022-04-14</td>\n",
              "      <td>3</td>\n",
              "      <td>A burner or for a kid</td>\n",
              "      <td>I use this as a burner w/o a sim card in it. J...</td>\n",
              "      <td>Neutral</td>\n",
              "    </tr>\n",
              "    <tr>\n",
              "      <th>4</th>\n",
              "      <td>RCA Reno</td>\n",
              "      <td>RCA</td>\n",
              "      <td>69</td>\n",
              "      <td>2022-08-13</td>\n",
              "      <td>4</td>\n",
              "      <td>It works okay</td>\n",
              "      <td>It works fine</td>\n",
              "      <td>Positive</td>\n",
              "    </tr>\n",
              "    <tr>\n",
              "      <th>5</th>\n",
              "      <td>RCA Reno</td>\n",
              "      <td>RCA</td>\n",
              "      <td>69</td>\n",
              "      <td>2022-05-10</td>\n",
              "      <td>3</td>\n",
              "      <td>Phone</td>\n",
              "      <td>So far I don't like this phone at all, I threw...</td>\n",
              "      <td>Neutral</td>\n",
              "    </tr>\n",
              "  </tbody>\n",
              "</table>\n",
              "</div>\n",
              "      <button class=\"colab-df-convert\" onclick=\"convertToInteractive('df-fe8ef70f-5eee-4636-a889-b92982669d20')\"\n",
              "              title=\"Convert this dataframe to an interactive table.\"\n",
              "              style=\"display:none;\">\n",
              "        \n",
              "  <svg xmlns=\"http://www.w3.org/2000/svg\" height=\"24px\"viewBox=\"0 0 24 24\"\n",
              "       width=\"24px\">\n",
              "    <path d=\"M0 0h24v24H0V0z\" fill=\"none\"/>\n",
              "    <path d=\"M18.56 5.44l.94 2.06.94-2.06 2.06-.94-2.06-.94-.94-2.06-.94 2.06-2.06.94zm-11 1L8.5 8.5l.94-2.06 2.06-.94-2.06-.94L8.5 2.5l-.94 2.06-2.06.94zm10 10l.94 2.06.94-2.06 2.06-.94-2.06-.94-.94-2.06-.94 2.06-2.06.94z\"/><path d=\"M17.41 7.96l-1.37-1.37c-.4-.4-.92-.59-1.43-.59-.52 0-1.04.2-1.43.59L10.3 9.45l-7.72 7.72c-.78.78-.78 2.05 0 2.83L4 21.41c.39.39.9.59 1.41.59.51 0 1.02-.2 1.41-.59l7.78-7.78 2.81-2.81c.8-.78.8-2.07 0-2.86zM5.41 20L4 18.59l7.72-7.72 1.47 1.35L5.41 20z\"/>\n",
              "  </svg>\n",
              "      </button>\n",
              "      \n",
              "  <style>\n",
              "    .colab-df-container {\n",
              "      display:flex;\n",
              "      flex-wrap:wrap;\n",
              "      gap: 12px;\n",
              "    }\n",
              "\n",
              "    .colab-df-convert {\n",
              "      background-color: #E8F0FE;\n",
              "      border: none;\n",
              "      border-radius: 50%;\n",
              "      cursor: pointer;\n",
              "      display: none;\n",
              "      fill: #1967D2;\n",
              "      height: 32px;\n",
              "      padding: 0 0 0 0;\n",
              "      width: 32px;\n",
              "    }\n",
              "\n",
              "    .colab-df-convert:hover {\n",
              "      background-color: #E2EBFA;\n",
              "      box-shadow: 0px 1px 2px rgba(60, 64, 67, 0.3), 0px 1px 3px 1px rgba(60, 64, 67, 0.15);\n",
              "      fill: #174EA6;\n",
              "    }\n",
              "\n",
              "    [theme=dark] .colab-df-convert {\n",
              "      background-color: #3B4455;\n",
              "      fill: #D2E3FC;\n",
              "    }\n",
              "\n",
              "    [theme=dark] .colab-df-convert:hover {\n",
              "      background-color: #434B5C;\n",
              "      box-shadow: 0px 1px 3px 1px rgba(0, 0, 0, 0.15);\n",
              "      filter: drop-shadow(0px 1px 2px rgba(0, 0, 0, 0.3));\n",
              "      fill: #FFFFFF;\n",
              "    }\n",
              "  </style>\n",
              "\n",
              "      <script>\n",
              "        const buttonEl =\n",
              "          document.querySelector('#df-fe8ef70f-5eee-4636-a889-b92982669d20 button.colab-df-convert');\n",
              "        buttonEl.style.display =\n",
              "          google.colab.kernel.accessAllowed ? 'block' : 'none';\n",
              "\n",
              "        async function convertToInteractive(key) {\n",
              "          const element = document.querySelector('#df-fe8ef70f-5eee-4636-a889-b92982669d20');\n",
              "          const dataTable =\n",
              "            await google.colab.kernel.invokeFunction('convertToInteractive',\n",
              "                                                     [key], {});\n",
              "          if (!dataTable) return;\n",
              "\n",
              "          const docLinkHtml = 'Like what you see? Visit the ' +\n",
              "            '<a target=\"_blank\" href=https://colab.research.google.com/notebooks/data_table.ipynb>data table notebook</a>'\n",
              "            + ' to learn more about interactive tables.';\n",
              "          element.innerHTML = '';\n",
              "          dataTable['output_type'] = 'display_data';\n",
              "          await google.colab.output.renderOutput(dataTable, element);\n",
              "          const docLink = document.createElement('div');\n",
              "          docLink.innerHTML = docLinkHtml;\n",
              "          element.appendChild(docLink);\n",
              "        }\n",
              "      </script>\n",
              "    </div>\n",
              "  </div>\n",
              "  "
            ]
          },
          "metadata": {},
          "execution_count": 339
        }
      ]
    },
    {
      "cell_type": "code",
      "source": [
        "# Explore the shape of the cleaned dataframe\n",
        "print(f'The data has {df.shape[0]} rows and {df.shape[1]} columns')"
      ],
      "metadata": {
        "id": "jtroqUXtcRjJ",
        "outputId": "759e1ff4-64e1-4ebb-d3c6-1587bb342fda",
        "colab": {
          "base_uri": "https://localhost:8080/"
        }
      },
      "execution_count": 340,
      "outputs": [
        {
          "output_type": "stream",
          "name": "stdout",
          "text": [
            "The data has 9156 rows and 8 columns\n"
          ]
        }
      ]
    },
    {
      "cell_type": "code",
      "source": [
        "# Make a copy of the dataset\n",
        "data = df.copy()"
      ],
      "metadata": {
        "id": "Ebh5nyTb8qhM"
      },
      "execution_count": 341,
      "outputs": []
    },
    {
      "cell_type": "markdown",
      "source": [
        "# 6. Exploratory Data Analysis(EDA)\n",
        "\n",
        "- Create a Pandas Profile\n",
        "- Find out the  relationship between product rating and reviews.\n",
        "- Explore the  relationship between brand and price.\n",
        "- Explore  the relationship between brand and number of reviews\n",
        "- Word cloud of most-used words in reviews.\n",
        "- Trend of reviews over the years.\n",
        "- Find out the relationship between price and product rating.\n",
        "\n",
        "\n"
      ],
      "metadata": {
        "id": "_T_okllJH8rm"
      }
    },
    {
      "cell_type": "markdown",
      "source": [
        "### 6.1. Pandas Profiling\n"
      ],
      "metadata": {
        "id": "j5BLFxqiNbL4"
      }
    },
    {
      "cell_type": "code",
      "source": [
        "# report = ProfileReport(df, title='Pandas Profiling Report')\n",
        "# report"
      ],
      "metadata": {
        "id": "6FD8d8gfMIgG"
      },
      "execution_count": 342,
      "outputs": []
    },
    {
      "cell_type": "markdown",
      "source": [
        "The pandas profile"
      ],
      "metadata": {
        "id": "qLvPFUsMP5cl"
      }
    },
    {
      "cell_type": "code",
      "source": [
        "# report.to_file(output_file='Amazon_Pandas_profile.html')"
      ],
      "metadata": {
        "id": "CbPHPmd5M_6P"
      },
      "execution_count": 343,
      "outputs": []
    },
    {
      "cell_type": "markdown",
      "source": [
        "Summary of Profile Report:\n",
        "\n",
        "Overview\n",
        "- The dataset has 9144 rows and 9 columns, 6 of which are categorical, 1 is a date column and 2 are numerical variables.\n",
        "\n",
        "Variables\n",
        "\n",
        "- Minimum price is 1 dollar and maximum price is 799 dollars. This might show the presence of outliers that might need to be addressed later.\n",
        "- Top smartphone brands within the dataset are; Amazon Refurbished, Motorola, Blu, TLC and OnePlus.\n",
        "- The review dates range from Novemver 2014 to September 2022.\n",
        "\n",
        "- Most common words in the review column are Good, Love it, excelente, great phone and nice.\n",
        "\n",
        "- - Most common words in the review title column are great phone, good phone and good.\n",
        "\n",
        "\n",
        "Missing Values\n",
        "\n",
        "- No missing values in the dataset."
      ],
      "metadata": {
        "id": "DpMbIu__WCqI"
      }
    },
    {
      "cell_type": "markdown",
      "source": [
        "### 6.2. Relationship between ratings and reviews"
      ],
      "metadata": {
        "id": "2A_s7CmtWSPh"
      }
    },
    {
      "cell_type": "code",
      "source": [
        "# Group by relevant columns\n",
        "ratings_review = df.groupby('Rating')['Review'].count()"
      ],
      "metadata": {
        "id": "00kVht0zWDi6"
      },
      "execution_count": 344,
      "outputs": []
    },
    {
      "cell_type": "code",
      "source": [
        "# plot the data\n",
        "ax1 = ratings_review.plot(kind='bar', figsize=(15,8), color=\"green\", fontsize = 13);\n",
        "ax1.set_alpha(0.8)\n",
        "plt.xticks(rotation = 0,fontsize = 14)\n",
        "plt.yticks(fontsize = 14)\n",
        "ax1.set_title('Distribution of Reviews by Product Rating', fontsize = 20)\n",
        "ax1.set_ylabel(\"Number of Reviews\", fontsize = 15);\n",
        "ax1.set_xlabel(\"Ratings\", fontsize = 15 , rotation = 60)\n",
        "plt.show();\n"
      ],
      "metadata": {
        "id": "r1rMzE3xYMym",
        "colab": {
          "base_uri": "https://localhost:8080/",
          "height": 568
        },
        "outputId": "a65aab6a-324d-4e36-f1ed-a7ba72e4f1b7"
      },
      "execution_count": 345,
      "outputs": [
        {
          "output_type": "display_data",
          "data": {
            "text/plain": [
              "<Figure size 1080x576 with 1 Axes>"
            ],
            "image/png": "[encoded data removed]"
          },
          "metadata": {
            "needs_background": "light"
          }
        }
      ]
    },
    {
      "cell_type": "markdown",
      "source": [
        "Mobile phones with higher rating receive the highest number of reviews followed by phones with the least review rating."
      ],
      "metadata": {
        "id": "aj_LEeZ6bkr9"
      }
    },
    {
      "cell_type": "markdown",
      "source": [
        "### 6.3.  Brands with the most expensive phones\n"
      ],
      "metadata": {
        "id": "POZTRRVtb1jE"
      }
    },
    {
      "cell_type": "code",
      "source": [
        "# Group relevant columns\n",
        "brand_reviews = df.groupby('Brand')['Review'].count().sort_values(ascending = False).head(10)\n",
        "brand_prices = df.groupby('Brand')['Price'].max().sort_values(ascending = False).head(10)"
      ],
      "metadata": {
        "id": "mke5zr13cgj0"
      },
      "execution_count": 346,
      "outputs": []
    },
    {
      "cell_type": "code",
      "source": [
        "# Plot the graph\n",
        "ax1 = brand_prices.plot(kind = 'bar', figsize = (15,8), color = 'green', fontsize = 13);\n",
        "ax1.set_alpha(0.8)\n",
        "ax1.set_title('Priciest Phones by Brands', fontsize = 26)\n",
        "ax1.set_ylabel('Price', fontsize = 20);\n",
        "ax1.set_xlabel('Brand', fontsize = 20)\n",
        "plt.xticks(fontsize = 18)\n",
        "plt.show();"
      ],
      "metadata": {
        "id": "jqoAcyY9nKtF",
        "outputId": "e86a2665-e2af-4548-d94b-15ba9e40064b",
        "colab": {
          "base_uri": "https://localhost:8080/",
          "height": 708
        }
      },
      "execution_count": 347,
      "outputs": [
        {
          "output_type": "display_data",
          "data": {
            "text/plain": [
              "<Figure size 1080x576 with 1 Axes>"
            ],
            "image/png": "[encoded data removed]"
          },
          "metadata": {
            "needs_background": "light"
          }
        }
      ]
    },
    {
      "cell_type": "markdown",
      "source": [
        "Samsung phones have the priciest phones. Samsung is one of the top phone brands in the world and with high performance, which could explain the high prices of its models. It is however interesting that Apple/Iphones do not appear here yet they own a great market share. This will be explored further."
      ],
      "metadata": {
        "id": "DnhO7Rs2ja86"
      }
    },
    {
      "cell_type": "code",
      "source": [
        "# Filter strings that contain iphone or pro max\n",
        "iphone_ = df[df['Model_Type'].str.contains('iPhone| Pro MAX')] \n",
        "\n",
        "# Explore value counts of the new dataframe\n",
        "iphone_.Model_Type.value_counts().to_frame()"
      ],
      "metadata": {
        "colab": {
          "base_uri": "https://localhost:8080/",
          "height": 112
        },
        "id": "NaOxq2yZkJoy",
        "outputId": "8593a621-ac1b-4bc8-ebf0-042e751e9f89"
      },
      "execution_count": 348,
      "outputs": [
        {
          "output_type": "execute_result",
          "data": {
            "text/plain": [
              "                Model_Type\n",
              "Apple iPhone 8         649\n",
              "i12 Pro MAX             43"
            ],
            "text/html": [
              "\n",
              "  <div id=\"df-3ef86ac4-5a98-4221-bf8a-f261622ca603\">\n",
              "    <div class=\"colab-df-container\">\n",
              "      <div>\n",
              "<style scoped>\n",
              "    .dataframe tbody tr th:only-of-type {\n",
              "        vertical-align: middle;\n",
              "    }\n",
              "\n",
              "    .dataframe tbody tr th {\n",
              "        vertical-align: top;\n",
              "    }\n",
              "\n",
              "    .dataframe thead th {\n",
              "        text-align: right;\n",
              "    }\n",
              "</style>\n",
              "<table border=\"1\" class=\"dataframe\">\n",
              "  <thead>\n",
              "    <tr style=\"text-align: right;\">\n",
              "      <th></th>\n",
              "      <th>Model_Type</th>\n",
              "    </tr>\n",
              "  </thead>\n",
              "  <tbody>\n",
              "    <tr>\n",
              "      <th>Apple iPhone 8</th>\n",
              "      <td>649</td>\n",
              "    </tr>\n",
              "    <tr>\n",
              "      <th>i12 Pro MAX</th>\n",
              "      <td>43</td>\n",
              "    </tr>\n",
              "  </tbody>\n",
              "</table>\n",
              "</div>\n",
              "      <button class=\"colab-df-convert\" onclick=\"convertToInteractive('df-3ef86ac4-5a98-4221-bf8a-f261622ca603')\"\n",
              "              title=\"Convert this dataframe to an interactive table.\"\n",
              "              style=\"display:none;\">\n",
              "        \n",
              "  <svg xmlns=\"http://www.w3.org/2000/svg\" height=\"24px\"viewBox=\"0 0 24 24\"\n",
              "       width=\"24px\">\n",
              "    <path d=\"M0 0h24v24H0V0z\" fill=\"none\"/>\n",
              "    <path d=\"M18.56 5.44l.94 2.06.94-2.06 2.06-.94-2.06-.94-.94-2.06-.94 2.06-2.06.94zm-11 1L8.5 8.5l.94-2.06 2.06-.94-2.06-.94L8.5 2.5l-.94 2.06-2.06.94zm10 10l.94 2.06.94-2.06 2.06-.94-2.06-.94-.94-2.06-.94 2.06-2.06.94z\"/><path d=\"M17.41 7.96l-1.37-1.37c-.4-.4-.92-.59-1.43-.59-.52 0-1.04.2-1.43.59L10.3 9.45l-7.72 7.72c-.78.78-.78 2.05 0 2.83L4 21.41c.39.39.9.59 1.41.59.51 0 1.02-.2 1.41-.59l7.78-7.78 2.81-2.81c.8-.78.8-2.07 0-2.86zM5.41 20L4 18.59l7.72-7.72 1.47 1.35L5.41 20z\"/>\n",
              "  </svg>\n",
              "      </button>\n",
              "      \n",
              "  <style>\n",
              "    .colab-df-container {\n",
              "      display:flex;\n",
              "      flex-wrap:wrap;\n",
              "      gap: 12px;\n",
              "    }\n",
              "\n",
              "    .colab-df-convert {\n",
              "      background-color: #E8F0FE;\n",
              "      border: none;\n",
              "      border-radius: 50%;\n",
              "      cursor: pointer;\n",
              "      display: none;\n",
              "      fill: #1967D2;\n",
              "      height: 32px;\n",
              "      padding: 0 0 0 0;\n",
              "      width: 32px;\n",
              "    }\n",
              "\n",
              "    .colab-df-convert:hover {\n",
              "      background-color: #E2EBFA;\n",
              "      box-shadow: 0px 1px 2px rgba(60, 64, 67, 0.3), 0px 1px 3px 1px rgba(60, 64, 67, 0.15);\n",
              "      fill: #174EA6;\n",
              "    }\n",
              "\n",
              "    [theme=dark] .colab-df-convert {\n",
              "      background-color: #3B4455;\n",
              "      fill: #D2E3FC;\n",
              "    }\n",
              "\n",
              "    [theme=dark] .colab-df-convert:hover {\n",
              "      background-color: #434B5C;\n",
              "      box-shadow: 0px 1px 3px 1px rgba(0, 0, 0, 0.15);\n",
              "      filter: drop-shadow(0px 1px 2px rgba(0, 0, 0, 0.3));\n",
              "      fill: #FFFFFF;\n",
              "    }\n",
              "  </style>\n",
              "\n",
              "      <script>\n",
              "        const buttonEl =\n",
              "          document.querySelector('#df-3ef86ac4-5a98-4221-bf8a-f261622ca603 button.colab-df-convert');\n",
              "        buttonEl.style.display =\n",
              "          google.colab.kernel.accessAllowed ? 'block' : 'none';\n",
              "\n",
              "        async function convertToInteractive(key) {\n",
              "          const element = document.querySelector('#df-3ef86ac4-5a98-4221-bf8a-f261622ca603');\n",
              "          const dataTable =\n",
              "            await google.colab.kernel.invokeFunction('convertToInteractive',\n",
              "                                                     [key], {});\n",
              "          if (!dataTable) return;\n",
              "\n",
              "          const docLinkHtml = 'Like what you see? Visit the ' +\n",
              "            '<a target=\"_blank\" href=https://colab.research.google.com/notebooks/data_table.ipynb>data table notebook</a>'\n",
              "            + ' to learn more about interactive tables.';\n",
              "          element.innerHTML = '';\n",
              "          dataTable['output_type'] = 'display_data';\n",
              "          await google.colab.output.renderOutput(dataTable, element);\n",
              "          const docLink = document.createElement('div');\n",
              "          docLink.innerHTML = docLinkHtml;\n",
              "          element.appendChild(docLink);\n",
              "        }\n",
              "      </script>\n",
              "    </div>\n",
              "  </div>\n",
              "  "
            ]
          },
          "metadata": {},
          "execution_count": 348
        }
      ]
    },
    {
      "cell_type": "markdown",
      "source": [
        "Most of the iphones sold on Amazon are under refurbished phones. \n",
        "Acording to [Gear Patrol](https://www.gearpatrol.com/tech/a37134997/should-you-buy-apple-devices-on-amazon/), while Amazon since 2018 became an authorised dealer, the site is flooded by third party sellers many of whom have a history of trying to pass off counterfeits as legitimate Apple products. This has greatly affected iphone sales on the site. A clear example from the data is the third party seller **Dilwe** who seems to have many reviews saying he is selling fake iphones. "
      ],
      "metadata": {
        "id": "sF0yg6K8qTam"
      }
    },
    {
      "cell_type": "code",
      "source": [
        "# Print Dilwe reviews\n",
        "dilwe_iphones = df.loc[df['Brand'] == 'Dilwe']\n",
        "\n",
        "# Shuffle the rows\n",
        "dilwe_iphones = dilwe_iphones.sample(frac = 1)\n",
        "\n",
        "# Explore dataframe head\n",
        "dilwe_iphones.head()"
      ],
      "metadata": {
        "colab": {
          "base_uri": "https://localhost:8080/",
          "height": 302
        },
        "id": "gsXcMnr3suXA",
        "outputId": "12378b6b-1cc1-4d16-8118-8d4310786c08"
      },
      "execution_count": 349,
      "outputs": [
        {
          "output_type": "execute_result",
          "data": {
            "text/plain": [
              "       Model_Type  Brand  Price Review Date  Rating  \\\n",
              "1731  i12 Pro MAX  Dilwe    126  2022-07-27       1   \n",
              "1738  i12 Pro MAX  Dilwe    126  2022-01-18       1   \n",
              "1743  i12 Pro MAX  Dilwe    126  2022-07-02       1   \n",
              "1722  i12 Pro MAX  Dilwe    126  2022-07-02       2   \n",
              "1737  i12 Pro MAX  Dilwe    126  2022-06-09       1   \n",
              "\n",
              "                                          Review Title  \\\n",
              "1731                            Not what was described   \n",
              "1738                          doesn`t work at all ....   \n",
              "1743                                           No good   \n",
              "1722  It doesn't work. I don't have a way to return it   \n",
              "1737                                      Buyer beware   \n",
              "\n",
              "                                                 Review ratings_sentiment  \n",
              "1731  The phone was not what was described at all. I...          Negative  \n",
              "1738  I bought a ph chip at Best Buy , to use while ...          Negative  \n",
              "1743                                            No good          Negative  \n",
              "1722   It doesn't work. I don't have a way to return it          Negative  \n",
              "1737  This is easy to mistake as an iPhone and I thi...          Negative  "
            ],
            "text/html": [
              "\n",
              "  <div id=\"df-6143af23-8e64-430f-a5f7-bc5afe2cc89a\">\n",
              "    <div class=\"colab-df-container\">\n",
              "      <div>\n",
              "<style scoped>\n",
              "    .dataframe tbody tr th:only-of-type {\n",
              "        vertical-align: middle;\n",
              "    }\n",
              "\n",
              "    .dataframe tbody tr th {\n",
              "        vertical-align: top;\n",
              "    }\n",
              "\n",
              "    .dataframe thead th {\n",
              "        text-align: right;\n",
              "    }\n",
              "</style>\n",
              "<table border=\"1\" class=\"dataframe\">\n",
              "  <thead>\n",
              "    <tr style=\"text-align: right;\">\n",
              "      <th></th>\n",
              "      <th>Model_Type</th>\n",
              "      <th>Brand</th>\n",
              "      <th>Price</th>\n",
              "      <th>Review Date</th>\n",
              "      <th>Rating</th>\n",
              "      <th>Review Title</th>\n",
              "      <th>Review</th>\n",
              "      <th>ratings_sentiment</th>\n",
              "    </tr>\n",
              "  </thead>\n",
              "  <tbody>\n",
              "    <tr>\n",
              "      <th>1731</th>\n",
              "      <td>i12 Pro MAX</td>\n",
              "      <td>Dilwe</td>\n",
              "      <td>126</td>\n",
              "      <td>2022-07-27</td>\n",
              "      <td>1</td>\n",
              "      <td>Not what was described</td>\n",
              "      <td>The phone was not what was described at all. I...</td>\n",
              "      <td>Negative</td>\n",
              "    </tr>\n",
              "    <tr>\n",
              "      <th>1738</th>\n",
              "      <td>i12 Pro MAX</td>\n",
              "      <td>Dilwe</td>\n",
              "      <td>126</td>\n",
              "      <td>2022-01-18</td>\n",
              "      <td>1</td>\n",
              "      <td>doesn`t work at all ....</td>\n",
              "      <td>I bought a ph chip at Best Buy , to use while ...</td>\n",
              "      <td>Negative</td>\n",
              "    </tr>\n",
              "    <tr>\n",
              "      <th>1743</th>\n",
              "      <td>i12 Pro MAX</td>\n",
              "      <td>Dilwe</td>\n",
              "      <td>126</td>\n",
              "      <td>2022-07-02</td>\n",
              "      <td>1</td>\n",
              "      <td>No good</td>\n",
              "      <td>No good</td>\n",
              "      <td>Negative</td>\n",
              "    </tr>\n",
              "    <tr>\n",
              "      <th>1722</th>\n",
              "      <td>i12 Pro MAX</td>\n",
              "      <td>Dilwe</td>\n",
              "      <td>126</td>\n",
              "      <td>2022-07-02</td>\n",
              "      <td>2</td>\n",
              "      <td>It doesn't work. I don't have a way to return it</td>\n",
              "      <td>It doesn't work. I don't have a way to return it</td>\n",
              "      <td>Negative</td>\n",
              "    </tr>\n",
              "    <tr>\n",
              "      <th>1737</th>\n",
              "      <td>i12 Pro MAX</td>\n",
              "      <td>Dilwe</td>\n",
              "      <td>126</td>\n",
              "      <td>2022-06-09</td>\n",
              "      <td>1</td>\n",
              "      <td>Buyer beware</td>\n",
              "      <td>This is easy to mistake as an iPhone and I thi...</td>\n",
              "      <td>Negative</td>\n",
              "    </tr>\n",
              "  </tbody>\n",
              "</table>\n",
              "</div>\n",
              "      <button class=\"colab-df-convert\" onclick=\"convertToInteractive('df-6143af23-8e64-430f-a5f7-bc5afe2cc89a')\"\n",
              "              title=\"Convert this dataframe to an interactive table.\"\n",
              "              style=\"display:none;\">\n",
              "        \n",
              "  <svg xmlns=\"http://www.w3.org/2000/svg\" height=\"24px\"viewBox=\"0 0 24 24\"\n",
              "       width=\"24px\">\n",
              "    <path d=\"M0 0h24v24H0V0z\" fill=\"none\"/>\n",
              "    <path d=\"M18.56 5.44l.94 2.06.94-2.06 2.06-.94-2.06-.94-.94-2.06-.94 2.06-2.06.94zm-11 1L8.5 8.5l.94-2.06 2.06-.94-2.06-.94L8.5 2.5l-.94 2.06-2.06.94zm10 10l.94 2.06.94-2.06 2.06-.94-2.06-.94-.94-2.06-.94 2.06-2.06.94z\"/><path d=\"M17.41 7.96l-1.37-1.37c-.4-.4-.92-.59-1.43-.59-.52 0-1.04.2-1.43.59L10.3 9.45l-7.72 7.72c-.78.78-.78 2.05 0 2.83L4 21.41c.39.39.9.59 1.41.59.51 0 1.02-.2 1.41-.59l7.78-7.78 2.81-2.81c.8-.78.8-2.07 0-2.86zM5.41 20L4 18.59l7.72-7.72 1.47 1.35L5.41 20z\"/>\n",
              "  </svg>\n",
              "      </button>\n",
              "      \n",
              "  <style>\n",
              "    .colab-df-container {\n",
              "      display:flex;\n",
              "      flex-wrap:wrap;\n",
              "      gap: 12px;\n",
              "    }\n",
              "\n",
              "    .colab-df-convert {\n",
              "      background-color: #E8F0FE;\n",
              "      border: none;\n",
              "      border-radius: 50%;\n",
              "      cursor: pointer;\n",
              "      display: none;\n",
              "      fill: #1967D2;\n",
              "      height: 32px;\n",
              "      padding: 0 0 0 0;\n",
              "      width: 32px;\n",
              "    }\n",
              "\n",
              "    .colab-df-convert:hover {\n",
              "      background-color: #E2EBFA;\n",
              "      box-shadow: 0px 1px 2px rgba(60, 64, 67, 0.3), 0px 1px 3px 1px rgba(60, 64, 67, 0.15);\n",
              "      fill: #174EA6;\n",
              "    }\n",
              "\n",
              "    [theme=dark] .colab-df-convert {\n",
              "      background-color: #3B4455;\n",
              "      fill: #D2E3FC;\n",
              "    }\n",
              "\n",
              "    [theme=dark] .colab-df-convert:hover {\n",
              "      background-color: #434B5C;\n",
              "      box-shadow: 0px 1px 3px 1px rgba(0, 0, 0, 0.15);\n",
              "      filter: drop-shadow(0px 1px 2px rgba(0, 0, 0, 0.3));\n",
              "      fill: #FFFFFF;\n",
              "    }\n",
              "  </style>\n",
              "\n",
              "      <script>\n",
              "        const buttonEl =\n",
              "          document.querySelector('#df-6143af23-8e64-430f-a5f7-bc5afe2cc89a button.colab-df-convert');\n",
              "        buttonEl.style.display =\n",
              "          google.colab.kernel.accessAllowed ? 'block' : 'none';\n",
              "\n",
              "        async function convertToInteractive(key) {\n",
              "          const element = document.querySelector('#df-6143af23-8e64-430f-a5f7-bc5afe2cc89a');\n",
              "          const dataTable =\n",
              "            await google.colab.kernel.invokeFunction('convertToInteractive',\n",
              "                                                     [key], {});\n",
              "          if (!dataTable) return;\n",
              "\n",
              "          const docLinkHtml = 'Like what you see? Visit the ' +\n",
              "            '<a target=\"_blank\" href=https://colab.research.google.com/notebooks/data_table.ipynb>data table notebook</a>'\n",
              "            + ' to learn more about interactive tables.';\n",
              "          element.innerHTML = '';\n",
              "          dataTable['output_type'] = 'display_data';\n",
              "          await google.colab.output.renderOutput(dataTable, element);\n",
              "          const docLink = document.createElement('div');\n",
              "          docLink.innerHTML = docLinkHtml;\n",
              "          element.appendChild(docLink);\n",
              "        }\n",
              "      </script>\n",
              "    </div>\n",
              "  </div>\n",
              "  "
            ]
          },
          "metadata": {},
          "execution_count": 349
        }
      ]
    },
    {
      "cell_type": "markdown",
      "source": [
        "### 6.4. Brands with the highest number of reviews"
      ],
      "metadata": {
        "id": "BhO26tUEtpIv"
      }
    },
    {
      "cell_type": "code",
      "source": [
        "# Plot the data\n",
        "ax2 = brand_reviews.plot(kind = 'bar', figsize = (15,8), color = 'green', fontsize = 13);\n",
        "ax2.set_alpha(0.8)\n",
        "ax2.set_title('Number of Reviews by Brands', fontsize = 26)\n",
        "ax2.set_ylabel('Number of Reviews', fontsize = 20);\n",
        "ax2.set_xlabel('Brand', fontsize = 20)\n",
        "plt.show();\n"
      ],
      "metadata": {
        "id": "LdWct8RVchaK",
        "colab": {
          "base_uri": "https://localhost:8080/",
          "height": 657
        },
        "outputId": "68924854-bad4-4257-efeb-1809468bd37c"
      },
      "execution_count": 350,
      "outputs": [
        {
          "output_type": "display_data",
          "data": {
            "text/plain": [
              "<Figure size 1080x576 with 1 Axes>"
            ],
            "image/png": "[encoded data removed]"
          },
          "metadata": {
            "needs_background": "light"
          }
        }
      ]
    },
    {
      "cell_type": "markdown",
      "source": [
        "Refurbished phones have the highest number of reviews. Refurbished phones are ones that have gone through some form of repair and are not new. This could explain why consumers feel the need to review their performance and effectiveness.\n"
      ],
      "metadata": {
        "id": "XnE0A-sbCugS"
      }
    },
    {
      "cell_type": "markdown",
      "source": [
        "### 6.5. Word cloud of the most-used words in reviews."
      ],
      "metadata": {
        "id": "10pgiTbZLkQV"
      }
    },
    {
      "cell_type": "code",
      "source": [
        "# Plot a word cloud \n",
        "comment_words = ''\n",
        "stopwords = set(STOPWORDS)\n",
        " \n",
        "# iterate through the csv file\n",
        "for val in df.Review:\n",
        "     \n",
        "    # typecaste each val to string\n",
        "    val = str(val)\n",
        " \n",
        "    # split the value\n",
        "    tokens = val.split()\n",
        "     \n",
        "    # Converts each token into lowercase\n",
        "    for i in range(len(tokens)):\n",
        "        tokens[i] = tokens[i].lower()\n",
        "     \n",
        "    comment_words += \" \".join(tokens)+\" \"\n",
        " \n",
        "wordcloud = WordCloud(width = 800, height = 800,\n",
        "                background_color ='white',\n",
        "                stopwords = stopwords,\n",
        "                min_font_size = 10).generate(comment_words)\n",
        " \n",
        "# plot the WordCloud image                      \n",
        "plt.figure(figsize = (15, 8), facecolor = None)\n",
        "plt.imshow(wordcloud)\n",
        "plt.axis(\"off\")\n",
        "plt.tight_layout(pad = 0)\n",
        " \n",
        "plt.show() "
      ],
      "metadata": {
        "id": "qGdXICzYFC7_",
        "outputId": "883b00a1-13a0-4bd4-dd32-f84065dc7fa1",
        "colab": {
          "base_uri": "https://localhost:8080/",
          "height": 607
        }
      },
      "execution_count": 351,
      "outputs": [
        {
          "output_type": "display_data",
          "data": {
            "text/plain": [
              "<Figure size 1080x576 with 1 Axes>"
            ],
            "image/png": "[encoded data removed]"
          },
          "metadata": {
            "needs_background": "light"
          }
        }
      ]
    },
    {
      "cell_type": "markdown",
      "source": [
        "good, great, battery price, issue and work are some of the words that pop up more in the reviews.\n",
        "\n",
        "It is interesting that **iphone** appears in the word cloud despite having less products being sold. This will be explored further."
      ],
      "metadata": {
        "id": "retZ9MLuLv-X"
      }
    },
    {
      "cell_type": "code",
      "source": [
        "# Remove rows containing iphone as a product\n",
        "iphone_frequency = df[~df['Model_Type'].str.contains('iPhone| Pro MAX')] \n",
        "\n",
        "# Print reviews with the word iphone\n",
        "iphones_frequency = iphone_frequency[iphone_frequency['Review Title'].str.contains('iPhone | iphone')] \n",
        "\n",
        "# Shuffle the rows\n",
        "iphones_frequency = iphones_frequency.sample(frac = 1)\n",
        "\n",
        "# Print the shape of the new dataframe\n",
        "print(iphone_frequency.shape)\n",
        "\n",
        "# Explore dataframe head\n",
        "iphones_frequency.head()"
      ],
      "metadata": {
        "colab": {
          "base_uri": "https://localhost:8080/",
          "height": 372
        },
        "id": "EE6hGtAXuxpu",
        "outputId": "75516113-7cec-421e-cdcc-911c38a67e81"
      },
      "execution_count": 352,
      "outputs": [
        {
          "output_type": "stream",
          "name": "stdout",
          "text": [
            "(8464, 8)\n"
          ]
        },
        {
          "output_type": "execute_result",
          "data": {
            "text/plain": [
              "         Model_Type     Brand  Price Review Date  Rating  \\\n",
              "2815   Moto G Power  Motorola    149  2021-06-10       5   \n",
              "12887     TCL 20 SE       TCL    189  2021-09-14       5   \n",
              "11537     TCL 20 SE       TCL    189  2021-09-14       5   \n",
              "2605   Moto G Power  Motorola    149  2021-12-31       3   \n",
              "9937    Moto G fast  Motorola    128  2020-06-20       5   \n",
              "\n",
              "                                            Review Title  \\\n",
              "2815             Like this phone as good as iphone I had   \n",
              "12887  Great upgrade from my previous phone (iPhone 7+).   \n",
              "11537  Great upgrade from my previous phone (iPhone 7+).   \n",
              "2605                             Makes me miss my iphone   \n",
              "9937               iPhone quality at a 1/3 of the price!   \n",
              "\n",
              "                                                  Review ratings_sentiment  \n",
              "2815   Like the phone easy to use, reasonable price, ...          Positive  \n",
              "12887  While this phone is just as wide and a half-in...          Positive  \n",
              "11537  While this phone is just as wide and a half-in...          Positive  \n",
              "2605   Bought this a couple months ago already you ca...           Neutral  \n",
              "9937   Finally a phone I absolutely love!! I came fro...          Positive  "
            ],
            "text/html": [
              "\n",
              "  <div id=\"df-dacac184-b44c-47a5-ad79-0df770bb28fc\">\n",
              "    <div class=\"colab-df-container\">\n",
              "      <div>\n",
              "<style scoped>\n",
              "    .dataframe tbody tr th:only-of-type {\n",
              "        vertical-align: middle;\n",
              "    }\n",
              "\n",
              "    .dataframe tbody tr th {\n",
              "        vertical-align: top;\n",
              "    }\n",
              "\n",
              "    .dataframe thead th {\n",
              "        text-align: right;\n",
              "    }\n",
              "</style>\n",
              "<table border=\"1\" class=\"dataframe\">\n",
              "  <thead>\n",
              "    <tr style=\"text-align: right;\">\n",
              "      <th></th>\n",
              "      <th>Model_Type</th>\n",
              "      <th>Brand</th>\n",
              "      <th>Price</th>\n",
              "      <th>Review Date</th>\n",
              "      <th>Rating</th>\n",
              "      <th>Review Title</th>\n",
              "      <th>Review</th>\n",
              "      <th>ratings_sentiment</th>\n",
              "    </tr>\n",
              "  </thead>\n",
              "  <tbody>\n",
              "    <tr>\n",
              "      <th>2815</th>\n",
              "      <td>Moto G Power</td>\n",
              "      <td>Motorola</td>\n",
              "      <td>149</td>\n",
              "      <td>2021-06-10</td>\n",
              "      <td>5</td>\n",
              "      <td>Like this phone as good as iphone I had</td>\n",
              "      <td>Like the phone easy to use, reasonable price, ...</td>\n",
              "      <td>Positive</td>\n",
              "    </tr>\n",
              "    <tr>\n",
              "      <th>12887</th>\n",
              "      <td>TCL 20 SE</td>\n",
              "      <td>TCL</td>\n",
              "      <td>189</td>\n",
              "      <td>2021-09-14</td>\n",
              "      <td>5</td>\n",
              "      <td>Great upgrade from my previous phone (iPhone 7+).</td>\n",
              "      <td>While this phone is just as wide and a half-in...</td>\n",
              "      <td>Positive</td>\n",
              "    </tr>\n",
              "    <tr>\n",
              "      <th>11537</th>\n",
              "      <td>TCL 20 SE</td>\n",
              "      <td>TCL</td>\n",
              "      <td>189</td>\n",
              "      <td>2021-09-14</td>\n",
              "      <td>5</td>\n",
              "      <td>Great upgrade from my previous phone (iPhone 7+).</td>\n",
              "      <td>While this phone is just as wide and a half-in...</td>\n",
              "      <td>Positive</td>\n",
              "    </tr>\n",
              "    <tr>\n",
              "      <th>2605</th>\n",
              "      <td>Moto G Power</td>\n",
              "      <td>Motorola</td>\n",
              "      <td>149</td>\n",
              "      <td>2021-12-31</td>\n",
              "      <td>3</td>\n",
              "      <td>Makes me miss my iphone</td>\n",
              "      <td>Bought this a couple months ago already you ca...</td>\n",
              "      <td>Neutral</td>\n",
              "    </tr>\n",
              "    <tr>\n",
              "      <th>9937</th>\n",
              "      <td>Moto G fast</td>\n",
              "      <td>Motorola</td>\n",
              "      <td>128</td>\n",
              "      <td>2020-06-20</td>\n",
              "      <td>5</td>\n",
              "      <td>iPhone quality at a 1/3 of the price!</td>\n",
              "      <td>Finally a phone I absolutely love!! I came fro...</td>\n",
              "      <td>Positive</td>\n",
              "    </tr>\n",
              "  </tbody>\n",
              "</table>\n",
              "</div>\n",
              "      <button class=\"colab-df-convert\" onclick=\"convertToInteractive('df-dacac184-b44c-47a5-ad79-0df770bb28fc')\"\n",
              "              title=\"Convert this dataframe to an interactive table.\"\n",
              "              style=\"display:none;\">\n",
              "        \n",
              "  <svg xmlns=\"http://www.w3.org/2000/svg\" height=\"24px\"viewBox=\"0 0 24 24\"\n",
              "       width=\"24px\">\n",
              "    <path d=\"M0 0h24v24H0V0z\" fill=\"none\"/>\n",
              "    <path d=\"M18.56 5.44l.94 2.06.94-2.06 2.06-.94-2.06-.94-.94-2.06-.94 2.06-2.06.94zm-11 1L8.5 8.5l.94-2.06 2.06-.94-2.06-.94L8.5 2.5l-.94 2.06-2.06.94zm10 10l.94 2.06.94-2.06 2.06-.94-2.06-.94-.94-2.06-.94 2.06-2.06.94z\"/><path d=\"M17.41 7.96l-1.37-1.37c-.4-.4-.92-.59-1.43-.59-.52 0-1.04.2-1.43.59L10.3 9.45l-7.72 7.72c-.78.78-.78 2.05 0 2.83L4 21.41c.39.39.9.59 1.41.59.51 0 1.02-.2 1.41-.59l7.78-7.78 2.81-2.81c.8-.78.8-2.07 0-2.86zM5.41 20L4 18.59l7.72-7.72 1.47 1.35L5.41 20z\"/>\n",
              "  </svg>\n",
              "      </button>\n",
              "      \n",
              "  <style>\n",
              "    .colab-df-container {\n",
              "      display:flex;\n",
              "      flex-wrap:wrap;\n",
              "      gap: 12px;\n",
              "    }\n",
              "\n",
              "    .colab-df-convert {\n",
              "      background-color: #E8F0FE;\n",
              "      border: none;\n",
              "      border-radius: 50%;\n",
              "      cursor: pointer;\n",
              "      display: none;\n",
              "      fill: #1967D2;\n",
              "      height: 32px;\n",
              "      padding: 0 0 0 0;\n",
              "      width: 32px;\n",
              "    }\n",
              "\n",
              "    .colab-df-convert:hover {\n",
              "      background-color: #E2EBFA;\n",
              "      box-shadow: 0px 1px 2px rgba(60, 64, 67, 0.3), 0px 1px 3px 1px rgba(60, 64, 67, 0.15);\n",
              "      fill: #174EA6;\n",
              "    }\n",
              "\n",
              "    [theme=dark] .colab-df-convert {\n",
              "      background-color: #3B4455;\n",
              "      fill: #D2E3FC;\n",
              "    }\n",
              "\n",
              "    [theme=dark] .colab-df-convert:hover {\n",
              "      background-color: #434B5C;\n",
              "      box-shadow: 0px 1px 3px 1px rgba(0, 0, 0, 0.15);\n",
              "      filter: drop-shadow(0px 1px 2px rgba(0, 0, 0, 0.3));\n",
              "      fill: #FFFFFF;\n",
              "    }\n",
              "  </style>\n",
              "\n",
              "      <script>\n",
              "        const buttonEl =\n",
              "          document.querySelector('#df-dacac184-b44c-47a5-ad79-0df770bb28fc button.colab-df-convert');\n",
              "        buttonEl.style.display =\n",
              "          google.colab.kernel.accessAllowed ? 'block' : 'none';\n",
              "\n",
              "        async function convertToInteractive(key) {\n",
              "          const element = document.querySelector('#df-dacac184-b44c-47a5-ad79-0df770bb28fc');\n",
              "          const dataTable =\n",
              "            await google.colab.kernel.invokeFunction('convertToInteractive',\n",
              "                                                     [key], {});\n",
              "          if (!dataTable) return;\n",
              "\n",
              "          const docLinkHtml = 'Like what you see? Visit the ' +\n",
              "            '<a target=\"_blank\" href=https://colab.research.google.com/notebooks/data_table.ipynb>data table notebook</a>'\n",
              "            + ' to learn more about interactive tables.';\n",
              "          element.innerHTML = '';\n",
              "          dataTable['output_type'] = 'display_data';\n",
              "          await google.colab.output.renderOutput(dataTable, element);\n",
              "          const docLink = document.createElement('div');\n",
              "          docLink.innerHTML = docLinkHtml;\n",
              "          element.appendChild(docLink);\n",
              "        }\n",
              "      </script>\n",
              "    </div>\n",
              "  </div>\n",
              "  "
            ]
          },
          "metadata": {},
          "execution_count": 352
        }
      ]
    },
    {
      "cell_type": "markdown",
      "source": [
        "There are more that 8 thousand rows where **iphone** is mentioned in Review Title despite the product not being an iphone."
      ],
      "metadata": {
        "id": "AJl0IRGvxPtD"
      }
    },
    {
      "cell_type": "markdown",
      "source": [
        "### 6.6. Trend of reviews over the years"
      ],
      "metadata": {
        "id": "U9T5Vm32DDk7"
      }
    },
    {
      "cell_type": "code",
      "source": [
        "# Create a new dataframe to use while maintaining the original\n",
        "new_df = df.copy()\n",
        "\n",
        "# Extract year from the new dataframe\n",
        "new_df['year'] = new_df['Review Date'].dt.year\n",
        "\n",
        "# Group by relevant columns\n",
        "review_date = new_df.groupby('year')['Review'].count()\n",
        "review_date = pd.DataFrame(review_date).reset_index()\n",
        "\n",
        "# plot the data\n",
        "review_date.plot.line(x = 'year', y = 'Review', color = 'green', figsize=(15, 8));\n"
      ],
      "metadata": {
        "id": "OgYcWifyr_jw",
        "colab": {
          "base_uri": "https://localhost:8080/",
          "height": 497
        },
        "outputId": "67874bd7-856e-4435-cbe3-9e850956fcae"
      },
      "execution_count": 353,
      "outputs": [
        {
          "output_type": "display_data",
          "data": {
            "text/plain": [
              "<Figure size 1080x576 with 1 Axes>"
            ],
            "image/png": "[encoded data removed]"
          },
          "metadata": {
            "needs_background": "light"
          }
        }
      ]
    },
    {
      "cell_type": "markdown",
      "source": [
        "The rate of customer reviews took a major increase from 2020. This could be attributed to the Covid Pandemic where people spent lots of time indoors and online shopping was at an all time high."
      ],
      "metadata": {
        "id": "mH7ynHgzKm8q"
      }
    },
    {
      "cell_type": "markdown",
      "source": [
        "### 6.7. Relationship between price and Ratings"
      ],
      "metadata": {
        "id": "j57V0wdPQYqD"
      }
    },
    {
      "cell_type": "code",
      "source": [
        "# Group by relevant columns\n",
        "review_price = new_df.groupby('Price')['Rating'].count()\n",
        "review_price = pd.DataFrame(review_price).reset_index()\n",
        "\n",
        "# Plot the data\n",
        "fig, ax = plt.subplots(figsize=(15,8))\n",
        "sns.scatterplot(x = 'Price', y = 'Rating', data = review_price, color = 'green')\n",
        "plt.show();"
      ],
      "metadata": {
        "id": "rvxxPQ21MRA-",
        "colab": {
          "base_uri": "https://localhost:8080/",
          "height": 497
        },
        "outputId": "f4efcf56-3152-4d49-a8ec-0ddeed69c66e"
      },
      "execution_count": 354,
      "outputs": [
        {
          "output_type": "display_data",
          "data": {
            "text/plain": [
              "<Figure size 1080x576 with 1 Axes>"
            ],
            "image/png": "[encoded data removed]"
          },
          "metadata": {
            "needs_background": "light"
          }
        }
      ]
    },
    {
      "cell_type": "markdown",
      "source": [
        "The scatter plot above does not show a correlation between price and rating."
      ],
      "metadata": {
        "id": "j7ie6hWGHFbh"
      }
    },
    {
      "cell_type": "markdown",
      "source": [
        "### 6.8. Distribution of sentiments"
      ],
      "metadata": {
        "id": "cJnFBvob5tFP"
      }
    },
    {
      "cell_type": "code",
      "source": [
        "# Group by relevant columns\n",
        "sentiments_review = df.groupby('ratings_sentiment')['Review'].count()"
      ],
      "metadata": {
        "id": "zpgXL2839Jik"
      },
      "execution_count": 355,
      "outputs": []
    },
    {
      "cell_type": "code",
      "source": [
        "# plot the data\n",
        "ax1 = sentiments_review.plot(kind='bar', figsize=(15,8), color=\"green\", fontsize = 13);\n",
        "ax1.set_alpha(0.8)\n",
        "plt.xticks(rotation = 0, fontsize = 14)\n",
        "plt.yticks(fontsize = 14)\n",
        "ax1.set_title('Distribution of Sentimens by Product Rating', fontsize = 20)\n",
        "ax1.set_ylabel(\"Count of Sentiments\", fontsize = 15);\n",
        "ax1.set_xlabel(\"Sentiments\", fontsize = 15)\n",
        "plt.show();\n"
      ],
      "metadata": {
        "id": "LBA8rV5G9WhA",
        "outputId": "48249abd-1967-42ca-b8a9-ea39dd3b9402",
        "colab": {
          "base_uri": "https://localhost:8080/",
          "height": 527
        }
      },
      "execution_count": 356,
      "outputs": [
        {
          "output_type": "display_data",
          "data": {
            "text/plain": [
              "<Figure size 1080x576 with 1 Axes>"
            ],
            "image/png": "[encoded data removed]"
          },
          "metadata": {
            "needs_background": "light"
          }
        }
      ]
    },
    {
      "cell_type": "markdown",
      "source": [
        "There are more positive reviews in the data. There seems to be an imbalance in the data though."
      ],
      "metadata": {
        "id": "2RchGAh6HvpJ"
      }
    },
    {
      "cell_type": "markdown",
      "source": [
        "# Implementing the Solution"
      ],
      "metadata": {
        "id": "NJ74jj_gILmq"
      }
    },
    {
      "cell_type": "markdown",
      "source": [
        "# 7. Preprocessing\n",
        "\n",
        "- Contractions\n",
        "- Tokenization\n",
        "- Lowercasing our words\n",
        "- Lemmatization/stemming\n",
        "- Vectorization"
      ],
      "metadata": {
        "id": "ltml7Fi0IWtU"
      }
    },
    {
      "cell_type": "markdown",
      "source": [
        "### 7.1. Contraction\n",
        "\n",
        "The first step will be to perform a contraction the reviews, to make sure that our words are expanded, for example, `isn't` would be expanded to `is not`\n",
        "\n"
      ],
      "metadata": {
        "id": "kUjnaFyic7pW"
      }
    },
    {
      "cell_type": "code",
      "source": [
        "# fixing contractions\n",
        "def text_contraction(text):\n",
        "  \n",
        "  # creating an empty list\n",
        "  expanded_words = []\n",
        "\n",
        "  for word in text.split():\n",
        "    # using contractions.fix to expand the shortened words\n",
        "    expanded_words.append(contractions.fix(word))  \n",
        "    \n",
        "  expanded_text = ' '.join(expanded_words)\n",
        "\n",
        "  return expanded_text"
      ],
      "metadata": {
        "id": "qea3BKHBc_xn"
      },
      "execution_count": 357,
      "outputs": []
    },
    {
      "cell_type": "code",
      "source": [
        "# apply the contraction funtion to our reviews\n",
        "\n",
        "df['Review Title'] = df['Review Title'].map(lambda x: text_contraction(x))\n",
        "df['Review'] = df['Review'].map(lambda x: text_contraction(x))"
      ],
      "metadata": {
        "id": "rfKpSVI9dDpY"
      },
      "execution_count": 358,
      "outputs": []
    },
    {
      "cell_type": "markdown",
      "source": [
        "### 7.2. Removing Stopwords\n"
      ],
      "metadata": {
        "id": "zqccvl3TE3gU"
      }
    },
    {
      "cell_type": "code",
      "source": [
        "# # grab the stop words from stopwords.words('english)\n",
        "# #stopwords_list = stopwords.words('english')\n",
        "# #stopwords_list += punctuation\n",
        "# from nltk.corpus import stopwords\n",
        "# stopwords_list = stopwords.words('english') + list(string.punctuation)\n",
        "# stopwords_list += [\"''\", '\"\"', '...', '``']\n",
        "\n",
        "# # remove the stop words\n",
        "# clean_list = [word.lower() for word in tokens if word.lower() not in stopwords_list]\n"
      ],
      "metadata": {
        "id": "YJpAkRfIj9gt"
      },
      "execution_count": 359,
      "outputs": []
    },
    {
      "cell_type": "markdown",
      "source": [
        "### 7.3. Tokenization"
      ],
      "metadata": {
        "id": "PMJZKo0SFEMP"
      }
    },
    {
      "cell_type": "code",
      "source": [
        "# tokenization\n",
        "\n",
        "def tokenize_words(text):\n",
        "  # grab all the punctuations\n",
        "  punctuation = string.punctuation\n",
        "\n",
        "  # lower case our string\n",
        "  # text = str([word.lower() for word in t\n",
        "  # remove the digits\n",
        "  text = re.sub('\\d', '', text)\n",
        "\n",
        "  # cretae our word tokens\n",
        "  tokens = word_tokenize(text)\n",
        "\n",
        "  # grab the stop words from stopwords.words('english)\n",
        "  # stopwords_list = stopwords.words('english')\n",
        "  # stopwords_list += punctuation\n",
        "  # stopwords_list = stopwords.words('english') + list(string.punctuation)\n",
        "  # stopwords_list += [\"''\", '\"\"', '...', '``', '..', '....']\n",
        "  punctuation_list = list(string.punctuation)\n",
        "  punctuation_list += [\"''\", '\"\"', '...', '``', '..', '....']\n",
        "\n",
        "  # remove the stop words\n",
        "  clean_list = [word.lower() for word in tokens if word.lower() not in punctuation_list]\n",
        "  \n",
        "  # return a clean tokenized set\n",
        "  return clean_list"
      ],
      "metadata": {
        "id": "7gEYfwIVdG_u"
      },
      "execution_count": 360,
      "outputs": []
    },
    {
      "cell_type": "code",
      "source": [
        "df['Review'] = df['Review'].map(lambda x: tokenize_words(x))\n",
        "df['Review Title'] = df['Review Title'].map(lambda x: tokenize_words(x))"
      ],
      "metadata": {
        "id": "2K6O6N7jdL66"
      },
      "execution_count": 361,
      "outputs": []
    },
    {
      "cell_type": "markdown",
      "source": [
        "### 7.4. Lematization\n",
        "\n",
        "After tokenization, lemmatization is done to decompose the words to their most basic forms(lemma), but before that, tagging the words is done to ensure that the lemmatization gets the parts of speech represented by the words correctly."
      ],
      "metadata": {
        "id": "Ele5Qsl-dkHq"
      }
    },
    {
      "cell_type": "code",
      "source": [
        "# create a function that takes in the nltk POS tags\n",
        "# and transforms them to wordnet tags\n",
        "def wordnet_pos(word_tag):\n",
        "    '''\n",
        "    Translate nltk POS to wordnet tags\n",
        "    '''\n",
        "    if word_tag.startswith('J'):\n",
        "        return wordnet.ADJ\n",
        "    elif word_tag.startswith('V'):\n",
        "        return wordnet.VERB\n",
        "    elif word_tag.startswith('N'):\n",
        "        return wordnet.NOUN\n",
        "    elif word_tag.startswith('R'):\n",
        "        return wordnet.ADV\n",
        "    else:\n",
        "        return wordnet.NOUN"
      ],
      "metadata": {
        "id": "vsRJArrndPcl"
      },
      "execution_count": 362,
      "outputs": []
    },
    {
      "cell_type": "code",
      "source": [
        "# check to see the part of speech tags for the first review\n",
        "sentence = df[\"Review\"][0]\n",
        "pos_tag(sentence[0:4])"
      ],
      "metadata": {
        "id": "Ettq5ApzdTU9",
        "colab": {
          "base_uri": "https://localhost:8080/"
        },
        "outputId": "27fc4649-9bb3-4e88-d084-7543b9fa784a"
      },
      "execution_count": 363,
      "outputs": [
        {
          "output_type": "execute_result",
          "data": {
            "text/plain": [
              "[('so', 'RB'), ('first', 'RB'), ('off', 'IN'), ('it', 'PRP')]"
            ]
          },
          "metadata": {},
          "execution_count": 363
        }
      ]
    },
    {
      "cell_type": "code",
      "source": [
        "# inastantiate the lemmatizer\n",
        "lemmatizer = WordNetLemmatizer() "
      ],
      "metadata": {
        "id": "0XsCnqSRoFo3"
      },
      "execution_count": 364,
      "outputs": []
    },
    {
      "cell_type": "code",
      "source": [
        "df['Review'][0:2]"
      ],
      "metadata": {
        "id": "b3gxGmt9pe6k",
        "colab": {
          "base_uri": "https://localhost:8080/"
        },
        "outputId": "2dfe621d-3d70-478c-da06-775a0094f568"
      },
      "execution_count": 365,
      "outputs": [
        {
          "output_type": "execute_result",
          "data": {
            "text/plain": [
              "0    [so, first, off, it, is, not, what, i, ordered...\n",
              "2    [new, phone, write, up, indicates, t-mobile, s...\n",
              "Name: Review, dtype: object"
            ]
          },
          "metadata": {},
          "execution_count": 365
        }
      ]
    },
    {
      "cell_type": "code",
      "source": [
        "def word_lemma(text):\n",
        "    '''\n",
        "    Translate the text POS tags to Word net tags then pass it to the lemmatizer\n",
        "    \n",
        "    '''\n",
        "    # get the pos tags for the text\n",
        "    word_pos_tags = pos_tag(text)\n",
        "    \n",
        "    # translate the pos tags to word net tags\n",
        "    word_net_tag = [(text[0], wordnet_pos(text[1])) for text in word_pos_tags]\n",
        "    \n",
        "    # Pass the text with the wordnet tags to the lemmatizer\n",
        "    lemma_word = [lemmatizer.lemmatize(text[0], text[1]) for text in word_net_tag]\n",
        "    \n",
        "    return lemma_word\n",
        "    "
      ],
      "metadata": {
        "id": "_eezVqmqoRG0"
      },
      "execution_count": 366,
      "outputs": []
    },
    {
      "cell_type": "code",
      "source": [
        "# map the word lemma function on the review and review_title column\n",
        "df['Review'] = df['Review'].apply(word_lemma)\n",
        "df['Review Title'] = df['Review Title'].apply(word_lemma)\n",
        "df.head(2)"
      ],
      "metadata": {
        "id": "p7pRFf76oi9r",
        "colab": {
          "base_uri": "https://localhost:8080/",
          "height": 156
        },
        "outputId": "5454c631-7fb0-41f0-a9d7-e63010c1fb02"
      },
      "execution_count": 367,
      "outputs": [
        {
          "output_type": "execute_result",
          "data": {
            "text/plain": [
              "  Model_Type Brand  Price Review Date  Rating  \\\n",
              "0  RCA Reno    RCA     69  2022-02-11       4   \n",
              "2  RCA Reno    RCA     69  2022-06-07       3   \n",
              "\n",
              "                                        Review Title  \\\n",
              "0  [not, what, order, not, new, but, it, work, so...   \n",
              "2             [will, not, work, on, t-mobile, sysem]   \n",
              "\n",
              "                                              Review ratings_sentiment  \n",
              "0  [so, first, off, it, be, not, what, i, order, ...          Positive  \n",
              "2  [new, phone, write, up, indicate, t-mobile, sy...           Neutral  "
            ],
            "text/html": [
              "\n",
              "  <div id=\"df-07709737-ed4b-4497-a4e8-3561bd50dc57\">\n",
              "    <div class=\"colab-df-container\">\n",
              "      <div>\n",
              "<style scoped>\n",
              "    .dataframe tbody tr th:only-of-type {\n",
              "        vertical-align: middle;\n",
              "    }\n",
              "\n",
              "    .dataframe tbody tr th {\n",
              "        vertical-align: top;\n",
              "    }\n",
              "\n",
              "    .dataframe thead th {\n",
              "        text-align: right;\n",
              "    }\n",
              "</style>\n",
              "<table border=\"1\" class=\"dataframe\">\n",
              "  <thead>\n",
              "    <tr style=\"text-align: right;\">\n",
              "      <th></th>\n",
              "      <th>Model_Type</th>\n",
              "      <th>Brand</th>\n",
              "      <th>Price</th>\n",
              "      <th>Review Date</th>\n",
              "      <th>Rating</th>\n",
              "      <th>Review Title</th>\n",
              "      <th>Review</th>\n",
              "      <th>ratings_sentiment</th>\n",
              "    </tr>\n",
              "  </thead>\n",
              "  <tbody>\n",
              "    <tr>\n",
              "      <th>0</th>\n",
              "      <td>RCA Reno</td>\n",
              "      <td>RCA</td>\n",
              "      <td>69</td>\n",
              "      <td>2022-02-11</td>\n",
              "      <td>4</td>\n",
              "      <td>[not, what, order, not, new, but, it, work, so...</td>\n",
              "      <td>[so, first, off, it, be, not, what, i, order, ...</td>\n",
              "      <td>Positive</td>\n",
              "    </tr>\n",
              "    <tr>\n",
              "      <th>2</th>\n",
              "      <td>RCA Reno</td>\n",
              "      <td>RCA</td>\n",
              "      <td>69</td>\n",
              "      <td>2022-06-07</td>\n",
              "      <td>3</td>\n",
              "      <td>[will, not, work, on, t-mobile, sysem]</td>\n",
              "      <td>[new, phone, write, up, indicate, t-mobile, sy...</td>\n",
              "      <td>Neutral</td>\n",
              "    </tr>\n",
              "  </tbody>\n",
              "</table>\n",
              "</div>\n",
              "      <button class=\"colab-df-convert\" onclick=\"convertToInteractive('df-07709737-ed4b-4497-a4e8-3561bd50dc57')\"\n",
              "              title=\"Convert this dataframe to an interactive table.\"\n",
              "              style=\"display:none;\">\n",
              "        \n",
              "  <svg xmlns=\"http://www.w3.org/2000/svg\" height=\"24px\"viewBox=\"0 0 24 24\"\n",
              "       width=\"24px\">\n",
              "    <path d=\"M0 0h24v24H0V0z\" fill=\"none\"/>\n",
              "    <path d=\"M18.56 5.44l.94 2.06.94-2.06 2.06-.94-2.06-.94-.94-2.06-.94 2.06-2.06.94zm-11 1L8.5 8.5l.94-2.06 2.06-.94-2.06-.94L8.5 2.5l-.94 2.06-2.06.94zm10 10l.94 2.06.94-2.06 2.06-.94-2.06-.94-.94-2.06-.94 2.06-2.06.94z\"/><path d=\"M17.41 7.96l-1.37-1.37c-.4-.4-.92-.59-1.43-.59-.52 0-1.04.2-1.43.59L10.3 9.45l-7.72 7.72c-.78.78-.78 2.05 0 2.83L4 21.41c.39.39.9.59 1.41.59.51 0 1.02-.2 1.41-.59l7.78-7.78 2.81-2.81c.8-.78.8-2.07 0-2.86zM5.41 20L4 18.59l7.72-7.72 1.47 1.35L5.41 20z\"/>\n",
              "  </svg>\n",
              "      </button>\n",
              "      \n",
              "  <style>\n",
              "    .colab-df-container {\n",
              "      display:flex;\n",
              "      flex-wrap:wrap;\n",
              "      gap: 12px;\n",
              "    }\n",
              "\n",
              "    .colab-df-convert {\n",
              "      background-color: #E8F0FE;\n",
              "      border: none;\n",
              "      border-radius: 50%;\n",
              "      cursor: pointer;\n",
              "      display: none;\n",
              "      fill: #1967D2;\n",
              "      height: 32px;\n",
              "      padding: 0 0 0 0;\n",
              "      width: 32px;\n",
              "    }\n",
              "\n",
              "    .colab-df-convert:hover {\n",
              "      background-color: #E2EBFA;\n",
              "      box-shadow: 0px 1px 2px rgba(60, 64, 67, 0.3), 0px 1px 3px 1px rgba(60, 64, 67, 0.15);\n",
              "      fill: #174EA6;\n",
              "    }\n",
              "\n",
              "    [theme=dark] .colab-df-convert {\n",
              "      background-color: #3B4455;\n",
              "      fill: #D2E3FC;\n",
              "    }\n",
              "\n",
              "    [theme=dark] .colab-df-convert:hover {\n",
              "      background-color: #434B5C;\n",
              "      box-shadow: 0px 1px 3px 1px rgba(0, 0, 0, 0.15);\n",
              "      filter: drop-shadow(0px 1px 2px rgba(0, 0, 0, 0.3));\n",
              "      fill: #FFFFFF;\n",
              "    }\n",
              "  </style>\n",
              "\n",
              "      <script>\n",
              "        const buttonEl =\n",
              "          document.querySelector('#df-07709737-ed4b-4497-a4e8-3561bd50dc57 button.colab-df-convert');\n",
              "        buttonEl.style.display =\n",
              "          google.colab.kernel.accessAllowed ? 'block' : 'none';\n",
              "\n",
              "        async function convertToInteractive(key) {\n",
              "          const element = document.querySelector('#df-07709737-ed4b-4497-a4e8-3561bd50dc57');\n",
              "          const dataTable =\n",
              "            await google.colab.kernel.invokeFunction('convertToInteractive',\n",
              "                                                     [key], {});\n",
              "          if (!dataTable) return;\n",
              "\n",
              "          const docLinkHtml = 'Like what you see? Visit the ' +\n",
              "            '<a target=\"_blank\" href=https://colab.research.google.com/notebooks/data_table.ipynb>data table notebook</a>'\n",
              "            + ' to learn more about interactive tables.';\n",
              "          element.innerHTML = '';\n",
              "          dataTable['output_type'] = 'display_data';\n",
              "          await google.colab.output.renderOutput(dataTable, element);\n",
              "          const docLink = document.createElement('div');\n",
              "          docLink.innerHTML = docLinkHtml;\n",
              "          element.appendChild(docLink);\n",
              "        }\n",
              "      </script>\n",
              "    </div>\n",
              "  </div>\n",
              "  "
            ]
          },
          "metadata": {},
          "execution_count": 367
        }
      ]
    },
    {
      "cell_type": "markdown",
      "source": [
        "#### Frequency Distribution Plot"
      ],
      "metadata": {
        "id": "ADs8jMyWrFwm"
      }
    },
    {
      "cell_type": "code",
      "source": [
        "# create the frequency distribution plot\n",
        "sample = df['Review']\n",
        "freq1_dist = []\n",
        "\n",
        "for review in sample:\n",
        "    freq1_dist.extend(review)\n",
        "    \n",
        "fdist = FreqDist(freq1_dist)\n",
        "plt.figure(figsize = (15, 10))\n",
        "fdist.plot(50);"
      ],
      "metadata": {
        "id": "sQ71BZ6ZrEsc",
        "colab": {
          "base_uri": "https://localhost:8080/",
          "height": 632
        },
        "outputId": "6c534592-9294-4467-fff3-f554062e07ed"
      },
      "execution_count": 368,
      "outputs": [
        {
          "output_type": "display_data",
          "data": {
            "text/plain": [
              "<Figure size 1080x720 with 1 Axes>"
            ],
            "image/png": "[encoded data removed]"
          },
          "metadata": {
            "needs_background": "light"
          }
        }
      ]
    },
    {
      "cell_type": "code",
      "source": [
        "# display the count of the first 200 texts\n",
        "word_frequency = fdist.most_common(200)\n",
        "word_frequency[:5]"
      ],
      "metadata": {
        "id": "QSWY0n3RuVmn",
        "colab": {
          "base_uri": "https://localhost:8080/"
        },
        "outputId": "dcbdba83-5441-41a9-fe32-253dcb9ebf27"
      },
      "execution_count": 369,
      "outputs": [
        {
          "output_type": "execute_result",
          "data": {
            "text/plain": [
              "[('be', 23242), ('the', 21344), ('i', 15885), ('a', 14548), ('it', 14491)]"
            ]
          },
          "metadata": {},
          "execution_count": 369
        }
      ]
    },
    {
      "cell_type": "code",
      "source": [
        "# convert the list into a string\n",
        "\n",
        "X = df['Review']\n",
        "\n",
        "df[\"Review\"]= X.map(lambda x: ' '.join(map(str, x)))"
      ],
      "metadata": {
        "id": "wwz8YqhPtZCZ"
      },
      "execution_count": 370,
      "outputs": []
    },
    {
      "cell_type": "code",
      "source": [
        "X_1 = df['Review Title']\n",
        "\n",
        "df[\"Review Title\"]= X_1.map(lambda x: ' '.join(map(str, x)))"
      ],
      "metadata": {
        "id": "6u52XBfLL1t3"
      },
      "execution_count": 371,
      "outputs": []
    },
    {
      "cell_type": "markdown",
      "source": [
        "### 7.5. Vectorization\n",
        "\n",
        "The data will be split into train and test data, vectorize it then balance the data."
      ],
      "metadata": {
        "id": "_-DjmBxNIp2S"
      }
    },
    {
      "cell_type": "code",
      "source": [
        "# create a copy of the dataframe\n",
        "dataset_supervised = df.copy()\n",
        "\n",
        "# split the data to X and Y\n",
        "X_supervised = dataset_supervised['Review']\n",
        "y_supervised = dataset_supervised['ratings_sentiment']\n",
        "\n",
        "\n",
        "# split to the train and test set\n",
        "X_train, X_test, y_train, y_test = train_test_split(X_supervised, y_supervised, test_size = .2, random_state=42)\n",
        "\n",
        "# split to the train set to get the validation set\n",
        "X_train, X_val, y_train, y_val = train_test_split(X_train, y_train, test_size = .2, random_state=42)"
      ],
      "metadata": {
        "id": "ZL9FFtZLL3Ui"
      },
      "execution_count": 372,
      "outputs": []
    },
    {
      "cell_type": "code",
      "source": [
        "# instaniate the vectorizer\n",
        "tf_vectorizer = TfidfVectorizer(ngram_range=(1,2), max_df = 3000, min_df=2, max_features= 4000)\n",
        "\n",
        "# fit and transform X_train\n",
        "X_train_tf = tf_vectorizer.fit_transform(X_train)\n",
        "\n",
        "# transform the X_val\n",
        "X_val_tf = tf_vectorizer.transform(X_val)"
      ],
      "metadata": {
        "id": "HoQrntsnQnom"
      },
      "execution_count": 373,
      "outputs": []
    },
    {
      "cell_type": "code",
      "source": [
        "# Check value counts of the train data\n",
        "y_train.value_counts()"
      ],
      "metadata": {
        "id": "z_8DMpYtVJhU",
        "outputId": "dd1eb612-e31a-41cc-e1b5-ce5d93e63562",
        "colab": {
          "base_uri": "https://localhost:8080/"
        }
      },
      "execution_count": 374,
      "outputs": [
        {
          "output_type": "execute_result",
          "data": {
            "text/plain": [
              "Positive    3493\n",
              "Negative    1797\n",
              "Neutral      569\n",
              "Name: ratings_sentiment, dtype: int64"
            ]
          },
          "metadata": {},
          "execution_count": 374
        }
      ]
    },
    {
      "cell_type": "markdown",
      "source": [
        "Based on the output above it's clear that y_train has signs of class imbalances. SMOTE will be used to resample the classes."
      ],
      "metadata": {
        "id": "sdgt5TlEV3uj"
      }
    },
    {
      "cell_type": "code",
      "source": [
        "# oversampling\n",
        "smote = SMOTE(random_state=42)\n",
        "\n",
        "# fit smote on the train dataset\n",
        "X_train_resampled, y_train_resampled = smote.fit_resample(X_train_tf, y_train)"
      ],
      "metadata": {
        "id": "DR91k9AlV067"
      },
      "execution_count": 375,
      "outputs": []
    },
    {
      "cell_type": "code",
      "source": [
        "# load the oversampled class\n",
        "\n",
        "y_train_resampled.value_counts()"
      ],
      "metadata": {
        "id": "vcwOrTEthZrO",
        "outputId": "ca531346-c54b-4fb2-a365-6d90362ed5b7",
        "colab": {
          "base_uri": "https://localhost:8080/"
        }
      },
      "execution_count": 376,
      "outputs": [
        {
          "output_type": "execute_result",
          "data": {
            "text/plain": [
              "Negative    3493\n",
              "Positive    3493\n",
              "Neutral     3493\n",
              "Name: ratings_sentiment, dtype: int64"
            ]
          },
          "metadata": {},
          "execution_count": 376
        }
      ]
    },
    {
      "cell_type": "markdown",
      "source": [
        "# 8. Modeling\n",
        "\n",
        "- Supervised Modelling\n",
        "      * Multinomial naive bayes\n",
        "      * Support vector machine\n",
        "      * XGBoot\n",
        "\n",
        "- Unsupervised Modelling\n",
        "      *  Vader"
      ],
      "metadata": {
        "id": "p1yLMblwzbED"
      }
    },
    {
      "cell_type": "markdown",
      "source": [
        "#### 8.1. Multinomial Naive Bayes Model"
      ],
      "metadata": {
        "id": "5c1Yn-ZkXKus"
      }
    },
    {
      "cell_type": "code",
      "source": [
        "# instantiate the model\n",
        "multinomial_model = MultinomialNB()\n",
        "\n",
        "# fit the multinomial model on the resampled data\n",
        "multinomial_model.fit(X_train_resampled, y_train_resampled)"
      ],
      "metadata": {
        "id": "cKFhwyopXJLb",
        "outputId": "599842ec-ba9a-4f70-b860-0ea4424d6c97",
        "colab": {
          "base_uri": "https://localhost:8080/"
        }
      },
      "execution_count": 377,
      "outputs": [
        {
          "output_type": "execute_result",
          "data": {
            "text/plain": [
              "MultinomialNB()"
            ]
          },
          "metadata": {},
          "execution_count": 377
        }
      ]
    },
    {
      "cell_type": "code",
      "source": [
        "# make predictions\n",
        "\n",
        "y_train_pred_mn = multinomial_model.predict(X_train_resampled)\n",
        "\n",
        "y_val_pred_mn = multinomial_model.predict(X_val_tf)"
      ],
      "metadata": {
        "id": "ktPevYw8lBfu"
      },
      "execution_count": 378,
      "outputs": []
    },
    {
      "cell_type": "code",
      "source": [
        "print(\"Multinomal model train classification report: \")\n",
        "print(classification_report(y_train_resampled, y_train_pred_mn))\n",
        "print()\n",
        "print(\"Multinomal model validation classification report: \")\n",
        "print(classification_report(y_val, y_val_pred_mn))"
      ],
      "metadata": {
        "id": "3ba_RLcili67",
        "outputId": "ba02d817-9839-4af5-e1fe-0acd21fcc861",
        "colab": {
          "base_uri": "https://localhost:8080/"
        }
      },
      "execution_count": 379,
      "outputs": [
        {
          "output_type": "stream",
          "name": "stdout",
          "text": [
            "Multinomal model train classification report: \n",
            "              precision    recall  f1-score   support\n",
            "\n",
            "    Negative       0.82      0.83      0.83      3493\n",
            "     Neutral       0.79      0.84      0.81      3493\n",
            "    Positive       0.88      0.81      0.84      3493\n",
            "\n",
            "    accuracy                           0.83     10479\n",
            "   macro avg       0.83      0.83      0.83     10479\n",
            "weighted avg       0.83      0.83      0.83     10479\n",
            "\n",
            "\n",
            "Multinomal model validation classification report: \n",
            "              precision    recall  f1-score   support\n",
            "\n",
            "    Negative       0.69      0.74      0.71       438\n",
            "     Neutral       0.22      0.42      0.29       135\n",
            "    Positive       0.92      0.76      0.84       892\n",
            "\n",
            "    accuracy                           0.72      1465\n",
            "   macro avg       0.61      0.64      0.61      1465\n",
            "weighted avg       0.79      0.72      0.75      1465\n",
            "\n"
          ]
        }
      ]
    },
    {
      "cell_type": "code",
      "source": [
        "# Calculate the probability scores of each point in the validation set\n",
        "y_val_score_mn = multinomial_model.predict_proba(X_val_tf)\n",
        "\n",
        "# calculate roc-auc score\n",
        "roc_auc_score(y_val, y_val_score_mn, multi_class='ovr', average='weighted')\n"
      ],
      "metadata": {
        "id": "vCDryBgPmmFt",
        "outputId": "6463b200-2eba-42fa-a16f-a690564e2ba0",
        "colab": {
          "base_uri": "https://localhost:8080/"
        }
      },
      "execution_count": 380,
      "outputs": [
        {
          "output_type": "execute_result",
          "data": {
            "text/plain": [
              "0.8922716084162292"
            ]
          },
          "metadata": {},
          "execution_count": 380
        }
      ]
    },
    {
      "cell_type": "markdown",
      "source": [
        "Multinomial naive bayes:\n",
        "- **f1 Score  = 0.75** \n",
        "- **roc_score = 0.89**"
      ],
      "metadata": {
        "id": "LL5CbpNRcBBy"
      }
    },
    {
      "cell_type": "markdown",
      "source": [
        "### 8.2. Support Vector Machine (SVM)"
      ],
      "metadata": {
        "id": "Q93ir4VWzevp"
      }
    },
    {
      "cell_type": "code",
      "source": [
        "#Instantiate the SVM model\n",
        "svm = SVC(decision_function_shape='ovo',probability = True)\n",
        "\n",
        "#Fitting the model\n",
        "svm.fit(X_train_resampled, y_train_resampled)\n"
      ],
      "metadata": {
        "id": "yCuj_I20zec2",
        "colab": {
          "base_uri": "https://localhost:8080/"
        },
        "outputId": "efcf538a-fb9d-46a9-f77a-dc80f3dfca2f"
      },
      "execution_count": 381,
      "outputs": [
        {
          "output_type": "execute_result",
          "data": {
            "text/plain": [
              "SVC(decision_function_shape='ovo', probability=True)"
            ]
          },
          "metadata": {},
          "execution_count": 381
        }
      ]
    },
    {
      "cell_type": "code",
      "source": [
        "# make predictions\n",
        "\n",
        "y_train_pred_svm = svm.predict(X_train_resampled)\n",
        "\n",
        "y_val_pred_svm = svm.predict(X_val_tf)"
      ],
      "metadata": {
        "id": "Rj4_-qvK9Wwi"
      },
      "execution_count": 382,
      "outputs": []
    },
    {
      "cell_type": "code",
      "source": [
        "print(\"SVM model train classification report: \")\n",
        "print(classification_report(y_train_resampled, y_train_pred_svm))\n",
        "print()\n",
        "print(\"SVM model validation classification report: \")\n",
        "print(classification_report(y_val, y_val_pred_svm))"
      ],
      "metadata": {
        "colab": {
          "base_uri": "https://localhost:8080/"
        },
        "id": "LFTDf22y9d3m",
        "outputId": "6265ffd9-0ad5-48b3-c8db-641b1344d39a"
      },
      "execution_count": 383,
      "outputs": [
        {
          "output_type": "stream",
          "name": "stdout",
          "text": [
            "SVM model train classification report: \n",
            "              precision    recall  f1-score   support\n",
            "\n",
            "    Negative       0.93      1.00      0.96      3493\n",
            "     Neutral       0.99      0.93      0.96      3493\n",
            "    Positive       0.99      0.98      0.99      3493\n",
            "\n",
            "    accuracy                           0.97     10479\n",
            "   macro avg       0.97      0.97      0.97     10479\n",
            "weighted avg       0.97      0.97      0.97     10479\n",
            "\n",
            "\n",
            "SVM model validation classification report: \n",
            "              precision    recall  f1-score   support\n",
            "\n",
            "    Negative       0.75      0.80      0.77       438\n",
            "     Neutral       0.59      0.12      0.20       135\n",
            "    Positive       0.84      0.92      0.88       892\n",
            "\n",
            "    accuracy                           0.81      1465\n",
            "   macro avg       0.73      0.61      0.62      1465\n",
            "weighted avg       0.79      0.81      0.78      1465\n",
            "\n"
          ]
        }
      ]
    },
    {
      "cell_type": "code",
      "source": [
        "y_val_score_svm = svm.predict_proba(X_val_tf)\n",
        "\n",
        "# calculate roc-auc score for svm\n",
        "roc_auc_score(y_val, y_val_score_svm, multi_class='ovr', average='weighted')\n"
      ],
      "metadata": {
        "colab": {
          "base_uri": "https://localhost:8080/"
        },
        "id": "eogKLJZKAa2g",
        "outputId": "d0d62dfb-dfe4-41ee-f344-003836ba9c30"
      },
      "execution_count": 384,
      "outputs": [
        {
          "output_type": "execute_result",
          "data": {
            "text/plain": [
              "0.9025494633878588"
            ]
          },
          "metadata": {},
          "execution_count": 384
        }
      ]
    },
    {
      "cell_type": "markdown",
      "source": [
        "SVM:\n",
        "- **f1 score of 0.78**\n",
        "- roc_score of 0.90"
      ],
      "metadata": {
        "id": "QdlXnGdKgLME"
      }
    },
    {
      "cell_type": "markdown",
      "source": [
        "### 8.3. XGB Boost"
      ],
      "metadata": {
        "id": "fF4aM05i9hLH"
      }
    },
    {
      "cell_type": "code",
      "source": [
        "# Instantiating the model\n",
        "xgb_model = xgb.XGBClassifier(objective=\"multi:softprob\", random_state=42)\n",
        "\n",
        "#Fitting the model\n",
        "xgb_model.fit(X_train_resampled, y_train_resampled)\n"
      ],
      "metadata": {
        "colab": {
          "base_uri": "https://localhost:8080/"
        },
        "id": "g9AZsFlD9vyt",
        "outputId": "f9133c44-0598-4483-822a-8728a4f9be00"
      },
      "execution_count": 385,
      "outputs": [
        {
          "output_type": "execute_result",
          "data": {
            "text/plain": [
              "XGBClassifier(objective='multi:softprob', random_state=42)"
            ]
          },
          "metadata": {},
          "execution_count": 385
        }
      ]
    },
    {
      "cell_type": "code",
      "source": [
        "# make predictions\n",
        "\n",
        "y_train_pred_xgb = xgb_model.predict(X_train_resampled)\n",
        "\n",
        "y_val_pred_xgb = xgb_model.predict(X_val_tf)"
      ],
      "metadata": {
        "id": "2UeSc4hQ-ZhR"
      },
      "execution_count": 386,
      "outputs": []
    },
    {
      "cell_type": "code",
      "source": [
        "print(\"XGB model train classification report: \")\n",
        "print(classification_report(y_train_resampled, y_train_pred_xgb))\n",
        "print()\n",
        "print(\"XGB model validation classification report: \")\n",
        "print(classification_report(y_val, y_val_pred_xgb))"
      ],
      "metadata": {
        "colab": {
          "base_uri": "https://localhost:8080/"
        },
        "id": "IdSPBJZn-nvo",
        "outputId": "cec0c1f9-1703-4173-a3fb-928d487903d6"
      },
      "execution_count": 387,
      "outputs": [
        {
          "output_type": "stream",
          "name": "stdout",
          "text": [
            "XGB model train classification report: \n",
            "              precision    recall  f1-score   support\n",
            "\n",
            "    Negative       0.75      0.79      0.77      3493\n",
            "     Neutral       0.87      0.67      0.76      3493\n",
            "    Positive       0.75      0.88      0.81      3493\n",
            "\n",
            "    accuracy                           0.78     10479\n",
            "   macro avg       0.79      0.78      0.78     10479\n",
            "weighted avg       0.79      0.78      0.78     10479\n",
            "\n",
            "\n",
            "XGB model validation classification report: \n",
            "              precision    recall  f1-score   support\n",
            "\n",
            "    Negative       0.69      0.70      0.70       438\n",
            "     Neutral       0.21      0.17      0.19       135\n",
            "    Positive       0.82      0.84      0.83       892\n",
            "\n",
            "    accuracy                           0.73      1465\n",
            "   macro avg       0.57      0.57      0.57      1465\n",
            "weighted avg       0.72      0.73      0.73      1465\n",
            "\n"
          ]
        }
      ]
    },
    {
      "cell_type": "code",
      "source": [
        "y_val_score_xgb = xgb_model.predict_proba(X_val_tf)\n",
        "\n",
        "# calculate roc-auc score for xgb\n",
        "roc_auc_score(y_val, y_val_score_xgb, multi_class='ovr', average='weighted')"
      ],
      "metadata": {
        "colab": {
          "base_uri": "https://localhost:8080/"
        },
        "id": "HgwqwjSQBXjB",
        "outputId": "20ec6341-3d8a-4f7a-f42a-eceaa210894f"
      },
      "execution_count": 388,
      "outputs": [
        {
          "output_type": "execute_result",
          "data": {
            "text/plain": [
              "0.8439199975857415"
            ]
          },
          "metadata": {},
          "execution_count": 388
        }
      ]
    },
    {
      "cell_type": "markdown",
      "source": [
        "XGBoost:\n",
        "- **f1 score of 0.73**\n",
        "- **roc_score of 0.84**"
      ],
      "metadata": {
        "id": "kPQmUkLugaZP"
      }
    },
    {
      "cell_type": "markdown",
      "source": [
        "###  8.4. Vader Model"
      ],
      "metadata": {
        "id": "9MpdF_s9JvJ6"
      }
    },
    {
      "cell_type": "code",
      "source": [
        "# Exploring vader as a model for sentiment analysis\n",
        "\n",
        "analyzer = SentimentIntensityAnalyzer()"
      ],
      "metadata": {
        "id": "8FqTVqv5Jxms"
      },
      "execution_count": 299,
      "outputs": []
    },
    {
      "cell_type": "code",
      "source": [
        "#Splitting the data into X and y\n",
        "y = df['ratings_sentiment']\n",
        "X = df.drop('ratings_sentiment', axis=1)"
      ],
      "metadata": {
        "id": "oq2F_Qbkiy94"
      },
      "execution_count": 300,
      "outputs": []
    },
    {
      "cell_type": "code",
      "source": [
        "#Classifying the the reviews using vader\n",
        "\n",
        "X[\"scores\"] = X[\"Review\"].apply(lambda review : analyzer.polarity_scores(review))\n",
        "X[\"compound\"] = X[\"scores\"].apply(lambda score_dict :score_dict[\"compound\"])\n",
        "X[\"vader_label\"] = X[\"compound\"].apply(lambda c : \"Positive\" if c >= 0.05 else \"Negative\" if c <= -0.05 else \"Neutral\")"
      ],
      "metadata": {
        "id": "DZh0Ygv8ifLm"
      },
      "execution_count": 301,
      "outputs": []
    },
    {
      "cell_type": "code",
      "source": [
        "# plotting distribution of sentiment scores\n",
        "X[\"vader_label\"].value_counts().plot(kind=\"bar\", color = 'green', figsize=(15, 8))\n",
        "plt.xlabel(\"Sentiment Label\", fontsize=20)\n",
        "plt.xticks(rotation = 0,fontsize = 14)\n",
        "plt.yticks(fontsize = 14)\n",
        "plt.ylabel(\"Count\", fontsize=20)\n",
        "plt.title(\"Distribution of Sentiment Scores\", fontsize=20);"
      ],
      "metadata": {
        "id": "GPb6wyKnPoBQ",
        "colab": {
          "base_uri": "https://localhost:8080/",
          "height": 531
        },
        "outputId": "ca8735e0-a0a5-4f3d-d79d-4570118d9971"
      },
      "execution_count": 303,
      "outputs": [
        {
          "output_type": "display_data",
          "data": {
            "text/plain": [
              "<Figure size 1080x576 with 1 Axes>"
            ],
            "image/png": "[encoded data removed]"
          },
          "metadata": {
            "needs_background": "light"
          }
        }
      ]
    },
    {
      "cell_type": "code",
      "source": [
        "print(classification_report(y, X['vader_label']))"
      ],
      "metadata": {
        "id": "vF1CQfDA5EpO",
        "colab": {
          "base_uri": "https://localhost:8080/"
        },
        "outputId": "2061a561-126f-4ffd-a5a5-1f3d7aa16a7a"
      },
      "execution_count": 304,
      "outputs": [
        {
          "output_type": "stream",
          "name": "stdout",
          "text": [
            "              precision    recall  f1-score   support\n",
            "\n",
            "    Negative       0.65      0.51      0.57      2806\n",
            "     Neutral       0.10      0.13      0.11       883\n",
            "    Positive       0.78      0.82      0.80      5467\n",
            "\n",
            "    accuracy                           0.66      9156\n",
            "   macro avg       0.51      0.49      0.49      9156\n",
            "weighted avg       0.67      0.66      0.66      9156\n",
            "\n"
          ]
        }
      ]
    },
    {
      "cell_type": "markdown",
      "source": [
        "The vader model:\n",
        "- **f1 score = 0.66**"
      ],
      "metadata": {
        "id": "wlXL0-kKG1pM"
      }
    },
    {
      "cell_type": "markdown",
      "source": [
        "# 9. Challenging the Solution"
      ],
      "metadata": {
        "id": "NNI_Gxc2nvBB"
      }
    },
    {
      "cell_type": "markdown",
      "source": [
        "### 9.1. Roberta Model: Neural Network Model"
      ],
      "metadata": {
        "id": "nFtiGA6qjdWm"
      }
    },
    {
      "cell_type": "code",
      "source": [
        "# # transfer learning on a pretrained model\n",
        "# # finding pretrained weights to use in the model\n",
        "MODEL = f\"cardiffnlp/twitter-roberta-base-sentiment\"\n",
        "tokenizer = AutoTokenizer.from_pretrained(MODEL)\n",
        "model = AutoModelForSequenceClassification.from_pretrained(MODEL)"
      ],
      "metadata": {
        "id": "GTg4YLo6mPN_",
        "colab": {
          "base_uri": "https://localhost:8080/",
          "height": 177,
          "referenced_widgets": [
            "62e17d0a6ebe418cb1cd96590c92e5ea",
            "a1ee257ec9004093bf95bbe09e18b902",
            "1e755049546b44de82294c44443902a5",
            "52b65175e1104a00bc717650ecea81a8",
            "5d1f2da9182b45c6891cd8e2377f84d0",
            "88c8bb15db774be6b386825e759b2325",
            "f5c6b055af584364a08052b4012e75df",
            "b80a9041e59643df9d961f650287fa0b",
            "ee67df830b5c4ea5b54c4a3606f470a0",
            "2ee46afb21f04b06b3b0d8191ef6eafe",
            "4eba1e0895d24beebf6913ab5b5e6673",
            "9aab07f770af410abeb16448c42ac751",
            "d05439d62c294287a960b62c04af0866",
            "5f988c4333e744e39ba449ad397efc61",
            "7abc8962392945bbb1c423bb5fc7d093",
            "3606b4a14de241f48b71072eb128863f",
            "4f79ad6d8fe44a1cbb5218ff5ca69bc3",
            "0fdd35e16f9a4e1caeee99f8f463def0",
            "06b1b0b33fb04d16aeaf04a3eff29dd7",
            "70cb0253f7d5482f9e754c3e5ef19b31",
            "01a68a2bd79e4704bad0e629bb30e0a1",
            "77163fcfec1642a1b4ad3df36259aa58",
            "ea9d3098630a4c939184e3a9e42f9d05",
            "1b58a1bb30aa434bbd41dfde662d2b5e",
            "1153c3afbe284c3a9e3450daf85a25fa",
            "c671fe29c0bb4f45b7a4260c52e5dc3d",
            "30ae0fa2f80d4e978a87621abb4fba30",
            "a6f02562c7244c34b6d0757116e0e469",
            "a79774b8ce6c4b28aee971b5b6b45d3a",
            "4766fff6475c48f88607fbb4a63ba975",
            "58e1737013fa44d0a9cc89eba27f91c0",
            "095f3e7139a742778099788ecb7b3252",
            "f40c8c1f5b694d3a858121b83edd3ae7",
            "d541f5c3e1bf4776b36c9329abf43d3e",
            "e13368665a2d4329a61b17c57e68c829",
            "15f0a63e717f44afaa0f5cdf03b9c6ad",
            "61fd36c255624cfab8fc352dc70b9c92",
            "0f521c86e21f4cfb9b4cd3a3ae15be91",
            "4cbf165037824824a9159f45c758fbb1",
            "ebd48db7ed2045d9a3fa1293b8804aca",
            "2d8c5b85504541c1954ff2ceea3de3f4",
            "be4c8a0d8b39412f84c4952cc9e5ea58",
            "02120b111b35463cb1c5c238ffb9564c",
            "14f38cc0c8824aeca50ab6056eb58bfd",
            "7c987370be1445bab4a1ca70dd49a13e",
            "787f1058da80432ba38179e2334384d1",
            "4a2a9e89e5d64d4aa00ba400968366cc",
            "315d795814704b4abba5702339387c89",
            "b73eab65239e430ea8efc18b2d424f31",
            "d7f83b620f1840b0ada3f7dd8e4c4426",
            "32cde0a4c4bf4103b2a4b76fb44d1a58",
            "686e95324ad54a27b8e7ba343bac17fe",
            "e2d8823c260a45b9b57129bbd42db0b2",
            "4964f49fa8a64e5d9a0afaf3932e0ec7",
            "5be16b6df9934eb799c22a2723d98628"
          ]
        },
        "outputId": "32540ae0-c718-42b9-cf1f-968981ddf012"
      },
      "execution_count": 205,
      "outputs": [
        {
          "output_type": "display_data",
          "data": {
            "text/plain": [
              "Downloading:   0%|          | 0.00/747 [00:00<?, ?B/s]"
            ],
            "application/vnd.jupyter.widget-view+json": {
              "version_major": 2,
              "version_minor": 0,
              "model_id": "62e17d0a6ebe418cb1cd96590c92e5ea"
            }
          },
          "metadata": {}
        },
        {
          "output_type": "display_data",
          "data": {
            "text/plain": [
              "Downloading:   0%|          | 0.00/899k [00:00<?, ?B/s]"
            ],
            "application/vnd.jupyter.widget-view+json": {
              "version_major": 2,
              "version_minor": 0,
              "model_id": "9aab07f770af410abeb16448c42ac751"
            }
          },
          "metadata": {}
        },
        {
          "output_type": "display_data",
          "data": {
            "text/plain": [
              "Downloading:   0%|          | 0.00/456k [00:00<?, ?B/s]"
            ],
            "application/vnd.jupyter.widget-view+json": {
              "version_major": 2,
              "version_minor": 0,
              "model_id": "ea9d3098630a4c939184e3a9e42f9d05"
            }
          },
          "metadata": {}
        },
        {
          "output_type": "display_data",
          "data": {
            "text/plain": [
              "Downloading:   0%|          | 0.00/150 [00:00<?, ?B/s]"
            ],
            "application/vnd.jupyter.widget-view+json": {
              "version_major": 2,
              "version_minor": 0,
              "model_id": "d541f5c3e1bf4776b36c9329abf43d3e"
            }
          },
          "metadata": {}
        },
        {
          "output_type": "display_data",
          "data": {
            "text/plain": [
              "Downloading:   0%|          | 0.00/499M [00:00<?, ?B/s]"
            ],
            "application/vnd.jupyter.widget-view+json": {
              "version_major": 2,
              "version_minor": 0,
              "model_id": "7c987370be1445bab4a1ca70dd49a13e"
            }
          },
          "metadata": {}
        }
      ]
    },
    {
      "cell_type": "code",
      "source": [
        "data[\"id\"] = data.index + 1\n",
        "data = data.reindex(columns=['id', 'Model_Type', 'Brand', 'Price', 'Review Date', \n",
        "                         'Rating', 'Review Title', 'Review', 'ratings_sentiment'])\n",
        "data.head(3)"
      ],
      "metadata": {
        "id": "2FFs9AcD-K_T",
        "colab": {
          "base_uri": "https://localhost:8080/",
          "height": 239
        },
        "outputId": "5ebb594e-cb8b-48fb-a005-9e567d1ed3e6"
      },
      "execution_count": 206,
      "outputs": [
        {
          "output_type": "execute_result",
          "data": {
            "text/plain": [
              "   id Model_Type Brand  Price Review Date  Rating  \\\n",
              "0   1  RCA Reno    RCA     69  2022-02-11       4   \n",
              "2   3  RCA Reno    RCA     69  2022-06-07       3   \n",
              "3   4  RCA Reno    RCA     69  2022-04-14       3   \n",
              "\n",
              "                                        Review Title  \\\n",
              "0  .. not what ordered, not New... but it works s...   \n",
              "2                   Will not work on T-Mobile sysem!   \n",
              "3                              A burner or for a kid   \n",
              "\n",
              "                                              Review ratings_sentiment  \n",
              "0  So first off...it's not what I ordered, but I ...          Positive  \n",
              "2  New phone write up indicates T-Mobile system c...           Neutral  \n",
              "3  I use this as a burner w/o a sim card in it. J...           Neutral  "
            ],
            "text/html": [
              "\n",
              "  <div id=\"df-20aac30c-093d-482b-b595-6cda8e94037d\">\n",
              "    <div class=\"colab-df-container\">\n",
              "      <div>\n",
              "<style scoped>\n",
              "    .dataframe tbody tr th:only-of-type {\n",
              "        vertical-align: middle;\n",
              "    }\n",
              "\n",
              "    .dataframe tbody tr th {\n",
              "        vertical-align: top;\n",
              "    }\n",
              "\n",
              "    .dataframe thead th {\n",
              "        text-align: right;\n",
              "    }\n",
              "</style>\n",
              "<table border=\"1\" class=\"dataframe\">\n",
              "  <thead>\n",
              "    <tr style=\"text-align: right;\">\n",
              "      <th></th>\n",
              "      <th>id</th>\n",
              "      <th>Model_Type</th>\n",
              "      <th>Brand</th>\n",
              "      <th>Price</th>\n",
              "      <th>Review Date</th>\n",
              "      <th>Rating</th>\n",
              "      <th>Review Title</th>\n",
              "      <th>Review</th>\n",
              "      <th>ratings_sentiment</th>\n",
              "    </tr>\n",
              "  </thead>\n",
              "  <tbody>\n",
              "    <tr>\n",
              "      <th>0</th>\n",
              "      <td>1</td>\n",
              "      <td>RCA Reno</td>\n",
              "      <td>RCA</td>\n",
              "      <td>69</td>\n",
              "      <td>2022-02-11</td>\n",
              "      <td>4</td>\n",
              "      <td>.. not what ordered, not New... but it works s...</td>\n",
              "      <td>So first off...it's not what I ordered, but I ...</td>\n",
              "      <td>Positive</td>\n",
              "    </tr>\n",
              "    <tr>\n",
              "      <th>2</th>\n",
              "      <td>3</td>\n",
              "      <td>RCA Reno</td>\n",
              "      <td>RCA</td>\n",
              "      <td>69</td>\n",
              "      <td>2022-06-07</td>\n",
              "      <td>3</td>\n",
              "      <td>Will not work on T-Mobile sysem!</td>\n",
              "      <td>New phone write up indicates T-Mobile system c...</td>\n",
              "      <td>Neutral</td>\n",
              "    </tr>\n",
              "    <tr>\n",
              "      <th>3</th>\n",
              "      <td>4</td>\n",
              "      <td>RCA Reno</td>\n",
              "      <td>RCA</td>\n",
              "      <td>69</td>\n",
              "      <td>2022-04-14</td>\n",
              "      <td>3</td>\n",
              "      <td>A burner or for a kid</td>\n",
              "      <td>I use this as a burner w/o a sim card in it. J...</td>\n",
              "      <td>Neutral</td>\n",
              "    </tr>\n",
              "  </tbody>\n",
              "</table>\n",
              "</div>\n",
              "      <button class=\"colab-df-convert\" onclick=\"convertToInteractive('df-20aac30c-093d-482b-b595-6cda8e94037d')\"\n",
              "              title=\"Convert this dataframe to an interactive table.\"\n",
              "              style=\"display:none;\">\n",
              "        \n",
              "  <svg xmlns=\"http://www.w3.org/2000/svg\" height=\"24px\"viewBox=\"0 0 24 24\"\n",
              "       width=\"24px\">\n",
              "    <path d=\"M0 0h24v24H0V0z\" fill=\"none\"/>\n",
              "    <path d=\"M18.56 5.44l.94 2.06.94-2.06 2.06-.94-2.06-.94-.94-2.06-.94 2.06-2.06.94zm-11 1L8.5 8.5l.94-2.06 2.06-.94-2.06-.94L8.5 2.5l-.94 2.06-2.06.94zm10 10l.94 2.06.94-2.06 2.06-.94-2.06-.94-.94-2.06-.94 2.06-2.06.94z\"/><path d=\"M17.41 7.96l-1.37-1.37c-.4-.4-.92-.59-1.43-.59-.52 0-1.04.2-1.43.59L10.3 9.45l-7.72 7.72c-.78.78-.78 2.05 0 2.83L4 21.41c.39.39.9.59 1.41.59.51 0 1.02-.2 1.41-.59l7.78-7.78 2.81-2.81c.8-.78.8-2.07 0-2.86zM5.41 20L4 18.59l7.72-7.72 1.47 1.35L5.41 20z\"/>\n",
              "  </svg>\n",
              "      </button>\n",
              "      \n",
              "  <style>\n",
              "    .colab-df-container {\n",
              "      display:flex;\n",
              "      flex-wrap:wrap;\n",
              "      gap: 12px;\n",
              "    }\n",
              "\n",
              "    .colab-df-convert {\n",
              "      background-color: #E8F0FE;\n",
              "      border: none;\n",
              "      border-radius: 50%;\n",
              "      cursor: pointer;\n",
              "      display: none;\n",
              "      fill: #1967D2;\n",
              "      height: 32px;\n",
              "      padding: 0 0 0 0;\n",
              "      width: 32px;\n",
              "    }\n",
              "\n",
              "    .colab-df-convert:hover {\n",
              "      background-color: #E2EBFA;\n",
              "      box-shadow: 0px 1px 2px rgba(60, 64, 67, 0.3), 0px 1px 3px 1px rgba(60, 64, 67, 0.15);\n",
              "      fill: #174EA6;\n",
              "    }\n",
              "\n",
              "    [theme=dark] .colab-df-convert {\n",
              "      background-color: #3B4455;\n",
              "      fill: #D2E3FC;\n",
              "    }\n",
              "\n",
              "    [theme=dark] .colab-df-convert:hover {\n",
              "      background-color: #434B5C;\n",
              "      box-shadow: 0px 1px 3px 1px rgba(0, 0, 0, 0.15);\n",
              "      filter: drop-shadow(0px 1px 2px rgba(0, 0, 0, 0.3));\n",
              "      fill: #FFFFFF;\n",
              "    }\n",
              "  </style>\n",
              "\n",
              "      <script>\n",
              "        const buttonEl =\n",
              "          document.querySelector('#df-20aac30c-093d-482b-b595-6cda8e94037d button.colab-df-convert');\n",
              "        buttonEl.style.display =\n",
              "          google.colab.kernel.accessAllowed ? 'block' : 'none';\n",
              "\n",
              "        async function convertToInteractive(key) {\n",
              "          const element = document.querySelector('#df-20aac30c-093d-482b-b595-6cda8e94037d');\n",
              "          const dataTable =\n",
              "            await google.colab.kernel.invokeFunction('convertToInteractive',\n",
              "                                                     [key], {});\n",
              "          if (!dataTable) return;\n",
              "\n",
              "          const docLinkHtml = 'Like what you see? Visit the ' +\n",
              "            '<a target=\"_blank\" href=https://colab.research.google.com/notebooks/data_table.ipynb>data table notebook</a>'\n",
              "            + ' to learn more about interactive tables.';\n",
              "          element.innerHTML = '';\n",
              "          dataTable['output_type'] = 'display_data';\n",
              "          await google.colab.output.renderOutput(dataTable, element);\n",
              "          const docLink = document.createElement('div');\n",
              "          docLink.innerHTML = docLinkHtml;\n",
              "          element.appendChild(docLink);\n",
              "        }\n",
              "      </script>\n",
              "    </div>\n",
              "  </div>\n",
              "  "
            ]
          },
          "metadata": {},
          "execution_count": 206
        }
      ]
    },
    {
      "cell_type": "code",
      "source": [
        "def polarity_scores_roberta(words):\n",
        "  encoded_text = tokenizer(words, return_tensors=\"pt\")\n",
        "  output = model(**encoded_text)\n",
        "  scores = output [0][0].detach().numpy()\n",
        "  scores = softmax(scores)\n",
        "  scores_dict ={\n",
        "      \"roberta_neg\": scores[0],\n",
        "      \"roberta_neu\" : scores[1],\n",
        "      \"roberta_pos\" : scores [2]\n",
        "  }\n",
        "  return scores_dict\n"
      ],
      "metadata": {
        "id": "jkq42r1xmqj8"
      },
      "execution_count": null,
      "outputs": []
    },
    {
      "cell_type": "code",
      "source": [
        "res = {}\n",
        "for i, row in tqdm(data.iterrows(), total=len(data)):\n",
        "  try:\n",
        "    text = row[\"Review\"]\n",
        "    id = row[\"id\"]\n",
        "    roberta_results = polarity_scores_roberta(text)\n",
        "  except RuntimeError:\n",
        "    print(f'Broke for id {id}')"
      ],
      "metadata": {
        "id": "POAWUClHpgJ8",
        "colab": {
          "base_uri": "https://localhost:8080/",
          "height": 534,
          "referenced_widgets": [
            "8da5ecccc374444795eefaaaeb32454f",
            "eba75100a960478dab2efff6f046da3d",
            "a1a8d0dab5264b00be0fff59f33243c5",
            "331f5354dfef497185f1947db129edf9",
            "240c39bc67a24d8a9e9159a8fb534ad7",
            "0c2eed056c2b4d3c9ecef4f9e8638e07",
            "89488efeebfb4a5aa9adef4e7dc570be",
            "35f659efb70f446c8ed53c9553dedaf2",
            "cf0f68951acf44a2b481e74ad35a638e",
            "88bd36d6fcb64de4be2489243b0b6cbe",
            "dbb27b92a6d84c68b29c0f0bbb9d7aec"
          ]
        },
        "outputId": "3ddc50b7-b0fd-471b-8ef4-7e9dd6bfc505"
      },
      "execution_count": null,
      "outputs": [
        {
          "output_type": "display_data",
          "data": {
            "text/plain": [
              "  0%|          | 0/9156 [00:00<?, ?it/s]"
            ],
            "application/vnd.jupyter.widget-view+json": {
              "version_major": 2,
              "version_minor": 0,
              "model_id": "8da5ecccc374444795eefaaaeb32454f"
            }
          },
          "metadata": {}
        },
        {
          "output_type": "stream",
          "name": "stdout",
          "text": [
            "Broke for id 1\n",
            "Broke for id 76\n",
            "Broke for id 87\n",
            "Broke for id 547\n",
            "Broke for id 1938\n",
            "Broke for id 2374\n",
            "Broke for id 2552\n"
          ]
        },
        {
          "output_type": "error",
          "ename": "KeyboardInterrupt",
          "evalue": "ignored",
          "traceback": [
            "\u001b[0;31m---------------------------------------------------------------------------\u001b[0m",
            "\u001b[0;31mKeyboardInterrupt\u001b[0m                         Traceback (most recent call last)",
            "\u001b[0;32m<ipython-input-363-48ed21190ed0>\u001b[0m in \u001b[0;36m<module>\u001b[0;34m\u001b[0m\n\u001b[1;32m      4\u001b[0m     \u001b[0mtext\u001b[0m \u001b[0;34m=\u001b[0m \u001b[0mrow\u001b[0m\u001b[0;34m[\u001b[0m\u001b[0;34m\"Review\"\u001b[0m\u001b[0;34m]\u001b[0m\u001b[0;34m\u001b[0m\u001b[0;34m\u001b[0m\u001b[0m\n\u001b[1;32m      5\u001b[0m     \u001b[0mid\u001b[0m \u001b[0;34m=\u001b[0m \u001b[0mrow\u001b[0m\u001b[0;34m[\u001b[0m\u001b[0;34m\"id\"\u001b[0m\u001b[0;34m]\u001b[0m\u001b[0;34m\u001b[0m\u001b[0;34m\u001b[0m\u001b[0m\n\u001b[0;32m----> 6\u001b[0;31m     \u001b[0mroberta_results\u001b[0m \u001b[0;34m=\u001b[0m \u001b[0mpolarity_scores_roberta\u001b[0m\u001b[0;34m(\u001b[0m\u001b[0mtext\u001b[0m\u001b[0;34m)\u001b[0m\u001b[0;34m\u001b[0m\u001b[0;34m\u001b[0m\u001b[0m\n\u001b[0m\u001b[1;32m      7\u001b[0m   \u001b[0;32mexcept\u001b[0m \u001b[0mRuntimeError\u001b[0m\u001b[0;34m:\u001b[0m\u001b[0;34m\u001b[0m\u001b[0;34m\u001b[0m\u001b[0m\n\u001b[1;32m      8\u001b[0m     \u001b[0mprint\u001b[0m\u001b[0;34m(\u001b[0m\u001b[0;34mf'Broke for id {id}'\u001b[0m\u001b[0;34m)\u001b[0m\u001b[0;34m\u001b[0m\u001b[0;34m\u001b[0m\u001b[0m\n",
            "\u001b[0;32m<ipython-input-362-ad25ff17187c>\u001b[0m in \u001b[0;36mpolarity_scores_roberta\u001b[0;34m(words)\u001b[0m\n\u001b[1;32m      1\u001b[0m \u001b[0;32mdef\u001b[0m \u001b[0mpolarity_scores_roberta\u001b[0m\u001b[0;34m(\u001b[0m\u001b[0mwords\u001b[0m\u001b[0;34m)\u001b[0m\u001b[0;34m:\u001b[0m\u001b[0;34m\u001b[0m\u001b[0;34m\u001b[0m\u001b[0m\n\u001b[1;32m      2\u001b[0m   \u001b[0mencoded_text\u001b[0m \u001b[0;34m=\u001b[0m \u001b[0mtokenizer\u001b[0m\u001b[0;34m(\u001b[0m\u001b[0mwords\u001b[0m\u001b[0;34m,\u001b[0m \u001b[0mreturn_tensors\u001b[0m\u001b[0;34m=\u001b[0m\u001b[0;34m\"pt\"\u001b[0m\u001b[0;34m)\u001b[0m\u001b[0;34m\u001b[0m\u001b[0;34m\u001b[0m\u001b[0m\n\u001b[0;32m----> 3\u001b[0;31m   \u001b[0moutput\u001b[0m \u001b[0;34m=\u001b[0m \u001b[0mmodel\u001b[0m\u001b[0;34m(\u001b[0m\u001b[0;34m**\u001b[0m\u001b[0mencoded_text\u001b[0m\u001b[0;34m)\u001b[0m\u001b[0;34m\u001b[0m\u001b[0;34m\u001b[0m\u001b[0m\n\u001b[0m\u001b[1;32m      4\u001b[0m   \u001b[0mscores\u001b[0m \u001b[0;34m=\u001b[0m \u001b[0moutput\u001b[0m \u001b[0;34m[\u001b[0m\u001b[0;36m0\u001b[0m\u001b[0;34m]\u001b[0m\u001b[0;34m[\u001b[0m\u001b[0;36m0\u001b[0m\u001b[0;34m]\u001b[0m\u001b[0;34m.\u001b[0m\u001b[0mdetach\u001b[0m\u001b[0;34m(\u001b[0m\u001b[0;34m)\u001b[0m\u001b[0;34m.\u001b[0m\u001b[0mnumpy\u001b[0m\u001b[0;34m(\u001b[0m\u001b[0;34m)\u001b[0m\u001b[0;34m\u001b[0m\u001b[0;34m\u001b[0m\u001b[0m\n\u001b[1;32m      5\u001b[0m   \u001b[0mscores\u001b[0m \u001b[0;34m=\u001b[0m \u001b[0msoftmax\u001b[0m\u001b[0;34m(\u001b[0m\u001b[0mscores\u001b[0m\u001b[0;34m)\u001b[0m\u001b[0;34m\u001b[0m\u001b[0;34m\u001b[0m\u001b[0m\n",
            "\u001b[0;32m/usr/local/lib/python3.7/dist-packages/torch/nn/modules/module.py\u001b[0m in \u001b[0;36m_call_impl\u001b[0;34m(self, *input, **kwargs)\u001b[0m\n\u001b[1;32m   1128\u001b[0m         if not (self._backward_hooks or self._forward_hooks or self._forward_pre_hooks or _global_backward_hooks\n\u001b[1;32m   1129\u001b[0m                 or _global_forward_hooks or _global_forward_pre_hooks):\n\u001b[0;32m-> 1130\u001b[0;31m             \u001b[0;32mreturn\u001b[0m \u001b[0mforward_call\u001b[0m\u001b[0;34m(\u001b[0m\u001b[0;34m*\u001b[0m\u001b[0minput\u001b[0m\u001b[0;34m,\u001b[0m \u001b[0;34m**\u001b[0m\u001b[0mkwargs\u001b[0m\u001b[0;34m)\u001b[0m\u001b[0;34m\u001b[0m\u001b[0;34m\u001b[0m\u001b[0m\n\u001b[0m\u001b[1;32m   1131\u001b[0m         \u001b[0;31m# Do not call functions when jit is used\u001b[0m\u001b[0;34m\u001b[0m\u001b[0;34m\u001b[0m\u001b[0;34m\u001b[0m\u001b[0m\n\u001b[1;32m   1132\u001b[0m         \u001b[0mfull_backward_hooks\u001b[0m\u001b[0;34m,\u001b[0m \u001b[0mnon_full_backward_hooks\u001b[0m \u001b[0;34m=\u001b[0m \u001b[0;34m[\u001b[0m\u001b[0;34m]\u001b[0m\u001b[0;34m,\u001b[0m \u001b[0;34m[\u001b[0m\u001b[0;34m]\u001b[0m\u001b[0;34m\u001b[0m\u001b[0;34m\u001b[0m\u001b[0m\n",
            "\u001b[0;32m/usr/local/lib/python3.7/dist-packages/transformers/models/roberta/modeling_roberta.py\u001b[0m in \u001b[0;36mforward\u001b[0;34m(self, input_ids, attention_mask, token_type_ids, position_ids, head_mask, inputs_embeds, labels, output_attentions, output_hidden_states, return_dict)\u001b[0m\n\u001b[1;32m   1217\u001b[0m             \u001b[0moutput_attentions\u001b[0m\u001b[0;34m=\u001b[0m\u001b[0moutput_attentions\u001b[0m\u001b[0;34m,\u001b[0m\u001b[0;34m\u001b[0m\u001b[0;34m\u001b[0m\u001b[0m\n\u001b[1;32m   1218\u001b[0m             \u001b[0moutput_hidden_states\u001b[0m\u001b[0;34m=\u001b[0m\u001b[0moutput_hidden_states\u001b[0m\u001b[0;34m,\u001b[0m\u001b[0;34m\u001b[0m\u001b[0;34m\u001b[0m\u001b[0m\n\u001b[0;32m-> 1219\u001b[0;31m             \u001b[0mreturn_dict\u001b[0m\u001b[0;34m=\u001b[0m\u001b[0mreturn_dict\u001b[0m\u001b[0;34m,\u001b[0m\u001b[0;34m\u001b[0m\u001b[0;34m\u001b[0m\u001b[0m\n\u001b[0m\u001b[1;32m   1220\u001b[0m         )\n\u001b[1;32m   1221\u001b[0m         \u001b[0msequence_output\u001b[0m \u001b[0;34m=\u001b[0m \u001b[0moutputs\u001b[0m\u001b[0;34m[\u001b[0m\u001b[0;36m0\u001b[0m\u001b[0;34m]\u001b[0m\u001b[0;34m\u001b[0m\u001b[0;34m\u001b[0m\u001b[0m\n",
            "\u001b[0;32m/usr/local/lib/python3.7/dist-packages/torch/nn/modules/module.py\u001b[0m in \u001b[0;36m_call_impl\u001b[0;34m(self, *input, **kwargs)\u001b[0m\n\u001b[1;32m   1128\u001b[0m         if not (self._backward_hooks or self._forward_hooks or self._forward_pre_hooks or _global_backward_hooks\n\u001b[1;32m   1129\u001b[0m                 or _global_forward_hooks or _global_forward_pre_hooks):\n\u001b[0;32m-> 1130\u001b[0;31m             \u001b[0;32mreturn\u001b[0m \u001b[0mforward_call\u001b[0m\u001b[0;34m(\u001b[0m\u001b[0;34m*\u001b[0m\u001b[0minput\u001b[0m\u001b[0;34m,\u001b[0m \u001b[0;34m**\u001b[0m\u001b[0mkwargs\u001b[0m\u001b[0;34m)\u001b[0m\u001b[0;34m\u001b[0m\u001b[0;34m\u001b[0m\u001b[0m\n\u001b[0m\u001b[1;32m   1131\u001b[0m         \u001b[0;31m# Do not call functions when jit is used\u001b[0m\u001b[0;34m\u001b[0m\u001b[0;34m\u001b[0m\u001b[0;34m\u001b[0m\u001b[0m\n\u001b[1;32m   1132\u001b[0m         \u001b[0mfull_backward_hooks\u001b[0m\u001b[0;34m,\u001b[0m \u001b[0mnon_full_backward_hooks\u001b[0m \u001b[0;34m=\u001b[0m \u001b[0;34m[\u001b[0m\u001b[0;34m]\u001b[0m\u001b[0;34m,\u001b[0m \u001b[0;34m[\u001b[0m\u001b[0;34m]\u001b[0m\u001b[0;34m\u001b[0m\u001b[0;34m\u001b[0m\u001b[0m\n",
            "\u001b[0;32m/usr/local/lib/python3.7/dist-packages/transformers/models/roberta/modeling_roberta.py\u001b[0m in \u001b[0;36mforward\u001b[0;34m(self, input_ids, attention_mask, token_type_ids, position_ids, head_mask, inputs_embeds, encoder_hidden_states, encoder_attention_mask, past_key_values, use_cache, output_attentions, output_hidden_states, return_dict)\u001b[0m\n\u001b[1;32m    860\u001b[0m             \u001b[0moutput_attentions\u001b[0m\u001b[0;34m=\u001b[0m\u001b[0moutput_attentions\u001b[0m\u001b[0;34m,\u001b[0m\u001b[0;34m\u001b[0m\u001b[0;34m\u001b[0m\u001b[0m\n\u001b[1;32m    861\u001b[0m             \u001b[0moutput_hidden_states\u001b[0m\u001b[0;34m=\u001b[0m\u001b[0moutput_hidden_states\u001b[0m\u001b[0;34m,\u001b[0m\u001b[0;34m\u001b[0m\u001b[0;34m\u001b[0m\u001b[0m\n\u001b[0;32m--> 862\u001b[0;31m             \u001b[0mreturn_dict\u001b[0m\u001b[0;34m=\u001b[0m\u001b[0mreturn_dict\u001b[0m\u001b[0;34m,\u001b[0m\u001b[0;34m\u001b[0m\u001b[0;34m\u001b[0m\u001b[0m\n\u001b[0m\u001b[1;32m    863\u001b[0m         )\n\u001b[1;32m    864\u001b[0m         \u001b[0msequence_output\u001b[0m \u001b[0;34m=\u001b[0m \u001b[0mencoder_outputs\u001b[0m\u001b[0;34m[\u001b[0m\u001b[0;36m0\u001b[0m\u001b[0;34m]\u001b[0m\u001b[0;34m\u001b[0m\u001b[0;34m\u001b[0m\u001b[0m\n",
            "\u001b[0;32m/usr/local/lib/python3.7/dist-packages/torch/nn/modules/module.py\u001b[0m in \u001b[0;36m_call_impl\u001b[0;34m(self, *input, **kwargs)\u001b[0m\n\u001b[1;32m   1128\u001b[0m         if not (self._backward_hooks or self._forward_hooks or self._forward_pre_hooks or _global_backward_hooks\n\u001b[1;32m   1129\u001b[0m                 or _global_forward_hooks or _global_forward_pre_hooks):\n\u001b[0;32m-> 1130\u001b[0;31m             \u001b[0;32mreturn\u001b[0m \u001b[0mforward_call\u001b[0m\u001b[0;34m(\u001b[0m\u001b[0;34m*\u001b[0m\u001b[0minput\u001b[0m\u001b[0;34m,\u001b[0m \u001b[0;34m**\u001b[0m\u001b[0mkwargs\u001b[0m\u001b[0;34m)\u001b[0m\u001b[0;34m\u001b[0m\u001b[0;34m\u001b[0m\u001b[0m\n\u001b[0m\u001b[1;32m   1131\u001b[0m         \u001b[0;31m# Do not call functions when jit is used\u001b[0m\u001b[0;34m\u001b[0m\u001b[0;34m\u001b[0m\u001b[0;34m\u001b[0m\u001b[0m\n\u001b[1;32m   1132\u001b[0m         \u001b[0mfull_backward_hooks\u001b[0m\u001b[0;34m,\u001b[0m \u001b[0mnon_full_backward_hooks\u001b[0m \u001b[0;34m=\u001b[0m \u001b[0;34m[\u001b[0m\u001b[0;34m]\u001b[0m\u001b[0;34m,\u001b[0m \u001b[0;34m[\u001b[0m\u001b[0;34m]\u001b[0m\u001b[0;34m\u001b[0m\u001b[0;34m\u001b[0m\u001b[0m\n",
            "\u001b[0;32m/usr/local/lib/python3.7/dist-packages/transformers/models/roberta/modeling_roberta.py\u001b[0m in \u001b[0;36mforward\u001b[0;34m(self, hidden_states, attention_mask, head_mask, encoder_hidden_states, encoder_attention_mask, past_key_values, use_cache, output_attentions, output_hidden_states, return_dict)\u001b[0m\n\u001b[1;32m    533\u001b[0m                     \u001b[0mencoder_attention_mask\u001b[0m\u001b[0;34m,\u001b[0m\u001b[0;34m\u001b[0m\u001b[0;34m\u001b[0m\u001b[0m\n\u001b[1;32m    534\u001b[0m                     \u001b[0mpast_key_value\u001b[0m\u001b[0;34m,\u001b[0m\u001b[0;34m\u001b[0m\u001b[0;34m\u001b[0m\u001b[0m\n\u001b[0;32m--> 535\u001b[0;31m                     \u001b[0moutput_attentions\u001b[0m\u001b[0;34m,\u001b[0m\u001b[0;34m\u001b[0m\u001b[0;34m\u001b[0m\u001b[0m\n\u001b[0m\u001b[1;32m    536\u001b[0m                 )\n\u001b[1;32m    537\u001b[0m \u001b[0;34m\u001b[0m\u001b[0m\n",
            "\u001b[0;32m/usr/local/lib/python3.7/dist-packages/torch/nn/modules/module.py\u001b[0m in \u001b[0;36m_call_impl\u001b[0;34m(self, *input, **kwargs)\u001b[0m\n\u001b[1;32m   1128\u001b[0m         if not (self._backward_hooks or self._forward_hooks or self._forward_pre_hooks or _global_backward_hooks\n\u001b[1;32m   1129\u001b[0m                 or _global_forward_hooks or _global_forward_pre_hooks):\n\u001b[0;32m-> 1130\u001b[0;31m             \u001b[0;32mreturn\u001b[0m \u001b[0mforward_call\u001b[0m\u001b[0;34m(\u001b[0m\u001b[0;34m*\u001b[0m\u001b[0minput\u001b[0m\u001b[0;34m,\u001b[0m \u001b[0;34m**\u001b[0m\u001b[0mkwargs\u001b[0m\u001b[0;34m)\u001b[0m\u001b[0;34m\u001b[0m\u001b[0;34m\u001b[0m\u001b[0m\n\u001b[0m\u001b[1;32m   1131\u001b[0m         \u001b[0;31m# Do not call functions when jit is used\u001b[0m\u001b[0;34m\u001b[0m\u001b[0;34m\u001b[0m\u001b[0;34m\u001b[0m\u001b[0m\n\u001b[1;32m   1132\u001b[0m         \u001b[0mfull_backward_hooks\u001b[0m\u001b[0;34m,\u001b[0m \u001b[0mnon_full_backward_hooks\u001b[0m \u001b[0;34m=\u001b[0m \u001b[0;34m[\u001b[0m\u001b[0;34m]\u001b[0m\u001b[0;34m,\u001b[0m \u001b[0;34m[\u001b[0m\u001b[0;34m]\u001b[0m\u001b[0;34m\u001b[0m\u001b[0;34m\u001b[0m\u001b[0m\n",
            "\u001b[0;32m/usr/local/lib/python3.7/dist-packages/transformers/models/roberta/modeling_roberta.py\u001b[0m in \u001b[0;36mforward\u001b[0;34m(self, hidden_states, attention_mask, head_mask, encoder_hidden_states, encoder_attention_mask, past_key_value, output_attentions)\u001b[0m\n\u001b[1;32m    416\u001b[0m             \u001b[0mhead_mask\u001b[0m\u001b[0;34m,\u001b[0m\u001b[0;34m\u001b[0m\u001b[0;34m\u001b[0m\u001b[0m\n\u001b[1;32m    417\u001b[0m             \u001b[0moutput_attentions\u001b[0m\u001b[0;34m=\u001b[0m\u001b[0moutput_attentions\u001b[0m\u001b[0;34m,\u001b[0m\u001b[0;34m\u001b[0m\u001b[0;34m\u001b[0m\u001b[0m\n\u001b[0;32m--> 418\u001b[0;31m             \u001b[0mpast_key_value\u001b[0m\u001b[0;34m=\u001b[0m\u001b[0mself_attn_past_key_value\u001b[0m\u001b[0;34m,\u001b[0m\u001b[0;34m\u001b[0m\u001b[0;34m\u001b[0m\u001b[0m\n\u001b[0m\u001b[1;32m    419\u001b[0m         )\n\u001b[1;32m    420\u001b[0m         \u001b[0mattention_output\u001b[0m \u001b[0;34m=\u001b[0m \u001b[0mself_attention_outputs\u001b[0m\u001b[0;34m[\u001b[0m\u001b[0;36m0\u001b[0m\u001b[0;34m]\u001b[0m\u001b[0;34m\u001b[0m\u001b[0;34m\u001b[0m\u001b[0m\n",
            "\u001b[0;32m/usr/local/lib/python3.7/dist-packages/torch/nn/modules/module.py\u001b[0m in \u001b[0;36m_call_impl\u001b[0;34m(self, *input, **kwargs)\u001b[0m\n\u001b[1;32m   1128\u001b[0m         if not (self._backward_hooks or self._forward_hooks or self._forward_pre_hooks or _global_backward_hooks\n\u001b[1;32m   1129\u001b[0m                 or _global_forward_hooks or _global_forward_pre_hooks):\n\u001b[0;32m-> 1130\u001b[0;31m             \u001b[0;32mreturn\u001b[0m \u001b[0mforward_call\u001b[0m\u001b[0;34m(\u001b[0m\u001b[0;34m*\u001b[0m\u001b[0minput\u001b[0m\u001b[0;34m,\u001b[0m \u001b[0;34m**\u001b[0m\u001b[0mkwargs\u001b[0m\u001b[0;34m)\u001b[0m\u001b[0;34m\u001b[0m\u001b[0;34m\u001b[0m\u001b[0m\n\u001b[0m\u001b[1;32m   1131\u001b[0m         \u001b[0;31m# Do not call functions when jit is used\u001b[0m\u001b[0;34m\u001b[0m\u001b[0;34m\u001b[0m\u001b[0;34m\u001b[0m\u001b[0m\n\u001b[1;32m   1132\u001b[0m         \u001b[0mfull_backward_hooks\u001b[0m\u001b[0;34m,\u001b[0m \u001b[0mnon_full_backward_hooks\u001b[0m \u001b[0;34m=\u001b[0m \u001b[0;34m[\u001b[0m\u001b[0;34m]\u001b[0m\u001b[0;34m,\u001b[0m \u001b[0;34m[\u001b[0m\u001b[0;34m]\u001b[0m\u001b[0;34m\u001b[0m\u001b[0;34m\u001b[0m\u001b[0m\n",
            "\u001b[0;32m/usr/local/lib/python3.7/dist-packages/transformers/models/roberta/modeling_roberta.py\u001b[0m in \u001b[0;36mforward\u001b[0;34m(self, hidden_states, attention_mask, head_mask, encoder_hidden_states, encoder_attention_mask, past_key_value, output_attentions)\u001b[0m\n\u001b[1;32m    345\u001b[0m             \u001b[0mencoder_attention_mask\u001b[0m\u001b[0;34m,\u001b[0m\u001b[0;34m\u001b[0m\u001b[0;34m\u001b[0m\u001b[0m\n\u001b[1;32m    346\u001b[0m             \u001b[0mpast_key_value\u001b[0m\u001b[0;34m,\u001b[0m\u001b[0;34m\u001b[0m\u001b[0;34m\u001b[0m\u001b[0m\n\u001b[0;32m--> 347\u001b[0;31m             \u001b[0moutput_attentions\u001b[0m\u001b[0;34m,\u001b[0m\u001b[0;34m\u001b[0m\u001b[0;34m\u001b[0m\u001b[0m\n\u001b[0m\u001b[1;32m    348\u001b[0m         )\n\u001b[1;32m    349\u001b[0m         \u001b[0mattention_output\u001b[0m \u001b[0;34m=\u001b[0m \u001b[0mself\u001b[0m\u001b[0;34m.\u001b[0m\u001b[0moutput\u001b[0m\u001b[0;34m(\u001b[0m\u001b[0mself_outputs\u001b[0m\u001b[0;34m[\u001b[0m\u001b[0;36m0\u001b[0m\u001b[0;34m]\u001b[0m\u001b[0;34m,\u001b[0m \u001b[0mhidden_states\u001b[0m\u001b[0;34m)\u001b[0m\u001b[0;34m\u001b[0m\u001b[0;34m\u001b[0m\u001b[0m\n",
            "\u001b[0;32m/usr/local/lib/python3.7/dist-packages/torch/nn/modules/module.py\u001b[0m in \u001b[0;36m_call_impl\u001b[0;34m(self, *input, **kwargs)\u001b[0m\n\u001b[1;32m   1128\u001b[0m         if not (self._backward_hooks or self._forward_hooks or self._forward_pre_hooks or _global_backward_hooks\n\u001b[1;32m   1129\u001b[0m                 or _global_forward_hooks or _global_forward_pre_hooks):\n\u001b[0;32m-> 1130\u001b[0;31m             \u001b[0;32mreturn\u001b[0m \u001b[0mforward_call\u001b[0m\u001b[0;34m(\u001b[0m\u001b[0;34m*\u001b[0m\u001b[0minput\u001b[0m\u001b[0;34m,\u001b[0m \u001b[0;34m**\u001b[0m\u001b[0mkwargs\u001b[0m\u001b[0;34m)\u001b[0m\u001b[0;34m\u001b[0m\u001b[0;34m\u001b[0m\u001b[0m\n\u001b[0m\u001b[1;32m   1131\u001b[0m         \u001b[0;31m# Do not call functions when jit is used\u001b[0m\u001b[0;34m\u001b[0m\u001b[0;34m\u001b[0m\u001b[0;34m\u001b[0m\u001b[0m\n\u001b[1;32m   1132\u001b[0m         \u001b[0mfull_backward_hooks\u001b[0m\u001b[0;34m,\u001b[0m \u001b[0mnon_full_backward_hooks\u001b[0m \u001b[0;34m=\u001b[0m \u001b[0;34m[\u001b[0m\u001b[0;34m]\u001b[0m\u001b[0;34m,\u001b[0m \u001b[0;34m[\u001b[0m\u001b[0;34m]\u001b[0m\u001b[0;34m\u001b[0m\u001b[0;34m\u001b[0m\u001b[0m\n",
            "\u001b[0;32m/usr/local/lib/python3.7/dist-packages/transformers/models/roberta/modeling_roberta.py\u001b[0m in \u001b[0;36mforward\u001b[0;34m(self, hidden_states, attention_mask, head_mask, encoder_hidden_states, encoder_attention_mask, past_key_value, output_attentions)\u001b[0m\n\u001b[1;32m    224\u001b[0m             \u001b[0mvalue_layer\u001b[0m \u001b[0;34m=\u001b[0m \u001b[0mtorch\u001b[0m\u001b[0;34m.\u001b[0m\u001b[0mcat\u001b[0m\u001b[0;34m(\u001b[0m\u001b[0;34m[\u001b[0m\u001b[0mpast_key_value\u001b[0m\u001b[0;34m[\u001b[0m\u001b[0;36m1\u001b[0m\u001b[0;34m]\u001b[0m\u001b[0;34m,\u001b[0m \u001b[0mvalue_layer\u001b[0m\u001b[0;34m]\u001b[0m\u001b[0;34m,\u001b[0m \u001b[0mdim\u001b[0m\u001b[0;34m=\u001b[0m\u001b[0;36m2\u001b[0m\u001b[0;34m)\u001b[0m\u001b[0;34m\u001b[0m\u001b[0;34m\u001b[0m\u001b[0m\n\u001b[1;32m    225\u001b[0m         \u001b[0;32melse\u001b[0m\u001b[0;34m:\u001b[0m\u001b[0;34m\u001b[0m\u001b[0;34m\u001b[0m\u001b[0m\n\u001b[0;32m--> 226\u001b[0;31m             \u001b[0mkey_layer\u001b[0m \u001b[0;34m=\u001b[0m \u001b[0mself\u001b[0m\u001b[0;34m.\u001b[0m\u001b[0mtranspose_for_scores\u001b[0m\u001b[0;34m(\u001b[0m\u001b[0mself\u001b[0m\u001b[0;34m.\u001b[0m\u001b[0mkey\u001b[0m\u001b[0;34m(\u001b[0m\u001b[0mhidden_states\u001b[0m\u001b[0;34m)\u001b[0m\u001b[0;34m)\u001b[0m\u001b[0;34m\u001b[0m\u001b[0;34m\u001b[0m\u001b[0m\n\u001b[0m\u001b[1;32m    227\u001b[0m             \u001b[0mvalue_layer\u001b[0m \u001b[0;34m=\u001b[0m \u001b[0mself\u001b[0m\u001b[0;34m.\u001b[0m\u001b[0mtranspose_for_scores\u001b[0m\u001b[0;34m(\u001b[0m\u001b[0mself\u001b[0m\u001b[0;34m.\u001b[0m\u001b[0mvalue\u001b[0m\u001b[0;34m(\u001b[0m\u001b[0mhidden_states\u001b[0m\u001b[0;34m)\u001b[0m\u001b[0;34m)\u001b[0m\u001b[0;34m\u001b[0m\u001b[0;34m\u001b[0m\u001b[0m\n\u001b[1;32m    228\u001b[0m \u001b[0;34m\u001b[0m\u001b[0m\n",
            "\u001b[0;32m/usr/local/lib/python3.7/dist-packages/transformers/models/roberta/modeling_roberta.py\u001b[0m in \u001b[0;36mtranspose_for_scores\u001b[0;34m(self, x)\u001b[0m\n\u001b[1;32m    190\u001b[0m         \u001b[0mnew_x_shape\u001b[0m \u001b[0;34m=\u001b[0m \u001b[0mx\u001b[0m\u001b[0;34m.\u001b[0m\u001b[0msize\u001b[0m\u001b[0;34m(\u001b[0m\u001b[0;34m)\u001b[0m\u001b[0;34m[\u001b[0m\u001b[0;34m:\u001b[0m\u001b[0;34m-\u001b[0m\u001b[0;36m1\u001b[0m\u001b[0;34m]\u001b[0m \u001b[0;34m+\u001b[0m \u001b[0;34m(\u001b[0m\u001b[0mself\u001b[0m\u001b[0;34m.\u001b[0m\u001b[0mnum_attention_heads\u001b[0m\u001b[0;34m,\u001b[0m \u001b[0mself\u001b[0m\u001b[0;34m.\u001b[0m\u001b[0mattention_head_size\u001b[0m\u001b[0;34m)\u001b[0m\u001b[0;34m\u001b[0m\u001b[0;34m\u001b[0m\u001b[0m\n\u001b[1;32m    191\u001b[0m         \u001b[0mx\u001b[0m \u001b[0;34m=\u001b[0m \u001b[0mx\u001b[0m\u001b[0;34m.\u001b[0m\u001b[0mview\u001b[0m\u001b[0;34m(\u001b[0m\u001b[0mnew_x_shape\u001b[0m\u001b[0;34m)\u001b[0m\u001b[0;34m\u001b[0m\u001b[0;34m\u001b[0m\u001b[0m\n\u001b[0;32m--> 192\u001b[0;31m         \u001b[0;32mreturn\u001b[0m \u001b[0mx\u001b[0m\u001b[0;34m.\u001b[0m\u001b[0mpermute\u001b[0m\u001b[0;34m(\u001b[0m\u001b[0;36m0\u001b[0m\u001b[0;34m,\u001b[0m \u001b[0;36m2\u001b[0m\u001b[0;34m,\u001b[0m \u001b[0;36m1\u001b[0m\u001b[0;34m,\u001b[0m \u001b[0;36m3\u001b[0m\u001b[0;34m)\u001b[0m\u001b[0;34m\u001b[0m\u001b[0;34m\u001b[0m\u001b[0m\n\u001b[0m\u001b[1;32m    193\u001b[0m \u001b[0;34m\u001b[0m\u001b[0m\n\u001b[1;32m    194\u001b[0m     def forward(\n",
            "\u001b[0;31mKeyboardInterrupt\u001b[0m: "
          ]
        }
      ]
    },
    {
      "cell_type": "markdown",
      "source": [
        "# 10. Conclusions"
      ],
      "metadata": {
        "id": "BDyCYr39Ikd7"
      }
    },
    {
      "cell_type": "code",
      "source": [],
      "metadata": {
        "id": "iGKpu0pAImjP"
      },
      "execution_count": null,
      "outputs": []
    },
    {
      "cell_type": "markdown",
      "source": [
        "# 11. Recommendations"
      ],
      "metadata": {
        "id": "G_X-N5lfInDJ"
      }
    },
    {
      "cell_type": "code",
      "source": [],
      "metadata": {
        "id": "pwZgFDXuIplR"
      },
      "execution_count": null,
      "outputs": []
    }
  ]
}
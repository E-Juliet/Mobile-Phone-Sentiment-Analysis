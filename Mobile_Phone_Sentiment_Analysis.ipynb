{
  "nbformat": 4,
  "nbformat_minor": 0,
  "metadata": {
    "colab": {
      "provenance": [],
      "collapsed_sections": [],
      "toc_visible": true,
      "include_colab_link": true
    },
    "kernelspec": {
      "name": "python3",
      "display_name": "Python 3"
    },
    "language_info": {
      "name": "python"
    }
  },
  "cells": [
    {
      "cell_type": "markdown",
      "metadata": {
        "id": "view-in-github",
        "colab_type": "text"
      },
      "source": [
        "<a href=\"https://colab.research.google.com/github/MercyNgila/Mobile-Phone-Sentiment-Analysis/blob/main/Mobile_Phone_Sentiment_Analysis.ipynb\" target=\"_parent\"><img src=\"https://colab.research.google.com/assets/colab-badge.svg\" alt=\"Open In Colab\"/></a>"
      ]
    },
    {
      "cell_type": "markdown",
      "source": [
        "# 1. Business Understanding"
      ],
      "metadata": {
        "id": "9q3BAMW7E1DW"
      }
    },
    {
      "cell_type": "markdown",
      "source": [
        "## 1.1. Problem Statement"
      ],
      "metadata": {
        "id": "Zsdsj6xeFLkh"
      }
    },
    {
      "cell_type": "markdown",
      "source": [
        "Purchasing a product is an interaction between two entities, consumers and business owners. Consumers often use reviews to make decisions about what products to buy, while businesses, on the other hand, not only want to sell their products but also want to receive feedback in terms of consumer reviews. Consumer reviews about purchased products shared on the internet have a great impact. Human nature is generally structured to make decisions based on analyzing and getting the benefit of other consumer experience and opinions because others often have a great influence on our beliefs, behaviors, perception of reality, and the choices we make. Hence, we ask others for their feedback whenever we are deciding on doing something. Additionally, this fact applies not only to consumers but also to organizations and institutions.\n",
        "\n",
        "As social media networks have evolved, so have the ways that consumers express their opinions and feelings. With the vast amount of data now available online, it has become a challenge to extract useful information from it all. Sentiment analysis has emerged as a way to predict the polarity (positive, negative, or neutral) of consumer opinion, which can help consumers better understand the textual data.\n",
        "\n",
        "E-commerce websites have increased in popularity to the point where consumers rely on them for buying and selling. These websites give consumers the ability to write comments about different products and services, which has resulted in a huge amount of reviews becoming available. Consequently, the need to analyze these reviews to understand consumers’ feedback has increased for both vendors and consumers. However, it is difficult to read all the feedback for a particular item, especially for popular items with many comments. \n",
        "\n",
        "In this research, we attempt to build a predictor for consumers’ satisfaction on mobile phone products based on the reviews. We will also attempt to understand the factors that contribute to classifying reviews as positive, negative or neutral (based on important or most frequent words). This is believed to help companies improve their products and also help potential buyers make better decisions when buying products.\n"
      ],
      "metadata": {
        "id": "xMX51AmQgzWE"
      }
    },
    {
      "cell_type": "markdown",
      "source": [
        "### 1.1.1. Main objective"
      ],
      "metadata": {
        "id": "LRL_nT4hQHE1"
      }
    },
    {
      "cell_type": "markdown",
      "source": [
        "- To perform a sentiment analysis of mobile phone reviews from Amazon website to determine how these reviews help consumers to have conﬁdence that they have made the right decision about their purchases."
      ],
      "metadata": {
        "id": "wVjUguQEQOde"
      }
    },
    {
      "cell_type": "markdown",
      "source": [
        "### 1.1.2. Specific Objectives"
      ],
      "metadata": {
        "id": "UzJnQ9GpQSbZ"
      }
    },
    {
      "cell_type": "markdown",
      "source": [
        "- To help companies understand their consumers’ feedback to maintain their products/services or enhance them.\n",
        "- To provide insights to companies in curating offers on speciﬁc products to increase their proﬁts and customer satisfaction.\n",
        "- To understand the factors that contribute to classifying reviews as positive, negative or neutral (based on important or most frequent words).\n",
        "- To determine mobile phones key features that influence smartphone purchases.\n",
        "- To perform a market segmentation of consumers based on their reviews\n",
        "- To advise the advertisement department in companies on these key features to use as selling points and to specific customer segments  in upcoming advertisements."
      ],
      "metadata": {
        "id": "KgSNh4vhQWmT"
      }
    },
    {
      "cell_type": "markdown",
      "source": [
        "### 1.1.3. Metrics of Success"
      ],
      "metadata": {
        "id": "gaUJXyyLFUTK"
      }
    },
    {
      "cell_type": "markdown",
      "source": [
        "The best performing model will be selected based on:\n",
        "- An accuracy score > 80%\n",
        "- An F1 score > 0.85 \n"
      ],
      "metadata": {
        "id": "Q9Oc9eMoiCEc"
      }
    },
    {
      "cell_type": "markdown",
      "source": [
        "# 2. Data Understanding"
      ],
      "metadata": {
        "id": "nV7OCr-jE684"
      }
    },
    {
      "cell_type": "markdown",
      "source": [
        "The data used for this project is obtained from [data.world](https://data.world/promptcloud/amazon-mobile-phone-reviews) and contains more than 400 thousand reviews  of unlocked mobile phones sold on [amazon.com](https://www.amazon.com/). The data was collected from 2016 and last updated in April 2022. The data contains 6 columns:\n",
        "- Product_name : Contains the name of the product\n",
        "- Brand : Contains the brand of the product\n",
        "- Price : Contains the price of the brans\n",
        "- Rating : Contains the rating awarded to that product\n",
        "- Reviews : Contains the review of that product\n",
        "- Review_votes : Number of people who found the review helpful\n",
        "\n"
      ],
      "metadata": {
        "id": "sqSbCw7_jZSZ"
      }
    },
    {
      "cell_type": "markdown",
      "source": [
        "# 3. Loading Relevant Libraries & Data"
      ],
      "metadata": {
        "id": "4i1eLmRKGPl4"
      }
    },
    {
      "cell_type": "markdown",
      "source": [
        "## 3.1. Loading Libraries"
      ],
      "metadata": {
        "id": "CbMOWZeZGm-N"
      }
    },
    {
      "cell_type": "code",
      "source": [
        "import pandas as pd\n",
        "\n",
        "import numpy as np\n",
        "import matplotlib.pyplot as plt\n",
        "%matplotlib inline\n",
        "import seaborn as sns"
      ],
      "metadata": {
        "id": "LxndseO0G2LM"
      },
      "execution_count": 282,
      "outputs": []
    },
    {
      "cell_type": "code",
      "source": [
        "from google.colab import drive\n",
        "drive.mount('/content/drive')"
      ],
      "metadata": {
        "colab": {
          "base_uri": "https://localhost:8080/"
        },
        "id": "BxDfprYEzRXr",
        "outputId": "dad2cb7b-da69-4014-ce01-8cab3dc89d37"
      },
      "execution_count": 283,
      "outputs": [
        {
          "output_type": "stream",
          "name": "stdout",
          "text": [
            "Drive already mounted at /content/drive; to attempt to forcibly remount, call drive.mount(\"/content/drive\", force_remount=True).\n"
          ]
        }
      ]
    },
    {
      "cell_type": "markdown",
      "source": [
        "## 3.2. Loading Data"
      ],
      "metadata": {
        "id": "Bix9U25iG3d6"
      }
    },
    {
      "cell_type": "code",
      "source": [
        "# loading the data\n",
        "\n",
        "df = pd.read_csv('/content/drive/Shareddrives/Alpha/Data/Amazon Combined Data.csv')\n",
        "df.head()"
      ],
      "metadata": {
        "id": "7QRfpgb3G6YA",
        "outputId": "fae361ee-af05-4cba-d7d9-1f8443d7669e",
        "colab": {
          "base_uri": "https://localhost:8080/",
          "height": 354
        }
      },
      "execution_count": 284,
      "outputs": [
        {
          "output_type": "execute_result",
          "data": {
            "text/plain": [
              "               Rating                                       Review Title  \\\n",
              "0  4.0 out of 5 stars  \\n.. not what ordered, not New... but it works...   \n",
              "1  3.0 out of 5 stars  \\nNot for Cricket Wireless and this two review...   \n",
              "2  3.0 out of 5 stars               \\nWill not work on T-Mobile sysem!\\n   \n",
              "3  3.0 out of 5 stars                          \\nA burner or for a kid\\n   \n",
              "4  4.0 out of 5 stars                                  \\nIt works okay\\n   \n",
              "\n",
              "                                              Review  \\\n",
              "0  \\nSo first off...it's not what I ordered, but ...   \n",
              "1  \\nThe phone itself is a okay android device, b...   \n",
              "2  \\nNew phone write up indicates T-Mobile system...   \n",
              "3  \\nI use this as a burner w/o a sim card in it....   \n",
              "4                                  \\nIt works fine\\n   \n",
              "\n",
              "                         Location and Date of Review   Affiliated Company  \\\n",
              "0  Reviewed in the United States on February 11, ...  Visit the RCA Store   \n",
              "1  Reviewed in the United States on February 4, 2021  Visit the RCA Store   \n",
              "2      Reviewed in the United States on June 7, 2022  Visit the RCA Store   \n",
              "3    Reviewed in the United States on April 14, 2022  Visit the RCA Store   \n",
              "4   Reviewed in the United States on August 13, 2022  Visit the RCA Store   \n",
              "\n",
              "                                  Brand and Features   Price  \n",
              "0          RCA Reno Smartphone, 4G LTE, 16GB, And...  $69.99  \n",
              "1          RCA Reno Smartphone, 4G LTE, 16GB, And...  $69.99  \n",
              "2          RCA Reno Smartphone, 4G LTE, 16GB, And...  $69.99  \n",
              "3          RCA Reno Smartphone, 4G LTE, 16GB, And...  $69.99  \n",
              "4          RCA Reno Smartphone, 4G LTE, 16GB, And...  $69.99  "
            ],
            "text/html": [
              "\n",
              "  <div id=\"df-b4a6faa3-8351-4da7-9644-981e8d0c2987\">\n",
              "    <div class=\"colab-df-container\">\n",
              "      <div>\n",
              "<style scoped>\n",
              "    .dataframe tbody tr th:only-of-type {\n",
              "        vertical-align: middle;\n",
              "    }\n",
              "\n",
              "    .dataframe tbody tr th {\n",
              "        vertical-align: top;\n",
              "    }\n",
              "\n",
              "    .dataframe thead th {\n",
              "        text-align: right;\n",
              "    }\n",
              "</style>\n",
              "<table border=\"1\" class=\"dataframe\">\n",
              "  <thead>\n",
              "    <tr style=\"text-align: right;\">\n",
              "      <th></th>\n",
              "      <th>Rating</th>\n",
              "      <th>Review Title</th>\n",
              "      <th>Review</th>\n",
              "      <th>Location and Date of Review</th>\n",
              "      <th>Affiliated Company</th>\n",
              "      <th>Brand and Features</th>\n",
              "      <th>Price</th>\n",
              "    </tr>\n",
              "  </thead>\n",
              "  <tbody>\n",
              "    <tr>\n",
              "      <th>0</th>\n",
              "      <td>4.0 out of 5 stars</td>\n",
              "      <td>\\n.. not what ordered, not New... but it works...</td>\n",
              "      <td>\\nSo first off...it's not what I ordered, but ...</td>\n",
              "      <td>Reviewed in the United States on February 11, ...</td>\n",
              "      <td>Visit the RCA Store</td>\n",
              "      <td>RCA Reno Smartphone, 4G LTE, 16GB, And...</td>\n",
              "      <td>$69.99</td>\n",
              "    </tr>\n",
              "    <tr>\n",
              "      <th>1</th>\n",
              "      <td>3.0 out of 5 stars</td>\n",
              "      <td>\\nNot for Cricket Wireless and this two review...</td>\n",
              "      <td>\\nThe phone itself is a okay android device, b...</td>\n",
              "      <td>Reviewed in the United States on February 4, 2021</td>\n",
              "      <td>Visit the RCA Store</td>\n",
              "      <td>RCA Reno Smartphone, 4G LTE, 16GB, And...</td>\n",
              "      <td>$69.99</td>\n",
              "    </tr>\n",
              "    <tr>\n",
              "      <th>2</th>\n",
              "      <td>3.0 out of 5 stars</td>\n",
              "      <td>\\nWill not work on T-Mobile sysem!\\n</td>\n",
              "      <td>\\nNew phone write up indicates T-Mobile system...</td>\n",
              "      <td>Reviewed in the United States on June 7, 2022</td>\n",
              "      <td>Visit the RCA Store</td>\n",
              "      <td>RCA Reno Smartphone, 4G LTE, 16GB, And...</td>\n",
              "      <td>$69.99</td>\n",
              "    </tr>\n",
              "    <tr>\n",
              "      <th>3</th>\n",
              "      <td>3.0 out of 5 stars</td>\n",
              "      <td>\\nA burner or for a kid\\n</td>\n",
              "      <td>\\nI use this as a burner w/o a sim card in it....</td>\n",
              "      <td>Reviewed in the United States on April 14, 2022</td>\n",
              "      <td>Visit the RCA Store</td>\n",
              "      <td>RCA Reno Smartphone, 4G LTE, 16GB, And...</td>\n",
              "      <td>$69.99</td>\n",
              "    </tr>\n",
              "    <tr>\n",
              "      <th>4</th>\n",
              "      <td>4.0 out of 5 stars</td>\n",
              "      <td>\\nIt works okay\\n</td>\n",
              "      <td>\\nIt works fine\\n</td>\n",
              "      <td>Reviewed in the United States on August 13, 2022</td>\n",
              "      <td>Visit the RCA Store</td>\n",
              "      <td>RCA Reno Smartphone, 4G LTE, 16GB, And...</td>\n",
              "      <td>$69.99</td>\n",
              "    </tr>\n",
              "  </tbody>\n",
              "</table>\n",
              "</div>\n",
              "      <button class=\"colab-df-convert\" onclick=\"convertToInteractive('df-b4a6faa3-8351-4da7-9644-981e8d0c2987')\"\n",
              "              title=\"Convert this dataframe to an interactive table.\"\n",
              "              style=\"display:none;\">\n",
              "        \n",
              "  <svg xmlns=\"http://www.w3.org/2000/svg\" height=\"24px\"viewBox=\"0 0 24 24\"\n",
              "       width=\"24px\">\n",
              "    <path d=\"M0 0h24v24H0V0z\" fill=\"none\"/>\n",
              "    <path d=\"M18.56 5.44l.94 2.06.94-2.06 2.06-.94-2.06-.94-.94-2.06-.94 2.06-2.06.94zm-11 1L8.5 8.5l.94-2.06 2.06-.94-2.06-.94L8.5 2.5l-.94 2.06-2.06.94zm10 10l.94 2.06.94-2.06 2.06-.94-2.06-.94-.94-2.06-.94 2.06-2.06.94z\"/><path d=\"M17.41 7.96l-1.37-1.37c-.4-.4-.92-.59-1.43-.59-.52 0-1.04.2-1.43.59L10.3 9.45l-7.72 7.72c-.78.78-.78 2.05 0 2.83L4 21.41c.39.39.9.59 1.41.59.51 0 1.02-.2 1.41-.59l7.78-7.78 2.81-2.81c.8-.78.8-2.07 0-2.86zM5.41 20L4 18.59l7.72-7.72 1.47 1.35L5.41 20z\"/>\n",
              "  </svg>\n",
              "      </button>\n",
              "      \n",
              "  <style>\n",
              "    .colab-df-container {\n",
              "      display:flex;\n",
              "      flex-wrap:wrap;\n",
              "      gap: 12px;\n",
              "    }\n",
              "\n",
              "    .colab-df-convert {\n",
              "      background-color: #E8F0FE;\n",
              "      border: none;\n",
              "      border-radius: 50%;\n",
              "      cursor: pointer;\n",
              "      display: none;\n",
              "      fill: #1967D2;\n",
              "      height: 32px;\n",
              "      padding: 0 0 0 0;\n",
              "      width: 32px;\n",
              "    }\n",
              "\n",
              "    .colab-df-convert:hover {\n",
              "      background-color: #E2EBFA;\n",
              "      box-shadow: 0px 1px 2px rgba(60, 64, 67, 0.3), 0px 1px 3px 1px rgba(60, 64, 67, 0.15);\n",
              "      fill: #174EA6;\n",
              "    }\n",
              "\n",
              "    [theme=dark] .colab-df-convert {\n",
              "      background-color: #3B4455;\n",
              "      fill: #D2E3FC;\n",
              "    }\n",
              "\n",
              "    [theme=dark] .colab-df-convert:hover {\n",
              "      background-color: #434B5C;\n",
              "      box-shadow: 0px 1px 3px 1px rgba(0, 0, 0, 0.15);\n",
              "      filter: drop-shadow(0px 1px 2px rgba(0, 0, 0, 0.3));\n",
              "      fill: #FFFFFF;\n",
              "    }\n",
              "  </style>\n",
              "\n",
              "      <script>\n",
              "        const buttonEl =\n",
              "          document.querySelector('#df-b4a6faa3-8351-4da7-9644-981e8d0c2987 button.colab-df-convert');\n",
              "        buttonEl.style.display =\n",
              "          google.colab.kernel.accessAllowed ? 'block' : 'none';\n",
              "\n",
              "        async function convertToInteractive(key) {\n",
              "          const element = document.querySelector('#df-b4a6faa3-8351-4da7-9644-981e8d0c2987');\n",
              "          const dataTable =\n",
              "            await google.colab.kernel.invokeFunction('convertToInteractive',\n",
              "                                                     [key], {});\n",
              "          if (!dataTable) return;\n",
              "\n",
              "          const docLinkHtml = 'Like what you see? Visit the ' +\n",
              "            '<a target=\"_blank\" href=https://colab.research.google.com/notebooks/data_table.ipynb>data table notebook</a>'\n",
              "            + ' to learn more about interactive tables.';\n",
              "          element.innerHTML = '';\n",
              "          dataTable['output_type'] = 'display_data';\n",
              "          await google.colab.output.renderOutput(dataTable, element);\n",
              "          const docLink = document.createElement('div');\n",
              "          docLink.innerHTML = docLinkHtml;\n",
              "          element.appendChild(docLink);\n",
              "        }\n",
              "      </script>\n",
              "    </div>\n",
              "  </div>\n",
              "  "
            ]
          },
          "metadata": {},
          "execution_count": 284
        }
      ]
    },
    {
      "cell_type": "markdown",
      "source": [
        "## 3.3. Previewing Data"
      ],
      "metadata": {
        "id": "wwvKhb51G67A"
      }
    },
    {
      "cell_type": "code",
      "source": [
        "# checking the shape of the data\n",
        "\n",
        "print(f'The data has {df.shape[0]} rows and {df.shape[1]} columns')"
      ],
      "metadata": {
        "colab": {
          "base_uri": "https://localhost:8080/"
        },
        "id": "t6dRxB8kHASI",
        "outputId": "9a717513-2b7d-4f0d-effd-1a7419e1d53e"
      },
      "execution_count": 285,
      "outputs": [
        {
          "output_type": "stream",
          "name": "stdout",
          "text": [
            "The data has 17198 rows and 7 columns\n"
          ]
        }
      ]
    },
    {
      "cell_type": "code",
      "source": [
        "# checking the data types of the data\n",
        "\n",
        "df.info()"
      ],
      "metadata": {
        "colab": {
          "base_uri": "https://localhost:8080/"
        },
        "id": "ssrPqcJPmSUr",
        "outputId": "2a2b2bee-76e5-4e27-a9e4-c4903fbcd550"
      },
      "execution_count": 286,
      "outputs": [
        {
          "output_type": "stream",
          "name": "stdout",
          "text": [
            "<class 'pandas.core.frame.DataFrame'>\n",
            "RangeIndex: 17198 entries, 0 to 17197\n",
            "Data columns (total 7 columns):\n",
            " #   Column                       Non-Null Count  Dtype \n",
            "---  ------                       --------------  ----- \n",
            " 0   Rating                       17198 non-null  object\n",
            " 1   Review Title                 17198 non-null  object\n",
            " 2   Review                       17168 non-null  object\n",
            " 3   Location and Date of Review  17198 non-null  object\n",
            " 4   Affiliated Company           17198 non-null  object\n",
            " 5   Brand and Features           17198 non-null  object\n",
            " 6   Price                        17198 non-null  object\n",
            "dtypes: object(7)\n",
            "memory usage: 940.6+ KB\n"
          ]
        }
      ]
    },
    {
      "cell_type": "markdown",
      "source": [
        "# 4. Data Cleaning"
      ],
      "metadata": {
        "id": "ogkfBk-EHXkH"
      }
    },
    {
      "cell_type": "markdown",
      "source": [
        "## 4.1. Missing values\n",
        "- Checking for missing values\n"
      ],
      "metadata": {
        "id": "16LBkvdQ0c69"
      }
    },
    {
      "cell_type": "code",
      "source": [
        "# Define a function to get missing data\n",
        "def missing_data(data):\n",
        "    missing_data = data.isna().sum()\n",
        "    missing_data = missing_data[missing_data>0]\n",
        "    return missing_data"
      ],
      "metadata": {
        "id": "QKadLx5PUkN0"
      },
      "execution_count": 287,
      "outputs": []
    },
    {
      "cell_type": "code",
      "source": [
        "# Getting the sum of missing values per column\n",
        "\n",
        "missing_data(df).to_frame()"
      ],
      "metadata": {
        "id": "luUR9GWFHolO",
        "colab": {
          "base_uri": "https://localhost:8080/",
          "height": 81
        },
        "outputId": "a2363431-d17f-43d5-993c-60878c162941"
      },
      "execution_count": 288,
      "outputs": [
        {
          "output_type": "execute_result",
          "data": {
            "text/plain": [
              "         0\n",
              "Review  30"
            ],
            "text/html": [
              "\n",
              "  <div id=\"df-d2c90046-a22e-477e-a47f-f1f7ab3778da\">\n",
              "    <div class=\"colab-df-container\">\n",
              "      <div>\n",
              "<style scoped>\n",
              "    .dataframe tbody tr th:only-of-type {\n",
              "        vertical-align: middle;\n",
              "    }\n",
              "\n",
              "    .dataframe tbody tr th {\n",
              "        vertical-align: top;\n",
              "    }\n",
              "\n",
              "    .dataframe thead th {\n",
              "        text-align: right;\n",
              "    }\n",
              "</style>\n",
              "<table border=\"1\" class=\"dataframe\">\n",
              "  <thead>\n",
              "    <tr style=\"text-align: right;\">\n",
              "      <th></th>\n",
              "      <th>0</th>\n",
              "    </tr>\n",
              "  </thead>\n",
              "  <tbody>\n",
              "    <tr>\n",
              "      <th>Review</th>\n",
              "      <td>30</td>\n",
              "    </tr>\n",
              "  </tbody>\n",
              "</table>\n",
              "</div>\n",
              "      <button class=\"colab-df-convert\" onclick=\"convertToInteractive('df-d2c90046-a22e-477e-a47f-f1f7ab3778da')\"\n",
              "              title=\"Convert this dataframe to an interactive table.\"\n",
              "              style=\"display:none;\">\n",
              "        \n",
              "  <svg xmlns=\"http://www.w3.org/2000/svg\" height=\"24px\"viewBox=\"0 0 24 24\"\n",
              "       width=\"24px\">\n",
              "    <path d=\"M0 0h24v24H0V0z\" fill=\"none\"/>\n",
              "    <path d=\"M18.56 5.44l.94 2.06.94-2.06 2.06-.94-2.06-.94-.94-2.06-.94 2.06-2.06.94zm-11 1L8.5 8.5l.94-2.06 2.06-.94-2.06-.94L8.5 2.5l-.94 2.06-2.06.94zm10 10l.94 2.06.94-2.06 2.06-.94-2.06-.94-.94-2.06-.94 2.06-2.06.94z\"/><path d=\"M17.41 7.96l-1.37-1.37c-.4-.4-.92-.59-1.43-.59-.52 0-1.04.2-1.43.59L10.3 9.45l-7.72 7.72c-.78.78-.78 2.05 0 2.83L4 21.41c.39.39.9.59 1.41.59.51 0 1.02-.2 1.41-.59l7.78-7.78 2.81-2.81c.8-.78.8-2.07 0-2.86zM5.41 20L4 18.59l7.72-7.72 1.47 1.35L5.41 20z\"/>\n",
              "  </svg>\n",
              "      </button>\n",
              "      \n",
              "  <style>\n",
              "    .colab-df-container {\n",
              "      display:flex;\n",
              "      flex-wrap:wrap;\n",
              "      gap: 12px;\n",
              "    }\n",
              "\n",
              "    .colab-df-convert {\n",
              "      background-color: #E8F0FE;\n",
              "      border: none;\n",
              "      border-radius: 50%;\n",
              "      cursor: pointer;\n",
              "      display: none;\n",
              "      fill: #1967D2;\n",
              "      height: 32px;\n",
              "      padding: 0 0 0 0;\n",
              "      width: 32px;\n",
              "    }\n",
              "\n",
              "    .colab-df-convert:hover {\n",
              "      background-color: #E2EBFA;\n",
              "      box-shadow: 0px 1px 2px rgba(60, 64, 67, 0.3), 0px 1px 3px 1px rgba(60, 64, 67, 0.15);\n",
              "      fill: #174EA6;\n",
              "    }\n",
              "\n",
              "    [theme=dark] .colab-df-convert {\n",
              "      background-color: #3B4455;\n",
              "      fill: #D2E3FC;\n",
              "    }\n",
              "\n",
              "    [theme=dark] .colab-df-convert:hover {\n",
              "      background-color: #434B5C;\n",
              "      box-shadow: 0px 1px 3px 1px rgba(0, 0, 0, 0.15);\n",
              "      filter: drop-shadow(0px 1px 2px rgba(0, 0, 0, 0.3));\n",
              "      fill: #FFFFFF;\n",
              "    }\n",
              "  </style>\n",
              "\n",
              "      <script>\n",
              "        const buttonEl =\n",
              "          document.querySelector('#df-d2c90046-a22e-477e-a47f-f1f7ab3778da button.colab-df-convert');\n",
              "        buttonEl.style.display =\n",
              "          google.colab.kernel.accessAllowed ? 'block' : 'none';\n",
              "\n",
              "        async function convertToInteractive(key) {\n",
              "          const element = document.querySelector('#df-d2c90046-a22e-477e-a47f-f1f7ab3778da');\n",
              "          const dataTable =\n",
              "            await google.colab.kernel.invokeFunction('convertToInteractive',\n",
              "                                                     [key], {});\n",
              "          if (!dataTable) return;\n",
              "\n",
              "          const docLinkHtml = 'Like what you see? Visit the ' +\n",
              "            '<a target=\"_blank\" href=https://colab.research.google.com/notebooks/data_table.ipynb>data table notebook</a>'\n",
              "            + ' to learn more about interactive tables.';\n",
              "          element.innerHTML = '';\n",
              "          dataTable['output_type'] = 'display_data';\n",
              "          await google.colab.output.renderOutput(dataTable, element);\n",
              "          const docLink = document.createElement('div');\n",
              "          docLink.innerHTML = docLinkHtml;\n",
              "          element.appendChild(docLink);\n",
              "        }\n",
              "      </script>\n",
              "    </div>\n",
              "  </div>\n",
              "  "
            ]
          },
          "metadata": {},
          "execution_count": 288
        }
      ]
    },
    {
      "cell_type": "markdown",
      "source": [
        "Out of the 7 columns, only the review's column has missing values.\n",
        "\n",
        "Since the dataset is large, the missing values can be dropped and still retain relevant information."
      ],
      "metadata": {
        "id": "vQ8xJbnW2sVI"
      }
    },
    {
      "cell_type": "code",
      "source": [
        "# Dropping the missing values\n",
        "\n",
        "df.dropna(inplace = True)"
      ],
      "metadata": {
        "id": "8PJzGXBT4V5r"
      },
      "execution_count": 289,
      "outputs": []
    },
    {
      "cell_type": "code",
      "source": [
        "# Confirming there are no missing values \n",
        "\n",
        "missing_data(df).to_frame()"
      ],
      "metadata": {
        "id": "Avg1v8G34u05",
        "outputId": "315b1d2e-ee43-4ab9-a503-71cf7909daf4",
        "colab": {
          "base_uri": "https://localhost:8080/",
          "height": 49
        }
      },
      "execution_count": 290,
      "outputs": [
        {
          "output_type": "execute_result",
          "data": {
            "text/plain": [
              "Empty DataFrame\n",
              "Columns: [0]\n",
              "Index: []"
            ],
            "text/html": [
              "\n",
              "  <div id=\"df-d0d177da-4dd8-4ca7-b109-c43335cc3a81\">\n",
              "    <div class=\"colab-df-container\">\n",
              "      <div>\n",
              "<style scoped>\n",
              "    .dataframe tbody tr th:only-of-type {\n",
              "        vertical-align: middle;\n",
              "    }\n",
              "\n",
              "    .dataframe tbody tr th {\n",
              "        vertical-align: top;\n",
              "    }\n",
              "\n",
              "    .dataframe thead th {\n",
              "        text-align: right;\n",
              "    }\n",
              "</style>\n",
              "<table border=\"1\" class=\"dataframe\">\n",
              "  <thead>\n",
              "    <tr style=\"text-align: right;\">\n",
              "      <th></th>\n",
              "      <th>0</th>\n",
              "    </tr>\n",
              "  </thead>\n",
              "  <tbody>\n",
              "  </tbody>\n",
              "</table>\n",
              "</div>\n",
              "      <button class=\"colab-df-convert\" onclick=\"convertToInteractive('df-d0d177da-4dd8-4ca7-b109-c43335cc3a81')\"\n",
              "              title=\"Convert this dataframe to an interactive table.\"\n",
              "              style=\"display:none;\">\n",
              "        \n",
              "  <svg xmlns=\"http://www.w3.org/2000/svg\" height=\"24px\"viewBox=\"0 0 24 24\"\n",
              "       width=\"24px\">\n",
              "    <path d=\"M0 0h24v24H0V0z\" fill=\"none\"/>\n",
              "    <path d=\"M18.56 5.44l.94 2.06.94-2.06 2.06-.94-2.06-.94-.94-2.06-.94 2.06-2.06.94zm-11 1L8.5 8.5l.94-2.06 2.06-.94-2.06-.94L8.5 2.5l-.94 2.06-2.06.94zm10 10l.94 2.06.94-2.06 2.06-.94-2.06-.94-.94-2.06-.94 2.06-2.06.94z\"/><path d=\"M17.41 7.96l-1.37-1.37c-.4-.4-.92-.59-1.43-.59-.52 0-1.04.2-1.43.59L10.3 9.45l-7.72 7.72c-.78.78-.78 2.05 0 2.83L4 21.41c.39.39.9.59 1.41.59.51 0 1.02-.2 1.41-.59l7.78-7.78 2.81-2.81c.8-.78.8-2.07 0-2.86zM5.41 20L4 18.59l7.72-7.72 1.47 1.35L5.41 20z\"/>\n",
              "  </svg>\n",
              "      </button>\n",
              "      \n",
              "  <style>\n",
              "    .colab-df-container {\n",
              "      display:flex;\n",
              "      flex-wrap:wrap;\n",
              "      gap: 12px;\n",
              "    }\n",
              "\n",
              "    .colab-df-convert {\n",
              "      background-color: #E8F0FE;\n",
              "      border: none;\n",
              "      border-radius: 50%;\n",
              "      cursor: pointer;\n",
              "      display: none;\n",
              "      fill: #1967D2;\n",
              "      height: 32px;\n",
              "      padding: 0 0 0 0;\n",
              "      width: 32px;\n",
              "    }\n",
              "\n",
              "    .colab-df-convert:hover {\n",
              "      background-color: #E2EBFA;\n",
              "      box-shadow: 0px 1px 2px rgba(60, 64, 67, 0.3), 0px 1px 3px 1px rgba(60, 64, 67, 0.15);\n",
              "      fill: #174EA6;\n",
              "    }\n",
              "\n",
              "    [theme=dark] .colab-df-convert {\n",
              "      background-color: #3B4455;\n",
              "      fill: #D2E3FC;\n",
              "    }\n",
              "\n",
              "    [theme=dark] .colab-df-convert:hover {\n",
              "      background-color: #434B5C;\n",
              "      box-shadow: 0px 1px 3px 1px rgba(0, 0, 0, 0.15);\n",
              "      filter: drop-shadow(0px 1px 2px rgba(0, 0, 0, 0.3));\n",
              "      fill: #FFFFFF;\n",
              "    }\n",
              "  </style>\n",
              "\n",
              "      <script>\n",
              "        const buttonEl =\n",
              "          document.querySelector('#df-d0d177da-4dd8-4ca7-b109-c43335cc3a81 button.colab-df-convert');\n",
              "        buttonEl.style.display =\n",
              "          google.colab.kernel.accessAllowed ? 'block' : 'none';\n",
              "\n",
              "        async function convertToInteractive(key) {\n",
              "          const element = document.querySelector('#df-d0d177da-4dd8-4ca7-b109-c43335cc3a81');\n",
              "          const dataTable =\n",
              "            await google.colab.kernel.invokeFunction('convertToInteractive',\n",
              "                                                     [key], {});\n",
              "          if (!dataTable) return;\n",
              "\n",
              "          const docLinkHtml = 'Like what you see? Visit the ' +\n",
              "            '<a target=\"_blank\" href=https://colab.research.google.com/notebooks/data_table.ipynb>data table notebook</a>'\n",
              "            + ' to learn more about interactive tables.';\n",
              "          element.innerHTML = '';\n",
              "          dataTable['output_type'] = 'display_data';\n",
              "          await google.colab.output.renderOutput(dataTable, element);\n",
              "          const docLink = document.createElement('div');\n",
              "          docLink.innerHTML = docLinkHtml;\n",
              "          element.appendChild(docLink);\n",
              "        }\n",
              "      </script>\n",
              "    </div>\n",
              "  </div>\n",
              "  "
            ]
          },
          "metadata": {},
          "execution_count": 290
        }
      ]
    },
    {
      "cell_type": "markdown",
      "source": [
        "## 4.2. Duplicates"
      ],
      "metadata": {
        "id": "lZxUy1zi5b2I"
      }
    },
    {
      "cell_type": "code",
      "source": [
        "# Checking for duplicates\n",
        "\n",
        "print(f\"The data has {df.duplicated().sum()} duplicated rows\")"
      ],
      "metadata": {
        "id": "m2BfEKC35j8d",
        "outputId": "17c6388b-7bd4-49ce-d842-5915d9e9ee02",
        "colab": {
          "base_uri": "https://localhost:8080/"
        }
      },
      "execution_count": 291,
      "outputs": [
        {
          "output_type": "stream",
          "name": "stdout",
          "text": [
            "The data has 6595 duplicated rows\n"
          ]
        }
      ]
    },
    {
      "cell_type": "code",
      "source": [
        "# Exploring the duplicates\n",
        "\n",
        "duplicates = df[df.duplicated(keep = 'first')]\n",
        "\n",
        "duplicates.head(4)"
      ],
      "metadata": {
        "id": "rnivPaa451b1",
        "outputId": "709e21b8-8a84-4032-f9aa-ece43f6ac41c",
        "colab": {
          "base_uri": "https://localhost:8080/",
          "height": 306
        }
      },
      "execution_count": 292,
      "outputs": [
        {
          "output_type": "execute_result",
          "data": {
            "text/plain": [
              "                Rating                                       Review Title  \\\n",
              "30  4.0 out of 5 stars  \\n.. not what ordered, not New... but it works...   \n",
              "31  3.0 out of 5 stars  \\nNot for Cricket Wireless and this two review...   \n",
              "32  3.0 out of 5 stars               \\nWill not work on T-Mobile sysem!\\n   \n",
              "33  3.0 out of 5 stars                          \\nA burner or for a kid\\n   \n",
              "\n",
              "                                               Review  \\\n",
              "30  \\nSo first off...it's not what I ordered, but ...   \n",
              "31  \\nThe phone itself is a okay android device, b...   \n",
              "32  \\nNew phone write up indicates T-Mobile system...   \n",
              "33  \\nI use this as a burner w/o a sim card in it....   \n",
              "\n",
              "                          Location and Date of Review   Affiliated Company  \\\n",
              "30  Reviewed in the United States on February 11, ...  Visit the RCA Store   \n",
              "31  Reviewed in the United States on February 4, 2021  Visit the RCA Store   \n",
              "32      Reviewed in the United States on June 7, 2022  Visit the RCA Store   \n",
              "33    Reviewed in the United States on April 14, 2022  Visit the RCA Store   \n",
              "\n",
              "                                   Brand and Features   Price  \n",
              "30          RCA Reno Smartphone, 4G LTE, 16GB, And...  $69.99  \n",
              "31          RCA Reno Smartphone, 4G LTE, 16GB, And...  $69.99  \n",
              "32          RCA Reno Smartphone, 4G LTE, 16GB, And...  $69.99  \n",
              "33          RCA Reno Smartphone, 4G LTE, 16GB, And...  $69.99  "
            ],
            "text/html": [
              "\n",
              "  <div id=\"df-d13c216c-878a-4a1e-b4b7-4abef17e0832\">\n",
              "    <div class=\"colab-df-container\">\n",
              "      <div>\n",
              "<style scoped>\n",
              "    .dataframe tbody tr th:only-of-type {\n",
              "        vertical-align: middle;\n",
              "    }\n",
              "\n",
              "    .dataframe tbody tr th {\n",
              "        vertical-align: top;\n",
              "    }\n",
              "\n",
              "    .dataframe thead th {\n",
              "        text-align: right;\n",
              "    }\n",
              "</style>\n",
              "<table border=\"1\" class=\"dataframe\">\n",
              "  <thead>\n",
              "    <tr style=\"text-align: right;\">\n",
              "      <th></th>\n",
              "      <th>Rating</th>\n",
              "      <th>Review Title</th>\n",
              "      <th>Review</th>\n",
              "      <th>Location and Date of Review</th>\n",
              "      <th>Affiliated Company</th>\n",
              "      <th>Brand and Features</th>\n",
              "      <th>Price</th>\n",
              "    </tr>\n",
              "  </thead>\n",
              "  <tbody>\n",
              "    <tr>\n",
              "      <th>30</th>\n",
              "      <td>4.0 out of 5 stars</td>\n",
              "      <td>\\n.. not what ordered, not New... but it works...</td>\n",
              "      <td>\\nSo first off...it's not what I ordered, but ...</td>\n",
              "      <td>Reviewed in the United States on February 11, ...</td>\n",
              "      <td>Visit the RCA Store</td>\n",
              "      <td>RCA Reno Smartphone, 4G LTE, 16GB, And...</td>\n",
              "      <td>$69.99</td>\n",
              "    </tr>\n",
              "    <tr>\n",
              "      <th>31</th>\n",
              "      <td>3.0 out of 5 stars</td>\n",
              "      <td>\\nNot for Cricket Wireless and this two review...</td>\n",
              "      <td>\\nThe phone itself is a okay android device, b...</td>\n",
              "      <td>Reviewed in the United States on February 4, 2021</td>\n",
              "      <td>Visit the RCA Store</td>\n",
              "      <td>RCA Reno Smartphone, 4G LTE, 16GB, And...</td>\n",
              "      <td>$69.99</td>\n",
              "    </tr>\n",
              "    <tr>\n",
              "      <th>32</th>\n",
              "      <td>3.0 out of 5 stars</td>\n",
              "      <td>\\nWill not work on T-Mobile sysem!\\n</td>\n",
              "      <td>\\nNew phone write up indicates T-Mobile system...</td>\n",
              "      <td>Reviewed in the United States on June 7, 2022</td>\n",
              "      <td>Visit the RCA Store</td>\n",
              "      <td>RCA Reno Smartphone, 4G LTE, 16GB, And...</td>\n",
              "      <td>$69.99</td>\n",
              "    </tr>\n",
              "    <tr>\n",
              "      <th>33</th>\n",
              "      <td>3.0 out of 5 stars</td>\n",
              "      <td>\\nA burner or for a kid\\n</td>\n",
              "      <td>\\nI use this as a burner w/o a sim card in it....</td>\n",
              "      <td>Reviewed in the United States on April 14, 2022</td>\n",
              "      <td>Visit the RCA Store</td>\n",
              "      <td>RCA Reno Smartphone, 4G LTE, 16GB, And...</td>\n",
              "      <td>$69.99</td>\n",
              "    </tr>\n",
              "  </tbody>\n",
              "</table>\n",
              "</div>\n",
              "      <button class=\"colab-df-convert\" onclick=\"convertToInteractive('df-d13c216c-878a-4a1e-b4b7-4abef17e0832')\"\n",
              "              title=\"Convert this dataframe to an interactive table.\"\n",
              "              style=\"display:none;\">\n",
              "        \n",
              "  <svg xmlns=\"http://www.w3.org/2000/svg\" height=\"24px\"viewBox=\"0 0 24 24\"\n",
              "       width=\"24px\">\n",
              "    <path d=\"M0 0h24v24H0V0z\" fill=\"none\"/>\n",
              "    <path d=\"M18.56 5.44l.94 2.06.94-2.06 2.06-.94-2.06-.94-.94-2.06-.94 2.06-2.06.94zm-11 1L8.5 8.5l.94-2.06 2.06-.94-2.06-.94L8.5 2.5l-.94 2.06-2.06.94zm10 10l.94 2.06.94-2.06 2.06-.94-2.06-.94-.94-2.06-.94 2.06-2.06.94z\"/><path d=\"M17.41 7.96l-1.37-1.37c-.4-.4-.92-.59-1.43-.59-.52 0-1.04.2-1.43.59L10.3 9.45l-7.72 7.72c-.78.78-.78 2.05 0 2.83L4 21.41c.39.39.9.59 1.41.59.51 0 1.02-.2 1.41-.59l7.78-7.78 2.81-2.81c.8-.78.8-2.07 0-2.86zM5.41 20L4 18.59l7.72-7.72 1.47 1.35L5.41 20z\"/>\n",
              "  </svg>\n",
              "      </button>\n",
              "      \n",
              "  <style>\n",
              "    .colab-df-container {\n",
              "      display:flex;\n",
              "      flex-wrap:wrap;\n",
              "      gap: 12px;\n",
              "    }\n",
              "\n",
              "    .colab-df-convert {\n",
              "      background-color: #E8F0FE;\n",
              "      border: none;\n",
              "      border-radius: 50%;\n",
              "      cursor: pointer;\n",
              "      display: none;\n",
              "      fill: #1967D2;\n",
              "      height: 32px;\n",
              "      padding: 0 0 0 0;\n",
              "      width: 32px;\n",
              "    }\n",
              "\n",
              "    .colab-df-convert:hover {\n",
              "      background-color: #E2EBFA;\n",
              "      box-shadow: 0px 1px 2px rgba(60, 64, 67, 0.3), 0px 1px 3px 1px rgba(60, 64, 67, 0.15);\n",
              "      fill: #174EA6;\n",
              "    }\n",
              "\n",
              "    [theme=dark] .colab-df-convert {\n",
              "      background-color: #3B4455;\n",
              "      fill: #D2E3FC;\n",
              "    }\n",
              "\n",
              "    [theme=dark] .colab-df-convert:hover {\n",
              "      background-color: #434B5C;\n",
              "      box-shadow: 0px 1px 3px 1px rgba(0, 0, 0, 0.15);\n",
              "      filter: drop-shadow(0px 1px 2px rgba(0, 0, 0, 0.3));\n",
              "      fill: #FFFFFF;\n",
              "    }\n",
              "  </style>\n",
              "\n",
              "      <script>\n",
              "        const buttonEl =\n",
              "          document.querySelector('#df-d13c216c-878a-4a1e-b4b7-4abef17e0832 button.colab-df-convert');\n",
              "        buttonEl.style.display =\n",
              "          google.colab.kernel.accessAllowed ? 'block' : 'none';\n",
              "\n",
              "        async function convertToInteractive(key) {\n",
              "          const element = document.querySelector('#df-d13c216c-878a-4a1e-b4b7-4abef17e0832');\n",
              "          const dataTable =\n",
              "            await google.colab.kernel.invokeFunction('convertToInteractive',\n",
              "                                                     [key], {});\n",
              "          if (!dataTable) return;\n",
              "\n",
              "          const docLinkHtml = 'Like what you see? Visit the ' +\n",
              "            '<a target=\"_blank\" href=https://colab.research.google.com/notebooks/data_table.ipynb>data table notebook</a>'\n",
              "            + ' to learn more about interactive tables.';\n",
              "          element.innerHTML = '';\n",
              "          dataTable['output_type'] = 'display_data';\n",
              "          await google.colab.output.renderOutput(dataTable, element);\n",
              "          const docLink = document.createElement('div');\n",
              "          docLink.innerHTML = docLinkHtml;\n",
              "          element.appendChild(docLink);\n",
              "        }\n",
              "      </script>\n",
              "    </div>\n",
              "  </div>\n",
              "  "
            ]
          },
          "metadata": {},
          "execution_count": 292
        }
      ]
    },
    {
      "cell_type": "markdown",
      "source": [
        "Duplicated columns will be dropped to avoid it misguiding our analysis and prediction process."
      ],
      "metadata": {
        "id": "W2HufKDdSIgp"
      }
    },
    {
      "cell_type": "code",
      "source": [
        "# Dropping the duplicates\n",
        "\n",
        "df.drop_duplicates(inplace = True)\n",
        "\n",
        "\n"
      ],
      "metadata": {
        "id": "YzMVbiSgA8cn"
      },
      "execution_count": 293,
      "outputs": []
    },
    {
      "cell_type": "code",
      "source": [
        "# Confirming if there are duplicates\n",
        "\n",
        "df.duplicated().sum()"
      ],
      "metadata": {
        "id": "O-ugEsrTDdVP",
        "outputId": "a668b744-578e-4cd1-e3eb-c568dccab3ee",
        "colab": {
          "base_uri": "https://localhost:8080/"
        }
      },
      "execution_count": 294,
      "outputs": [
        {
          "output_type": "execute_result",
          "data": {
            "text/plain": [
              "0"
            ]
          },
          "metadata": {},
          "execution_count": 294
        }
      ]
    },
    {
      "cell_type": "markdown",
      "source": [
        "## 4.3. Cleaning Specific Columns"
      ],
      "metadata": {
        "id": "L4t22FzFCstP"
      }
    },
    {
      "cell_type": "markdown",
      "source": [
        "### 4.3.1. Rating Column\n",
        "\n",
        "For better analysis the rating value needs to be extracted and in a float/integer format."
      ],
      "metadata": {
        "id": "Ou1yvsXOC9hO"
      }
    },
    {
      "cell_type": "code",
      "source": [
        "#Extracting the digits in the Rating column and converting it to float type\n",
        "\n",
        "df[\"Rating\"] = df[\"Rating\"].str.extract('(\\d+)').astype(float)\n",
        "df[\"Rating\"].head().to_frame()"
      ],
      "metadata": {
        "colab": {
          "base_uri": "https://localhost:8080/",
          "height": 206
        },
        "id": "YwysQhyfC8HO",
        "outputId": "c3839f98-90b7-4310-8be5-16a903eb5d05"
      },
      "execution_count": 295,
      "outputs": [
        {
          "output_type": "execute_result",
          "data": {
            "text/plain": [
              "   Rating\n",
              "0     4.0\n",
              "1     3.0\n",
              "2     3.0\n",
              "3     3.0\n",
              "4     4.0"
            ],
            "text/html": [
              "\n",
              "  <div id=\"df-3224fae4-bbbd-4740-8976-221654de1638\">\n",
              "    <div class=\"colab-df-container\">\n",
              "      <div>\n",
              "<style scoped>\n",
              "    .dataframe tbody tr th:only-of-type {\n",
              "        vertical-align: middle;\n",
              "    }\n",
              "\n",
              "    .dataframe tbody tr th {\n",
              "        vertical-align: top;\n",
              "    }\n",
              "\n",
              "    .dataframe thead th {\n",
              "        text-align: right;\n",
              "    }\n",
              "</style>\n",
              "<table border=\"1\" class=\"dataframe\">\n",
              "  <thead>\n",
              "    <tr style=\"text-align: right;\">\n",
              "      <th></th>\n",
              "      <th>Rating</th>\n",
              "    </tr>\n",
              "  </thead>\n",
              "  <tbody>\n",
              "    <tr>\n",
              "      <th>0</th>\n",
              "      <td>4.0</td>\n",
              "    </tr>\n",
              "    <tr>\n",
              "      <th>1</th>\n",
              "      <td>3.0</td>\n",
              "    </tr>\n",
              "    <tr>\n",
              "      <th>2</th>\n",
              "      <td>3.0</td>\n",
              "    </tr>\n",
              "    <tr>\n",
              "      <th>3</th>\n",
              "      <td>3.0</td>\n",
              "    </tr>\n",
              "    <tr>\n",
              "      <th>4</th>\n",
              "      <td>4.0</td>\n",
              "    </tr>\n",
              "  </tbody>\n",
              "</table>\n",
              "</div>\n",
              "      <button class=\"colab-df-convert\" onclick=\"convertToInteractive('df-3224fae4-bbbd-4740-8976-221654de1638')\"\n",
              "              title=\"Convert this dataframe to an interactive table.\"\n",
              "              style=\"display:none;\">\n",
              "        \n",
              "  <svg xmlns=\"http://www.w3.org/2000/svg\" height=\"24px\"viewBox=\"0 0 24 24\"\n",
              "       width=\"24px\">\n",
              "    <path d=\"M0 0h24v24H0V0z\" fill=\"none\"/>\n",
              "    <path d=\"M18.56 5.44l.94 2.06.94-2.06 2.06-.94-2.06-.94-.94-2.06-.94 2.06-2.06.94zm-11 1L8.5 8.5l.94-2.06 2.06-.94-2.06-.94L8.5 2.5l-.94 2.06-2.06.94zm10 10l.94 2.06.94-2.06 2.06-.94-2.06-.94-.94-2.06-.94 2.06-2.06.94z\"/><path d=\"M17.41 7.96l-1.37-1.37c-.4-.4-.92-.59-1.43-.59-.52 0-1.04.2-1.43.59L10.3 9.45l-7.72 7.72c-.78.78-.78 2.05 0 2.83L4 21.41c.39.39.9.59 1.41.59.51 0 1.02-.2 1.41-.59l7.78-7.78 2.81-2.81c.8-.78.8-2.07 0-2.86zM5.41 20L4 18.59l7.72-7.72 1.47 1.35L5.41 20z\"/>\n",
              "  </svg>\n",
              "      </button>\n",
              "      \n",
              "  <style>\n",
              "    .colab-df-container {\n",
              "      display:flex;\n",
              "      flex-wrap:wrap;\n",
              "      gap: 12px;\n",
              "    }\n",
              "\n",
              "    .colab-df-convert {\n",
              "      background-color: #E8F0FE;\n",
              "      border: none;\n",
              "      border-radius: 50%;\n",
              "      cursor: pointer;\n",
              "      display: none;\n",
              "      fill: #1967D2;\n",
              "      height: 32px;\n",
              "      padding: 0 0 0 0;\n",
              "      width: 32px;\n",
              "    }\n",
              "\n",
              "    .colab-df-convert:hover {\n",
              "      background-color: #E2EBFA;\n",
              "      box-shadow: 0px 1px 2px rgba(60, 64, 67, 0.3), 0px 1px 3px 1px rgba(60, 64, 67, 0.15);\n",
              "      fill: #174EA6;\n",
              "    }\n",
              "\n",
              "    [theme=dark] .colab-df-convert {\n",
              "      background-color: #3B4455;\n",
              "      fill: #D2E3FC;\n",
              "    }\n",
              "\n",
              "    [theme=dark] .colab-df-convert:hover {\n",
              "      background-color: #434B5C;\n",
              "      box-shadow: 0px 1px 3px 1px rgba(0, 0, 0, 0.15);\n",
              "      filter: drop-shadow(0px 1px 2px rgba(0, 0, 0, 0.3));\n",
              "      fill: #FFFFFF;\n",
              "    }\n",
              "  </style>\n",
              "\n",
              "      <script>\n",
              "        const buttonEl =\n",
              "          document.querySelector('#df-3224fae4-bbbd-4740-8976-221654de1638 button.colab-df-convert');\n",
              "        buttonEl.style.display =\n",
              "          google.colab.kernel.accessAllowed ? 'block' : 'none';\n",
              "\n",
              "        async function convertToInteractive(key) {\n",
              "          const element = document.querySelector('#df-3224fae4-bbbd-4740-8976-221654de1638');\n",
              "          const dataTable =\n",
              "            await google.colab.kernel.invokeFunction('convertToInteractive',\n",
              "                                                     [key], {});\n",
              "          if (!dataTable) return;\n",
              "\n",
              "          const docLinkHtml = 'Like what you see? Visit the ' +\n",
              "            '<a target=\"_blank\" href=https://colab.research.google.com/notebooks/data_table.ipynb>data table notebook</a>'\n",
              "            + ' to learn more about interactive tables.';\n",
              "          element.innerHTML = '';\n",
              "          dataTable['output_type'] = 'display_data';\n",
              "          await google.colab.output.renderOutput(dataTable, element);\n",
              "          const docLink = document.createElement('div');\n",
              "          docLink.innerHTML = docLinkHtml;\n",
              "          element.appendChild(docLink);\n",
              "        }\n",
              "      </script>\n",
              "    </div>\n",
              "  </div>\n",
              "  "
            ]
          },
          "metadata": {},
          "execution_count": 295
        }
      ]
    },
    {
      "cell_type": "markdown",
      "source": [
        "\n",
        "The rating value was extracted from the column and converted into float data type"
      ],
      "metadata": {
        "id": "JbJQrXmDHTgK"
      }
    },
    {
      "cell_type": "markdown",
      "source": [
        "### 4.3.2. Price Column\n",
        "\n",
        "The price columns seems has a dollar sign which could affect analysis. It needs stripping and conversion to int/float"
      ],
      "metadata": {
        "id": "yWvsCrj8EWvN"
      }
    },
    {
      "cell_type": "code",
      "source": [
        "#Extracting the digits in the price column and converting it to integer\n",
        "\n",
        "df[\"Price\"] = df[\"Price\"].str.extract('(\\d+)').astype(int)\n",
        "\n",
        "df[\"Price\"].head().to_frame()"
      ],
      "metadata": {
        "colab": {
          "base_uri": "https://localhost:8080/",
          "height": 206
        },
        "id": "TN1oSnW8EdyW",
        "outputId": "89e21c9e-8149-475f-c206-9cac08e8a54c"
      },
      "execution_count": 296,
      "outputs": [
        {
          "output_type": "execute_result",
          "data": {
            "text/plain": [
              "   Price\n",
              "0     69\n",
              "1     69\n",
              "2     69\n",
              "3     69\n",
              "4     69"
            ],
            "text/html": [
              "\n",
              "  <div id=\"df-7070945c-ddb3-443d-ab71-440a243eba58\">\n",
              "    <div class=\"colab-df-container\">\n",
              "      <div>\n",
              "<style scoped>\n",
              "    .dataframe tbody tr th:only-of-type {\n",
              "        vertical-align: middle;\n",
              "    }\n",
              "\n",
              "    .dataframe tbody tr th {\n",
              "        vertical-align: top;\n",
              "    }\n",
              "\n",
              "    .dataframe thead th {\n",
              "        text-align: right;\n",
              "    }\n",
              "</style>\n",
              "<table border=\"1\" class=\"dataframe\">\n",
              "  <thead>\n",
              "    <tr style=\"text-align: right;\">\n",
              "      <th></th>\n",
              "      <th>Price</th>\n",
              "    </tr>\n",
              "  </thead>\n",
              "  <tbody>\n",
              "    <tr>\n",
              "      <th>0</th>\n",
              "      <td>69</td>\n",
              "    </tr>\n",
              "    <tr>\n",
              "      <th>1</th>\n",
              "      <td>69</td>\n",
              "    </tr>\n",
              "    <tr>\n",
              "      <th>2</th>\n",
              "      <td>69</td>\n",
              "    </tr>\n",
              "    <tr>\n",
              "      <th>3</th>\n",
              "      <td>69</td>\n",
              "    </tr>\n",
              "    <tr>\n",
              "      <th>4</th>\n",
              "      <td>69</td>\n",
              "    </tr>\n",
              "  </tbody>\n",
              "</table>\n",
              "</div>\n",
              "      <button class=\"colab-df-convert\" onclick=\"convertToInteractive('df-7070945c-ddb3-443d-ab71-440a243eba58')\"\n",
              "              title=\"Convert this dataframe to an interactive table.\"\n",
              "              style=\"display:none;\">\n",
              "        \n",
              "  <svg xmlns=\"http://www.w3.org/2000/svg\" height=\"24px\"viewBox=\"0 0 24 24\"\n",
              "       width=\"24px\">\n",
              "    <path d=\"M0 0h24v24H0V0z\" fill=\"none\"/>\n",
              "    <path d=\"M18.56 5.44l.94 2.06.94-2.06 2.06-.94-2.06-.94-.94-2.06-.94 2.06-2.06.94zm-11 1L8.5 8.5l.94-2.06 2.06-.94-2.06-.94L8.5 2.5l-.94 2.06-2.06.94zm10 10l.94 2.06.94-2.06 2.06-.94-2.06-.94-.94-2.06-.94 2.06-2.06.94z\"/><path d=\"M17.41 7.96l-1.37-1.37c-.4-.4-.92-.59-1.43-.59-.52 0-1.04.2-1.43.59L10.3 9.45l-7.72 7.72c-.78.78-.78 2.05 0 2.83L4 21.41c.39.39.9.59 1.41.59.51 0 1.02-.2 1.41-.59l7.78-7.78 2.81-2.81c.8-.78.8-2.07 0-2.86zM5.41 20L4 18.59l7.72-7.72 1.47 1.35L5.41 20z\"/>\n",
              "  </svg>\n",
              "      </button>\n",
              "      \n",
              "  <style>\n",
              "    .colab-df-container {\n",
              "      display:flex;\n",
              "      flex-wrap:wrap;\n",
              "      gap: 12px;\n",
              "    }\n",
              "\n",
              "    .colab-df-convert {\n",
              "      background-color: #E8F0FE;\n",
              "      border: none;\n",
              "      border-radius: 50%;\n",
              "      cursor: pointer;\n",
              "      display: none;\n",
              "      fill: #1967D2;\n",
              "      height: 32px;\n",
              "      padding: 0 0 0 0;\n",
              "      width: 32px;\n",
              "    }\n",
              "\n",
              "    .colab-df-convert:hover {\n",
              "      background-color: #E2EBFA;\n",
              "      box-shadow: 0px 1px 2px rgba(60, 64, 67, 0.3), 0px 1px 3px 1px rgba(60, 64, 67, 0.15);\n",
              "      fill: #174EA6;\n",
              "    }\n",
              "\n",
              "    [theme=dark] .colab-df-convert {\n",
              "      background-color: #3B4455;\n",
              "      fill: #D2E3FC;\n",
              "    }\n",
              "\n",
              "    [theme=dark] .colab-df-convert:hover {\n",
              "      background-color: #434B5C;\n",
              "      box-shadow: 0px 1px 3px 1px rgba(0, 0, 0, 0.15);\n",
              "      filter: drop-shadow(0px 1px 2px rgba(0, 0, 0, 0.3));\n",
              "      fill: #FFFFFF;\n",
              "    }\n",
              "  </style>\n",
              "\n",
              "      <script>\n",
              "        const buttonEl =\n",
              "          document.querySelector('#df-7070945c-ddb3-443d-ab71-440a243eba58 button.colab-df-convert');\n",
              "        buttonEl.style.display =\n",
              "          google.colab.kernel.accessAllowed ? 'block' : 'none';\n",
              "\n",
              "        async function convertToInteractive(key) {\n",
              "          const element = document.querySelector('#df-7070945c-ddb3-443d-ab71-440a243eba58');\n",
              "          const dataTable =\n",
              "            await google.colab.kernel.invokeFunction('convertToInteractive',\n",
              "                                                     [key], {});\n",
              "          if (!dataTable) return;\n",
              "\n",
              "          const docLinkHtml = 'Like what you see? Visit the ' +\n",
              "            '<a target=\"_blank\" href=https://colab.research.google.com/notebooks/data_table.ipynb>data table notebook</a>'\n",
              "            + ' to learn more about interactive tables.';\n",
              "          element.innerHTML = '';\n",
              "          dataTable['output_type'] = 'display_data';\n",
              "          await google.colab.output.renderOutput(dataTable, element);\n",
              "          const docLink = document.createElement('div');\n",
              "          docLink.innerHTML = docLinkHtml;\n",
              "          element.appendChild(docLink);\n",
              "        }\n",
              "      </script>\n",
              "    </div>\n",
              "  </div>\n",
              "  "
            ]
          },
          "metadata": {},
          "execution_count": 296
        }
      ]
    },
    {
      "cell_type": "markdown",
      "source": [
        "The dollar sign was removed and price column converted into integer data type"
      ],
      "metadata": {
        "id": "T4c6SmtGHp0z"
      }
    },
    {
      "cell_type": "markdown",
      "source": [
        "### 4.3.3. Affiliated company column"
      ],
      "metadata": {
        "id": "F-3HvtR_FsQh"
      }
    },
    {
      "cell_type": "code",
      "source": [
        "# Rename the column to brand name\n",
        "\n",
        "df.rename(columns = {\"Affiliated Company\":\"Brand\",\"Brand and Features\":\"Product_name\"},inplace = True)\n",
        "df.head(3)"
      ],
      "metadata": {
        "colab": {
          "base_uri": "https://localhost:8080/",
          "height": 239
        },
        "id": "ejerzM3MF6Yo",
        "outputId": "4571a466-fe29-45be-ae7f-73a6da184ee5"
      },
      "execution_count": 297,
      "outputs": [
        {
          "output_type": "execute_result",
          "data": {
            "text/plain": [
              "   Rating                                       Review Title  \\\n",
              "0     4.0  \\n.. not what ordered, not New... but it works...   \n",
              "1     3.0  \\nNot for Cricket Wireless and this two review...   \n",
              "2     3.0               \\nWill not work on T-Mobile sysem!\\n   \n",
              "\n",
              "                                              Review  \\\n",
              "0  \\nSo first off...it's not what I ordered, but ...   \n",
              "1  \\nThe phone itself is a okay android device, b...   \n",
              "2  \\nNew phone write up indicates T-Mobile system...   \n",
              "\n",
              "                         Location and Date of Review                Brand  \\\n",
              "0  Reviewed in the United States on February 11, ...  Visit the RCA Store   \n",
              "1  Reviewed in the United States on February 4, 2021  Visit the RCA Store   \n",
              "2      Reviewed in the United States on June 7, 2022  Visit the RCA Store   \n",
              "\n",
              "                                        Product_name  Price  \n",
              "0          RCA Reno Smartphone, 4G LTE, 16GB, And...     69  \n",
              "1          RCA Reno Smartphone, 4G LTE, 16GB, And...     69  \n",
              "2          RCA Reno Smartphone, 4G LTE, 16GB, And...     69  "
            ],
            "text/html": [
              "\n",
              "  <div id=\"df-2e4e34d5-be8a-4674-aadb-87171a27732a\">\n",
              "    <div class=\"colab-df-container\">\n",
              "      <div>\n",
              "<style scoped>\n",
              "    .dataframe tbody tr th:only-of-type {\n",
              "        vertical-align: middle;\n",
              "    }\n",
              "\n",
              "    .dataframe tbody tr th {\n",
              "        vertical-align: top;\n",
              "    }\n",
              "\n",
              "    .dataframe thead th {\n",
              "        text-align: right;\n",
              "    }\n",
              "</style>\n",
              "<table border=\"1\" class=\"dataframe\">\n",
              "  <thead>\n",
              "    <tr style=\"text-align: right;\">\n",
              "      <th></th>\n",
              "      <th>Rating</th>\n",
              "      <th>Review Title</th>\n",
              "      <th>Review</th>\n",
              "      <th>Location and Date of Review</th>\n",
              "      <th>Brand</th>\n",
              "      <th>Product_name</th>\n",
              "      <th>Price</th>\n",
              "    </tr>\n",
              "  </thead>\n",
              "  <tbody>\n",
              "    <tr>\n",
              "      <th>0</th>\n",
              "      <td>4.0</td>\n",
              "      <td>\\n.. not what ordered, not New... but it works...</td>\n",
              "      <td>\\nSo first off...it's not what I ordered, but ...</td>\n",
              "      <td>Reviewed in the United States on February 11, ...</td>\n",
              "      <td>Visit the RCA Store</td>\n",
              "      <td>RCA Reno Smartphone, 4G LTE, 16GB, And...</td>\n",
              "      <td>69</td>\n",
              "    </tr>\n",
              "    <tr>\n",
              "      <th>1</th>\n",
              "      <td>3.0</td>\n",
              "      <td>\\nNot for Cricket Wireless and this two review...</td>\n",
              "      <td>\\nThe phone itself is a okay android device, b...</td>\n",
              "      <td>Reviewed in the United States on February 4, 2021</td>\n",
              "      <td>Visit the RCA Store</td>\n",
              "      <td>RCA Reno Smartphone, 4G LTE, 16GB, And...</td>\n",
              "      <td>69</td>\n",
              "    </tr>\n",
              "    <tr>\n",
              "      <th>2</th>\n",
              "      <td>3.0</td>\n",
              "      <td>\\nWill not work on T-Mobile sysem!\\n</td>\n",
              "      <td>\\nNew phone write up indicates T-Mobile system...</td>\n",
              "      <td>Reviewed in the United States on June 7, 2022</td>\n",
              "      <td>Visit the RCA Store</td>\n",
              "      <td>RCA Reno Smartphone, 4G LTE, 16GB, And...</td>\n",
              "      <td>69</td>\n",
              "    </tr>\n",
              "  </tbody>\n",
              "</table>\n",
              "</div>\n",
              "      <button class=\"colab-df-convert\" onclick=\"convertToInteractive('df-2e4e34d5-be8a-4674-aadb-87171a27732a')\"\n",
              "              title=\"Convert this dataframe to an interactive table.\"\n",
              "              style=\"display:none;\">\n",
              "        \n",
              "  <svg xmlns=\"http://www.w3.org/2000/svg\" height=\"24px\"viewBox=\"0 0 24 24\"\n",
              "       width=\"24px\">\n",
              "    <path d=\"M0 0h24v24H0V0z\" fill=\"none\"/>\n",
              "    <path d=\"M18.56 5.44l.94 2.06.94-2.06 2.06-.94-2.06-.94-.94-2.06-.94 2.06-2.06.94zm-11 1L8.5 8.5l.94-2.06 2.06-.94-2.06-.94L8.5 2.5l-.94 2.06-2.06.94zm10 10l.94 2.06.94-2.06 2.06-.94-2.06-.94-.94-2.06-.94 2.06-2.06.94z\"/><path d=\"M17.41 7.96l-1.37-1.37c-.4-.4-.92-.59-1.43-.59-.52 0-1.04.2-1.43.59L10.3 9.45l-7.72 7.72c-.78.78-.78 2.05 0 2.83L4 21.41c.39.39.9.59 1.41.59.51 0 1.02-.2 1.41-.59l7.78-7.78 2.81-2.81c.8-.78.8-2.07 0-2.86zM5.41 20L4 18.59l7.72-7.72 1.47 1.35L5.41 20z\"/>\n",
              "  </svg>\n",
              "      </button>\n",
              "      \n",
              "  <style>\n",
              "    .colab-df-container {\n",
              "      display:flex;\n",
              "      flex-wrap:wrap;\n",
              "      gap: 12px;\n",
              "    }\n",
              "\n",
              "    .colab-df-convert {\n",
              "      background-color: #E8F0FE;\n",
              "      border: none;\n",
              "      border-radius: 50%;\n",
              "      cursor: pointer;\n",
              "      display: none;\n",
              "      fill: #1967D2;\n",
              "      height: 32px;\n",
              "      padding: 0 0 0 0;\n",
              "      width: 32px;\n",
              "    }\n",
              "\n",
              "    .colab-df-convert:hover {\n",
              "      background-color: #E2EBFA;\n",
              "      box-shadow: 0px 1px 2px rgba(60, 64, 67, 0.3), 0px 1px 3px 1px rgba(60, 64, 67, 0.15);\n",
              "      fill: #174EA6;\n",
              "    }\n",
              "\n",
              "    [theme=dark] .colab-df-convert {\n",
              "      background-color: #3B4455;\n",
              "      fill: #D2E3FC;\n",
              "    }\n",
              "\n",
              "    [theme=dark] .colab-df-convert:hover {\n",
              "      background-color: #434B5C;\n",
              "      box-shadow: 0px 1px 3px 1px rgba(0, 0, 0, 0.15);\n",
              "      filter: drop-shadow(0px 1px 2px rgba(0, 0, 0, 0.3));\n",
              "      fill: #FFFFFF;\n",
              "    }\n",
              "  </style>\n",
              "\n",
              "      <script>\n",
              "        const buttonEl =\n",
              "          document.querySelector('#df-2e4e34d5-be8a-4674-aadb-87171a27732a button.colab-df-convert');\n",
              "        buttonEl.style.display =\n",
              "          google.colab.kernel.accessAllowed ? 'block' : 'none';\n",
              "\n",
              "        async function convertToInteractive(key) {\n",
              "          const element = document.querySelector('#df-2e4e34d5-be8a-4674-aadb-87171a27732a');\n",
              "          const dataTable =\n",
              "            await google.colab.kernel.invokeFunction('convertToInteractive',\n",
              "                                                     [key], {});\n",
              "          if (!dataTable) return;\n",
              "\n",
              "          const docLinkHtml = 'Like what you see? Visit the ' +\n",
              "            '<a target=\"_blank\" href=https://colab.research.google.com/notebooks/data_table.ipynb>data table notebook</a>'\n",
              "            + ' to learn more about interactive tables.';\n",
              "          element.innerHTML = '';\n",
              "          dataTable['output_type'] = 'display_data';\n",
              "          await google.colab.output.renderOutput(dataTable, element);\n",
              "          const docLink = document.createElement('div');\n",
              "          docLink.innerHTML = docLinkHtml;\n",
              "          element.appendChild(docLink);\n",
              "        }\n",
              "      </script>\n",
              "    </div>\n",
              "  </div>\n",
              "  "
            ]
          },
          "metadata": {},
          "execution_count": 297
        }
      ]
    },
    {
      "cell_type": "markdown",
      "source": [
        "The columns affiliated company and brand&features was renamed to brand and product name respectively."
      ],
      "metadata": {
        "id": "85jvINy1H3Wt"
      }
    },
    {
      "cell_type": "code",
      "source": [
        "#Getting the value counts for the brand column\n",
        "\n",
        "df['Brand'].value_counts().to_frame()"
      ],
      "metadata": {
        "colab": {
          "base_uri": "https://localhost:8080/",
          "height": 802
        },
        "id": "0xeHNfk_IKQn",
        "outputId": "91f538a1-00be-4b55-fe9f-385e2627b695"
      },
      "execution_count": 298,
      "outputs": [
        {
          "output_type": "execute_result",
          "data": {
            "text/plain": [
              "                                Brand\n",
              "Visit the Amazon Renewed Store   1747\n",
              "Brand: Motorola                  1578\n",
              "Visit the BLU Store              1544\n",
              "Visit the TCL Store              1448\n",
              "Brand: Amazon Renewed             989\n",
              "Visit the OnePlus Store           684\n",
              "Visit the SAMSUNG Store           522\n",
              "Visit the Nokia Store             492\n",
              "Visit the Google Store            389\n",
              "Visit the JTEMAN Store            263\n",
              "Visit the RCA Store               252\n",
              "Visit the TracFone Store          140\n",
              "Visit the NUU Store                93\n",
              "Brand: Nokia                       84\n",
              "Visit the Dilwe Store              62\n",
              "Visit the Black Shark Store        55\n",
              "Visit the Ulefone Store            51\n",
              "Visit the OUKITEL Store            46\n",
              "Visit the UMIDIGI Store            40\n",
              "Visit the Easyfone Store           30\n",
              "Visit the Punkt. Store             23\n",
              "Visit the CUBOT Store              14\n",
              "Brand: Hipipooo                    14\n",
              "Visit the total wireless Store     13"
            ],
            "text/html": [
              "\n",
              "  <div id=\"df-8198ccc3-ecba-493e-8bdc-0dfa47c9e99c\">\n",
              "    <div class=\"colab-df-container\">\n",
              "      <div>\n",
              "<style scoped>\n",
              "    .dataframe tbody tr th:only-of-type {\n",
              "        vertical-align: middle;\n",
              "    }\n",
              "\n",
              "    .dataframe tbody tr th {\n",
              "        vertical-align: top;\n",
              "    }\n",
              "\n",
              "    .dataframe thead th {\n",
              "        text-align: right;\n",
              "    }\n",
              "</style>\n",
              "<table border=\"1\" class=\"dataframe\">\n",
              "  <thead>\n",
              "    <tr style=\"text-align: right;\">\n",
              "      <th></th>\n",
              "      <th>Brand</th>\n",
              "    </tr>\n",
              "  </thead>\n",
              "  <tbody>\n",
              "    <tr>\n",
              "      <th>Visit the Amazon Renewed Store</th>\n",
              "      <td>1747</td>\n",
              "    </tr>\n",
              "    <tr>\n",
              "      <th>Brand: Motorola</th>\n",
              "      <td>1578</td>\n",
              "    </tr>\n",
              "    <tr>\n",
              "      <th>Visit the BLU Store</th>\n",
              "      <td>1544</td>\n",
              "    </tr>\n",
              "    <tr>\n",
              "      <th>Visit the TCL Store</th>\n",
              "      <td>1448</td>\n",
              "    </tr>\n",
              "    <tr>\n",
              "      <th>Brand: Amazon Renewed</th>\n",
              "      <td>989</td>\n",
              "    </tr>\n",
              "    <tr>\n",
              "      <th>Visit the OnePlus Store</th>\n",
              "      <td>684</td>\n",
              "    </tr>\n",
              "    <tr>\n",
              "      <th>Visit the SAMSUNG Store</th>\n",
              "      <td>522</td>\n",
              "    </tr>\n",
              "    <tr>\n",
              "      <th>Visit the Nokia Store</th>\n",
              "      <td>492</td>\n",
              "    </tr>\n",
              "    <tr>\n",
              "      <th>Visit the Google Store</th>\n",
              "      <td>389</td>\n",
              "    </tr>\n",
              "    <tr>\n",
              "      <th>Visit the JTEMAN Store</th>\n",
              "      <td>263</td>\n",
              "    </tr>\n",
              "    <tr>\n",
              "      <th>Visit the RCA Store</th>\n",
              "      <td>252</td>\n",
              "    </tr>\n",
              "    <tr>\n",
              "      <th>Visit the TracFone Store</th>\n",
              "      <td>140</td>\n",
              "    </tr>\n",
              "    <tr>\n",
              "      <th>Visit the NUU Store</th>\n",
              "      <td>93</td>\n",
              "    </tr>\n",
              "    <tr>\n",
              "      <th>Brand: Nokia</th>\n",
              "      <td>84</td>\n",
              "    </tr>\n",
              "    <tr>\n",
              "      <th>Visit the Dilwe Store</th>\n",
              "      <td>62</td>\n",
              "    </tr>\n",
              "    <tr>\n",
              "      <th>Visit the Black Shark Store</th>\n",
              "      <td>55</td>\n",
              "    </tr>\n",
              "    <tr>\n",
              "      <th>Visit the Ulefone Store</th>\n",
              "      <td>51</td>\n",
              "    </tr>\n",
              "    <tr>\n",
              "      <th>Visit the OUKITEL Store</th>\n",
              "      <td>46</td>\n",
              "    </tr>\n",
              "    <tr>\n",
              "      <th>Visit the UMIDIGI Store</th>\n",
              "      <td>40</td>\n",
              "    </tr>\n",
              "    <tr>\n",
              "      <th>Visit the Easyfone Store</th>\n",
              "      <td>30</td>\n",
              "    </tr>\n",
              "    <tr>\n",
              "      <th>Visit the Punkt. Store</th>\n",
              "      <td>23</td>\n",
              "    </tr>\n",
              "    <tr>\n",
              "      <th>Visit the CUBOT Store</th>\n",
              "      <td>14</td>\n",
              "    </tr>\n",
              "    <tr>\n",
              "      <th>Brand: Hipipooo</th>\n",
              "      <td>14</td>\n",
              "    </tr>\n",
              "    <tr>\n",
              "      <th>Visit the total wireless Store</th>\n",
              "      <td>13</td>\n",
              "    </tr>\n",
              "  </tbody>\n",
              "</table>\n",
              "</div>\n",
              "      <button class=\"colab-df-convert\" onclick=\"convertToInteractive('df-8198ccc3-ecba-493e-8bdc-0dfa47c9e99c')\"\n",
              "              title=\"Convert this dataframe to an interactive table.\"\n",
              "              style=\"display:none;\">\n",
              "        \n",
              "  <svg xmlns=\"http://www.w3.org/2000/svg\" height=\"24px\"viewBox=\"0 0 24 24\"\n",
              "       width=\"24px\">\n",
              "    <path d=\"M0 0h24v24H0V0z\" fill=\"none\"/>\n",
              "    <path d=\"M18.56 5.44l.94 2.06.94-2.06 2.06-.94-2.06-.94-.94-2.06-.94 2.06-2.06.94zm-11 1L8.5 8.5l.94-2.06 2.06-.94-2.06-.94L8.5 2.5l-.94 2.06-2.06.94zm10 10l.94 2.06.94-2.06 2.06-.94-2.06-.94-.94-2.06-.94 2.06-2.06.94z\"/><path d=\"M17.41 7.96l-1.37-1.37c-.4-.4-.92-.59-1.43-.59-.52 0-1.04.2-1.43.59L10.3 9.45l-7.72 7.72c-.78.78-.78 2.05 0 2.83L4 21.41c.39.39.9.59 1.41.59.51 0 1.02-.2 1.41-.59l7.78-7.78 2.81-2.81c.8-.78.8-2.07 0-2.86zM5.41 20L4 18.59l7.72-7.72 1.47 1.35L5.41 20z\"/>\n",
              "  </svg>\n",
              "      </button>\n",
              "      \n",
              "  <style>\n",
              "    .colab-df-container {\n",
              "      display:flex;\n",
              "      flex-wrap:wrap;\n",
              "      gap: 12px;\n",
              "    }\n",
              "\n",
              "    .colab-df-convert {\n",
              "      background-color: #E8F0FE;\n",
              "      border: none;\n",
              "      border-radius: 50%;\n",
              "      cursor: pointer;\n",
              "      display: none;\n",
              "      fill: #1967D2;\n",
              "      height: 32px;\n",
              "      padding: 0 0 0 0;\n",
              "      width: 32px;\n",
              "    }\n",
              "\n",
              "    .colab-df-convert:hover {\n",
              "      background-color: #E2EBFA;\n",
              "      box-shadow: 0px 1px 2px rgba(60, 64, 67, 0.3), 0px 1px 3px 1px rgba(60, 64, 67, 0.15);\n",
              "      fill: #174EA6;\n",
              "    }\n",
              "\n",
              "    [theme=dark] .colab-df-convert {\n",
              "      background-color: #3B4455;\n",
              "      fill: #D2E3FC;\n",
              "    }\n",
              "\n",
              "    [theme=dark] .colab-df-convert:hover {\n",
              "      background-color: #434B5C;\n",
              "      box-shadow: 0px 1px 3px 1px rgba(0, 0, 0, 0.15);\n",
              "      filter: drop-shadow(0px 1px 2px rgba(0, 0, 0, 0.3));\n",
              "      fill: #FFFFFF;\n",
              "    }\n",
              "  </style>\n",
              "\n",
              "      <script>\n",
              "        const buttonEl =\n",
              "          document.querySelector('#df-8198ccc3-ecba-493e-8bdc-0dfa47c9e99c button.colab-df-convert');\n",
              "        buttonEl.style.display =\n",
              "          google.colab.kernel.accessAllowed ? 'block' : 'none';\n",
              "\n",
              "        async function convertToInteractive(key) {\n",
              "          const element = document.querySelector('#df-8198ccc3-ecba-493e-8bdc-0dfa47c9e99c');\n",
              "          const dataTable =\n",
              "            await google.colab.kernel.invokeFunction('convertToInteractive',\n",
              "                                                     [key], {});\n",
              "          if (!dataTable) return;\n",
              "\n",
              "          const docLinkHtml = 'Like what you see? Visit the ' +\n",
              "            '<a target=\"_blank\" href=https://colab.research.google.com/notebooks/data_table.ipynb>data table notebook</a>'\n",
              "            + ' to learn more about interactive tables.';\n",
              "          element.innerHTML = '';\n",
              "          dataTable['output_type'] = 'display_data';\n",
              "          await google.colab.output.renderOutput(dataTable, element);\n",
              "          const docLink = document.createElement('div');\n",
              "          docLink.innerHTML = docLinkHtml;\n",
              "          element.appendChild(docLink);\n",
              "        }\n",
              "      </script>\n",
              "    </div>\n",
              "  </div>\n",
              "  "
            ]
          },
          "metadata": {},
          "execution_count": 298
        }
      ]
    },
    {
      "cell_type": "markdown",
      "source": [
        "- The brand name will be extracted.\n",
        "- white space will be stripped.\n",
        "- refurbished phones will be renamed into one name"
      ],
      "metadata": {
        "id": "S_HcTlrDV5RC"
      }
    },
    {
      "cell_type": "code",
      "source": [
        "# Removing unnecessary words from the column to get the brand name\n",
        "word_vocabulary = ['Visit', 'the', 'store', 'Brand:', 'Store']\n",
        "for word in word_vocabulary:\n",
        "    df['Brand'] = df['Brand'].str.replace(word, '')\n",
        "\n",
        "# Removing all the white spaces\n",
        "df['Brand'] = df['Brand'].str.strip()\n",
        "\n",
        "# Renaming the amazon renewed with refurbished\n",
        "df['Brand'] = df['Brand'].str.replace('Amazon Renewed','Amazon Refurbished')  "
      ],
      "metadata": {
        "id": "eLKgj4vJMDZZ"
      },
      "execution_count": 299,
      "outputs": []
    },
    {
      "cell_type": "markdown",
      "source": [
        "### 4.3.4. Product_name column\n",
        "\n",
        "product name column model name in it. It will be stripped into a new column. \n",
        "Some of the model names have the word smartphone that will be stripped as well."
      ],
      "metadata": {
        "id": "tcCCJ2E9Puwo"
      }
    },
    {
      "cell_type": "code",
      "source": [
        "#removing punctuations from the column\n",
        "\n",
        "df['Product_name'] = df['Product_name'].str.replace(r\"\\(.*\\)\",\"\", regex=True)\n",
        "df['Product_name'] = df['Product_name'].str.replace('-',\"\", regex=True)\n",
        "df['Product_name'] = df['Product_name'].str.replace(',',\"\", regex=True)\n",
        "df['Product_name'] = df['Product_name'].str.replace('|',\"\", regex=True)\n",
        "\n",
        "#Splitting the strings in this column into different columns\n",
        "\n",
        "string_cols = df[\"Product_name\"].str.split(\" \", n = -1, expand = True)\n",
        "\n",
        "#selecting on the first three words of the string that will form the phone type\n",
        "df[\"first_word\"] = string_cols[8]\n",
        "df[\"middle_word\"] = string_cols[9]\n",
        "df[\"last_word\"] = string_cols[10]\n",
        "\n",
        "#copying the two other columns so as to allow concactination\n",
        "new1 = df[\"middle_word\"].copy()\n",
        "new2 = df[\"last_word\"].copy()\n",
        " \n",
        "# concatenating team with name column\n",
        "# overwriting name column\n",
        "df[\"Model_Type\"]= df[\"first_word\"].str.cat(new1, sep =\" \")\n",
        "df[\"Model_Type\"]= df[\"Model_Type\"].str.cat(new2, sep =\" \")\n",
        "df.drop([\"first_word\", \"middle_word\", \"last_word\"], axis=1, inplace=True)\n",
        "\n",
        "# Removing unnecessary words from the model type column\n",
        "word_vocabulary = ['Smartphone']\n",
        "for word in word_vocabulary:\n",
        "    df['Model_Type'] = df['Model_Type'].str.replace(word, '')\n"
      ],
      "metadata": {
        "id": "Q-odwaTDPuRf"
      },
      "execution_count": 300,
      "outputs": []
    },
    {
      "cell_type": "markdown",
      "source": [
        "### 4.3.5. Review Title and Review \n",
        "\n",
        "Review and Review Title have some rows that are not in Egnlish. \n",
        "These rows will be dropped.\n"
      ],
      "metadata": {
        "id": "_kVybmDXc_ZO"
      }
    },
    {
      "cell_type": "code",
      "source": [
        "# Explore review title rows not in English\n",
        "df['Review Title'].iloc[7:10].to_frame()"
      ],
      "metadata": {
        "id": "GyNtS3sfaJch",
        "outputId": "06abd6b6-cf38-4598-b10d-602608308b2d",
        "colab": {
          "base_uri": "https://localhost:8080/",
          "height": 143
        }
      },
      "execution_count": 302,
      "outputs": [
        {
          "output_type": "execute_result",
          "data": {
            "text/plain": [
              "                                        Review Title\n",
              "7                                   \\nBuena Compra\\n\n",
              "8                                \\nEso no me gustó\\n\n",
              "9  \\nDemasiado básico y lento, bajo costo pero no..."
            ],
            "text/html": [
              "\n",
              "  <div id=\"df-49ed37f9-3e5e-4a61-85ea-3776eddc9cc9\">\n",
              "    <div class=\"colab-df-container\">\n",
              "      <div>\n",
              "<style scoped>\n",
              "    .dataframe tbody tr th:only-of-type {\n",
              "        vertical-align: middle;\n",
              "    }\n",
              "\n",
              "    .dataframe tbody tr th {\n",
              "        vertical-align: top;\n",
              "    }\n",
              "\n",
              "    .dataframe thead th {\n",
              "        text-align: right;\n",
              "    }\n",
              "</style>\n",
              "<table border=\"1\" class=\"dataframe\">\n",
              "  <thead>\n",
              "    <tr style=\"text-align: right;\">\n",
              "      <th></th>\n",
              "      <th>Review Title</th>\n",
              "    </tr>\n",
              "  </thead>\n",
              "  <tbody>\n",
              "    <tr>\n",
              "      <th>7</th>\n",
              "      <td>\\nBuena Compra\\n</td>\n",
              "    </tr>\n",
              "    <tr>\n",
              "      <th>8</th>\n",
              "      <td>\\nEso no me gustó\\n</td>\n",
              "    </tr>\n",
              "    <tr>\n",
              "      <th>9</th>\n",
              "      <td>\\nDemasiado básico y lento, bajo costo pero no...</td>\n",
              "    </tr>\n",
              "  </tbody>\n",
              "</table>\n",
              "</div>\n",
              "      <button class=\"colab-df-convert\" onclick=\"convertToInteractive('df-49ed37f9-3e5e-4a61-85ea-3776eddc9cc9')\"\n",
              "              title=\"Convert this dataframe to an interactive table.\"\n",
              "              style=\"display:none;\">\n",
              "        \n",
              "  <svg xmlns=\"http://www.w3.org/2000/svg\" height=\"24px\"viewBox=\"0 0 24 24\"\n",
              "       width=\"24px\">\n",
              "    <path d=\"M0 0h24v24H0V0z\" fill=\"none\"/>\n",
              "    <path d=\"M18.56 5.44l.94 2.06.94-2.06 2.06-.94-2.06-.94-.94-2.06-.94 2.06-2.06.94zm-11 1L8.5 8.5l.94-2.06 2.06-.94-2.06-.94L8.5 2.5l-.94 2.06-2.06.94zm10 10l.94 2.06.94-2.06 2.06-.94-2.06-.94-.94-2.06-.94 2.06-2.06.94z\"/><path d=\"M17.41 7.96l-1.37-1.37c-.4-.4-.92-.59-1.43-.59-.52 0-1.04.2-1.43.59L10.3 9.45l-7.72 7.72c-.78.78-.78 2.05 0 2.83L4 21.41c.39.39.9.59 1.41.59.51 0 1.02-.2 1.41-.59l7.78-7.78 2.81-2.81c.8-.78.8-2.07 0-2.86zM5.41 20L4 18.59l7.72-7.72 1.47 1.35L5.41 20z\"/>\n",
              "  </svg>\n",
              "      </button>\n",
              "      \n",
              "  <style>\n",
              "    .colab-df-container {\n",
              "      display:flex;\n",
              "      flex-wrap:wrap;\n",
              "      gap: 12px;\n",
              "    }\n",
              "\n",
              "    .colab-df-convert {\n",
              "      background-color: #E8F0FE;\n",
              "      border: none;\n",
              "      border-radius: 50%;\n",
              "      cursor: pointer;\n",
              "      display: none;\n",
              "      fill: #1967D2;\n",
              "      height: 32px;\n",
              "      padding: 0 0 0 0;\n",
              "      width: 32px;\n",
              "    }\n",
              "\n",
              "    .colab-df-convert:hover {\n",
              "      background-color: #E2EBFA;\n",
              "      box-shadow: 0px 1px 2px rgba(60, 64, 67, 0.3), 0px 1px 3px 1px rgba(60, 64, 67, 0.15);\n",
              "      fill: #174EA6;\n",
              "    }\n",
              "\n",
              "    [theme=dark] .colab-df-convert {\n",
              "      background-color: #3B4455;\n",
              "      fill: #D2E3FC;\n",
              "    }\n",
              "\n",
              "    [theme=dark] .colab-df-convert:hover {\n",
              "      background-color: #434B5C;\n",
              "      box-shadow: 0px 1px 3px 1px rgba(0, 0, 0, 0.15);\n",
              "      filter: drop-shadow(0px 1px 2px rgba(0, 0, 0, 0.3));\n",
              "      fill: #FFFFFF;\n",
              "    }\n",
              "  </style>\n",
              "\n",
              "      <script>\n",
              "        const buttonEl =\n",
              "          document.querySelector('#df-49ed37f9-3e5e-4a61-85ea-3776eddc9cc9 button.colab-df-convert');\n",
              "        buttonEl.style.display =\n",
              "          google.colab.kernel.accessAllowed ? 'block' : 'none';\n",
              "\n",
              "        async function convertToInteractive(key) {\n",
              "          const element = document.querySelector('#df-49ed37f9-3e5e-4a61-85ea-3776eddc9cc9');\n",
              "          const dataTable =\n",
              "            await google.colab.kernel.invokeFunction('convertToInteractive',\n",
              "                                                     [key], {});\n",
              "          if (!dataTable) return;\n",
              "\n",
              "          const docLinkHtml = 'Like what you see? Visit the ' +\n",
              "            '<a target=\"_blank\" href=https://colab.research.google.com/notebooks/data_table.ipynb>data table notebook</a>'\n",
              "            + ' to learn more about interactive tables.';\n",
              "          element.innerHTML = '';\n",
              "          dataTable['output_type'] = 'display_data';\n",
              "          await google.colab.output.renderOutput(dataTable, element);\n",
              "          const docLink = document.createElement('div');\n",
              "          docLink.innerHTML = docLinkHtml;\n",
              "          element.appendChild(docLink);\n",
              "        }\n",
              "      </script>\n",
              "    </div>\n",
              "  </div>\n",
              "  "
            ]
          },
          "metadata": {},
          "execution_count": 302
        }
      ]
    },
    {
      "cell_type": "code",
      "source": [
        "# Explore review rows not in English\n",
        "df['Review'].iloc[7:10].to_frame()"
      ],
      "metadata": {
        "id": "4ya8K_x5bgRh",
        "outputId": "4bceff37-1ca7-4794-eb10-102c7b9d844d",
        "colab": {
          "base_uri": "https://localhost:8080/",
          "height": 143
        }
      },
      "execution_count": 303,
      "outputs": [
        {
          "output_type": "execute_result",
          "data": {
            "text/plain": [
              "                                              Review\n",
              "7  \\nTal. Como està descrito….Todo lo necesario a...\n",
              "8           \\nNo vale la pena gastar dinero en el.\\n\n",
              "9  \\nDemasiado básico y lento, bajo costo pero no..."
            ],
            "text/html": [
              "\n",
              "  <div id=\"df-18222867-1947-4b18-83a0-09a75736547d\">\n",
              "    <div class=\"colab-df-container\">\n",
              "      <div>\n",
              "<style scoped>\n",
              "    .dataframe tbody tr th:only-of-type {\n",
              "        vertical-align: middle;\n",
              "    }\n",
              "\n",
              "    .dataframe tbody tr th {\n",
              "        vertical-align: top;\n",
              "    }\n",
              "\n",
              "    .dataframe thead th {\n",
              "        text-align: right;\n",
              "    }\n",
              "</style>\n",
              "<table border=\"1\" class=\"dataframe\">\n",
              "  <thead>\n",
              "    <tr style=\"text-align: right;\">\n",
              "      <th></th>\n",
              "      <th>Review</th>\n",
              "    </tr>\n",
              "  </thead>\n",
              "  <tbody>\n",
              "    <tr>\n",
              "      <th>7</th>\n",
              "      <td>\\nTal. Como està descrito….Todo lo necesario a...</td>\n",
              "    </tr>\n",
              "    <tr>\n",
              "      <th>8</th>\n",
              "      <td>\\nNo vale la pena gastar dinero en el.\\n</td>\n",
              "    </tr>\n",
              "    <tr>\n",
              "      <th>9</th>\n",
              "      <td>\\nDemasiado básico y lento, bajo costo pero no...</td>\n",
              "    </tr>\n",
              "  </tbody>\n",
              "</table>\n",
              "</div>\n",
              "      <button class=\"colab-df-convert\" onclick=\"convertToInteractive('df-18222867-1947-4b18-83a0-09a75736547d')\"\n",
              "              title=\"Convert this dataframe to an interactive table.\"\n",
              "              style=\"display:none;\">\n",
              "        \n",
              "  <svg xmlns=\"http://www.w3.org/2000/svg\" height=\"24px\"viewBox=\"0 0 24 24\"\n",
              "       width=\"24px\">\n",
              "    <path d=\"M0 0h24v24H0V0z\" fill=\"none\"/>\n",
              "    <path d=\"M18.56 5.44l.94 2.06.94-2.06 2.06-.94-2.06-.94-.94-2.06-.94 2.06-2.06.94zm-11 1L8.5 8.5l.94-2.06 2.06-.94-2.06-.94L8.5 2.5l-.94 2.06-2.06.94zm10 10l.94 2.06.94-2.06 2.06-.94-2.06-.94-.94-2.06-.94 2.06-2.06.94z\"/><path d=\"M17.41 7.96l-1.37-1.37c-.4-.4-.92-.59-1.43-.59-.52 0-1.04.2-1.43.59L10.3 9.45l-7.72 7.72c-.78.78-.78 2.05 0 2.83L4 21.41c.39.39.9.59 1.41.59.51 0 1.02-.2 1.41-.59l7.78-7.78 2.81-2.81c.8-.78.8-2.07 0-2.86zM5.41 20L4 18.59l7.72-7.72 1.47 1.35L5.41 20z\"/>\n",
              "  </svg>\n",
              "      </button>\n",
              "      \n",
              "  <style>\n",
              "    .colab-df-container {\n",
              "      display:flex;\n",
              "      flex-wrap:wrap;\n",
              "      gap: 12px;\n",
              "    }\n",
              "\n",
              "    .colab-df-convert {\n",
              "      background-color: #E8F0FE;\n",
              "      border: none;\n",
              "      border-radius: 50%;\n",
              "      cursor: pointer;\n",
              "      display: none;\n",
              "      fill: #1967D2;\n",
              "      height: 32px;\n",
              "      padding: 0 0 0 0;\n",
              "      width: 32px;\n",
              "    }\n",
              "\n",
              "    .colab-df-convert:hover {\n",
              "      background-color: #E2EBFA;\n",
              "      box-shadow: 0px 1px 2px rgba(60, 64, 67, 0.3), 0px 1px 3px 1px rgba(60, 64, 67, 0.15);\n",
              "      fill: #174EA6;\n",
              "    }\n",
              "\n",
              "    [theme=dark] .colab-df-convert {\n",
              "      background-color: #3B4455;\n",
              "      fill: #D2E3FC;\n",
              "    }\n",
              "\n",
              "    [theme=dark] .colab-df-convert:hover {\n",
              "      background-color: #434B5C;\n",
              "      box-shadow: 0px 1px 3px 1px rgba(0, 0, 0, 0.15);\n",
              "      filter: drop-shadow(0px 1px 2px rgba(0, 0, 0, 0.3));\n",
              "      fill: #FFFFFF;\n",
              "    }\n",
              "  </style>\n",
              "\n",
              "      <script>\n",
              "        const buttonEl =\n",
              "          document.querySelector('#df-18222867-1947-4b18-83a0-09a75736547d button.colab-df-convert');\n",
              "        buttonEl.style.display =\n",
              "          google.colab.kernel.accessAllowed ? 'block' : 'none';\n",
              "\n",
              "        async function convertToInteractive(key) {\n",
              "          const element = document.querySelector('#df-18222867-1947-4b18-83a0-09a75736547d');\n",
              "          const dataTable =\n",
              "            await google.colab.kernel.invokeFunction('convertToInteractive',\n",
              "                                                     [key], {});\n",
              "          if (!dataTable) return;\n",
              "\n",
              "          const docLinkHtml = 'Like what you see? Visit the ' +\n",
              "            '<a target=\"_blank\" href=https://colab.research.google.com/notebooks/data_table.ipynb>data table notebook</a>'\n",
              "            + ' to learn more about interactive tables.';\n",
              "          element.innerHTML = '';\n",
              "          dataTable['output_type'] = 'display_data';\n",
              "          await google.colab.output.renderOutput(dataTable, element);\n",
              "          const docLink = document.createElement('div');\n",
              "          docLink.innerHTML = docLinkHtml;\n",
              "          element.appendChild(docLink);\n",
              "        }\n",
              "      </script>\n",
              "    </div>\n",
              "  </div>\n",
              "  "
            ]
          },
          "metadata": {},
          "execution_count": 303
        }
      ]
    },
    {
      "cell_type": "code",
      "source": [
        "# Drop rows not in English\n",
        "df = df[df['Review Title'].map(lambda x: x.isascii())]\n",
        "df = df[df['Review'].map(lambda x: x.isascii())]"
      ],
      "metadata": {
        "id": "yxQJoskRLnQJ"
      },
      "execution_count": 304,
      "outputs": []
    },
    {
      "cell_type": "markdown",
      "source": [
        "### 4.3.6. Reorder columns in dataframe.\n",
        "the columns will be reordered to have reviews as the last column"
      ],
      "metadata": {
        "id": "2dNp_J-df6zD"
      }
    },
    {
      "cell_type": "code",
      "source": [
        "df = df.reindex(columns=['Product_name', 'Model_Type', 'Brand', 'Price', 'Location and Date of Review', \n",
        "                         'Rating', 'Review Title', 'Review'])"
      ],
      "metadata": {
        "id": "MBKVXbDNe7DK"
      },
      "execution_count": 305,
      "outputs": []
    },
    {
      "cell_type": "markdown",
      "source": [
        "Explore cleaned dataframe"
      ],
      "metadata": {
        "id": "TVmaGvQggIF1"
      }
    },
    {
      "cell_type": "code",
      "source": [
        "# Explore cleaned dataframe\n",
        "df.head()"
      ],
      "metadata": {
        "colab": {
          "base_uri": "https://localhost:8080/",
          "height": 354
        },
        "id": "mpis5S2uPdtJ",
        "outputId": "e4e417ea-54c4-49e7-843d-71eec3cc74a3"
      },
      "execution_count": 306,
      "outputs": [
        {
          "output_type": "execute_result",
          "data": {
            "text/plain": [
              "                                        Product_name Model_Type Brand  Price  \\\n",
              "0          RCA Reno Smartphone 4G LTE 16GB Androi...  RCA Reno    RCA     69   \n",
              "2          RCA Reno Smartphone 4G LTE 16GB Androi...  RCA Reno    RCA     69   \n",
              "3          RCA Reno Smartphone 4G LTE 16GB Androi...  RCA Reno    RCA     69   \n",
              "4          RCA Reno Smartphone 4G LTE 16GB Androi...  RCA Reno    RCA     69   \n",
              "5          RCA Reno Smartphone 4G LTE 16GB Androi...  RCA Reno    RCA     69   \n",
              "\n",
              "                         Location and Date of Review  Rating  \\\n",
              "0  Reviewed in the United States on February 11, ...     4.0   \n",
              "2      Reviewed in the United States on June 7, 2022     3.0   \n",
              "3    Reviewed in the United States on April 14, 2022     3.0   \n",
              "4   Reviewed in the United States on August 13, 2022     4.0   \n",
              "5      Reviewed in the United States on May 10, 2022     3.0   \n",
              "\n",
              "                                        Review Title  \\\n",
              "0  \\n.. not what ordered, not New... but it works...   \n",
              "2               \\nWill not work on T-Mobile sysem!\\n   \n",
              "3                          \\nA burner or for a kid\\n   \n",
              "4                                  \\nIt works okay\\n   \n",
              "5                                          \\nPhone\\n   \n",
              "\n",
              "                                              Review  \n",
              "0  \\nSo first off...it's not what I ordered, but ...  \n",
              "2  \\nNew phone write up indicates T-Mobile system...  \n",
              "3  \\nI use this as a burner w/o a sim card in it....  \n",
              "4                                  \\nIt works fine\\n  \n",
              "5  \\nSo far I don't like this phone at all, I thr...  "
            ],
            "text/html": [
              "\n",
              "  <div id=\"df-4e1c8c96-9f21-459e-902a-8acd1a17f133\">\n",
              "    <div class=\"colab-df-container\">\n",
              "      <div>\n",
              "<style scoped>\n",
              "    .dataframe tbody tr th:only-of-type {\n",
              "        vertical-align: middle;\n",
              "    }\n",
              "\n",
              "    .dataframe tbody tr th {\n",
              "        vertical-align: top;\n",
              "    }\n",
              "\n",
              "    .dataframe thead th {\n",
              "        text-align: right;\n",
              "    }\n",
              "</style>\n",
              "<table border=\"1\" class=\"dataframe\">\n",
              "  <thead>\n",
              "    <tr style=\"text-align: right;\">\n",
              "      <th></th>\n",
              "      <th>Product_name</th>\n",
              "      <th>Model_Type</th>\n",
              "      <th>Brand</th>\n",
              "      <th>Price</th>\n",
              "      <th>Location and Date of Review</th>\n",
              "      <th>Rating</th>\n",
              "      <th>Review Title</th>\n",
              "      <th>Review</th>\n",
              "    </tr>\n",
              "  </thead>\n",
              "  <tbody>\n",
              "    <tr>\n",
              "      <th>0</th>\n",
              "      <td>RCA Reno Smartphone 4G LTE 16GB Androi...</td>\n",
              "      <td>RCA Reno</td>\n",
              "      <td>RCA</td>\n",
              "      <td>69</td>\n",
              "      <td>Reviewed in the United States on February 11, ...</td>\n",
              "      <td>4.0</td>\n",
              "      <td>\\n.. not what ordered, not New... but it works...</td>\n",
              "      <td>\\nSo first off...it's not what I ordered, but ...</td>\n",
              "    </tr>\n",
              "    <tr>\n",
              "      <th>2</th>\n",
              "      <td>RCA Reno Smartphone 4G LTE 16GB Androi...</td>\n",
              "      <td>RCA Reno</td>\n",
              "      <td>RCA</td>\n",
              "      <td>69</td>\n",
              "      <td>Reviewed in the United States on June 7, 2022</td>\n",
              "      <td>3.0</td>\n",
              "      <td>\\nWill not work on T-Mobile sysem!\\n</td>\n",
              "      <td>\\nNew phone write up indicates T-Mobile system...</td>\n",
              "    </tr>\n",
              "    <tr>\n",
              "      <th>3</th>\n",
              "      <td>RCA Reno Smartphone 4G LTE 16GB Androi...</td>\n",
              "      <td>RCA Reno</td>\n",
              "      <td>RCA</td>\n",
              "      <td>69</td>\n",
              "      <td>Reviewed in the United States on April 14, 2022</td>\n",
              "      <td>3.0</td>\n",
              "      <td>\\nA burner or for a kid\\n</td>\n",
              "      <td>\\nI use this as a burner w/o a sim card in it....</td>\n",
              "    </tr>\n",
              "    <tr>\n",
              "      <th>4</th>\n",
              "      <td>RCA Reno Smartphone 4G LTE 16GB Androi...</td>\n",
              "      <td>RCA Reno</td>\n",
              "      <td>RCA</td>\n",
              "      <td>69</td>\n",
              "      <td>Reviewed in the United States on August 13, 2022</td>\n",
              "      <td>4.0</td>\n",
              "      <td>\\nIt works okay\\n</td>\n",
              "      <td>\\nIt works fine\\n</td>\n",
              "    </tr>\n",
              "    <tr>\n",
              "      <th>5</th>\n",
              "      <td>RCA Reno Smartphone 4G LTE 16GB Androi...</td>\n",
              "      <td>RCA Reno</td>\n",
              "      <td>RCA</td>\n",
              "      <td>69</td>\n",
              "      <td>Reviewed in the United States on May 10, 2022</td>\n",
              "      <td>3.0</td>\n",
              "      <td>\\nPhone\\n</td>\n",
              "      <td>\\nSo far I don't like this phone at all, I thr...</td>\n",
              "    </tr>\n",
              "  </tbody>\n",
              "</table>\n",
              "</div>\n",
              "      <button class=\"colab-df-convert\" onclick=\"convertToInteractive('df-4e1c8c96-9f21-459e-902a-8acd1a17f133')\"\n",
              "              title=\"Convert this dataframe to an interactive table.\"\n",
              "              style=\"display:none;\">\n",
              "        \n",
              "  <svg xmlns=\"http://www.w3.org/2000/svg\" height=\"24px\"viewBox=\"0 0 24 24\"\n",
              "       width=\"24px\">\n",
              "    <path d=\"M0 0h24v24H0V0z\" fill=\"none\"/>\n",
              "    <path d=\"M18.56 5.44l.94 2.06.94-2.06 2.06-.94-2.06-.94-.94-2.06-.94 2.06-2.06.94zm-11 1L8.5 8.5l.94-2.06 2.06-.94-2.06-.94L8.5 2.5l-.94 2.06-2.06.94zm10 10l.94 2.06.94-2.06 2.06-.94-2.06-.94-.94-2.06-.94 2.06-2.06.94z\"/><path d=\"M17.41 7.96l-1.37-1.37c-.4-.4-.92-.59-1.43-.59-.52 0-1.04.2-1.43.59L10.3 9.45l-7.72 7.72c-.78.78-.78 2.05 0 2.83L4 21.41c.39.39.9.59 1.41.59.51 0 1.02-.2 1.41-.59l7.78-7.78 2.81-2.81c.8-.78.8-2.07 0-2.86zM5.41 20L4 18.59l7.72-7.72 1.47 1.35L5.41 20z\"/>\n",
              "  </svg>\n",
              "      </button>\n",
              "      \n",
              "  <style>\n",
              "    .colab-df-container {\n",
              "      display:flex;\n",
              "      flex-wrap:wrap;\n",
              "      gap: 12px;\n",
              "    }\n",
              "\n",
              "    .colab-df-convert {\n",
              "      background-color: #E8F0FE;\n",
              "      border: none;\n",
              "      border-radius: 50%;\n",
              "      cursor: pointer;\n",
              "      display: none;\n",
              "      fill: #1967D2;\n",
              "      height: 32px;\n",
              "      padding: 0 0 0 0;\n",
              "      width: 32px;\n",
              "    }\n",
              "\n",
              "    .colab-df-convert:hover {\n",
              "      background-color: #E2EBFA;\n",
              "      box-shadow: 0px 1px 2px rgba(60, 64, 67, 0.3), 0px 1px 3px 1px rgba(60, 64, 67, 0.15);\n",
              "      fill: #174EA6;\n",
              "    }\n",
              "\n",
              "    [theme=dark] .colab-df-convert {\n",
              "      background-color: #3B4455;\n",
              "      fill: #D2E3FC;\n",
              "    }\n",
              "\n",
              "    [theme=dark] .colab-df-convert:hover {\n",
              "      background-color: #434B5C;\n",
              "      box-shadow: 0px 1px 3px 1px rgba(0, 0, 0, 0.15);\n",
              "      filter: drop-shadow(0px 1px 2px rgba(0, 0, 0, 0.3));\n",
              "      fill: #FFFFFF;\n",
              "    }\n",
              "  </style>\n",
              "\n",
              "      <script>\n",
              "        const buttonEl =\n",
              "          document.querySelector('#df-4e1c8c96-9f21-459e-902a-8acd1a17f133 button.colab-df-convert');\n",
              "        buttonEl.style.display =\n",
              "          google.colab.kernel.accessAllowed ? 'block' : 'none';\n",
              "\n",
              "        async function convertToInteractive(key) {\n",
              "          const element = document.querySelector('#df-4e1c8c96-9f21-459e-902a-8acd1a17f133');\n",
              "          const dataTable =\n",
              "            await google.colab.kernel.invokeFunction('convertToInteractive',\n",
              "                                                     [key], {});\n",
              "          if (!dataTable) return;\n",
              "\n",
              "          const docLinkHtml = 'Like what you see? Visit the ' +\n",
              "            '<a target=\"_blank\" href=https://colab.research.google.com/notebooks/data_table.ipynb>data table notebook</a>'\n",
              "            + ' to learn more about interactive tables.';\n",
              "          element.innerHTML = '';\n",
              "          dataTable['output_type'] = 'display_data';\n",
              "          await google.colab.output.renderOutput(dataTable, element);\n",
              "          const docLink = document.createElement('div');\n",
              "          docLink.innerHTML = docLinkHtml;\n",
              "          element.appendChild(docLink);\n",
              "        }\n",
              "      </script>\n",
              "    </div>\n",
              "  </div>\n",
              "  "
            ]
          },
          "metadata": {},
          "execution_count": 306
        }
      ]
    },
    {
      "cell_type": "code",
      "source": [
        "# Explore the shape of the cleaned dataframe\n",
        "df.shape"
      ],
      "metadata": {
        "id": "jtroqUXtcRjJ",
        "outputId": "b0d69367-2625-44f4-d05c-fe594cc17eee",
        "colab": {
          "base_uri": "https://localhost:8080/"
        }
      },
      "execution_count": 308,
      "outputs": [
        {
          "output_type": "execute_result",
          "data": {
            "text/plain": [
              "(9156, 8)"
            ]
          },
          "metadata": {},
          "execution_count": 308
        }
      ]
    },
    {
      "cell_type": "markdown",
      "source": [
        "# 5. Feature Engineering"
      ],
      "metadata": {
        "id": "WvpSCizjHv74"
      }
    },
    {
      "cell_type": "code",
      "source": [],
      "metadata": {
        "id": "uIpIKPQfHxZC"
      },
      "execution_count": 25,
      "outputs": []
    },
    {
      "cell_type": "markdown",
      "source": [
        "# 6. Exploratory Data Analysis(EDA)"
      ],
      "metadata": {
        "id": "_T_okllJH8rm"
      }
    },
    {
      "cell_type": "code",
      "source": [],
      "metadata": {
        "id": "83TYbHB5IExj"
      },
      "execution_count": 25,
      "outputs": []
    },
    {
      "cell_type": "markdown",
      "source": [
        "# 7. Implementing the Solution"
      ],
      "metadata": {
        "id": "NJ74jj_gILmq"
      }
    },
    {
      "cell_type": "markdown",
      "source": [
        "## 7.1 Preprocessing"
      ],
      "metadata": {
        "id": "ltml7Fi0IWtU"
      }
    },
    {
      "cell_type": "markdown",
      "source": [
        "# 8. Challenging the Solution"
      ],
      "metadata": {
        "id": "ncUjOkJ4Ifs6"
      }
    },
    {
      "cell_type": "code",
      "source": [],
      "metadata": {
        "id": "uW3PdEYeIVls"
      },
      "execution_count": 25,
      "outputs": []
    },
    {
      "cell_type": "markdown",
      "source": [
        "# 9. Conclusions"
      ],
      "metadata": {
        "id": "BDyCYr39Ikd7"
      }
    },
    {
      "cell_type": "code",
      "source": [],
      "metadata": {
        "id": "iGKpu0pAImjP"
      },
      "execution_count": 25,
      "outputs": []
    },
    {
      "cell_type": "markdown",
      "source": [
        "# 10. Recommendations"
      ],
      "metadata": {
        "id": "G_X-N5lfInDJ"
      }
    },
    {
      "cell_type": "code",
      "source": [],
      "metadata": {
        "id": "pwZgFDXuIplR"
      },
      "execution_count": null,
      "outputs": []
    }
  ]
}
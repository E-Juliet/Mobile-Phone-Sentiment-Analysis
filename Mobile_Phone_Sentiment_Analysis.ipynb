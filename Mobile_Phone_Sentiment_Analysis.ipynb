{
  "nbformat": 4,
  "nbformat_minor": 0,
  "metadata": {
    "colab": {
      "provenance": [],
      "collapsed_sections": [],
      "include_colab_link": true
    },
    "kernelspec": {
      "name": "python3",
      "display_name": "Python 3"
    },
    "language_info": {
      "name": "python"
    },
    "widgets": {
      "application/vnd.jupyter.widget-state+json": {
        "d24adba339ac40a29b6a7fd2fb47de3f": {
          "model_module": "@jupyter-widgets/controls",
          "model_name": "HBoxModel",
          "model_module_version": "1.5.0",
          "state": {
            "_dom_classes": [],
            "_model_module": "@jupyter-widgets/controls",
            "_model_module_version": "1.5.0",
            "_model_name": "HBoxModel",
            "_view_count": null,
            "_view_module": "@jupyter-widgets/controls",
            "_view_module_version": "1.5.0",
            "_view_name": "HBoxView",
            "box_style": "",
            "children": [
              "IPY_MODEL_e9ade92925a64d709116b9b83ab7ce75",
              "IPY_MODEL_328c35dc5f604fb38e3f87fbde926bdb",
              "IPY_MODEL_a71d616cc3b54935a4032441abd804fb"
            ],
            "layout": "IPY_MODEL_72fe30926b91428ca5d053df29bdab7f"
          }
        },
        "e9ade92925a64d709116b9b83ab7ce75": {
          "model_module": "@jupyter-widgets/controls",
          "model_name": "HTMLModel",
          "model_module_version": "1.5.0",
          "state": {
            "_dom_classes": [],
            "_model_module": "@jupyter-widgets/controls",
            "_model_module_version": "1.5.0",
            "_model_name": "HTMLModel",
            "_view_count": null,
            "_view_module": "@jupyter-widgets/controls",
            "_view_module_version": "1.5.0",
            "_view_name": "HTMLView",
            "description": "",
            "description_tooltip": null,
            "layout": "IPY_MODEL_e40e4776e7a44bc7add37dc07560c791",
            "placeholder": "​",
            "style": "IPY_MODEL_ce65f157a5504a29b4962060fdbe1b17",
            "value": "100%"
          }
        },
        "328c35dc5f604fb38e3f87fbde926bdb": {
          "model_module": "@jupyter-widgets/controls",
          "model_name": "FloatProgressModel",
          "model_module_version": "1.5.0",
          "state": {
            "_dom_classes": [],
            "_model_module": "@jupyter-widgets/controls",
            "_model_module_version": "1.5.0",
            "_model_name": "FloatProgressModel",
            "_view_count": null,
            "_view_module": "@jupyter-widgets/controls",
            "_view_module_version": "1.5.0",
            "_view_name": "ProgressView",
            "bar_style": "success",
            "description": "",
            "description_tooltip": null,
            "layout": "IPY_MODEL_15ff866bcf49429189a83b52b71f1921",
            "max": 9144,
            "min": 0,
            "orientation": "horizontal",
            "style": "IPY_MODEL_b6f1ad62953b4cae9084889d0c612196",
            "value": 9144
          }
        },
        "a71d616cc3b54935a4032441abd804fb": {
          "model_module": "@jupyter-widgets/controls",
          "model_name": "HTMLModel",
          "model_module_version": "1.5.0",
          "state": {
            "_dom_classes": [],
            "_model_module": "@jupyter-widgets/controls",
            "_model_module_version": "1.5.0",
            "_model_name": "HTMLModel",
            "_view_count": null,
            "_view_module": "@jupyter-widgets/controls",
            "_view_module_version": "1.5.0",
            "_view_name": "HTMLView",
            "description": "",
            "description_tooltip": null,
            "layout": "IPY_MODEL_02da52acba964b94baca71b265ddd79a",
            "placeholder": "​",
            "style": "IPY_MODEL_ed33a375eb0b42f88fa597a8df398845",
            "value": " 9144/9144 [00:04&lt;00:00, 1202.54it/s]"
          }
        },
        "72fe30926b91428ca5d053df29bdab7f": {
          "model_module": "@jupyter-widgets/base",
          "model_name": "LayoutModel",
          "model_module_version": "1.2.0",
          "state": {
            "_model_module": "@jupyter-widgets/base",
            "_model_module_version": "1.2.0",
            "_model_name": "LayoutModel",
            "_view_count": null,
            "_view_module": "@jupyter-widgets/base",
            "_view_module_version": "1.2.0",
            "_view_name": "LayoutView",
            "align_content": null,
            "align_items": null,
            "align_self": null,
            "border": null,
            "bottom": null,
            "display": null,
            "flex": null,
            "flex_flow": null,
            "grid_area": null,
            "grid_auto_columns": null,
            "grid_auto_flow": null,
            "grid_auto_rows": null,
            "grid_column": null,
            "grid_gap": null,
            "grid_row": null,
            "grid_template_areas": null,
            "grid_template_columns": null,
            "grid_template_rows": null,
            "height": null,
            "justify_content": null,
            "justify_items": null,
            "left": null,
            "margin": null,
            "max_height": null,
            "max_width": null,
            "min_height": null,
            "min_width": null,
            "object_fit": null,
            "object_position": null,
            "order": null,
            "overflow": null,
            "overflow_x": null,
            "overflow_y": null,
            "padding": null,
            "right": null,
            "top": null,
            "visibility": null,
            "width": null
          }
        },
        "e40e4776e7a44bc7add37dc07560c791": {
          "model_module": "@jupyter-widgets/base",
          "model_name": "LayoutModel",
          "model_module_version": "1.2.0",
          "state": {
            "_model_module": "@jupyter-widgets/base",
            "_model_module_version": "1.2.0",
            "_model_name": "LayoutModel",
            "_view_count": null,
            "_view_module": "@jupyter-widgets/base",
            "_view_module_version": "1.2.0",
            "_view_name": "LayoutView",
            "align_content": null,
            "align_items": null,
            "align_self": null,
            "border": null,
            "bottom": null,
            "display": null,
            "flex": null,
            "flex_flow": null,
            "grid_area": null,
            "grid_auto_columns": null,
            "grid_auto_flow": null,
            "grid_auto_rows": null,
            "grid_column": null,
            "grid_gap": null,
            "grid_row": null,
            "grid_template_areas": null,
            "grid_template_columns": null,
            "grid_template_rows": null,
            "height": null,
            "justify_content": null,
            "justify_items": null,
            "left": null,
            "margin": null,
            "max_height": null,
            "max_width": null,
            "min_height": null,
            "min_width": null,
            "object_fit": null,
            "object_position": null,
            "order": null,
            "overflow": null,
            "overflow_x": null,
            "overflow_y": null,
            "padding": null,
            "right": null,
            "top": null,
            "visibility": null,
            "width": null
          }
        },
        "ce65f157a5504a29b4962060fdbe1b17": {
          "model_module": "@jupyter-widgets/controls",
          "model_name": "DescriptionStyleModel",
          "model_module_version": "1.5.0",
          "state": {
            "_model_module": "@jupyter-widgets/controls",
            "_model_module_version": "1.5.0",
            "_model_name": "DescriptionStyleModel",
            "_view_count": null,
            "_view_module": "@jupyter-widgets/base",
            "_view_module_version": "1.2.0",
            "_view_name": "StyleView",
            "description_width": ""
          }
        },
        "15ff866bcf49429189a83b52b71f1921": {
          "model_module": "@jupyter-widgets/base",
          "model_name": "LayoutModel",
          "model_module_version": "1.2.0",
          "state": {
            "_model_module": "@jupyter-widgets/base",
            "_model_module_version": "1.2.0",
            "_model_name": "LayoutModel",
            "_view_count": null,
            "_view_module": "@jupyter-widgets/base",
            "_view_module_version": "1.2.0",
            "_view_name": "LayoutView",
            "align_content": null,
            "align_items": null,
            "align_self": null,
            "border": null,
            "bottom": null,
            "display": null,
            "flex": null,
            "flex_flow": null,
            "grid_area": null,
            "grid_auto_columns": null,
            "grid_auto_flow": null,
            "grid_auto_rows": null,
            "grid_column": null,
            "grid_gap": null,
            "grid_row": null,
            "grid_template_areas": null,
            "grid_template_columns": null,
            "grid_template_rows": null,
            "height": null,
            "justify_content": null,
            "justify_items": null,
            "left": null,
            "margin": null,
            "max_height": null,
            "max_width": null,
            "min_height": null,
            "min_width": null,
            "object_fit": null,
            "object_position": null,
            "order": null,
            "overflow": null,
            "overflow_x": null,
            "overflow_y": null,
            "padding": null,
            "right": null,
            "top": null,
            "visibility": null,
            "width": null
          }
        },
        "b6f1ad62953b4cae9084889d0c612196": {
          "model_module": "@jupyter-widgets/controls",
          "model_name": "ProgressStyleModel",
          "model_module_version": "1.5.0",
          "state": {
            "_model_module": "@jupyter-widgets/controls",
            "_model_module_version": "1.5.0",
            "_model_name": "ProgressStyleModel",
            "_view_count": null,
            "_view_module": "@jupyter-widgets/base",
            "_view_module_version": "1.2.0",
            "_view_name": "StyleView",
            "bar_color": null,
            "description_width": ""
          }
        },
        "02da52acba964b94baca71b265ddd79a": {
          "model_module": "@jupyter-widgets/base",
          "model_name": "LayoutModel",
          "model_module_version": "1.2.0",
          "state": {
            "_model_module": "@jupyter-widgets/base",
            "_model_module_version": "1.2.0",
            "_model_name": "LayoutModel",
            "_view_count": null,
            "_view_module": "@jupyter-widgets/base",
            "_view_module_version": "1.2.0",
            "_view_name": "LayoutView",
            "align_content": null,
            "align_items": null,
            "align_self": null,
            "border": null,
            "bottom": null,
            "display": null,
            "flex": null,
            "flex_flow": null,
            "grid_area": null,
            "grid_auto_columns": null,
            "grid_auto_flow": null,
            "grid_auto_rows": null,
            "grid_column": null,
            "grid_gap": null,
            "grid_row": null,
            "grid_template_areas": null,
            "grid_template_columns": null,
            "grid_template_rows": null,
            "height": null,
            "justify_content": null,
            "justify_items": null,
            "left": null,
            "margin": null,
            "max_height": null,
            "max_width": null,
            "min_height": null,
            "min_width": null,
            "object_fit": null,
            "object_position": null,
            "order": null,
            "overflow": null,
            "overflow_x": null,
            "overflow_y": null,
            "padding": null,
            "right": null,
            "top": null,
            "visibility": null,
            "width": null
          }
        },
        "ed33a375eb0b42f88fa597a8df398845": {
          "model_module": "@jupyter-widgets/controls",
          "model_name": "DescriptionStyleModel",
          "model_module_version": "1.5.0",
          "state": {
            "_model_module": "@jupyter-widgets/controls",
            "_model_module_version": "1.5.0",
            "_model_name": "DescriptionStyleModel",
            "_view_count": null,
            "_view_module": "@jupyter-widgets/base",
            "_view_module_version": "1.2.0",
            "_view_name": "StyleView",
            "description_width": ""
          }
        }
      }
    },
    "accelerator": "GPU",
    "gpuClass": "standard"
  },
  "cells": [
    {
      "cell_type": "markdown",
      "metadata": {
        "id": "view-in-github",
        "colab_type": "text"
      },
      "source": [
        "<a href=\"https://colab.research.google.com/github/mainaroseline/Mobile-Phone-Sentiment-Analysis/blob/main/Mobile_Phone_Sentiment_Analysis.ipynb\" target=\"_parent\"><img src=\"https://colab.research.google.com/assets/colab-badge.svg\" alt=\"Open In Colab\"/></a>"
      ]
    },
    {
      "cell_type": "markdown",
      "source": [
        "# 1. Business Understanding"
      ],
      "metadata": {
        "id": "9q3BAMW7E1DW"
      }
    },
    {
      "cell_type": "markdown",
      "source": [
        "## 1.1. Problem Statement"
      ],
      "metadata": {
        "id": "Zsdsj6xeFLkh"
      }
    },
    {
      "cell_type": "markdown",
      "source": [
        "Purchasing a product is an interaction between two entities, consumers and business owners. Consumers often use reviews to make decisions about what products to buy, while businesses, on the other hand, not only want to sell their products but also want to receive feedback in terms of consumer reviews. Consumer reviews about purchased products shared on the internet have a great impact. Human nature is generally structured to make decisions based on analyzing and getting the benefit of other consumer experience and opinions because others often have a great influence on our beliefs, behaviors, perception of reality, and the choices we make. Hence, we ask others for their feedback whenever we are deciding on doing something. Additionally, this fact applies not only to consumers but also to organizations and institutions.\n",
        "\n",
        "As social media networks have evolved, so have the ways that consumers express their opinions and feelings. With the vast amount of data now available online, it has become a challenge to extract useful information from it all. Sentiment analysis has emerged as a way to predict the polarity (positive, negative, or neutral) of consumer opinion, which can help consumers better understand the textual data.\n",
        "\n",
        "E-commerce websites have increased in popularity to the point where consumers rely on them for buying and selling. These websites give consumers the ability to write comments about different products and services, which has resulted in a huge amount of reviews becoming available. Consequently, the need to analyze these reviews to understand consumers’ feedback has increased for both vendors and consumers. However, it is difficult to read all the feedback for a particular item, especially for popular items with many comments. \n",
        "\n",
        "In this research, we attempt to build a predictor for consumers’ satisfaction on mobile phone products based on the reviews. We will also attempt to understand the factors that contribute to classifying reviews as positive, negative or neutral (based on important or most frequent words). This is believed to help companies improve their products and also help potential buyers make better decisions when buying products.\n"
      ],
      "metadata": {
        "id": "xMX51AmQgzWE"
      }
    },
    {
      "cell_type": "markdown",
      "source": [
        "### 1.1.1. Main objective"
      ],
      "metadata": {
        "id": "LRL_nT4hQHE1"
      }
    },
    {
      "cell_type": "markdown",
      "source": [
        "- To perform a sentiment analysis of mobile phone reviews from Amazon website to determine how these reviews help consumers to have conﬁdence that they have made the right decision about their purchases."
      ],
      "metadata": {
        "id": "wVjUguQEQOde"
      }
    },
    {
      "cell_type": "markdown",
      "source": [
        "### 1.1.2. Specific Objectives"
      ],
      "metadata": {
        "id": "UzJnQ9GpQSbZ"
      }
    },
    {
      "cell_type": "markdown",
      "source": [
        "- To help companies understand their consumers’ feedback to maintain their products/services or enhance them.\n",
        "- To provide insights to companies in curating offers on speciﬁc products to increase their proﬁts and customer satisfaction.\n",
        "- To understand the factors that contribute to classifying reviews as positive, negative or neutral (based on important or most frequent words).\n",
        "- To determine mobile phones key features that influence smartphone purchases.\n",
        "- To perform a market segmentation of consumers based on their reviews\n",
        "- To advise the advertisement department in companies on these key features to use as selling points and to specific customer segments  in upcoming advertisements."
      ],
      "metadata": {
        "id": "KgSNh4vhQWmT"
      }
    },
    {
      "cell_type": "markdown",
      "source": [
        "### 1.1.3. Metrics of Success"
      ],
      "metadata": {
        "id": "gaUJXyyLFUTK"
      }
    },
    {
      "cell_type": "markdown",
      "source": [
        "The best performing model will be selected based on:\n",
        "- An accuracy score > 80%\n",
        "- An F1 score > 0.85 \n"
      ],
      "metadata": {
        "id": "Q9Oc9eMoiCEc"
      }
    },
    {
      "cell_type": "markdown",
      "source": [
        "# 2. Data Understanding"
      ],
      "metadata": {
        "id": "nV7OCr-jE684"
      }
    },
    {
      "cell_type": "markdown",
      "source": [
        "The data used for this project is obtained from [data.world](https://data.world/promptcloud/amazon-mobile-phone-reviews) and contains more than 400 thousand reviews  of unlocked mobile phones sold on [amazon.com](https://www.amazon.com/). The data was collected from 2016 and last updated in April 2022. The data contains 6 columns:\n",
        "- Product_name : Contains the name of the product\n",
        "- Brand : Contains the brand of the product\n",
        "- Price : Contains the price of the brans\n",
        "- Rating : Contains the rating awarded to that product\n",
        "- Reviews : Contains the review of that product\n",
        "- Review_votes : Number of people who found the review helpful\n",
        "\n"
      ],
      "metadata": {
        "id": "sqSbCw7_jZSZ"
      }
    },
    {
      "cell_type": "markdown",
      "source": [
        "# 3. Loading Relevant Libraries & Data"
      ],
      "metadata": {
        "id": "4i1eLmRKGPl4"
      }
    },
    {
      "cell_type": "markdown",
      "source": [
        "## 3.1. Loading Libraries"
      ],
      "metadata": {
        "id": "CbMOWZeZGm-N"
      }
    },
    {
      "cell_type": "code",
      "source": [
        "import pandas as pd\n",
        "\n",
        "import numpy as np\n",
        "import matplotlib.pyplot as plt\n",
        "%matplotlib inline\n",
        "import seaborn as sns\n",
        "from wordcloud import WordCloud, STOPWORDS\n",
        "\n",
        "\n",
        "import nltk\n",
        "import string\n",
        "import re\n",
        "from nltk import pos_tag\n",
        "from nltk.probability import FreqDist\n",
        "from nltk.stem import WordNetLemmatizer\n",
        "from nltk.corpus import stopwords, wordnet\n",
        "from nltk.tokenize import RegexpTokenizer, word_tokenize\n",
        "\n",
        "\n",
        "from sklearn.feature_extraction.text import CountVectorizer, TfidfVectorizer\n",
        "\n",
        "\n",
        "from sklearn.model_selection import train_test_split\n",
        "from sklearn.metrics import classification_report, confusion_matrix\n",
        "\n",
        "!pip install contractions\n",
        "import contractions\n",
        "\n",
        "# nltk downloads\n",
        "nltk.download('wordnet', quiet=True)\n",
        "nltk.download('punkt', quiet=True)\n",
        "nltk.download('stopwords', quiet=True)\n",
        "nltk.download('tagsets', quiet=True)\n",
        "nltk.download('averaged_perceptron_tagger', quiet=True)"
      ],
      "metadata": {
        "id": "LxndseO0G2LM",
        "outputId": "f0ce3fd2-6c74-49e0-a17d-8c6bdb1c91e5",
        "colab": {
          "base_uri": "https://localhost:8080/"
        }
      },
      "execution_count": 1,
      "outputs": [
        {
          "output_type": "stream",
          "name": "stdout",
          "text": [
            "Looking in indexes: https://pypi.org/simple, https://us-python.pkg.dev/colab-wheels/public/simple/\n",
            "Collecting contractions\n",
            "  Downloading contractions-0.1.72-py2.py3-none-any.whl (8.3 kB)\n",
            "Collecting textsearch>=0.0.21\n",
            "  Downloading textsearch-0.0.24-py2.py3-none-any.whl (7.6 kB)\n",
            "Collecting anyascii\n",
            "  Downloading anyascii-0.3.1-py3-none-any.whl (287 kB)\n",
            "\u001b[K     |████████████████████████████████| 287 kB 8.8 MB/s \n",
            "\u001b[?25hCollecting pyahocorasick\n",
            "  Downloading pyahocorasick-1.4.4-cp37-cp37m-manylinux_2_17_x86_64.manylinux2014_x86_64.whl (106 kB)\n",
            "\u001b[K     |████████████████████████████████| 106 kB 75.2 MB/s \n",
            "\u001b[?25hInstalling collected packages: pyahocorasick, anyascii, textsearch, contractions\n",
            "Successfully installed anyascii-0.3.1 contractions-0.1.72 pyahocorasick-1.4.4 textsearch-0.0.24\n"
          ]
        },
        {
          "output_type": "execute_result",
          "data": {
            "text/plain": [
              "True"
            ]
          },
          "metadata": {},
          "execution_count": 1
        }
      ]
    },
    {
      "cell_type": "code",
      "source": [
        "from google.colab import drive\n",
        "drive.mount('/content/drive')"
      ],
      "metadata": {
        "colab": {
          "base_uri": "https://localhost:8080/"
        },
        "id": "BxDfprYEzRXr",
        "outputId": "8b936bbe-2d9a-4dc2-9bbe-f03d706f8800"
      },
      "execution_count": 2,
      "outputs": [
        {
          "output_type": "stream",
          "name": "stdout",
          "text": [
            "Mounted at /content/drive\n"
          ]
        }
      ]
    },
    {
      "cell_type": "markdown",
      "source": [
        "## 3.2. Loading Data"
      ],
      "metadata": {
        "id": "Bix9U25iG3d6"
      }
    },
    {
      "cell_type": "code",
      "source": [
        "# loading the data\n",
        "\n",
        "df = pd.read_csv('/content/drive/Shareddrives/Alpha/Data/Amazon Combined Data.csv')\n",
        "df.head()"
      ],
      "metadata": {
        "id": "7QRfpgb3G6YA",
        "outputId": "35d88ea8-3192-4f2a-e984-b138784c4f0d",
        "colab": {
          "base_uri": "https://localhost:8080/",
          "height": 354
        }
      },
      "execution_count": 3,
      "outputs": [
        {
          "output_type": "execute_result",
          "data": {
            "text/plain": [
              "               Rating                                       Review Title  \\\n",
              "0  4.0 out of 5 stars  \\n.. not what ordered, not New... but it works...   \n",
              "1  3.0 out of 5 stars  \\nNot for Cricket Wireless and this two review...   \n",
              "2  3.0 out of 5 stars               \\nWill not work on T-Mobile sysem!\\n   \n",
              "3  3.0 out of 5 stars                          \\nA burner or for a kid\\n   \n",
              "4  4.0 out of 5 stars                                  \\nIt works okay\\n   \n",
              "\n",
              "                                              Review  \\\n",
              "0  \\nSo first off...it's not what I ordered, but ...   \n",
              "1  \\nThe phone itself is a okay android device, b...   \n",
              "2  \\nNew phone write up indicates T-Mobile system...   \n",
              "3  \\nI use this as a burner w/o a sim card in it....   \n",
              "4                                  \\nIt works fine\\n   \n",
              "\n",
              "                         Location and Date of Review   Affiliated Company  \\\n",
              "0  Reviewed in the United States on February 11, ...  Visit the RCA Store   \n",
              "1  Reviewed in the United States on February 4, 2021  Visit the RCA Store   \n",
              "2      Reviewed in the United States on June 7, 2022  Visit the RCA Store   \n",
              "3    Reviewed in the United States on April 14, 2022  Visit the RCA Store   \n",
              "4   Reviewed in the United States on August 13, 2022  Visit the RCA Store   \n",
              "\n",
              "                                  Brand and Features   Price  \n",
              "0          RCA Reno Smartphone, 4G LTE, 16GB, And...  $69.99  \n",
              "1          RCA Reno Smartphone, 4G LTE, 16GB, And...  $69.99  \n",
              "2          RCA Reno Smartphone, 4G LTE, 16GB, And...  $69.99  \n",
              "3          RCA Reno Smartphone, 4G LTE, 16GB, And...  $69.99  \n",
              "4          RCA Reno Smartphone, 4G LTE, 16GB, And...  $69.99  "
            ],
            "text/html": [
              "\n",
              "  <div id=\"df-d1f9c74d-ca9e-4b3d-bfab-690a3dad4e5a\">\n",
              "    <div class=\"colab-df-container\">\n",
              "      <div>\n",
              "<style scoped>\n",
              "    .dataframe tbody tr th:only-of-type {\n",
              "        vertical-align: middle;\n",
              "    }\n",
              "\n",
              "    .dataframe tbody tr th {\n",
              "        vertical-align: top;\n",
              "    }\n",
              "\n",
              "    .dataframe thead th {\n",
              "        text-align: right;\n",
              "    }\n",
              "</style>\n",
              "<table border=\"1\" class=\"dataframe\">\n",
              "  <thead>\n",
              "    <tr style=\"text-align: right;\">\n",
              "      <th></th>\n",
              "      <th>Rating</th>\n",
              "      <th>Review Title</th>\n",
              "      <th>Review</th>\n",
              "      <th>Location and Date of Review</th>\n",
              "      <th>Affiliated Company</th>\n",
              "      <th>Brand and Features</th>\n",
              "      <th>Price</th>\n",
              "    </tr>\n",
              "  </thead>\n",
              "  <tbody>\n",
              "    <tr>\n",
              "      <th>0</th>\n",
              "      <td>4.0 out of 5 stars</td>\n",
              "      <td>\\n.. not what ordered, not New... but it works...</td>\n",
              "      <td>\\nSo first off...it's not what I ordered, but ...</td>\n",
              "      <td>Reviewed in the United States on February 11, ...</td>\n",
              "      <td>Visit the RCA Store</td>\n",
              "      <td>RCA Reno Smartphone, 4G LTE, 16GB, And...</td>\n",
              "      <td>$69.99</td>\n",
              "    </tr>\n",
              "    <tr>\n",
              "      <th>1</th>\n",
              "      <td>3.0 out of 5 stars</td>\n",
              "      <td>\\nNot for Cricket Wireless and this two review...</td>\n",
              "      <td>\\nThe phone itself is a okay android device, b...</td>\n",
              "      <td>Reviewed in the United States on February 4, 2021</td>\n",
              "      <td>Visit the RCA Store</td>\n",
              "      <td>RCA Reno Smartphone, 4G LTE, 16GB, And...</td>\n",
              "      <td>$69.99</td>\n",
              "    </tr>\n",
              "    <tr>\n",
              "      <th>2</th>\n",
              "      <td>3.0 out of 5 stars</td>\n",
              "      <td>\\nWill not work on T-Mobile sysem!\\n</td>\n",
              "      <td>\\nNew phone write up indicates T-Mobile system...</td>\n",
              "      <td>Reviewed in the United States on June 7, 2022</td>\n",
              "      <td>Visit the RCA Store</td>\n",
              "      <td>RCA Reno Smartphone, 4G LTE, 16GB, And...</td>\n",
              "      <td>$69.99</td>\n",
              "    </tr>\n",
              "    <tr>\n",
              "      <th>3</th>\n",
              "      <td>3.0 out of 5 stars</td>\n",
              "      <td>\\nA burner or for a kid\\n</td>\n",
              "      <td>\\nI use this as a burner w/o a sim card in it....</td>\n",
              "      <td>Reviewed in the United States on April 14, 2022</td>\n",
              "      <td>Visit the RCA Store</td>\n",
              "      <td>RCA Reno Smartphone, 4G LTE, 16GB, And...</td>\n",
              "      <td>$69.99</td>\n",
              "    </tr>\n",
              "    <tr>\n",
              "      <th>4</th>\n",
              "      <td>4.0 out of 5 stars</td>\n",
              "      <td>\\nIt works okay\\n</td>\n",
              "      <td>\\nIt works fine\\n</td>\n",
              "      <td>Reviewed in the United States on August 13, 2022</td>\n",
              "      <td>Visit the RCA Store</td>\n",
              "      <td>RCA Reno Smartphone, 4G LTE, 16GB, And...</td>\n",
              "      <td>$69.99</td>\n",
              "    </tr>\n",
              "  </tbody>\n",
              "</table>\n",
              "</div>\n",
              "      <button class=\"colab-df-convert\" onclick=\"convertToInteractive('df-d1f9c74d-ca9e-4b3d-bfab-690a3dad4e5a')\"\n",
              "              title=\"Convert this dataframe to an interactive table.\"\n",
              "              style=\"display:none;\">\n",
              "        \n",
              "  <svg xmlns=\"http://www.w3.org/2000/svg\" height=\"24px\"viewBox=\"0 0 24 24\"\n",
              "       width=\"24px\">\n",
              "    <path d=\"M0 0h24v24H0V0z\" fill=\"none\"/>\n",
              "    <path d=\"M18.56 5.44l.94 2.06.94-2.06 2.06-.94-2.06-.94-.94-2.06-.94 2.06-2.06.94zm-11 1L8.5 8.5l.94-2.06 2.06-.94-2.06-.94L8.5 2.5l-.94 2.06-2.06.94zm10 10l.94 2.06.94-2.06 2.06-.94-2.06-.94-.94-2.06-.94 2.06-2.06.94z\"/><path d=\"M17.41 7.96l-1.37-1.37c-.4-.4-.92-.59-1.43-.59-.52 0-1.04.2-1.43.59L10.3 9.45l-7.72 7.72c-.78.78-.78 2.05 0 2.83L4 21.41c.39.39.9.59 1.41.59.51 0 1.02-.2 1.41-.59l7.78-7.78 2.81-2.81c.8-.78.8-2.07 0-2.86zM5.41 20L4 18.59l7.72-7.72 1.47 1.35L5.41 20z\"/>\n",
              "  </svg>\n",
              "      </button>\n",
              "      \n",
              "  <style>\n",
              "    .colab-df-container {\n",
              "      display:flex;\n",
              "      flex-wrap:wrap;\n",
              "      gap: 12px;\n",
              "    }\n",
              "\n",
              "    .colab-df-convert {\n",
              "      background-color: #E8F0FE;\n",
              "      border: none;\n",
              "      border-radius: 50%;\n",
              "      cursor: pointer;\n",
              "      display: none;\n",
              "      fill: #1967D2;\n",
              "      height: 32px;\n",
              "      padding: 0 0 0 0;\n",
              "      width: 32px;\n",
              "    }\n",
              "\n",
              "    .colab-df-convert:hover {\n",
              "      background-color: #E2EBFA;\n",
              "      box-shadow: 0px 1px 2px rgba(60, 64, 67, 0.3), 0px 1px 3px 1px rgba(60, 64, 67, 0.15);\n",
              "      fill: #174EA6;\n",
              "    }\n",
              "\n",
              "    [theme=dark] .colab-df-convert {\n",
              "      background-color: #3B4455;\n",
              "      fill: #D2E3FC;\n",
              "    }\n",
              "\n",
              "    [theme=dark] .colab-df-convert:hover {\n",
              "      background-color: #434B5C;\n",
              "      box-shadow: 0px 1px 3px 1px rgba(0, 0, 0, 0.15);\n",
              "      filter: drop-shadow(0px 1px 2px rgba(0, 0, 0, 0.3));\n",
              "      fill: #FFFFFF;\n",
              "    }\n",
              "  </style>\n",
              "\n",
              "      <script>\n",
              "        const buttonEl =\n",
              "          document.querySelector('#df-d1f9c74d-ca9e-4b3d-bfab-690a3dad4e5a button.colab-df-convert');\n",
              "        buttonEl.style.display =\n",
              "          google.colab.kernel.accessAllowed ? 'block' : 'none';\n",
              "\n",
              "        async function convertToInteractive(key) {\n",
              "          const element = document.querySelector('#df-d1f9c74d-ca9e-4b3d-bfab-690a3dad4e5a');\n",
              "          const dataTable =\n",
              "            await google.colab.kernel.invokeFunction('convertToInteractive',\n",
              "                                                     [key], {});\n",
              "          if (!dataTable) return;\n",
              "\n",
              "          const docLinkHtml = 'Like what you see? Visit the ' +\n",
              "            '<a target=\"_blank\" href=https://colab.research.google.com/notebooks/data_table.ipynb>data table notebook</a>'\n",
              "            + ' to learn more about interactive tables.';\n",
              "          element.innerHTML = '';\n",
              "          dataTable['output_type'] = 'display_data';\n",
              "          await google.colab.output.renderOutput(dataTable, element);\n",
              "          const docLink = document.createElement('div');\n",
              "          docLink.innerHTML = docLinkHtml;\n",
              "          element.appendChild(docLink);\n",
              "        }\n",
              "      </script>\n",
              "    </div>\n",
              "  </div>\n",
              "  "
            ]
          },
          "metadata": {},
          "execution_count": 3
        }
      ]
    },
    {
      "cell_type": "markdown",
      "source": [
        "## 3.3. Previewing Data"
      ],
      "metadata": {
        "id": "wwvKhb51G67A"
      }
    },
    {
      "cell_type": "code",
      "source": [
        "# checking the shape of the data\n",
        "\n",
        "print(f'The data has {df.shape[0]} rows and {df.shape[1]} columns')"
      ],
      "metadata": {
        "colab": {
          "base_uri": "https://localhost:8080/"
        },
        "id": "t6dRxB8kHASI",
        "outputId": "551400e1-52fd-470b-f1df-6d07e58c4309"
      },
      "execution_count": 4,
      "outputs": [
        {
          "output_type": "stream",
          "name": "stdout",
          "text": [
            "The data has 17198 rows and 7 columns\n"
          ]
        }
      ]
    },
    {
      "cell_type": "code",
      "source": [
        "\n",
        "# checking the data types of the data\n",
        "\n",
        "df.info()"
      ],
      "metadata": {
        "colab": {
          "base_uri": "https://localhost:8080/"
        },
        "id": "ssrPqcJPmSUr",
        "outputId": "e021100b-272e-4cb5-c86a-05560151e043"
      },
      "execution_count": 5,
      "outputs": [
        {
          "output_type": "stream",
          "name": "stdout",
          "text": [
            "<class 'pandas.core.frame.DataFrame'>\n",
            "RangeIndex: 17198 entries, 0 to 17197\n",
            "Data columns (total 7 columns):\n",
            " #   Column                       Non-Null Count  Dtype \n",
            "---  ------                       --------------  ----- \n",
            " 0   Rating                       17198 non-null  object\n",
            " 1   Review Title                 17198 non-null  object\n",
            " 2   Review                       17168 non-null  object\n",
            " 3   Location and Date of Review  17198 non-null  object\n",
            " 4   Affiliated Company           17198 non-null  object\n",
            " 5   Brand and Features           17198 non-null  object\n",
            " 6   Price                        17198 non-null  object\n",
            "dtypes: object(7)\n",
            "memory usage: 940.6+ KB\n"
          ]
        }
      ]
    },
    {
      "cell_type": "markdown",
      "source": [
        "# 4. Data Cleaning"
      ],
      "metadata": {
        "id": "ogkfBk-EHXkH"
      }
    },
    {
      "cell_type": "markdown",
      "source": [
        "## 4.1. Missing values\n",
        "- Checking for missing values\n"
      ],
      "metadata": {
        "id": "16LBkvdQ0c69"
      }
    },
    {
      "cell_type": "code",
      "source": [
        "# Define a function to get missing data\n",
        "def missing_data(data):\n",
        "    missing_data = data.isna().sum()\n",
        "    missing_data = missing_data[missing_data>0]\n",
        "    return missing_data"
      ],
      "metadata": {
        "id": "QKadLx5PUkN0"
      },
      "execution_count": 6,
      "outputs": []
    },
    {
      "cell_type": "code",
      "source": [
        "# Getting the sum of missing values per column\n",
        "\n",
        "missing_data(df).to_frame()"
      ],
      "metadata": {
        "id": "luUR9GWFHolO",
        "colab": {
          "base_uri": "https://localhost:8080/",
          "height": 81
        },
        "outputId": "26c7058c-68ed-42a9-905b-bc0f36818d6f"
      },
      "execution_count": 7,
      "outputs": [
        {
          "output_type": "execute_result",
          "data": {
            "text/plain": [
              "         0\n",
              "Review  30"
            ],
            "text/html": [
              "\n",
              "  <div id=\"df-2384a324-c680-45a2-9a24-23faf48daeeb\">\n",
              "    <div class=\"colab-df-container\">\n",
              "      <div>\n",
              "<style scoped>\n",
              "    .dataframe tbody tr th:only-of-type {\n",
              "        vertical-align: middle;\n",
              "    }\n",
              "\n",
              "    .dataframe tbody tr th {\n",
              "        vertical-align: top;\n",
              "    }\n",
              "\n",
              "    .dataframe thead th {\n",
              "        text-align: right;\n",
              "    }\n",
              "</style>\n",
              "<table border=\"1\" class=\"dataframe\">\n",
              "  <thead>\n",
              "    <tr style=\"text-align: right;\">\n",
              "      <th></th>\n",
              "      <th>0</th>\n",
              "    </tr>\n",
              "  </thead>\n",
              "  <tbody>\n",
              "    <tr>\n",
              "      <th>Review</th>\n",
              "      <td>30</td>\n",
              "    </tr>\n",
              "  </tbody>\n",
              "</table>\n",
              "</div>\n",
              "      <button class=\"colab-df-convert\" onclick=\"convertToInteractive('df-2384a324-c680-45a2-9a24-23faf48daeeb')\"\n",
              "              title=\"Convert this dataframe to an interactive table.\"\n",
              "              style=\"display:none;\">\n",
              "        \n",
              "  <svg xmlns=\"http://www.w3.org/2000/svg\" height=\"24px\"viewBox=\"0 0 24 24\"\n",
              "       width=\"24px\">\n",
              "    <path d=\"M0 0h24v24H0V0z\" fill=\"none\"/>\n",
              "    <path d=\"M18.56 5.44l.94 2.06.94-2.06 2.06-.94-2.06-.94-.94-2.06-.94 2.06-2.06.94zm-11 1L8.5 8.5l.94-2.06 2.06-.94-2.06-.94L8.5 2.5l-.94 2.06-2.06.94zm10 10l.94 2.06.94-2.06 2.06-.94-2.06-.94-.94-2.06-.94 2.06-2.06.94z\"/><path d=\"M17.41 7.96l-1.37-1.37c-.4-.4-.92-.59-1.43-.59-.52 0-1.04.2-1.43.59L10.3 9.45l-7.72 7.72c-.78.78-.78 2.05 0 2.83L4 21.41c.39.39.9.59 1.41.59.51 0 1.02-.2 1.41-.59l7.78-7.78 2.81-2.81c.8-.78.8-2.07 0-2.86zM5.41 20L4 18.59l7.72-7.72 1.47 1.35L5.41 20z\"/>\n",
              "  </svg>\n",
              "      </button>\n",
              "      \n",
              "  <style>\n",
              "    .colab-df-container {\n",
              "      display:flex;\n",
              "      flex-wrap:wrap;\n",
              "      gap: 12px;\n",
              "    }\n",
              "\n",
              "    .colab-df-convert {\n",
              "      background-color: #E8F0FE;\n",
              "      border: none;\n",
              "      border-radius: 50%;\n",
              "      cursor: pointer;\n",
              "      display: none;\n",
              "      fill: #1967D2;\n",
              "      height: 32px;\n",
              "      padding: 0 0 0 0;\n",
              "      width: 32px;\n",
              "    }\n",
              "\n",
              "    .colab-df-convert:hover {\n",
              "      background-color: #E2EBFA;\n",
              "      box-shadow: 0px 1px 2px rgba(60, 64, 67, 0.3), 0px 1px 3px 1px rgba(60, 64, 67, 0.15);\n",
              "      fill: #174EA6;\n",
              "    }\n",
              "\n",
              "    [theme=dark] .colab-df-convert {\n",
              "      background-color: #3B4455;\n",
              "      fill: #D2E3FC;\n",
              "    }\n",
              "\n",
              "    [theme=dark] .colab-df-convert:hover {\n",
              "      background-color: #434B5C;\n",
              "      box-shadow: 0px 1px 3px 1px rgba(0, 0, 0, 0.15);\n",
              "      filter: drop-shadow(0px 1px 2px rgba(0, 0, 0, 0.3));\n",
              "      fill: #FFFFFF;\n",
              "    }\n",
              "  </style>\n",
              "\n",
              "      <script>\n",
              "        const buttonEl =\n",
              "          document.querySelector('#df-2384a324-c680-45a2-9a24-23faf48daeeb button.colab-df-convert');\n",
              "        buttonEl.style.display =\n",
              "          google.colab.kernel.accessAllowed ? 'block' : 'none';\n",
              "\n",
              "        async function convertToInteractive(key) {\n",
              "          const element = document.querySelector('#df-2384a324-c680-45a2-9a24-23faf48daeeb');\n",
              "          const dataTable =\n",
              "            await google.colab.kernel.invokeFunction('convertToInteractive',\n",
              "                                                     [key], {});\n",
              "          if (!dataTable) return;\n",
              "\n",
              "          const docLinkHtml = 'Like what you see? Visit the ' +\n",
              "            '<a target=\"_blank\" href=https://colab.research.google.com/notebooks/data_table.ipynb>data table notebook</a>'\n",
              "            + ' to learn more about interactive tables.';\n",
              "          element.innerHTML = '';\n",
              "          dataTable['output_type'] = 'display_data';\n",
              "          await google.colab.output.renderOutput(dataTable, element);\n",
              "          const docLink = document.createElement('div');\n",
              "          docLink.innerHTML = docLinkHtml;\n",
              "          element.appendChild(docLink);\n",
              "        }\n",
              "      </script>\n",
              "    </div>\n",
              "  </div>\n",
              "  "
            ]
          },
          "metadata": {},
          "execution_count": 7
        }
      ]
    },
    {
      "cell_type": "markdown",
      "source": [
        "Out of the 7 columns, only the review's column has missing values.\n",
        "\n",
        "Since the dataset is large, the missing values can be dropped and still retain relevant information."
      ],
      "metadata": {
        "id": "vQ8xJbnW2sVI"
      }
    },
    {
      "cell_type": "code",
      "source": [
        "# Dropping the missing values\n",
        "\n",
        "df.dropna(inplace = True)\n",
        "\n",
        "# Confirming there are no missing values \n",
        "\n",
        "missing_data(df).to_frame()"
      ],
      "metadata": {
        "id": "8PJzGXBT4V5r",
        "colab": {
          "base_uri": "https://localhost:8080/",
          "height": 49
        },
        "outputId": "6e2e5903-ab25-4073-9835-73188b94956a"
      },
      "execution_count": 8,
      "outputs": [
        {
          "output_type": "execute_result",
          "data": {
            "text/plain": [
              "Empty DataFrame\n",
              "Columns: [0]\n",
              "Index: []"
            ],
            "text/html": [
              "\n",
              "  <div id=\"df-4f6bd137-568a-4b87-8bd4-10e81c4bf5bd\">\n",
              "    <div class=\"colab-df-container\">\n",
              "      <div>\n",
              "<style scoped>\n",
              "    .dataframe tbody tr th:only-of-type {\n",
              "        vertical-align: middle;\n",
              "    }\n",
              "\n",
              "    .dataframe tbody tr th {\n",
              "        vertical-align: top;\n",
              "    }\n",
              "\n",
              "    .dataframe thead th {\n",
              "        text-align: right;\n",
              "    }\n",
              "</style>\n",
              "<table border=\"1\" class=\"dataframe\">\n",
              "  <thead>\n",
              "    <tr style=\"text-align: right;\">\n",
              "      <th></th>\n",
              "      <th>0</th>\n",
              "    </tr>\n",
              "  </thead>\n",
              "  <tbody>\n",
              "  </tbody>\n",
              "</table>\n",
              "</div>\n",
              "      <button class=\"colab-df-convert\" onclick=\"convertToInteractive('df-4f6bd137-568a-4b87-8bd4-10e81c4bf5bd')\"\n",
              "              title=\"Convert this dataframe to an interactive table.\"\n",
              "              style=\"display:none;\">\n",
              "        \n",
              "  <svg xmlns=\"http://www.w3.org/2000/svg\" height=\"24px\"viewBox=\"0 0 24 24\"\n",
              "       width=\"24px\">\n",
              "    <path d=\"M0 0h24v24H0V0z\" fill=\"none\"/>\n",
              "    <path d=\"M18.56 5.44l.94 2.06.94-2.06 2.06-.94-2.06-.94-.94-2.06-.94 2.06-2.06.94zm-11 1L8.5 8.5l.94-2.06 2.06-.94-2.06-.94L8.5 2.5l-.94 2.06-2.06.94zm10 10l.94 2.06.94-2.06 2.06-.94-2.06-.94-.94-2.06-.94 2.06-2.06.94z\"/><path d=\"M17.41 7.96l-1.37-1.37c-.4-.4-.92-.59-1.43-.59-.52 0-1.04.2-1.43.59L10.3 9.45l-7.72 7.72c-.78.78-.78 2.05 0 2.83L4 21.41c.39.39.9.59 1.41.59.51 0 1.02-.2 1.41-.59l7.78-7.78 2.81-2.81c.8-.78.8-2.07 0-2.86zM5.41 20L4 18.59l7.72-7.72 1.47 1.35L5.41 20z\"/>\n",
              "  </svg>\n",
              "      </button>\n",
              "      \n",
              "  <style>\n",
              "    .colab-df-container {\n",
              "      display:flex;\n",
              "      flex-wrap:wrap;\n",
              "      gap: 12px;\n",
              "    }\n",
              "\n",
              "    .colab-df-convert {\n",
              "      background-color: #E8F0FE;\n",
              "      border: none;\n",
              "      border-radius: 50%;\n",
              "      cursor: pointer;\n",
              "      display: none;\n",
              "      fill: #1967D2;\n",
              "      height: 32px;\n",
              "      padding: 0 0 0 0;\n",
              "      width: 32px;\n",
              "    }\n",
              "\n",
              "    .colab-df-convert:hover {\n",
              "      background-color: #E2EBFA;\n",
              "      box-shadow: 0px 1px 2px rgba(60, 64, 67, 0.3), 0px 1px 3px 1px rgba(60, 64, 67, 0.15);\n",
              "      fill: #174EA6;\n",
              "    }\n",
              "\n",
              "    [theme=dark] .colab-df-convert {\n",
              "      background-color: #3B4455;\n",
              "      fill: #D2E3FC;\n",
              "    }\n",
              "\n",
              "    [theme=dark] .colab-df-convert:hover {\n",
              "      background-color: #434B5C;\n",
              "      box-shadow: 0px 1px 3px 1px rgba(0, 0, 0, 0.15);\n",
              "      filter: drop-shadow(0px 1px 2px rgba(0, 0, 0, 0.3));\n",
              "      fill: #FFFFFF;\n",
              "    }\n",
              "  </style>\n",
              "\n",
              "      <script>\n",
              "        const buttonEl =\n",
              "          document.querySelector('#df-4f6bd137-568a-4b87-8bd4-10e81c4bf5bd button.colab-df-convert');\n",
              "        buttonEl.style.display =\n",
              "          google.colab.kernel.accessAllowed ? 'block' : 'none';\n",
              "\n",
              "        async function convertToInteractive(key) {\n",
              "          const element = document.querySelector('#df-4f6bd137-568a-4b87-8bd4-10e81c4bf5bd');\n",
              "          const dataTable =\n",
              "            await google.colab.kernel.invokeFunction('convertToInteractive',\n",
              "                                                     [key], {});\n",
              "          if (!dataTable) return;\n",
              "\n",
              "          const docLinkHtml = 'Like what you see? Visit the ' +\n",
              "            '<a target=\"_blank\" href=https://colab.research.google.com/notebooks/data_table.ipynb>data table notebook</a>'\n",
              "            + ' to learn more about interactive tables.';\n",
              "          element.innerHTML = '';\n",
              "          dataTable['output_type'] = 'display_data';\n",
              "          await google.colab.output.renderOutput(dataTable, element);\n",
              "          const docLink = document.createElement('div');\n",
              "          docLink.innerHTML = docLinkHtml;\n",
              "          element.appendChild(docLink);\n",
              "        }\n",
              "      </script>\n",
              "    </div>\n",
              "  </div>\n",
              "  "
            ]
          },
          "metadata": {},
          "execution_count": 8
        }
      ]
    },
    {
      "cell_type": "markdown",
      "source": [
        "## 4.2. Duplicates"
      ],
      "metadata": {
        "id": "lZxUy1zi5b2I"
      }
    },
    {
      "cell_type": "code",
      "source": [
        "# Checking for duplicates\n",
        "\n",
        "print(f\"The data has {df.duplicated().sum()} duplicated rows\")"
      ],
      "metadata": {
        "id": "m2BfEKC35j8d",
        "outputId": "753cbab8-15fe-4588-c966-189160064707",
        "colab": {
          "base_uri": "https://localhost:8080/"
        }
      },
      "execution_count": 9,
      "outputs": [
        {
          "output_type": "stream",
          "name": "stdout",
          "text": [
            "The data has 6595 duplicated rows\n"
          ]
        }
      ]
    },
    {
      "cell_type": "code",
      "source": [
        "# Exploring the duplicates\n",
        "\n",
        "duplicates = df[df.duplicated(keep = 'first')]\n",
        "\n",
        "duplicates.head(4)"
      ],
      "metadata": {
        "id": "rnivPaa451b1",
        "outputId": "90bba91a-1d76-4fbe-f47d-4bf62b74adbf",
        "colab": {
          "base_uri": "https://localhost:8080/",
          "height": 306
        }
      },
      "execution_count": 10,
      "outputs": [
        {
          "output_type": "execute_result",
          "data": {
            "text/plain": [
              "                Rating                                       Review Title  \\\n",
              "30  4.0 out of 5 stars  \\n.. not what ordered, not New... but it works...   \n",
              "31  3.0 out of 5 stars  \\nNot for Cricket Wireless and this two review...   \n",
              "32  3.0 out of 5 stars               \\nWill not work on T-Mobile sysem!\\n   \n",
              "33  3.0 out of 5 stars                          \\nA burner or for a kid\\n   \n",
              "\n",
              "                                               Review  \\\n",
              "30  \\nSo first off...it's not what I ordered, but ...   \n",
              "31  \\nThe phone itself is a okay android device, b...   \n",
              "32  \\nNew phone write up indicates T-Mobile system...   \n",
              "33  \\nI use this as a burner w/o a sim card in it....   \n",
              "\n",
              "                          Location and Date of Review   Affiliated Company  \\\n",
              "30  Reviewed in the United States on February 11, ...  Visit the RCA Store   \n",
              "31  Reviewed in the United States on February 4, 2021  Visit the RCA Store   \n",
              "32      Reviewed in the United States on June 7, 2022  Visit the RCA Store   \n",
              "33    Reviewed in the United States on April 14, 2022  Visit the RCA Store   \n",
              "\n",
              "                                   Brand and Features   Price  \n",
              "30          RCA Reno Smartphone, 4G LTE, 16GB, And...  $69.99  \n",
              "31          RCA Reno Smartphone, 4G LTE, 16GB, And...  $69.99  \n",
              "32          RCA Reno Smartphone, 4G LTE, 16GB, And...  $69.99  \n",
              "33          RCA Reno Smartphone, 4G LTE, 16GB, And...  $69.99  "
            ],
            "text/html": [
              "\n",
              "  <div id=\"df-d7a62bc2-3592-4432-8287-0aac76c78b2e\">\n",
              "    <div class=\"colab-df-container\">\n",
              "      <div>\n",
              "<style scoped>\n",
              "    .dataframe tbody tr th:only-of-type {\n",
              "        vertical-align: middle;\n",
              "    }\n",
              "\n",
              "    .dataframe tbody tr th {\n",
              "        vertical-align: top;\n",
              "    }\n",
              "\n",
              "    .dataframe thead th {\n",
              "        text-align: right;\n",
              "    }\n",
              "</style>\n",
              "<table border=\"1\" class=\"dataframe\">\n",
              "  <thead>\n",
              "    <tr style=\"text-align: right;\">\n",
              "      <th></th>\n",
              "      <th>Rating</th>\n",
              "      <th>Review Title</th>\n",
              "      <th>Review</th>\n",
              "      <th>Location and Date of Review</th>\n",
              "      <th>Affiliated Company</th>\n",
              "      <th>Brand and Features</th>\n",
              "      <th>Price</th>\n",
              "    </tr>\n",
              "  </thead>\n",
              "  <tbody>\n",
              "    <tr>\n",
              "      <th>30</th>\n",
              "      <td>4.0 out of 5 stars</td>\n",
              "      <td>\\n.. not what ordered, not New... but it works...</td>\n",
              "      <td>\\nSo first off...it's not what I ordered, but ...</td>\n",
              "      <td>Reviewed in the United States on February 11, ...</td>\n",
              "      <td>Visit the RCA Store</td>\n",
              "      <td>RCA Reno Smartphone, 4G LTE, 16GB, And...</td>\n",
              "      <td>$69.99</td>\n",
              "    </tr>\n",
              "    <tr>\n",
              "      <th>31</th>\n",
              "      <td>3.0 out of 5 stars</td>\n",
              "      <td>\\nNot for Cricket Wireless and this two review...</td>\n",
              "      <td>\\nThe phone itself is a okay android device, b...</td>\n",
              "      <td>Reviewed in the United States on February 4, 2021</td>\n",
              "      <td>Visit the RCA Store</td>\n",
              "      <td>RCA Reno Smartphone, 4G LTE, 16GB, And...</td>\n",
              "      <td>$69.99</td>\n",
              "    </tr>\n",
              "    <tr>\n",
              "      <th>32</th>\n",
              "      <td>3.0 out of 5 stars</td>\n",
              "      <td>\\nWill not work on T-Mobile sysem!\\n</td>\n",
              "      <td>\\nNew phone write up indicates T-Mobile system...</td>\n",
              "      <td>Reviewed in the United States on June 7, 2022</td>\n",
              "      <td>Visit the RCA Store</td>\n",
              "      <td>RCA Reno Smartphone, 4G LTE, 16GB, And...</td>\n",
              "      <td>$69.99</td>\n",
              "    </tr>\n",
              "    <tr>\n",
              "      <th>33</th>\n",
              "      <td>3.0 out of 5 stars</td>\n",
              "      <td>\\nA burner or for a kid\\n</td>\n",
              "      <td>\\nI use this as a burner w/o a sim card in it....</td>\n",
              "      <td>Reviewed in the United States on April 14, 2022</td>\n",
              "      <td>Visit the RCA Store</td>\n",
              "      <td>RCA Reno Smartphone, 4G LTE, 16GB, And...</td>\n",
              "      <td>$69.99</td>\n",
              "    </tr>\n",
              "  </tbody>\n",
              "</table>\n",
              "</div>\n",
              "      <button class=\"colab-df-convert\" onclick=\"convertToInteractive('df-d7a62bc2-3592-4432-8287-0aac76c78b2e')\"\n",
              "              title=\"Convert this dataframe to an interactive table.\"\n",
              "              style=\"display:none;\">\n",
              "        \n",
              "  <svg xmlns=\"http://www.w3.org/2000/svg\" height=\"24px\"viewBox=\"0 0 24 24\"\n",
              "       width=\"24px\">\n",
              "    <path d=\"M0 0h24v24H0V0z\" fill=\"none\"/>\n",
              "    <path d=\"M18.56 5.44l.94 2.06.94-2.06 2.06-.94-2.06-.94-.94-2.06-.94 2.06-2.06.94zm-11 1L8.5 8.5l.94-2.06 2.06-.94-2.06-.94L8.5 2.5l-.94 2.06-2.06.94zm10 10l.94 2.06.94-2.06 2.06-.94-2.06-.94-.94-2.06-.94 2.06-2.06.94z\"/><path d=\"M17.41 7.96l-1.37-1.37c-.4-.4-.92-.59-1.43-.59-.52 0-1.04.2-1.43.59L10.3 9.45l-7.72 7.72c-.78.78-.78 2.05 0 2.83L4 21.41c.39.39.9.59 1.41.59.51 0 1.02-.2 1.41-.59l7.78-7.78 2.81-2.81c.8-.78.8-2.07 0-2.86zM5.41 20L4 18.59l7.72-7.72 1.47 1.35L5.41 20z\"/>\n",
              "  </svg>\n",
              "      </button>\n",
              "      \n",
              "  <style>\n",
              "    .colab-df-container {\n",
              "      display:flex;\n",
              "      flex-wrap:wrap;\n",
              "      gap: 12px;\n",
              "    }\n",
              "\n",
              "    .colab-df-convert {\n",
              "      background-color: #E8F0FE;\n",
              "      border: none;\n",
              "      border-radius: 50%;\n",
              "      cursor: pointer;\n",
              "      display: none;\n",
              "      fill: #1967D2;\n",
              "      height: 32px;\n",
              "      padding: 0 0 0 0;\n",
              "      width: 32px;\n",
              "    }\n",
              "\n",
              "    .colab-df-convert:hover {\n",
              "      background-color: #E2EBFA;\n",
              "      box-shadow: 0px 1px 2px rgba(60, 64, 67, 0.3), 0px 1px 3px 1px rgba(60, 64, 67, 0.15);\n",
              "      fill: #174EA6;\n",
              "    }\n",
              "\n",
              "    [theme=dark] .colab-df-convert {\n",
              "      background-color: #3B4455;\n",
              "      fill: #D2E3FC;\n",
              "    }\n",
              "\n",
              "    [theme=dark] .colab-df-convert:hover {\n",
              "      background-color: #434B5C;\n",
              "      box-shadow: 0px 1px 3px 1px rgba(0, 0, 0, 0.15);\n",
              "      filter: drop-shadow(0px 1px 2px rgba(0, 0, 0, 0.3));\n",
              "      fill: #FFFFFF;\n",
              "    }\n",
              "  </style>\n",
              "\n",
              "      <script>\n",
              "        const buttonEl =\n",
              "          document.querySelector('#df-d7a62bc2-3592-4432-8287-0aac76c78b2e button.colab-df-convert');\n",
              "        buttonEl.style.display =\n",
              "          google.colab.kernel.accessAllowed ? 'block' : 'none';\n",
              "\n",
              "        async function convertToInteractive(key) {\n",
              "          const element = document.querySelector('#df-d7a62bc2-3592-4432-8287-0aac76c78b2e');\n",
              "          const dataTable =\n",
              "            await google.colab.kernel.invokeFunction('convertToInteractive',\n",
              "                                                     [key], {});\n",
              "          if (!dataTable) return;\n",
              "\n",
              "          const docLinkHtml = 'Like what you see? Visit the ' +\n",
              "            '<a target=\"_blank\" href=https://colab.research.google.com/notebooks/data_table.ipynb>data table notebook</a>'\n",
              "            + ' to learn more about interactive tables.';\n",
              "          element.innerHTML = '';\n",
              "          dataTable['output_type'] = 'display_data';\n",
              "          await google.colab.output.renderOutput(dataTable, element);\n",
              "          const docLink = document.createElement('div');\n",
              "          docLink.innerHTML = docLinkHtml;\n",
              "          element.appendChild(docLink);\n",
              "        }\n",
              "      </script>\n",
              "    </div>\n",
              "  </div>\n",
              "  "
            ]
          },
          "metadata": {},
          "execution_count": 10
        }
      ]
    },
    {
      "cell_type": "markdown",
      "source": [
        "Duplicated columns will be dropped to avoid it misguiding our analysis and prediction process."
      ],
      "metadata": {
        "id": "W2HufKDdSIgp"
      }
    },
    {
      "cell_type": "code",
      "source": [
        "# Dropping the duplicates\n",
        "\n",
        "df.drop_duplicates(inplace = True)\n"
      ],
      "metadata": {
        "id": "YzMVbiSgA8cn"
      },
      "execution_count": 11,
      "outputs": []
    },
    {
      "cell_type": "code",
      "source": [
        "# Confirming if there are duplicates\n",
        "\n",
        "df.duplicated().sum()"
      ],
      "metadata": {
        "id": "O-ugEsrTDdVP",
        "outputId": "b4da0a9a-52bd-4018-a902-b3b5c03160a2",
        "colab": {
          "base_uri": "https://localhost:8080/"
        }
      },
      "execution_count": 12,
      "outputs": [
        {
          "output_type": "execute_result",
          "data": {
            "text/plain": [
              "0"
            ]
          },
          "metadata": {},
          "execution_count": 12
        }
      ]
    },
    {
      "cell_type": "markdown",
      "source": [
        "## 4.3. Cleaning Specific Columns"
      ],
      "metadata": {
        "id": "L4t22FzFCstP"
      }
    },
    {
      "cell_type": "markdown",
      "source": [
        "### 4.3.1. Rating Column\n",
        "\n",
        "For better analysis the rating value needs to be extracted and in a float/integer format."
      ],
      "metadata": {
        "id": "Ou1yvsXOC9hO"
      }
    },
    {
      "cell_type": "code",
      "source": [
        "#Extracting the digits in the Rating column and converting it to string type\n",
        "\n",
        "df[\"Rating\"] = df[\"Rating\"].str.extract('(\\d+)').astype(str)\n",
        "df[\"Rating\"].head().to_frame()"
      ],
      "metadata": {
        "colab": {
          "base_uri": "https://localhost:8080/",
          "height": 206
        },
        "id": "YwysQhyfC8HO",
        "outputId": "beba69bc-970a-4f9d-d58a-252e58224bb0"
      },
      "execution_count": 13,
      "outputs": [
        {
          "output_type": "execute_result",
          "data": {
            "text/plain": [
              "  Rating\n",
              "0      4\n",
              "1      3\n",
              "2      3\n",
              "3      3\n",
              "4      4"
            ],
            "text/html": [
              "\n",
              "  <div id=\"df-521da10d-e43d-48f8-8a44-40130260fc2e\">\n",
              "    <div class=\"colab-df-container\">\n",
              "      <div>\n",
              "<style scoped>\n",
              "    .dataframe tbody tr th:only-of-type {\n",
              "        vertical-align: middle;\n",
              "    }\n",
              "\n",
              "    .dataframe tbody tr th {\n",
              "        vertical-align: top;\n",
              "    }\n",
              "\n",
              "    .dataframe thead th {\n",
              "        text-align: right;\n",
              "    }\n",
              "</style>\n",
              "<table border=\"1\" class=\"dataframe\">\n",
              "  <thead>\n",
              "    <tr style=\"text-align: right;\">\n",
              "      <th></th>\n",
              "      <th>Rating</th>\n",
              "    </tr>\n",
              "  </thead>\n",
              "  <tbody>\n",
              "    <tr>\n",
              "      <th>0</th>\n",
              "      <td>4</td>\n",
              "    </tr>\n",
              "    <tr>\n",
              "      <th>1</th>\n",
              "      <td>3</td>\n",
              "    </tr>\n",
              "    <tr>\n",
              "      <th>2</th>\n",
              "      <td>3</td>\n",
              "    </tr>\n",
              "    <tr>\n",
              "      <th>3</th>\n",
              "      <td>3</td>\n",
              "    </tr>\n",
              "    <tr>\n",
              "      <th>4</th>\n",
              "      <td>4</td>\n",
              "    </tr>\n",
              "  </tbody>\n",
              "</table>\n",
              "</div>\n",
              "      <button class=\"colab-df-convert\" onclick=\"convertToInteractive('df-521da10d-e43d-48f8-8a44-40130260fc2e')\"\n",
              "              title=\"Convert this dataframe to an interactive table.\"\n",
              "              style=\"display:none;\">\n",
              "        \n",
              "  <svg xmlns=\"http://www.w3.org/2000/svg\" height=\"24px\"viewBox=\"0 0 24 24\"\n",
              "       width=\"24px\">\n",
              "    <path d=\"M0 0h24v24H0V0z\" fill=\"none\"/>\n",
              "    <path d=\"M18.56 5.44l.94 2.06.94-2.06 2.06-.94-2.06-.94-.94-2.06-.94 2.06-2.06.94zm-11 1L8.5 8.5l.94-2.06 2.06-.94-2.06-.94L8.5 2.5l-.94 2.06-2.06.94zm10 10l.94 2.06.94-2.06 2.06-.94-2.06-.94-.94-2.06-.94 2.06-2.06.94z\"/><path d=\"M17.41 7.96l-1.37-1.37c-.4-.4-.92-.59-1.43-.59-.52 0-1.04.2-1.43.59L10.3 9.45l-7.72 7.72c-.78.78-.78 2.05 0 2.83L4 21.41c.39.39.9.59 1.41.59.51 0 1.02-.2 1.41-.59l7.78-7.78 2.81-2.81c.8-.78.8-2.07 0-2.86zM5.41 20L4 18.59l7.72-7.72 1.47 1.35L5.41 20z\"/>\n",
              "  </svg>\n",
              "      </button>\n",
              "      \n",
              "  <style>\n",
              "    .colab-df-container {\n",
              "      display:flex;\n",
              "      flex-wrap:wrap;\n",
              "      gap: 12px;\n",
              "    }\n",
              "\n",
              "    .colab-df-convert {\n",
              "      background-color: #E8F0FE;\n",
              "      border: none;\n",
              "      border-radius: 50%;\n",
              "      cursor: pointer;\n",
              "      display: none;\n",
              "      fill: #1967D2;\n",
              "      height: 32px;\n",
              "      padding: 0 0 0 0;\n",
              "      width: 32px;\n",
              "    }\n",
              "\n",
              "    .colab-df-convert:hover {\n",
              "      background-color: #E2EBFA;\n",
              "      box-shadow: 0px 1px 2px rgba(60, 64, 67, 0.3), 0px 1px 3px 1px rgba(60, 64, 67, 0.15);\n",
              "      fill: #174EA6;\n",
              "    }\n",
              "\n",
              "    [theme=dark] .colab-df-convert {\n",
              "      background-color: #3B4455;\n",
              "      fill: #D2E3FC;\n",
              "    }\n",
              "\n",
              "    [theme=dark] .colab-df-convert:hover {\n",
              "      background-color: #434B5C;\n",
              "      box-shadow: 0px 1px 3px 1px rgba(0, 0, 0, 0.15);\n",
              "      filter: drop-shadow(0px 1px 2px rgba(0, 0, 0, 0.3));\n",
              "      fill: #FFFFFF;\n",
              "    }\n",
              "  </style>\n",
              "\n",
              "      <script>\n",
              "        const buttonEl =\n",
              "          document.querySelector('#df-521da10d-e43d-48f8-8a44-40130260fc2e button.colab-df-convert');\n",
              "        buttonEl.style.display =\n",
              "          google.colab.kernel.accessAllowed ? 'block' : 'none';\n",
              "\n",
              "        async function convertToInteractive(key) {\n",
              "          const element = document.querySelector('#df-521da10d-e43d-48f8-8a44-40130260fc2e');\n",
              "          const dataTable =\n",
              "            await google.colab.kernel.invokeFunction('convertToInteractive',\n",
              "                                                     [key], {});\n",
              "          if (!dataTable) return;\n",
              "\n",
              "          const docLinkHtml = 'Like what you see? Visit the ' +\n",
              "            '<a target=\"_blank\" href=https://colab.research.google.com/notebooks/data_table.ipynb>data table notebook</a>'\n",
              "            + ' to learn more about interactive tables.';\n",
              "          element.innerHTML = '';\n",
              "          dataTable['output_type'] = 'display_data';\n",
              "          await google.colab.output.renderOutput(dataTable, element);\n",
              "          const docLink = document.createElement('div');\n",
              "          docLink.innerHTML = docLinkHtml;\n",
              "          element.appendChild(docLink);\n",
              "        }\n",
              "      </script>\n",
              "    </div>\n",
              "  </div>\n",
              "  "
            ]
          },
          "metadata": {},
          "execution_count": 13
        }
      ]
    },
    {
      "cell_type": "markdown",
      "source": [
        "\n",
        "The rating value was extracted from the column and converted into float data type"
      ],
      "metadata": {
        "id": "JbJQrXmDHTgK"
      }
    },
    {
      "cell_type": "markdown",
      "source": [
        "### 4.3.2. Price Column\n",
        "\n",
        "The price columns seems has a dollar sign which could affect analysis. It needs stripping and conversion to int/float"
      ],
      "metadata": {
        "id": "yWvsCrj8EWvN"
      }
    },
    {
      "cell_type": "code",
      "source": [
        "#Extracting the digits in the price column and converting it to integer\n",
        "\n",
        "df[\"Price\"] = df[\"Price\"].str.extract('(\\d+)').astype(int)\n",
        "\n",
        "df[\"Price\"].head().to_frame()"
      ],
      "metadata": {
        "colab": {
          "base_uri": "https://localhost:8080/",
          "height": 206
        },
        "id": "TN1oSnW8EdyW",
        "outputId": "15a589b9-992d-4784-e4ec-78d67bba6149"
      },
      "execution_count": 14,
      "outputs": [
        {
          "output_type": "execute_result",
          "data": {
            "text/plain": [
              "   Price\n",
              "0     69\n",
              "1     69\n",
              "2     69\n",
              "3     69\n",
              "4     69"
            ],
            "text/html": [
              "\n",
              "  <div id=\"df-7e6cf8a9-b414-4ea2-889e-0d602cac8aec\">\n",
              "    <div class=\"colab-df-container\">\n",
              "      <div>\n",
              "<style scoped>\n",
              "    .dataframe tbody tr th:only-of-type {\n",
              "        vertical-align: middle;\n",
              "    }\n",
              "\n",
              "    .dataframe tbody tr th {\n",
              "        vertical-align: top;\n",
              "    }\n",
              "\n",
              "    .dataframe thead th {\n",
              "        text-align: right;\n",
              "    }\n",
              "</style>\n",
              "<table border=\"1\" class=\"dataframe\">\n",
              "  <thead>\n",
              "    <tr style=\"text-align: right;\">\n",
              "      <th></th>\n",
              "      <th>Price</th>\n",
              "    </tr>\n",
              "  </thead>\n",
              "  <tbody>\n",
              "    <tr>\n",
              "      <th>0</th>\n",
              "      <td>69</td>\n",
              "    </tr>\n",
              "    <tr>\n",
              "      <th>1</th>\n",
              "      <td>69</td>\n",
              "    </tr>\n",
              "    <tr>\n",
              "      <th>2</th>\n",
              "      <td>69</td>\n",
              "    </tr>\n",
              "    <tr>\n",
              "      <th>3</th>\n",
              "      <td>69</td>\n",
              "    </tr>\n",
              "    <tr>\n",
              "      <th>4</th>\n",
              "      <td>69</td>\n",
              "    </tr>\n",
              "  </tbody>\n",
              "</table>\n",
              "</div>\n",
              "      <button class=\"colab-df-convert\" onclick=\"convertToInteractive('df-7e6cf8a9-b414-4ea2-889e-0d602cac8aec')\"\n",
              "              title=\"Convert this dataframe to an interactive table.\"\n",
              "              style=\"display:none;\">\n",
              "        \n",
              "  <svg xmlns=\"http://www.w3.org/2000/svg\" height=\"24px\"viewBox=\"0 0 24 24\"\n",
              "       width=\"24px\">\n",
              "    <path d=\"M0 0h24v24H0V0z\" fill=\"none\"/>\n",
              "    <path d=\"M18.56 5.44l.94 2.06.94-2.06 2.06-.94-2.06-.94-.94-2.06-.94 2.06-2.06.94zm-11 1L8.5 8.5l.94-2.06 2.06-.94-2.06-.94L8.5 2.5l-.94 2.06-2.06.94zm10 10l.94 2.06.94-2.06 2.06-.94-2.06-.94-.94-2.06-.94 2.06-2.06.94z\"/><path d=\"M17.41 7.96l-1.37-1.37c-.4-.4-.92-.59-1.43-.59-.52 0-1.04.2-1.43.59L10.3 9.45l-7.72 7.72c-.78.78-.78 2.05 0 2.83L4 21.41c.39.39.9.59 1.41.59.51 0 1.02-.2 1.41-.59l7.78-7.78 2.81-2.81c.8-.78.8-2.07 0-2.86zM5.41 20L4 18.59l7.72-7.72 1.47 1.35L5.41 20z\"/>\n",
              "  </svg>\n",
              "      </button>\n",
              "      \n",
              "  <style>\n",
              "    .colab-df-container {\n",
              "      display:flex;\n",
              "      flex-wrap:wrap;\n",
              "      gap: 12px;\n",
              "    }\n",
              "\n",
              "    .colab-df-convert {\n",
              "      background-color: #E8F0FE;\n",
              "      border: none;\n",
              "      border-radius: 50%;\n",
              "      cursor: pointer;\n",
              "      display: none;\n",
              "      fill: #1967D2;\n",
              "      height: 32px;\n",
              "      padding: 0 0 0 0;\n",
              "      width: 32px;\n",
              "    }\n",
              "\n",
              "    .colab-df-convert:hover {\n",
              "      background-color: #E2EBFA;\n",
              "      box-shadow: 0px 1px 2px rgba(60, 64, 67, 0.3), 0px 1px 3px 1px rgba(60, 64, 67, 0.15);\n",
              "      fill: #174EA6;\n",
              "    }\n",
              "\n",
              "    [theme=dark] .colab-df-convert {\n",
              "      background-color: #3B4455;\n",
              "      fill: #D2E3FC;\n",
              "    }\n",
              "\n",
              "    [theme=dark] .colab-df-convert:hover {\n",
              "      background-color: #434B5C;\n",
              "      box-shadow: 0px 1px 3px 1px rgba(0, 0, 0, 0.15);\n",
              "      filter: drop-shadow(0px 1px 2px rgba(0, 0, 0, 0.3));\n",
              "      fill: #FFFFFF;\n",
              "    }\n",
              "  </style>\n",
              "\n",
              "      <script>\n",
              "        const buttonEl =\n",
              "          document.querySelector('#df-7e6cf8a9-b414-4ea2-889e-0d602cac8aec button.colab-df-convert');\n",
              "        buttonEl.style.display =\n",
              "          google.colab.kernel.accessAllowed ? 'block' : 'none';\n",
              "\n",
              "        async function convertToInteractive(key) {\n",
              "          const element = document.querySelector('#df-7e6cf8a9-b414-4ea2-889e-0d602cac8aec');\n",
              "          const dataTable =\n",
              "            await google.colab.kernel.invokeFunction('convertToInteractive',\n",
              "                                                     [key], {});\n",
              "          if (!dataTable) return;\n",
              "\n",
              "          const docLinkHtml = 'Like what you see? Visit the ' +\n",
              "            '<a target=\"_blank\" href=https://colab.research.google.com/notebooks/data_table.ipynb>data table notebook</a>'\n",
              "            + ' to learn more about interactive tables.';\n",
              "          element.innerHTML = '';\n",
              "          dataTable['output_type'] = 'display_data';\n",
              "          await google.colab.output.renderOutput(dataTable, element);\n",
              "          const docLink = document.createElement('div');\n",
              "          docLink.innerHTML = docLinkHtml;\n",
              "          element.appendChild(docLink);\n",
              "        }\n",
              "      </script>\n",
              "    </div>\n",
              "  </div>\n",
              "  "
            ]
          },
          "metadata": {},
          "execution_count": 14
        }
      ]
    },
    {
      "cell_type": "markdown",
      "source": [
        "The dollar sign was removed and price column converted into integer data type"
      ],
      "metadata": {
        "id": "T4c6SmtGHp0z"
      }
    },
    {
      "cell_type": "markdown",
      "source": [
        "### 4.3.3. Affiliated company column"
      ],
      "metadata": {
        "id": "F-3HvtR_FsQh"
      }
    },
    {
      "cell_type": "code",
      "source": [
        "# Rename the column to brand name\n",
        "\n",
        "df.rename(columns = {\"Affiliated Company\":\"Brand\",\"Brand and Features\":\"Product_name\"},inplace = True)\n",
        "df.head(3)"
      ],
      "metadata": {
        "colab": {
          "base_uri": "https://localhost:8080/",
          "height": 239
        },
        "id": "ejerzM3MF6Yo",
        "outputId": "1fc6eda6-2df9-490c-af83-ae7e2a6d7bb8"
      },
      "execution_count": 15,
      "outputs": [
        {
          "output_type": "execute_result",
          "data": {
            "text/plain": [
              "  Rating                                       Review Title  \\\n",
              "0      4  \\n.. not what ordered, not New... but it works...   \n",
              "1      3  \\nNot for Cricket Wireless and this two review...   \n",
              "2      3               \\nWill not work on T-Mobile sysem!\\n   \n",
              "\n",
              "                                              Review  \\\n",
              "0  \\nSo first off...it's not what I ordered, but ...   \n",
              "1  \\nThe phone itself is a okay android device, b...   \n",
              "2  \\nNew phone write up indicates T-Mobile system...   \n",
              "\n",
              "                         Location and Date of Review                Brand  \\\n",
              "0  Reviewed in the United States on February 11, ...  Visit the RCA Store   \n",
              "1  Reviewed in the United States on February 4, 2021  Visit the RCA Store   \n",
              "2      Reviewed in the United States on June 7, 2022  Visit the RCA Store   \n",
              "\n",
              "                                        Product_name  Price  \n",
              "0          RCA Reno Smartphone, 4G LTE, 16GB, And...     69  \n",
              "1          RCA Reno Smartphone, 4G LTE, 16GB, And...     69  \n",
              "2          RCA Reno Smartphone, 4G LTE, 16GB, And...     69  "
            ],
            "text/html": [
              "\n",
              "  <div id=\"df-a01d3f56-30c8-409b-908d-8dad42cb4fc9\">\n",
              "    <div class=\"colab-df-container\">\n",
              "      <div>\n",
              "<style scoped>\n",
              "    .dataframe tbody tr th:only-of-type {\n",
              "        vertical-align: middle;\n",
              "    }\n",
              "\n",
              "    .dataframe tbody tr th {\n",
              "        vertical-align: top;\n",
              "    }\n",
              "\n",
              "    .dataframe thead th {\n",
              "        text-align: right;\n",
              "    }\n",
              "</style>\n",
              "<table border=\"1\" class=\"dataframe\">\n",
              "  <thead>\n",
              "    <tr style=\"text-align: right;\">\n",
              "      <th></th>\n",
              "      <th>Rating</th>\n",
              "      <th>Review Title</th>\n",
              "      <th>Review</th>\n",
              "      <th>Location and Date of Review</th>\n",
              "      <th>Brand</th>\n",
              "      <th>Product_name</th>\n",
              "      <th>Price</th>\n",
              "    </tr>\n",
              "  </thead>\n",
              "  <tbody>\n",
              "    <tr>\n",
              "      <th>0</th>\n",
              "      <td>4</td>\n",
              "      <td>\\n.. not what ordered, not New... but it works...</td>\n",
              "      <td>\\nSo first off...it's not what I ordered, but ...</td>\n",
              "      <td>Reviewed in the United States on February 11, ...</td>\n",
              "      <td>Visit the RCA Store</td>\n",
              "      <td>RCA Reno Smartphone, 4G LTE, 16GB, And...</td>\n",
              "      <td>69</td>\n",
              "    </tr>\n",
              "    <tr>\n",
              "      <th>1</th>\n",
              "      <td>3</td>\n",
              "      <td>\\nNot for Cricket Wireless and this two review...</td>\n",
              "      <td>\\nThe phone itself is a okay android device, b...</td>\n",
              "      <td>Reviewed in the United States on February 4, 2021</td>\n",
              "      <td>Visit the RCA Store</td>\n",
              "      <td>RCA Reno Smartphone, 4G LTE, 16GB, And...</td>\n",
              "      <td>69</td>\n",
              "    </tr>\n",
              "    <tr>\n",
              "      <th>2</th>\n",
              "      <td>3</td>\n",
              "      <td>\\nWill not work on T-Mobile sysem!\\n</td>\n",
              "      <td>\\nNew phone write up indicates T-Mobile system...</td>\n",
              "      <td>Reviewed in the United States on June 7, 2022</td>\n",
              "      <td>Visit the RCA Store</td>\n",
              "      <td>RCA Reno Smartphone, 4G LTE, 16GB, And...</td>\n",
              "      <td>69</td>\n",
              "    </tr>\n",
              "  </tbody>\n",
              "</table>\n",
              "</div>\n",
              "      <button class=\"colab-df-convert\" onclick=\"convertToInteractive('df-a01d3f56-30c8-409b-908d-8dad42cb4fc9')\"\n",
              "              title=\"Convert this dataframe to an interactive table.\"\n",
              "              style=\"display:none;\">\n",
              "        \n",
              "  <svg xmlns=\"http://www.w3.org/2000/svg\" height=\"24px\"viewBox=\"0 0 24 24\"\n",
              "       width=\"24px\">\n",
              "    <path d=\"M0 0h24v24H0V0z\" fill=\"none\"/>\n",
              "    <path d=\"M18.56 5.44l.94 2.06.94-2.06 2.06-.94-2.06-.94-.94-2.06-.94 2.06-2.06.94zm-11 1L8.5 8.5l.94-2.06 2.06-.94-2.06-.94L8.5 2.5l-.94 2.06-2.06.94zm10 10l.94 2.06.94-2.06 2.06-.94-2.06-.94-.94-2.06-.94 2.06-2.06.94z\"/><path d=\"M17.41 7.96l-1.37-1.37c-.4-.4-.92-.59-1.43-.59-.52 0-1.04.2-1.43.59L10.3 9.45l-7.72 7.72c-.78.78-.78 2.05 0 2.83L4 21.41c.39.39.9.59 1.41.59.51 0 1.02-.2 1.41-.59l7.78-7.78 2.81-2.81c.8-.78.8-2.07 0-2.86zM5.41 20L4 18.59l7.72-7.72 1.47 1.35L5.41 20z\"/>\n",
              "  </svg>\n",
              "      </button>\n",
              "      \n",
              "  <style>\n",
              "    .colab-df-container {\n",
              "      display:flex;\n",
              "      flex-wrap:wrap;\n",
              "      gap: 12px;\n",
              "    }\n",
              "\n",
              "    .colab-df-convert {\n",
              "      background-color: #E8F0FE;\n",
              "      border: none;\n",
              "      border-radius: 50%;\n",
              "      cursor: pointer;\n",
              "      display: none;\n",
              "      fill: #1967D2;\n",
              "      height: 32px;\n",
              "      padding: 0 0 0 0;\n",
              "      width: 32px;\n",
              "    }\n",
              "\n",
              "    .colab-df-convert:hover {\n",
              "      background-color: #E2EBFA;\n",
              "      box-shadow: 0px 1px 2px rgba(60, 64, 67, 0.3), 0px 1px 3px 1px rgba(60, 64, 67, 0.15);\n",
              "      fill: #174EA6;\n",
              "    }\n",
              "\n",
              "    [theme=dark] .colab-df-convert {\n",
              "      background-color: #3B4455;\n",
              "      fill: #D2E3FC;\n",
              "    }\n",
              "\n",
              "    [theme=dark] .colab-df-convert:hover {\n",
              "      background-color: #434B5C;\n",
              "      box-shadow: 0px 1px 3px 1px rgba(0, 0, 0, 0.15);\n",
              "      filter: drop-shadow(0px 1px 2px rgba(0, 0, 0, 0.3));\n",
              "      fill: #FFFFFF;\n",
              "    }\n",
              "  </style>\n",
              "\n",
              "      <script>\n",
              "        const buttonEl =\n",
              "          document.querySelector('#df-a01d3f56-30c8-409b-908d-8dad42cb4fc9 button.colab-df-convert');\n",
              "        buttonEl.style.display =\n",
              "          google.colab.kernel.accessAllowed ? 'block' : 'none';\n",
              "\n",
              "        async function convertToInteractive(key) {\n",
              "          const element = document.querySelector('#df-a01d3f56-30c8-409b-908d-8dad42cb4fc9');\n",
              "          const dataTable =\n",
              "            await google.colab.kernel.invokeFunction('convertToInteractive',\n",
              "                                                     [key], {});\n",
              "          if (!dataTable) return;\n",
              "\n",
              "          const docLinkHtml = 'Like what you see? Visit the ' +\n",
              "            '<a target=\"_blank\" href=https://colab.research.google.com/notebooks/data_table.ipynb>data table notebook</a>'\n",
              "            + ' to learn more about interactive tables.';\n",
              "          element.innerHTML = '';\n",
              "          dataTable['output_type'] = 'display_data';\n",
              "          await google.colab.output.renderOutput(dataTable, element);\n",
              "          const docLink = document.createElement('div');\n",
              "          docLink.innerHTML = docLinkHtml;\n",
              "          element.appendChild(docLink);\n",
              "        }\n",
              "      </script>\n",
              "    </div>\n",
              "  </div>\n",
              "  "
            ]
          },
          "metadata": {},
          "execution_count": 15
        }
      ]
    },
    {
      "cell_type": "markdown",
      "source": [
        "The columns affiliated company and brand&features was renamed to brand and product name respectively."
      ],
      "metadata": {
        "id": "85jvINy1H3Wt"
      }
    },
    {
      "cell_type": "code",
      "source": [
        "#Getting the value counts for the brand column\n",
        "\n",
        "df['Brand'].value_counts().to_frame()"
      ],
      "metadata": {
        "colab": {
          "base_uri": "https://localhost:8080/",
          "height": 802
        },
        "id": "0xeHNfk_IKQn",
        "outputId": "63cc7734-0ac7-46ff-93ab-645a92a4f839"
      },
      "execution_count": 16,
      "outputs": [
        {
          "output_type": "execute_result",
          "data": {
            "text/plain": [
              "                                Brand\n",
              "Visit the Amazon Renewed Store   1747\n",
              "Brand: Motorola                  1578\n",
              "Visit the BLU Store              1544\n",
              "Visit the TCL Store              1448\n",
              "Brand: Amazon Renewed             989\n",
              "Visit the OnePlus Store           684\n",
              "Visit the SAMSUNG Store           522\n",
              "Visit the Nokia Store             492\n",
              "Visit the Google Store            389\n",
              "Visit the JTEMAN Store            263\n",
              "Visit the RCA Store               252\n",
              "Visit the TracFone Store          140\n",
              "Visit the NUU Store                93\n",
              "Brand: Nokia                       84\n",
              "Visit the Dilwe Store              62\n",
              "Visit the Black Shark Store        55\n",
              "Visit the Ulefone Store            51\n",
              "Visit the OUKITEL Store            46\n",
              "Visit the UMIDIGI Store            40\n",
              "Visit the Easyfone Store           30\n",
              "Visit the Punkt. Store             23\n",
              "Visit the CUBOT Store              14\n",
              "Brand: Hipipooo                    14\n",
              "Visit the total wireless Store     13"
            ],
            "text/html": [
              "\n",
              "  <div id=\"df-8c2a846a-c4ae-40ae-99a7-6dee7c3f6481\">\n",
              "    <div class=\"colab-df-container\">\n",
              "      <div>\n",
              "<style scoped>\n",
              "    .dataframe tbody tr th:only-of-type {\n",
              "        vertical-align: middle;\n",
              "    }\n",
              "\n",
              "    .dataframe tbody tr th {\n",
              "        vertical-align: top;\n",
              "    }\n",
              "\n",
              "    .dataframe thead th {\n",
              "        text-align: right;\n",
              "    }\n",
              "</style>\n",
              "<table border=\"1\" class=\"dataframe\">\n",
              "  <thead>\n",
              "    <tr style=\"text-align: right;\">\n",
              "      <th></th>\n",
              "      <th>Brand</th>\n",
              "    </tr>\n",
              "  </thead>\n",
              "  <tbody>\n",
              "    <tr>\n",
              "      <th>Visit the Amazon Renewed Store</th>\n",
              "      <td>1747</td>\n",
              "    </tr>\n",
              "    <tr>\n",
              "      <th>Brand: Motorola</th>\n",
              "      <td>1578</td>\n",
              "    </tr>\n",
              "    <tr>\n",
              "      <th>Visit the BLU Store</th>\n",
              "      <td>1544</td>\n",
              "    </tr>\n",
              "    <tr>\n",
              "      <th>Visit the TCL Store</th>\n",
              "      <td>1448</td>\n",
              "    </tr>\n",
              "    <tr>\n",
              "      <th>Brand: Amazon Renewed</th>\n",
              "      <td>989</td>\n",
              "    </tr>\n",
              "    <tr>\n",
              "      <th>Visit the OnePlus Store</th>\n",
              "      <td>684</td>\n",
              "    </tr>\n",
              "    <tr>\n",
              "      <th>Visit the SAMSUNG Store</th>\n",
              "      <td>522</td>\n",
              "    </tr>\n",
              "    <tr>\n",
              "      <th>Visit the Nokia Store</th>\n",
              "      <td>492</td>\n",
              "    </tr>\n",
              "    <tr>\n",
              "      <th>Visit the Google Store</th>\n",
              "      <td>389</td>\n",
              "    </tr>\n",
              "    <tr>\n",
              "      <th>Visit the JTEMAN Store</th>\n",
              "      <td>263</td>\n",
              "    </tr>\n",
              "    <tr>\n",
              "      <th>Visit the RCA Store</th>\n",
              "      <td>252</td>\n",
              "    </tr>\n",
              "    <tr>\n",
              "      <th>Visit the TracFone Store</th>\n",
              "      <td>140</td>\n",
              "    </tr>\n",
              "    <tr>\n",
              "      <th>Visit the NUU Store</th>\n",
              "      <td>93</td>\n",
              "    </tr>\n",
              "    <tr>\n",
              "      <th>Brand: Nokia</th>\n",
              "      <td>84</td>\n",
              "    </tr>\n",
              "    <tr>\n",
              "      <th>Visit the Dilwe Store</th>\n",
              "      <td>62</td>\n",
              "    </tr>\n",
              "    <tr>\n",
              "      <th>Visit the Black Shark Store</th>\n",
              "      <td>55</td>\n",
              "    </tr>\n",
              "    <tr>\n",
              "      <th>Visit the Ulefone Store</th>\n",
              "      <td>51</td>\n",
              "    </tr>\n",
              "    <tr>\n",
              "      <th>Visit the OUKITEL Store</th>\n",
              "      <td>46</td>\n",
              "    </tr>\n",
              "    <tr>\n",
              "      <th>Visit the UMIDIGI Store</th>\n",
              "      <td>40</td>\n",
              "    </tr>\n",
              "    <tr>\n",
              "      <th>Visit the Easyfone Store</th>\n",
              "      <td>30</td>\n",
              "    </tr>\n",
              "    <tr>\n",
              "      <th>Visit the Punkt. Store</th>\n",
              "      <td>23</td>\n",
              "    </tr>\n",
              "    <tr>\n",
              "      <th>Visit the CUBOT Store</th>\n",
              "      <td>14</td>\n",
              "    </tr>\n",
              "    <tr>\n",
              "      <th>Brand: Hipipooo</th>\n",
              "      <td>14</td>\n",
              "    </tr>\n",
              "    <tr>\n",
              "      <th>Visit the total wireless Store</th>\n",
              "      <td>13</td>\n",
              "    </tr>\n",
              "  </tbody>\n",
              "</table>\n",
              "</div>\n",
              "      <button class=\"colab-df-convert\" onclick=\"convertToInteractive('df-8c2a846a-c4ae-40ae-99a7-6dee7c3f6481')\"\n",
              "              title=\"Convert this dataframe to an interactive table.\"\n",
              "              style=\"display:none;\">\n",
              "        \n",
              "  <svg xmlns=\"http://www.w3.org/2000/svg\" height=\"24px\"viewBox=\"0 0 24 24\"\n",
              "       width=\"24px\">\n",
              "    <path d=\"M0 0h24v24H0V0z\" fill=\"none\"/>\n",
              "    <path d=\"M18.56 5.44l.94 2.06.94-2.06 2.06-.94-2.06-.94-.94-2.06-.94 2.06-2.06.94zm-11 1L8.5 8.5l.94-2.06 2.06-.94-2.06-.94L8.5 2.5l-.94 2.06-2.06.94zm10 10l.94 2.06.94-2.06 2.06-.94-2.06-.94-.94-2.06-.94 2.06-2.06.94z\"/><path d=\"M17.41 7.96l-1.37-1.37c-.4-.4-.92-.59-1.43-.59-.52 0-1.04.2-1.43.59L10.3 9.45l-7.72 7.72c-.78.78-.78 2.05 0 2.83L4 21.41c.39.39.9.59 1.41.59.51 0 1.02-.2 1.41-.59l7.78-7.78 2.81-2.81c.8-.78.8-2.07 0-2.86zM5.41 20L4 18.59l7.72-7.72 1.47 1.35L5.41 20z\"/>\n",
              "  </svg>\n",
              "      </button>\n",
              "      \n",
              "  <style>\n",
              "    .colab-df-container {\n",
              "      display:flex;\n",
              "      flex-wrap:wrap;\n",
              "      gap: 12px;\n",
              "    }\n",
              "\n",
              "    .colab-df-convert {\n",
              "      background-color: #E8F0FE;\n",
              "      border: none;\n",
              "      border-radius: 50%;\n",
              "      cursor: pointer;\n",
              "      display: none;\n",
              "      fill: #1967D2;\n",
              "      height: 32px;\n",
              "      padding: 0 0 0 0;\n",
              "      width: 32px;\n",
              "    }\n",
              "\n",
              "    .colab-df-convert:hover {\n",
              "      background-color: #E2EBFA;\n",
              "      box-shadow: 0px 1px 2px rgba(60, 64, 67, 0.3), 0px 1px 3px 1px rgba(60, 64, 67, 0.15);\n",
              "      fill: #174EA6;\n",
              "    }\n",
              "\n",
              "    [theme=dark] .colab-df-convert {\n",
              "      background-color: #3B4455;\n",
              "      fill: #D2E3FC;\n",
              "    }\n",
              "\n",
              "    [theme=dark] .colab-df-convert:hover {\n",
              "      background-color: #434B5C;\n",
              "      box-shadow: 0px 1px 3px 1px rgba(0, 0, 0, 0.15);\n",
              "      filter: drop-shadow(0px 1px 2px rgba(0, 0, 0, 0.3));\n",
              "      fill: #FFFFFF;\n",
              "    }\n",
              "  </style>\n",
              "\n",
              "      <script>\n",
              "        const buttonEl =\n",
              "          document.querySelector('#df-8c2a846a-c4ae-40ae-99a7-6dee7c3f6481 button.colab-df-convert');\n",
              "        buttonEl.style.display =\n",
              "          google.colab.kernel.accessAllowed ? 'block' : 'none';\n",
              "\n",
              "        async function convertToInteractive(key) {\n",
              "          const element = document.querySelector('#df-8c2a846a-c4ae-40ae-99a7-6dee7c3f6481');\n",
              "          const dataTable =\n",
              "            await google.colab.kernel.invokeFunction('convertToInteractive',\n",
              "                                                     [key], {});\n",
              "          if (!dataTable) return;\n",
              "\n",
              "          const docLinkHtml = 'Like what you see? Visit the ' +\n",
              "            '<a target=\"_blank\" href=https://colab.research.google.com/notebooks/data_table.ipynb>data table notebook</a>'\n",
              "            + ' to learn more about interactive tables.';\n",
              "          element.innerHTML = '';\n",
              "          dataTable['output_type'] = 'display_data';\n",
              "          await google.colab.output.renderOutput(dataTable, element);\n",
              "          const docLink = document.createElement('div');\n",
              "          docLink.innerHTML = docLinkHtml;\n",
              "          element.appendChild(docLink);\n",
              "        }\n",
              "      </script>\n",
              "    </div>\n",
              "  </div>\n",
              "  "
            ]
          },
          "metadata": {},
          "execution_count": 16
        }
      ]
    },
    {
      "cell_type": "markdown",
      "source": [
        "- The brand name will be extracted.\n",
        "- white space will be stripped.\n",
        "- refurbished phones will be renamed into one name"
      ],
      "metadata": {
        "id": "S_HcTlrDV5RC"
      }
    },
    {
      "cell_type": "code",
      "source": [
        "# Removing unnecessary words from the column to get the brand name\n",
        "word_vocabulary = ['Visit', 'the', 'store', 'Brand:', 'Store']\n",
        "for word in word_vocabulary:\n",
        "    df['Brand'] = df['Brand'].str.replace(word, '')\n",
        "\n",
        "# Removing all the white spaces\n",
        "df['Brand'] = df['Brand'].str.strip()\n",
        "\n",
        "# Renaming the amazon renewed with refurbished\n",
        "df['Brand'] = df['Brand'].str.replace('Amazon Renewed','Amazon Refurbished')  "
      ],
      "metadata": {
        "id": "eLKgj4vJMDZZ"
      },
      "execution_count": 17,
      "outputs": []
    },
    {
      "cell_type": "markdown",
      "source": [
        "# 5. Feature Engineering"
      ],
      "metadata": {
        "id": "WvpSCizjHv74"
      }
    },
    {
      "cell_type": "markdown",
      "source": [
        "### 5.1 Product_name column\n",
        "\n",
        "product name column model name in it. It will be stripped into a new column. \n",
        "Some of the model names have the word smartphone that will be stripped as well."
      ],
      "metadata": {
        "id": "tcCCJ2E9Puwo"
      }
    },
    {
      "cell_type": "code",
      "source": [
        "#removing punctuations from the column\n",
        "\n",
        "df['Product_name'] = df['Product_name'].str.replace(r\"\\(.*\\)\",\"\", regex=True)\n",
        "df['Product_name'] = df['Product_name'].str.replace('-',\"\", regex=True)\n",
        "df['Product_name'] = df['Product_name'].str.replace(',',\"\", regex=True)\n",
        "df['Product_name'] = df['Product_name'].str.replace('|',\"\", regex=True)\n",
        "\n",
        "#Splitting the strings in this column into different columns\n",
        "\n",
        "string_cols = df[\"Product_name\"].str.split(\" \", n = -1, expand = True)\n",
        "\n",
        "#selecting on the first three words of the string that will form the phone type\n",
        "df[\"first_word\"] = string_cols[8]\n",
        "df[\"middle_word\"] = string_cols[9]\n",
        "df[\"last_word\"] = string_cols[10]\n",
        "\n",
        "#copying the two other columns so as to allow concactination\n",
        "new1 = df[\"middle_word\"].copy()\n",
        "new2 = df[\"last_word\"].copy()\n",
        " \n",
        "# concatenating team with name column\n",
        "# overwriting name column\n",
        "df[\"Model_Type\"]= df[\"first_word\"].str.cat(new1, sep =\" \")\n",
        "df[\"Model_Type\"]= df[\"Model_Type\"].str.cat(new2, sep =\" \")\n",
        "df.drop([\"first_word\", \"middle_word\", \"last_word\"], axis=1, inplace=True)\n",
        "\n",
        "# Removing unnecessary words from the model type column\n",
        "word_vocabulary = ['Smartphone']\n",
        "for word in word_vocabulary:\n",
        "    df['Model_Type'] = df['Model_Type'].str.replace(word, '')\n"
      ],
      "metadata": {
        "id": "Q-odwaTDPuRf"
      },
      "execution_count": 18,
      "outputs": []
    },
    {
      "cell_type": "markdown",
      "source": [
        "### 5.1.1 Location and Date of Review\n",
        "\n",
        "This data was all collected from the United States. This will will be stripped and the dates for reviews will be left"
      ],
      "metadata": {
        "id": "Ln0mazubrGPi"
      }
    },
    {
      "cell_type": "code",
      "source": [
        "# Extract the review dates from the Location and Date of Review Column\n",
        "word_vocabulary = ['Reviewed in the', 'United States', 'on', 'January 1, 2022']\n",
        "for word in word_vocabulary:\n",
        "    df['Location and Date of Review'] = df['Location and Date of Review'].str.replace(word, '')\n",
        "\n",
        "\n",
        "# Rename the column to Review Date\n",
        "df.rename(columns = {'Location and Date of Review': 'Review Date'}, inplace = True)\n",
        "\n",
        "# Convert the column into datetime format\n",
        "df['Review Date'] = pd.to_datetime(df['Review Date'], errors = 'coerce')"
      ],
      "metadata": {
        "id": "6TaTVKxwodgn"
      },
      "execution_count": 19,
      "outputs": []
    },
    {
      "cell_type": "markdown",
      "source": [
        "### 5.1.2. Review Title and Review \n",
        "\n",
        "Review and Review Title have some rows that are not in Egnlish. \n",
        "These rows will be dropped.\n"
      ],
      "metadata": {
        "id": "_kVybmDXc_ZO"
      }
    },
    {
      "cell_type": "code",
      "source": [
        "# Explore review title rows not in English\n",
        "df['Review Title'].iloc[7:10].to_frame()"
      ],
      "metadata": {
        "id": "GyNtS3sfaJch",
        "outputId": "acf6e69d-f1d7-44a1-811b-eef1db94d296",
        "colab": {
          "base_uri": "https://localhost:8080/",
          "height": 143
        }
      },
      "execution_count": 20,
      "outputs": [
        {
          "output_type": "execute_result",
          "data": {
            "text/plain": [
              "                                        Review Title\n",
              "7                                   \\nBuena Compra\\n\n",
              "8                                \\nEso no me gustó\\n\n",
              "9  \\nDemasiado básico y lento, bajo costo pero no..."
            ],
            "text/html": [
              "\n",
              "  <div id=\"df-7c5c99b7-3c06-4d23-9862-b1d137d953ec\">\n",
              "    <div class=\"colab-df-container\">\n",
              "      <div>\n",
              "<style scoped>\n",
              "    .dataframe tbody tr th:only-of-type {\n",
              "        vertical-align: middle;\n",
              "    }\n",
              "\n",
              "    .dataframe tbody tr th {\n",
              "        vertical-align: top;\n",
              "    }\n",
              "\n",
              "    .dataframe thead th {\n",
              "        text-align: right;\n",
              "    }\n",
              "</style>\n",
              "<table border=\"1\" class=\"dataframe\">\n",
              "  <thead>\n",
              "    <tr style=\"text-align: right;\">\n",
              "      <th></th>\n",
              "      <th>Review Title</th>\n",
              "    </tr>\n",
              "  </thead>\n",
              "  <tbody>\n",
              "    <tr>\n",
              "      <th>7</th>\n",
              "      <td>\\nBuena Compra\\n</td>\n",
              "    </tr>\n",
              "    <tr>\n",
              "      <th>8</th>\n",
              "      <td>\\nEso no me gustó\\n</td>\n",
              "    </tr>\n",
              "    <tr>\n",
              "      <th>9</th>\n",
              "      <td>\\nDemasiado básico y lento, bajo costo pero no...</td>\n",
              "    </tr>\n",
              "  </tbody>\n",
              "</table>\n",
              "</div>\n",
              "      <button class=\"colab-df-convert\" onclick=\"convertToInteractive('df-7c5c99b7-3c06-4d23-9862-b1d137d953ec')\"\n",
              "              title=\"Convert this dataframe to an interactive table.\"\n",
              "              style=\"display:none;\">\n",
              "        \n",
              "  <svg xmlns=\"http://www.w3.org/2000/svg\" height=\"24px\"viewBox=\"0 0 24 24\"\n",
              "       width=\"24px\">\n",
              "    <path d=\"M0 0h24v24H0V0z\" fill=\"none\"/>\n",
              "    <path d=\"M18.56 5.44l.94 2.06.94-2.06 2.06-.94-2.06-.94-.94-2.06-.94 2.06-2.06.94zm-11 1L8.5 8.5l.94-2.06 2.06-.94-2.06-.94L8.5 2.5l-.94 2.06-2.06.94zm10 10l.94 2.06.94-2.06 2.06-.94-2.06-.94-.94-2.06-.94 2.06-2.06.94z\"/><path d=\"M17.41 7.96l-1.37-1.37c-.4-.4-.92-.59-1.43-.59-.52 0-1.04.2-1.43.59L10.3 9.45l-7.72 7.72c-.78.78-.78 2.05 0 2.83L4 21.41c.39.39.9.59 1.41.59.51 0 1.02-.2 1.41-.59l7.78-7.78 2.81-2.81c.8-.78.8-2.07 0-2.86zM5.41 20L4 18.59l7.72-7.72 1.47 1.35L5.41 20z\"/>\n",
              "  </svg>\n",
              "      </button>\n",
              "      \n",
              "  <style>\n",
              "    .colab-df-container {\n",
              "      display:flex;\n",
              "      flex-wrap:wrap;\n",
              "      gap: 12px;\n",
              "    }\n",
              "\n",
              "    .colab-df-convert {\n",
              "      background-color: #E8F0FE;\n",
              "      border: none;\n",
              "      border-radius: 50%;\n",
              "      cursor: pointer;\n",
              "      display: none;\n",
              "      fill: #1967D2;\n",
              "      height: 32px;\n",
              "      padding: 0 0 0 0;\n",
              "      width: 32px;\n",
              "    }\n",
              "\n",
              "    .colab-df-convert:hover {\n",
              "      background-color: #E2EBFA;\n",
              "      box-shadow: 0px 1px 2px rgba(60, 64, 67, 0.3), 0px 1px 3px 1px rgba(60, 64, 67, 0.15);\n",
              "      fill: #174EA6;\n",
              "    }\n",
              "\n",
              "    [theme=dark] .colab-df-convert {\n",
              "      background-color: #3B4455;\n",
              "      fill: #D2E3FC;\n",
              "    }\n",
              "\n",
              "    [theme=dark] .colab-df-convert:hover {\n",
              "      background-color: #434B5C;\n",
              "      box-shadow: 0px 1px 3px 1px rgba(0, 0, 0, 0.15);\n",
              "      filter: drop-shadow(0px 1px 2px rgba(0, 0, 0, 0.3));\n",
              "      fill: #FFFFFF;\n",
              "    }\n",
              "  </style>\n",
              "\n",
              "      <script>\n",
              "        const buttonEl =\n",
              "          document.querySelector('#df-7c5c99b7-3c06-4d23-9862-b1d137d953ec button.colab-df-convert');\n",
              "        buttonEl.style.display =\n",
              "          google.colab.kernel.accessAllowed ? 'block' : 'none';\n",
              "\n",
              "        async function convertToInteractive(key) {\n",
              "          const element = document.querySelector('#df-7c5c99b7-3c06-4d23-9862-b1d137d953ec');\n",
              "          const dataTable =\n",
              "            await google.colab.kernel.invokeFunction('convertToInteractive',\n",
              "                                                     [key], {});\n",
              "          if (!dataTable) return;\n",
              "\n",
              "          const docLinkHtml = 'Like what you see? Visit the ' +\n",
              "            '<a target=\"_blank\" href=https://colab.research.google.com/notebooks/data_table.ipynb>data table notebook</a>'\n",
              "            + ' to learn more about interactive tables.';\n",
              "          element.innerHTML = '';\n",
              "          dataTable['output_type'] = 'display_data';\n",
              "          await google.colab.output.renderOutput(dataTable, element);\n",
              "          const docLink = document.createElement('div');\n",
              "          docLink.innerHTML = docLinkHtml;\n",
              "          element.appendChild(docLink);\n",
              "        }\n",
              "      </script>\n",
              "    </div>\n",
              "  </div>\n",
              "  "
            ]
          },
          "metadata": {},
          "execution_count": 20
        }
      ]
    },
    {
      "cell_type": "code",
      "source": [
        "# Explore review rows not in English\n",
        "df['Review'].iloc[7:10].to_frame()"
      ],
      "metadata": {
        "id": "4ya8K_x5bgRh",
        "outputId": "9d620dbe-7837-4d0e-9bad-eac47d057222",
        "colab": {
          "base_uri": "https://localhost:8080/",
          "height": 143
        }
      },
      "execution_count": 21,
      "outputs": [
        {
          "output_type": "execute_result",
          "data": {
            "text/plain": [
              "                                              Review\n",
              "7  \\nTal. Como està descrito….Todo lo necesario a...\n",
              "8           \\nNo vale la pena gastar dinero en el.\\n\n",
              "9  \\nDemasiado básico y lento, bajo costo pero no..."
            ],
            "text/html": [
              "\n",
              "  <div id=\"df-814f4b8c-ef4c-42ae-a36a-2f43f32086d0\">\n",
              "    <div class=\"colab-df-container\">\n",
              "      <div>\n",
              "<style scoped>\n",
              "    .dataframe tbody tr th:only-of-type {\n",
              "        vertical-align: middle;\n",
              "    }\n",
              "\n",
              "    .dataframe tbody tr th {\n",
              "        vertical-align: top;\n",
              "    }\n",
              "\n",
              "    .dataframe thead th {\n",
              "        text-align: right;\n",
              "    }\n",
              "</style>\n",
              "<table border=\"1\" class=\"dataframe\">\n",
              "  <thead>\n",
              "    <tr style=\"text-align: right;\">\n",
              "      <th></th>\n",
              "      <th>Review</th>\n",
              "    </tr>\n",
              "  </thead>\n",
              "  <tbody>\n",
              "    <tr>\n",
              "      <th>7</th>\n",
              "      <td>\\nTal. Como està descrito….Todo lo necesario a...</td>\n",
              "    </tr>\n",
              "    <tr>\n",
              "      <th>8</th>\n",
              "      <td>\\nNo vale la pena gastar dinero en el.\\n</td>\n",
              "    </tr>\n",
              "    <tr>\n",
              "      <th>9</th>\n",
              "      <td>\\nDemasiado básico y lento, bajo costo pero no...</td>\n",
              "    </tr>\n",
              "  </tbody>\n",
              "</table>\n",
              "</div>\n",
              "      <button class=\"colab-df-convert\" onclick=\"convertToInteractive('df-814f4b8c-ef4c-42ae-a36a-2f43f32086d0')\"\n",
              "              title=\"Convert this dataframe to an interactive table.\"\n",
              "              style=\"display:none;\">\n",
              "        \n",
              "  <svg xmlns=\"http://www.w3.org/2000/svg\" height=\"24px\"viewBox=\"0 0 24 24\"\n",
              "       width=\"24px\">\n",
              "    <path d=\"M0 0h24v24H0V0z\" fill=\"none\"/>\n",
              "    <path d=\"M18.56 5.44l.94 2.06.94-2.06 2.06-.94-2.06-.94-.94-2.06-.94 2.06-2.06.94zm-11 1L8.5 8.5l.94-2.06 2.06-.94-2.06-.94L8.5 2.5l-.94 2.06-2.06.94zm10 10l.94 2.06.94-2.06 2.06-.94-2.06-.94-.94-2.06-.94 2.06-2.06.94z\"/><path d=\"M17.41 7.96l-1.37-1.37c-.4-.4-.92-.59-1.43-.59-.52 0-1.04.2-1.43.59L10.3 9.45l-7.72 7.72c-.78.78-.78 2.05 0 2.83L4 21.41c.39.39.9.59 1.41.59.51 0 1.02-.2 1.41-.59l7.78-7.78 2.81-2.81c.8-.78.8-2.07 0-2.86zM5.41 20L4 18.59l7.72-7.72 1.47 1.35L5.41 20z\"/>\n",
              "  </svg>\n",
              "      </button>\n",
              "      \n",
              "  <style>\n",
              "    .colab-df-container {\n",
              "      display:flex;\n",
              "      flex-wrap:wrap;\n",
              "      gap: 12px;\n",
              "    }\n",
              "\n",
              "    .colab-df-convert {\n",
              "      background-color: #E8F0FE;\n",
              "      border: none;\n",
              "      border-radius: 50%;\n",
              "      cursor: pointer;\n",
              "      display: none;\n",
              "      fill: #1967D2;\n",
              "      height: 32px;\n",
              "      padding: 0 0 0 0;\n",
              "      width: 32px;\n",
              "    }\n",
              "\n",
              "    .colab-df-convert:hover {\n",
              "      background-color: #E2EBFA;\n",
              "      box-shadow: 0px 1px 2px rgba(60, 64, 67, 0.3), 0px 1px 3px 1px rgba(60, 64, 67, 0.15);\n",
              "      fill: #174EA6;\n",
              "    }\n",
              "\n",
              "    [theme=dark] .colab-df-convert {\n",
              "      background-color: #3B4455;\n",
              "      fill: #D2E3FC;\n",
              "    }\n",
              "\n",
              "    [theme=dark] .colab-df-convert:hover {\n",
              "      background-color: #434B5C;\n",
              "      box-shadow: 0px 1px 3px 1px rgba(0, 0, 0, 0.15);\n",
              "      filter: drop-shadow(0px 1px 2px rgba(0, 0, 0, 0.3));\n",
              "      fill: #FFFFFF;\n",
              "    }\n",
              "  </style>\n",
              "\n",
              "      <script>\n",
              "        const buttonEl =\n",
              "          document.querySelector('#df-814f4b8c-ef4c-42ae-a36a-2f43f32086d0 button.colab-df-convert');\n",
              "        buttonEl.style.display =\n",
              "          google.colab.kernel.accessAllowed ? 'block' : 'none';\n",
              "\n",
              "        async function convertToInteractive(key) {\n",
              "          const element = document.querySelector('#df-814f4b8c-ef4c-42ae-a36a-2f43f32086d0');\n",
              "          const dataTable =\n",
              "            await google.colab.kernel.invokeFunction('convertToInteractive',\n",
              "                                                     [key], {});\n",
              "          if (!dataTable) return;\n",
              "\n",
              "          const docLinkHtml = 'Like what you see? Visit the ' +\n",
              "            '<a target=\"_blank\" href=https://colab.research.google.com/notebooks/data_table.ipynb>data table notebook</a>'\n",
              "            + ' to learn more about interactive tables.';\n",
              "          element.innerHTML = '';\n",
              "          dataTable['output_type'] = 'display_data';\n",
              "          await google.colab.output.renderOutput(dataTable, element);\n",
              "          const docLink = document.createElement('div');\n",
              "          docLink.innerHTML = docLinkHtml;\n",
              "          element.appendChild(docLink);\n",
              "        }\n",
              "      </script>\n",
              "    </div>\n",
              "  </div>\n",
              "  "
            ]
          },
          "metadata": {},
          "execution_count": 21
        }
      ]
    },
    {
      "cell_type": "code",
      "source": [
        "# Drop rows not in English\n",
        "df = df[df['Review Title'].map(lambda x: x.isascii())]\n",
        "df = df[df['Review'].map(lambda x: x.isascii())]"
      ],
      "metadata": {
        "id": "yxQJoskRLnQJ"
      },
      "execution_count": 22,
      "outputs": []
    },
    {
      "cell_type": "markdown",
      "source": [
        "### 5.1.3. Reorder columns in dataframe.\n",
        "the columns will be reordered to have reviews as the last column"
      ],
      "metadata": {
        "id": "2dNp_J-df6zD"
      }
    },
    {
      "cell_type": "code",
      "source": [
        "df = df.reindex(columns=['Product_name', 'Model_Type', 'Brand', 'Price', 'Review Date', \n",
        "                         'Rating', 'Review Title', 'Review'])"
      ],
      "metadata": {
        "id": "MBKVXbDNe7DK"
      },
      "execution_count": 23,
      "outputs": []
    },
    {
      "cell_type": "markdown",
      "source": [
        "Explore cleaned dataframe"
      ],
      "metadata": {
        "id": "TVmaGvQggIF1"
      }
    },
    {
      "cell_type": "code",
      "source": [
        "# Explore cleaned dataframe\n",
        "df.head()"
      ],
      "metadata": {
        "colab": {
          "base_uri": "https://localhost:8080/",
          "height": 206
        },
        "id": "mpis5S2uPdtJ",
        "outputId": "95806f58-b352-4add-bcc4-0d3c622be3c1"
      },
      "execution_count": 24,
      "outputs": [
        {
          "output_type": "execute_result",
          "data": {
            "text/plain": [
              "                                        Product_name Model_Type Brand  Price  \\\n",
              "0          RCA Reno Smartphone 4G LTE 16GB Androi...  RCA Reno    RCA     69   \n",
              "2          RCA Reno Smartphone 4G LTE 16GB Androi...  RCA Reno    RCA     69   \n",
              "3          RCA Reno Smartphone 4G LTE 16GB Androi...  RCA Reno    RCA     69   \n",
              "4          RCA Reno Smartphone 4G LTE 16GB Androi...  RCA Reno    RCA     69   \n",
              "5          RCA Reno Smartphone 4G LTE 16GB Androi...  RCA Reno    RCA     69   \n",
              "\n",
              "  Review Date Rating                                       Review Title  \\\n",
              "0  2022-02-11      4  \\n.. not what ordered, not New... but it works...   \n",
              "2  2022-06-07      3               \\nWill not work on T-Mobile sysem!\\n   \n",
              "3  2022-04-14      3                          \\nA burner or for a kid\\n   \n",
              "4  2022-08-13      4                                  \\nIt works okay\\n   \n",
              "5  2022-05-10      3                                          \\nPhone\\n   \n",
              "\n",
              "                                              Review  \n",
              "0  \\nSo first off...it's not what I ordered, but ...  \n",
              "2  \\nNew phone write up indicates T-Mobile system...  \n",
              "3  \\nI use this as a burner w/o a sim card in it....  \n",
              "4                                  \\nIt works fine\\n  \n",
              "5  \\nSo far I don't like this phone at all, I thr...  "
            ],
            "text/html": [
              "\n",
              "  <div id=\"df-9c6b105b-46ac-448b-9b96-7c30914a1572\">\n",
              "    <div class=\"colab-df-container\">\n",
              "      <div>\n",
              "<style scoped>\n",
              "    .dataframe tbody tr th:only-of-type {\n",
              "        vertical-align: middle;\n",
              "    }\n",
              "\n",
              "    .dataframe tbody tr th {\n",
              "        vertical-align: top;\n",
              "    }\n",
              "\n",
              "    .dataframe thead th {\n",
              "        text-align: right;\n",
              "    }\n",
              "</style>\n",
              "<table border=\"1\" class=\"dataframe\">\n",
              "  <thead>\n",
              "    <tr style=\"text-align: right;\">\n",
              "      <th></th>\n",
              "      <th>Product_name</th>\n",
              "      <th>Model_Type</th>\n",
              "      <th>Brand</th>\n",
              "      <th>Price</th>\n",
              "      <th>Review Date</th>\n",
              "      <th>Rating</th>\n",
              "      <th>Review Title</th>\n",
              "      <th>Review</th>\n",
              "    </tr>\n",
              "  </thead>\n",
              "  <tbody>\n",
              "    <tr>\n",
              "      <th>0</th>\n",
              "      <td>RCA Reno Smartphone 4G LTE 16GB Androi...</td>\n",
              "      <td>RCA Reno</td>\n",
              "      <td>RCA</td>\n",
              "      <td>69</td>\n",
              "      <td>2022-02-11</td>\n",
              "      <td>4</td>\n",
              "      <td>\\n.. not what ordered, not New... but it works...</td>\n",
              "      <td>\\nSo first off...it's not what I ordered, but ...</td>\n",
              "    </tr>\n",
              "    <tr>\n",
              "      <th>2</th>\n",
              "      <td>RCA Reno Smartphone 4G LTE 16GB Androi...</td>\n",
              "      <td>RCA Reno</td>\n",
              "      <td>RCA</td>\n",
              "      <td>69</td>\n",
              "      <td>2022-06-07</td>\n",
              "      <td>3</td>\n",
              "      <td>\\nWill not work on T-Mobile sysem!\\n</td>\n",
              "      <td>\\nNew phone write up indicates T-Mobile system...</td>\n",
              "    </tr>\n",
              "    <tr>\n",
              "      <th>3</th>\n",
              "      <td>RCA Reno Smartphone 4G LTE 16GB Androi...</td>\n",
              "      <td>RCA Reno</td>\n",
              "      <td>RCA</td>\n",
              "      <td>69</td>\n",
              "      <td>2022-04-14</td>\n",
              "      <td>3</td>\n",
              "      <td>\\nA burner or for a kid\\n</td>\n",
              "      <td>\\nI use this as a burner w/o a sim card in it....</td>\n",
              "    </tr>\n",
              "    <tr>\n",
              "      <th>4</th>\n",
              "      <td>RCA Reno Smartphone 4G LTE 16GB Androi...</td>\n",
              "      <td>RCA Reno</td>\n",
              "      <td>RCA</td>\n",
              "      <td>69</td>\n",
              "      <td>2022-08-13</td>\n",
              "      <td>4</td>\n",
              "      <td>\\nIt works okay\\n</td>\n",
              "      <td>\\nIt works fine\\n</td>\n",
              "    </tr>\n",
              "    <tr>\n",
              "      <th>5</th>\n",
              "      <td>RCA Reno Smartphone 4G LTE 16GB Androi...</td>\n",
              "      <td>RCA Reno</td>\n",
              "      <td>RCA</td>\n",
              "      <td>69</td>\n",
              "      <td>2022-05-10</td>\n",
              "      <td>3</td>\n",
              "      <td>\\nPhone\\n</td>\n",
              "      <td>\\nSo far I don't like this phone at all, I thr...</td>\n",
              "    </tr>\n",
              "  </tbody>\n",
              "</table>\n",
              "</div>\n",
              "      <button class=\"colab-df-convert\" onclick=\"convertToInteractive('df-9c6b105b-46ac-448b-9b96-7c30914a1572')\"\n",
              "              title=\"Convert this dataframe to an interactive table.\"\n",
              "              style=\"display:none;\">\n",
              "        \n",
              "  <svg xmlns=\"http://www.w3.org/2000/svg\" height=\"24px\"viewBox=\"0 0 24 24\"\n",
              "       width=\"24px\">\n",
              "    <path d=\"M0 0h24v24H0V0z\" fill=\"none\"/>\n",
              "    <path d=\"M18.56 5.44l.94 2.06.94-2.06 2.06-.94-2.06-.94-.94-2.06-.94 2.06-2.06.94zm-11 1L8.5 8.5l.94-2.06 2.06-.94-2.06-.94L8.5 2.5l-.94 2.06-2.06.94zm10 10l.94 2.06.94-2.06 2.06-.94-2.06-.94-.94-2.06-.94 2.06-2.06.94z\"/><path d=\"M17.41 7.96l-1.37-1.37c-.4-.4-.92-.59-1.43-.59-.52 0-1.04.2-1.43.59L10.3 9.45l-7.72 7.72c-.78.78-.78 2.05 0 2.83L4 21.41c.39.39.9.59 1.41.59.51 0 1.02-.2 1.41-.59l7.78-7.78 2.81-2.81c.8-.78.8-2.07 0-2.86zM5.41 20L4 18.59l7.72-7.72 1.47 1.35L5.41 20z\"/>\n",
              "  </svg>\n",
              "      </button>\n",
              "      \n",
              "  <style>\n",
              "    .colab-df-container {\n",
              "      display:flex;\n",
              "      flex-wrap:wrap;\n",
              "      gap: 12px;\n",
              "    }\n",
              "\n",
              "    .colab-df-convert {\n",
              "      background-color: #E8F0FE;\n",
              "      border: none;\n",
              "      border-radius: 50%;\n",
              "      cursor: pointer;\n",
              "      display: none;\n",
              "      fill: #1967D2;\n",
              "      height: 32px;\n",
              "      padding: 0 0 0 0;\n",
              "      width: 32px;\n",
              "    }\n",
              "\n",
              "    .colab-df-convert:hover {\n",
              "      background-color: #E2EBFA;\n",
              "      box-shadow: 0px 1px 2px rgba(60, 64, 67, 0.3), 0px 1px 3px 1px rgba(60, 64, 67, 0.15);\n",
              "      fill: #174EA6;\n",
              "    }\n",
              "\n",
              "    [theme=dark] .colab-df-convert {\n",
              "      background-color: #3B4455;\n",
              "      fill: #D2E3FC;\n",
              "    }\n",
              "\n",
              "    [theme=dark] .colab-df-convert:hover {\n",
              "      background-color: #434B5C;\n",
              "      box-shadow: 0px 1px 3px 1px rgba(0, 0, 0, 0.15);\n",
              "      filter: drop-shadow(0px 1px 2px rgba(0, 0, 0, 0.3));\n",
              "      fill: #FFFFFF;\n",
              "    }\n",
              "  </style>\n",
              "\n",
              "      <script>\n",
              "        const buttonEl =\n",
              "          document.querySelector('#df-9c6b105b-46ac-448b-9b96-7c30914a1572 button.colab-df-convert');\n",
              "        buttonEl.style.display =\n",
              "          google.colab.kernel.accessAllowed ? 'block' : 'none';\n",
              "\n",
              "        async function convertToInteractive(key) {\n",
              "          const element = document.querySelector('#df-9c6b105b-46ac-448b-9b96-7c30914a1572');\n",
              "          const dataTable =\n",
              "            await google.colab.kernel.invokeFunction('convertToInteractive',\n",
              "                                                     [key], {});\n",
              "          if (!dataTable) return;\n",
              "\n",
              "          const docLinkHtml = 'Like what you see? Visit the ' +\n",
              "            '<a target=\"_blank\" href=https://colab.research.google.com/notebooks/data_table.ipynb>data table notebook</a>'\n",
              "            + ' to learn more about interactive tables.';\n",
              "          element.innerHTML = '';\n",
              "          dataTable['output_type'] = 'display_data';\n",
              "          await google.colab.output.renderOutput(dataTable, element);\n",
              "          const docLink = document.createElement('div');\n",
              "          docLink.innerHTML = docLinkHtml;\n",
              "          element.appendChild(docLink);\n",
              "        }\n",
              "      </script>\n",
              "    </div>\n",
              "  </div>\n",
              "  "
            ]
          },
          "metadata": {},
          "execution_count": 24
        }
      ]
    },
    {
      "cell_type": "code",
      "source": [
        "df['Review Title'] = df['Review Title'].str.strip()\n",
        "df['Review'] = df['Review'].str.strip()\n",
        "df.head()"
      ],
      "metadata": {
        "id": "GHU1BYj4bza0",
        "outputId": "23c65e99-5620-4850-b159-63bf0d74238e",
        "colab": {
          "base_uri": "https://localhost:8080/",
          "height": 206
        }
      },
      "execution_count": 25,
      "outputs": [
        {
          "output_type": "execute_result",
          "data": {
            "text/plain": [
              "                                        Product_name Model_Type Brand  Price  \\\n",
              "0          RCA Reno Smartphone 4G LTE 16GB Androi...  RCA Reno    RCA     69   \n",
              "2          RCA Reno Smartphone 4G LTE 16GB Androi...  RCA Reno    RCA     69   \n",
              "3          RCA Reno Smartphone 4G LTE 16GB Androi...  RCA Reno    RCA     69   \n",
              "4          RCA Reno Smartphone 4G LTE 16GB Androi...  RCA Reno    RCA     69   \n",
              "5          RCA Reno Smartphone 4G LTE 16GB Androi...  RCA Reno    RCA     69   \n",
              "\n",
              "  Review Date Rating                                       Review Title  \\\n",
              "0  2022-02-11      4  .. not what ordered, not New... but it works s...   \n",
              "2  2022-06-07      3                   Will not work on T-Mobile sysem!   \n",
              "3  2022-04-14      3                              A burner or for a kid   \n",
              "4  2022-08-13      4                                      It works okay   \n",
              "5  2022-05-10      3                                              Phone   \n",
              "\n",
              "                                              Review  \n",
              "0  So first off...it's not what I ordered, but I ...  \n",
              "2  New phone write up indicates T-Mobile system c...  \n",
              "3  I use this as a burner w/o a sim card in it. J...  \n",
              "4                                      It works fine  \n",
              "5  So far I don't like this phone at all, I threw...  "
            ],
            "text/html": [
              "\n",
              "  <div id=\"df-6de853e9-3a46-43fa-bdc7-5a0759fca4ea\">\n",
              "    <div class=\"colab-df-container\">\n",
              "      <div>\n",
              "<style scoped>\n",
              "    .dataframe tbody tr th:only-of-type {\n",
              "        vertical-align: middle;\n",
              "    }\n",
              "\n",
              "    .dataframe tbody tr th {\n",
              "        vertical-align: top;\n",
              "    }\n",
              "\n",
              "    .dataframe thead th {\n",
              "        text-align: right;\n",
              "    }\n",
              "</style>\n",
              "<table border=\"1\" class=\"dataframe\">\n",
              "  <thead>\n",
              "    <tr style=\"text-align: right;\">\n",
              "      <th></th>\n",
              "      <th>Product_name</th>\n",
              "      <th>Model_Type</th>\n",
              "      <th>Brand</th>\n",
              "      <th>Price</th>\n",
              "      <th>Review Date</th>\n",
              "      <th>Rating</th>\n",
              "      <th>Review Title</th>\n",
              "      <th>Review</th>\n",
              "    </tr>\n",
              "  </thead>\n",
              "  <tbody>\n",
              "    <tr>\n",
              "      <th>0</th>\n",
              "      <td>RCA Reno Smartphone 4G LTE 16GB Androi...</td>\n",
              "      <td>RCA Reno</td>\n",
              "      <td>RCA</td>\n",
              "      <td>69</td>\n",
              "      <td>2022-02-11</td>\n",
              "      <td>4</td>\n",
              "      <td>.. not what ordered, not New... but it works s...</td>\n",
              "      <td>So first off...it's not what I ordered, but I ...</td>\n",
              "    </tr>\n",
              "    <tr>\n",
              "      <th>2</th>\n",
              "      <td>RCA Reno Smartphone 4G LTE 16GB Androi...</td>\n",
              "      <td>RCA Reno</td>\n",
              "      <td>RCA</td>\n",
              "      <td>69</td>\n",
              "      <td>2022-06-07</td>\n",
              "      <td>3</td>\n",
              "      <td>Will not work on T-Mobile sysem!</td>\n",
              "      <td>New phone write up indicates T-Mobile system c...</td>\n",
              "    </tr>\n",
              "    <tr>\n",
              "      <th>3</th>\n",
              "      <td>RCA Reno Smartphone 4G LTE 16GB Androi...</td>\n",
              "      <td>RCA Reno</td>\n",
              "      <td>RCA</td>\n",
              "      <td>69</td>\n",
              "      <td>2022-04-14</td>\n",
              "      <td>3</td>\n",
              "      <td>A burner or for a kid</td>\n",
              "      <td>I use this as a burner w/o a sim card in it. J...</td>\n",
              "    </tr>\n",
              "    <tr>\n",
              "      <th>4</th>\n",
              "      <td>RCA Reno Smartphone 4G LTE 16GB Androi...</td>\n",
              "      <td>RCA Reno</td>\n",
              "      <td>RCA</td>\n",
              "      <td>69</td>\n",
              "      <td>2022-08-13</td>\n",
              "      <td>4</td>\n",
              "      <td>It works okay</td>\n",
              "      <td>It works fine</td>\n",
              "    </tr>\n",
              "    <tr>\n",
              "      <th>5</th>\n",
              "      <td>RCA Reno Smartphone 4G LTE 16GB Androi...</td>\n",
              "      <td>RCA Reno</td>\n",
              "      <td>RCA</td>\n",
              "      <td>69</td>\n",
              "      <td>2022-05-10</td>\n",
              "      <td>3</td>\n",
              "      <td>Phone</td>\n",
              "      <td>So far I don't like this phone at all, I threw...</td>\n",
              "    </tr>\n",
              "  </tbody>\n",
              "</table>\n",
              "</div>\n",
              "      <button class=\"colab-df-convert\" onclick=\"convertToInteractive('df-6de853e9-3a46-43fa-bdc7-5a0759fca4ea')\"\n",
              "              title=\"Convert this dataframe to an interactive table.\"\n",
              "              style=\"display:none;\">\n",
              "        \n",
              "  <svg xmlns=\"http://www.w3.org/2000/svg\" height=\"24px\"viewBox=\"0 0 24 24\"\n",
              "       width=\"24px\">\n",
              "    <path d=\"M0 0h24v24H0V0z\" fill=\"none\"/>\n",
              "    <path d=\"M18.56 5.44l.94 2.06.94-2.06 2.06-.94-2.06-.94-.94-2.06-.94 2.06-2.06.94zm-11 1L8.5 8.5l.94-2.06 2.06-.94-2.06-.94L8.5 2.5l-.94 2.06-2.06.94zm10 10l.94 2.06.94-2.06 2.06-.94-2.06-.94-.94-2.06-.94 2.06-2.06.94z\"/><path d=\"M17.41 7.96l-1.37-1.37c-.4-.4-.92-.59-1.43-.59-.52 0-1.04.2-1.43.59L10.3 9.45l-7.72 7.72c-.78.78-.78 2.05 0 2.83L4 21.41c.39.39.9.59 1.41.59.51 0 1.02-.2 1.41-.59l7.78-7.78 2.81-2.81c.8-.78.8-2.07 0-2.86zM5.41 20L4 18.59l7.72-7.72 1.47 1.35L5.41 20z\"/>\n",
              "  </svg>\n",
              "      </button>\n",
              "      \n",
              "  <style>\n",
              "    .colab-df-container {\n",
              "      display:flex;\n",
              "      flex-wrap:wrap;\n",
              "      gap: 12px;\n",
              "    }\n",
              "\n",
              "    .colab-df-convert {\n",
              "      background-color: #E8F0FE;\n",
              "      border: none;\n",
              "      border-radius: 50%;\n",
              "      cursor: pointer;\n",
              "      display: none;\n",
              "      fill: #1967D2;\n",
              "      height: 32px;\n",
              "      padding: 0 0 0 0;\n",
              "      width: 32px;\n",
              "    }\n",
              "\n",
              "    .colab-df-convert:hover {\n",
              "      background-color: #E2EBFA;\n",
              "      box-shadow: 0px 1px 2px rgba(60, 64, 67, 0.3), 0px 1px 3px 1px rgba(60, 64, 67, 0.15);\n",
              "      fill: #174EA6;\n",
              "    }\n",
              "\n",
              "    [theme=dark] .colab-df-convert {\n",
              "      background-color: #3B4455;\n",
              "      fill: #D2E3FC;\n",
              "    }\n",
              "\n",
              "    [theme=dark] .colab-df-convert:hover {\n",
              "      background-color: #434B5C;\n",
              "      box-shadow: 0px 1px 3px 1px rgba(0, 0, 0, 0.15);\n",
              "      filter: drop-shadow(0px 1px 2px rgba(0, 0, 0, 0.3));\n",
              "      fill: #FFFFFF;\n",
              "    }\n",
              "  </style>\n",
              "\n",
              "      <script>\n",
              "        const buttonEl =\n",
              "          document.querySelector('#df-6de853e9-3a46-43fa-bdc7-5a0759fca4ea button.colab-df-convert');\n",
              "        buttonEl.style.display =\n",
              "          google.colab.kernel.accessAllowed ? 'block' : 'none';\n",
              "\n",
              "        async function convertToInteractive(key) {\n",
              "          const element = document.querySelector('#df-6de853e9-3a46-43fa-bdc7-5a0759fca4ea');\n",
              "          const dataTable =\n",
              "            await google.colab.kernel.invokeFunction('convertToInteractive',\n",
              "                                                     [key], {});\n",
              "          if (!dataTable) return;\n",
              "\n",
              "          const docLinkHtml = 'Like what you see? Visit the ' +\n",
              "            '<a target=\"_blank\" href=https://colab.research.google.com/notebooks/data_table.ipynb>data table notebook</a>'\n",
              "            + ' to learn more about interactive tables.';\n",
              "          element.innerHTML = '';\n",
              "          dataTable['output_type'] = 'display_data';\n",
              "          await google.colab.output.renderOutput(dataTable, element);\n",
              "          const docLink = document.createElement('div');\n",
              "          docLink.innerHTML = docLinkHtml;\n",
              "          element.appendChild(docLink);\n",
              "        }\n",
              "      </script>\n",
              "    </div>\n",
              "  </div>\n",
              "  "
            ]
          },
          "metadata": {},
          "execution_count": 25
        }
      ]
    },
    {
      "cell_type": "code",
      "source": [
        "# Confirming new changes have created new missing values and if yes drop them\n",
        "print(missing_data(df))\n",
        "df.dropna(inplace = True)"
      ],
      "metadata": {
        "colab": {
          "base_uri": "https://localhost:8080/"
        },
        "id": "gxWPfEHUBy1U",
        "outputId": "b666bb3b-3c55-4cd2-940c-b7836260064a"
      },
      "execution_count": 26,
      "outputs": [
        {
          "output_type": "stream",
          "name": "stdout",
          "text": [
            "Review Date    12\n",
            "dtype: int64\n"
          ]
        }
      ]
    },
    {
      "cell_type": "code",
      "source": [
        "# Explore the shape of the cleaned dataframe\n",
        "df.shape"
      ],
      "metadata": {
        "id": "jtroqUXtcRjJ",
        "outputId": "3d26dc50-375e-4d68-bb66-cb3f94f52b86",
        "colab": {
          "base_uri": "https://localhost:8080/"
        }
      },
      "execution_count": 27,
      "outputs": [
        {
          "output_type": "execute_result",
          "data": {
            "text/plain": [
              "(9144, 8)"
            ]
          },
          "metadata": {},
          "execution_count": 27
        }
      ]
    },
    {
      "cell_type": "code",
      "source": [
        "# Dropping  unnecessary columns\n",
        "\n",
        "df.drop('Product_name', axis=1, inplace=True)"
      ],
      "metadata": {
        "id": "MepPP8ljQPQN"
      },
      "execution_count": 28,
      "outputs": []
    },
    {
      "cell_type": "markdown",
      "source": [
        "# 6. Exploratory Data Analysis(EDA)\n",
        "\n",
        "- Create a Pandas Profile\n",
        "- Find out the  relationship between product rating and reviews.\n",
        "- Explore the  relationship between brand and price.\n",
        "- Explore  the relationship between brand and number of reviews\n",
        "- Word cloud of most-used words in reviews.\n",
        "- Trend of reviews over the years.\n",
        "- Find out the relationship between price and product rating.\n",
        "\n",
        "\n"
      ],
      "metadata": {
        "id": "_T_okllJH8rm"
      }
    },
    {
      "cell_type": "markdown",
      "source": [
        "### 6.1 Pandas Profiling\n"
      ],
      "metadata": {
        "id": "j5BLFxqiNbL4"
      }
    },
    {
      "cell_type": "code",
      "source": [
        "import pandas_profiling\n",
        "\n",
        "from pandas_profiling import ProfileReport\n"
      ],
      "metadata": {
        "id": "1W-4xyRMLYqy"
      },
      "execution_count": 29,
      "outputs": []
    },
    {
      "cell_type": "code",
      "source": [
        "#report = ProfileReport(df, title='Pandas Profiling Report')\n",
        "#report"
      ],
      "metadata": {
        "id": "6FD8d8gfMIgG"
      },
      "execution_count": 30,
      "outputs": []
    },
    {
      "cell_type": "markdown",
      "source": [
        "The pandas profile"
      ],
      "metadata": {
        "id": "qLvPFUsMP5cl"
      }
    },
    {
      "cell_type": "code",
      "source": [
        "# report.to_file(output_file='Amazon_Pandas_profile.html')"
      ],
      "metadata": {
        "id": "CbPHPmd5M_6P"
      },
      "execution_count": 31,
      "outputs": []
    },
    {
      "cell_type": "markdown",
      "source": [
        "Summary of Profile Report:\n",
        "\n",
        "Overview\n",
        "- The dataset has 9144 rows and 9 columns, 6 of which are categorical, 1 is a date column and 2 are numerical variables.\n",
        "\n",
        "Variables\n",
        "\n",
        "- Minimum price is 1 dollar and maximum price is 799 dollars. This might show the presence of outliers that might need to be addressed later.\n",
        "- Top smartphone brands within the dataset are; Amazon Refurbished, Motorola, Blu, TLC and OnePlus.\n",
        "- The review dates range from Novemver 2014 to September 2022.\n",
        "\n",
        "- Most common words in the review column are Good, Love it, excelente, great phone and nice.\n",
        "\n",
        "- - Most common words in the review title column are great phone, good phone and good.\n",
        "\n",
        "\n",
        "Missing Values\n",
        "\n",
        "- No missing values in the dataset."
      ],
      "metadata": {
        "id": "DpMbIu__WCqI"
      }
    },
    {
      "cell_type": "markdown",
      "source": [
        "### 6.2. Relationship between ratings and reviews"
      ],
      "metadata": {
        "id": "2A_s7CmtWSPh"
      }
    },
    {
      "cell_type": "code",
      "source": [
        "# Group by relevant columns\n",
        "ratings_review = df.groupby('Rating')['Review'].count()"
      ],
      "metadata": {
        "id": "00kVht0zWDi6"
      },
      "execution_count": 32,
      "outputs": []
    },
    {
      "cell_type": "code",
      "source": [
        "# plot the data\n",
        "ax1 = ratings_review.plot(kind='bar', figsize=(15,8), color=\"green\", fontsize = 13);\n",
        "ax1.set_alpha(0.8)\n",
        "ax1.set_title('Distribution of Reviews by Product Rating', fontsize = 20)\n",
        "ax1.set_ylabel(\"Number of Reviews\", fontsize = 15);\n",
        "ax1.set_xlabel(\"Ratings\", fontsize = 15 )\n",
        "plt.show();\n"
      ],
      "metadata": {
        "id": "r1rMzE3xYMym"
      },
      "execution_count": 33,
      "outputs": []
    },
    {
      "cell_type": "markdown",
      "source": [
        "Mobile phones with higher rating receive the highest number of reviews followed by phones with the least review rating."
      ],
      "metadata": {
        "id": "aj_LEeZ6bkr9"
      }
    },
    {
      "cell_type": "markdown",
      "source": [
        "### 6.3. Brands with the highest reviews and with distribution of average prices"
      ],
      "metadata": {
        "id": "POZTRRVtb1jE"
      }
    },
    {
      "cell_type": "code",
      "source": [
        "# Group relevant columns\n",
        "brand_reviews = df.groupby('Brand')['Review'].count().sort_values(ascending = False).head(10)\n",
        "brand_prices = df.groupby('Brand')['Price'].max().sort_values(ascending = False).head(10)"
      ],
      "metadata": {
        "id": "mke5zr13cgj0"
      },
      "execution_count": 34,
      "outputs": []
    },
    {
      "cell_type": "code",
      "source": [
        "# Plot the data\n",
        "ax1 = brand_reviews.plot(kind = 'bar', figsize = (15,8), color = 'green', fontsize = 13);\n",
        "ax1.set_alpha(0.8)\n",
        "ax1.set_title('Number of Reviews by Brands', fontsize = 26)\n",
        "ax1.set_ylabel('Number of Reviews', fontsize = 20);\n",
        "ax1.set_xlabel('Brand', fontsize = 20)\n",
        "plt.show();\n",
        "\n"
      ],
      "metadata": {
        "id": "SQa-5aIddUCB"
      },
      "execution_count": 35,
      "outputs": []
    },
    {
      "cell_type": "code",
      "source": [
        "ax2 = brand_prices.plot(kind = 'bar', figsize = (15,8), color = 'green', fontsize = 13);\n",
        "ax2.set_alpha(0.8)\n",
        "ax2.set_title('Priciest Phones by Brands', fontsize = 26)\n",
        "ax2.set_ylabel('Price', fontsize = 20);\n",
        "ax2.set_xlabel('Brand', fontsize = 20)\n",
        "plt.xticks(fontsize = 18)\n",
        "plt.show();"
      ],
      "metadata": {
        "id": "LdWct8RVchaK"
      },
      "execution_count": 36,
      "outputs": []
    },
    {
      "cell_type": "markdown",
      "source": [
        "Refurbished phones have the highest number of reviews while Samsung phones have the priciest phones. Samsung is one of the top phone brands in the world and with high performance, which could explain the high prices of its models."
      ],
      "metadata": {
        "id": "XnE0A-sbCugS"
      }
    },
    {
      "cell_type": "markdown",
      "source": [
        "### 6.4. Word cloud of the most-used words in reviews."
      ],
      "metadata": {
        "id": "10pgiTbZLkQV"
      }
    },
    {
      "cell_type": "code",
      "source": [
        "# Plot a word cloud \n",
        "comment_words = ''\n",
        "stopwords = set(STOPWORDS)\n",
        " \n",
        "# iterate through the csv file\n",
        "for val in df.Review:\n",
        "     \n",
        "    # typecaste each val to string\n",
        "    val = str(val)\n",
        " \n",
        "    # split the value\n",
        "    tokens = val.split()\n",
        "     \n",
        "    # Converts each token into lowercase\n",
        "    for i in range(len(tokens)):\n",
        "        tokens[i] = tokens[i].lower()\n",
        "     \n",
        "    comment_words += \" \".join(tokens)+\" \"\n",
        " \n",
        "wordcloud = WordCloud(width = 800, height = 800,\n",
        "                background_color ='white',\n",
        "                stopwords = stopwords,\n",
        "                min_font_size = 10).generate(comment_words)\n",
        " \n",
        "# plot the WordCloud image                      \n",
        "plt.figure(figsize = (8, 8), facecolor = None)\n",
        "plt.imshow(wordcloud)\n",
        "plt.axis(\"off\")\n",
        "plt.tight_layout(pad = 0)\n",
        " \n",
        "plt.show() "
      ],
      "metadata": {
        "id": "qGdXICzYFC7_"
      },
      "execution_count": 37,
      "outputs": []
    },
    {
      "cell_type": "markdown",
      "source": [
        "good, great, battery price, issue and work are some of the words that pop up more in the reviews"
      ],
      "metadata": {
        "id": "retZ9MLuLv-X"
      }
    },
    {
      "cell_type": "markdown",
      "source": [
        "### 6.5. Trend of reviews over the years"
      ],
      "metadata": {
        "id": "U9T5Vm32DDk7"
      }
    },
    {
      "cell_type": "code",
      "source": [
        "# Create a new dataframe to use while maintaining the original\n",
        "new_df = df.copy()\n",
        "\n",
        "# Extract year from the new dataframe\n",
        "new_df['year'] = new_df['Review Date'].dt.year\n",
        "\n",
        "# Group by relevant columns\n",
        "review_date = new_df.groupby('year')['Review'].count()\n",
        "review_date = pd.DataFrame(review_date).reset_index()\n",
        "\n",
        "# plot the data\n",
        "review_date.plot.line(x = 'year', y = 'Review', color = 'green', figsize=(15, 8));\n"
      ],
      "metadata": {
        "id": "OgYcWifyr_jw"
      },
      "execution_count": 38,
      "outputs": []
    },
    {
      "cell_type": "markdown",
      "source": [
        "The rate of customer reviews took a major increase from 2020. This could be attributed to the Covid Pandemic where people spent lots of time indoors and online shopping was at an all time high."
      ],
      "metadata": {
        "id": "mH7ynHgzKm8q"
      }
    },
    {
      "cell_type": "markdown",
      "source": [
        "### 6.6. Relationship between price and Ratings"
      ],
      "metadata": {
        "id": "j57V0wdPQYqD"
      }
    },
    {
      "cell_type": "code",
      "source": [
        "# Group by relevant columns\n",
        "review_price = new_df.groupby('Price')['Rating'].count()\n",
        "review_price = pd.DataFrame(review_price).reset_index()\n",
        "\n",
        "# Plot the data\n",
        "fig, ax = plt.subplots(figsize=(15,8))\n",
        "sns.scatterplot(x = 'Price', y = 'Rating', data = review_price, color = 'green')\n",
        "plt.show();"
      ],
      "metadata": {
        "id": "rvxxPQ21MRA-"
      },
      "execution_count": 39,
      "outputs": []
    },
    {
      "cell_type": "markdown",
      "source": [
        "The scatter plot above does not show a correlation between price and rating."
      ],
      "metadata": {
        "id": "j7ie6hWGHFbh"
      }
    },
    {
      "cell_type": "markdown",
      "source": [
        "# 7. Implementing the Solution"
      ],
      "metadata": {
        "id": "NJ74jj_gILmq"
      }
    },
    {
      "cell_type": "markdown",
      "source": [
        "## 7.1 Preprocessing"
      ],
      "metadata": {
        "id": "ltml7Fi0IWtU"
      }
    },
    {
      "cell_type": "markdown",
      "source": [
        "- tokenization\n",
        "- lowercasing our words\n",
        "- lemmatization/stemming\n",
        "- vectorization"
      ],
      "metadata": {
        "id": "o0uCfjjMc55O"
      }
    },
    {
      "cell_type": "markdown",
      "source": [
        "The first step will be to perform a contraction the reviews, to make sure that our words are expanded, for example, `isn't` would be expanded to `is not`"
      ],
      "metadata": {
        "id": "kUjnaFyic7pW"
      }
    },
    {
      "cell_type": "code",
      "source": [
        "# fixing contractions\n",
        "def text_contraction(text):\n",
        "  \n",
        "  # creating an empty list\n",
        "  expanded_words = []\n",
        "\n",
        "  for word in text.split():\n",
        "    # using contractions.fix to expand the shortened words\n",
        "    expanded_words.append(contractions.fix(word))  \n",
        "    \n",
        "  expanded_text = ' '.join(expanded_words)\n",
        "\n",
        "  return expanded_text"
      ],
      "metadata": {
        "id": "qea3BKHBc_xn"
      },
      "execution_count": 40,
      "outputs": []
    },
    {
      "cell_type": "code",
      "source": [
        "# apply the contraction funtion to our reviews\n",
        "\n",
        "df['Review Title'] = df['Review Title'].map(lambda x: text_contraction(x))\n",
        "df['Review'] = df['Review'].map(lambda x: text_contraction(x))\n",
        "df.head()"
      ],
      "metadata": {
        "id": "rfKpSVI9dDpY",
        "outputId": "81ee27ce-b6ac-4217-b9b3-a89c1ece4377",
        "colab": {
          "base_uri": "https://localhost:8080/",
          "height": 206
        }
      },
      "execution_count": 41,
      "outputs": [
        {
          "output_type": "execute_result",
          "data": {
            "text/plain": [
              "  Model_Type Brand  Price Review Date Rating  \\\n",
              "0  RCA Reno    RCA     69  2022-02-11      4   \n",
              "2  RCA Reno    RCA     69  2022-06-07      3   \n",
              "3  RCA Reno    RCA     69  2022-04-14      3   \n",
              "4  RCA Reno    RCA     69  2022-08-13      4   \n",
              "5  RCA Reno    RCA     69  2022-05-10      3   \n",
              "\n",
              "                                        Review Title  \\\n",
              "0  .. not what ordered, not New... but it works s...   \n",
              "2                   Will not work on T-Mobile sysem!   \n",
              "3                              A burner or for a kid   \n",
              "4                                      It works okay   \n",
              "5                                              Phone   \n",
              "\n",
              "                                              Review  \n",
              "0  So first off...it is not what I ordered, but I...  \n",
              "2  New phone write up indicates T-Mobile system c...  \n",
              "3  I use this as a burner w/o a sim card in it. J...  \n",
              "4                                      It works fine  \n",
              "5  So far I do not like this phone at all, I thre...  "
            ],
            "text/html": [
              "\n",
              "  <div id=\"df-a5141ac4-b0aa-4956-b627-f926ec2208f7\">\n",
              "    <div class=\"colab-df-container\">\n",
              "      <div>\n",
              "<style scoped>\n",
              "    .dataframe tbody tr th:only-of-type {\n",
              "        vertical-align: middle;\n",
              "    }\n",
              "\n",
              "    .dataframe tbody tr th {\n",
              "        vertical-align: top;\n",
              "    }\n",
              "\n",
              "    .dataframe thead th {\n",
              "        text-align: right;\n",
              "    }\n",
              "</style>\n",
              "<table border=\"1\" class=\"dataframe\">\n",
              "  <thead>\n",
              "    <tr style=\"text-align: right;\">\n",
              "      <th></th>\n",
              "      <th>Model_Type</th>\n",
              "      <th>Brand</th>\n",
              "      <th>Price</th>\n",
              "      <th>Review Date</th>\n",
              "      <th>Rating</th>\n",
              "      <th>Review Title</th>\n",
              "      <th>Review</th>\n",
              "    </tr>\n",
              "  </thead>\n",
              "  <tbody>\n",
              "    <tr>\n",
              "      <th>0</th>\n",
              "      <td>RCA Reno</td>\n",
              "      <td>RCA</td>\n",
              "      <td>69</td>\n",
              "      <td>2022-02-11</td>\n",
              "      <td>4</td>\n",
              "      <td>.. not what ordered, not New... but it works s...</td>\n",
              "      <td>So first off...it is not what I ordered, but I...</td>\n",
              "    </tr>\n",
              "    <tr>\n",
              "      <th>2</th>\n",
              "      <td>RCA Reno</td>\n",
              "      <td>RCA</td>\n",
              "      <td>69</td>\n",
              "      <td>2022-06-07</td>\n",
              "      <td>3</td>\n",
              "      <td>Will not work on T-Mobile sysem!</td>\n",
              "      <td>New phone write up indicates T-Mobile system c...</td>\n",
              "    </tr>\n",
              "    <tr>\n",
              "      <th>3</th>\n",
              "      <td>RCA Reno</td>\n",
              "      <td>RCA</td>\n",
              "      <td>69</td>\n",
              "      <td>2022-04-14</td>\n",
              "      <td>3</td>\n",
              "      <td>A burner or for a kid</td>\n",
              "      <td>I use this as a burner w/o a sim card in it. J...</td>\n",
              "    </tr>\n",
              "    <tr>\n",
              "      <th>4</th>\n",
              "      <td>RCA Reno</td>\n",
              "      <td>RCA</td>\n",
              "      <td>69</td>\n",
              "      <td>2022-08-13</td>\n",
              "      <td>4</td>\n",
              "      <td>It works okay</td>\n",
              "      <td>It works fine</td>\n",
              "    </tr>\n",
              "    <tr>\n",
              "      <th>5</th>\n",
              "      <td>RCA Reno</td>\n",
              "      <td>RCA</td>\n",
              "      <td>69</td>\n",
              "      <td>2022-05-10</td>\n",
              "      <td>3</td>\n",
              "      <td>Phone</td>\n",
              "      <td>So far I do not like this phone at all, I thre...</td>\n",
              "    </tr>\n",
              "  </tbody>\n",
              "</table>\n",
              "</div>\n",
              "      <button class=\"colab-df-convert\" onclick=\"convertToInteractive('df-a5141ac4-b0aa-4956-b627-f926ec2208f7')\"\n",
              "              title=\"Convert this dataframe to an interactive table.\"\n",
              "              style=\"display:none;\">\n",
              "        \n",
              "  <svg xmlns=\"http://www.w3.org/2000/svg\" height=\"24px\"viewBox=\"0 0 24 24\"\n",
              "       width=\"24px\">\n",
              "    <path d=\"M0 0h24v24H0V0z\" fill=\"none\"/>\n",
              "    <path d=\"M18.56 5.44l.94 2.06.94-2.06 2.06-.94-2.06-.94-.94-2.06-.94 2.06-2.06.94zm-11 1L8.5 8.5l.94-2.06 2.06-.94-2.06-.94L8.5 2.5l-.94 2.06-2.06.94zm10 10l.94 2.06.94-2.06 2.06-.94-2.06-.94-.94-2.06-.94 2.06-2.06.94z\"/><path d=\"M17.41 7.96l-1.37-1.37c-.4-.4-.92-.59-1.43-.59-.52 0-1.04.2-1.43.59L10.3 9.45l-7.72 7.72c-.78.78-.78 2.05 0 2.83L4 21.41c.39.39.9.59 1.41.59.51 0 1.02-.2 1.41-.59l7.78-7.78 2.81-2.81c.8-.78.8-2.07 0-2.86zM5.41 20L4 18.59l7.72-7.72 1.47 1.35L5.41 20z\"/>\n",
              "  </svg>\n",
              "      </button>\n",
              "      \n",
              "  <style>\n",
              "    .colab-df-container {\n",
              "      display:flex;\n",
              "      flex-wrap:wrap;\n",
              "      gap: 12px;\n",
              "    }\n",
              "\n",
              "    .colab-df-convert {\n",
              "      background-color: #E8F0FE;\n",
              "      border: none;\n",
              "      border-radius: 50%;\n",
              "      cursor: pointer;\n",
              "      display: none;\n",
              "      fill: #1967D2;\n",
              "      height: 32px;\n",
              "      padding: 0 0 0 0;\n",
              "      width: 32px;\n",
              "    }\n",
              "\n",
              "    .colab-df-convert:hover {\n",
              "      background-color: #E2EBFA;\n",
              "      box-shadow: 0px 1px 2px rgba(60, 64, 67, 0.3), 0px 1px 3px 1px rgba(60, 64, 67, 0.15);\n",
              "      fill: #174EA6;\n",
              "    }\n",
              "\n",
              "    [theme=dark] .colab-df-convert {\n",
              "      background-color: #3B4455;\n",
              "      fill: #D2E3FC;\n",
              "    }\n",
              "\n",
              "    [theme=dark] .colab-df-convert:hover {\n",
              "      background-color: #434B5C;\n",
              "      box-shadow: 0px 1px 3px 1px rgba(0, 0, 0, 0.15);\n",
              "      filter: drop-shadow(0px 1px 2px rgba(0, 0, 0, 0.3));\n",
              "      fill: #FFFFFF;\n",
              "    }\n",
              "  </style>\n",
              "\n",
              "      <script>\n",
              "        const buttonEl =\n",
              "          document.querySelector('#df-a5141ac4-b0aa-4956-b627-f926ec2208f7 button.colab-df-convert');\n",
              "        buttonEl.style.display =\n",
              "          google.colab.kernel.accessAllowed ? 'block' : 'none';\n",
              "\n",
              "        async function convertToInteractive(key) {\n",
              "          const element = document.querySelector('#df-a5141ac4-b0aa-4956-b627-f926ec2208f7');\n",
              "          const dataTable =\n",
              "            await google.colab.kernel.invokeFunction('convertToInteractive',\n",
              "                                                     [key], {});\n",
              "          if (!dataTable) return;\n",
              "\n",
              "          const docLinkHtml = 'Like what you see? Visit the ' +\n",
              "            '<a target=\"_blank\" href=https://colab.research.google.com/notebooks/data_table.ipynb>data table notebook</a>'\n",
              "            + ' to learn more about interactive tables.';\n",
              "          element.innerHTML = '';\n",
              "          dataTable['output_type'] = 'display_data';\n",
              "          await google.colab.output.renderOutput(dataTable, element);\n",
              "          const docLink = document.createElement('div');\n",
              "          docLink.innerHTML = docLinkHtml;\n",
              "          element.appendChild(docLink);\n",
              "        }\n",
              "      </script>\n",
              "    </div>\n",
              "  </div>\n",
              "  "
            ]
          },
          "metadata": {},
          "execution_count": 41
        }
      ]
    },
    {
      "cell_type": "code",
      "source": [
        "sentence = 'Today is Monday, 3 pm'\n",
        "\n",
        "punctuation = string.punctuation\n",
        "\n",
        "  # lower case our string\n",
        "  # text = str([word.lower() for word in t\n",
        "  # remove the digits\n",
        "sentence = re.sub('\\d', '', sentence)\n",
        "\n",
        "  # cretae our word tokens\n",
        "tokens = word_tokenize(sentence)\n",
        "\n",
        "print(tokens)"
      ],
      "metadata": {
        "id": "boe47xPnjnMw",
        "outputId": "c082d141-6177-46e1-bcf0-168dc62e6235",
        "colab": {
          "base_uri": "https://localhost:8080/"
        }
      },
      "execution_count": 42,
      "outputs": [
        {
          "output_type": "stream",
          "name": "stdout",
          "text": [
            "['Today', 'is', 'Monday', ',', 'pm']\n"
          ]
        }
      ]
    },
    {
      "cell_type": "code",
      "source": [
        "nltk.download('stopwords')"
      ],
      "metadata": {
        "id": "yoKBOnUUkuIx",
        "outputId": "1630b775-a37e-477c-9113-178254cf34a8",
        "colab": {
          "base_uri": "https://localhost:8080/"
        }
      },
      "execution_count": 43,
      "outputs": [
        {
          "output_type": "stream",
          "name": "stderr",
          "text": [
            "[nltk_data] Downloading package stopwords to /root/nltk_data...\n",
            "[nltk_data]   Package stopwords is already up-to-date!\n"
          ]
        },
        {
          "output_type": "execute_result",
          "data": {
            "text/plain": [
              "True"
            ]
          },
          "metadata": {},
          "execution_count": 43
        }
      ]
    },
    {
      "cell_type": "code",
      "source": [
        "from nltk.corpus import stopwords"
      ],
      "metadata": {
        "id": "PZQEX6IbnOS2"
      },
      "execution_count": 44,
      "outputs": []
    },
    {
      "cell_type": "code",
      "source": [
        "# grab the stop words from stopwords.words('english)\n",
        "#stopwords_list = stopwords.words('english')\n",
        "#stopwords_list += punctuation\n",
        "\n",
        "stopwords_list = stopwords.words('english') + list(string.punctuation)\n",
        "stopwords_list += [\"''\", '\"\"', '...', '``']\n",
        "\n",
        "# remove the stop words\n",
        "clean_list = [word.lower() for word in tokens if word.lower() not in stopwords_list]\n",
        "\n",
        "print(clean_list)"
      ],
      "metadata": {
        "id": "YJpAkRfIj9gt",
        "outputId": "d9265333-9618-4fa2-a9cf-3d2d203ac373",
        "colab": {
          "base_uri": "https://localhost:8080/"
        }
      },
      "execution_count": 45,
      "outputs": [
        {
          "output_type": "stream",
          "name": "stdout",
          "text": [
            "['today', 'monday', 'pm']\n"
          ]
        }
      ]
    },
    {
      "cell_type": "code",
      "source": [
        "# tokenization\n",
        "\n",
        "def tokenize_words(text):\n",
        "  # grab all the punctuations\n",
        "  punctuation = string.punctuation\n",
        "\n",
        "  # lower case our string\n",
        "  # text = str([word.lower() for word in t\n",
        "  # remove the digits\n",
        "  text = re.sub('\\d', '', text)\n",
        "\n",
        "  # cretae our word tokens\n",
        "  tokens = word_tokenize(text)\n",
        "\n",
        "  # grab the stop words from stopwords.words('english)\n",
        "  # stopwords_list = stopwords.words('english')\n",
        "  # stopwords_list += punctuation\n",
        "  stopwords_list = stopwords.words('english') + list(string.punctuation)\n",
        "  stopwords_list += [\"''\", '\"\"', '...', '``', '..', '....']\n",
        "\n",
        "  # remove the stop words\n",
        "  clean_list = [word.lower() for word in tokens if word.lower() not in stopwords_list]\n",
        "  \n",
        "  # return a clean tokenized set\n",
        "  return clean_list"
      ],
      "metadata": {
        "id": "7gEYfwIVdG_u"
      },
      "execution_count": 46,
      "outputs": []
    },
    {
      "cell_type": "code",
      "source": [
        "df['Review'] = df['Review'].map(lambda x: tokenize_words(x))\n",
        "df['Review Title'] = df['Review Title'].map(lambda x: tokenize_words(x))\n",
        "df.head()"
      ],
      "metadata": {
        "id": "2K6O6N7jdL66",
        "outputId": "3643e8d0-0e95-4a11-a0bd-c102d869a24f",
        "colab": {
          "base_uri": "https://localhost:8080/",
          "height": 206
        }
      },
      "execution_count": 47,
      "outputs": [
        {
          "output_type": "execute_result",
          "data": {
            "text/plain": [
              "  Model_Type Brand  Price Review Date Rating                Review Title  \\\n",
              "0  RCA Reno    RCA     69  2022-02-11      4  [ordered, new, works, far]   \n",
              "2  RCA Reno    RCA     69  2022-06-07      3     [work, t-mobile, sysem]   \n",
              "3  RCA Reno    RCA     69  2022-04-14      3               [burner, kid]   \n",
              "4  RCA Reno    RCA     69  2022-08-13      4               [works, okay]   \n",
              "5  RCA Reno    RCA     69  2022-05-10      3                     [phone]   \n",
              "\n",
              "                                              Review  \n",
              "0  [first, ordered, really, care, burner.i, order...  \n",
              "2  [new, phone, write, indicates, t-mobile, syste...  \n",
              "3  [use, burner, w/o, sim, card, things, others, ...  \n",
              "4                                      [works, fine]  \n",
              "5  [far, like, phone, threw, booklet, accident, c...  "
            ],
            "text/html": [
              "\n",
              "  <div id=\"df-eaddb5b1-4d69-4124-a10a-4ab26e905c89\">\n",
              "    <div class=\"colab-df-container\">\n",
              "      <div>\n",
              "<style scoped>\n",
              "    .dataframe tbody tr th:only-of-type {\n",
              "        vertical-align: middle;\n",
              "    }\n",
              "\n",
              "    .dataframe tbody tr th {\n",
              "        vertical-align: top;\n",
              "    }\n",
              "\n",
              "    .dataframe thead th {\n",
              "        text-align: right;\n",
              "    }\n",
              "</style>\n",
              "<table border=\"1\" class=\"dataframe\">\n",
              "  <thead>\n",
              "    <tr style=\"text-align: right;\">\n",
              "      <th></th>\n",
              "      <th>Model_Type</th>\n",
              "      <th>Brand</th>\n",
              "      <th>Price</th>\n",
              "      <th>Review Date</th>\n",
              "      <th>Rating</th>\n",
              "      <th>Review Title</th>\n",
              "      <th>Review</th>\n",
              "    </tr>\n",
              "  </thead>\n",
              "  <tbody>\n",
              "    <tr>\n",
              "      <th>0</th>\n",
              "      <td>RCA Reno</td>\n",
              "      <td>RCA</td>\n",
              "      <td>69</td>\n",
              "      <td>2022-02-11</td>\n",
              "      <td>4</td>\n",
              "      <td>[ordered, new, works, far]</td>\n",
              "      <td>[first, ordered, really, care, burner.i, order...</td>\n",
              "    </tr>\n",
              "    <tr>\n",
              "      <th>2</th>\n",
              "      <td>RCA Reno</td>\n",
              "      <td>RCA</td>\n",
              "      <td>69</td>\n",
              "      <td>2022-06-07</td>\n",
              "      <td>3</td>\n",
              "      <td>[work, t-mobile, sysem]</td>\n",
              "      <td>[new, phone, write, indicates, t-mobile, syste...</td>\n",
              "    </tr>\n",
              "    <tr>\n",
              "      <th>3</th>\n",
              "      <td>RCA Reno</td>\n",
              "      <td>RCA</td>\n",
              "      <td>69</td>\n",
              "      <td>2022-04-14</td>\n",
              "      <td>3</td>\n",
              "      <td>[burner, kid]</td>\n",
              "      <td>[use, burner, w/o, sim, card, things, others, ...</td>\n",
              "    </tr>\n",
              "    <tr>\n",
              "      <th>4</th>\n",
              "      <td>RCA Reno</td>\n",
              "      <td>RCA</td>\n",
              "      <td>69</td>\n",
              "      <td>2022-08-13</td>\n",
              "      <td>4</td>\n",
              "      <td>[works, okay]</td>\n",
              "      <td>[works, fine]</td>\n",
              "    </tr>\n",
              "    <tr>\n",
              "      <th>5</th>\n",
              "      <td>RCA Reno</td>\n",
              "      <td>RCA</td>\n",
              "      <td>69</td>\n",
              "      <td>2022-05-10</td>\n",
              "      <td>3</td>\n",
              "      <td>[phone]</td>\n",
              "      <td>[far, like, phone, threw, booklet, accident, c...</td>\n",
              "    </tr>\n",
              "  </tbody>\n",
              "</table>\n",
              "</div>\n",
              "      <button class=\"colab-df-convert\" onclick=\"convertToInteractive('df-eaddb5b1-4d69-4124-a10a-4ab26e905c89')\"\n",
              "              title=\"Convert this dataframe to an interactive table.\"\n",
              "              style=\"display:none;\">\n",
              "        \n",
              "  <svg xmlns=\"http://www.w3.org/2000/svg\" height=\"24px\"viewBox=\"0 0 24 24\"\n",
              "       width=\"24px\">\n",
              "    <path d=\"M0 0h24v24H0V0z\" fill=\"none\"/>\n",
              "    <path d=\"M18.56 5.44l.94 2.06.94-2.06 2.06-.94-2.06-.94-.94-2.06-.94 2.06-2.06.94zm-11 1L8.5 8.5l.94-2.06 2.06-.94-2.06-.94L8.5 2.5l-.94 2.06-2.06.94zm10 10l.94 2.06.94-2.06 2.06-.94-2.06-.94-.94-2.06-.94 2.06-2.06.94z\"/><path d=\"M17.41 7.96l-1.37-1.37c-.4-.4-.92-.59-1.43-.59-.52 0-1.04.2-1.43.59L10.3 9.45l-7.72 7.72c-.78.78-.78 2.05 0 2.83L4 21.41c.39.39.9.59 1.41.59.51 0 1.02-.2 1.41-.59l7.78-7.78 2.81-2.81c.8-.78.8-2.07 0-2.86zM5.41 20L4 18.59l7.72-7.72 1.47 1.35L5.41 20z\"/>\n",
              "  </svg>\n",
              "      </button>\n",
              "      \n",
              "  <style>\n",
              "    .colab-df-container {\n",
              "      display:flex;\n",
              "      flex-wrap:wrap;\n",
              "      gap: 12px;\n",
              "    }\n",
              "\n",
              "    .colab-df-convert {\n",
              "      background-color: #E8F0FE;\n",
              "      border: none;\n",
              "      border-radius: 50%;\n",
              "      cursor: pointer;\n",
              "      display: none;\n",
              "      fill: #1967D2;\n",
              "      height: 32px;\n",
              "      padding: 0 0 0 0;\n",
              "      width: 32px;\n",
              "    }\n",
              "\n",
              "    .colab-df-convert:hover {\n",
              "      background-color: #E2EBFA;\n",
              "      box-shadow: 0px 1px 2px rgba(60, 64, 67, 0.3), 0px 1px 3px 1px rgba(60, 64, 67, 0.15);\n",
              "      fill: #174EA6;\n",
              "    }\n",
              "\n",
              "    [theme=dark] .colab-df-convert {\n",
              "      background-color: #3B4455;\n",
              "      fill: #D2E3FC;\n",
              "    }\n",
              "\n",
              "    [theme=dark] .colab-df-convert:hover {\n",
              "      background-color: #434B5C;\n",
              "      box-shadow: 0px 1px 3px 1px rgba(0, 0, 0, 0.15);\n",
              "      filter: drop-shadow(0px 1px 2px rgba(0, 0, 0, 0.3));\n",
              "      fill: #FFFFFF;\n",
              "    }\n",
              "  </style>\n",
              "\n",
              "      <script>\n",
              "        const buttonEl =\n",
              "          document.querySelector('#df-eaddb5b1-4d69-4124-a10a-4ab26e905c89 button.colab-df-convert');\n",
              "        buttonEl.style.display =\n",
              "          google.colab.kernel.accessAllowed ? 'block' : 'none';\n",
              "\n",
              "        async function convertToInteractive(key) {\n",
              "          const element = document.querySelector('#df-eaddb5b1-4d69-4124-a10a-4ab26e905c89');\n",
              "          const dataTable =\n",
              "            await google.colab.kernel.invokeFunction('convertToInteractive',\n",
              "                                                     [key], {});\n",
              "          if (!dataTable) return;\n",
              "\n",
              "          const docLinkHtml = 'Like what you see? Visit the ' +\n",
              "            '<a target=\"_blank\" href=https://colab.research.google.com/notebooks/data_table.ipynb>data table notebook</a>'\n",
              "            + ' to learn more about interactive tables.';\n",
              "          element.innerHTML = '';\n",
              "          dataTable['output_type'] = 'display_data';\n",
              "          await google.colab.output.renderOutput(dataTable, element);\n",
              "          const docLink = document.createElement('div');\n",
              "          docLink.innerHTML = docLinkHtml;\n",
              "          element.appendChild(docLink);\n",
              "        }\n",
              "      </script>\n",
              "    </div>\n",
              "  </div>\n",
              "  "
            ]
          },
          "metadata": {},
          "execution_count": 47
        }
      ]
    },
    {
      "cell_type": "markdown",
      "source": [
        "After tokenization, lemmatization is done to decompose the words to their most basic forms(lemma), but before that, tagging the words is done to ensure that the lemmatization gets the parts of speech represented by the words correctly."
      ],
      "metadata": {
        "id": "Ele5Qsl-dkHq"
      }
    },
    {
      "cell_type": "markdown",
      "source": [],
      "metadata": {
        "id": "bc9ylMnUdgaH"
      }
    },
    {
      "cell_type": "code",
      "source": [
        "# create a function that takes in the nltk POS tags\n",
        "# and transforms them to wordnet tags\n",
        "def wordnet_pos(word_tag):\n",
        "    '''\n",
        "    Translate nltk POS to wordnet tags\n",
        "    '''\n",
        "    if word_tag.startswith('J'):\n",
        "        return wordnet.ADJ\n",
        "    elif word_tag.startswith('V'):\n",
        "        return wordnet.VERB\n",
        "    elif word_tag.startswith('N'):\n",
        "        return wordnet.NOUN\n",
        "    elif word_tag.startswith('R'):\n",
        "        return wordnet.ADV\n",
        "    else:\n",
        "        return wordnet.NOUN"
      ],
      "metadata": {
        "id": "vsRJArrndPcl"
      },
      "execution_count": 48,
      "outputs": []
    },
    {
      "cell_type": "code",
      "source": [
        "# check to see how the word tag performs\n",
        "sentence = df[\"Review\"][0]\n",
        "pos_tag(sentence[0:20])"
      ],
      "metadata": {
        "id": "Ettq5ApzdTU9",
        "outputId": "5bc3d0e3-0109-406d-ffd1-bb252eff650c",
        "colab": {
          "base_uri": "https://localhost:8080/"
        }
      },
      "execution_count": 49,
      "outputs": [
        {
          "output_type": "execute_result",
          "data": {
            "text/plain": [
              "[('first', 'RB'),\n",
              " ('ordered', 'VBN'),\n",
              " ('really', 'RB'),\n",
              " ('care', 'VB'),\n",
              " ('burner.i', 'NN'),\n",
              " ('ordered', 'VBN'),\n",
              " ('gold', 'JJ'),\n",
              " ('version', 'NN'),\n",
              " ('got', 'VBD'),\n",
              " ('black', 'JJ'),\n",
              " ('version', 'NN'),\n",
              " ('hardware', 'NN'),\n",
              " ('assumed', 'JJ'),\n",
              " ('function', 'NN'),\n",
              " ('say', 'VBP'),\n",
              " ('assumed', 'VBN'),\n",
              " ('used', 'JJ'),\n",
              " ('purposes', 'NNS'),\n",
              " ('purchased', 'VBD'),\n",
              " ('for.however', 'NN')]"
            ]
          },
          "metadata": {},
          "execution_count": 49
        }
      ]
    },
    {
      "cell_type": "markdown",
      "source": [],
      "metadata": {
        "id": "f20W2jBEqopO"
      }
    },
    {
      "cell_type": "code",
      "source": [
        "# inastantiate the lemmatizer\n",
        "lemmatizer = WordNetLemmatizer() "
      ],
      "metadata": {
        "id": "0XsCnqSRoFo3"
      },
      "execution_count": 50,
      "outputs": []
    },
    {
      "cell_type": "code",
      "source": [
        "df['Review'][0:2]"
      ],
      "metadata": {
        "id": "b3gxGmt9pe6k",
        "outputId": "d113f5b4-3c26-4864-bd35-87a92d395f1d",
        "colab": {
          "base_uri": "https://localhost:8080/"
        }
      },
      "execution_count": 51,
      "outputs": [
        {
          "output_type": "execute_result",
          "data": {
            "text/plain": [
              "0    [first, ordered, really, care, burner.i, order...\n",
              "2    [new, phone, write, indicates, t-mobile, syste...\n",
              "Name: Review, dtype: object"
            ]
          },
          "metadata": {},
          "execution_count": 51
        }
      ]
    },
    {
      "cell_type": "code",
      "source": [
        "def word_lemma(text):\n",
        "    '''\n",
        "    Translate the text POS tags to Word net tags then pass it to the lemmatizer\n",
        "    \n",
        "    '''\n",
        "    # get the pos tags for the text\n",
        "    word_pos_tags = pos_tag(text)\n",
        "    \n",
        "    # translate the pos tags to word net tags\n",
        "    word_net_tag = [(text[0], wordnet_pos(text[1])) for text in word_pos_tags]\n",
        "    \n",
        "    # Pass the text with the wordnet tags to the lemmatizer\n",
        "    lemma_word = [lemmatizer.lemmatize(text[0], text[1]) for text in word_net_tag]\n",
        "    \n",
        "    return lemma_word\n",
        "    "
      ],
      "metadata": {
        "id": "_eezVqmqoRG0"
      },
      "execution_count": 52,
      "outputs": []
    },
    {
      "cell_type": "code",
      "source": [
        "nltk.download('all', quiet=True)\n",
        "df['Review'] = df['Review'].apply(word_lemma)\n",
        "df['Review Title'] = df['Review Title'].apply(word_lemma)\n",
        "df.head()"
      ],
      "metadata": {
        "id": "p7pRFf76oi9r",
        "outputId": "4ce2ae51-f076-4a32-afbf-c5e8b5f9ca43",
        "colab": {
          "base_uri": "https://localhost:8080/",
          "height": 206
        }
      },
      "execution_count": 53,
      "outputs": [
        {
          "output_type": "execute_result",
          "data": {
            "text/plain": [
              "  Model_Type Brand  Price Review Date Rating               Review Title  \\\n",
              "0  RCA Reno    RCA     69  2022-02-11      4  [ordered, new, work, far]   \n",
              "2  RCA Reno    RCA     69  2022-06-07      3    [work, t-mobile, sysem]   \n",
              "3  RCA Reno    RCA     69  2022-04-14      3              [burner, kid]   \n",
              "4  RCA Reno    RCA     69  2022-08-13      4               [work, okay]   \n",
              "5  RCA Reno    RCA     69  2022-05-10      3                    [phone]   \n",
              "\n",
              "                                              Review  \n",
              "0  [first, order, really, care, burner.i, order, ...  \n",
              "2  [new, phone, write, indicate, t-mobile, system...  \n",
              "3  [use, burner, w/o, sim, card, thing, others, m...  \n",
              "4                                       [work, fine]  \n",
              "5  [far, like, phone, throw, booklet, accident, c...  "
            ],
            "text/html": [
              "\n",
              "  <div id=\"df-55b9643e-8c13-4f09-9ab1-02817fca7268\">\n",
              "    <div class=\"colab-df-container\">\n",
              "      <div>\n",
              "<style scoped>\n",
              "    .dataframe tbody tr th:only-of-type {\n",
              "        vertical-align: middle;\n",
              "    }\n",
              "\n",
              "    .dataframe tbody tr th {\n",
              "        vertical-align: top;\n",
              "    }\n",
              "\n",
              "    .dataframe thead th {\n",
              "        text-align: right;\n",
              "    }\n",
              "</style>\n",
              "<table border=\"1\" class=\"dataframe\">\n",
              "  <thead>\n",
              "    <tr style=\"text-align: right;\">\n",
              "      <th></th>\n",
              "      <th>Model_Type</th>\n",
              "      <th>Brand</th>\n",
              "      <th>Price</th>\n",
              "      <th>Review Date</th>\n",
              "      <th>Rating</th>\n",
              "      <th>Review Title</th>\n",
              "      <th>Review</th>\n",
              "    </tr>\n",
              "  </thead>\n",
              "  <tbody>\n",
              "    <tr>\n",
              "      <th>0</th>\n",
              "      <td>RCA Reno</td>\n",
              "      <td>RCA</td>\n",
              "      <td>69</td>\n",
              "      <td>2022-02-11</td>\n",
              "      <td>4</td>\n",
              "      <td>[ordered, new, work, far]</td>\n",
              "      <td>[first, order, really, care, burner.i, order, ...</td>\n",
              "    </tr>\n",
              "    <tr>\n",
              "      <th>2</th>\n",
              "      <td>RCA Reno</td>\n",
              "      <td>RCA</td>\n",
              "      <td>69</td>\n",
              "      <td>2022-06-07</td>\n",
              "      <td>3</td>\n",
              "      <td>[work, t-mobile, sysem]</td>\n",
              "      <td>[new, phone, write, indicate, t-mobile, system...</td>\n",
              "    </tr>\n",
              "    <tr>\n",
              "      <th>3</th>\n",
              "      <td>RCA Reno</td>\n",
              "      <td>RCA</td>\n",
              "      <td>69</td>\n",
              "      <td>2022-04-14</td>\n",
              "      <td>3</td>\n",
              "      <td>[burner, kid]</td>\n",
              "      <td>[use, burner, w/o, sim, card, thing, others, m...</td>\n",
              "    </tr>\n",
              "    <tr>\n",
              "      <th>4</th>\n",
              "      <td>RCA Reno</td>\n",
              "      <td>RCA</td>\n",
              "      <td>69</td>\n",
              "      <td>2022-08-13</td>\n",
              "      <td>4</td>\n",
              "      <td>[work, okay]</td>\n",
              "      <td>[work, fine]</td>\n",
              "    </tr>\n",
              "    <tr>\n",
              "      <th>5</th>\n",
              "      <td>RCA Reno</td>\n",
              "      <td>RCA</td>\n",
              "      <td>69</td>\n",
              "      <td>2022-05-10</td>\n",
              "      <td>3</td>\n",
              "      <td>[phone]</td>\n",
              "      <td>[far, like, phone, throw, booklet, accident, c...</td>\n",
              "    </tr>\n",
              "  </tbody>\n",
              "</table>\n",
              "</div>\n",
              "      <button class=\"colab-df-convert\" onclick=\"convertToInteractive('df-55b9643e-8c13-4f09-9ab1-02817fca7268')\"\n",
              "              title=\"Convert this dataframe to an interactive table.\"\n",
              "              style=\"display:none;\">\n",
              "        \n",
              "  <svg xmlns=\"http://www.w3.org/2000/svg\" height=\"24px\"viewBox=\"0 0 24 24\"\n",
              "       width=\"24px\">\n",
              "    <path d=\"M0 0h24v24H0V0z\" fill=\"none\"/>\n",
              "    <path d=\"M18.56 5.44l.94 2.06.94-2.06 2.06-.94-2.06-.94-.94-2.06-.94 2.06-2.06.94zm-11 1L8.5 8.5l.94-2.06 2.06-.94-2.06-.94L8.5 2.5l-.94 2.06-2.06.94zm10 10l.94 2.06.94-2.06 2.06-.94-2.06-.94-.94-2.06-.94 2.06-2.06.94z\"/><path d=\"M17.41 7.96l-1.37-1.37c-.4-.4-.92-.59-1.43-.59-.52 0-1.04.2-1.43.59L10.3 9.45l-7.72 7.72c-.78.78-.78 2.05 0 2.83L4 21.41c.39.39.9.59 1.41.59.51 0 1.02-.2 1.41-.59l7.78-7.78 2.81-2.81c.8-.78.8-2.07 0-2.86zM5.41 20L4 18.59l7.72-7.72 1.47 1.35L5.41 20z\"/>\n",
              "  </svg>\n",
              "      </button>\n",
              "      \n",
              "  <style>\n",
              "    .colab-df-container {\n",
              "      display:flex;\n",
              "      flex-wrap:wrap;\n",
              "      gap: 12px;\n",
              "    }\n",
              "\n",
              "    .colab-df-convert {\n",
              "      background-color: #E8F0FE;\n",
              "      border: none;\n",
              "      border-radius: 50%;\n",
              "      cursor: pointer;\n",
              "      display: none;\n",
              "      fill: #1967D2;\n",
              "      height: 32px;\n",
              "      padding: 0 0 0 0;\n",
              "      width: 32px;\n",
              "    }\n",
              "\n",
              "    .colab-df-convert:hover {\n",
              "      background-color: #E2EBFA;\n",
              "      box-shadow: 0px 1px 2px rgba(60, 64, 67, 0.3), 0px 1px 3px 1px rgba(60, 64, 67, 0.15);\n",
              "      fill: #174EA6;\n",
              "    }\n",
              "\n",
              "    [theme=dark] .colab-df-convert {\n",
              "      background-color: #3B4455;\n",
              "      fill: #D2E3FC;\n",
              "    }\n",
              "\n",
              "    [theme=dark] .colab-df-convert:hover {\n",
              "      background-color: #434B5C;\n",
              "      box-shadow: 0px 1px 3px 1px rgba(0, 0, 0, 0.15);\n",
              "      filter: drop-shadow(0px 1px 2px rgba(0, 0, 0, 0.3));\n",
              "      fill: #FFFFFF;\n",
              "    }\n",
              "  </style>\n",
              "\n",
              "      <script>\n",
              "        const buttonEl =\n",
              "          document.querySelector('#df-55b9643e-8c13-4f09-9ab1-02817fca7268 button.colab-df-convert');\n",
              "        buttonEl.style.display =\n",
              "          google.colab.kernel.accessAllowed ? 'block' : 'none';\n",
              "\n",
              "        async function convertToInteractive(key) {\n",
              "          const element = document.querySelector('#df-55b9643e-8c13-4f09-9ab1-02817fca7268');\n",
              "          const dataTable =\n",
              "            await google.colab.kernel.invokeFunction('convertToInteractive',\n",
              "                                                     [key], {});\n",
              "          if (!dataTable) return;\n",
              "\n",
              "          const docLinkHtml = 'Like what you see? Visit the ' +\n",
              "            '<a target=\"_blank\" href=https://colab.research.google.com/notebooks/data_table.ipynb>data table notebook</a>'\n",
              "            + ' to learn more about interactive tables.';\n",
              "          element.innerHTML = '';\n",
              "          dataTable['output_type'] = 'display_data';\n",
              "          await google.colab.output.renderOutput(dataTable, element);\n",
              "          const docLink = document.createElement('div');\n",
              "          docLink.innerHTML = docLinkHtml;\n",
              "          element.appendChild(docLink);\n",
              "        }\n",
              "      </script>\n",
              "    </div>\n",
              "  </div>\n",
              "  "
            ]
          },
          "metadata": {},
          "execution_count": 53
        }
      ]
    },
    {
      "cell_type": "markdown",
      "source": [
        "Frequency Distribution Plot"
      ],
      "metadata": {
        "id": "ADs8jMyWrFwm"
      }
    },
    {
      "cell_type": "code",
      "source": [
        "# create the frequency distribution plot\n",
        "sample = df['Review']\n",
        "freq1_dist = []\n",
        "\n",
        "for review in sample:\n",
        "    freq1_dist.extend(review)\n",
        "    \n",
        "fdist = FreqDist(freq1_dist)\n",
        "plt.figure(figsize=(15, 10))\n",
        "fdist.plot(50);"
      ],
      "metadata": {
        "id": "sQ71BZ6ZrEsc"
      },
      "execution_count": 54,
      "outputs": []
    },
    {
      "cell_type": "code",
      "source": [
        "# display the count of the first 200 texts\n",
        "word_frequency = fdist.most_common(200)\n",
        "word_frequency[:30]"
      ],
      "metadata": {
        "id": "QSWY0n3RuVmn",
        "outputId": "82e87193-57e8-44c5-d83f-6801d9c19ab2",
        "colab": {
          "base_uri": "https://localhost:8080/"
        }
      },
      "execution_count": 55,
      "outputs": [
        {
          "output_type": "execute_result",
          "data": {
            "text/plain": [
              "[('phone', 14276),\n",
              " ('work', 3418),\n",
              " ('use', 2896),\n",
              " ('get', 2712),\n",
              " ('good', 2619),\n",
              " ('great', 2348),\n",
              " ('battery', 2246),\n",
              " ('like', 1985),\n",
              " ('buy', 1799),\n",
              " ('one', 1766),\n",
              " ('would', 1719),\n",
              " ('screen', 1660),\n",
              " ('new', 1384),\n",
              " ('time', 1309),\n",
              " ('camera', 1294),\n",
              " ('well', 1282),\n",
              " ('g', 1277),\n",
              " ('go', 1275),\n",
              " ('day', 1236),\n",
              " ('call', 1177),\n",
              " ('price', 1158),\n",
              " ('life', 1151),\n",
              " ('sim', 1088),\n",
              " ('charge', 1034),\n",
              " ('need', 1030),\n",
              " ('card', 1021),\n",
              " ('come', 1018),\n",
              " ('make', 996),\n",
              " ('take', 972),\n",
              " ('even', 964)]"
            ]
          },
          "metadata": {},
          "execution_count": 55
        }
      ]
    },
    {
      "cell_type": "code",
      "source": [
        "# convert the list into a string\n",
        "\n",
        "X = df['Review']\n",
        "\n",
        "df[\"Review\"]= X.map(lambda x: ' '.join(map(str, x)))\n",
        "df[\"Review\"]"
      ],
      "metadata": {
        "id": "wwz8YqhPtZCZ",
        "outputId": "a41ec5ac-ab98-465c-8d71-d2f8659e2540",
        "colab": {
          "base_uri": "https://localhost:8080/"
        }
      },
      "execution_count": 56,
      "outputs": [
        {
          "output_type": "execute_result",
          "data": {
            "text/plain": [
              "0        first order really care burner.i order gold ve...\n",
              "2        new phone write indicate t-mobile system compa...\n",
              "3        use burner w/o sim card thing others may find ...\n",
              "4                                                work fine\n",
              "5        far like phone throw booklet accident could wi...\n",
              "                               ...                        \n",
              "17162    like work fantastic t-mobile great g service w...\n",
              "17163    like phone work well preloaded bloat ware amaz...\n",
              "17164    super tech savvy want reliable phone good came...\n",
              "17165                                            good deal\n",
              "17167    whoa first blu phone never buy another brand s...\n",
              "Name: Review, Length: 9144, dtype: object"
            ]
          },
          "metadata": {},
          "execution_count": 56
        }
      ]
    },
    {
      "cell_type": "markdown",
      "source": [
        "Vader Analysis"
      ],
      "metadata": {
        "id": "9MpdF_s9JvJ6"
      }
    },
    {
      "cell_type": "code",
      "source": [
        "df[\"id\"] = df.index + 1\n",
        "df = df.reindex(columns=['id', 'Model_Type', 'Brand', 'Price', 'Review Date', \n",
        "                         'Rating', 'Review Title', 'Review'])\n",
        "df.drop(\"Review Date\", axis=1, inplace=True)\n",
        "df.head()"
      ],
      "metadata": {
        "colab": {
          "base_uri": "https://localhost:8080/",
          "height": 206
        },
        "id": "N8idlgyNCph7",
        "outputId": "f5ed6d89-d40f-4c63-a5db-a637f7d72ffa"
      },
      "execution_count": 57,
      "outputs": [
        {
          "output_type": "execute_result",
          "data": {
            "text/plain": [
              "   id Model_Type Brand  Price Rating               Review Title  \\\n",
              "0   1  RCA Reno    RCA     69      4  [ordered, new, work, far]   \n",
              "2   3  RCA Reno    RCA     69      3    [work, t-mobile, sysem]   \n",
              "3   4  RCA Reno    RCA     69      3              [burner, kid]   \n",
              "4   5  RCA Reno    RCA     69      4               [work, okay]   \n",
              "5   6  RCA Reno    RCA     69      3                    [phone]   \n",
              "\n",
              "                                              Review  \n",
              "0  first order really care burner.i order gold ve...  \n",
              "2  new phone write indicate t-mobile system compa...  \n",
              "3  use burner w/o sim card thing others may find ...  \n",
              "4                                          work fine  \n",
              "5  far like phone throw booklet accident could wi...  "
            ],
            "text/html": [
              "\n",
              "  <div id=\"df-01b635d9-c6c5-4748-b208-78b0b2e9242c\">\n",
              "    <div class=\"colab-df-container\">\n",
              "      <div>\n",
              "<style scoped>\n",
              "    .dataframe tbody tr th:only-of-type {\n",
              "        vertical-align: middle;\n",
              "    }\n",
              "\n",
              "    .dataframe tbody tr th {\n",
              "        vertical-align: top;\n",
              "    }\n",
              "\n",
              "    .dataframe thead th {\n",
              "        text-align: right;\n",
              "    }\n",
              "</style>\n",
              "<table border=\"1\" class=\"dataframe\">\n",
              "  <thead>\n",
              "    <tr style=\"text-align: right;\">\n",
              "      <th></th>\n",
              "      <th>id</th>\n",
              "      <th>Model_Type</th>\n",
              "      <th>Brand</th>\n",
              "      <th>Price</th>\n",
              "      <th>Rating</th>\n",
              "      <th>Review Title</th>\n",
              "      <th>Review</th>\n",
              "    </tr>\n",
              "  </thead>\n",
              "  <tbody>\n",
              "    <tr>\n",
              "      <th>0</th>\n",
              "      <td>1</td>\n",
              "      <td>RCA Reno</td>\n",
              "      <td>RCA</td>\n",
              "      <td>69</td>\n",
              "      <td>4</td>\n",
              "      <td>[ordered, new, work, far]</td>\n",
              "      <td>first order really care burner.i order gold ve...</td>\n",
              "    </tr>\n",
              "    <tr>\n",
              "      <th>2</th>\n",
              "      <td>3</td>\n",
              "      <td>RCA Reno</td>\n",
              "      <td>RCA</td>\n",
              "      <td>69</td>\n",
              "      <td>3</td>\n",
              "      <td>[work, t-mobile, sysem]</td>\n",
              "      <td>new phone write indicate t-mobile system compa...</td>\n",
              "    </tr>\n",
              "    <tr>\n",
              "      <th>3</th>\n",
              "      <td>4</td>\n",
              "      <td>RCA Reno</td>\n",
              "      <td>RCA</td>\n",
              "      <td>69</td>\n",
              "      <td>3</td>\n",
              "      <td>[burner, kid]</td>\n",
              "      <td>use burner w/o sim card thing others may find ...</td>\n",
              "    </tr>\n",
              "    <tr>\n",
              "      <th>4</th>\n",
              "      <td>5</td>\n",
              "      <td>RCA Reno</td>\n",
              "      <td>RCA</td>\n",
              "      <td>69</td>\n",
              "      <td>4</td>\n",
              "      <td>[work, okay]</td>\n",
              "      <td>work fine</td>\n",
              "    </tr>\n",
              "    <tr>\n",
              "      <th>5</th>\n",
              "      <td>6</td>\n",
              "      <td>RCA Reno</td>\n",
              "      <td>RCA</td>\n",
              "      <td>69</td>\n",
              "      <td>3</td>\n",
              "      <td>[phone]</td>\n",
              "      <td>far like phone throw booklet accident could wi...</td>\n",
              "    </tr>\n",
              "  </tbody>\n",
              "</table>\n",
              "</div>\n",
              "      <button class=\"colab-df-convert\" onclick=\"convertToInteractive('df-01b635d9-c6c5-4748-b208-78b0b2e9242c')\"\n",
              "              title=\"Convert this dataframe to an interactive table.\"\n",
              "              style=\"display:none;\">\n",
              "        \n",
              "  <svg xmlns=\"http://www.w3.org/2000/svg\" height=\"24px\"viewBox=\"0 0 24 24\"\n",
              "       width=\"24px\">\n",
              "    <path d=\"M0 0h24v24H0V0z\" fill=\"none\"/>\n",
              "    <path d=\"M18.56 5.44l.94 2.06.94-2.06 2.06-.94-2.06-.94-.94-2.06-.94 2.06-2.06.94zm-11 1L8.5 8.5l.94-2.06 2.06-.94-2.06-.94L8.5 2.5l-.94 2.06-2.06.94zm10 10l.94 2.06.94-2.06 2.06-.94-2.06-.94-.94-2.06-.94 2.06-2.06.94z\"/><path d=\"M17.41 7.96l-1.37-1.37c-.4-.4-.92-.59-1.43-.59-.52 0-1.04.2-1.43.59L10.3 9.45l-7.72 7.72c-.78.78-.78 2.05 0 2.83L4 21.41c.39.39.9.59 1.41.59.51 0 1.02-.2 1.41-.59l7.78-7.78 2.81-2.81c.8-.78.8-2.07 0-2.86zM5.41 20L4 18.59l7.72-7.72 1.47 1.35L5.41 20z\"/>\n",
              "  </svg>\n",
              "      </button>\n",
              "      \n",
              "  <style>\n",
              "    .colab-df-container {\n",
              "      display:flex;\n",
              "      flex-wrap:wrap;\n",
              "      gap: 12px;\n",
              "    }\n",
              "\n",
              "    .colab-df-convert {\n",
              "      background-color: #E8F0FE;\n",
              "      border: none;\n",
              "      border-radius: 50%;\n",
              "      cursor: pointer;\n",
              "      display: none;\n",
              "      fill: #1967D2;\n",
              "      height: 32px;\n",
              "      padding: 0 0 0 0;\n",
              "      width: 32px;\n",
              "    }\n",
              "\n",
              "    .colab-df-convert:hover {\n",
              "      background-color: #E2EBFA;\n",
              "      box-shadow: 0px 1px 2px rgba(60, 64, 67, 0.3), 0px 1px 3px 1px rgba(60, 64, 67, 0.15);\n",
              "      fill: #174EA6;\n",
              "    }\n",
              "\n",
              "    [theme=dark] .colab-df-convert {\n",
              "      background-color: #3B4455;\n",
              "      fill: #D2E3FC;\n",
              "    }\n",
              "\n",
              "    [theme=dark] .colab-df-convert:hover {\n",
              "      background-color: #434B5C;\n",
              "      box-shadow: 0px 1px 3px 1px rgba(0, 0, 0, 0.15);\n",
              "      filter: drop-shadow(0px 1px 2px rgba(0, 0, 0, 0.3));\n",
              "      fill: #FFFFFF;\n",
              "    }\n",
              "  </style>\n",
              "\n",
              "      <script>\n",
              "        const buttonEl =\n",
              "          document.querySelector('#df-01b635d9-c6c5-4748-b208-78b0b2e9242c button.colab-df-convert');\n",
              "        buttonEl.style.display =\n",
              "          google.colab.kernel.accessAllowed ? 'block' : 'none';\n",
              "\n",
              "        async function convertToInteractive(key) {\n",
              "          const element = document.querySelector('#df-01b635d9-c6c5-4748-b208-78b0b2e9242c');\n",
              "          const dataTable =\n",
              "            await google.colab.kernel.invokeFunction('convertToInteractive',\n",
              "                                                     [key], {});\n",
              "          if (!dataTable) return;\n",
              "\n",
              "          const docLinkHtml = 'Like what you see? Visit the ' +\n",
              "            '<a target=\"_blank\" href=https://colab.research.google.com/notebooks/data_table.ipynb>data table notebook</a>'\n",
              "            + ' to learn more about interactive tables.';\n",
              "          element.innerHTML = '';\n",
              "          dataTable['output_type'] = 'display_data';\n",
              "          await google.colab.output.renderOutput(dataTable, element);\n",
              "          const docLink = document.createElement('div');\n",
              "          docLink.innerHTML = docLinkHtml;\n",
              "          element.appendChild(docLink);\n",
              "        }\n",
              "      </script>\n",
              "    </div>\n",
              "  </div>\n",
              "  "
            ]
          },
          "metadata": {},
          "execution_count": 57
        }
      ]
    },
    {
      "cell_type": "code",
      "source": [
        "# creating polarity scores on the entire dataset\n",
        "from nltk.sentiment import SentimentIntensityAnalyzer\n",
        "nltk.download('vader_lexicon')\n",
        "sia = SentimentIntensityAnalyzer()\n",
        "from tqdm.notebook import tqdm\n",
        "res = {}\n",
        "for i, row in tqdm(df.iterrows(), total=len(df)):\n",
        "  text = row[\"Review\"]\n",
        "  id = row[\"id\"]\n",
        "  res[id] = sia.polarity_scores(text)\n"
      ],
      "metadata": {
        "id": "uIpIKPQfHxZC",
        "colab": {
          "base_uri": "https://localhost:8080/",
          "height": 84,
          "referenced_widgets": [
            "d24adba339ac40a29b6a7fd2fb47de3f",
            "e9ade92925a64d709116b9b83ab7ce75",
            "328c35dc5f604fb38e3f87fbde926bdb",
            "a71d616cc3b54935a4032441abd804fb",
            "72fe30926b91428ca5d053df29bdab7f",
            "e40e4776e7a44bc7add37dc07560c791",
            "ce65f157a5504a29b4962060fdbe1b17",
            "15ff866bcf49429189a83b52b71f1921",
            "b6f1ad62953b4cae9084889d0c612196",
            "02da52acba964b94baca71b265ddd79a",
            "ed33a375eb0b42f88fa597a8df398845"
          ]
        },
        "outputId": "6ab66361-5b2c-4cdb-f335-dc92fe2f559a"
      },
      "execution_count": 58,
      "outputs": [
        {
          "output_type": "stream",
          "name": "stderr",
          "text": [
            "[nltk_data] Downloading package vader_lexicon to /root/nltk_data...\n",
            "[nltk_data]   Package vader_lexicon is already up-to-date!\n"
          ]
        },
        {
          "output_type": "display_data",
          "data": {
            "text/plain": [
              "  0%|          | 0/9144 [00:00<?, ?it/s]"
            ],
            "application/vnd.jupyter.widget-view+json": {
              "version_major": 2,
              "version_minor": 0,
              "model_id": "d24adba339ac40a29b6a7fd2fb47de3f"
            }
          },
          "metadata": {}
        }
      ]
    },
    {
      "cell_type": "code",
      "source": [
        "# populating results into a df\n",
        "vader = pd.DataFrame(res).T\n",
        "vader = vader.reset_index().rename(columns={\"index\":\"id\"})\n",
        "vader_df = vader.merge(df, how=\"left\")"
      ],
      "metadata": {
        "id": "83TYbHB5IExj"
      },
      "execution_count": 59,
      "outputs": []
    },
    {
      "cell_type": "code",
      "source": [
        "# sentiment scores combined with the meta data\n",
        "\n",
        "\n",
        "# pd.set_option('display.max_colwidth',10000)\n",
        "vader_df.head()"
      ],
      "metadata": {
        "id": "zwam22MgDggy",
        "outputId": "019dd061-8fe9-42fa-aadc-0a480dee7c17",
        "colab": {
          "base_uri": "https://localhost:8080/",
          "height": 206
        }
      },
      "execution_count": 60,
      "outputs": [
        {
          "output_type": "execute_result",
          "data": {
            "text/plain": [
              "   id    neg    neu    pos  compound Model_Type Brand  Price Rating  \\\n",
              "0   1  0.108  0.737  0.155    0.9354  RCA Reno    RCA     69      4   \n",
              "1   3  0.076  0.866  0.058   -0.2023  RCA Reno    RCA     69      3   \n",
              "2   4  0.092  0.583  0.325    0.9559  RCA Reno    RCA     69      3   \n",
              "3   5  0.000  0.357  0.643    0.2023  RCA Reno    RCA     69      4   \n",
              "4   6  0.182  0.527  0.291    0.2203  RCA Reno    RCA     69      3   \n",
              "\n",
              "                Review Title  \\\n",
              "0  [ordered, new, work, far]   \n",
              "1    [work, t-mobile, sysem]   \n",
              "2              [burner, kid]   \n",
              "3               [work, okay]   \n",
              "4                    [phone]   \n",
              "\n",
              "                                              Review  \n",
              "0  first order really care burner.i order gold ve...  \n",
              "1  new phone write indicate t-mobile system compa...  \n",
              "2  use burner w/o sim card thing others may find ...  \n",
              "3                                          work fine  \n",
              "4  far like phone throw booklet accident could wi...  "
            ],
            "text/html": [
              "\n",
              "  <div id=\"df-618981ac-be8d-4dd5-966f-190f67401e88\">\n",
              "    <div class=\"colab-df-container\">\n",
              "      <div>\n",
              "<style scoped>\n",
              "    .dataframe tbody tr th:only-of-type {\n",
              "        vertical-align: middle;\n",
              "    }\n",
              "\n",
              "    .dataframe tbody tr th {\n",
              "        vertical-align: top;\n",
              "    }\n",
              "\n",
              "    .dataframe thead th {\n",
              "        text-align: right;\n",
              "    }\n",
              "</style>\n",
              "<table border=\"1\" class=\"dataframe\">\n",
              "  <thead>\n",
              "    <tr style=\"text-align: right;\">\n",
              "      <th></th>\n",
              "      <th>id</th>\n",
              "      <th>neg</th>\n",
              "      <th>neu</th>\n",
              "      <th>pos</th>\n",
              "      <th>compound</th>\n",
              "      <th>Model_Type</th>\n",
              "      <th>Brand</th>\n",
              "      <th>Price</th>\n",
              "      <th>Rating</th>\n",
              "      <th>Review Title</th>\n",
              "      <th>Review</th>\n",
              "    </tr>\n",
              "  </thead>\n",
              "  <tbody>\n",
              "    <tr>\n",
              "      <th>0</th>\n",
              "      <td>1</td>\n",
              "      <td>0.108</td>\n",
              "      <td>0.737</td>\n",
              "      <td>0.155</td>\n",
              "      <td>0.9354</td>\n",
              "      <td>RCA Reno</td>\n",
              "      <td>RCA</td>\n",
              "      <td>69</td>\n",
              "      <td>4</td>\n",
              "      <td>[ordered, new, work, far]</td>\n",
              "      <td>first order really care burner.i order gold ve...</td>\n",
              "    </tr>\n",
              "    <tr>\n",
              "      <th>1</th>\n",
              "      <td>3</td>\n",
              "      <td>0.076</td>\n",
              "      <td>0.866</td>\n",
              "      <td>0.058</td>\n",
              "      <td>-0.2023</td>\n",
              "      <td>RCA Reno</td>\n",
              "      <td>RCA</td>\n",
              "      <td>69</td>\n",
              "      <td>3</td>\n",
              "      <td>[work, t-mobile, sysem]</td>\n",
              "      <td>new phone write indicate t-mobile system compa...</td>\n",
              "    </tr>\n",
              "    <tr>\n",
              "      <th>2</th>\n",
              "      <td>4</td>\n",
              "      <td>0.092</td>\n",
              "      <td>0.583</td>\n",
              "      <td>0.325</td>\n",
              "      <td>0.9559</td>\n",
              "      <td>RCA Reno</td>\n",
              "      <td>RCA</td>\n",
              "      <td>69</td>\n",
              "      <td>3</td>\n",
              "      <td>[burner, kid]</td>\n",
              "      <td>use burner w/o sim card thing others may find ...</td>\n",
              "    </tr>\n",
              "    <tr>\n",
              "      <th>3</th>\n",
              "      <td>5</td>\n",
              "      <td>0.000</td>\n",
              "      <td>0.357</td>\n",
              "      <td>0.643</td>\n",
              "      <td>0.2023</td>\n",
              "      <td>RCA Reno</td>\n",
              "      <td>RCA</td>\n",
              "      <td>69</td>\n",
              "      <td>4</td>\n",
              "      <td>[work, okay]</td>\n",
              "      <td>work fine</td>\n",
              "    </tr>\n",
              "    <tr>\n",
              "      <th>4</th>\n",
              "      <td>6</td>\n",
              "      <td>0.182</td>\n",
              "      <td>0.527</td>\n",
              "      <td>0.291</td>\n",
              "      <td>0.2203</td>\n",
              "      <td>RCA Reno</td>\n",
              "      <td>RCA</td>\n",
              "      <td>69</td>\n",
              "      <td>3</td>\n",
              "      <td>[phone]</td>\n",
              "      <td>far like phone throw booklet accident could wi...</td>\n",
              "    </tr>\n",
              "  </tbody>\n",
              "</table>\n",
              "</div>\n",
              "      <button class=\"colab-df-convert\" onclick=\"convertToInteractive('df-618981ac-be8d-4dd5-966f-190f67401e88')\"\n",
              "              title=\"Convert this dataframe to an interactive table.\"\n",
              "              style=\"display:none;\">\n",
              "        \n",
              "  <svg xmlns=\"http://www.w3.org/2000/svg\" height=\"24px\"viewBox=\"0 0 24 24\"\n",
              "       width=\"24px\">\n",
              "    <path d=\"M0 0h24v24H0V0z\" fill=\"none\"/>\n",
              "    <path d=\"M18.56 5.44l.94 2.06.94-2.06 2.06-.94-2.06-.94-.94-2.06-.94 2.06-2.06.94zm-11 1L8.5 8.5l.94-2.06 2.06-.94-2.06-.94L8.5 2.5l-.94 2.06-2.06.94zm10 10l.94 2.06.94-2.06 2.06-.94-2.06-.94-.94-2.06-.94 2.06-2.06.94z\"/><path d=\"M17.41 7.96l-1.37-1.37c-.4-.4-.92-.59-1.43-.59-.52 0-1.04.2-1.43.59L10.3 9.45l-7.72 7.72c-.78.78-.78 2.05 0 2.83L4 21.41c.39.39.9.59 1.41.59.51 0 1.02-.2 1.41-.59l7.78-7.78 2.81-2.81c.8-.78.8-2.07 0-2.86zM5.41 20L4 18.59l7.72-7.72 1.47 1.35L5.41 20z\"/>\n",
              "  </svg>\n",
              "      </button>\n",
              "      \n",
              "  <style>\n",
              "    .colab-df-container {\n",
              "      display:flex;\n",
              "      flex-wrap:wrap;\n",
              "      gap: 12px;\n",
              "    }\n",
              "\n",
              "    .colab-df-convert {\n",
              "      background-color: #E8F0FE;\n",
              "      border: none;\n",
              "      border-radius: 50%;\n",
              "      cursor: pointer;\n",
              "      display: none;\n",
              "      fill: #1967D2;\n",
              "      height: 32px;\n",
              "      padding: 0 0 0 0;\n",
              "      width: 32px;\n",
              "    }\n",
              "\n",
              "    .colab-df-convert:hover {\n",
              "      background-color: #E2EBFA;\n",
              "      box-shadow: 0px 1px 2px rgba(60, 64, 67, 0.3), 0px 1px 3px 1px rgba(60, 64, 67, 0.15);\n",
              "      fill: #174EA6;\n",
              "    }\n",
              "\n",
              "    [theme=dark] .colab-df-convert {\n",
              "      background-color: #3B4455;\n",
              "      fill: #D2E3FC;\n",
              "    }\n",
              "\n",
              "    [theme=dark] .colab-df-convert:hover {\n",
              "      background-color: #434B5C;\n",
              "      box-shadow: 0px 1px 3px 1px rgba(0, 0, 0, 0.15);\n",
              "      filter: drop-shadow(0px 1px 2px rgba(0, 0, 0, 0.3));\n",
              "      fill: #FFFFFF;\n",
              "    }\n",
              "  </style>\n",
              "\n",
              "      <script>\n",
              "        const buttonEl =\n",
              "          document.querySelector('#df-618981ac-be8d-4dd5-966f-190f67401e88 button.colab-df-convert');\n",
              "        buttonEl.style.display =\n",
              "          google.colab.kernel.accessAllowed ? 'block' : 'none';\n",
              "\n",
              "        async function convertToInteractive(key) {\n",
              "          const element = document.querySelector('#df-618981ac-be8d-4dd5-966f-190f67401e88');\n",
              "          const dataTable =\n",
              "            await google.colab.kernel.invokeFunction('convertToInteractive',\n",
              "                                                     [key], {});\n",
              "          if (!dataTable) return;\n",
              "\n",
              "          const docLinkHtml = 'Like what you see? Visit the ' +\n",
              "            '<a target=\"_blank\" href=https://colab.research.google.com/notebooks/data_table.ipynb>data table notebook</a>'\n",
              "            + ' to learn more about interactive tables.';\n",
              "          element.innerHTML = '';\n",
              "          dataTable['output_type'] = 'display_data';\n",
              "          await google.colab.output.renderOutput(dataTable, element);\n",
              "          const docLink = document.createElement('div');\n",
              "          docLink.innerHTML = docLinkHtml;\n",
              "          element.appendChild(docLink);\n",
              "        }\n",
              "      </script>\n",
              "    </div>\n",
              "  </div>\n",
              "  "
            ]
          },
          "metadata": {},
          "execution_count": 60
        }
      ]
    },
    {
      "cell_type": "code",
      "source": [
        "# plotting a bar plot to compare rating and compound value to see if the ratings align with the sentiment scores\n",
        "df_sorted = vader_df.sort_values('Rating')\n",
        "fig, ax = plt.subplots(figsize=(10, 8))\n",
        "sns.barplot(data=df_sorted, x = \"Rating\", y=\"compound\")\n",
        "ax.set_title(\"Compound Score by Amazon Star Rating\")\n",
        "plt.show()"
      ],
      "metadata": {
        "id": "w5liznh5EgGi"
      },
      "execution_count": 61,
      "outputs": []
    },
    {
      "cell_type": "markdown",
      "source": [
        "Making assumptions on our data, if rating is 5, then it is likely to be a more positive value than a rating of 1."
      ],
      "metadata": {
        "id": "7uL1zCDvEiap"
      }
    },
    {
      "cell_type": "code",
      "source": [
        "fig, axs = plt.subplots(1, 3, figsize=(15, 5))\n",
        "\n",
        "sns.barplot(data=df_sorted, x = \"Rating\", y=\"pos\", ax=axs[0])\n",
        "sns.barplot(data=df_sorted, x = \"Rating\", y=\"neu\", ax=axs[1])\n",
        "sns.barplot(data=df_sorted, x = \"Rating\", y=\"neg\", ax=axs[2])\n",
        "axs[0].set_title(\"Positive\")\n",
        "axs[1].set_title(\"Neutral\")\n",
        "axs[2].set_title(\"Negative\")\n",
        "plt.tight_layout()\n",
        "plt.show()"
      ],
      "metadata": {
        "id": "FoHkEl6bHSMD"
      },
      "execution_count": 62,
      "outputs": []
    },
    {
      "cell_type": "markdown",
      "source": [
        "The more positive the compound value, the higher the Ranking score. Positive values represent high rankings of 4 and 5 while low rankings of 1 and 2 mainly show negative values. This proves the assumption made on the data."
      ],
      "metadata": {
        "id": "wlXL0-kKG1pM"
      }
    },
    {
      "cell_type": "markdown",
      "source": [
        "## Modeling"
      ],
      "metadata": {
        "id": "p1yLMblwzbED"
      }
    },
    {
      "cell_type": "code",
      "source": [
        "# splitting data \n",
        "\n",
        "df_train, df_test = train_test_split(\n",
        "  df,\n",
        "  test_size=0.3,\n",
        "  random_state=23\n",
        ")\n",
        "df_val, df_test = train_test_split(\n",
        "  df_test,\n",
        "  test_size=0.5,\n",
        "  random_state=23\n",
        ")"
      ],
      "metadata": {
        "id": "2jrbhjAl0wxE"
      },
      "execution_count": 63,
      "outputs": []
    },
    {
      "cell_type": "markdown",
      "source": [
        "### Vader Analysis"
      ],
      "metadata": {
        "id": "tn21rMNN0Cg0"
      }
    },
    {
      "cell_type": "code",
      "source": [
        "# Exploring vader as a model for sentiment analysis\n",
        "\n",
        "analyzer = SentimentIntensityAnalyzer()"
      ],
      "metadata": {
        "id": "8FqTVqv5Jxms"
      },
      "execution_count": 64,
      "outputs": []
    },
    {
      "cell_type": "code",
      "source": [
        "df_train[\"scores\"] = df_train[\"Review\"].apply(lambda review : analyzer.polarity_scores(review))\n",
        "df_train[\"compound\"] = df_train[\"scores\"].apply(lambda score_dict :score_dict[\"compound\"])\n",
        "df_train[\"train_label\"] = df_train[\"compound\"].apply(lambda c : \"positive\" if c >= 0.05 else \"negative\" if c <= -0.05 else \"neutral\")\n",
        "\n",
        "df_train.head()"
      ],
      "metadata": {
        "id": "Zs0Y-_lOEUj3",
        "colab": {
          "base_uri": "https://localhost:8080/",
          "height": 337
        },
        "outputId": "dc120c8c-ac98-4424-9d5e-ebad9567de8f"
      },
      "execution_count": 65,
      "outputs": [
        {
          "output_type": "execute_result",
          "data": {
            "text/plain": [
              "          id           Model_Type               Brand  Price Rating  \\\n",
              "9655    9656     OnePlus Nord N10             OnePlus    239      2   \n",
              "840      841          BLU Tank II                 BLU     26      5   \n",
              "13564  13565  Samsung Galaxy S20+  Amazon Refurbished    340      5   \n",
              "9628    9629     OnePlus Nord N10             OnePlus    239      1   \n",
              "14023  14024       Apple iPhone 8  Amazon Refurbished    159      5   \n",
              "\n",
              "               Review Title  \\\n",
              "9655   [ready, prime, time]   \n",
              "840          [worth, price]   \n",
              "13564         [work, great]   \n",
              "9628              [battery]   \n",
              "14023        [great, price]   \n",
              "\n",
              "                                                  Review  \\\n",
              "9655   primary gripe screen brightness -- lack use ph...   \n",
              "840    clear requirement phone give basic functionali...   \n",
              "13564                                           easy use   \n",
              "9628   month use sometimes turn phone open factory lo...   \n",
              "14023  iphone gift sure expect great buy price compar...   \n",
              "\n",
              "                                                  scores  compound train_label  \n",
              "9655   {'neg': 0.215, 'neu': 0.675, 'pos': 0.11, 'com...   -0.3612    negative  \n",
              "840    {'neg': 0.0, 'neu': 0.615, 'pos': 0.385, 'comp...    0.8750    positive  \n",
              "13564  {'neg': 0.0, 'neu': 0.256, 'pos': 0.744, 'comp...    0.4404    positive  \n",
              "9628   {'neg': 0.054, 'neu': 0.825, 'pos': 0.121, 'co...    0.4215    positive  \n",
              "14023  {'neg': 0.0, 'neu': 0.382, 'pos': 0.618, 'comp...    0.9451    positive  "
            ],
            "text/html": [
              "\n",
              "  <div id=\"df-cbe70c1b-02c9-44f0-9d37-45651918abed\">\n",
              "    <div class=\"colab-df-container\">\n",
              "      <div>\n",
              "<style scoped>\n",
              "    .dataframe tbody tr th:only-of-type {\n",
              "        vertical-align: middle;\n",
              "    }\n",
              "\n",
              "    .dataframe tbody tr th {\n",
              "        vertical-align: top;\n",
              "    }\n",
              "\n",
              "    .dataframe thead th {\n",
              "        text-align: right;\n",
              "    }\n",
              "</style>\n",
              "<table border=\"1\" class=\"dataframe\">\n",
              "  <thead>\n",
              "    <tr style=\"text-align: right;\">\n",
              "      <th></th>\n",
              "      <th>id</th>\n",
              "      <th>Model_Type</th>\n",
              "      <th>Brand</th>\n",
              "      <th>Price</th>\n",
              "      <th>Rating</th>\n",
              "      <th>Review Title</th>\n",
              "      <th>Review</th>\n",
              "      <th>scores</th>\n",
              "      <th>compound</th>\n",
              "      <th>train_label</th>\n",
              "    </tr>\n",
              "  </thead>\n",
              "  <tbody>\n",
              "    <tr>\n",
              "      <th>9655</th>\n",
              "      <td>9656</td>\n",
              "      <td>OnePlus Nord N10</td>\n",
              "      <td>OnePlus</td>\n",
              "      <td>239</td>\n",
              "      <td>2</td>\n",
              "      <td>[ready, prime, time]</td>\n",
              "      <td>primary gripe screen brightness -- lack use ph...</td>\n",
              "      <td>{'neg': 0.215, 'neu': 0.675, 'pos': 0.11, 'com...</td>\n",
              "      <td>-0.3612</td>\n",
              "      <td>negative</td>\n",
              "    </tr>\n",
              "    <tr>\n",
              "      <th>840</th>\n",
              "      <td>841</td>\n",
              "      <td>BLU Tank II</td>\n",
              "      <td>BLU</td>\n",
              "      <td>26</td>\n",
              "      <td>5</td>\n",
              "      <td>[worth, price]</td>\n",
              "      <td>clear requirement phone give basic functionali...</td>\n",
              "      <td>{'neg': 0.0, 'neu': 0.615, 'pos': 0.385, 'comp...</td>\n",
              "      <td>0.8750</td>\n",
              "      <td>positive</td>\n",
              "    </tr>\n",
              "    <tr>\n",
              "      <th>13564</th>\n",
              "      <td>13565</td>\n",
              "      <td>Samsung Galaxy S20+</td>\n",
              "      <td>Amazon Refurbished</td>\n",
              "      <td>340</td>\n",
              "      <td>5</td>\n",
              "      <td>[work, great]</td>\n",
              "      <td>easy use</td>\n",
              "      <td>{'neg': 0.0, 'neu': 0.256, 'pos': 0.744, 'comp...</td>\n",
              "      <td>0.4404</td>\n",
              "      <td>positive</td>\n",
              "    </tr>\n",
              "    <tr>\n",
              "      <th>9628</th>\n",
              "      <td>9629</td>\n",
              "      <td>OnePlus Nord N10</td>\n",
              "      <td>OnePlus</td>\n",
              "      <td>239</td>\n",
              "      <td>1</td>\n",
              "      <td>[battery]</td>\n",
              "      <td>month use sometimes turn phone open factory lo...</td>\n",
              "      <td>{'neg': 0.054, 'neu': 0.825, 'pos': 0.121, 'co...</td>\n",
              "      <td>0.4215</td>\n",
              "      <td>positive</td>\n",
              "    </tr>\n",
              "    <tr>\n",
              "      <th>14023</th>\n",
              "      <td>14024</td>\n",
              "      <td>Apple iPhone 8</td>\n",
              "      <td>Amazon Refurbished</td>\n",
              "      <td>159</td>\n",
              "      <td>5</td>\n",
              "      <td>[great, price]</td>\n",
              "      <td>iphone gift sure expect great buy price compar...</td>\n",
              "      <td>{'neg': 0.0, 'neu': 0.382, 'pos': 0.618, 'comp...</td>\n",
              "      <td>0.9451</td>\n",
              "      <td>positive</td>\n",
              "    </tr>\n",
              "  </tbody>\n",
              "</table>\n",
              "</div>\n",
              "      <button class=\"colab-df-convert\" onclick=\"convertToInteractive('df-cbe70c1b-02c9-44f0-9d37-45651918abed')\"\n",
              "              title=\"Convert this dataframe to an interactive table.\"\n",
              "              style=\"display:none;\">\n",
              "        \n",
              "  <svg xmlns=\"http://www.w3.org/2000/svg\" height=\"24px\"viewBox=\"0 0 24 24\"\n",
              "       width=\"24px\">\n",
              "    <path d=\"M0 0h24v24H0V0z\" fill=\"none\"/>\n",
              "    <path d=\"M18.56 5.44l.94 2.06.94-2.06 2.06-.94-2.06-.94-.94-2.06-.94 2.06-2.06.94zm-11 1L8.5 8.5l.94-2.06 2.06-.94-2.06-.94L8.5 2.5l-.94 2.06-2.06.94zm10 10l.94 2.06.94-2.06 2.06-.94-2.06-.94-.94-2.06-.94 2.06-2.06.94z\"/><path d=\"M17.41 7.96l-1.37-1.37c-.4-.4-.92-.59-1.43-.59-.52 0-1.04.2-1.43.59L10.3 9.45l-7.72 7.72c-.78.78-.78 2.05 0 2.83L4 21.41c.39.39.9.59 1.41.59.51 0 1.02-.2 1.41-.59l7.78-7.78 2.81-2.81c.8-.78.8-2.07 0-2.86zM5.41 20L4 18.59l7.72-7.72 1.47 1.35L5.41 20z\"/>\n",
              "  </svg>\n",
              "      </button>\n",
              "      \n",
              "  <style>\n",
              "    .colab-df-container {\n",
              "      display:flex;\n",
              "      flex-wrap:wrap;\n",
              "      gap: 12px;\n",
              "    }\n",
              "\n",
              "    .colab-df-convert {\n",
              "      background-color: #E8F0FE;\n",
              "      border: none;\n",
              "      border-radius: 50%;\n",
              "      cursor: pointer;\n",
              "      display: none;\n",
              "      fill: #1967D2;\n",
              "      height: 32px;\n",
              "      padding: 0 0 0 0;\n",
              "      width: 32px;\n",
              "    }\n",
              "\n",
              "    .colab-df-convert:hover {\n",
              "      background-color: #E2EBFA;\n",
              "      box-shadow: 0px 1px 2px rgba(60, 64, 67, 0.3), 0px 1px 3px 1px rgba(60, 64, 67, 0.15);\n",
              "      fill: #174EA6;\n",
              "    }\n",
              "\n",
              "    [theme=dark] .colab-df-convert {\n",
              "      background-color: #3B4455;\n",
              "      fill: #D2E3FC;\n",
              "    }\n",
              "\n",
              "    [theme=dark] .colab-df-convert:hover {\n",
              "      background-color: #434B5C;\n",
              "      box-shadow: 0px 1px 3px 1px rgba(0, 0, 0, 0.15);\n",
              "      filter: drop-shadow(0px 1px 2px rgba(0, 0, 0, 0.3));\n",
              "      fill: #FFFFFF;\n",
              "    }\n",
              "  </style>\n",
              "\n",
              "      <script>\n",
              "        const buttonEl =\n",
              "          document.querySelector('#df-cbe70c1b-02c9-44f0-9d37-45651918abed button.colab-df-convert');\n",
              "        buttonEl.style.display =\n",
              "          google.colab.kernel.accessAllowed ? 'block' : 'none';\n",
              "\n",
              "        async function convertToInteractive(key) {\n",
              "          const element = document.querySelector('#df-cbe70c1b-02c9-44f0-9d37-45651918abed');\n",
              "          const dataTable =\n",
              "            await google.colab.kernel.invokeFunction('convertToInteractive',\n",
              "                                                     [key], {});\n",
              "          if (!dataTable) return;\n",
              "\n",
              "          const docLinkHtml = 'Like what you see? Visit the ' +\n",
              "            '<a target=\"_blank\" href=https://colab.research.google.com/notebooks/data_table.ipynb>data table notebook</a>'\n",
              "            + ' to learn more about interactive tables.';\n",
              "          element.innerHTML = '';\n",
              "          dataTable['output_type'] = 'display_data';\n",
              "          await google.colab.output.renderOutput(dataTable, element);\n",
              "          const docLink = document.createElement('div');\n",
              "          docLink.innerHTML = docLinkHtml;\n",
              "          element.appendChild(docLink);\n",
              "        }\n",
              "      </script>\n",
              "    </div>\n",
              "  </div>\n",
              "  "
            ]
          },
          "metadata": {},
          "execution_count": 65
        }
      ]
    },
    {
      "cell_type": "code",
      "source": [
        "# Exploring the unique elements in label column\n",
        "\n",
        "df_train[\"train_label\"].value_counts()"
      ],
      "metadata": {
        "id": "v_c5P_6NO7m5",
        "colab": {
          "base_uri": "https://localhost:8080/"
        },
        "outputId": "ed6e0af8-facf-43de-ad44-3b47ab90187a"
      },
      "execution_count": 66,
      "outputs": [
        {
          "output_type": "execute_result",
          "data": {
            "text/plain": [
              "positive    4445\n",
              "negative    1066\n",
              "neutral      889\n",
              "Name: train_label, dtype: int64"
            ]
          },
          "metadata": {},
          "execution_count": 66
        }
      ]
    },
    {
      "cell_type": "code",
      "source": [
        "# plotting distribution of sentiment scores\n",
        "colors = ['green', 'blue', 'magenta']\n",
        "df_train[\"train_label\"].value_counts().plot(kind=\"bar\", color = colors, figsize=(10, 8))\n",
        "plt.xlabel(\"Sentiment Label\", size=12)\n",
        "plt.ylabel(\"Count\", size=12)\n",
        "plt.title(\"Distribution of Sentiment Scores\", size=14)"
      ],
      "metadata": {
        "id": "GPb6wyKnPoBQ",
        "colab": {
          "base_uri": "https://localhost:8080/"
        },
        "outputId": "0c2eb376-c518-4cbd-dc33-ed7cd915b2a7"
      },
      "execution_count": 67,
      "outputs": [
        {
          "output_type": "execute_result",
          "data": {
            "text/plain": [
              "Text(0.5, 1.0, 'Distribution of Sentiment Scores')"
            ]
          },
          "metadata": {},
          "execution_count": 67
        }
      ]
    },
    {
      "cell_type": "code",
      "source": [
        "# plotting a pie chart\n",
        "colors = ['green', 'blue', 'magenta']\n",
        "df_train[\"train_label\"].value_counts().plot(figsize = (8, 8), kind='pie', y='Sentiment Analysis Results for Amazon Mobile Reviews', colors= colors, autopct='%1.0f%%')\n",
        "plt.legend(df_train.train_label)\n",
        "plt.title(\"Distribution of Sentiment Scores\", size=14)\n",
        "plt.show()"
      ],
      "metadata": {
        "id": "ZRtY8sMZW_tD"
      },
      "execution_count": 68,
      "outputs": []
    },
    {
      "cell_type": "code",
      "source": [
        "# Evaluating the vader analysis\n",
        "\n",
        "df_test[\"scores\"] = df_test[\"Review\"].apply(lambda review : analyzer.polarity_scores(review))\n",
        "df_test[\"compound_test\"] = df_test[\"scores\"].apply(lambda score_dict :score_dict[\"compound\"])\n",
        "df_test[\"test_label\"] = df_test[\"compound_test\"].apply(lambda c : \"positive\" if c >= 0.05 else \"negative\" if c <= -0.05 else \"neutral\")\n"
      ],
      "metadata": {
        "id": "e3p4h79N6AFq"
      },
      "execution_count": 69,
      "outputs": []
    },
    {
      "cell_type": "code",
      "source": [
        "df_test.head()"
      ],
      "metadata": {
        "id": "S2khQjew99Ub",
        "colab": {
          "base_uri": "https://localhost:8080/",
          "height": 337
        },
        "outputId": "825bd7a3-df60-4c4a-d064-13cf4f451773"
      },
      "execution_count": 70,
      "outputs": [
        {
          "output_type": "execute_result",
          "data": {
            "text/plain": [
              "          id           Model_Type               Brand  Price Rating  \\\n",
              "17020  17021           BLU F91 5G                 BLU    229      4   \n",
              "5978    5979   Samsung Galaxy S20  Amazon Refurbished    314      5   \n",
              "6450    6451   Samsung Galaxy S20  Amazon Refurbished    314      5   \n",
              "3893    3894  Samsung Galaxy A10e  Amazon Refurbished    102      5   \n",
              "2857    2858         Moto G Power            Motorola    149      5   \n",
              "\n",
              "                                   Review Title  \\\n",
              "17020                            [great, value]   \n",
              "5978   [good, buy, beautiful, phone, like, new]   \n",
              "6450                            [great, device]   \n",
              "3893                                     [bien]   \n",
              "2857              [greatnphone, fast, delivery]   \n",
              "\n",
              "                                                  Review  \\\n",
              "17020  phone work expect definitely budget phone punc...   \n",
              "5978                                          love phone   \n",
              "6450   wish little customizability volume button wond...   \n",
              "3893                                              nitido   \n",
              "2857                           fast delivery great phone   \n",
              "\n",
              "                                                  scores  compound_test  \\\n",
              "17020  {'neg': 0.0, 'neu': 0.625, 'pos': 0.375, 'comp...         0.5859   \n",
              "5978   {'neg': 0.0, 'neu': 0.192, 'pos': 0.808, 'comp...         0.6369   \n",
              "6450   {'neg': 0.0, 'neu': 0.787, 'pos': 0.213, 'comp...         0.4019   \n",
              "3893   {'neg': 0.0, 'neu': 1.0, 'pos': 0.0, 'compound...         0.0000   \n",
              "2857   {'neg': 0.0, 'neu': 0.423, 'pos': 0.577, 'comp...         0.6249   \n",
              "\n",
              "      test_label  \n",
              "17020   positive  \n",
              "5978    positive  \n",
              "6450    positive  \n",
              "3893     neutral  \n",
              "2857    positive  "
            ],
            "text/html": [
              "\n",
              "  <div id=\"df-f2aed772-9cb0-4c75-a6cc-9f8aa381cd3a\">\n",
              "    <div class=\"colab-df-container\">\n",
              "      <div>\n",
              "<style scoped>\n",
              "    .dataframe tbody tr th:only-of-type {\n",
              "        vertical-align: middle;\n",
              "    }\n",
              "\n",
              "    .dataframe tbody tr th {\n",
              "        vertical-align: top;\n",
              "    }\n",
              "\n",
              "    .dataframe thead th {\n",
              "        text-align: right;\n",
              "    }\n",
              "</style>\n",
              "<table border=\"1\" class=\"dataframe\">\n",
              "  <thead>\n",
              "    <tr style=\"text-align: right;\">\n",
              "      <th></th>\n",
              "      <th>id</th>\n",
              "      <th>Model_Type</th>\n",
              "      <th>Brand</th>\n",
              "      <th>Price</th>\n",
              "      <th>Rating</th>\n",
              "      <th>Review Title</th>\n",
              "      <th>Review</th>\n",
              "      <th>scores</th>\n",
              "      <th>compound_test</th>\n",
              "      <th>test_label</th>\n",
              "    </tr>\n",
              "  </thead>\n",
              "  <tbody>\n",
              "    <tr>\n",
              "      <th>17020</th>\n",
              "      <td>17021</td>\n",
              "      <td>BLU F91 5G</td>\n",
              "      <td>BLU</td>\n",
              "      <td>229</td>\n",
              "      <td>4</td>\n",
              "      <td>[great, value]</td>\n",
              "      <td>phone work expect definitely budget phone punc...</td>\n",
              "      <td>{'neg': 0.0, 'neu': 0.625, 'pos': 0.375, 'comp...</td>\n",
              "      <td>0.5859</td>\n",
              "      <td>positive</td>\n",
              "    </tr>\n",
              "    <tr>\n",
              "      <th>5978</th>\n",
              "      <td>5979</td>\n",
              "      <td>Samsung Galaxy S20</td>\n",
              "      <td>Amazon Refurbished</td>\n",
              "      <td>314</td>\n",
              "      <td>5</td>\n",
              "      <td>[good, buy, beautiful, phone, like, new]</td>\n",
              "      <td>love phone</td>\n",
              "      <td>{'neg': 0.0, 'neu': 0.192, 'pos': 0.808, 'comp...</td>\n",
              "      <td>0.6369</td>\n",
              "      <td>positive</td>\n",
              "    </tr>\n",
              "    <tr>\n",
              "      <th>6450</th>\n",
              "      <td>6451</td>\n",
              "      <td>Samsung Galaxy S20</td>\n",
              "      <td>Amazon Refurbished</td>\n",
              "      <td>314</td>\n",
              "      <td>5</td>\n",
              "      <td>[great, device]</td>\n",
              "      <td>wish little customizability volume button wond...</td>\n",
              "      <td>{'neg': 0.0, 'neu': 0.787, 'pos': 0.213, 'comp...</td>\n",
              "      <td>0.4019</td>\n",
              "      <td>positive</td>\n",
              "    </tr>\n",
              "    <tr>\n",
              "      <th>3893</th>\n",
              "      <td>3894</td>\n",
              "      <td>Samsung Galaxy A10e</td>\n",
              "      <td>Amazon Refurbished</td>\n",
              "      <td>102</td>\n",
              "      <td>5</td>\n",
              "      <td>[bien]</td>\n",
              "      <td>nitido</td>\n",
              "      <td>{'neg': 0.0, 'neu': 1.0, 'pos': 0.0, 'compound...</td>\n",
              "      <td>0.0000</td>\n",
              "      <td>neutral</td>\n",
              "    </tr>\n",
              "    <tr>\n",
              "      <th>2857</th>\n",
              "      <td>2858</td>\n",
              "      <td>Moto G Power</td>\n",
              "      <td>Motorola</td>\n",
              "      <td>149</td>\n",
              "      <td>5</td>\n",
              "      <td>[greatnphone, fast, delivery]</td>\n",
              "      <td>fast delivery great phone</td>\n",
              "      <td>{'neg': 0.0, 'neu': 0.423, 'pos': 0.577, 'comp...</td>\n",
              "      <td>0.6249</td>\n",
              "      <td>positive</td>\n",
              "    </tr>\n",
              "  </tbody>\n",
              "</table>\n",
              "</div>\n",
              "      <button class=\"colab-df-convert\" onclick=\"convertToInteractive('df-f2aed772-9cb0-4c75-a6cc-9f8aa381cd3a')\"\n",
              "              title=\"Convert this dataframe to an interactive table.\"\n",
              "              style=\"display:none;\">\n",
              "        \n",
              "  <svg xmlns=\"http://www.w3.org/2000/svg\" height=\"24px\"viewBox=\"0 0 24 24\"\n",
              "       width=\"24px\">\n",
              "    <path d=\"M0 0h24v24H0V0z\" fill=\"none\"/>\n",
              "    <path d=\"M18.56 5.44l.94 2.06.94-2.06 2.06-.94-2.06-.94-.94-2.06-.94 2.06-2.06.94zm-11 1L8.5 8.5l.94-2.06 2.06-.94-2.06-.94L8.5 2.5l-.94 2.06-2.06.94zm10 10l.94 2.06.94-2.06 2.06-.94-2.06-.94-.94-2.06-.94 2.06-2.06.94z\"/><path d=\"M17.41 7.96l-1.37-1.37c-.4-.4-.92-.59-1.43-.59-.52 0-1.04.2-1.43.59L10.3 9.45l-7.72 7.72c-.78.78-.78 2.05 0 2.83L4 21.41c.39.39.9.59 1.41.59.51 0 1.02-.2 1.41-.59l7.78-7.78 2.81-2.81c.8-.78.8-2.07 0-2.86zM5.41 20L4 18.59l7.72-7.72 1.47 1.35L5.41 20z\"/>\n",
              "  </svg>\n",
              "      </button>\n",
              "      \n",
              "  <style>\n",
              "    .colab-df-container {\n",
              "      display:flex;\n",
              "      flex-wrap:wrap;\n",
              "      gap: 12px;\n",
              "    }\n",
              "\n",
              "    .colab-df-convert {\n",
              "      background-color: #E8F0FE;\n",
              "      border: none;\n",
              "      border-radius: 50%;\n",
              "      cursor: pointer;\n",
              "      display: none;\n",
              "      fill: #1967D2;\n",
              "      height: 32px;\n",
              "      padding: 0 0 0 0;\n",
              "      width: 32px;\n",
              "    }\n",
              "\n",
              "    .colab-df-convert:hover {\n",
              "      background-color: #E2EBFA;\n",
              "      box-shadow: 0px 1px 2px rgba(60, 64, 67, 0.3), 0px 1px 3px 1px rgba(60, 64, 67, 0.15);\n",
              "      fill: #174EA6;\n",
              "    }\n",
              "\n",
              "    [theme=dark] .colab-df-convert {\n",
              "      background-color: #3B4455;\n",
              "      fill: #D2E3FC;\n",
              "    }\n",
              "\n",
              "    [theme=dark] .colab-df-convert:hover {\n",
              "      background-color: #434B5C;\n",
              "      box-shadow: 0px 1px 3px 1px rgba(0, 0, 0, 0.15);\n",
              "      filter: drop-shadow(0px 1px 2px rgba(0, 0, 0, 0.3));\n",
              "      fill: #FFFFFF;\n",
              "    }\n",
              "  </style>\n",
              "\n",
              "      <script>\n",
              "        const buttonEl =\n",
              "          document.querySelector('#df-f2aed772-9cb0-4c75-a6cc-9f8aa381cd3a button.colab-df-convert');\n",
              "        buttonEl.style.display =\n",
              "          google.colab.kernel.accessAllowed ? 'block' : 'none';\n",
              "\n",
              "        async function convertToInteractive(key) {\n",
              "          const element = document.querySelector('#df-f2aed772-9cb0-4c75-a6cc-9f8aa381cd3a');\n",
              "          const dataTable =\n",
              "            await google.colab.kernel.invokeFunction('convertToInteractive',\n",
              "                                                     [key], {});\n",
              "          if (!dataTable) return;\n",
              "\n",
              "          const docLinkHtml = 'Like what you see? Visit the ' +\n",
              "            '<a target=\"_blank\" href=https://colab.research.google.com/notebooks/data_table.ipynb>data table notebook</a>'\n",
              "            + ' to learn more about interactive tables.';\n",
              "          element.innerHTML = '';\n",
              "          dataTable['output_type'] = 'display_data';\n",
              "          await google.colab.output.renderOutput(dataTable, element);\n",
              "          const docLink = document.createElement('div');\n",
              "          docLink.innerHTML = docLinkHtml;\n",
              "          element.appendChild(docLink);\n",
              "        }\n",
              "      </script>\n",
              "    </div>\n",
              "  </div>\n",
              "  "
            ]
          },
          "metadata": {},
          "execution_count": 70
        }
      ]
    },
    {
      "cell_type": "markdown",
      "source": [
        "Vader models do not account for relationship between words and context hence a transformer model can be fitted to explore differences in sentiment analysis output."
      ],
      "metadata": {
        "id": "0OXdr2k5lYT9"
      }
    },
    {
      "cell_type": "markdown",
      "source": [
        "## Roberta Model: Neural Network Model"
      ],
      "metadata": {
        "id": "nFtiGA6qjdWm"
      }
    },
    {
      "cell_type": "code",
      "source": [
        "# Transformer models account for context\n",
        "# !pip install transformers\n",
        "# from transformers import AutoTokenizer\n",
        "# from transformers import AutoModelForSequenceClassification\n",
        "# from scipy.special import softmax"
      ],
      "metadata": {
        "id": "j99DeV6Zjhts"
      },
      "execution_count": 71,
      "outputs": []
    },
    {
      "cell_type": "code",
      "source": [
        "# # transfer learning on a pretrained model\n",
        "# # finding pretrained weights to use in the model\n",
        "# MODEL = f\"cardiffnlp/twitter-roberta-base-sentiment\"\n",
        "# tokenizer = AutoTokenizer.from_pretrained(MODEL)\n",
        "# model = AutoModelForSequenceClassification.from_pretrained(MODEL)"
      ],
      "metadata": {
        "id": "GTg4YLo6mPN_"
      },
      "execution_count": 72,
      "outputs": []
    },
    {
      "cell_type": "code",
      "source": [
        "# def polarity_scores_roberta(words):\n",
        "#   encoded_text = tokenizer(words, return_tensors=\"pt\")\n",
        "#   output = model(**encoded_text)\n",
        "#   scores = output [0][0].detach().numpy()\n",
        "#   scores = softmax(scores)\n",
        "#   scores_dict ={\n",
        "#       \"roberta_neg\": scores[0],\n",
        "#       \"roberta_neu\" : scores[1],\n",
        "#       \"roberta_pos\" : scores [2]\n",
        "#   }\n",
        "#   return scores_dict\n"
      ],
      "metadata": {
        "id": "jkq42r1xmqj8"
      },
      "execution_count": 73,
      "outputs": []
    },
    {
      "cell_type": "code",
      "source": [
        "# res = {}\n",
        "# for i, row in tqdm(df.iterrows(), total=len(df)):\n",
        "#   try:\n",
        "#     text = row[\"Review\"]\n",
        "#     id = row[\"id\"]\n",
        "#     roberta_results = polarity_scores_roberta(text)\n",
        "#   except RuntimeError:\n",
        "#     print(f'Broke for id {id}')"
      ],
      "metadata": {
        "id": "POAWUClHpgJ8"
      },
      "execution_count": 74,
      "outputs": []
    },
    {
      "cell_type": "code",
      "source": [
        "# vader = pd.DataFrame(res).T\n",
        "# vader = vader.reset_index().rename(columns={\"index\":\"id\"})\n",
        "# vader_df = vader.merge(df, how=\"left\")"
      ],
      "metadata": {
        "id": "tsRDhYDSuYzv"
      },
      "execution_count": 75,
      "outputs": []
    },
    {
      "cell_type": "code",
      "source": [],
      "metadata": {
        "id": "Qx4RuGkW6KhD"
      },
      "execution_count": 75,
      "outputs": []
    },
    {
      "cell_type": "markdown",
      "source": [
        "### Bert Model"
      ],
      "metadata": {
        "id": "xaulwrTSWCsj"
      }
    },
    {
      "cell_type": "code",
      "source": [
        "! pip install torch torchvision torchaudio --extra-index-url https://download.pytorch.org/whl/cu116"
      ],
      "metadata": {
        "id": "UFJB0IFUttLY",
        "colab": {
          "base_uri": "https://localhost:8080/"
        },
        "outputId": "f954a323-6978-4782-c09c-0c1a5efaa538"
      },
      "execution_count": 76,
      "outputs": [
        {
          "output_type": "stream",
          "name": "stdout",
          "text": [
            "Looking in indexes: https://pypi.org/simple, https://us-python.pkg.dev/colab-wheels/public/simple/, https://download.pytorch.org/whl/cu116\n",
            "Requirement already satisfied: torch in /usr/local/lib/python3.7/dist-packages (1.12.1+cu113)\n",
            "Requirement already satisfied: torchvision in /usr/local/lib/python3.7/dist-packages (0.13.1+cu113)\n",
            "Requirement already satisfied: torchaudio in /usr/local/lib/python3.7/dist-packages (0.12.1+cu113)\n",
            "Requirement already satisfied: typing-extensions in /usr/local/lib/python3.7/dist-packages (from torch) (4.1.1)\n",
            "Requirement already satisfied: requests in /usr/local/lib/python3.7/dist-packages (from torchvision) (2.23.0)\n",
            "Requirement already satisfied: pillow!=8.3.*,>=5.3.0 in /usr/local/lib/python3.7/dist-packages (from torchvision) (7.1.2)\n",
            "Requirement already satisfied: numpy in /usr/local/lib/python3.7/dist-packages (from torchvision) (1.21.6)\n",
            "Requirement already satisfied: certifi>=2017.4.17 in /usr/local/lib/python3.7/dist-packages (from requests->torchvision) (2022.6.15)\n",
            "Requirement already satisfied: idna<3,>=2.5 in /usr/local/lib/python3.7/dist-packages (from requests->torchvision) (2.10)\n",
            "Requirement already satisfied: chardet<4,>=3.0.2 in /usr/local/lib/python3.7/dist-packages (from requests->torchvision) (3.0.4)\n",
            "Requirement already satisfied: urllib3!=1.25.0,!=1.25.1,<1.26,>=1.21.1 in /usr/local/lib/python3.7/dist-packages (from requests->torchvision) (1.24.3)\n"
          ]
        }
      ]
    },
    {
      "cell_type": "code",
      "source": [
        "! pip install transformers"
      ],
      "metadata": {
        "id": "d0XhP-8iWQYn",
        "outputId": "97c55775-35ca-43b3-8839-2444ec952b97",
        "colab": {
          "base_uri": "https://localhost:8080/"
        }
      },
      "execution_count": 77,
      "outputs": [
        {
          "output_type": "stream",
          "name": "stdout",
          "text": [
            "Looking in indexes: https://pypi.org/simple, https://us-python.pkg.dev/colab-wheels/public/simple/\n",
            "Collecting transformers\n",
            "  Downloading transformers-4.21.3-py3-none-any.whl (4.7 MB)\n",
            "\u001b[K     |████████████████████████████████| 4.7 MB 7.3 MB/s \n",
            "\u001b[?25hRequirement already satisfied: tqdm>=4.27 in /usr/local/lib/python3.7/dist-packages (from transformers) (4.64.1)\n",
            "Requirement already satisfied: filelock in /usr/local/lib/python3.7/dist-packages (from transformers) (3.8.0)\n",
            "Collecting tokenizers!=0.11.3,<0.13,>=0.11.1\n",
            "  Downloading tokenizers-0.12.1-cp37-cp37m-manylinux_2_12_x86_64.manylinux2010_x86_64.whl (6.6 MB)\n",
            "\u001b[K     |████████████████████████████████| 6.6 MB 46.9 MB/s \n",
            "\u001b[?25hRequirement already satisfied: regex!=2019.12.17 in /usr/local/lib/python3.7/dist-packages (from transformers) (2022.6.2)\n",
            "Requirement already satisfied: importlib-metadata in /usr/local/lib/python3.7/dist-packages (from transformers) (4.12.0)\n",
            "Requirement already satisfied: pyyaml>=5.1 in /usr/local/lib/python3.7/dist-packages (from transformers) (6.0)\n",
            "Requirement already satisfied: requests in /usr/local/lib/python3.7/dist-packages (from transformers) (2.23.0)\n",
            "Requirement already satisfied: numpy>=1.17 in /usr/local/lib/python3.7/dist-packages (from transformers) (1.21.6)\n",
            "Requirement already satisfied: packaging>=20.0 in /usr/local/lib/python3.7/dist-packages (from transformers) (21.3)\n",
            "Collecting huggingface-hub<1.0,>=0.1.0\n",
            "  Downloading huggingface_hub-0.9.1-py3-none-any.whl (120 kB)\n",
            "\u001b[K     |████████████████████████████████| 120 kB 52.4 MB/s \n",
            "\u001b[?25hRequirement already satisfied: typing-extensions>=3.7.4.3 in /usr/local/lib/python3.7/dist-packages (from huggingface-hub<1.0,>=0.1.0->transformers) (4.1.1)\n",
            "Requirement already satisfied: pyparsing!=3.0.5,>=2.0.2 in /usr/local/lib/python3.7/dist-packages (from packaging>=20.0->transformers) (3.0.9)\n",
            "Requirement already satisfied: zipp>=0.5 in /usr/local/lib/python3.7/dist-packages (from importlib-metadata->transformers) (3.8.1)\n",
            "Requirement already satisfied: urllib3!=1.25.0,!=1.25.1,<1.26,>=1.21.1 in /usr/local/lib/python3.7/dist-packages (from requests->transformers) (1.24.3)\n",
            "Requirement already satisfied: chardet<4,>=3.0.2 in /usr/local/lib/python3.7/dist-packages (from requests->transformers) (3.0.4)\n",
            "Requirement already satisfied: idna<3,>=2.5 in /usr/local/lib/python3.7/dist-packages (from requests->transformers) (2.10)\n",
            "Requirement already satisfied: certifi>=2017.4.17 in /usr/local/lib/python3.7/dist-packages (from requests->transformers) (2022.6.15)\n",
            "Installing collected packages: tokenizers, huggingface-hub, transformers\n",
            "Successfully installed huggingface-hub-0.9.1 tokenizers-0.12.1 transformers-4.21.3\n"
          ]
        }
      ]
    },
    {
      "cell_type": "code",
      "source": [
        "from transformers import AutoTokenizer, AutoModelForSequenceClassification\n"
      ],
      "metadata": {
        "id": "9eMWmEjHWamQ"
      },
      "execution_count": 78,
      "outputs": []
    },
    {
      "cell_type": "code",
      "source": [
        "import torch"
      ],
      "metadata": {
        "id": "zAZfe342XBnL"
      },
      "execution_count": 79,
      "outputs": []
    },
    {
      "cell_type": "code",
      "source": [],
      "metadata": {
        "id": "_hJQw96vkj-d"
      },
      "execution_count": null,
      "outputs": []
    },
    {
      "cell_type": "markdown",
      "source": [
        "# 8. Challenging the Solution"
      ],
      "metadata": {
        "id": "ncUjOkJ4Ifs6"
      }
    },
    {
      "cell_type": "code",
      "source": [],
      "metadata": {
        "id": "uW3PdEYeIVls"
      },
      "execution_count": null,
      "outputs": []
    },
    {
      "cell_type": "markdown",
      "source": [
        "# 9. Conclusions"
      ],
      "metadata": {
        "id": "BDyCYr39Ikd7"
      }
    },
    {
      "cell_type": "code",
      "source": [],
      "metadata": {
        "id": "iGKpu0pAImjP"
      },
      "execution_count": null,
      "outputs": []
    },
    {
      "cell_type": "markdown",
      "source": [
        "# 10. Recommendations"
      ],
      "metadata": {
        "id": "G_X-N5lfInDJ"
      }
    },
    {
      "cell_type": "code",
      "source": [],
      "metadata": {
        "id": "pwZgFDXuIplR"
      },
      "execution_count": null,
      "outputs": []
    }
  ]
}
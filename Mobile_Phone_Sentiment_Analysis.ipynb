{
  "nbformat": 4,
  "nbformat_minor": 0,
  "metadata": {
    "colab": {
      "provenance": [],
      "collapsed_sections": [],
      "mount_file_id": "1Z-B0mTjFU-I-cF_BuCDGd0kKaEbcBMut",
      "authorship_tag": "ABX9TyMsyYrla4sYyuHbnW8w6aaB",
      "include_colab_link": true
    },
    "kernelspec": {
      "name": "python3",
      "display_name": "Python 3"
    },
    "language_info": {
      "name": "python"
    }
  },
  "cells": [
    {
      "cell_type": "markdown",
      "metadata": {
        "id": "view-in-github",
        "colab_type": "text"
      },
      "source": [
        "<a href=\"https://colab.research.google.com/github/Mercy-Njambi/Mobile-Phone-Sentiment-Analysis/blob/main/Mobile_Phone_Sentiment_Analysis.ipynb\" target=\"_parent\"><img src=\"https://colab.research.google.com/assets/colab-badge.svg\" alt=\"Open In Colab\"/></a>"
      ]
    },
    {
      "cell_type": "markdown",
      "source": [
        "# 1. Business Understanding"
      ],
      "metadata": {
        "id": "9q3BAMW7E1DW"
      }
    },
    {
      "cell_type": "markdown",
      "source": [
        "## 1.1 Problem Statement"
      ],
      "metadata": {
        "id": "Zsdsj6xeFLkh"
      }
    },
    {
      "cell_type": "markdown",
      "source": [
        "Purchasing a product is an interaction between two entities, consumers and business owners. Consumers often use reviews to make decisions about what products to buy, while businesses, on the other hand, not only want to sell their products but also want to receive feedback in terms of consumer reviews. Consumer reviews about purchased products shared on the internet have a great impact. Human nature is generally structured to make decisions based on analyzing and getting the benefit of other consumer experience and opinions because others often have a great influence on our beliefs, behaviors, perception of reality, and the choices we make. Hence, we ask others for their feedback whenever we are deciding on doing something. Additionally, this fact applies not only to consumers but also to organizations and institutions.\n",
        "\n",
        "As social media networks have evolved, so have the ways that consumers express their opinions and feelings. With the vast amount of data now available online, it has become a challenge to extract useful information from it all. Sentiment analysis has emerged as a way to predict the polarity (positive, negative, or neutral) of consumer opinion, which can help consumers better understand the textual data.\n",
        "\n",
        "E-commerce websites have increased in popularity to the point where consumers rely on them for buying and selling. These websites give consumers the ability to write comments about different products and services, which has resulted in a huge amount of reviews becoming available. Consequently, the need to analyze these reviews to understand consumers’ feedback has increased for both vendors and consumers. However, it is difficult to read all the feedback for a particular item, especially for popular items with many comments. \n",
        "\n",
        "In this research, we attempt to build a predictor for consumers’ satisfaction on mobile phone products based on the reviews. We will also attempt to understand the factors that contribute to classifying reviews as positive, negative or neutral (based on important or most frequent words). This is believed to help companies improve their products and also help potential buyers make better decisions when buying products.\n",
        "\n",
        "### Main objective\n",
        "- To perform a sentiment analysis of mobile phone reviews from Amazon website to determine how these reviews help consumers to have conﬁdence that they have made the right decision about their purchases.\n",
        "\n",
        "### Specific Objectives\n",
        "- To help companies understand their consumers’ feedback to maintain their products/services or enhance them.\n",
        "- To provide insights to companies in curating offers on speciﬁc products to increase their proﬁts and customer satisfaction.\n",
        "- To understand the factors that contribute to classifying reviews as positive, negative or neutral (based on important or most frequent words).\n",
        "- To determine mobile phones key features that influence smartphone purchases.\n",
        "- To perform a market segmentation of consumers based on their reviews\n",
        "- To advise the advertisement department in companies on these key features to use as selling points and to specific customer segments  in upcoming advertisements.\n"
      ],
      "metadata": {
        "id": "xMX51AmQgzWE"
      }
    },
    {
      "cell_type": "markdown",
      "source": [
        "## 1.2 Metrics of Success"
      ],
      "metadata": {
        "id": "gaUJXyyLFUTK"
      }
    },
    {
      "cell_type": "markdown",
      "source": [
        "The best performing model will be selected based on:\n",
        "- An accuracy score > 80%\n",
        "- An F1 score > 0.85 \n"
      ],
      "metadata": {
        "id": "Q9Oc9eMoiCEc"
      }
    },
    {
      "cell_type": "markdown",
      "source": [
        "# 2. Data Understanding"
      ],
      "metadata": {
        "id": "nV7OCr-jE684"
      }
    },
    {
      "cell_type": "markdown",
      "source": [
        "The data used for this project is obtained from [data.world](https://data.world/promptcloud/amazon-mobile-phone-reviews) and contains more than 400 thousand reviews  of unlocked mobile phones sold on [amazon.com](https://www.amazon.com/). The data was collected from 2016 and last updated in April 2022. The data contains 6 columns:\n",
        "- Product_name : Contains the name of the product\n",
        "- Brand : Contains the brand of the product\n",
        "- Price : Contains the price of the brans\n",
        "- Rating : Contains the rating awarded to that product\n",
        "- Reviews : Contains the review of that product\n",
        "- Review_votes : Number of people who found the review helpful\n",
        "\n"
      ],
      "metadata": {
        "id": "sqSbCw7_jZSZ"
      }
    },
    {
      "cell_type": "markdown",
      "source": [
        "# 3. Loading the Data"
      ],
      "metadata": {
        "id": "4i1eLmRKGPl4"
      }
    },
    {
      "cell_type": "markdown",
      "source": [
        "## 3.1 Loading the Libraries"
      ],
      "metadata": {
        "id": "CbMOWZeZGm-N"
      }
    },
    {
      "cell_type": "code",
      "source": [
        "import pandas as pd\n",
        "\n",
        "from matplotlib import pyplot as pyplot\n",
        "import seaborn as sns"
      ],
      "metadata": {
        "id": "LxndseO0G2LM"
      },
      "execution_count": 6,
      "outputs": []
    },
    {
      "cell_type": "markdown",
      "source": [
        "## 3.2 Loading the Data"
      ],
      "metadata": {
        "id": "Bix9U25iG3d6"
      }
    },
    {
      "cell_type": "code",
      "source": [
        "# loading the data\n",
        "\n",
        "df = pd.read_csv('/content/drive/Shareddrives/Alpha/Data/amazon_unlocked_mobile.csv')"
      ],
      "metadata": {
        "id": "7QRfpgb3G6YA"
      },
      "execution_count": 5,
      "outputs": []
    },
    {
      "cell_type": "markdown",
      "source": [
        "## 3.3 Previewing the Data"
      ],
      "metadata": {
        "id": "wwvKhb51G67A"
      }
    },
    {
      "cell_type": "code",
      "source": [
        "# checking the shape of the data\n",
        "\n",
        "print(f'The data has {df.shape[0]} rows and {df.shape[1]} columns')"
      ],
      "metadata": {
        "colab": {
          "base_uri": "https://localhost:8080/"
        },
        "id": "t6dRxB8kHASI",
        "outputId": "5aba1991-ae77-4e21-e768-3a6622dbecf9"
      },
      "execution_count": 7,
      "outputs": [
        {
          "output_type": "stream",
          "name": "stdout",
          "text": [
            "The data has 413840 rows and 6 columns\n"
          ]
        }
      ]
    },
    {
      "cell_type": "code",
      "source": [
        "# checking the data types of the data\n",
        "\n",
        "df.info()"
      ],
      "metadata": {
        "colab": {
          "base_uri": "https://localhost:8080/"
        },
        "id": "ssrPqcJPmSUr",
        "outputId": "c0925b3f-15f2-41ef-c2e4-af6458bfa602"
      },
      "execution_count": 8,
      "outputs": [
        {
          "output_type": "stream",
          "name": "stdout",
          "text": [
            "<class 'pandas.core.frame.DataFrame'>\n",
            "RangeIndex: 413840 entries, 0 to 413839\n",
            "Data columns (total 6 columns):\n",
            " #   Column        Non-Null Count   Dtype  \n",
            "---  ------        --------------   -----  \n",
            " 0   product_name  413840 non-null  object \n",
            " 1   brand_name    348669 non-null  object \n",
            " 2   price         407907 non-null  float64\n",
            " 3   rating        413840 non-null  int64  \n",
            " 4   reviews       413778 non-null  object \n",
            " 5   review_votes  401544 non-null  float64\n",
            "dtypes: float64(2), int64(1), object(3)\n",
            "memory usage: 18.9+ MB\n"
          ]
        }
      ]
    },
    {
      "cell_type": "markdown",
      "source": [
        "# 4. Data Cleaning"
      ],
      "metadata": {
        "id": "ogkfBk-EHXkH"
      }
    },
    {
      "cell_type": "code",
      "source": [],
      "metadata": {
        "id": "luUR9GWFHolO"
      },
      "execution_count": null,
      "outputs": []
    },
    {
      "cell_type": "code",
      "source": [],
      "metadata": {
        "id": "_aXm2gNMHp2b"
      },
      "execution_count": null,
      "outputs": []
    },
    {
      "cell_type": "markdown",
      "source": [
        "# 5. Feature Engineering"
      ],
      "metadata": {
        "id": "WvpSCizjHv74"
      }
    },
    {
      "cell_type": "code",
      "source": [],
      "metadata": {
        "id": "uIpIKPQfHxZC"
      },
      "execution_count": null,
      "outputs": []
    },
    {
      "cell_type": "markdown",
      "source": [
        "# 6. Exploratory Data Analysis(EDA)"
      ],
      "metadata": {
        "id": "_T_okllJH8rm"
      }
    },
    {
      "cell_type": "code",
      "source": [],
      "metadata": {
        "id": "83TYbHB5IExj"
      },
      "execution_count": null,
      "outputs": []
    },
    {
      "cell_type": "markdown",
      "source": [
        "# 7. Implementing the Solution"
      ],
      "metadata": {
        "id": "NJ74jj_gILmq"
      }
    },
    {
      "cell_type": "markdown",
      "source": [
        "## 7.1 Preprocessing"
      ],
      "metadata": {
        "id": "ltml7Fi0IWtU"
      }
    },
    {
      "cell_type": "markdown",
      "source": [
        "# 8. Challenging the Solution"
      ],
      "metadata": {
        "id": "ncUjOkJ4Ifs6"
      }
    },
    {
      "cell_type": "code",
      "source": [],
      "metadata": {
        "id": "uW3PdEYeIVls"
      },
      "execution_count": null,
      "outputs": []
    },
    {
      "cell_type": "markdown",
      "source": [
        "# 9. Conclusions"
      ],
      "metadata": {
        "id": "BDyCYr39Ikd7"
      }
    },
    {
      "cell_type": "code",
      "source": [],
      "metadata": {
        "id": "iGKpu0pAImjP"
      },
      "execution_count": null,
      "outputs": []
    },
    {
      "cell_type": "markdown",
      "source": [
        "# 10. Recommendations"
      ],
      "metadata": {
        "id": "G_X-N5lfInDJ"
      }
    },
    {
      "cell_type": "code",
      "source": [],
      "metadata": {
        "id": "pwZgFDXuIplR"
      },
      "execution_count": null,
      "outputs": []
    }
  ]
}
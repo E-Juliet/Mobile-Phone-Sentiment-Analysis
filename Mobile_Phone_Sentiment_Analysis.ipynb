{
  "nbformat": 4,
  "nbformat_minor": 0,
  "metadata": {
    "colab": {
      "provenance": [],
      "collapsed_sections": [],
      "include_colab_link": true
    },
    "kernelspec": {
      "name": "python3",
      "display_name": "Python 3"
    },
    "language_info": {
      "name": "python"
    }
  },
  "cells": [
    {
      "cell_type": "markdown",
      "metadata": {
        "id": "view-in-github",
        "colab_type": "text"
      },
      "source": [
        "<a href=\"https://colab.research.google.com/github/mainaroseline/Mobile-Phone-Sentiment-Analysis/blob/main/Mobile_Phone_Sentiment_Analysis.ipynb\" target=\"_parent\"><img src=\"https://colab.research.google.com/assets/colab-badge.svg\" alt=\"Open In Colab\"/></a>"
      ]
    },
    {
      "cell_type": "markdown",
      "source": [
        "# 1. Business Understanding"
      ],
      "metadata": {
        "id": "9q3BAMW7E1DW"
      }
    },
    {
      "cell_type": "markdown",
      "source": [
        "## 1.1. Problem Statement"
      ],
      "metadata": {
        "id": "Zsdsj6xeFLkh"
      }
    },
    {
      "cell_type": "markdown",
      "source": [
        "Purchasing a product is an interaction between two entities, consumers and business owners. Consumers often use reviews to make decisions about what products to buy, while businesses, on the other hand, not only want to sell their products but also want to receive feedback in terms of consumer reviews. Consumer reviews about purchased products shared on the internet have a great impact. Human nature is generally structured to make decisions based on analyzing and getting the benefit of other consumer experience and opinions because others often have a great influence on our beliefs, behaviors, perception of reality, and the choices we make. Hence, we ask others for their feedback whenever we are deciding on doing something. Additionally, this fact applies not only to consumers but also to organizations and institutions.\n",
        "\n",
        "As social media networks have evolved, so have the ways that consumers express their opinions and feelings. With the vast amount of data now available online, it has become a challenge to extract useful information from it all. Sentiment analysis has emerged as a way to predict the polarity (positive, negative, or neutral) of consumer opinion, which can help consumers better understand the textual data.\n",
        "\n",
        "E-commerce websites have increased in popularity to the point where consumers rely on them for buying and selling. These websites give consumers the ability to write comments about different products and services, which has resulted in a huge amount of reviews becoming available. Consequently, the need to analyze these reviews to understand consumers’ feedback has increased for both vendors and consumers. However, it is difficult to read all the feedback for a particular item, especially for popular items with many comments. \n",
        "\n",
        "In this research, we attempt to build a predictor for consumers’ satisfaction on mobile phone products based on the reviews. We will also attempt to understand the factors that contribute to classifying reviews as positive, negative or neutral (based on important or most frequent words). This is believed to help companies improve their products and also help potential buyers make better decisions when buying products.\n"
      ],
      "metadata": {
        "id": "xMX51AmQgzWE"
      }
    },
    {
      "cell_type": "markdown",
      "source": [
        "### 1.1.1. Main objective"
      ],
      "metadata": {
        "id": "LRL_nT4hQHE1"
      }
    },
    {
      "cell_type": "markdown",
      "source": [
        "- To perform a sentiment analysis of mobile phone reviews from Amazon website to determine how these reviews help consumers to have conﬁdence that they have made the right decision about their purchases."
      ],
      "metadata": {
        "id": "wVjUguQEQOde"
      }
    },
    {
      "cell_type": "markdown",
      "source": [
        "### 1.1.2. Specific Objectives"
      ],
      "metadata": {
        "id": "UzJnQ9GpQSbZ"
      }
    },
    {
      "cell_type": "markdown",
      "source": [
        "- To help companies understand their consumers’ feedback to maintain their products/services or enhance them.\n",
        "- To provide insights to companies in curating offers on speciﬁc products to increase their proﬁts and customer satisfaction.\n",
        "- To understand the factors that contribute to classifying reviews as positive, negative or neutral (based on important or most frequent words).\n",
        "- To determine mobile phones key features that influence smartphone purchases.\n",
        "- To perform a market segmentation of consumers based on their reviews\n",
        "- To advise the advertisement department in companies on these key features to use as selling points and to specific customer segments  in upcoming advertisements."
      ],
      "metadata": {
        "id": "KgSNh4vhQWmT"
      }
    },
    {
      "cell_type": "markdown",
      "source": [
        "### 1.1.3. Metrics of Success"
      ],
      "metadata": {
        "id": "gaUJXyyLFUTK"
      }
    },
    {
      "cell_type": "markdown",
      "source": [
        "The best performing model will be selected based on:\n",
        "- An accuracy score > 80%\n",
        "- An F1 score > 0.85 \n"
      ],
      "metadata": {
        "id": "Q9Oc9eMoiCEc"
      }
    },
    {
      "cell_type": "markdown",
      "source": [
        "# 2. Data Understanding"
      ],
      "metadata": {
        "id": "nV7OCr-jE684"
      }
    },
    {
      "cell_type": "markdown",
      "source": [
        "The data used for this project is obtained from [data.world](https://data.world/promptcloud/amazon-mobile-phone-reviews) and contains more than 400 thousand reviews  of unlocked mobile phones sold on [amazon.com](https://www.amazon.com/). The data was collected from 2016 and last updated in April 2022. The data contains 6 columns:\n",
        "- Product_name : Contains the name of the product\n",
        "- Brand : Contains the brand of the product\n",
        "- Price : Contains the price of the brans\n",
        "- Rating : Contains the rating awarded to that product\n",
        "- Reviews : Contains the review of that product\n",
        "- Review_votes : Number of people who found the review helpful\n",
        "\n"
      ],
      "metadata": {
        "id": "sqSbCw7_jZSZ"
      }
    },
    {
      "cell_type": "markdown",
      "source": [
        "# 3. Loading Relevant Libraries & Data"
      ],
      "metadata": {
        "id": "4i1eLmRKGPl4"
      }
    },
    {
      "cell_type": "markdown",
      "source": [
        "## 3.1. Loading Libraries"
      ],
      "metadata": {
        "id": "CbMOWZeZGm-N"
      }
    },
    {
      "cell_type": "code",
      "source": [
        "import pandas as pd\n",
        "\n",
        "import numpy as np\n",
        "import matplotlib.pyplot as plt\n",
        "%matplotlib inline\n",
        "import seaborn as sns\n",
        "from wordcloud import WordCloud, STOPWORDS\n",
        "\n",
        "\n",
        "import nltk\n",
        "import string\n",
        "import re\n",
        "from nltk import pos_tag\n",
        "from nltk.probability import FreqDist\n",
        "from nltk.stem import WordNetLemmatizer\n",
        "from nltk.corpus import stopwords, wordnet\n",
        "from nltk.tokenize import RegexpTokenizer, word_tokenize\n",
        "\n",
        "from sklearn.feature_extraction.text import CountVectorizer, TfidfVectorizer\n",
        "\n",
        "!pip install contractions\n",
        "import contractions\n",
        "\n",
        "# nltk downloads\n",
        "nltk.download('wordnet', quiet=True)\n",
        "nltk.download('punkt', quiet=True)\n",
        "nltk.download('stopwords', quiet=True)\n",
        "nltk.download('tagsets', quiet=True)\n",
        "nltk.download('averaged_perceptron_tagger', quiet=True)"
      ],
      "metadata": {
        "id": "LxndseO0G2LM",
        "outputId": "5affb6a5-d98c-4468-f9be-a972b8af969d",
        "colab": {
          "base_uri": "https://localhost:8080/"
        }
      },
      "execution_count": 1,
      "outputs": [
        {
          "output_type": "stream",
          "name": "stdout",
          "text": [
            "Looking in indexes: https://pypi.org/simple, https://us-python.pkg.dev/colab-wheels/public/simple/\n",
            "Requirement already satisfied: contractions in /usr/local/lib/python3.7/dist-packages (0.1.72)\n",
            "Requirement already satisfied: textsearch>=0.0.21 in /usr/local/lib/python3.7/dist-packages (from contractions) (0.0.24)\n",
            "Requirement already satisfied: pyahocorasick in /usr/local/lib/python3.7/dist-packages (from textsearch>=0.0.21->contractions) (1.4.4)\n",
            "Requirement already satisfied: anyascii in /usr/local/lib/python3.7/dist-packages (from textsearch>=0.0.21->contractions) (0.3.1)\n"
          ]
        },
        {
          "output_type": "execute_result",
          "data": {
            "text/plain": [
              "True"
            ]
          },
          "metadata": {},
          "execution_count": 1
        }
      ]
    },
    {
      "cell_type": "code",
      "source": [
        "from google.colab import drive\n",
        "drive.mount('/content/drive')"
      ],
      "metadata": {
        "colab": {
          "base_uri": "https://localhost:8080/"
        },
        "id": "BxDfprYEzRXr",
        "outputId": "c5ed2954-bdce-4d76-c1e4-f002419eb4f4"
      },
      "execution_count": 2,
      "outputs": [
        {
          "output_type": "stream",
          "name": "stdout",
          "text": [
            "Drive already mounted at /content/drive; to attempt to forcibly remount, call drive.mount(\"/content/drive\", force_remount=True).\n"
          ]
        }
      ]
    },
    {
      "cell_type": "markdown",
      "source": [
        "## 3.2. Loading Data"
      ],
      "metadata": {
        "id": "Bix9U25iG3d6"
      }
    },
    {
      "cell_type": "code",
      "source": [
        "# loading the data\n",
        "\n",
        "df = pd.read_csv('/content/drive/Shareddrives/Alpha/Data/Amazon Combined Data.csv')\n",
        "df.head()"
      ],
      "metadata": {
        "id": "7QRfpgb3G6YA",
        "outputId": "3d0c6ab7-9c86-4a79-eeb8-2c8ec2ebe8c8",
        "colab": {
          "base_uri": "https://localhost:8080/",
          "height": 354
        }
      },
      "execution_count": 3,
      "outputs": [
        {
          "output_type": "execute_result",
          "data": {
            "text/plain": [
              "               Rating                                       Review Title  \\\n",
              "0  4.0 out of 5 stars  \\n.. not what ordered, not New... but it works...   \n",
              "1  3.0 out of 5 stars  \\nNot for Cricket Wireless and this two review...   \n",
              "2  3.0 out of 5 stars               \\nWill not work on T-Mobile sysem!\\n   \n",
              "3  3.0 out of 5 stars                          \\nA burner or for a kid\\n   \n",
              "4  4.0 out of 5 stars                                  \\nIt works okay\\n   \n",
              "\n",
              "                                              Review  \\\n",
              "0  \\nSo first off...it's not what I ordered, but ...   \n",
              "1  \\nThe phone itself is a okay android device, b...   \n",
              "2  \\nNew phone write up indicates T-Mobile system...   \n",
              "3  \\nI use this as a burner w/o a sim card in it....   \n",
              "4                                  \\nIt works fine\\n   \n",
              "\n",
              "                         Location and Date of Review   Affiliated Company  \\\n",
              "0  Reviewed in the United States on February 11, ...  Visit the RCA Store   \n",
              "1  Reviewed in the United States on February 4, 2021  Visit the RCA Store   \n",
              "2      Reviewed in the United States on June 7, 2022  Visit the RCA Store   \n",
              "3    Reviewed in the United States on April 14, 2022  Visit the RCA Store   \n",
              "4   Reviewed in the United States on August 13, 2022  Visit the RCA Store   \n",
              "\n",
              "                                  Brand and Features   Price  \n",
              "0          RCA Reno Smartphone, 4G LTE, 16GB, And...  $69.99  \n",
              "1          RCA Reno Smartphone, 4G LTE, 16GB, And...  $69.99  \n",
              "2          RCA Reno Smartphone, 4G LTE, 16GB, And...  $69.99  \n",
              "3          RCA Reno Smartphone, 4G LTE, 16GB, And...  $69.99  \n",
              "4          RCA Reno Smartphone, 4G LTE, 16GB, And...  $69.99  "
            ],
            "text/html": [
              "\n",
              "  <div id=\"df-bb37c5e7-41ed-4515-8640-a7505175df3d\">\n",
              "    <div class=\"colab-df-container\">\n",
              "      <div>\n",
              "<style scoped>\n",
              "    .dataframe tbody tr th:only-of-type {\n",
              "        vertical-align: middle;\n",
              "    }\n",
              "\n",
              "    .dataframe tbody tr th {\n",
              "        vertical-align: top;\n",
              "    }\n",
              "\n",
              "    .dataframe thead th {\n",
              "        text-align: right;\n",
              "    }\n",
              "</style>\n",
              "<table border=\"1\" class=\"dataframe\">\n",
              "  <thead>\n",
              "    <tr style=\"text-align: right;\">\n",
              "      <th></th>\n",
              "      <th>Rating</th>\n",
              "      <th>Review Title</th>\n",
              "      <th>Review</th>\n",
              "      <th>Location and Date of Review</th>\n",
              "      <th>Affiliated Company</th>\n",
              "      <th>Brand and Features</th>\n",
              "      <th>Price</th>\n",
              "    </tr>\n",
              "  </thead>\n",
              "  <tbody>\n",
              "    <tr>\n",
              "      <th>0</th>\n",
              "      <td>4.0 out of 5 stars</td>\n",
              "      <td>\\n.. not what ordered, not New... but it works...</td>\n",
              "      <td>\\nSo first off...it's not what I ordered, but ...</td>\n",
              "      <td>Reviewed in the United States on February 11, ...</td>\n",
              "      <td>Visit the RCA Store</td>\n",
              "      <td>RCA Reno Smartphone, 4G LTE, 16GB, And...</td>\n",
              "      <td>$69.99</td>\n",
              "    </tr>\n",
              "    <tr>\n",
              "      <th>1</th>\n",
              "      <td>3.0 out of 5 stars</td>\n",
              "      <td>\\nNot for Cricket Wireless and this two review...</td>\n",
              "      <td>\\nThe phone itself is a okay android device, b...</td>\n",
              "      <td>Reviewed in the United States on February 4, 2021</td>\n",
              "      <td>Visit the RCA Store</td>\n",
              "      <td>RCA Reno Smartphone, 4G LTE, 16GB, And...</td>\n",
              "      <td>$69.99</td>\n",
              "    </tr>\n",
              "    <tr>\n",
              "      <th>2</th>\n",
              "      <td>3.0 out of 5 stars</td>\n",
              "      <td>\\nWill not work on T-Mobile sysem!\\n</td>\n",
              "      <td>\\nNew phone write up indicates T-Mobile system...</td>\n",
              "      <td>Reviewed in the United States on June 7, 2022</td>\n",
              "      <td>Visit the RCA Store</td>\n",
              "      <td>RCA Reno Smartphone, 4G LTE, 16GB, And...</td>\n",
              "      <td>$69.99</td>\n",
              "    </tr>\n",
              "    <tr>\n",
              "      <th>3</th>\n",
              "      <td>3.0 out of 5 stars</td>\n",
              "      <td>\\nA burner or for a kid\\n</td>\n",
              "      <td>\\nI use this as a burner w/o a sim card in it....</td>\n",
              "      <td>Reviewed in the United States on April 14, 2022</td>\n",
              "      <td>Visit the RCA Store</td>\n",
              "      <td>RCA Reno Smartphone, 4G LTE, 16GB, And...</td>\n",
              "      <td>$69.99</td>\n",
              "    </tr>\n",
              "    <tr>\n",
              "      <th>4</th>\n",
              "      <td>4.0 out of 5 stars</td>\n",
              "      <td>\\nIt works okay\\n</td>\n",
              "      <td>\\nIt works fine\\n</td>\n",
              "      <td>Reviewed in the United States on August 13, 2022</td>\n",
              "      <td>Visit the RCA Store</td>\n",
              "      <td>RCA Reno Smartphone, 4G LTE, 16GB, And...</td>\n",
              "      <td>$69.99</td>\n",
              "    </tr>\n",
              "  </tbody>\n",
              "</table>\n",
              "</div>\n",
              "      <button class=\"colab-df-convert\" onclick=\"convertToInteractive('df-bb37c5e7-41ed-4515-8640-a7505175df3d')\"\n",
              "              title=\"Convert this dataframe to an interactive table.\"\n",
              "              style=\"display:none;\">\n",
              "        \n",
              "  <svg xmlns=\"http://www.w3.org/2000/svg\" height=\"24px\"viewBox=\"0 0 24 24\"\n",
              "       width=\"24px\">\n",
              "    <path d=\"M0 0h24v24H0V0z\" fill=\"none\"/>\n",
              "    <path d=\"M18.56 5.44l.94 2.06.94-2.06 2.06-.94-2.06-.94-.94-2.06-.94 2.06-2.06.94zm-11 1L8.5 8.5l.94-2.06 2.06-.94-2.06-.94L8.5 2.5l-.94 2.06-2.06.94zm10 10l.94 2.06.94-2.06 2.06-.94-2.06-.94-.94-2.06-.94 2.06-2.06.94z\"/><path d=\"M17.41 7.96l-1.37-1.37c-.4-.4-.92-.59-1.43-.59-.52 0-1.04.2-1.43.59L10.3 9.45l-7.72 7.72c-.78.78-.78 2.05 0 2.83L4 21.41c.39.39.9.59 1.41.59.51 0 1.02-.2 1.41-.59l7.78-7.78 2.81-2.81c.8-.78.8-2.07 0-2.86zM5.41 20L4 18.59l7.72-7.72 1.47 1.35L5.41 20z\"/>\n",
              "  </svg>\n",
              "      </button>\n",
              "      \n",
              "  <style>\n",
              "    .colab-df-container {\n",
              "      display:flex;\n",
              "      flex-wrap:wrap;\n",
              "      gap: 12px;\n",
              "    }\n",
              "\n",
              "    .colab-df-convert {\n",
              "      background-color: #E8F0FE;\n",
              "      border: none;\n",
              "      border-radius: 50%;\n",
              "      cursor: pointer;\n",
              "      display: none;\n",
              "      fill: #1967D2;\n",
              "      height: 32px;\n",
              "      padding: 0 0 0 0;\n",
              "      width: 32px;\n",
              "    }\n",
              "\n",
              "    .colab-df-convert:hover {\n",
              "      background-color: #E2EBFA;\n",
              "      box-shadow: 0px 1px 2px rgba(60, 64, 67, 0.3), 0px 1px 3px 1px rgba(60, 64, 67, 0.15);\n",
              "      fill: #174EA6;\n",
              "    }\n",
              "\n",
              "    [theme=dark] .colab-df-convert {\n",
              "      background-color: #3B4455;\n",
              "      fill: #D2E3FC;\n",
              "    }\n",
              "\n",
              "    [theme=dark] .colab-df-convert:hover {\n",
              "      background-color: #434B5C;\n",
              "      box-shadow: 0px 1px 3px 1px rgba(0, 0, 0, 0.15);\n",
              "      filter: drop-shadow(0px 1px 2px rgba(0, 0, 0, 0.3));\n",
              "      fill: #FFFFFF;\n",
              "    }\n",
              "  </style>\n",
              "\n",
              "      <script>\n",
              "        const buttonEl =\n",
              "          document.querySelector('#df-bb37c5e7-41ed-4515-8640-a7505175df3d button.colab-df-convert');\n",
              "        buttonEl.style.display =\n",
              "          google.colab.kernel.accessAllowed ? 'block' : 'none';\n",
              "\n",
              "        async function convertToInteractive(key) {\n",
              "          const element = document.querySelector('#df-bb37c5e7-41ed-4515-8640-a7505175df3d');\n",
              "          const dataTable =\n",
              "            await google.colab.kernel.invokeFunction('convertToInteractive',\n",
              "                                                     [key], {});\n",
              "          if (!dataTable) return;\n",
              "\n",
              "          const docLinkHtml = 'Like what you see? Visit the ' +\n",
              "            '<a target=\"_blank\" href=https://colab.research.google.com/notebooks/data_table.ipynb>data table notebook</a>'\n",
              "            + ' to learn more about interactive tables.';\n",
              "          element.innerHTML = '';\n",
              "          dataTable['output_type'] = 'display_data';\n",
              "          await google.colab.output.renderOutput(dataTable, element);\n",
              "          const docLink = document.createElement('div');\n",
              "          docLink.innerHTML = docLinkHtml;\n",
              "          element.appendChild(docLink);\n",
              "        }\n",
              "      </script>\n",
              "    </div>\n",
              "  </div>\n",
              "  "
            ]
          },
          "metadata": {},
          "execution_count": 3
        }
      ]
    },
    {
      "cell_type": "markdown",
      "source": [
        "## 3.3. Previewing Data"
      ],
      "metadata": {
        "id": "wwvKhb51G67A"
      }
    },
    {
      "cell_type": "code",
      "source": [
        "# checking the shape of the data\n",
        "\n",
        "print(f'The data has {df.shape[0]} rows and {df.shape[1]} columns')"
      ],
      "metadata": {
        "colab": {
          "base_uri": "https://localhost:8080/"
        },
        "id": "t6dRxB8kHASI",
        "outputId": "bf4041ad-eba5-45a8-b320-7ccb6785583c"
      },
      "execution_count": 4,
      "outputs": [
        {
          "output_type": "stream",
          "name": "stdout",
          "text": [
            "The data has 17198 rows and 7 columns\n"
          ]
        }
      ]
    },
    {
      "cell_type": "code",
      "source": [
        "# checking the data types of the data\n",
        "\n",
        "df.info()"
      ],
      "metadata": {
        "colab": {
          "base_uri": "https://localhost:8080/"
        },
        "id": "ssrPqcJPmSUr",
        "outputId": "1f91a2cf-dbac-4e55-be1a-1151676a5d6a"
      },
      "execution_count": 5,
      "outputs": [
        {
          "output_type": "stream",
          "name": "stdout",
          "text": [
            "<class 'pandas.core.frame.DataFrame'>\n",
            "RangeIndex: 17198 entries, 0 to 17197\n",
            "Data columns (total 7 columns):\n",
            " #   Column                       Non-Null Count  Dtype \n",
            "---  ------                       --------------  ----- \n",
            " 0   Rating                       17198 non-null  object\n",
            " 1   Review Title                 17198 non-null  object\n",
            " 2   Review                       17168 non-null  object\n",
            " 3   Location and Date of Review  17198 non-null  object\n",
            " 4   Affiliated Company           17198 non-null  object\n",
            " 5   Brand and Features           17198 non-null  object\n",
            " 6   Price                        17198 non-null  object\n",
            "dtypes: object(7)\n",
            "memory usage: 940.6+ KB\n"
          ]
        }
      ]
    },
    {
      "cell_type": "markdown",
      "source": [
        "# 4. Data Cleaning"
      ],
      "metadata": {
        "id": "ogkfBk-EHXkH"
      }
    },
    {
      "cell_type": "markdown",
      "source": [
        "## 4.1. Missing values\n",
        "- Checking for missing values\n"
      ],
      "metadata": {
        "id": "16LBkvdQ0c69"
      }
    },
    {
      "cell_type": "code",
      "source": [
        "# Define a function to get missing data\n",
        "def missing_data(data):\n",
        "    missing_data = data.isna().sum()\n",
        "    missing_data = missing_data[missing_data>0]\n",
        "    return missing_data"
      ],
      "metadata": {
        "id": "QKadLx5PUkN0"
      },
      "execution_count": 6,
      "outputs": []
    },
    {
      "cell_type": "code",
      "source": [
        "# Getting the sum of missing values per column\n",
        "\n",
        "missing_data(df).to_frame()"
      ],
      "metadata": {
        "id": "luUR9GWFHolO",
        "colab": {
          "base_uri": "https://localhost:8080/",
          "height": 81
        },
        "outputId": "c732db2d-75a6-41de-9bed-eb05abcd0426"
      },
      "execution_count": 7,
      "outputs": [
        {
          "output_type": "execute_result",
          "data": {
            "text/plain": [
              "         0\n",
              "Review  30"
            ],
            "text/html": [
              "\n",
              "  <div id=\"df-8b07ada8-260d-414f-a315-17ccfaa8fcf0\">\n",
              "    <div class=\"colab-df-container\">\n",
              "      <div>\n",
              "<style scoped>\n",
              "    .dataframe tbody tr th:only-of-type {\n",
              "        vertical-align: middle;\n",
              "    }\n",
              "\n",
              "    .dataframe tbody tr th {\n",
              "        vertical-align: top;\n",
              "    }\n",
              "\n",
              "    .dataframe thead th {\n",
              "        text-align: right;\n",
              "    }\n",
              "</style>\n",
              "<table border=\"1\" class=\"dataframe\">\n",
              "  <thead>\n",
              "    <tr style=\"text-align: right;\">\n",
              "      <th></th>\n",
              "      <th>0</th>\n",
              "    </tr>\n",
              "  </thead>\n",
              "  <tbody>\n",
              "    <tr>\n",
              "      <th>Review</th>\n",
              "      <td>30</td>\n",
              "    </tr>\n",
              "  </tbody>\n",
              "</table>\n",
              "</div>\n",
              "      <button class=\"colab-df-convert\" onclick=\"convertToInteractive('df-8b07ada8-260d-414f-a315-17ccfaa8fcf0')\"\n",
              "              title=\"Convert this dataframe to an interactive table.\"\n",
              "              style=\"display:none;\">\n",
              "        \n",
              "  <svg xmlns=\"http://www.w3.org/2000/svg\" height=\"24px\"viewBox=\"0 0 24 24\"\n",
              "       width=\"24px\">\n",
              "    <path d=\"M0 0h24v24H0V0z\" fill=\"none\"/>\n",
              "    <path d=\"M18.56 5.44l.94 2.06.94-2.06 2.06-.94-2.06-.94-.94-2.06-.94 2.06-2.06.94zm-11 1L8.5 8.5l.94-2.06 2.06-.94-2.06-.94L8.5 2.5l-.94 2.06-2.06.94zm10 10l.94 2.06.94-2.06 2.06-.94-2.06-.94-.94-2.06-.94 2.06-2.06.94z\"/><path d=\"M17.41 7.96l-1.37-1.37c-.4-.4-.92-.59-1.43-.59-.52 0-1.04.2-1.43.59L10.3 9.45l-7.72 7.72c-.78.78-.78 2.05 0 2.83L4 21.41c.39.39.9.59 1.41.59.51 0 1.02-.2 1.41-.59l7.78-7.78 2.81-2.81c.8-.78.8-2.07 0-2.86zM5.41 20L4 18.59l7.72-7.72 1.47 1.35L5.41 20z\"/>\n",
              "  </svg>\n",
              "      </button>\n",
              "      \n",
              "  <style>\n",
              "    .colab-df-container {\n",
              "      display:flex;\n",
              "      flex-wrap:wrap;\n",
              "      gap: 12px;\n",
              "    }\n",
              "\n",
              "    .colab-df-convert {\n",
              "      background-color: #E8F0FE;\n",
              "      border: none;\n",
              "      border-radius: 50%;\n",
              "      cursor: pointer;\n",
              "      display: none;\n",
              "      fill: #1967D2;\n",
              "      height: 32px;\n",
              "      padding: 0 0 0 0;\n",
              "      width: 32px;\n",
              "    }\n",
              "\n",
              "    .colab-df-convert:hover {\n",
              "      background-color: #E2EBFA;\n",
              "      box-shadow: 0px 1px 2px rgba(60, 64, 67, 0.3), 0px 1px 3px 1px rgba(60, 64, 67, 0.15);\n",
              "      fill: #174EA6;\n",
              "    }\n",
              "\n",
              "    [theme=dark] .colab-df-convert {\n",
              "      background-color: #3B4455;\n",
              "      fill: #D2E3FC;\n",
              "    }\n",
              "\n",
              "    [theme=dark] .colab-df-convert:hover {\n",
              "      background-color: #434B5C;\n",
              "      box-shadow: 0px 1px 3px 1px rgba(0, 0, 0, 0.15);\n",
              "      filter: drop-shadow(0px 1px 2px rgba(0, 0, 0, 0.3));\n",
              "      fill: #FFFFFF;\n",
              "    }\n",
              "  </style>\n",
              "\n",
              "      <script>\n",
              "        const buttonEl =\n",
              "          document.querySelector('#df-8b07ada8-260d-414f-a315-17ccfaa8fcf0 button.colab-df-convert');\n",
              "        buttonEl.style.display =\n",
              "          google.colab.kernel.accessAllowed ? 'block' : 'none';\n",
              "\n",
              "        async function convertToInteractive(key) {\n",
              "          const element = document.querySelector('#df-8b07ada8-260d-414f-a315-17ccfaa8fcf0');\n",
              "          const dataTable =\n",
              "            await google.colab.kernel.invokeFunction('convertToInteractive',\n",
              "                                                     [key], {});\n",
              "          if (!dataTable) return;\n",
              "\n",
              "          const docLinkHtml = 'Like what you see? Visit the ' +\n",
              "            '<a target=\"_blank\" href=https://colab.research.google.com/notebooks/data_table.ipynb>data table notebook</a>'\n",
              "            + ' to learn more about interactive tables.';\n",
              "          element.innerHTML = '';\n",
              "          dataTable['output_type'] = 'display_data';\n",
              "          await google.colab.output.renderOutput(dataTable, element);\n",
              "          const docLink = document.createElement('div');\n",
              "          docLink.innerHTML = docLinkHtml;\n",
              "          element.appendChild(docLink);\n",
              "        }\n",
              "      </script>\n",
              "    </div>\n",
              "  </div>\n",
              "  "
            ]
          },
          "metadata": {},
          "execution_count": 7
        }
      ]
    },
    {
      "cell_type": "markdown",
      "source": [
        "Out of the 7 columns, only the review's column has missing values.\n",
        "\n",
        "Since the dataset is large, the missing values can be dropped and still retain relevant information."
      ],
      "metadata": {
        "id": "vQ8xJbnW2sVI"
      }
    },
    {
      "cell_type": "code",
      "source": [
        "# Dropping the missing values\n",
        "\n",
        "df.dropna(inplace = True)\n",
        "\n",
        "# Confirming there are no missing values \n",
        "\n",
        "missing_data(df).to_frame()"
      ],
      "metadata": {
        "id": "8PJzGXBT4V5r",
        "colab": {
          "base_uri": "https://localhost:8080/",
          "height": 49
        },
        "outputId": "9ccb4d90-dd33-434a-c844-95260e66037e"
      },
      "execution_count": 8,
      "outputs": [
        {
          "output_type": "execute_result",
          "data": {
            "text/plain": [
              "Empty DataFrame\n",
              "Columns: [0]\n",
              "Index: []"
            ],
            "text/html": [
              "\n",
              "  <div id=\"df-39c14d98-9be8-416d-890b-dc900c0e15eb\">\n",
              "    <div class=\"colab-df-container\">\n",
              "      <div>\n",
              "<style scoped>\n",
              "    .dataframe tbody tr th:only-of-type {\n",
              "        vertical-align: middle;\n",
              "    }\n",
              "\n",
              "    .dataframe tbody tr th {\n",
              "        vertical-align: top;\n",
              "    }\n",
              "\n",
              "    .dataframe thead th {\n",
              "        text-align: right;\n",
              "    }\n",
              "</style>\n",
              "<table border=\"1\" class=\"dataframe\">\n",
              "  <thead>\n",
              "    <tr style=\"text-align: right;\">\n",
              "      <th></th>\n",
              "      <th>0</th>\n",
              "    </tr>\n",
              "  </thead>\n",
              "  <tbody>\n",
              "  </tbody>\n",
              "</table>\n",
              "</div>\n",
              "      <button class=\"colab-df-convert\" onclick=\"convertToInteractive('df-39c14d98-9be8-416d-890b-dc900c0e15eb')\"\n",
              "              title=\"Convert this dataframe to an interactive table.\"\n",
              "              style=\"display:none;\">\n",
              "        \n",
              "  <svg xmlns=\"http://www.w3.org/2000/svg\" height=\"24px\"viewBox=\"0 0 24 24\"\n",
              "       width=\"24px\">\n",
              "    <path d=\"M0 0h24v24H0V0z\" fill=\"none\"/>\n",
              "    <path d=\"M18.56 5.44l.94 2.06.94-2.06 2.06-.94-2.06-.94-.94-2.06-.94 2.06-2.06.94zm-11 1L8.5 8.5l.94-2.06 2.06-.94-2.06-.94L8.5 2.5l-.94 2.06-2.06.94zm10 10l.94 2.06.94-2.06 2.06-.94-2.06-.94-.94-2.06-.94 2.06-2.06.94z\"/><path d=\"M17.41 7.96l-1.37-1.37c-.4-.4-.92-.59-1.43-.59-.52 0-1.04.2-1.43.59L10.3 9.45l-7.72 7.72c-.78.78-.78 2.05 0 2.83L4 21.41c.39.39.9.59 1.41.59.51 0 1.02-.2 1.41-.59l7.78-7.78 2.81-2.81c.8-.78.8-2.07 0-2.86zM5.41 20L4 18.59l7.72-7.72 1.47 1.35L5.41 20z\"/>\n",
              "  </svg>\n",
              "      </button>\n",
              "      \n",
              "  <style>\n",
              "    .colab-df-container {\n",
              "      display:flex;\n",
              "      flex-wrap:wrap;\n",
              "      gap: 12px;\n",
              "    }\n",
              "\n",
              "    .colab-df-convert {\n",
              "      background-color: #E8F0FE;\n",
              "      border: none;\n",
              "      border-radius: 50%;\n",
              "      cursor: pointer;\n",
              "      display: none;\n",
              "      fill: #1967D2;\n",
              "      height: 32px;\n",
              "      padding: 0 0 0 0;\n",
              "      width: 32px;\n",
              "    }\n",
              "\n",
              "    .colab-df-convert:hover {\n",
              "      background-color: #E2EBFA;\n",
              "      box-shadow: 0px 1px 2px rgba(60, 64, 67, 0.3), 0px 1px 3px 1px rgba(60, 64, 67, 0.15);\n",
              "      fill: #174EA6;\n",
              "    }\n",
              "\n",
              "    [theme=dark] .colab-df-convert {\n",
              "      background-color: #3B4455;\n",
              "      fill: #D2E3FC;\n",
              "    }\n",
              "\n",
              "    [theme=dark] .colab-df-convert:hover {\n",
              "      background-color: #434B5C;\n",
              "      box-shadow: 0px 1px 3px 1px rgba(0, 0, 0, 0.15);\n",
              "      filter: drop-shadow(0px 1px 2px rgba(0, 0, 0, 0.3));\n",
              "      fill: #FFFFFF;\n",
              "    }\n",
              "  </style>\n",
              "\n",
              "      <script>\n",
              "        const buttonEl =\n",
              "          document.querySelector('#df-39c14d98-9be8-416d-890b-dc900c0e15eb button.colab-df-convert');\n",
              "        buttonEl.style.display =\n",
              "          google.colab.kernel.accessAllowed ? 'block' : 'none';\n",
              "\n",
              "        async function convertToInteractive(key) {\n",
              "          const element = document.querySelector('#df-39c14d98-9be8-416d-890b-dc900c0e15eb');\n",
              "          const dataTable =\n",
              "            await google.colab.kernel.invokeFunction('convertToInteractive',\n",
              "                                                     [key], {});\n",
              "          if (!dataTable) return;\n",
              "\n",
              "          const docLinkHtml = 'Like what you see? Visit the ' +\n",
              "            '<a target=\"_blank\" href=https://colab.research.google.com/notebooks/data_table.ipynb>data table notebook</a>'\n",
              "            + ' to learn more about interactive tables.';\n",
              "          element.innerHTML = '';\n",
              "          dataTable['output_type'] = 'display_data';\n",
              "          await google.colab.output.renderOutput(dataTable, element);\n",
              "          const docLink = document.createElement('div');\n",
              "          docLink.innerHTML = docLinkHtml;\n",
              "          element.appendChild(docLink);\n",
              "        }\n",
              "      </script>\n",
              "    </div>\n",
              "  </div>\n",
              "  "
            ]
          },
          "metadata": {},
          "execution_count": 8
        }
      ]
    },
    {
      "cell_type": "markdown",
      "source": [
        "## 4.2. Duplicates"
      ],
      "metadata": {
        "id": "lZxUy1zi5b2I"
      }
    },
    {
      "cell_type": "code",
      "source": [
        "# Checking for duplicates\n",
        "\n",
        "print(f\"The data has {df.duplicated().sum()} duplicated rows\")"
      ],
      "metadata": {
        "id": "m2BfEKC35j8d",
        "outputId": "5d26f70d-fbfa-4303-e931-653a2eb7fc34",
        "colab": {
          "base_uri": "https://localhost:8080/"
        }
      },
      "execution_count": 9,
      "outputs": [
        {
          "output_type": "stream",
          "name": "stdout",
          "text": [
            "The data has 6595 duplicated rows\n"
          ]
        }
      ]
    },
    {
      "cell_type": "code",
      "source": [
        "# Exploring the duplicates\n",
        "\n",
        "duplicates = df[df.duplicated(keep = 'first')]\n",
        "\n",
        "duplicates.head(4)"
      ],
      "metadata": {
        "id": "rnivPaa451b1",
        "outputId": "04c0f3e0-072b-4586-f604-38dd13c4e07a",
        "colab": {
          "base_uri": "https://localhost:8080/",
          "height": 306
        }
      },
      "execution_count": 10,
      "outputs": [
        {
          "output_type": "execute_result",
          "data": {
            "text/plain": [
              "                Rating                                       Review Title  \\\n",
              "30  4.0 out of 5 stars  \\n.. not what ordered, not New... but it works...   \n",
              "31  3.0 out of 5 stars  \\nNot for Cricket Wireless and this two review...   \n",
              "32  3.0 out of 5 stars               \\nWill not work on T-Mobile sysem!\\n   \n",
              "33  3.0 out of 5 stars                          \\nA burner or for a kid\\n   \n",
              "\n",
              "                                               Review  \\\n",
              "30  \\nSo first off...it's not what I ordered, but ...   \n",
              "31  \\nThe phone itself is a okay android device, b...   \n",
              "32  \\nNew phone write up indicates T-Mobile system...   \n",
              "33  \\nI use this as a burner w/o a sim card in it....   \n",
              "\n",
              "                          Location and Date of Review   Affiliated Company  \\\n",
              "30  Reviewed in the United States on February 11, ...  Visit the RCA Store   \n",
              "31  Reviewed in the United States on February 4, 2021  Visit the RCA Store   \n",
              "32      Reviewed in the United States on June 7, 2022  Visit the RCA Store   \n",
              "33    Reviewed in the United States on April 14, 2022  Visit the RCA Store   \n",
              "\n",
              "                                   Brand and Features   Price  \n",
              "30          RCA Reno Smartphone, 4G LTE, 16GB, And...  $69.99  \n",
              "31          RCA Reno Smartphone, 4G LTE, 16GB, And...  $69.99  \n",
              "32          RCA Reno Smartphone, 4G LTE, 16GB, And...  $69.99  \n",
              "33          RCA Reno Smartphone, 4G LTE, 16GB, And...  $69.99  "
            ],
            "text/html": [
              "\n",
              "  <div id=\"df-2778cb28-434b-4156-8cc2-b910fcb06f91\">\n",
              "    <div class=\"colab-df-container\">\n",
              "      <div>\n",
              "<style scoped>\n",
              "    .dataframe tbody tr th:only-of-type {\n",
              "        vertical-align: middle;\n",
              "    }\n",
              "\n",
              "    .dataframe tbody tr th {\n",
              "        vertical-align: top;\n",
              "    }\n",
              "\n",
              "    .dataframe thead th {\n",
              "        text-align: right;\n",
              "    }\n",
              "</style>\n",
              "<table border=\"1\" class=\"dataframe\">\n",
              "  <thead>\n",
              "    <tr style=\"text-align: right;\">\n",
              "      <th></th>\n",
              "      <th>Rating</th>\n",
              "      <th>Review Title</th>\n",
              "      <th>Review</th>\n",
              "      <th>Location and Date of Review</th>\n",
              "      <th>Affiliated Company</th>\n",
              "      <th>Brand and Features</th>\n",
              "      <th>Price</th>\n",
              "    </tr>\n",
              "  </thead>\n",
              "  <tbody>\n",
              "    <tr>\n",
              "      <th>30</th>\n",
              "      <td>4.0 out of 5 stars</td>\n",
              "      <td>\\n.. not what ordered, not New... but it works...</td>\n",
              "      <td>\\nSo first off...it's not what I ordered, but ...</td>\n",
              "      <td>Reviewed in the United States on February 11, ...</td>\n",
              "      <td>Visit the RCA Store</td>\n",
              "      <td>RCA Reno Smartphone, 4G LTE, 16GB, And...</td>\n",
              "      <td>$69.99</td>\n",
              "    </tr>\n",
              "    <tr>\n",
              "      <th>31</th>\n",
              "      <td>3.0 out of 5 stars</td>\n",
              "      <td>\\nNot for Cricket Wireless and this two review...</td>\n",
              "      <td>\\nThe phone itself is a okay android device, b...</td>\n",
              "      <td>Reviewed in the United States on February 4, 2021</td>\n",
              "      <td>Visit the RCA Store</td>\n",
              "      <td>RCA Reno Smartphone, 4G LTE, 16GB, And...</td>\n",
              "      <td>$69.99</td>\n",
              "    </tr>\n",
              "    <tr>\n",
              "      <th>32</th>\n",
              "      <td>3.0 out of 5 stars</td>\n",
              "      <td>\\nWill not work on T-Mobile sysem!\\n</td>\n",
              "      <td>\\nNew phone write up indicates T-Mobile system...</td>\n",
              "      <td>Reviewed in the United States on June 7, 2022</td>\n",
              "      <td>Visit the RCA Store</td>\n",
              "      <td>RCA Reno Smartphone, 4G LTE, 16GB, And...</td>\n",
              "      <td>$69.99</td>\n",
              "    </tr>\n",
              "    <tr>\n",
              "      <th>33</th>\n",
              "      <td>3.0 out of 5 stars</td>\n",
              "      <td>\\nA burner or for a kid\\n</td>\n",
              "      <td>\\nI use this as a burner w/o a sim card in it....</td>\n",
              "      <td>Reviewed in the United States on April 14, 2022</td>\n",
              "      <td>Visit the RCA Store</td>\n",
              "      <td>RCA Reno Smartphone, 4G LTE, 16GB, And...</td>\n",
              "      <td>$69.99</td>\n",
              "    </tr>\n",
              "  </tbody>\n",
              "</table>\n",
              "</div>\n",
              "      <button class=\"colab-df-convert\" onclick=\"convertToInteractive('df-2778cb28-434b-4156-8cc2-b910fcb06f91')\"\n",
              "              title=\"Convert this dataframe to an interactive table.\"\n",
              "              style=\"display:none;\">\n",
              "        \n",
              "  <svg xmlns=\"http://www.w3.org/2000/svg\" height=\"24px\"viewBox=\"0 0 24 24\"\n",
              "       width=\"24px\">\n",
              "    <path d=\"M0 0h24v24H0V0z\" fill=\"none\"/>\n",
              "    <path d=\"M18.56 5.44l.94 2.06.94-2.06 2.06-.94-2.06-.94-.94-2.06-.94 2.06-2.06.94zm-11 1L8.5 8.5l.94-2.06 2.06-.94-2.06-.94L8.5 2.5l-.94 2.06-2.06.94zm10 10l.94 2.06.94-2.06 2.06-.94-2.06-.94-.94-2.06-.94 2.06-2.06.94z\"/><path d=\"M17.41 7.96l-1.37-1.37c-.4-.4-.92-.59-1.43-.59-.52 0-1.04.2-1.43.59L10.3 9.45l-7.72 7.72c-.78.78-.78 2.05 0 2.83L4 21.41c.39.39.9.59 1.41.59.51 0 1.02-.2 1.41-.59l7.78-7.78 2.81-2.81c.8-.78.8-2.07 0-2.86zM5.41 20L4 18.59l7.72-7.72 1.47 1.35L5.41 20z\"/>\n",
              "  </svg>\n",
              "      </button>\n",
              "      \n",
              "  <style>\n",
              "    .colab-df-container {\n",
              "      display:flex;\n",
              "      flex-wrap:wrap;\n",
              "      gap: 12px;\n",
              "    }\n",
              "\n",
              "    .colab-df-convert {\n",
              "      background-color: #E8F0FE;\n",
              "      border: none;\n",
              "      border-radius: 50%;\n",
              "      cursor: pointer;\n",
              "      display: none;\n",
              "      fill: #1967D2;\n",
              "      height: 32px;\n",
              "      padding: 0 0 0 0;\n",
              "      width: 32px;\n",
              "    }\n",
              "\n",
              "    .colab-df-convert:hover {\n",
              "      background-color: #E2EBFA;\n",
              "      box-shadow: 0px 1px 2px rgba(60, 64, 67, 0.3), 0px 1px 3px 1px rgba(60, 64, 67, 0.15);\n",
              "      fill: #174EA6;\n",
              "    }\n",
              "\n",
              "    [theme=dark] .colab-df-convert {\n",
              "      background-color: #3B4455;\n",
              "      fill: #D2E3FC;\n",
              "    }\n",
              "\n",
              "    [theme=dark] .colab-df-convert:hover {\n",
              "      background-color: #434B5C;\n",
              "      box-shadow: 0px 1px 3px 1px rgba(0, 0, 0, 0.15);\n",
              "      filter: drop-shadow(0px 1px 2px rgba(0, 0, 0, 0.3));\n",
              "      fill: #FFFFFF;\n",
              "    }\n",
              "  </style>\n",
              "\n",
              "      <script>\n",
              "        const buttonEl =\n",
              "          document.querySelector('#df-2778cb28-434b-4156-8cc2-b910fcb06f91 button.colab-df-convert');\n",
              "        buttonEl.style.display =\n",
              "          google.colab.kernel.accessAllowed ? 'block' : 'none';\n",
              "\n",
              "        async function convertToInteractive(key) {\n",
              "          const element = document.querySelector('#df-2778cb28-434b-4156-8cc2-b910fcb06f91');\n",
              "          const dataTable =\n",
              "            await google.colab.kernel.invokeFunction('convertToInteractive',\n",
              "                                                     [key], {});\n",
              "          if (!dataTable) return;\n",
              "\n",
              "          const docLinkHtml = 'Like what you see? Visit the ' +\n",
              "            '<a target=\"_blank\" href=https://colab.research.google.com/notebooks/data_table.ipynb>data table notebook</a>'\n",
              "            + ' to learn more about interactive tables.';\n",
              "          element.innerHTML = '';\n",
              "          dataTable['output_type'] = 'display_data';\n",
              "          await google.colab.output.renderOutput(dataTable, element);\n",
              "          const docLink = document.createElement('div');\n",
              "          docLink.innerHTML = docLinkHtml;\n",
              "          element.appendChild(docLink);\n",
              "        }\n",
              "      </script>\n",
              "    </div>\n",
              "  </div>\n",
              "  "
            ]
          },
          "metadata": {},
          "execution_count": 10
        }
      ]
    },
    {
      "cell_type": "markdown",
      "source": [
        "Duplicated columns will be dropped to avoid it misguiding our analysis and prediction process."
      ],
      "metadata": {
        "id": "W2HufKDdSIgp"
      }
    },
    {
      "cell_type": "code",
      "source": [
        "# Dropping the duplicates\n",
        "\n",
        "df.drop_duplicates(inplace = True)\n",
        "\n",
        "\n"
      ],
      "metadata": {
        "id": "YzMVbiSgA8cn"
      },
      "execution_count": 11,
      "outputs": []
    },
    {
      "cell_type": "code",
      "source": [
        "# Confirming if there are duplicates\n",
        "\n",
        "df.duplicated().sum()"
      ],
      "metadata": {
        "id": "O-ugEsrTDdVP",
        "outputId": "9592f110-c344-4ed1-9252-058f52a679ab",
        "colab": {
          "base_uri": "https://localhost:8080/"
        }
      },
      "execution_count": 12,
      "outputs": [
        {
          "output_type": "execute_result",
          "data": {
            "text/plain": [
              "0"
            ]
          },
          "metadata": {},
          "execution_count": 12
        }
      ]
    },
    {
      "cell_type": "markdown",
      "source": [
        "## 4.3. Cleaning Specific Columns"
      ],
      "metadata": {
        "id": "L4t22FzFCstP"
      }
    },
    {
      "cell_type": "markdown",
      "source": [
        "### 4.3.1. Rating Column\n",
        "\n",
        "For better analysis the rating value needs to be extracted and in a float/integer format."
      ],
      "metadata": {
        "id": "Ou1yvsXOC9hO"
      }
    },
    {
      "cell_type": "code",
      "source": [
        "#Extracting the digits in the Rating column and converting it to string type\n",
        "\n",
        "df[\"Rating\"] = df[\"Rating\"].str.extract('(\\d+)').astype(str)\n",
        "df[\"Rating\"].head().to_frame()"
      ],
      "metadata": {
        "colab": {
          "base_uri": "https://localhost:8080/",
          "height": 206
        },
        "id": "YwysQhyfC8HO",
        "outputId": "53aa4678-3156-4f95-b736-c434b97cde50"
      },
      "execution_count": 13,
      "outputs": [
        {
          "output_type": "execute_result",
          "data": {
            "text/plain": [
              "  Rating\n",
              "0      4\n",
              "1      3\n",
              "2      3\n",
              "3      3\n",
              "4      4"
            ],
            "text/html": [
              "\n",
              "  <div id=\"df-f71ddc8e-b647-414f-8b24-2b32aee45403\">\n",
              "    <div class=\"colab-df-container\">\n",
              "      <div>\n",
              "<style scoped>\n",
              "    .dataframe tbody tr th:only-of-type {\n",
              "        vertical-align: middle;\n",
              "    }\n",
              "\n",
              "    .dataframe tbody tr th {\n",
              "        vertical-align: top;\n",
              "    }\n",
              "\n",
              "    .dataframe thead th {\n",
              "        text-align: right;\n",
              "    }\n",
              "</style>\n",
              "<table border=\"1\" class=\"dataframe\">\n",
              "  <thead>\n",
              "    <tr style=\"text-align: right;\">\n",
              "      <th></th>\n",
              "      <th>Rating</th>\n",
              "    </tr>\n",
              "  </thead>\n",
              "  <tbody>\n",
              "    <tr>\n",
              "      <th>0</th>\n",
              "      <td>4</td>\n",
              "    </tr>\n",
              "    <tr>\n",
              "      <th>1</th>\n",
              "      <td>3</td>\n",
              "    </tr>\n",
              "    <tr>\n",
              "      <th>2</th>\n",
              "      <td>3</td>\n",
              "    </tr>\n",
              "    <tr>\n",
              "      <th>3</th>\n",
              "      <td>3</td>\n",
              "    </tr>\n",
              "    <tr>\n",
              "      <th>4</th>\n",
              "      <td>4</td>\n",
              "    </tr>\n",
              "  </tbody>\n",
              "</table>\n",
              "</div>\n",
              "      <button class=\"colab-df-convert\" onclick=\"convertToInteractive('df-f71ddc8e-b647-414f-8b24-2b32aee45403')\"\n",
              "              title=\"Convert this dataframe to an interactive table.\"\n",
              "              style=\"display:none;\">\n",
              "        \n",
              "  <svg xmlns=\"http://www.w3.org/2000/svg\" height=\"24px\"viewBox=\"0 0 24 24\"\n",
              "       width=\"24px\">\n",
              "    <path d=\"M0 0h24v24H0V0z\" fill=\"none\"/>\n",
              "    <path d=\"M18.56 5.44l.94 2.06.94-2.06 2.06-.94-2.06-.94-.94-2.06-.94 2.06-2.06.94zm-11 1L8.5 8.5l.94-2.06 2.06-.94-2.06-.94L8.5 2.5l-.94 2.06-2.06.94zm10 10l.94 2.06.94-2.06 2.06-.94-2.06-.94-.94-2.06-.94 2.06-2.06.94z\"/><path d=\"M17.41 7.96l-1.37-1.37c-.4-.4-.92-.59-1.43-.59-.52 0-1.04.2-1.43.59L10.3 9.45l-7.72 7.72c-.78.78-.78 2.05 0 2.83L4 21.41c.39.39.9.59 1.41.59.51 0 1.02-.2 1.41-.59l7.78-7.78 2.81-2.81c.8-.78.8-2.07 0-2.86zM5.41 20L4 18.59l7.72-7.72 1.47 1.35L5.41 20z\"/>\n",
              "  </svg>\n",
              "      </button>\n",
              "      \n",
              "  <style>\n",
              "    .colab-df-container {\n",
              "      display:flex;\n",
              "      flex-wrap:wrap;\n",
              "      gap: 12px;\n",
              "    }\n",
              "\n",
              "    .colab-df-convert {\n",
              "      background-color: #E8F0FE;\n",
              "      border: none;\n",
              "      border-radius: 50%;\n",
              "      cursor: pointer;\n",
              "      display: none;\n",
              "      fill: #1967D2;\n",
              "      height: 32px;\n",
              "      padding: 0 0 0 0;\n",
              "      width: 32px;\n",
              "    }\n",
              "\n",
              "    .colab-df-convert:hover {\n",
              "      background-color: #E2EBFA;\n",
              "      box-shadow: 0px 1px 2px rgba(60, 64, 67, 0.3), 0px 1px 3px 1px rgba(60, 64, 67, 0.15);\n",
              "      fill: #174EA6;\n",
              "    }\n",
              "\n",
              "    [theme=dark] .colab-df-convert {\n",
              "      background-color: #3B4455;\n",
              "      fill: #D2E3FC;\n",
              "    }\n",
              "\n",
              "    [theme=dark] .colab-df-convert:hover {\n",
              "      background-color: #434B5C;\n",
              "      box-shadow: 0px 1px 3px 1px rgba(0, 0, 0, 0.15);\n",
              "      filter: drop-shadow(0px 1px 2px rgba(0, 0, 0, 0.3));\n",
              "      fill: #FFFFFF;\n",
              "    }\n",
              "  </style>\n",
              "\n",
              "      <script>\n",
              "        const buttonEl =\n",
              "          document.querySelector('#df-f71ddc8e-b647-414f-8b24-2b32aee45403 button.colab-df-convert');\n",
              "        buttonEl.style.display =\n",
              "          google.colab.kernel.accessAllowed ? 'block' : 'none';\n",
              "\n",
              "        async function convertToInteractive(key) {\n",
              "          const element = document.querySelector('#df-f71ddc8e-b647-414f-8b24-2b32aee45403');\n",
              "          const dataTable =\n",
              "            await google.colab.kernel.invokeFunction('convertToInteractive',\n",
              "                                                     [key], {});\n",
              "          if (!dataTable) return;\n",
              "\n",
              "          const docLinkHtml = 'Like what you see? Visit the ' +\n",
              "            '<a target=\"_blank\" href=https://colab.research.google.com/notebooks/data_table.ipynb>data table notebook</a>'\n",
              "            + ' to learn more about interactive tables.';\n",
              "          element.innerHTML = '';\n",
              "          dataTable['output_type'] = 'display_data';\n",
              "          await google.colab.output.renderOutput(dataTable, element);\n",
              "          const docLink = document.createElement('div');\n",
              "          docLink.innerHTML = docLinkHtml;\n",
              "          element.appendChild(docLink);\n",
              "        }\n",
              "      </script>\n",
              "    </div>\n",
              "  </div>\n",
              "  "
            ]
          },
          "metadata": {},
          "execution_count": 13
        }
      ]
    },
    {
      "cell_type": "markdown",
      "source": [
        "\n",
        "The rating value was extracted from the column and converted into float data type"
      ],
      "metadata": {
        "id": "JbJQrXmDHTgK"
      }
    },
    {
      "cell_type": "markdown",
      "source": [
        "### 4.3.2. Price Column\n",
        "\n",
        "The price columns seems has a dollar sign which could affect analysis. It needs stripping and conversion to int/float"
      ],
      "metadata": {
        "id": "yWvsCrj8EWvN"
      }
    },
    {
      "cell_type": "code",
      "source": [
        "#Extracting the digits in the price column and converting it to integer\n",
        "\n",
        "df[\"Price\"] = df[\"Price\"].str.extract('(\\d+)').astype(int)\n",
        "\n",
        "df[\"Price\"].head().to_frame()"
      ],
      "metadata": {
        "colab": {
          "base_uri": "https://localhost:8080/",
          "height": 206
        },
        "id": "TN1oSnW8EdyW",
        "outputId": "1d0bc763-c667-4d05-a6fa-2db2905479a0"
      },
      "execution_count": 14,
      "outputs": [
        {
          "output_type": "execute_result",
          "data": {
            "text/plain": [
              "   Price\n",
              "0     69\n",
              "1     69\n",
              "2     69\n",
              "3     69\n",
              "4     69"
            ],
            "text/html": [
              "\n",
              "  <div id=\"df-0bbe6834-a17d-46f5-9710-f4e505b9685d\">\n",
              "    <div class=\"colab-df-container\">\n",
              "      <div>\n",
              "<style scoped>\n",
              "    .dataframe tbody tr th:only-of-type {\n",
              "        vertical-align: middle;\n",
              "    }\n",
              "\n",
              "    .dataframe tbody tr th {\n",
              "        vertical-align: top;\n",
              "    }\n",
              "\n",
              "    .dataframe thead th {\n",
              "        text-align: right;\n",
              "    }\n",
              "</style>\n",
              "<table border=\"1\" class=\"dataframe\">\n",
              "  <thead>\n",
              "    <tr style=\"text-align: right;\">\n",
              "      <th></th>\n",
              "      <th>Price</th>\n",
              "    </tr>\n",
              "  </thead>\n",
              "  <tbody>\n",
              "    <tr>\n",
              "      <th>0</th>\n",
              "      <td>69</td>\n",
              "    </tr>\n",
              "    <tr>\n",
              "      <th>1</th>\n",
              "      <td>69</td>\n",
              "    </tr>\n",
              "    <tr>\n",
              "      <th>2</th>\n",
              "      <td>69</td>\n",
              "    </tr>\n",
              "    <tr>\n",
              "      <th>3</th>\n",
              "      <td>69</td>\n",
              "    </tr>\n",
              "    <tr>\n",
              "      <th>4</th>\n",
              "      <td>69</td>\n",
              "    </tr>\n",
              "  </tbody>\n",
              "</table>\n",
              "</div>\n",
              "      <button class=\"colab-df-convert\" onclick=\"convertToInteractive('df-0bbe6834-a17d-46f5-9710-f4e505b9685d')\"\n",
              "              title=\"Convert this dataframe to an interactive table.\"\n",
              "              style=\"display:none;\">\n",
              "        \n",
              "  <svg xmlns=\"http://www.w3.org/2000/svg\" height=\"24px\"viewBox=\"0 0 24 24\"\n",
              "       width=\"24px\">\n",
              "    <path d=\"M0 0h24v24H0V0z\" fill=\"none\"/>\n",
              "    <path d=\"M18.56 5.44l.94 2.06.94-2.06 2.06-.94-2.06-.94-.94-2.06-.94 2.06-2.06.94zm-11 1L8.5 8.5l.94-2.06 2.06-.94-2.06-.94L8.5 2.5l-.94 2.06-2.06.94zm10 10l.94 2.06.94-2.06 2.06-.94-2.06-.94-.94-2.06-.94 2.06-2.06.94z\"/><path d=\"M17.41 7.96l-1.37-1.37c-.4-.4-.92-.59-1.43-.59-.52 0-1.04.2-1.43.59L10.3 9.45l-7.72 7.72c-.78.78-.78 2.05 0 2.83L4 21.41c.39.39.9.59 1.41.59.51 0 1.02-.2 1.41-.59l7.78-7.78 2.81-2.81c.8-.78.8-2.07 0-2.86zM5.41 20L4 18.59l7.72-7.72 1.47 1.35L5.41 20z\"/>\n",
              "  </svg>\n",
              "      </button>\n",
              "      \n",
              "  <style>\n",
              "    .colab-df-container {\n",
              "      display:flex;\n",
              "      flex-wrap:wrap;\n",
              "      gap: 12px;\n",
              "    }\n",
              "\n",
              "    .colab-df-convert {\n",
              "      background-color: #E8F0FE;\n",
              "      border: none;\n",
              "      border-radius: 50%;\n",
              "      cursor: pointer;\n",
              "      display: none;\n",
              "      fill: #1967D2;\n",
              "      height: 32px;\n",
              "      padding: 0 0 0 0;\n",
              "      width: 32px;\n",
              "    }\n",
              "\n",
              "    .colab-df-convert:hover {\n",
              "      background-color: #E2EBFA;\n",
              "      box-shadow: 0px 1px 2px rgba(60, 64, 67, 0.3), 0px 1px 3px 1px rgba(60, 64, 67, 0.15);\n",
              "      fill: #174EA6;\n",
              "    }\n",
              "\n",
              "    [theme=dark] .colab-df-convert {\n",
              "      background-color: #3B4455;\n",
              "      fill: #D2E3FC;\n",
              "    }\n",
              "\n",
              "    [theme=dark] .colab-df-convert:hover {\n",
              "      background-color: #434B5C;\n",
              "      box-shadow: 0px 1px 3px 1px rgba(0, 0, 0, 0.15);\n",
              "      filter: drop-shadow(0px 1px 2px rgba(0, 0, 0, 0.3));\n",
              "      fill: #FFFFFF;\n",
              "    }\n",
              "  </style>\n",
              "\n",
              "      <script>\n",
              "        const buttonEl =\n",
              "          document.querySelector('#df-0bbe6834-a17d-46f5-9710-f4e505b9685d button.colab-df-convert');\n",
              "        buttonEl.style.display =\n",
              "          google.colab.kernel.accessAllowed ? 'block' : 'none';\n",
              "\n",
              "        async function convertToInteractive(key) {\n",
              "          const element = document.querySelector('#df-0bbe6834-a17d-46f5-9710-f4e505b9685d');\n",
              "          const dataTable =\n",
              "            await google.colab.kernel.invokeFunction('convertToInteractive',\n",
              "                                                     [key], {});\n",
              "          if (!dataTable) return;\n",
              "\n",
              "          const docLinkHtml = 'Like what you see? Visit the ' +\n",
              "            '<a target=\"_blank\" href=https://colab.research.google.com/notebooks/data_table.ipynb>data table notebook</a>'\n",
              "            + ' to learn more about interactive tables.';\n",
              "          element.innerHTML = '';\n",
              "          dataTable['output_type'] = 'display_data';\n",
              "          await google.colab.output.renderOutput(dataTable, element);\n",
              "          const docLink = document.createElement('div');\n",
              "          docLink.innerHTML = docLinkHtml;\n",
              "          element.appendChild(docLink);\n",
              "        }\n",
              "      </script>\n",
              "    </div>\n",
              "  </div>\n",
              "  "
            ]
          },
          "metadata": {},
          "execution_count": 14
        }
      ]
    },
    {
      "cell_type": "markdown",
      "source": [
        "The dollar sign was removed and price column converted into integer data type"
      ],
      "metadata": {
        "id": "T4c6SmtGHp0z"
      }
    },
    {
      "cell_type": "markdown",
      "source": [
        "### 4.3.3. Affiliated company column"
      ],
      "metadata": {
        "id": "F-3HvtR_FsQh"
      }
    },
    {
      "cell_type": "code",
      "source": [
        "# Rename the column to brand name\n",
        "\n",
        "df.rename(columns = {\"Affiliated Company\":\"Brand\",\"Brand and Features\":\"Product_name\"},inplace = True)\n",
        "df.head(3)"
      ],
      "metadata": {
        "colab": {
          "base_uri": "https://localhost:8080/",
          "height": 239
        },
        "id": "ejerzM3MF6Yo",
        "outputId": "15821724-f656-4522-8650-fe328e2d0616"
      },
      "execution_count": 15,
      "outputs": [
        {
          "output_type": "execute_result",
          "data": {
            "text/plain": [
              "  Rating                                       Review Title  \\\n",
              "0      4  \\n.. not what ordered, not New... but it works...   \n",
              "1      3  \\nNot for Cricket Wireless and this two review...   \n",
              "2      3               \\nWill not work on T-Mobile sysem!\\n   \n",
              "\n",
              "                                              Review  \\\n",
              "0  \\nSo first off...it's not what I ordered, but ...   \n",
              "1  \\nThe phone itself is a okay android device, b...   \n",
              "2  \\nNew phone write up indicates T-Mobile system...   \n",
              "\n",
              "                         Location and Date of Review                Brand  \\\n",
              "0  Reviewed in the United States on February 11, ...  Visit the RCA Store   \n",
              "1  Reviewed in the United States on February 4, 2021  Visit the RCA Store   \n",
              "2      Reviewed in the United States on June 7, 2022  Visit the RCA Store   \n",
              "\n",
              "                                        Product_name  Price  \n",
              "0          RCA Reno Smartphone, 4G LTE, 16GB, And...     69  \n",
              "1          RCA Reno Smartphone, 4G LTE, 16GB, And...     69  \n",
              "2          RCA Reno Smartphone, 4G LTE, 16GB, And...     69  "
            ],
            "text/html": [
              "\n",
              "  <div id=\"df-9b80275a-436f-4087-b772-7823be7b054a\">\n",
              "    <div class=\"colab-df-container\">\n",
              "      <div>\n",
              "<style scoped>\n",
              "    .dataframe tbody tr th:only-of-type {\n",
              "        vertical-align: middle;\n",
              "    }\n",
              "\n",
              "    .dataframe tbody tr th {\n",
              "        vertical-align: top;\n",
              "    }\n",
              "\n",
              "    .dataframe thead th {\n",
              "        text-align: right;\n",
              "    }\n",
              "</style>\n",
              "<table border=\"1\" class=\"dataframe\">\n",
              "  <thead>\n",
              "    <tr style=\"text-align: right;\">\n",
              "      <th></th>\n",
              "      <th>Rating</th>\n",
              "      <th>Review Title</th>\n",
              "      <th>Review</th>\n",
              "      <th>Location and Date of Review</th>\n",
              "      <th>Brand</th>\n",
              "      <th>Product_name</th>\n",
              "      <th>Price</th>\n",
              "    </tr>\n",
              "  </thead>\n",
              "  <tbody>\n",
              "    <tr>\n",
              "      <th>0</th>\n",
              "      <td>4</td>\n",
              "      <td>\\n.. not what ordered, not New... but it works...</td>\n",
              "      <td>\\nSo first off...it's not what I ordered, but ...</td>\n",
              "      <td>Reviewed in the United States on February 11, ...</td>\n",
              "      <td>Visit the RCA Store</td>\n",
              "      <td>RCA Reno Smartphone, 4G LTE, 16GB, And...</td>\n",
              "      <td>69</td>\n",
              "    </tr>\n",
              "    <tr>\n",
              "      <th>1</th>\n",
              "      <td>3</td>\n",
              "      <td>\\nNot for Cricket Wireless and this two review...</td>\n",
              "      <td>\\nThe phone itself is a okay android device, b...</td>\n",
              "      <td>Reviewed in the United States on February 4, 2021</td>\n",
              "      <td>Visit the RCA Store</td>\n",
              "      <td>RCA Reno Smartphone, 4G LTE, 16GB, And...</td>\n",
              "      <td>69</td>\n",
              "    </tr>\n",
              "    <tr>\n",
              "      <th>2</th>\n",
              "      <td>3</td>\n",
              "      <td>\\nWill not work on T-Mobile sysem!\\n</td>\n",
              "      <td>\\nNew phone write up indicates T-Mobile system...</td>\n",
              "      <td>Reviewed in the United States on June 7, 2022</td>\n",
              "      <td>Visit the RCA Store</td>\n",
              "      <td>RCA Reno Smartphone, 4G LTE, 16GB, And...</td>\n",
              "      <td>69</td>\n",
              "    </tr>\n",
              "  </tbody>\n",
              "</table>\n",
              "</div>\n",
              "      <button class=\"colab-df-convert\" onclick=\"convertToInteractive('df-9b80275a-436f-4087-b772-7823be7b054a')\"\n",
              "              title=\"Convert this dataframe to an interactive table.\"\n",
              "              style=\"display:none;\">\n",
              "        \n",
              "  <svg xmlns=\"http://www.w3.org/2000/svg\" height=\"24px\"viewBox=\"0 0 24 24\"\n",
              "       width=\"24px\">\n",
              "    <path d=\"M0 0h24v24H0V0z\" fill=\"none\"/>\n",
              "    <path d=\"M18.56 5.44l.94 2.06.94-2.06 2.06-.94-2.06-.94-.94-2.06-.94 2.06-2.06.94zm-11 1L8.5 8.5l.94-2.06 2.06-.94-2.06-.94L8.5 2.5l-.94 2.06-2.06.94zm10 10l.94 2.06.94-2.06 2.06-.94-2.06-.94-.94-2.06-.94 2.06-2.06.94z\"/><path d=\"M17.41 7.96l-1.37-1.37c-.4-.4-.92-.59-1.43-.59-.52 0-1.04.2-1.43.59L10.3 9.45l-7.72 7.72c-.78.78-.78 2.05 0 2.83L4 21.41c.39.39.9.59 1.41.59.51 0 1.02-.2 1.41-.59l7.78-7.78 2.81-2.81c.8-.78.8-2.07 0-2.86zM5.41 20L4 18.59l7.72-7.72 1.47 1.35L5.41 20z\"/>\n",
              "  </svg>\n",
              "      </button>\n",
              "      \n",
              "  <style>\n",
              "    .colab-df-container {\n",
              "      display:flex;\n",
              "      flex-wrap:wrap;\n",
              "      gap: 12px;\n",
              "    }\n",
              "\n",
              "    .colab-df-convert {\n",
              "      background-color: #E8F0FE;\n",
              "      border: none;\n",
              "      border-radius: 50%;\n",
              "      cursor: pointer;\n",
              "      display: none;\n",
              "      fill: #1967D2;\n",
              "      height: 32px;\n",
              "      padding: 0 0 0 0;\n",
              "      width: 32px;\n",
              "    }\n",
              "\n",
              "    .colab-df-convert:hover {\n",
              "      background-color: #E2EBFA;\n",
              "      box-shadow: 0px 1px 2px rgba(60, 64, 67, 0.3), 0px 1px 3px 1px rgba(60, 64, 67, 0.15);\n",
              "      fill: #174EA6;\n",
              "    }\n",
              "\n",
              "    [theme=dark] .colab-df-convert {\n",
              "      background-color: #3B4455;\n",
              "      fill: #D2E3FC;\n",
              "    }\n",
              "\n",
              "    [theme=dark] .colab-df-convert:hover {\n",
              "      background-color: #434B5C;\n",
              "      box-shadow: 0px 1px 3px 1px rgba(0, 0, 0, 0.15);\n",
              "      filter: drop-shadow(0px 1px 2px rgba(0, 0, 0, 0.3));\n",
              "      fill: #FFFFFF;\n",
              "    }\n",
              "  </style>\n",
              "\n",
              "      <script>\n",
              "        const buttonEl =\n",
              "          document.querySelector('#df-9b80275a-436f-4087-b772-7823be7b054a button.colab-df-convert');\n",
              "        buttonEl.style.display =\n",
              "          google.colab.kernel.accessAllowed ? 'block' : 'none';\n",
              "\n",
              "        async function convertToInteractive(key) {\n",
              "          const element = document.querySelector('#df-9b80275a-436f-4087-b772-7823be7b054a');\n",
              "          const dataTable =\n",
              "            await google.colab.kernel.invokeFunction('convertToInteractive',\n",
              "                                                     [key], {});\n",
              "          if (!dataTable) return;\n",
              "\n",
              "          const docLinkHtml = 'Like what you see? Visit the ' +\n",
              "            '<a target=\"_blank\" href=https://colab.research.google.com/notebooks/data_table.ipynb>data table notebook</a>'\n",
              "            + ' to learn more about interactive tables.';\n",
              "          element.innerHTML = '';\n",
              "          dataTable['output_type'] = 'display_data';\n",
              "          await google.colab.output.renderOutput(dataTable, element);\n",
              "          const docLink = document.createElement('div');\n",
              "          docLink.innerHTML = docLinkHtml;\n",
              "          element.appendChild(docLink);\n",
              "        }\n",
              "      </script>\n",
              "    </div>\n",
              "  </div>\n",
              "  "
            ]
          },
          "metadata": {},
          "execution_count": 15
        }
      ]
    },
    {
      "cell_type": "markdown",
      "source": [
        "The columns affiliated company and brand&features was renamed to brand and product name respectively."
      ],
      "metadata": {
        "id": "85jvINy1H3Wt"
      }
    },
    {
      "cell_type": "code",
      "source": [
        "#Getting the value counts for the brand column\n",
        "\n",
        "df['Brand'].value_counts().to_frame()"
      ],
      "metadata": {
        "colab": {
          "base_uri": "https://localhost:8080/",
          "height": 802
        },
        "id": "0xeHNfk_IKQn",
        "outputId": "25bf812a-83df-46d9-869e-eea53ffebe1b"
      },
      "execution_count": 16,
      "outputs": [
        {
          "output_type": "execute_result",
          "data": {
            "text/plain": [
              "                                Brand\n",
              "Visit the Amazon Renewed Store   1747\n",
              "Brand: Motorola                  1578\n",
              "Visit the BLU Store              1544\n",
              "Visit the TCL Store              1448\n",
              "Brand: Amazon Renewed             989\n",
              "Visit the OnePlus Store           684\n",
              "Visit the SAMSUNG Store           522\n",
              "Visit the Nokia Store             492\n",
              "Visit the Google Store            389\n",
              "Visit the JTEMAN Store            263\n",
              "Visit the RCA Store               252\n",
              "Visit the TracFone Store          140\n",
              "Visit the NUU Store                93\n",
              "Brand: Nokia                       84\n",
              "Visit the Dilwe Store              62\n",
              "Visit the Black Shark Store        55\n",
              "Visit the Ulefone Store            51\n",
              "Visit the OUKITEL Store            46\n",
              "Visit the UMIDIGI Store            40\n",
              "Visit the Easyfone Store           30\n",
              "Visit the Punkt. Store             23\n",
              "Visit the CUBOT Store              14\n",
              "Brand: Hipipooo                    14\n",
              "Visit the total wireless Store     13"
            ],
            "text/html": [
              "\n",
              "  <div id=\"df-4918d461-dc2f-4f77-a1bd-0077a0772e67\">\n",
              "    <div class=\"colab-df-container\">\n",
              "      <div>\n",
              "<style scoped>\n",
              "    .dataframe tbody tr th:only-of-type {\n",
              "        vertical-align: middle;\n",
              "    }\n",
              "\n",
              "    .dataframe tbody tr th {\n",
              "        vertical-align: top;\n",
              "    }\n",
              "\n",
              "    .dataframe thead th {\n",
              "        text-align: right;\n",
              "    }\n",
              "</style>\n",
              "<table border=\"1\" class=\"dataframe\">\n",
              "  <thead>\n",
              "    <tr style=\"text-align: right;\">\n",
              "      <th></th>\n",
              "      <th>Brand</th>\n",
              "    </tr>\n",
              "  </thead>\n",
              "  <tbody>\n",
              "    <tr>\n",
              "      <th>Visit the Amazon Renewed Store</th>\n",
              "      <td>1747</td>\n",
              "    </tr>\n",
              "    <tr>\n",
              "      <th>Brand: Motorola</th>\n",
              "      <td>1578</td>\n",
              "    </tr>\n",
              "    <tr>\n",
              "      <th>Visit the BLU Store</th>\n",
              "      <td>1544</td>\n",
              "    </tr>\n",
              "    <tr>\n",
              "      <th>Visit the TCL Store</th>\n",
              "      <td>1448</td>\n",
              "    </tr>\n",
              "    <tr>\n",
              "      <th>Brand: Amazon Renewed</th>\n",
              "      <td>989</td>\n",
              "    </tr>\n",
              "    <tr>\n",
              "      <th>Visit the OnePlus Store</th>\n",
              "      <td>684</td>\n",
              "    </tr>\n",
              "    <tr>\n",
              "      <th>Visit the SAMSUNG Store</th>\n",
              "      <td>522</td>\n",
              "    </tr>\n",
              "    <tr>\n",
              "      <th>Visit the Nokia Store</th>\n",
              "      <td>492</td>\n",
              "    </tr>\n",
              "    <tr>\n",
              "      <th>Visit the Google Store</th>\n",
              "      <td>389</td>\n",
              "    </tr>\n",
              "    <tr>\n",
              "      <th>Visit the JTEMAN Store</th>\n",
              "      <td>263</td>\n",
              "    </tr>\n",
              "    <tr>\n",
              "      <th>Visit the RCA Store</th>\n",
              "      <td>252</td>\n",
              "    </tr>\n",
              "    <tr>\n",
              "      <th>Visit the TracFone Store</th>\n",
              "      <td>140</td>\n",
              "    </tr>\n",
              "    <tr>\n",
              "      <th>Visit the NUU Store</th>\n",
              "      <td>93</td>\n",
              "    </tr>\n",
              "    <tr>\n",
              "      <th>Brand: Nokia</th>\n",
              "      <td>84</td>\n",
              "    </tr>\n",
              "    <tr>\n",
              "      <th>Visit the Dilwe Store</th>\n",
              "      <td>62</td>\n",
              "    </tr>\n",
              "    <tr>\n",
              "      <th>Visit the Black Shark Store</th>\n",
              "      <td>55</td>\n",
              "    </tr>\n",
              "    <tr>\n",
              "      <th>Visit the Ulefone Store</th>\n",
              "      <td>51</td>\n",
              "    </tr>\n",
              "    <tr>\n",
              "      <th>Visit the OUKITEL Store</th>\n",
              "      <td>46</td>\n",
              "    </tr>\n",
              "    <tr>\n",
              "      <th>Visit the UMIDIGI Store</th>\n",
              "      <td>40</td>\n",
              "    </tr>\n",
              "    <tr>\n",
              "      <th>Visit the Easyfone Store</th>\n",
              "      <td>30</td>\n",
              "    </tr>\n",
              "    <tr>\n",
              "      <th>Visit the Punkt. Store</th>\n",
              "      <td>23</td>\n",
              "    </tr>\n",
              "    <tr>\n",
              "      <th>Visit the CUBOT Store</th>\n",
              "      <td>14</td>\n",
              "    </tr>\n",
              "    <tr>\n",
              "      <th>Brand: Hipipooo</th>\n",
              "      <td>14</td>\n",
              "    </tr>\n",
              "    <tr>\n",
              "      <th>Visit the total wireless Store</th>\n",
              "      <td>13</td>\n",
              "    </tr>\n",
              "  </tbody>\n",
              "</table>\n",
              "</div>\n",
              "      <button class=\"colab-df-convert\" onclick=\"convertToInteractive('df-4918d461-dc2f-4f77-a1bd-0077a0772e67')\"\n",
              "              title=\"Convert this dataframe to an interactive table.\"\n",
              "              style=\"display:none;\">\n",
              "        \n",
              "  <svg xmlns=\"http://www.w3.org/2000/svg\" height=\"24px\"viewBox=\"0 0 24 24\"\n",
              "       width=\"24px\">\n",
              "    <path d=\"M0 0h24v24H0V0z\" fill=\"none\"/>\n",
              "    <path d=\"M18.56 5.44l.94 2.06.94-2.06 2.06-.94-2.06-.94-.94-2.06-.94 2.06-2.06.94zm-11 1L8.5 8.5l.94-2.06 2.06-.94-2.06-.94L8.5 2.5l-.94 2.06-2.06.94zm10 10l.94 2.06.94-2.06 2.06-.94-2.06-.94-.94-2.06-.94 2.06-2.06.94z\"/><path d=\"M17.41 7.96l-1.37-1.37c-.4-.4-.92-.59-1.43-.59-.52 0-1.04.2-1.43.59L10.3 9.45l-7.72 7.72c-.78.78-.78 2.05 0 2.83L4 21.41c.39.39.9.59 1.41.59.51 0 1.02-.2 1.41-.59l7.78-7.78 2.81-2.81c.8-.78.8-2.07 0-2.86zM5.41 20L4 18.59l7.72-7.72 1.47 1.35L5.41 20z\"/>\n",
              "  </svg>\n",
              "      </button>\n",
              "      \n",
              "  <style>\n",
              "    .colab-df-container {\n",
              "      display:flex;\n",
              "      flex-wrap:wrap;\n",
              "      gap: 12px;\n",
              "    }\n",
              "\n",
              "    .colab-df-convert {\n",
              "      background-color: #E8F0FE;\n",
              "      border: none;\n",
              "      border-radius: 50%;\n",
              "      cursor: pointer;\n",
              "      display: none;\n",
              "      fill: #1967D2;\n",
              "      height: 32px;\n",
              "      padding: 0 0 0 0;\n",
              "      width: 32px;\n",
              "    }\n",
              "\n",
              "    .colab-df-convert:hover {\n",
              "      background-color: #E2EBFA;\n",
              "      box-shadow: 0px 1px 2px rgba(60, 64, 67, 0.3), 0px 1px 3px 1px rgba(60, 64, 67, 0.15);\n",
              "      fill: #174EA6;\n",
              "    }\n",
              "\n",
              "    [theme=dark] .colab-df-convert {\n",
              "      background-color: #3B4455;\n",
              "      fill: #D2E3FC;\n",
              "    }\n",
              "\n",
              "    [theme=dark] .colab-df-convert:hover {\n",
              "      background-color: #434B5C;\n",
              "      box-shadow: 0px 1px 3px 1px rgba(0, 0, 0, 0.15);\n",
              "      filter: drop-shadow(0px 1px 2px rgba(0, 0, 0, 0.3));\n",
              "      fill: #FFFFFF;\n",
              "    }\n",
              "  </style>\n",
              "\n",
              "      <script>\n",
              "        const buttonEl =\n",
              "          document.querySelector('#df-4918d461-dc2f-4f77-a1bd-0077a0772e67 button.colab-df-convert');\n",
              "        buttonEl.style.display =\n",
              "          google.colab.kernel.accessAllowed ? 'block' : 'none';\n",
              "\n",
              "        async function convertToInteractive(key) {\n",
              "          const element = document.querySelector('#df-4918d461-dc2f-4f77-a1bd-0077a0772e67');\n",
              "          const dataTable =\n",
              "            await google.colab.kernel.invokeFunction('convertToInteractive',\n",
              "                                                     [key], {});\n",
              "          if (!dataTable) return;\n",
              "\n",
              "          const docLinkHtml = 'Like what you see? Visit the ' +\n",
              "            '<a target=\"_blank\" href=https://colab.research.google.com/notebooks/data_table.ipynb>data table notebook</a>'\n",
              "            + ' to learn more about interactive tables.';\n",
              "          element.innerHTML = '';\n",
              "          dataTable['output_type'] = 'display_data';\n",
              "          await google.colab.output.renderOutput(dataTable, element);\n",
              "          const docLink = document.createElement('div');\n",
              "          docLink.innerHTML = docLinkHtml;\n",
              "          element.appendChild(docLink);\n",
              "        }\n",
              "      </script>\n",
              "    </div>\n",
              "  </div>\n",
              "  "
            ]
          },
          "metadata": {},
          "execution_count": 16
        }
      ]
    },
    {
      "cell_type": "markdown",
      "source": [
        "- The brand name will be extracted.\n",
        "- white space will be stripped.\n",
        "- refurbished phones will be renamed into one name"
      ],
      "metadata": {
        "id": "S_HcTlrDV5RC"
      }
    },
    {
      "cell_type": "code",
      "source": [
        "# Removing unnecessary words from the column to get the brand name\n",
        "word_vocabulary = ['Visit', 'the', 'store', 'Brand:', 'Store']\n",
        "for word in word_vocabulary:\n",
        "    df['Brand'] = df['Brand'].str.replace(word, '')\n",
        "\n",
        "# Removing all the white spaces\n",
        "df['Brand'] = df['Brand'].str.strip()\n",
        "\n",
        "# Renaming the amazon renewed with refurbished\n",
        "df['Brand'] = df['Brand'].str.replace('Amazon Renewed','Amazon Refurbished')  "
      ],
      "metadata": {
        "id": "eLKgj4vJMDZZ"
      },
      "execution_count": 17,
      "outputs": []
    },
    {
      "cell_type": "markdown",
      "source": [
        "# 5. Feature Engineering"
      ],
      "metadata": {
        "id": "WvpSCizjHv74"
      }
    },
    {
      "cell_type": "markdown",
      "source": [
        "### 5.1 Product_name column\n",
        "\n",
        "product name column model name in it. It will be stripped into a new column. \n",
        "Some of the model names have the word smartphone that will be stripped as well."
      ],
      "metadata": {
        "id": "tcCCJ2E9Puwo"
      }
    },
    {
      "cell_type": "code",
      "source": [
        "#removing punctuations from the column\n",
        "\n",
        "df['Product_name'] = df['Product_name'].str.replace(r\"\\(.*\\)\",\"\", regex=True)\n",
        "df['Product_name'] = df['Product_name'].str.replace('-',\"\", regex=True)\n",
        "df['Product_name'] = df['Product_name'].str.replace(',',\"\", regex=True)\n",
        "df['Product_name'] = df['Product_name'].str.replace('|',\"\", regex=True)\n",
        "\n",
        "#Splitting the strings in this column into different columns\n",
        "\n",
        "string_cols = df[\"Product_name\"].str.split(\" \", n = -1, expand = True)\n",
        "\n",
        "#selecting on the first three words of the string that will form the phone type\n",
        "df[\"first_word\"] = string_cols[8]\n",
        "df[\"middle_word\"] = string_cols[9]\n",
        "df[\"last_word\"] = string_cols[10]\n",
        "\n",
        "#copying the two other columns so as to allow concactination\n",
        "new1 = df[\"middle_word\"].copy()\n",
        "new2 = df[\"last_word\"].copy()\n",
        " \n",
        "# concatenating team with name column\n",
        "# overwriting name column\n",
        "df[\"Model_Type\"]= df[\"first_word\"].str.cat(new1, sep =\" \")\n",
        "df[\"Model_Type\"]= df[\"Model_Type\"].str.cat(new2, sep =\" \")\n",
        "df.drop([\"first_word\", \"middle_word\", \"last_word\"], axis=1, inplace=True)\n",
        "\n",
        "# Removing unnecessary words from the model type column\n",
        "word_vocabulary = ['Smartphone']\n",
        "for word in word_vocabulary:\n",
        "    df['Model_Type'] = df['Model_Type'].str.replace(word, '')\n"
      ],
      "metadata": {
        "id": "Q-odwaTDPuRf"
      },
      "execution_count": 18,
      "outputs": []
    },
    {
      "cell_type": "markdown",
      "source": [
        "### 5.1.1 Location and Date of Review\n",
        "\n",
        "This data was all collected from the United States. This will will be stripped and the dates for reviews will be left"
      ],
      "metadata": {
        "id": "Ln0mazubrGPi"
      }
    },
    {
      "cell_type": "code",
      "source": [
        "# Extract the review dates from the Location and Date of Review Column\n",
        "word_vocabulary = ['Reviewed in the', 'United States', 'on', 'January 1, 2022']\n",
        "for word in word_vocabulary:\n",
        "    df['Location and Date of Review'] = df['Location and Date of Review'].str.replace(word, '')\n",
        "\n",
        "\n",
        "# Rename the column to Review Date\n",
        "df.rename(columns = {'Location and Date of Review': 'Review Date'}, inplace = True)\n",
        "\n",
        "# Convert the column into datetime format\n",
        "df['Review Date'] = pd.to_datetime(df['Review Date'], errors = 'coerce')"
      ],
      "metadata": {
        "id": "6TaTVKxwodgn"
      },
      "execution_count": 19,
      "outputs": []
    },
    {
      "cell_type": "markdown",
      "source": [
        "### 5.1.2. Review Title and Review \n",
        "\n",
        "Review and Review Title have some rows that are not in Egnlish. \n",
        "These rows will be dropped.\n"
      ],
      "metadata": {
        "id": "_kVybmDXc_ZO"
      }
    },
    {
      "cell_type": "code",
      "source": [
        "# Explore review title rows not in English\n",
        "df['Review Title'].iloc[7:10].to_frame()"
      ],
      "metadata": {
        "id": "GyNtS3sfaJch",
        "outputId": "a8a83396-1c01-4925-e7b9-7f7fb52f95ae",
        "colab": {
          "base_uri": "https://localhost:8080/",
          "height": 143
        }
      },
      "execution_count": 20,
      "outputs": [
        {
          "output_type": "execute_result",
          "data": {
            "text/plain": [
              "                                        Review Title\n",
              "7                                   \\nBuena Compra\\n\n",
              "8                                \\nEso no me gustó\\n\n",
              "9  \\nDemasiado básico y lento, bajo costo pero no..."
            ],
            "text/html": [
              "\n",
              "  <div id=\"df-2bbd30d6-6653-4436-9bdd-4fa97be70fd8\">\n",
              "    <div class=\"colab-df-container\">\n",
              "      <div>\n",
              "<style scoped>\n",
              "    .dataframe tbody tr th:only-of-type {\n",
              "        vertical-align: middle;\n",
              "    }\n",
              "\n",
              "    .dataframe tbody tr th {\n",
              "        vertical-align: top;\n",
              "    }\n",
              "\n",
              "    .dataframe thead th {\n",
              "        text-align: right;\n",
              "    }\n",
              "</style>\n",
              "<table border=\"1\" class=\"dataframe\">\n",
              "  <thead>\n",
              "    <tr style=\"text-align: right;\">\n",
              "      <th></th>\n",
              "      <th>Review Title</th>\n",
              "    </tr>\n",
              "  </thead>\n",
              "  <tbody>\n",
              "    <tr>\n",
              "      <th>7</th>\n",
              "      <td>\\nBuena Compra\\n</td>\n",
              "    </tr>\n",
              "    <tr>\n",
              "      <th>8</th>\n",
              "      <td>\\nEso no me gustó\\n</td>\n",
              "    </tr>\n",
              "    <tr>\n",
              "      <th>9</th>\n",
              "      <td>\\nDemasiado básico y lento, bajo costo pero no...</td>\n",
              "    </tr>\n",
              "  </tbody>\n",
              "</table>\n",
              "</div>\n",
              "      <button class=\"colab-df-convert\" onclick=\"convertToInteractive('df-2bbd30d6-6653-4436-9bdd-4fa97be70fd8')\"\n",
              "              title=\"Convert this dataframe to an interactive table.\"\n",
              "              style=\"display:none;\">\n",
              "        \n",
              "  <svg xmlns=\"http://www.w3.org/2000/svg\" height=\"24px\"viewBox=\"0 0 24 24\"\n",
              "       width=\"24px\">\n",
              "    <path d=\"M0 0h24v24H0V0z\" fill=\"none\"/>\n",
              "    <path d=\"M18.56 5.44l.94 2.06.94-2.06 2.06-.94-2.06-.94-.94-2.06-.94 2.06-2.06.94zm-11 1L8.5 8.5l.94-2.06 2.06-.94-2.06-.94L8.5 2.5l-.94 2.06-2.06.94zm10 10l.94 2.06.94-2.06 2.06-.94-2.06-.94-.94-2.06-.94 2.06-2.06.94z\"/><path d=\"M17.41 7.96l-1.37-1.37c-.4-.4-.92-.59-1.43-.59-.52 0-1.04.2-1.43.59L10.3 9.45l-7.72 7.72c-.78.78-.78 2.05 0 2.83L4 21.41c.39.39.9.59 1.41.59.51 0 1.02-.2 1.41-.59l7.78-7.78 2.81-2.81c.8-.78.8-2.07 0-2.86zM5.41 20L4 18.59l7.72-7.72 1.47 1.35L5.41 20z\"/>\n",
              "  </svg>\n",
              "      </button>\n",
              "      \n",
              "  <style>\n",
              "    .colab-df-container {\n",
              "      display:flex;\n",
              "      flex-wrap:wrap;\n",
              "      gap: 12px;\n",
              "    }\n",
              "\n",
              "    .colab-df-convert {\n",
              "      background-color: #E8F0FE;\n",
              "      border: none;\n",
              "      border-radius: 50%;\n",
              "      cursor: pointer;\n",
              "      display: none;\n",
              "      fill: #1967D2;\n",
              "      height: 32px;\n",
              "      padding: 0 0 0 0;\n",
              "      width: 32px;\n",
              "    }\n",
              "\n",
              "    .colab-df-convert:hover {\n",
              "      background-color: #E2EBFA;\n",
              "      box-shadow: 0px 1px 2px rgba(60, 64, 67, 0.3), 0px 1px 3px 1px rgba(60, 64, 67, 0.15);\n",
              "      fill: #174EA6;\n",
              "    }\n",
              "\n",
              "    [theme=dark] .colab-df-convert {\n",
              "      background-color: #3B4455;\n",
              "      fill: #D2E3FC;\n",
              "    }\n",
              "\n",
              "    [theme=dark] .colab-df-convert:hover {\n",
              "      background-color: #434B5C;\n",
              "      box-shadow: 0px 1px 3px 1px rgba(0, 0, 0, 0.15);\n",
              "      filter: drop-shadow(0px 1px 2px rgba(0, 0, 0, 0.3));\n",
              "      fill: #FFFFFF;\n",
              "    }\n",
              "  </style>\n",
              "\n",
              "      <script>\n",
              "        const buttonEl =\n",
              "          document.querySelector('#df-2bbd30d6-6653-4436-9bdd-4fa97be70fd8 button.colab-df-convert');\n",
              "        buttonEl.style.display =\n",
              "          google.colab.kernel.accessAllowed ? 'block' : 'none';\n",
              "\n",
              "        async function convertToInteractive(key) {\n",
              "          const element = document.querySelector('#df-2bbd30d6-6653-4436-9bdd-4fa97be70fd8');\n",
              "          const dataTable =\n",
              "            await google.colab.kernel.invokeFunction('convertToInteractive',\n",
              "                                                     [key], {});\n",
              "          if (!dataTable) return;\n",
              "\n",
              "          const docLinkHtml = 'Like what you see? Visit the ' +\n",
              "            '<a target=\"_blank\" href=https://colab.research.google.com/notebooks/data_table.ipynb>data table notebook</a>'\n",
              "            + ' to learn more about interactive tables.';\n",
              "          element.innerHTML = '';\n",
              "          dataTable['output_type'] = 'display_data';\n",
              "          await google.colab.output.renderOutput(dataTable, element);\n",
              "          const docLink = document.createElement('div');\n",
              "          docLink.innerHTML = docLinkHtml;\n",
              "          element.appendChild(docLink);\n",
              "        }\n",
              "      </script>\n",
              "    </div>\n",
              "  </div>\n",
              "  "
            ]
          },
          "metadata": {},
          "execution_count": 20
        }
      ]
    },
    {
      "cell_type": "code",
      "source": [
        "# Explore review rows not in English\n",
        "df['Review'].iloc[7:10].to_frame()"
      ],
      "metadata": {
        "id": "4ya8K_x5bgRh",
        "outputId": "2caed652-edf0-438b-8da2-b4fcd67143e2",
        "colab": {
          "base_uri": "https://localhost:8080/",
          "height": 143
        }
      },
      "execution_count": 21,
      "outputs": [
        {
          "output_type": "execute_result",
          "data": {
            "text/plain": [
              "                                              Review\n",
              "7  \\nTal. Como està descrito….Todo lo necesario a...\n",
              "8           \\nNo vale la pena gastar dinero en el.\\n\n",
              "9  \\nDemasiado básico y lento, bajo costo pero no..."
            ],
            "text/html": [
              "\n",
              "  <div id=\"df-6823a940-c47c-427b-bf86-92df1edc9d82\">\n",
              "    <div class=\"colab-df-container\">\n",
              "      <div>\n",
              "<style scoped>\n",
              "    .dataframe tbody tr th:only-of-type {\n",
              "        vertical-align: middle;\n",
              "    }\n",
              "\n",
              "    .dataframe tbody tr th {\n",
              "        vertical-align: top;\n",
              "    }\n",
              "\n",
              "    .dataframe thead th {\n",
              "        text-align: right;\n",
              "    }\n",
              "</style>\n",
              "<table border=\"1\" class=\"dataframe\">\n",
              "  <thead>\n",
              "    <tr style=\"text-align: right;\">\n",
              "      <th></th>\n",
              "      <th>Review</th>\n",
              "    </tr>\n",
              "  </thead>\n",
              "  <tbody>\n",
              "    <tr>\n",
              "      <th>7</th>\n",
              "      <td>\\nTal. Como està descrito….Todo lo necesario a...</td>\n",
              "    </tr>\n",
              "    <tr>\n",
              "      <th>8</th>\n",
              "      <td>\\nNo vale la pena gastar dinero en el.\\n</td>\n",
              "    </tr>\n",
              "    <tr>\n",
              "      <th>9</th>\n",
              "      <td>\\nDemasiado básico y lento, bajo costo pero no...</td>\n",
              "    </tr>\n",
              "  </tbody>\n",
              "</table>\n",
              "</div>\n",
              "      <button class=\"colab-df-convert\" onclick=\"convertToInteractive('df-6823a940-c47c-427b-bf86-92df1edc9d82')\"\n",
              "              title=\"Convert this dataframe to an interactive table.\"\n",
              "              style=\"display:none;\">\n",
              "        \n",
              "  <svg xmlns=\"http://www.w3.org/2000/svg\" height=\"24px\"viewBox=\"0 0 24 24\"\n",
              "       width=\"24px\">\n",
              "    <path d=\"M0 0h24v24H0V0z\" fill=\"none\"/>\n",
              "    <path d=\"M18.56 5.44l.94 2.06.94-2.06 2.06-.94-2.06-.94-.94-2.06-.94 2.06-2.06.94zm-11 1L8.5 8.5l.94-2.06 2.06-.94-2.06-.94L8.5 2.5l-.94 2.06-2.06.94zm10 10l.94 2.06.94-2.06 2.06-.94-2.06-.94-.94-2.06-.94 2.06-2.06.94z\"/><path d=\"M17.41 7.96l-1.37-1.37c-.4-.4-.92-.59-1.43-.59-.52 0-1.04.2-1.43.59L10.3 9.45l-7.72 7.72c-.78.78-.78 2.05 0 2.83L4 21.41c.39.39.9.59 1.41.59.51 0 1.02-.2 1.41-.59l7.78-7.78 2.81-2.81c.8-.78.8-2.07 0-2.86zM5.41 20L4 18.59l7.72-7.72 1.47 1.35L5.41 20z\"/>\n",
              "  </svg>\n",
              "      </button>\n",
              "      \n",
              "  <style>\n",
              "    .colab-df-container {\n",
              "      display:flex;\n",
              "      flex-wrap:wrap;\n",
              "      gap: 12px;\n",
              "    }\n",
              "\n",
              "    .colab-df-convert {\n",
              "      background-color: #E8F0FE;\n",
              "      border: none;\n",
              "      border-radius: 50%;\n",
              "      cursor: pointer;\n",
              "      display: none;\n",
              "      fill: #1967D2;\n",
              "      height: 32px;\n",
              "      padding: 0 0 0 0;\n",
              "      width: 32px;\n",
              "    }\n",
              "\n",
              "    .colab-df-convert:hover {\n",
              "      background-color: #E2EBFA;\n",
              "      box-shadow: 0px 1px 2px rgba(60, 64, 67, 0.3), 0px 1px 3px 1px rgba(60, 64, 67, 0.15);\n",
              "      fill: #174EA6;\n",
              "    }\n",
              "\n",
              "    [theme=dark] .colab-df-convert {\n",
              "      background-color: #3B4455;\n",
              "      fill: #D2E3FC;\n",
              "    }\n",
              "\n",
              "    [theme=dark] .colab-df-convert:hover {\n",
              "      background-color: #434B5C;\n",
              "      box-shadow: 0px 1px 3px 1px rgba(0, 0, 0, 0.15);\n",
              "      filter: drop-shadow(0px 1px 2px rgba(0, 0, 0, 0.3));\n",
              "      fill: #FFFFFF;\n",
              "    }\n",
              "  </style>\n",
              "\n",
              "      <script>\n",
              "        const buttonEl =\n",
              "          document.querySelector('#df-6823a940-c47c-427b-bf86-92df1edc9d82 button.colab-df-convert');\n",
              "        buttonEl.style.display =\n",
              "          google.colab.kernel.accessAllowed ? 'block' : 'none';\n",
              "\n",
              "        async function convertToInteractive(key) {\n",
              "          const element = document.querySelector('#df-6823a940-c47c-427b-bf86-92df1edc9d82');\n",
              "          const dataTable =\n",
              "            await google.colab.kernel.invokeFunction('convertToInteractive',\n",
              "                                                     [key], {});\n",
              "          if (!dataTable) return;\n",
              "\n",
              "          const docLinkHtml = 'Like what you see? Visit the ' +\n",
              "            '<a target=\"_blank\" href=https://colab.research.google.com/notebooks/data_table.ipynb>data table notebook</a>'\n",
              "            + ' to learn more about interactive tables.';\n",
              "          element.innerHTML = '';\n",
              "          dataTable['output_type'] = 'display_data';\n",
              "          await google.colab.output.renderOutput(dataTable, element);\n",
              "          const docLink = document.createElement('div');\n",
              "          docLink.innerHTML = docLinkHtml;\n",
              "          element.appendChild(docLink);\n",
              "        }\n",
              "      </script>\n",
              "    </div>\n",
              "  </div>\n",
              "  "
            ]
          },
          "metadata": {},
          "execution_count": 21
        }
      ]
    },
    {
      "cell_type": "code",
      "source": [
        "# Drop rows not in English\n",
        "df = df[df['Review Title'].map(lambda x: x.isascii())]\n",
        "df = df[df['Review'].map(lambda x: x.isascii())]"
      ],
      "metadata": {
        "id": "yxQJoskRLnQJ"
      },
      "execution_count": 22,
      "outputs": []
    },
    {
      "cell_type": "markdown",
      "source": [
        "### 5.1.3. Reorder columns in dataframe.\n",
        "the columns will be reordered to have reviews as the last column"
      ],
      "metadata": {
        "id": "2dNp_J-df6zD"
      }
    },
    {
      "cell_type": "code",
      "source": [
        "df = df.reindex(columns=['Product_name', 'Model_Type', 'Brand', 'Price', 'Review Date', \n",
        "                         'Rating', 'Review Title', 'Review'])"
      ],
      "metadata": {
        "id": "MBKVXbDNe7DK"
      },
      "execution_count": 23,
      "outputs": []
    },
    {
      "cell_type": "markdown",
      "source": [
        "Explore cleaned dataframe"
      ],
      "metadata": {
        "id": "TVmaGvQggIF1"
      }
    },
    {
      "cell_type": "code",
      "source": [
        "# Explore cleaned dataframe\n",
        "df.head()"
      ],
      "metadata": {
        "colab": {
          "base_uri": "https://localhost:8080/",
          "height": 206
        },
        "id": "mpis5S2uPdtJ",
        "outputId": "fb3ca766-464e-40c1-9faa-93a3ff347e22"
      },
      "execution_count": 24,
      "outputs": [
        {
          "output_type": "execute_result",
          "data": {
            "text/plain": [
              "                                        Product_name Model_Type Brand  Price  \\\n",
              "0          RCA Reno Smartphone 4G LTE 16GB Androi...  RCA Reno    RCA     69   \n",
              "2          RCA Reno Smartphone 4G LTE 16GB Androi...  RCA Reno    RCA     69   \n",
              "3          RCA Reno Smartphone 4G LTE 16GB Androi...  RCA Reno    RCA     69   \n",
              "4          RCA Reno Smartphone 4G LTE 16GB Androi...  RCA Reno    RCA     69   \n",
              "5          RCA Reno Smartphone 4G LTE 16GB Androi...  RCA Reno    RCA     69   \n",
              "\n",
              "  Review Date Rating                                       Review Title  \\\n",
              "0  2022-02-11      4  \\n.. not what ordered, not New... but it works...   \n",
              "2  2022-06-07      3               \\nWill not work on T-Mobile sysem!\\n   \n",
              "3  2022-04-14      3                          \\nA burner or for a kid\\n   \n",
              "4  2022-08-13      4                                  \\nIt works okay\\n   \n",
              "5  2022-05-10      3                                          \\nPhone\\n   \n",
              "\n",
              "                                              Review  \n",
              "0  \\nSo first off...it's not what I ordered, but ...  \n",
              "2  \\nNew phone write up indicates T-Mobile system...  \n",
              "3  \\nI use this as a burner w/o a sim card in it....  \n",
              "4                                  \\nIt works fine\\n  \n",
              "5  \\nSo far I don't like this phone at all, I thr...  "
            ],
            "text/html": [
              "\n",
              "  <div id=\"df-e82bc7ee-5149-4fc9-a46e-c7e522680554\">\n",
              "    <div class=\"colab-df-container\">\n",
              "      <div>\n",
              "<style scoped>\n",
              "    .dataframe tbody tr th:only-of-type {\n",
              "        vertical-align: middle;\n",
              "    }\n",
              "\n",
              "    .dataframe tbody tr th {\n",
              "        vertical-align: top;\n",
              "    }\n",
              "\n",
              "    .dataframe thead th {\n",
              "        text-align: right;\n",
              "    }\n",
              "</style>\n",
              "<table border=\"1\" class=\"dataframe\">\n",
              "  <thead>\n",
              "    <tr style=\"text-align: right;\">\n",
              "      <th></th>\n",
              "      <th>Product_name</th>\n",
              "      <th>Model_Type</th>\n",
              "      <th>Brand</th>\n",
              "      <th>Price</th>\n",
              "      <th>Review Date</th>\n",
              "      <th>Rating</th>\n",
              "      <th>Review Title</th>\n",
              "      <th>Review</th>\n",
              "    </tr>\n",
              "  </thead>\n",
              "  <tbody>\n",
              "    <tr>\n",
              "      <th>0</th>\n",
              "      <td>RCA Reno Smartphone 4G LTE 16GB Androi...</td>\n",
              "      <td>RCA Reno</td>\n",
              "      <td>RCA</td>\n",
              "      <td>69</td>\n",
              "      <td>2022-02-11</td>\n",
              "      <td>4</td>\n",
              "      <td>\\n.. not what ordered, not New... but it works...</td>\n",
              "      <td>\\nSo first off...it's not what I ordered, but ...</td>\n",
              "    </tr>\n",
              "    <tr>\n",
              "      <th>2</th>\n",
              "      <td>RCA Reno Smartphone 4G LTE 16GB Androi...</td>\n",
              "      <td>RCA Reno</td>\n",
              "      <td>RCA</td>\n",
              "      <td>69</td>\n",
              "      <td>2022-06-07</td>\n",
              "      <td>3</td>\n",
              "      <td>\\nWill not work on T-Mobile sysem!\\n</td>\n",
              "      <td>\\nNew phone write up indicates T-Mobile system...</td>\n",
              "    </tr>\n",
              "    <tr>\n",
              "      <th>3</th>\n",
              "      <td>RCA Reno Smartphone 4G LTE 16GB Androi...</td>\n",
              "      <td>RCA Reno</td>\n",
              "      <td>RCA</td>\n",
              "      <td>69</td>\n",
              "      <td>2022-04-14</td>\n",
              "      <td>3</td>\n",
              "      <td>\\nA burner or for a kid\\n</td>\n",
              "      <td>\\nI use this as a burner w/o a sim card in it....</td>\n",
              "    </tr>\n",
              "    <tr>\n",
              "      <th>4</th>\n",
              "      <td>RCA Reno Smartphone 4G LTE 16GB Androi...</td>\n",
              "      <td>RCA Reno</td>\n",
              "      <td>RCA</td>\n",
              "      <td>69</td>\n",
              "      <td>2022-08-13</td>\n",
              "      <td>4</td>\n",
              "      <td>\\nIt works okay\\n</td>\n",
              "      <td>\\nIt works fine\\n</td>\n",
              "    </tr>\n",
              "    <tr>\n",
              "      <th>5</th>\n",
              "      <td>RCA Reno Smartphone 4G LTE 16GB Androi...</td>\n",
              "      <td>RCA Reno</td>\n",
              "      <td>RCA</td>\n",
              "      <td>69</td>\n",
              "      <td>2022-05-10</td>\n",
              "      <td>3</td>\n",
              "      <td>\\nPhone\\n</td>\n",
              "      <td>\\nSo far I don't like this phone at all, I thr...</td>\n",
              "    </tr>\n",
              "  </tbody>\n",
              "</table>\n",
              "</div>\n",
              "      <button class=\"colab-df-convert\" onclick=\"convertToInteractive('df-e82bc7ee-5149-4fc9-a46e-c7e522680554')\"\n",
              "              title=\"Convert this dataframe to an interactive table.\"\n",
              "              style=\"display:none;\">\n",
              "        \n",
              "  <svg xmlns=\"http://www.w3.org/2000/svg\" height=\"24px\"viewBox=\"0 0 24 24\"\n",
              "       width=\"24px\">\n",
              "    <path d=\"M0 0h24v24H0V0z\" fill=\"none\"/>\n",
              "    <path d=\"M18.56 5.44l.94 2.06.94-2.06 2.06-.94-2.06-.94-.94-2.06-.94 2.06-2.06.94zm-11 1L8.5 8.5l.94-2.06 2.06-.94-2.06-.94L8.5 2.5l-.94 2.06-2.06.94zm10 10l.94 2.06.94-2.06 2.06-.94-2.06-.94-.94-2.06-.94 2.06-2.06.94z\"/><path d=\"M17.41 7.96l-1.37-1.37c-.4-.4-.92-.59-1.43-.59-.52 0-1.04.2-1.43.59L10.3 9.45l-7.72 7.72c-.78.78-.78 2.05 0 2.83L4 21.41c.39.39.9.59 1.41.59.51 0 1.02-.2 1.41-.59l7.78-7.78 2.81-2.81c.8-.78.8-2.07 0-2.86zM5.41 20L4 18.59l7.72-7.72 1.47 1.35L5.41 20z\"/>\n",
              "  </svg>\n",
              "      </button>\n",
              "      \n",
              "  <style>\n",
              "    .colab-df-container {\n",
              "      display:flex;\n",
              "      flex-wrap:wrap;\n",
              "      gap: 12px;\n",
              "    }\n",
              "\n",
              "    .colab-df-convert {\n",
              "      background-color: #E8F0FE;\n",
              "      border: none;\n",
              "      border-radius: 50%;\n",
              "      cursor: pointer;\n",
              "      display: none;\n",
              "      fill: #1967D2;\n",
              "      height: 32px;\n",
              "      padding: 0 0 0 0;\n",
              "      width: 32px;\n",
              "    }\n",
              "\n",
              "    .colab-df-convert:hover {\n",
              "      background-color: #E2EBFA;\n",
              "      box-shadow: 0px 1px 2px rgba(60, 64, 67, 0.3), 0px 1px 3px 1px rgba(60, 64, 67, 0.15);\n",
              "      fill: #174EA6;\n",
              "    }\n",
              "\n",
              "    [theme=dark] .colab-df-convert {\n",
              "      background-color: #3B4455;\n",
              "      fill: #D2E3FC;\n",
              "    }\n",
              "\n",
              "    [theme=dark] .colab-df-convert:hover {\n",
              "      background-color: #434B5C;\n",
              "      box-shadow: 0px 1px 3px 1px rgba(0, 0, 0, 0.15);\n",
              "      filter: drop-shadow(0px 1px 2px rgba(0, 0, 0, 0.3));\n",
              "      fill: #FFFFFF;\n",
              "    }\n",
              "  </style>\n",
              "\n",
              "      <script>\n",
              "        const buttonEl =\n",
              "          document.querySelector('#df-e82bc7ee-5149-4fc9-a46e-c7e522680554 button.colab-df-convert');\n",
              "        buttonEl.style.display =\n",
              "          google.colab.kernel.accessAllowed ? 'block' : 'none';\n",
              "\n",
              "        async function convertToInteractive(key) {\n",
              "          const element = document.querySelector('#df-e82bc7ee-5149-4fc9-a46e-c7e522680554');\n",
              "          const dataTable =\n",
              "            await google.colab.kernel.invokeFunction('convertToInteractive',\n",
              "                                                     [key], {});\n",
              "          if (!dataTable) return;\n",
              "\n",
              "          const docLinkHtml = 'Like what you see? Visit the ' +\n",
              "            '<a target=\"_blank\" href=https://colab.research.google.com/notebooks/data_table.ipynb>data table notebook</a>'\n",
              "            + ' to learn more about interactive tables.';\n",
              "          element.innerHTML = '';\n",
              "          dataTable['output_type'] = 'display_data';\n",
              "          await google.colab.output.renderOutput(dataTable, element);\n",
              "          const docLink = document.createElement('div');\n",
              "          docLink.innerHTML = docLinkHtml;\n",
              "          element.appendChild(docLink);\n",
              "        }\n",
              "      </script>\n",
              "    </div>\n",
              "  </div>\n",
              "  "
            ]
          },
          "metadata": {},
          "execution_count": 24
        }
      ]
    },
    {
      "cell_type": "code",
      "source": [
        "df['Review Title'] = df['Review Title'].str.strip()\n",
        "df['Review'] = df['Review'].str.strip()\n",
        "df.head()"
      ],
      "metadata": {
        "id": "GHU1BYj4bza0",
        "outputId": "92ae5182-d993-4da3-8642-29926273b024",
        "colab": {
          "base_uri": "https://localhost:8080/",
          "height": 206
        }
      },
      "execution_count": 25,
      "outputs": [
        {
          "output_type": "execute_result",
          "data": {
            "text/plain": [
              "                                        Product_name Model_Type Brand  Price  \\\n",
              "0          RCA Reno Smartphone 4G LTE 16GB Androi...  RCA Reno    RCA     69   \n",
              "2          RCA Reno Smartphone 4G LTE 16GB Androi...  RCA Reno    RCA     69   \n",
              "3          RCA Reno Smartphone 4G LTE 16GB Androi...  RCA Reno    RCA     69   \n",
              "4          RCA Reno Smartphone 4G LTE 16GB Androi...  RCA Reno    RCA     69   \n",
              "5          RCA Reno Smartphone 4G LTE 16GB Androi...  RCA Reno    RCA     69   \n",
              "\n",
              "  Review Date Rating                                       Review Title  \\\n",
              "0  2022-02-11      4  .. not what ordered, not New... but it works s...   \n",
              "2  2022-06-07      3                   Will not work on T-Mobile sysem!   \n",
              "3  2022-04-14      3                              A burner or for a kid   \n",
              "4  2022-08-13      4                                      It works okay   \n",
              "5  2022-05-10      3                                              Phone   \n",
              "\n",
              "                                              Review  \n",
              "0  So first off...it's not what I ordered, but I ...  \n",
              "2  New phone write up indicates T-Mobile system c...  \n",
              "3  I use this as a burner w/o a sim card in it. J...  \n",
              "4                                      It works fine  \n",
              "5  So far I don't like this phone at all, I threw...  "
            ],
            "text/html": [
              "\n",
              "  <div id=\"df-7624c58a-f6c8-4bd2-ab50-bd016a7dfdd0\">\n",
              "    <div class=\"colab-df-container\">\n",
              "      <div>\n",
              "<style scoped>\n",
              "    .dataframe tbody tr th:only-of-type {\n",
              "        vertical-align: middle;\n",
              "    }\n",
              "\n",
              "    .dataframe tbody tr th {\n",
              "        vertical-align: top;\n",
              "    }\n",
              "\n",
              "    .dataframe thead th {\n",
              "        text-align: right;\n",
              "    }\n",
              "</style>\n",
              "<table border=\"1\" class=\"dataframe\">\n",
              "  <thead>\n",
              "    <tr style=\"text-align: right;\">\n",
              "      <th></th>\n",
              "      <th>Product_name</th>\n",
              "      <th>Model_Type</th>\n",
              "      <th>Brand</th>\n",
              "      <th>Price</th>\n",
              "      <th>Review Date</th>\n",
              "      <th>Rating</th>\n",
              "      <th>Review Title</th>\n",
              "      <th>Review</th>\n",
              "    </tr>\n",
              "  </thead>\n",
              "  <tbody>\n",
              "    <tr>\n",
              "      <th>0</th>\n",
              "      <td>RCA Reno Smartphone 4G LTE 16GB Androi...</td>\n",
              "      <td>RCA Reno</td>\n",
              "      <td>RCA</td>\n",
              "      <td>69</td>\n",
              "      <td>2022-02-11</td>\n",
              "      <td>4</td>\n",
              "      <td>.. not what ordered, not New... but it works s...</td>\n",
              "      <td>So first off...it's not what I ordered, but I ...</td>\n",
              "    </tr>\n",
              "    <tr>\n",
              "      <th>2</th>\n",
              "      <td>RCA Reno Smartphone 4G LTE 16GB Androi...</td>\n",
              "      <td>RCA Reno</td>\n",
              "      <td>RCA</td>\n",
              "      <td>69</td>\n",
              "      <td>2022-06-07</td>\n",
              "      <td>3</td>\n",
              "      <td>Will not work on T-Mobile sysem!</td>\n",
              "      <td>New phone write up indicates T-Mobile system c...</td>\n",
              "    </tr>\n",
              "    <tr>\n",
              "      <th>3</th>\n",
              "      <td>RCA Reno Smartphone 4G LTE 16GB Androi...</td>\n",
              "      <td>RCA Reno</td>\n",
              "      <td>RCA</td>\n",
              "      <td>69</td>\n",
              "      <td>2022-04-14</td>\n",
              "      <td>3</td>\n",
              "      <td>A burner or for a kid</td>\n",
              "      <td>I use this as a burner w/o a sim card in it. J...</td>\n",
              "    </tr>\n",
              "    <tr>\n",
              "      <th>4</th>\n",
              "      <td>RCA Reno Smartphone 4G LTE 16GB Androi...</td>\n",
              "      <td>RCA Reno</td>\n",
              "      <td>RCA</td>\n",
              "      <td>69</td>\n",
              "      <td>2022-08-13</td>\n",
              "      <td>4</td>\n",
              "      <td>It works okay</td>\n",
              "      <td>It works fine</td>\n",
              "    </tr>\n",
              "    <tr>\n",
              "      <th>5</th>\n",
              "      <td>RCA Reno Smartphone 4G LTE 16GB Androi...</td>\n",
              "      <td>RCA Reno</td>\n",
              "      <td>RCA</td>\n",
              "      <td>69</td>\n",
              "      <td>2022-05-10</td>\n",
              "      <td>3</td>\n",
              "      <td>Phone</td>\n",
              "      <td>So far I don't like this phone at all, I threw...</td>\n",
              "    </tr>\n",
              "  </tbody>\n",
              "</table>\n",
              "</div>\n",
              "      <button class=\"colab-df-convert\" onclick=\"convertToInteractive('df-7624c58a-f6c8-4bd2-ab50-bd016a7dfdd0')\"\n",
              "              title=\"Convert this dataframe to an interactive table.\"\n",
              "              style=\"display:none;\">\n",
              "        \n",
              "  <svg xmlns=\"http://www.w3.org/2000/svg\" height=\"24px\"viewBox=\"0 0 24 24\"\n",
              "       width=\"24px\">\n",
              "    <path d=\"M0 0h24v24H0V0z\" fill=\"none\"/>\n",
              "    <path d=\"M18.56 5.44l.94 2.06.94-2.06 2.06-.94-2.06-.94-.94-2.06-.94 2.06-2.06.94zm-11 1L8.5 8.5l.94-2.06 2.06-.94-2.06-.94L8.5 2.5l-.94 2.06-2.06.94zm10 10l.94 2.06.94-2.06 2.06-.94-2.06-.94-.94-2.06-.94 2.06-2.06.94z\"/><path d=\"M17.41 7.96l-1.37-1.37c-.4-.4-.92-.59-1.43-.59-.52 0-1.04.2-1.43.59L10.3 9.45l-7.72 7.72c-.78.78-.78 2.05 0 2.83L4 21.41c.39.39.9.59 1.41.59.51 0 1.02-.2 1.41-.59l7.78-7.78 2.81-2.81c.8-.78.8-2.07 0-2.86zM5.41 20L4 18.59l7.72-7.72 1.47 1.35L5.41 20z\"/>\n",
              "  </svg>\n",
              "      </button>\n",
              "      \n",
              "  <style>\n",
              "    .colab-df-container {\n",
              "      display:flex;\n",
              "      flex-wrap:wrap;\n",
              "      gap: 12px;\n",
              "    }\n",
              "\n",
              "    .colab-df-convert {\n",
              "      background-color: #E8F0FE;\n",
              "      border: none;\n",
              "      border-radius: 50%;\n",
              "      cursor: pointer;\n",
              "      display: none;\n",
              "      fill: #1967D2;\n",
              "      height: 32px;\n",
              "      padding: 0 0 0 0;\n",
              "      width: 32px;\n",
              "    }\n",
              "\n",
              "    .colab-df-convert:hover {\n",
              "      background-color: #E2EBFA;\n",
              "      box-shadow: 0px 1px 2px rgba(60, 64, 67, 0.3), 0px 1px 3px 1px rgba(60, 64, 67, 0.15);\n",
              "      fill: #174EA6;\n",
              "    }\n",
              "\n",
              "    [theme=dark] .colab-df-convert {\n",
              "      background-color: #3B4455;\n",
              "      fill: #D2E3FC;\n",
              "    }\n",
              "\n",
              "    [theme=dark] .colab-df-convert:hover {\n",
              "      background-color: #434B5C;\n",
              "      box-shadow: 0px 1px 3px 1px rgba(0, 0, 0, 0.15);\n",
              "      filter: drop-shadow(0px 1px 2px rgba(0, 0, 0, 0.3));\n",
              "      fill: #FFFFFF;\n",
              "    }\n",
              "  </style>\n",
              "\n",
              "      <script>\n",
              "        const buttonEl =\n",
              "          document.querySelector('#df-7624c58a-f6c8-4bd2-ab50-bd016a7dfdd0 button.colab-df-convert');\n",
              "        buttonEl.style.display =\n",
              "          google.colab.kernel.accessAllowed ? 'block' : 'none';\n",
              "\n",
              "        async function convertToInteractive(key) {\n",
              "          const element = document.querySelector('#df-7624c58a-f6c8-4bd2-ab50-bd016a7dfdd0');\n",
              "          const dataTable =\n",
              "            await google.colab.kernel.invokeFunction('convertToInteractive',\n",
              "                                                     [key], {});\n",
              "          if (!dataTable) return;\n",
              "\n",
              "          const docLinkHtml = 'Like what you see? Visit the ' +\n",
              "            '<a target=\"_blank\" href=https://colab.research.google.com/notebooks/data_table.ipynb>data table notebook</a>'\n",
              "            + ' to learn more about interactive tables.';\n",
              "          element.innerHTML = '';\n",
              "          dataTable['output_type'] = 'display_data';\n",
              "          await google.colab.output.renderOutput(dataTable, element);\n",
              "          const docLink = document.createElement('div');\n",
              "          docLink.innerHTML = docLinkHtml;\n",
              "          element.appendChild(docLink);\n",
              "        }\n",
              "      </script>\n",
              "    </div>\n",
              "  </div>\n",
              "  "
            ]
          },
          "metadata": {},
          "execution_count": 25
        }
      ]
    },
    {
      "cell_type": "code",
      "source": [
        "# Confirming new changes have created new missing values and if yes drop them\n",
        "print(missing_data(df))\n",
        "df.dropna(inplace = True)"
      ],
      "metadata": {
        "colab": {
          "base_uri": "https://localhost:8080/"
        },
        "id": "gxWPfEHUBy1U",
        "outputId": "15acf83e-66a8-4865-b3f7-5e3f24036a93"
      },
      "execution_count": 26,
      "outputs": [
        {
          "output_type": "stream",
          "name": "stdout",
          "text": [
            "Review Date    12\n",
            "dtype: int64\n"
          ]
        }
      ]
    },
    {
      "cell_type": "code",
      "source": [
        "# Explore the shape of the cleaned dataframe\n",
        "df.shape"
      ],
      "metadata": {
        "id": "jtroqUXtcRjJ",
        "outputId": "c37fff97-c929-4e2f-9c87-bd09bf7ea3e6",
        "colab": {
          "base_uri": "https://localhost:8080/"
        }
      },
      "execution_count": 27,
      "outputs": [
        {
          "output_type": "execute_result",
          "data": {
            "text/plain": [
              "(9144, 8)"
            ]
          },
          "metadata": {},
          "execution_count": 27
        }
      ]
    },
    {
      "cell_type": "code",
      "source": [
        "# Dropping  unnecessary columns\n",
        "\n",
        "df.drop('Product_name', axis=1, inplace=True)"
      ],
      "metadata": {
        "id": "MepPP8ljQPQN"
      },
      "execution_count": 28,
      "outputs": []
    },
    {
      "cell_type": "markdown",
      "source": [
        "# 6. Exploratory Data Analysis(EDA)\n",
        "\n",
        "- Create a Pandas Profile\n",
        "- Find out the  relationship between product rating and reviews.\n",
        "- Explore the  relationship between brand and price.\n",
        "- Explore  the relationship between brand and number of reviews\n",
        "- Word cloud of most-used words in reviews.\n",
        "- Trend of reviews over the years.\n",
        "- Find out the relationship between price and product rating.\n",
        "\n",
        "\n"
      ],
      "metadata": {
        "id": "_T_okllJH8rm"
      }
    },
    {
      "cell_type": "markdown",
      "source": [
        "### 6.1 Pandas Profiling\n"
      ],
      "metadata": {
        "id": "j5BLFxqiNbL4"
      }
    },
    {
      "cell_type": "code",
      "source": [
        "import pandas_profiling\n",
        "\n",
        "from pandas_profiling import ProfileReport\n"
      ],
      "metadata": {
        "id": "1W-4xyRMLYqy"
      },
      "execution_count": 29,
      "outputs": []
    },
    {
      "cell_type": "code",
      "source": [
        "#report = ProfileReport(df, title='Pandas Profiling Report')\n",
        "#report"
      ],
      "metadata": {
        "id": "6FD8d8gfMIgG"
      },
      "execution_count": 30,
      "outputs": []
    },
    {
      "cell_type": "markdown",
      "source": [
        "The pandas profile"
      ],
      "metadata": {
        "id": "qLvPFUsMP5cl"
      }
    },
    {
      "cell_type": "code",
      "source": [
        "# report.to_file(output_file='Amazon_Pandas_profile.html')"
      ],
      "metadata": {
        "id": "CbPHPmd5M_6P"
      },
      "execution_count": 31,
      "outputs": []
    },
    {
      "cell_type": "markdown",
      "source": [
        "Summary of Profile Report:\n",
        "\n",
        "Overview\n",
        "- The dataset has 9144 rows and 9 columns, 6 of which are categorical, 1 is a date column and 2 are numerical variables.\n",
        "\n",
        "Variables\n",
        "\n",
        "- Minimum price is 1 dollar and maximum price is 799 dollars. This might show the presence of outliers that might need to be addressed later.\n",
        "- Top smartphone brands within the dataset are; Amazon Refurbished, Motorola, Blu, TLC and OnePlus.\n",
        "- The review dates range from Novemver 2014 to September 2022.\n",
        "\n",
        "- Most common words in the review column are Good, Love it, excelente, great phone and nice.\n",
        "\n",
        "- - Most common words in the review title column are great phone, good phone and good.\n",
        "\n",
        "\n",
        "Missing Values\n",
        "\n",
        "- No missing values in the dataset."
      ],
      "metadata": {
        "id": "DpMbIu__WCqI"
      }
    },
    {
      "cell_type": "markdown",
      "source": [
        "### 6.2. Relationship between ratings and reviews"
      ],
      "metadata": {
        "id": "2A_s7CmtWSPh"
      }
    },
    {
      "cell_type": "code",
      "source": [
        "# Group by relevant columns\n",
        "ratings_review = df.groupby('Rating')['Review'].count()"
      ],
      "metadata": {
        "id": "00kVht0zWDi6"
      },
      "execution_count": 45,
      "outputs": []
    },
    {
      "cell_type": "code",
      "source": [
        "# plot the data\n",
        "ax1 = ratings_review.plot(kind='bar', figsize=(15,8), color=\"green\", fontsize = 13);\n",
        "ax1.set_alpha(0.8)\n",
        "ax1.set_title('Distribution of Reviews by Product Rating', fontsize = 20)\n",
        "ax1.set_ylabel(\"Number of Reviews\", fontsize = 15);\n",
        "ax1.set_xlabel(\"Ratings\", fontsize = 15 )\n",
        "plt.show();\n"
      ],
      "metadata": {
        "id": "r1rMzE3xYMym"
      },
      "execution_count": 47,
      "outputs": []
    },
    {
      "cell_type": "markdown",
      "source": [
        "Mobile phones with higher rating receive the highest number of reviews followed by phones with the least review rating."
      ],
      "metadata": {
        "id": "aj_LEeZ6bkr9"
      }
    },
    {
      "cell_type": "markdown",
      "source": [
        "### 6.3. Brands with the highest reviews and with distribution of average prices"
      ],
      "metadata": {
        "id": "POZTRRVtb1jE"
      }
    },
    {
      "cell_type": "code",
      "source": [
        "# Group relevant columns\n",
        "brand_reviews = df.groupby('Brand')['Review'].count().sort_values(ascending = False).head(10)\n",
        "brand_prices = df.groupby('Brand')['Price'].max().sort_values(ascending = False).head(10)"
      ],
      "metadata": {
        "id": "mke5zr13cgj0"
      },
      "execution_count": 48,
      "outputs": []
    },
    {
      "cell_type": "code",
      "source": [
        "# Plot the data\n",
        "ax1 = brand_reviews.plot(kind = 'bar', figsize = (15,8), color = 'green', fontsize = 13);\n",
        "ax1.set_alpha(0.8)\n",
        "ax1.set_title('Number of Reviews by Brands', fontsize = 26)\n",
        "ax1.set_ylabel('Number of Reviews', fontsize = 20);\n",
        "ax1.set_xlabel('Brand', fontsize = 20)\n",
        "plt.show();\n",
        "\n"
      ],
      "metadata": {
        "id": "SQa-5aIddUCB"
      },
      "execution_count": 49,
      "outputs": []
    },
    {
      "cell_type": "code",
      "source": [
        "ax2 = brand_prices.plot(kind = 'bar', figsize = (15,8), color = 'green', fontsize = 13);\n",
        "ax2.set_alpha(0.8)\n",
        "ax2.set_title('Priciest Phones by Brands', fontsize = 26)\n",
        "ax2.set_ylabel('Price', fontsize = 20);\n",
        "ax2.set_xlabel('Brand', fontsize = 20)\n",
        "plt.xticks(fontsize = 18)\n",
        "plt.show();"
      ],
      "metadata": {
        "id": "LdWct8RVchaK"
      },
      "execution_count": 50,
      "outputs": []
    },
    {
      "cell_type": "markdown",
      "source": [
        "Refurbished phones have the highest number of reviews while Samsung phones have the priciest phones. Samsung is one of the top phone brands in the world and with high performance, which could explain the high prices of its models."
      ],
      "metadata": {
        "id": "XnE0A-sbCugS"
      }
    },
    {
      "cell_type": "markdown",
      "source": [
        "### 6.4. Word cloud of the most-used words in reviews."
      ],
      "metadata": {
        "id": "10pgiTbZLkQV"
      }
    },
    {
      "cell_type": "code",
      "source": [
        "# Plot a word cloud \n",
        "comment_words = ''\n",
        "stopwords = set(STOPWORDS)\n",
        " \n",
        "# iterate through the csv file\n",
        "for val in df.Review:\n",
        "     \n",
        "    # typecaste each val to string\n",
        "    val = str(val)\n",
        " \n",
        "    # split the value\n",
        "    tokens = val.split()\n",
        "     \n",
        "    # Converts each token into lowercase\n",
        "    for i in range(len(tokens)):\n",
        "        tokens[i] = tokens[i].lower()\n",
        "     \n",
        "    comment_words += \" \".join(tokens)+\" \"\n",
        " \n",
        "wordcloud = WordCloud(width = 800, height = 800,\n",
        "                background_color ='white',\n",
        "                stopwords = stopwords,\n",
        "                min_font_size = 10).generate(comment_words)\n",
        " \n",
        "# plot the WordCloud image                      \n",
        "plt.figure(figsize = (8, 8), facecolor = None)\n",
        "plt.imshow(wordcloud)\n",
        "plt.axis(\"off\")\n",
        "plt.tight_layout(pad = 0)\n",
        " \n",
        "plt.show() "
      ],
      "metadata": {
        "id": "qGdXICzYFC7_"
      },
      "execution_count": 37,
      "outputs": []
    },
    {
      "cell_type": "markdown",
      "source": [
        "good, great, battery price, issue and work are some of the words that pop up more in the reviews"
      ],
      "metadata": {
        "id": "retZ9MLuLv-X"
      }
    },
    {
      "cell_type": "markdown",
      "source": [
        "### 6.5. Trend of reviews over the years"
      ],
      "metadata": {
        "id": "U9T5Vm32DDk7"
      }
    },
    {
      "cell_type": "code",
      "source": [
        "# Create a new dataframe to use while maintaining the original\n",
        "new_df = df.copy()\n",
        "\n",
        "# Extract year from the new dataframe\n",
        "new_df['year'] = new_df['Review Date'].dt.year\n",
        "\n",
        "# Group by relevant columns\n",
        "review_date = new_df.groupby('year')['Review'].count()\n",
        "review_date = pd.DataFrame(review_date).reset_index()\n",
        "\n",
        "# plot the data\n",
        "review_date.plot.line(x = 'year', y = 'Review', color = 'green', figsize=(15, 8));\n"
      ],
      "metadata": {
        "id": "OgYcWifyr_jw"
      },
      "execution_count": 38,
      "outputs": []
    },
    {
      "cell_type": "markdown",
      "source": [
        "The rate of customer reviews took a major increase from 2020. This could be attributed to the Covid Pandemic where people spent lots of time indoors and online shopping was at an all time high."
      ],
      "metadata": {
        "id": "mH7ynHgzKm8q"
      }
    },
    {
      "cell_type": "markdown",
      "source": [
        "### 6.6. Relationship between price and Ratings"
      ],
      "metadata": {
        "id": "j57V0wdPQYqD"
      }
    },
    {
      "cell_type": "code",
      "source": [
        "# Group by relevant columns\n",
        "review_price = new_df.groupby('Price')['Rating'].count()\n",
        "review_price = pd.DataFrame(review_price).reset_index()\n",
        "\n",
        "# Plot the data\n",
        "fig, ax = plt.subplots(figsize=(15,8))\n",
        "sns.scatterplot(x = 'Price', y = 'Rating', data = review_price, color = 'green')\n",
        "plt.show()"
      ],
      "metadata": {
        "id": "rvxxPQ21MRA-"
      },
      "execution_count": 39,
      "outputs": []
    },
    {
      "cell_type": "markdown",
      "source": [],
      "metadata": {
        "id": "9MpdF_s9JvJ6"
      }
    },
    {
      "cell_type": "code",
      "source": [],
      "metadata": {
        "id": "uIpIKPQfHxZC"
      },
      "execution_count": 39,
      "outputs": []
    },
    {
      "cell_type": "code",
      "source": [],
      "metadata": {
        "id": "83TYbHB5IExj"
      },
      "execution_count": 39,
      "outputs": []
    },
    {
      "cell_type": "markdown",
      "source": [
        "# 7. Implementing the Solution"
      ],
      "metadata": {
        "id": "NJ74jj_gILmq"
      }
    },
    {
      "cell_type": "markdown",
      "source": [
        "## 7.1 Preprocessing"
      ],
      "metadata": {
        "id": "ltml7Fi0IWtU"
      }
    },
    {
      "cell_type": "markdown",
      "source": [
        "- tokenization\n",
        "- lowercasing our words\n",
        "- lemmatization/stemming\n",
        "- vectorization"
      ],
      "metadata": {
        "id": "o0uCfjjMc55O"
      }
    },
    {
      "cell_type": "markdown",
      "source": [
        "The first step will be to perform a contraction the reviews, to make sure that our words are expanded, for example, `isn't` would be expanded to `is not`"
      ],
      "metadata": {
        "id": "kUjnaFyic7pW"
      }
    },
    {
      "cell_type": "code",
      "source": [
        "# fixing contractions\n",
        "def text_contraction(text):\n",
        "  \n",
        "  # creating an empty list\n",
        "  expanded_words = []\n",
        "\n",
        "  for word in text.split():\n",
        "    # using contractions.fix to expand the shortened words\n",
        "    expanded_words.append(contractions.fix(word))  \n",
        "    \n",
        "  expanded_text = ' '.join(expanded_words)\n",
        "\n",
        "  return expanded_text"
      ],
      "metadata": {
        "id": "qea3BKHBc_xn"
      },
      "execution_count": 40,
      "outputs": []
    },
    {
      "cell_type": "code",
      "source": [
        "# apply the contraction funtion to our reviews\n",
        "\n",
        "df['Review Title'] = df['Review Title'].map(lambda x: text_contraction(x))\n",
        "df['Review'] = df['Review'].map(lambda x: text_contraction(x))\n",
        "df.head()"
      ],
      "metadata": {
        "id": "rfKpSVI9dDpY"
      },
      "execution_count": null,
      "outputs": []
    },
    {
      "cell_type": "code",
      "source": [
        "# tokenization\n",
        "\n",
        "def tokenize_words(text):\n",
        "  # grab all the punctuations\n",
        "  punctuation = string.punctuation\n",
        "\n",
        "  # lower case our string\n",
        "  # text = str([word.lower() for word in t\n",
        "  # remove the digits\n",
        "  text = re.sub('\\d', '', text)\n",
        "\n",
        "  # cretae our word tokens\n",
        "  tokens = word_tokenize(text)\n",
        "\n",
        "  # grab the stop words from stopwords.words('english)\n",
        "  stopwords_list = stopwords.words('english')\n",
        "  stopwords_list += punctuation\n",
        "\n",
        "  # remove the stop words\n",
        "  clean_list = [word.lower() for word in tokens if word.lower() not in stopwords_list]\n",
        "  \n",
        "  # return a clean tokenized set\n",
        "  return clean_list"
      ],
      "metadata": {
        "id": "7gEYfwIVdG_u"
      },
      "execution_count": 43,
      "outputs": []
    },
    {
      "cell_type": "code",
      "source": [
        "df['Review'] = df['Review'].map(lambda x: tokenize_words(x))\n",
        "df['Review Title'] = df['Review Title'].map(lambda x: tokenize_words(x))\n",
        "df.head()"
      ],
      "metadata": {
        "id": "2K6O6N7jdL66",
        "outputId": "4c691ab0-ee36-4dbe-c87d-4387eedd2a60",
        "colab": {
          "base_uri": "https://localhost:8080/",
          "height": 345
        }
      },
      "execution_count": 44,
      "outputs": [
        {
          "output_type": "error",
          "ename": "AttributeError",
          "evalue": "ignored",
          "traceback": [
            "\u001b[0;31m---------------------------------------------------------------------------\u001b[0m",
            "\u001b[0;31mAttributeError\u001b[0m                            Traceback (most recent call last)",
            "\u001b[0;32m<ipython-input-44-b4bf8152571a>\u001b[0m in \u001b[0;36m<module>\u001b[0;34m\u001b[0m\n\u001b[0;32m----> 1\u001b[0;31m \u001b[0mdf\u001b[0m\u001b[0;34m[\u001b[0m\u001b[0;34m'Review'\u001b[0m\u001b[0;34m]\u001b[0m \u001b[0;34m=\u001b[0m \u001b[0mdf\u001b[0m\u001b[0;34m[\u001b[0m\u001b[0;34m'Review'\u001b[0m\u001b[0;34m]\u001b[0m\u001b[0;34m.\u001b[0m\u001b[0mmap\u001b[0m\u001b[0;34m(\u001b[0m\u001b[0;32mlambda\u001b[0m \u001b[0mx\u001b[0m\u001b[0;34m:\u001b[0m \u001b[0mtokenize_words\u001b[0m\u001b[0;34m(\u001b[0m\u001b[0mx\u001b[0m\u001b[0;34m)\u001b[0m\u001b[0;34m)\u001b[0m\u001b[0;34m\u001b[0m\u001b[0;34m\u001b[0m\u001b[0m\n\u001b[0m\u001b[1;32m      2\u001b[0m \u001b[0mdf\u001b[0m\u001b[0;34m[\u001b[0m\u001b[0;34m'Review Title'\u001b[0m\u001b[0;34m]\u001b[0m \u001b[0;34m=\u001b[0m \u001b[0mdf\u001b[0m\u001b[0;34m[\u001b[0m\u001b[0;34m'Review Title'\u001b[0m\u001b[0;34m]\u001b[0m\u001b[0;34m.\u001b[0m\u001b[0mmap\u001b[0m\u001b[0;34m(\u001b[0m\u001b[0;32mlambda\u001b[0m \u001b[0mx\u001b[0m\u001b[0;34m:\u001b[0m \u001b[0mtokenize_words\u001b[0m\u001b[0;34m(\u001b[0m\u001b[0mx\u001b[0m\u001b[0;34m)\u001b[0m\u001b[0;34m)\u001b[0m\u001b[0;34m\u001b[0m\u001b[0;34m\u001b[0m\u001b[0m\n\u001b[1;32m      3\u001b[0m \u001b[0mdf\u001b[0m\u001b[0;34m.\u001b[0m\u001b[0mhead\u001b[0m\u001b[0;34m(\u001b[0m\u001b[0;34m)\u001b[0m\u001b[0;34m\u001b[0m\u001b[0;34m\u001b[0m\u001b[0m\n",
            "\u001b[0;32m/usr/local/lib/python3.7/dist-packages/pandas/core/series.py\u001b[0m in \u001b[0;36mmap\u001b[0;34m(self, arg, na_action)\u001b[0m\n\u001b[1;32m   4159\u001b[0m         \u001b[0mdtype\u001b[0m\u001b[0;34m:\u001b[0m \u001b[0mobject\u001b[0m\u001b[0;34m\u001b[0m\u001b[0;34m\u001b[0m\u001b[0m\n\u001b[1;32m   4160\u001b[0m         \"\"\"\n\u001b[0;32m-> 4161\u001b[0;31m         \u001b[0mnew_values\u001b[0m \u001b[0;34m=\u001b[0m \u001b[0msuper\u001b[0m\u001b[0;34m(\u001b[0m\u001b[0;34m)\u001b[0m\u001b[0;34m.\u001b[0m\u001b[0m_map_values\u001b[0m\u001b[0;34m(\u001b[0m\u001b[0marg\u001b[0m\u001b[0;34m,\u001b[0m \u001b[0mna_action\u001b[0m\u001b[0;34m=\u001b[0m\u001b[0mna_action\u001b[0m\u001b[0;34m)\u001b[0m\u001b[0;34m\u001b[0m\u001b[0;34m\u001b[0m\u001b[0m\n\u001b[0m\u001b[1;32m   4162\u001b[0m         return self._constructor(new_values, index=self.index).__finalize__(\n\u001b[1;32m   4163\u001b[0m             \u001b[0mself\u001b[0m\u001b[0;34m,\u001b[0m \u001b[0mmethod\u001b[0m\u001b[0;34m=\u001b[0m\u001b[0;34m\"map\"\u001b[0m\u001b[0;34m\u001b[0m\u001b[0;34m\u001b[0m\u001b[0m\n",
            "\u001b[0;32m/usr/local/lib/python3.7/dist-packages/pandas/core/base.py\u001b[0m in \u001b[0;36m_map_values\u001b[0;34m(self, mapper, na_action)\u001b[0m\n\u001b[1;32m    868\u001b[0m \u001b[0;34m\u001b[0m\u001b[0m\n\u001b[1;32m    869\u001b[0m         \u001b[0;31m# mapper is a function\u001b[0m\u001b[0;34m\u001b[0m\u001b[0;34m\u001b[0m\u001b[0;34m\u001b[0m\u001b[0m\n\u001b[0;32m--> 870\u001b[0;31m         \u001b[0mnew_values\u001b[0m \u001b[0;34m=\u001b[0m \u001b[0mmap_f\u001b[0m\u001b[0;34m(\u001b[0m\u001b[0mvalues\u001b[0m\u001b[0;34m,\u001b[0m \u001b[0mmapper\u001b[0m\u001b[0;34m)\u001b[0m\u001b[0;34m\u001b[0m\u001b[0;34m\u001b[0m\u001b[0m\n\u001b[0m\u001b[1;32m    871\u001b[0m \u001b[0;34m\u001b[0m\u001b[0m\n\u001b[1;32m    872\u001b[0m         \u001b[0;32mreturn\u001b[0m \u001b[0mnew_values\u001b[0m\u001b[0;34m\u001b[0m\u001b[0;34m\u001b[0m\u001b[0m\n",
            "\u001b[0;32m/usr/local/lib/python3.7/dist-packages/pandas/_libs/lib.pyx\u001b[0m in \u001b[0;36mpandas._libs.lib.map_infer\u001b[0;34m()\u001b[0m\n",
            "\u001b[0;32m<ipython-input-44-b4bf8152571a>\u001b[0m in \u001b[0;36m<lambda>\u001b[0;34m(x)\u001b[0m\n\u001b[0;32m----> 1\u001b[0;31m \u001b[0mdf\u001b[0m\u001b[0;34m[\u001b[0m\u001b[0;34m'Review'\u001b[0m\u001b[0;34m]\u001b[0m \u001b[0;34m=\u001b[0m \u001b[0mdf\u001b[0m\u001b[0;34m[\u001b[0m\u001b[0;34m'Review'\u001b[0m\u001b[0;34m]\u001b[0m\u001b[0;34m.\u001b[0m\u001b[0mmap\u001b[0m\u001b[0;34m(\u001b[0m\u001b[0;32mlambda\u001b[0m \u001b[0mx\u001b[0m\u001b[0;34m:\u001b[0m \u001b[0mtokenize_words\u001b[0m\u001b[0;34m(\u001b[0m\u001b[0mx\u001b[0m\u001b[0;34m)\u001b[0m\u001b[0;34m)\u001b[0m\u001b[0;34m\u001b[0m\u001b[0;34m\u001b[0m\u001b[0m\n\u001b[0m\u001b[1;32m      2\u001b[0m \u001b[0mdf\u001b[0m\u001b[0;34m[\u001b[0m\u001b[0;34m'Review Title'\u001b[0m\u001b[0;34m]\u001b[0m \u001b[0;34m=\u001b[0m \u001b[0mdf\u001b[0m\u001b[0;34m[\u001b[0m\u001b[0;34m'Review Title'\u001b[0m\u001b[0;34m]\u001b[0m\u001b[0;34m.\u001b[0m\u001b[0mmap\u001b[0m\u001b[0;34m(\u001b[0m\u001b[0;32mlambda\u001b[0m \u001b[0mx\u001b[0m\u001b[0;34m:\u001b[0m \u001b[0mtokenize_words\u001b[0m\u001b[0;34m(\u001b[0m\u001b[0mx\u001b[0m\u001b[0;34m)\u001b[0m\u001b[0;34m)\u001b[0m\u001b[0;34m\u001b[0m\u001b[0;34m\u001b[0m\u001b[0m\n\u001b[1;32m      3\u001b[0m \u001b[0mdf\u001b[0m\u001b[0;34m.\u001b[0m\u001b[0mhead\u001b[0m\u001b[0;34m(\u001b[0m\u001b[0;34m)\u001b[0m\u001b[0;34m\u001b[0m\u001b[0;34m\u001b[0m\u001b[0m\n",
            "\u001b[0;32m<ipython-input-43-50cf9fe38286>\u001b[0m in \u001b[0;36mtokenize_words\u001b[0;34m(text)\u001b[0m\n\u001b[1;32m     14\u001b[0m \u001b[0;34m\u001b[0m\u001b[0m\n\u001b[1;32m     15\u001b[0m   \u001b[0;31m# grab the stop words from stopwords.words('english)\u001b[0m\u001b[0;34m\u001b[0m\u001b[0;34m\u001b[0m\u001b[0;34m\u001b[0m\u001b[0m\n\u001b[0;32m---> 16\u001b[0;31m   \u001b[0mstopwords_list\u001b[0m \u001b[0;34m=\u001b[0m \u001b[0mstopwords\u001b[0m\u001b[0;34m.\u001b[0m\u001b[0mwords\u001b[0m\u001b[0;34m(\u001b[0m\u001b[0;34m'english'\u001b[0m\u001b[0;34m)\u001b[0m\u001b[0;34m\u001b[0m\u001b[0;34m\u001b[0m\u001b[0m\n\u001b[0m\u001b[1;32m     17\u001b[0m   \u001b[0mstopwords_list\u001b[0m \u001b[0;34m+=\u001b[0m \u001b[0mpunctuation\u001b[0m\u001b[0;34m\u001b[0m\u001b[0;34m\u001b[0m\u001b[0m\n\u001b[1;32m     18\u001b[0m \u001b[0;34m\u001b[0m\u001b[0m\n",
            "\u001b[0;31mAttributeError\u001b[0m: 'set' object has no attribute 'words'"
          ]
        }
      ]
    },
    {
      "cell_type": "markdown",
      "source": [
        "After tokenization, lemmatization is done to decompose the words to their most basic forms(lemma), but before that, tagging the words is done to ensure that the lemmatization gets the parts of speech represented by the words correctly."
      ],
      "metadata": {
        "id": "Ele5Qsl-dkHq"
      }
    },
    {
      "cell_type": "markdown",
      "source": [],
      "metadata": {
        "id": "bc9ylMnUdgaH"
      }
    },
    {
      "cell_type": "code",
      "source": [
        "# create a function that takes in the nltk POS tags\n",
        "# and transforms them to wordnet tags\n",
        "def wordnet_pos(word_tag):\n",
        "    '''\n",
        "    Translate nltk POS to wordnet tags\n",
        "    '''\n",
        "    if word_tag.startswith('J'):\n",
        "        return wordnet.ADJ\n",
        "    elif word_tag.startswith('V'):\n",
        "        return wordnet.VERB\n",
        "    elif word_tag.startswith('N'):\n",
        "        return wordnet.NOUN\n",
        "    elif word_tag.startswith('R'):\n",
        "        return wordnet.ADV\n",
        "    else:\n",
        "        return wordnet.NOUN"
      ],
      "metadata": {
        "id": "vsRJArrndPcl"
      },
      "execution_count": null,
      "outputs": []
    },
    {
      "cell_type": "code",
      "source": [
        "# check to see how the word tag performs\n",
        "sentence = df[\"Review\"][0]\n",
        "pos_tag(sentence)"
      ],
      "metadata": {
        "id": "Ettq5ApzdTU9"
      },
      "execution_count": null,
      "outputs": []
    },
    {
      "cell_type": "markdown",
      "source": [
        "# 8. Challenging the Solution"
      ],
      "metadata": {
        "id": "ncUjOkJ4Ifs6"
      }
    },
    {
      "cell_type": "code",
      "source": [],
      "metadata": {
        "id": "uW3PdEYeIVls"
      },
      "execution_count": null,
      "outputs": []
    },
    {
      "cell_type": "markdown",
      "source": [
        "# 9. Conclusions"
      ],
      "metadata": {
        "id": "BDyCYr39Ikd7"
      }
    },
    {
      "cell_type": "code",
      "source": [],
      "metadata": {
        "id": "iGKpu0pAImjP"
      },
      "execution_count": null,
      "outputs": []
    },
    {
      "cell_type": "markdown",
      "source": [
        "# 10. Recommendations"
      ],
      "metadata": {
        "id": "G_X-N5lfInDJ"
      }
    },
    {
      "cell_type": "code",
      "source": [],
      "metadata": {
        "id": "pwZgFDXuIplR"
      },
      "execution_count": null,
      "outputs": []
    }
  ]
}